{
 "cells": [
  {
   "cell_type": "markdown",
   "id": "24f7993d",
   "metadata": {},
   "source": [
    "# Molecular mass\n",
    "Inspiring yourself from the unique_atom_list exercise, create a function that reads a string and return the molecular mass by using the molecular mass dictionary provided:"
   ]
  },
  {
   "cell_type": "code",
   "execution_count": 1,
   "id": "39cb83ec",
   "metadata": {},
   "outputs": [],
   "source": [
    "molar_mass = {'H' : 1.008,'He' : 4.003, 'Li' : 6.941, 'Be' : 9.012,\\\n",
    "             'B' : 10.811, 'C' : 12.011, 'N' : 14.007, 'O' : 15.999,\\\n",
    "             'F' : 18.998, 'Ne' : 20.180, 'Na' : 22.990, 'Mg' : 24.305,\\\n",
    "             'Al' : 26.982, 'Si' : 28.086, 'P' : 30.974, 'S' : 32.066,\\\n",
    "             'Cl' : 35.453, 'Ar' : 39.948, 'K' : 39.098, 'Ca' : 40.078,\\\n",
    "             'Sc' : 44.956, 'Ti' : 47.867, 'V' : 50.942, 'Cr' : 51.996,\\\n",
    "             'Mn' : 54.938, 'Fe' : 55.845, 'Co' : 58.933, 'Ni' : 58.693,\\\n",
    "             'Cu' : 63.546, 'Zn' : 65.38, 'Ga' : 69.723, 'Ge' : 72.631,\\\n",
    "             'As' : 74.922, 'Se' : 78.971, 'Br' : 79.904, 'Kr' : 84.798,\\\n",
    "             'Rb' : 84.468, 'Sr' : 87.62, 'Y' : 88.906, 'Zr' : 91.224,\\\n",
    "             'Nb' : 92.906, 'Mo' : 95.95, 'Tc' : 98.907, 'Ru' : 101.07,\\\n",
    "             'Rh' : 102.906, 'Pd' : 106.42, 'Ag' : 107.868, 'Cd' : 112.414,\\\n",
    "             'In' : 114.818, 'Sn' : 118.711, 'Sb' : 121.760, 'Te' : 126.7,\\\n",
    "             'I' : 126.904, 'Xe' : 131.294, 'Cs' : 132.905, 'Ba' : 137.328,\\\n",
    "             'La' : 138.905, 'Ce' : 140.116, 'Pr' : 140.908, 'Nd' : 144.243,\\\n",
    "             'Pm' : 144.913, 'Sm' : 150.36, 'Eu' : 151.964, 'Gd' : 157.25,\\\n",
    "             'Tb' : 158.925, 'Dy': 162.500, 'Ho' : 164.930, 'Er' : 167.259,\\\n",
    "             'Tm' : 168.934, 'Yb' : 173.055, 'Lu' : 174.967, 'Hf' : 178.49,\\\n",
    "             'Ta' : 180.948, 'W' : 183.84, 'Re' : 186.207, 'Os' : 190.23,\\\n",
    "             'Ir' : 192.217, 'Pt' : 195.085, 'Au' : 196.967, 'Hg' : 200.592,\\\n",
    "             'Tl' : 204.383, 'Pb' : 207.2, 'Bi' : 208.980, 'Po' : 208.982,\\\n",
    "             'At' : 209.987, 'Rn' : 222.081, 'Fr' : 223.020, 'Ra' : 226.025,\\\n",
    "             'Ac' : 227.028, 'Th' : 232.038, 'Pa' : 231.036, 'U' : 238.029,\\\n",
    "             'Np' : 237, 'Pu' : 244, 'AM' : 243, 'Cm' : 247, 'Bk' : 247,\\\n",
    "             'Ct' : 251, 'Es' : 252, 'FM' : 257, 'Md' : 258, 'No' : 259,\\\n",
    "             'Lr' : 262, 'Rf' : 261, 'DB' : 262, 'Sg' : 266, 'Bh' : 264,\\\n",
    "             'Hs' : 269, 'Mt' : 268, 'DS' : 271, 'Rg' : 272, 'Cn' : 285,\\\n",
    "             'Nh' : 284, 'Fl' : 289, 'MC' : 288, 'Lv' : 292, 'Ts' : 294,\\\n",
    "             'Og' : 294}\n",
    "### BEGIN SOLUTION\n",
    "def mass_of(string):\n",
    "    n_chars = len(string)\n",
    "    total_mass = 0\n",
    "    for i, atom in enumerate(string):\n",
    "        if atom.isupper():\n",
    "            j = i+1\n",
    "            if j < n_chars and string[j].islower():\n",
    "                atom += string[j]\n",
    "                j += 1\n",
    "            \n",
    "            mass = molar_mass[atom]\n",
    "            # Get the number of atoms\n",
    "            number = \"\"\n",
    "            while j < n_chars and string[j].isnumeric():\n",
    "                number += string[j]\n",
    "                j += 1\n",
    "            if len(number)>0:\n",
    "                number = int(number)\n",
    "            else:\n",
    "                number = 1\n",
    "            total_mass += number * mass\n",
    "    return total_mass\n",
    "### END SOLUTION"
   ]
  },
  {
   "cell_type": "code",
   "execution_count": 2,
   "id": "c086cb8c",
   "metadata": {},
   "outputs": [],
   "source": [
    "O2 = \"O2\"\n",
    "assert abs(mass_of(O2) - 31.998) < 1.0e-4\n",
    "NaCl = \"NaCl\"\n",
    "assert abs(mass_of(NaCl) - 58.443) < 1.0e-4\n",
    "glucose = \"C6H12O6\"\n",
    "assert abs(mass_of(glucose) - 180.156) < 1.0e-4\n",
    "hemoglobin = \"C2952H4464N3248O812S8Fe4\"\n",
    "assert abs(mass_of(hemoglobin) - 98922.016) < 1.0e-4"
   ]
  },
  {
   "cell_type": "code",
   "execution_count": null,
   "id": "7f6b1be0",
   "metadata": {},
   "outputs": [],
   "source": []
  }
 ],
 "metadata": {
  "kernelspec": {
   "display_name": "Python 3 (ipykernel)",
   "language": "python",
   "name": "python3"
  },
  "language_info": {
   "codemirror_mode": {
    "name": "ipython",
    "version": 3
   },
   "file_extension": ".py",
   "mimetype": "text/x-python",
   "name": "python",
   "nbconvert_exporter": "python",
   "pygments_lexer": "ipython3",
   "version": "3.9.13"
  }
 },
 "nbformat": 4,
 "nbformat_minor": 5
}
