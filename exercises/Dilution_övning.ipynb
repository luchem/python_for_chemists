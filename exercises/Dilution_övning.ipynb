{
 "cells": [
  {
   "cell_type": "markdown",
   "id": "c96260c0",
   "metadata": {},
   "source": [
    "# Utspädning\n",
    "\n",
    "Det är ganska vanligt att vi behöver göra spädningar inom kemi. Om man gör det sällan kan det vara svårt att komma ihåg receptet. I denna övningen så tittar vi på hur Python kan användas för att snabbt och lätt hitta rätt recept för en önskad spädning. Vi antar att vi har två lösningar (A och B) men olika koncentrationer $c_A$ och $c_B$ i (i t.ex. M=mol/L), samt en viss mängd/volym av dessa givet av $V_A^{\\rm Tot}$ och $V_B^{\\rm Tot}$ (i t.ex. L). Anta nu att vi vill skapa en ny lösning med koncentration $c_S$ (\"s\" för slut) i mängden $V_s$.\n",
    "\n",
    "Efter lite matematik finner vi att vi ska ta $V_A$ av lösning \"A\" och $V_B(=V_s-V_A$) av lösning \"B\" där $V_A$ ges utav:\n",
    "\n",
    "$V_A = V_s*(c_s-c_B)/(c_A-c_B)$\n",
    "\n",
    "Vanligtvis så brukar en av dessa (t.ex. $c_B$ vara noll), vilket förenklar uttrycket ytterligare. ($V_A = V_s \\cdot \\frac{c_s}{c_A}$ eller $\\frac{V_A}{V_S}=\\frac{c_S}{c_A}$). Notera att det finns en del gränser, t.ex. så kan inte $V_A$ vara större än $V_A^{\\rm Tot}$ då vi inte har tillräckligt mängd lösning för att spädda. Samma sak gäller naturligtvis lösning \"B\".\n",
    "\n"
   ]
  },
  {
   "cell_type": "code",
   "execution_count": 117,
   "id": "c3aa4865",
   "metadata": {},
   "outputs": [
    {
     "name": "stdout",
     "output_type": "stream",
     "text": [
      "Total mängt i slutet:  0.1 mol\n",
      "För spädning till 0.01 M och 10.0 L behövs 9.0 L av lösning A (med koncentration 0.0 M)\n"
     ]
    }
   ],
   "source": [
    "# Vi börjar med att importera numpy-biblioteket\n",
    "import numpy as np\n",
    "import math\n",
    "\n",
    "VA = 100 # L\n",
    "VB = 100 # L\n",
    "cA = 0.0 # M\n",
    "cB = 0.1 # M\n",
    "\n",
    "VS = 10. # L\n",
    "cS = 0.01 # M\n",
    "\n",
    "# Mängden ges enkelt av N=c*V\n",
    "NS = VS*cS\n",
    "\n",
    "print(\"Total mängt i slutet: \",NS,\"mol\")\n",
    "\n",
    "# Generella uttrycket, går in med c1,c2,cf,vf\n",
    "def dilution(c1,c2,cf,vf):\n",
    "    if c1==c2:\n",
    "        print(\"Problem, vi kan inte späda då lösningarna har samma koncentrationer\")\n",
    "        return math.nan\n",
    "    return vf*(cf-c2)/(c1-c2)\n",
    "\n",
    "\n",
    "print(\"För spädning till\",cS,\"M och\", VS, \"L behövs\",dilution(cA,cB,cS,VS),\"L av lösning A (med koncentration\",cA, \"M)\")"
   ]
  },
  {
   "cell_type": "markdown",
   "id": "a2bb929e",
   "metadata": {},
   "source": [
    "# Uppgift 1\n",
    "Skriv ut även hur mycket du behöver av lösning B och dess koncentration"
   ]
  },
  {
   "cell_type": "markdown",
   "id": "c05e72fd",
   "metadata": {},
   "source": [
    "# Testa gränserna\n",
    "I ovanstående fall så kollade vi aldrig om vi hade tillräckligt med volym av lösning A och B fån början med."
   ]
  },
  {
   "cell_type": "code",
   "execution_count": 113,
   "id": "237b2627",
   "metadata": {},
   "outputs": [
    {
     "name": "stdout",
     "output_type": "stream",
     "text": [
      "Problem! Inte tillräckligt med volym av lösning A\n"
     ]
    }
   ],
   "source": [
    "def dilution_check_bounds(c1,c2,cf,vf,v1,v2):\n",
    "    if c1==c2:\n",
    "        print(\"Problem! Vi kan inte späda då lösningarna har samma koncentrationer\")\n",
    "        return math.nan\n",
    "    v1i = vf*(cf-c2)/(c1-c2)\n",
    "    if v1i>v1:\n",
    "        print(\"Problem! Inte tillräckligt med volym av lösning A\")\n",
    "        return math.nan\n",
    "    return v1i\n",
    "\n",
    "VA = 1 # L\n",
    "VB = 1 # L\n",
    "cA = 0.0 # M\n",
    "cB = 0.1 # M\n",
    "\n",
    "VS = 10. # L\n",
    "cS = 0.01 # M\n",
    "v1f = dilution_check_bounds(cA,cB,cS,VS,VA,VB)\n",
    "if math.isnan(v1f)==False:\n",
    "  print(v1f)"
   ]
  },
  {
   "cell_type": "markdown",
   "id": "74b0a531",
   "metadata": {},
   "source": [
    "# Uppgift 2\n",
    "Ovanstående kollar endast volymen för lösning A. Komplettera ovanstående för att även göra en kontroll av lösning B. Verifera att din kod fungerar."
   ]
  },
  {
   "cell_type": "markdown",
   "id": "3a37dd50",
   "metadata": {},
   "source": [
    "# Upprepade spädningar\n",
    "Om man behöver spädda mycket så gör oftast det mätkärlen det opraktiskt, där man måste använda en micropippet för den ena lösningen medan en mätkolv för den andra. I vissa fall är mändgen av den ena lösningen så liten att kärlets osäkerhet (ges oftast på kärlet) börjar spela en roll. I detta fallet brukar man göra flera spädningar på varandra. Nedan finns två metoder. En vilket göra det i ett antal steg som är likvärdiga varandra i mängd. Det andra försöker göra den i tiopotenser för att sedan göra en slutspädning.\n"
   ]
  },
  {
   "cell_type": "code",
   "execution_count": 114,
   "id": "1b7cdaff",
   "metadata": {
    "scrolled": true
   },
   "outputs": [
    {
     "name": "stdout",
     "output_type": "stream",
     "text": [
      "VAI,VBI,VS,cI: 2.23606797749979 7.76393202250021 10.0 0.0223606797749979\n",
      "VAII,VBII,cII: 2.2360679774997894 7.76393202250021 10.0 0.005\n"
     ]
    }
   ],
   "source": [
    "def dilution_check_bounds_twosteps(c1,c2,cf,vf,v1,v2):\n",
    "    if c1==c2:\n",
    "        print(\"Problem! Vi kan inte späda då lösningarna har samma koncentrationer\")\n",
    "        return math.nan\n",
    "    v1i = vf*math.sqrt((cf-c2)/(c1-c2))\n",
    "    if v1i>v1:\n",
    "        print(\"Problem! Inte tillräckligt med volym av lösning A\")\n",
    "        return math.nan\n",
    "    return v1i\n",
    "\n",
    "\n",
    "VA = 100 # L\n",
    "VB = 100 # L\n",
    "cA = 0.1 # M\n",
    "cB = 0.0 # M\n",
    "\n",
    "VS = 10. # L\n",
    "cS = 0.005 # M\n",
    "\n",
    "# Första spädningen\n",
    "VAI = dilution_check_bounds_twosteps(cA,cB,cS,VS,VA,VB)\n",
    "VBI = VS-VAI\n",
    "cI = (cA*VAI+cB*VBI)/VS\n",
    "print(\"VAI,VBI,VS,cI:\",VAI,VBI,VS,cI)\n",
    "\n",
    "VAII = dilution_check_bounds(cI,cB,cS,VS,VS,VB-VBI)\n",
    "VBII = VS-VAII\n",
    "cII = (cI*VAII+cB*VBII)/VS\n",
    "print(\"VAII,VBII,cII:\",VAII,VBII,VS,cII)\n"
   ]
  },
  {
   "cell_type": "markdown",
   "id": "6fde1c60",
   "metadata": {},
   "source": [
    "# Uppgift 3\n",
    "Läs ovanstående koden och förklara vad den gör. Lägg till kommenterer och text i print-kommandona så att det blir lättare att förstå vad koden gör"
   ]
  },
  {
   "cell_type": "markdown",
   "id": "0a303781",
   "metadata": {},
   "source": [
    "# Uppgift 4\n",
    "Går det att generalisera denna till N antal spädningar?"
   ]
  },
  {
   "cell_type": "code",
   "execution_count": null,
   "id": "ff9c39c7",
   "metadata": {},
   "outputs": [],
   "source": []
  },
  {
   "cell_type": "markdown",
   "id": "f622cc4b",
   "metadata": {},
   "source": [
    "# Uppgift 5\n",
    "Späd i tiopotenser. Vanligtvis så vill man späda i tiopotenser (de mellan lösningarna kan användas som en bas till andra spädningar) och sedan göra en restspädning. Förklara vad nedanstående kod gör.\n",
    "Lägg till kommentare och förklarande text i koden (t.ex. i print-kommandona)"
   ]
  },
  {
   "cell_type": "code",
   "execution_count": 115,
   "id": "31b80f07",
   "metadata": {},
   "outputs": [
    {
     "name": "stdout",
     "output_type": "stream",
     "text": [
      "ci: 0.010000000000000002\n",
      "ci: 0.001\n",
      "n 2\n",
      "r 0.30102999566398125\n",
      "0.0005\n",
      "v1f,vf2: 1.0 9.0\n",
      "v1f,vf2: 1.0 9.0\n",
      "v1ff,vff2: 5.0 5.0\n"
     ]
    }
   ],
   "source": [
    "def dilution_check_bounds_tenfactors(c1,c2,cf,vf,v1,v2):\n",
    "    if c1==c2:\n",
    "        print(\"OBS! Samma koncentrationer, kan inte spädda!!!\")\n",
    "        return math.nan\n",
    "    n = int(-math.log10(cf/c1))\n",
    "    r = -math.log10(cf/c1)%1.\n",
    "    ci=np.power(10.,-n)*c1\n",
    "    for i in range(0,n):\n",
    "      ci=np.power(10.,-(i+1))*c1\n",
    "      print(\"ci:\",ci)\n",
    "    print(\"n\",n)\n",
    "    print(\"r\",r)    \n",
    "    if n!=0:\n",
    "        v1i = vf*np.power((ci-c2)/(c1-c2),1./float(n))\n",
    "    else:\n",
    "        v1i = vf*(ci-c2)/(c1-c2) \n",
    "    v1ii = vf*(cf-c2)/(ci-c2)\n",
    "    if v1i>v1:\n",
    "        print(\"OBS! Inte tillräckligt med volume 1\")\n",
    "        return math.nan,math.nan,n,r\n",
    "    if (vf-v1i)*n+vf-v1ii>v2:\n",
    "        print(\"OBS! Inte tillräckligt med volume 2\")\n",
    "        print(\"Önskad, Tillgänglig:\",(vf-v1i)*n+vf-v1ii,v2)\n",
    "        return math.nan,math.nan,n,r\n",
    "    cii = (ci*v1ii+c2*(vf-v1ii))/vf\n",
    "    print(cii)\n",
    "    \n",
    "    return v1i,v1ii,n,r\n",
    "\n",
    "\n",
    "VA = 100 # L\n",
    "VB = 100 # L\n",
    "cA = 0.1 # M\n",
    "cB = 0.0 # M\n",
    "\n",
    "VS = 10. # L\n",
    "cS = 0.0005 # M\n",
    "\n",
    "\n",
    "v1f,v1ff,n,r = dilution_check_bounds_tenfactors(cA,cB,cS,VS,VA,VB)\n",
    "v2f = VS-v1f\n",
    "v2ff = VS-v1ff\n",
    "#vf1ff = dilution_check_bounds_twosteps(C_1,C_2,C_F,V_F,V_1,V_2)\n",
    "for i in range(0,n):\n",
    "      print(\"v1f,vf2:\",v1f,v2f)\n",
    "if(r!=0):\n",
    "      print(\"v1ff,vff2:\",v1ff,v2ff)"
   ]
  },
  {
   "cell_type": "markdown",
   "id": "1944352c",
   "metadata": {},
   "source": [
    "# Uppgift: Homeopati\n",
    "\n",
    "Hur många gånger kan vi späda innan vi statistiskts sätt har mindre än en ursprungsmolekyl i en lösning?"
   ]
  },
  {
   "cell_type": "code",
   "execution_count": null,
   "id": "e82223c9",
   "metadata": {},
   "outputs": [],
   "source": []
  }
 ],
 "metadata": {
  "kernelspec": {
   "display_name": "Python 3 (ipykernel)",
   "language": "python",
   "name": "python3"
  },
  "language_info": {
   "codemirror_mode": {
    "name": "ipython",
    "version": 3
   },
   "file_extension": ".py",
   "mimetype": "text/x-python",
   "name": "python",
   "nbconvert_exporter": "python",
   "pygments_lexer": "ipython3",
   "version": "3.10.9"
  }
 },
 "nbformat": 4,
 "nbformat_minor": 5
}
