{
 "cells": [
  {
   "cell_type": "code",
   "execution_count": null,
   "id": "5c64a2cd",
   "metadata": {},
   "outputs": [],
   "source": [
    "import matplotlib\n",
    "import matplotlib.pyplot as plt\n",
    "import numpy as np\n",
    "from scipy.optimize import curve_fit"
   ]
  },
  {
   "cell_type": "code",
   "execution_count": null,
   "id": "b09816d4",
   "metadata": {},
   "outputs": [],
   "source": [
    "C = 1.\n",
    "k=0.2\n",
    "dt = 0.01\n",
    "T=3000\n",
    "Cr = []\n",
    "Er = []\n",
    "t = []\n",
    "tr = []\n",
    "Err = []\n",
    "Cr.append(C)\n",
    "Er.append(0)\n",
    "Err.append(0)\n",
    "t.append(0)\n",
    "tr.append(0)\n",
    "#print(0,C)\n",
    "for i in range(0,T):\n",
    "    C = C*(1.-k*dt)\n",
    "#    print((i+1)*dt,C)\n",
    "#    E = 0.1*(np.random.random()-0.5)\n",
    "    E = np.random.normal(0,0.05)\n",
    "    Et = np.random.normal(0,0.02)\n",
    "#    Cr.append(C*(1.+E)) # Här simulerar vi experimentellt \"brus\"\n",
    "    Cr.append(C+E) # Här simulerar vi experimentellt \"brus\"\n",
    "    Er.append(abs(E))\n",
    "    Err.append(E)\n",
    "    t.append((i+1)*dt+Et)\n",
    "    tr.append(Et)\n",
    "    \n",
    "#print(Cr)\n",
    "t=np.asarray(t)\n",
    "#Cr=np.asarray(Cr)\n",
    "#Er=np.asarray(Er)"
   ]
  },
  {
   "cell_type": "code",
   "execution_count": null,
   "id": "322c0aa2",
   "metadata": {},
   "outputs": [],
   "source": [
    "plt.plot(t,Cr,ls='',marker='o',markevery=40)\n",
    "t0 = np.linspace(0,30,1000)\n",
    "plt.plot(t0,np.exp(-k*t0),ls=':',c='r')\n",
    "plt.show()"
   ]
  },
  {
   "cell_type": "code",
   "execution_count": null,
   "id": "34f35d9f",
   "metadata": {},
   "outputs": [],
   "source": [
    "def f(t,A,kappa):\n",
    "    return A*np.exp(-kappa*t)\n",
    "\n",
    "popt, pcov = curve_fit(f,t,Cr)\n",
    "print(\"A, kappa:\",popt)\n",
    "plt.plot(t,Cr,ls='',marker='o',markevery=40)\n",
    "t0 = np.linspace(0,30,1000)\n",
    "plt.plot(t0,np.exp(-k*t0),ls=':',c='r')\n",
    "plt.plot(t0,f(t0,*popt),ls='-.',c='g',lw=4)\n",
    "plt.show()"
   ]
  },
  {
   "cell_type": "code",
   "execution_count": null,
   "id": "7c5380b1",
   "metadata": {},
   "outputs": [],
   "source": []
  }
 ],
 "metadata": {
  "kernelspec": {
   "display_name": "Python 3 (ipykernel)",
   "language": "python",
   "name": "python3"
  },
  "language_info": {
   "codemirror_mode": {
    "name": "ipython",
    "version": 3
   },
   "file_extension": ".py",
   "mimetype": "text/x-python",
   "name": "python",
   "nbconvert_exporter": "python",
   "pygments_lexer": "ipython3",
   "version": "3.10.9"
  }
 },
 "nbformat": 4,
 "nbformat_minor": 5
}
