{
 "cells": [
  {
   "cell_type": "markdown",
   "id": "4336644e",
   "metadata": {},
   "source": [
    "# Numpy-arrayer\n",
    "\n",
    "## Introduktion\n",
    "\n",
    "Hittills har vi använt listor för att manipulera serier av nummer (till exempel x och y för en graf). För att manipulera numren i dessa listor har vi behövt använda loopar.\n",
    "\n",
    "Som exempel har vi extraherat data för UV-vis-spektrumet för en vattenmolekyl för att rita en graf:"
   ]
  },
  {
   "cell_type": "code",
   "execution_count": null,
   "id": "6502ce11",
   "metadata": {},
   "outputs": [],
   "source": [
    "import matplotlib.pyplot as plt\n",
    "\n",
    "# Läs data från en fil\n",
    "energies = []\n",
    "intensities = []\n",
    "with open('water_spectrum.txt') as f:\n",
    "    lines = f.read().splitlines()\n",
    "    for line in lines:\n",
    "        x,y = line.split(\",\")\n",
    "        energies.append(float(x))\n",
    "        intensities.append(float(y))\n",
    "\n",
    "plt.figure()\n",
    "plt.plot(energies, intensities)\n",
    "plt.xlabel(\"Wavenumber (cm-1)\")\n",
    "plt.ylabel(\"Intensity (arb. units)\")\n",
    "plt.show()"
   ]
  },
  {
   "cell_type": "markdown",
   "id": "319f49e2",
   "metadata": {},
   "source": [
    "**Övning:** Nu vill vi ändra enheterna från cm$^{-1}$ till eV (1 cm$^{-1}$ = 0,00012398 eV). Skriv en kod för att göra detta och rita resultatet:"
   ]
  },
  {
   "cell_type": "code",
   "execution_count": null,
   "id": "14922c42",
   "metadata": {
    "deletable": false,
    "nbgrader": {
     "cell_type": "code",
     "checksum": "cac7a263f1c7d068dc67219996d61d94",
     "grade": false,
     "grade_id": "cell-68e59db4a988198b",
     "locked": false,
     "schema_version": 3,
     "solution": true,
     "task": false
    }
   },
   "outputs": [],
   "source": [
    "### BEGIN SOLUTION\n",
    "### Fixa '???'\n",
    "energies_ev = []\n",
    "for ene in energies:\n",
    "    energies_ev.append(ene???)\n",
    "\n",
    "plt.figure()\n",
    "plt.plot(???)\n",
    "plt.xlabel(\"Energy (eV)\")\n",
    "plt.ylabel(\"Intensity (arb. units)\")\n",
    "plt.show()\n",
    "### END SOLUTION"
   ]
  },
  {
   "cell_type": "markdown",
   "id": "c76a0609",
   "metadata": {},
   "source": [
    "Det skulle ha varit frestande att helt enkelt multiplicera hela listan med konverteringskonstanten. Men listor är inte begränsade till bara nummer, och på grund av detta är deras inbyggda funktioner inte optimala för nummer. Kom ihåg till exempel vad som händer när du multiplicerar en lista med 2:"
   ]
  },
  {
   "cell_type": "code",
   "execution_count": null,
   "id": "ffda6308",
   "metadata": {},
   "outputs": [],
   "source": [
    "mylist = [0, 1, 2, 3, 4, 5]\n",
    "print(mylist*2)"
   ]
  },
  {
   "cell_type": "markdown",
   "id": "1ef14129",
   "metadata": {},
   "source": [
    "Detta är inte alls vad vi ville ha, men det är meningsfullt i listornas logik som en samling av objekt. Du har faktiskt duplicerat den samlingen.\n",
    "\n",
    "Som tur är finns det ett bibliotek i python som är speciellt utformat för att hantera listor av nummer: numpy. Som för alla bibliotek behöver det importeras först. På grund av hur användbart det är, ges det ofta ett kortare namn \"np\"."
   ]
  },
  {
   "cell_type": "code",
   "execution_count": null,
   "id": "94b8a13f",
   "metadata": {},
   "outputs": [],
   "source": [
    "import numpy as np"
   ]
  },
  {
   "cell_type": "markdown",
   "id": "cd88c2f7",
   "metadata": {},
   "source": [
    "Nu kan vi gå tillbaka till vårt ursprungliga problem. Vi kan skapa en numpy array från en pythonlista:"
   ]
  },
  {
   "cell_type": "code",
   "execution_count": null,
   "id": "22d4bcf9",
   "metadata": {},
   "outputs": [],
   "source": [
    "myarray = np.array(mylist)\n",
    "print(myarray)"
   ]
  },
  {
   "cell_type": "markdown",
   "id": "561c1551",
   "metadata": {},
   "source": [
    "Numpy-arrayer har flera viktiga skillnader jämfört med python-listor. De kan bara innehålla en enda variabeltyp (ingen blandad data) och har en fast längd. Det innebär att det, till skillnad från python-listor, är svårt att ändra storleken på dem. Internt, när en numpy-array ändrar storlek, måste python i stället skapa en kopia.\n",
    "\n",
    "Å andra sidan är de lättare att manipulera i numerisk kontext, och ofta kan vi helt undvika loopar. Särskilt addition och multiplikation beter sig mycket annorlunda:"
   ]
  },
  {
   "cell_type": "code",
   "execution_count": null,
   "id": "228d4566",
   "metadata": {},
   "outputs": [],
   "source": [
    "print(myarray * 2)\n",
    "print(myarray / 3)\n",
    "print(myarray + 1)"
   ]
  },
  {
   "cell_type": "markdown",
   "id": "f5ea3937",
   "metadata": {},
   "source": [
    "**Övning:** Gör om konverteringen av spektret, men använd nu en numpy-array (observera att matplotlib kan läsa både numpy-arrayer och python-listor)."
   ]
  },
  {
   "cell_type": "code",
   "execution_count": null,
   "id": "98c85958",
   "metadata": {
    "deletable": false,
    "nbgrader": {
     "cell_type": "code",
     "checksum": "e460f41306147941e479897d62ba802a",
     "grade": false,
     "grade_id": "cell-1d7ea634d836520d",
     "locked": false,
     "schema_version": 3,
     "solution": true,
     "task": false
    }
   },
   "outputs": [],
   "source": [
    "### BEGIN SOLUTION\n",
    "### Fixa '???'\n",
    "np_energies_ev = ???\n",
    "np_intensities = ???\n",
    "\n",
    "plt.figure()\n",
    "plt.plot(np_energies_ev, np_intensities)\n",
    "plt.xlabel(\"Energy (eV)\")\n",
    "plt.ylabel(\"Intensity (arb. units)\")\n",
    "plt.show()\n",
    "### END SOLUTION"
   ]
  },
  {
   "cell_type": "markdown",
   "id": "07ff57fb",
   "metadata": {},
   "source": [
    "## Skapa numpy-arrayer\n",
    "\n",
    "Det finns flera sätt att skapa numpy-arrayer. Det första är att omvandla befintliga python-objekt, som vi redan har sett:"
   ]
  },
  {
   "cell_type": "code",
   "execution_count": null,
   "id": "f8bf1804",
   "metadata": {},
   "outputs": [],
   "source": [
    "print(np.array([0,1,2,3,4,5]))\n",
    "print(np.array((0,1,2,3,4,5)))\n",
    "print(np.array(range(6)))"
   ]
  },
  {
   "cell_type": "markdown",
   "id": "fb8f9ae0",
   "metadata": {},
   "source": [
    "Men det finns också inbyggda funktioner i numpy för att skapa specifika array:er:"
   ]
  },
  {
   "cell_type": "code",
   "execution_count": null,
   "id": "0879e7c2",
   "metadata": {},
   "outputs": [],
   "source": [
    "print(np.zeros(10))  # en numpy-array med nollor av längd 10\n",
    "print(np.ones(10))  # en numpy-array med ettor av längd 10\n",
    "print(np.arange(10))  # en numpy-variant av range\n",
    "print(np.arange(0, 10, 0.5))  # fungerar också med icke-heltalssteg\n",
    "print(np.linspace(0, 10, 21))  # 21 jämnt fördelade tal mellan 0 och 10\n",
    "print(np.random.rand(10))  # 10 slumpmässiga tal (som standard mellan 0 och 1)"
   ]
  },
  {
   "cell_type": "markdown",
   "id": "000bddd7",
   "metadata": {},
   "source": [
    "Till skillnad från listor kan numpy-arrayer bara innehålla element av samma typ. När en numpy-array skapas från en python-lista väljer den datatypen som passar allt. Du kan kontrollera datatypen för arrayen med egenskapen \"dtype\"."
   ]
  },
  {
   "cell_type": "code",
   "execution_count": null,
   "id": "50e5a72e",
   "metadata": {},
   "outputs": [],
   "source": [
    "# Från heltal -> heltal\n",
    "a = np.array([0, 1, 2])\n",
    "print(\"från heltal:\", a.dtype)\n",
    "\n",
    "# Från flyttal -> flyttal\n",
    "a = np.array([0.0, 1.0, 2.0])\n",
    "print(\"från flyttal:\", a.dtype)\n",
    "\n",
    "# Från blandning av heltal och flyttal -> flyttal (mer generellt)\n",
    "a = np.array([0, 1.0, 2])\n",
    "print(\"från blandning heltal-flyttal:\", a.dtype)\n",
    "\n",
    "# Från booleans -> booleans\n",
    "a = np.array([True, False, True])\n",
    "print(\"från booleans:\", a.dtype)\n",
    "\n",
    "# Från blandning av heltal och booleans -> heltal (True betraktas som 1, False som 0)\n",
    "a = np.array([True, False, 2])\n",
    "print(\"från blandning:\", a.dtype, \"a =\", a)\n",
    "\n",
    "# Från strängar och tal -> strängar\n",
    "a = np.array([\"Hej\", \"världen\", 1, 2])\n",
    "print(\"från strängar och tal: a =\", a)"
   ]
  },
  {
   "cell_type": "markdown",
   "id": "732e6cae",
   "metadata": {},
   "source": [
    "Du kan tvinga datatypen för arrayen genom att ange den eller konvertera den i efterhand."
   ]
  },
  {
   "cell_type": "code",
   "execution_count": null,
   "id": "858aa52f",
   "metadata": {},
   "outputs": [],
   "source": [
    "array1 = np.array(range(10))\n",
    "print(array1)\n",
    "\n",
    "# Begär en float-array\n",
    "array2 = np.array(range(10), dtype=float)\n",
    "print(array2)\n",
    "\n",
    "# Konvertera array1 till float\n",
    "array3 = array1.astype(float)\n",
    "print(array3)\n",
    "\n",
    "# Att utföra matematik kommer också att fungera\n",
    "array4 = array1 * 1.0\n",
    "print(array4)"
   ]
  },
  {
   "cell_type": "markdown",
   "id": "2734389a",
   "metadata": {},
   "source": [
    "Som tidigare förklarat rekommenderas det inte att ändra storleken på numpy-arrayer, eftersom det är ineffektivt för koden. Det är dock möjligt om det behövs."
   ]
  },
  {
   "cell_type": "code",
   "execution_count": null,
   "id": "030dbf63",
   "metadata": {},
   "outputs": [],
   "source": [
    "a = np.arange(10)\n",
    "print(a)\n",
    "print(np.append(a, 10))"
   ]
  },
  {
   "cell_type": "markdown",
   "id": "28d135f8",
   "metadata": {},
   "source": [
    "# Åtkomst av numpy-arrayer\n",
    "\n",
    "På många sätt beter sig numpy-arrayer som listor:"
   ]
  },
  {
   "cell_type": "code",
   "execution_count": null,
   "id": "8dd0a5e8",
   "metadata": {},
   "outputs": [],
   "source": [
    "a = np.arange(0, 5, 0.5)\n",
    "print(a)\n",
    "\n",
    "# Mäta längd\n",
    "print(\"Antal element i a:\",len(a))\n",
    "\n",
    "# Åtkomst med []\n",
    "print(\"Element 2 är:\",a[2])\n",
    "\n",
    "# Kan loopas igenom\n",
    "print(\"Listan över element är:\")\n",
    "for ax in a:\n",
    "    print(ax)"
   ]
  },
  {
   "cell_type": "markdown",
   "id": "f3a31142",
   "metadata": {},
   "source": [
    "# Operationer\n",
    "\n",
    "Vi har sett hur numpy-arrayer beter sig med addition och multiplikation, men det finns många fler operationer som kan göras, på liknande sätt som med vanliga tal."
   ]
  },
  {
   "cell_type": "code",
   "execution_count": null,
   "id": "359ccea7",
   "metadata": {},
   "outputs": [],
   "source": [
    "a = np.arange(0, 5, 0.5)\n",
    "print(\"a       =\", a)\n",
    "print(\"a mod 2 =\", a%2)\n",
    "print(\"a^2     =\", a**2)\n",
    "print(\"sqrt(a) =\", np.sqrt(a))\n",
    "print(\"cos(a)  =\", np.cos(a))"
   ]
  },
  {
   "cell_type": "markdown",
   "id": "0bf1eb21",
   "metadata": {},
   "source": [
    "Numpy innehåller också funktioner för att hitta minsta och största värdet samt medelvärdet av en array."
   ]
  },
  {
   "cell_type": "code",
   "execution_count": null,
   "id": "6efb46e7",
   "metadata": {},
   "outputs": [],
   "source": [
    "a = np.array([0,-2.0, 1.2, 3.5, 4.0, -0.5])\n",
    "print(\"Min-värdet av a är\",np.min(a), \"och är element nummer\", np.argmin(a))\n",
    "print(\"Max-värdet av a är\",np.max(a), \"och är element nummer\", np.argmax(a))\n",
    "print(\"Medelvärdet av a är\",np.mean(a))\n",
    "print(\"Sorterad a:\", np.sort(a), \"med element:\", np.argsort(a))"
   ]
  },
  {
   "cell_type": "markdown",
   "id": "47fb19d6",
   "metadata": {},
   "source": [
    "**Övning:** Använd min/max-funktionerna för att omvandla y-axeln så att maxvärdet i spektret blir 1."
   ]
  },
  {
   "cell_type": "code",
   "execution_count": null,
   "id": "76588c3b",
   "metadata": {
    "deletable": false,
    "nbgrader": {
     "cell_type": "code",
     "checksum": "283d9df58272fc6d3dd07ff94cb6d4e7",
     "grade": false,
     "grade_id": "cell-13838b3a991b8e68",
     "locked": false,
     "schema_version": 3,
     "solution": true,
     "task": false
    }
   },
   "outputs": [],
   "source": [
    "# YOUR CODE HERE\n",
    "# HINT \n",
    "int_max = ???\n",
    "np_intensities = ??? /int_max\n",
    "\n",
    "...\n",
    "\n",
    "raise NotImplementedError()"
   ]
  },
  {
   "cell_type": "markdown",
   "id": "c26ae155",
   "metadata": {},
   "source": [
    "**Övning** Låt oss prova igen den kombinerade sorteringen vi gjorde i \"insamling\"-föreläsning med numpy:"
   ]
  },
  {
   "cell_type": "code",
   "execution_count": null,
   "id": "9479f881",
   "metadata": {
    "deletable": false,
    "nbgrader": {
     "cell_type": "code",
     "checksum": "134e4bb55d49b9ce7cea028f93a81961",
     "grade": false,
     "grade_id": "cell-663ca5b2d60d17ce",
     "locked": false,
     "schema_version": 3,
     "solution": true,
     "task": false
    },
    "tags": []
   },
   "outputs": [],
   "source": [
    "syror = np.array([\"Mjölksyra\", \"Oxalsyra\", \"Ättiksyra\", \"Kolsyra\", \"Bensoesyra\", \"Citronsyra\", \"Myrsyra\"])\n",
    "pKa_lista = np.array([3.86, 1.23, 4.75, 6.37, 4.19, 3.08, 3.75])\n",
    "# YOUR CODE HERE\n",
    "# HINT: använd np.argsort()\n",
    "...\n",
    "pKa_lista = ???\n",
    "syror = ???\n",
    "\n",
    "raise NotImplementedError()"
   ]
  },
  {
   "cell_type": "code",
   "execution_count": null,
   "id": "9407ab54",
   "metadata": {},
   "outputs": [],
   "source": [
    "assert list(syror) == ['Oxalsyra', 'Citronsyra', 'Myrsyra', 'Mjölksyra', 'Bensoesyra', 'Ättiksyra', 'Kolsyra']\n",
    "assert list(pKa_lista) == [1.23, 3.08, 3.75, 3.86, 4.19, 4.75, 6.37]"
   ]
  },
  {
   "cell_type": "markdown",
   "id": "19b4f508",
   "metadata": {},
   "source": [
    "# Högre dimensioner (matris)\n",
    "\n",
    "Även om det kanske inte är lika användbart för en vanlig kemist är det också möjligt att använda numpy-arrayer med mer än 1 dimension, till exempel tabeller/matriser med siffror (2D). Detta kan vara mycket kraftfullt för linjär algebra exempelvis."
   ]
  },
  {
   "cell_type": "code",
   "execution_count": null,
   "id": "3a1a9f54",
   "metadata": {},
   "outputs": [],
   "source": [
    "print(np.array([[0, 1],[2,3]]))\n",
    "print(np.zeros( (10,10) ))\n",
    "print(np.identity(5))"
   ]
  },
  {
   "cell_type": "markdown",
   "id": "bdcf63be",
   "metadata": {},
   "source": [
    "För att komma åt ett specifikt element behöver du nu använda 2 index inom hakparenteserna `A[i,j]`. Om du bara anger ett index returnerar numpy hela raden. Det betyder att du också kan få ett element som `A[i][j]`."
   ]
  },
  {
   "cell_type": "code",
   "execution_count": null,
   "id": "937bd2d4",
   "metadata": {},
   "outputs": [],
   "source": [
    "A = np.array([[0, 1],[2,3], [4,5], [6,7]])\n",
    "print(A)\n",
    "print(A[2,0])\n",
    "print(A[2])\n",
    "print(A[2][0])"
   ]
  },
  {
   "cell_type": "markdown",
   "id": "2cfb7184",
   "metadata": {},
   "source": [
    "Eftersom numpy-arrayer kan ha mycket olika former finns det också inbyggda funktioner för att hitta arrayens form."
   ]
  },
  {
   "cell_type": "code",
   "execution_count": null,
   "id": "e707bfe6",
   "metadata": {},
   "outputs": [],
   "source": [
    "print(len(A)) # detta ger bara längden på den första dimensionen (antalet rader)\n",
    "print(A.shape) # detta ger både längd och bredd som en tuple"
   ]
  },
  {
   "cell_type": "markdown",
   "id": "0cb1d342",
   "metadata": {},
   "source": [
    "Med hjälp av detta kan du skapa arrayer med samma form som en annan array."
   ]
  },
  {
   "cell_type": "code",
   "execution_count": null,
   "id": "28af2bd7",
   "metadata": {},
   "outputs": [],
   "source": [
    "print(np.zeros(A.shape))\n",
    "print(np.zeros_like(A)) #Alternativ formulering men den här gången kontrolleras även vilken typ av element som finns i A (här heltal)"
   ]
  },
  {
   "cell_type": "markdown",
   "id": "a2b60aad",
   "metadata": {},
   "source": [
    "# Slicing\n",
    "\n",
    "Precis som för listor eller strängar är det möjligt att skiva numpy-arrayer:"
   ]
  },
  {
   "cell_type": "code",
   "execution_count": null,
   "id": "f0b6c5a5",
   "metadata": {},
   "outputs": [],
   "source": [
    "a = np.arange(0, 10, 0.5)\n",
    "print(a[:5])\n",
    "print(a[15:])\n",
    "print(a[10:15])\n",
    "print(a[-6:-1])"
   ]
  },
  {
   "cell_type": "markdown",
   "id": "4129425e",
   "metadata": {},
   "source": [
    "Det är också möjligt att ta en lista av element:"
   ]
  },
  {
   "cell_type": "code",
   "execution_count": null,
   "id": "788c514e",
   "metadata": {},
   "outputs": [],
   "source": [
    "indices = [0, 2, 5]\n",
    "print(a[indices])"
   ]
  },
  {
   "cell_type": "markdown",
   "id": "17929a8c",
   "metadata": {},
   "source": [
    "**Övning:** Använd detta för att ta bort den del av vattenspektret som motsvarar 0-5 eV (ungefär de första 25 punkterna)."
   ]
  },
  {
   "cell_type": "code",
   "execution_count": null,
   "id": "98c6a880",
   "metadata": {
    "deletable": false,
    "nbgrader": {
     "cell_type": "code",
     "checksum": "2c95fc002c980799f4ad19e0ba3b2055",
     "grade": false,
     "grade_id": "cell-562b14a84a70fabb",
     "locked": false,
     "schema_version": 3,
     "solution": true,
     "task": false
    }
   },
   "outputs": [],
   "source": [
    "### BEGIN SOLUTION\n",
    "plt.figure()\n",
    "plt.plot( ??? , ???)\n",
    "plt.xlabel(\"Energy (eV)\")\n",
    "plt.ylabel(\"Intensity (arb. units)\")\n",
    "plt.show()\n",
    "### END SOLUTION"
   ]
  },
  {
   "cell_type": "markdown",
   "id": "01c1c02f",
   "metadata": {},
   "source": [
    "Numpy-arrayer kan också skivas med hjälp av villkor:"
   ]
  },
  {
   "cell_type": "code",
   "execution_count": null,
   "id": "54fb693a",
   "metadata": {},
   "outputs": [],
   "source": [
    "plt.figure()\n",
    "plt.plot(np_energies_ev[np_energies_ev>5], np_intensities[np_energies_ev>5])\n",
    "plt.xlabel(\"Energy (eV)\")\n",
    "plt.ylabel(\"Intensity (arb. units)\")\n",
    "plt.show()"
   ]
  },
  {
   "cell_type": "markdown",
   "id": "0e7e0114",
   "metadata": {},
   "source": [
    "Villkoret i sig blir en boolesk numpy-array som används som en \"mask\":"
   ]
  },
  {
   "cell_type": "code",
   "execution_count": null,
   "id": "c0ddb0c5",
   "metadata": {},
   "outputs": [],
   "source": [
    "print(np_energies_ev>5)"
   ]
  },
  {
   "cell_type": "markdown",
   "id": "3c88eb9d",
   "metadata": {},
   "source": [
    "# Interpolation/Fitting\n",
    "\n",
    "Utöver att erbjuda ett bekvämt format och en uppsättning funktioner för att manipulera listor med siffror, erbjuder numpy (liksom det relaterade biblioteket scipy) många funktioner för att utföra dataanalys, särskilt interpolation och anpassning.\n",
    "\n",
    "Låt oss börja med interpolation, som kan vara användbart till exempel för att skapa snyggare kurvor från begränsade data."
   ]
  },
  {
   "cell_type": "code",
   "execution_count": null,
   "id": "ed7f2d14",
   "metadata": {},
   "outputs": [],
   "source": [
    "from scipy import interpolate\n",
    "\n",
    "f = interpolate.interp1d(np_energies_ev, np_intensities, kind = \"cubic\") #Kubisk interpolation\n",
    "\n",
    "new_energies = np.linspace(5,20,300) #300 punkter för ökad upplösning\n",
    "\n",
    "fig,ax=plt.subplots(figsize=(6,6))\n",
    "plt.plot(np_energies_ev[np_energies_ev>5], np_intensities[np_energies_ev>5], label = \"original\")\n",
    "plt.plot(new_energies, f(new_energies), label = \"interpolated\")\n",
    "plt.xlabel(\"Energy (eV)\")\n",
    "plt.ylabel(\"Intensity (arb. units)\")\n",
    "plt.legend()\n",
    "plt.tight_layout()\n",
    "axin = fig.add_axes([0.2, 0.4, 0.3, 0.5])\n",
    "plt.plot(np_energies_ev[np_energies_ev>5], np_intensities[np_energies_ev>5], label = \"original\")\n",
    "plt.plot(new_energies, f(new_energies), label = \"interpolated\")\n",
    "plt.xlim([14.8,16])\n",
    "plt.show()"
   ]
  },
  {
   "cell_type": "markdown",
   "id": "053d0861",
   "metadata": {},
   "source": [
    "Interpolation i praktiken innebär att passa in en kurva lokalt till ett polynom. Det kan dock vara mycket känsligt för brus.\n",
    "\n",
    "Ofta vill vi passa in våra data i en analytisk funktion inte för att göra en figur snyggare, utan för att bestämma några fria parametrar i teorin. I dessa fall känner vi till formen (formeln) som vi förväntar oss att kurvorna ska ha, men vi saknar de fysikaliska parametrarna (reaktionshastighetskonstant, exciteringsenergi, NMR-skift, etc...), och genom att göra passningen kan vi hitta parametrarna och därmed få insikt i det kemiska problemet.\n",
    "\n",
    "Numpy och scipy har flera funktioner för att göra detta. Ett av de enklare och mer flexibla alternativen är \"curve_fit\" i scipy. Eftersom vårt spektrum tydligt består av flera toppar kan vi försöka fokusera på en i taget. Låt oss försöka anpassa toppen mellan 18 eV och 20 eV:"
   ]
  },
  {
   "cell_type": "code",
   "execution_count": null,
   "id": "326302c4",
   "metadata": {},
   "outputs": [],
   "source": [
    "topp_x = np_energies_ev[np_energies_ev>18]\n",
    "topp_y = np_intensities[np_energies_ev>18]\n",
    "\n",
    "plt.figure()\n",
    "plt.plot(topp_x, topp_y, label = \"Topp\")\n",
    "plt.plot(new_energies[new_energies>18], f(new_energies[new_energies>18]), label = \"interpolated\")\n",
    "plt.xlabel(\"Energy (eV)\")\n",
    "plt.ylabel(\"Intensity (arb. units)\")\n",
    "plt.legend()\n",
    "plt.show()"
   ]
  },
  {
   "cell_type": "markdown",
   "id": "52ad64a3",
   "metadata": {},
   "source": [
    "För att använda curve_fit behöver du definiera en funktion som beskriver den kurva du vill anpassa till data. Denna funktion ska ha parametrar som ska anpassas och ta in x-värden som argument. Funktionen ska returnera y-värdena för den anpassade kurvan baserat på de givna x-värdena och de anpassade parametrarna.\n",
    "\n",
    "Här vi provar med en gaussisk funktion:"
   ]
  },
  {
   "cell_type": "code",
   "execution_count": null,
   "id": "70b66816",
   "metadata": {},
   "outputs": [],
   "source": [
    "from scipy.optimize import curve_fit\n",
    "\n",
    "def gauss(x,A,kappa, x0):\n",
    "    return A*np.exp(-kappa*(x-x0)**2)\n",
    "\n",
    "# Gör en initial gissning\n",
    "p0=[1,1,19.0]\n",
    "\n",
    "# Optimera\n",
    "popt,pcov = curve_fit(gauss, xdata=topp_x, ydata=topp_y,p0=p0)\n",
    "\n",
    "A_opt, k_opt, x0_opt = popt\n",
    "print(\"Optimala parametrar:\",A_opt, k_opt, x0_opt)\n",
    "\n",
    "tät_x = np.linspace(18,21,50)\n",
    "\n",
    "plt.figure()\n",
    "plt.plot(topp_x, topp_y, label = \"Spe\")\n",
    "plt.plot(tät_x, gauss(tät_x, A_opt, k_opt, x0_opt) , label = \"Fit\")\n",
    "plt.xlabel(\"Energy (eV)\")\n",
    "plt.ylabel(\"Intensity (arb. units)\")\n",
    "plt.legend()\n",
    "plt.show()"
   ]
  },
  {
   "cell_type": "markdown",
   "id": "e3ecd309",
   "metadata": {},
   "source": [
    "Nu kan vi prova med hela spektrumet. Vi ska begränsa oss till bara 2 funktioner:"
   ]
  },
  {
   "cell_type": "code",
   "execution_count": null,
   "id": "a6337f91",
   "metadata": {},
   "outputs": [],
   "source": [
    "def gauss2(x,A1,kappa1, x01, A2,kappa2, x02):\n",
    "    return A1*np.exp(-kappa1*(x-x01)**2) + A2*np.exp(-kappa2*(x-x02)**2)\n",
    "\n",
    "# Gör en initial gissning\n",
    "p0=[1,1,19.0, 1,1,15.0]\n",
    "\n",
    "# Optimera\n",
    "popt,pcov = curve_fit(gauss2, xdata=np_energies_ev, ydata=np_intensities,p0=p0)\n",
    "\n",
    "A1_opt, k1_opt, x01_opt, A2_opt, k2_opt, x02_opt = popt\n",
    "print(\"Optimala parametrar:\", A1_opt, k1_opt, x01_opt, A2_opt, k2_opt, x02_opt)\n",
    "                     \n",
    "plt.figure()\n",
    "plt.plot(np_energies_ev, np_intensities, label = \"Original\")\n",
    "plt.plot(new_energies, gauss2(new_energies, A1_opt, k1_opt, x01_opt, A2_opt, k2_opt, x02_opt) , label = \"Fit\")\n",
    "plt.xlabel(\"Energy (eV)\")\n",
    "plt.ylabel(\"Intensity (arb. units)\")\n",
    "plt.legend()\n",
    "plt.show()"
   ]
  },
  {
   "cell_type": "markdown",
   "id": "69f870a7",
   "metadata": {},
   "source": [
    "Notera att anpassning beror på vilken startpunkt vi anger:"
   ]
  },
  {
   "cell_type": "code",
   "execution_count": null,
   "id": "57a1e1f0",
   "metadata": {},
   "outputs": [],
   "source": [
    "# En annan initial gissning\n",
    "p0=[1,1,10.0, 1,1,12.0]\n",
    "\n",
    "# Optimera\n",
    "popt,pcov = curve_fit(gauss2, xdata=np_energies_ev, ydata=np_intensities,p0=p0)\n",
    "\n",
    "A1_opt, k1_opt, x01_opt, A2_opt, k2_opt, x02_opt = popt\n",
    "print(\"Optimala parametrar:\", A1_opt, k1_opt, x01_opt, A2_opt, k2_opt, x02_opt)\n",
    "                     \n",
    "plt.figure()\n",
    "plt.plot(np_energies_ev, np_intensities, label = \"Original\")\n",
    "plt.plot(new_energies, gauss2(new_energies, A1_opt, k1_opt, x01_opt, A2_opt, k2_opt, x02_opt) , label = \"Fit\")\n",
    "plt.xlabel(\"Energy (eV)\")\n",
    "plt.ylabel(\"Intensity (arb. units)\")\n",
    "plt.legend()\n",
    "plt.show()"
   ]
  },
  {
   "cell_type": "markdown",
   "id": "3add592f",
   "metadata": {},
   "source": [
    "Och det är absolute möjligt att få problem om man börjar med en \"dålig\" startpunkt:"
   ]
  },
  {
   "cell_type": "code",
   "execution_count": null,
   "id": "b6c9e47b",
   "metadata": {},
   "outputs": [],
   "source": [
    "# En annan initial gissning\n",
    "p0=[1,1,10.0, 1,1,10.0]\n",
    "\n",
    "# Optimera\n",
    "popt,pcov = curve_fit(gauss2, xdata=np_energies_ev, ydata=np_intensities,p0=p0)\n",
    "\n",
    "A1_opt, k1_opt, x01_opt, A2_opt, k2_opt, x02_opt = popt\n",
    "print(\"Optimala parametrar:\", A1_opt, k1_opt, x01_opt, A2_opt, k2_opt, x02_opt)\n",
    "                     \n",
    "plt.figure()\n",
    "plt.plot(np_energies_ev, np_intensities, label = \"Original\")\n",
    "plt.plot(new_energies, gauss2(new_energies, A1_opt, k1_opt, x01_opt, A2_opt, k2_opt, x02_opt) , label = \"Fit\")\n",
    "plt.xlabel(\"Energy (eV)\")\n",
    "plt.ylabel(\"Intensity (arb. units)\")\n",
    "plt.legend()\n",
    "plt.show()"
   ]
  },
  {
   "cell_type": "code",
   "execution_count": null,
   "id": "bc247b77",
   "metadata": {},
   "outputs": [],
   "source": [
    "# En annan initial gissning\n",
    "p0=[1,1,0.0, 1,1,1]\n",
    "\n",
    "# Optimera\n",
    "popt,pcov = curve_fit(gauss2, xdata=np_energies_ev, ydata=np_intensities,p0=p0)\n",
    "\n",
    "A1_opt, k1_opt, x01_opt, A2_opt, k2_opt, x02_opt = popt\n",
    "print(\"Optimala parametrar:\", A1_opt, k1_opt, x01_opt, A2_opt, k2_opt, x02_opt)\n",
    "                     \n",
    "plt.figure()\n",
    "plt.plot(np_energies_ev, np_intensities, label = \"Original\")\n",
    "plt.plot(new_energies, gauss2(new_energies, A1_opt, k1_opt, x01_opt, A2_opt, k2_opt, x02_opt) , label = \"Fit\")\n",
    "plt.xlabel(\"Energy (eV)\")\n",
    "plt.ylabel(\"Intensity (arb. units)\")\n",
    "plt.legend()\n",
    "plt.show()"
   ]
  },
  {
   "cell_type": "markdown",
   "id": "2e96b331",
   "metadata": {},
   "source": [
    "Naturligtvis ju fler parametrar och desto svårare blir anpassningen och desto känsligare blir den till startpunkten."
   ]
  },
  {
   "cell_type": "markdown",
   "id": "9a47f3ec",
   "metadata": {},
   "source": [
    "**Övning:** Här återkommer vi till data som vi skapade i föreläsning 4. Först, plotta Cr mot tiden t. Sen prova anpassning med\n",
    "* lineär funktion\n",
    "* kvadratisk funktion\n",
    "* exponential funktion, är avklingningsvärdet vad det borde vara?"
   ]
  },
  {
   "cell_type": "code",
   "execution_count": null,
   "id": "2bdaade0",
   "metadata": {},
   "outputs": [],
   "source": [
    "import random\n",
    "C = 1.\n",
    "k=0.2\n",
    "dt = 0.01\n",
    "T=3000\n",
    "Cr = []\n",
    "t = []\n",
    "Cr.append(C)\n",
    "t.append(0)\n",
    "for i in range(0,T):\n",
    "    C = C*(1.-k*dt)\n",
    "    Cr.append(C+random.gauss(0.0,0.05)) # Här simulerar vi experimentellt \"brus\"\n",
    "    t.append((i+1)*dt)"
   ]
  },
  {
   "cell_type": "code",
   "execution_count": null,
   "id": "1a88a57e",
   "metadata": {
    "deletable": false,
    "nbgrader": {
     "cell_type": "code",
     "checksum": "a6418fed9ab3b26b822cb944b9ecaaca",
     "grade": false,
     "grade_id": "cell-181a51b72a5b3eaa",
     "locked": false,
     "schema_version": 3,
     "solution": true,
     "task": false
    },
    "tags": []
   },
   "outputs": [],
   "source": [
    "### BEGIN SOLUTION\n",
    "### Fixa '???'\n",
    "plt.plot(???,???,ls='',marker='o',markevery=40)\n",
    "t0 = np.linspace(0,30,1000)\n",
    "plt.plot(t0,np.exp(-k*t0),ls=':',c='r')\n",
    "plt.show()\n",
    "### END SOLUTION"
   ]
  },
  {
   "cell_type": "code",
   "execution_count": null,
   "id": "810557b0",
   "metadata": {
    "deletable": false,
    "nbgrader": {
     "cell_type": "code",
     "checksum": "e4645ac432850845af0e12b53c5ab460",
     "grade": false,
     "grade_id": "cell-a54f79646ee8acf0",
     "locked": false,
     "schema_version": 3,
     "solution": true,
     "task": false
    }
   },
   "outputs": [],
   "source": [
    "### BEGIN SOLUTION\n",
    "### lineär funktion\n",
    "def f(t,A,B):\n",
    "    return ???\n",
    "\n",
    "popt, pcov = curve_fit(f,t,Cr)\n",
    "print(\"A, B:\",popt)\n",
    "perr = np.sqrt(np.diag(pcov))\n",
    "print(\"Error:\",perr)\n",
    "plt.plot(t,Cr,ls='',marker='o',markevery=40)\n",
    "t0 = np.linspace(0,30,1000)\n",
    "plt.plot(t0,np.exp(-k*t0),ls=':',c='r')\n",
    "plt.plot(t0,f(t0,*popt),ls='-.',c='g',lw=4)\n",
    "plt.show()\n",
    "### END SOLUTION"
   ]
  },
  {
   "cell_type": "code",
   "execution_count": null,
   "id": "f41356b3",
   "metadata": {
    "deletable": false,
    "nbgrader": {
     "cell_type": "code",
     "checksum": "e1ff929f4bcf519837578bcd60409290",
     "grade": false,
     "grade_id": "cell-c4080282812d0e23",
     "locked": false,
     "schema_version": 3,
     "solution": true,
     "task": false
    }
   },
   "outputs": [],
   "source": [
    "### BEGIN SOLUTION\n",
    "### kvadratisk funktion\n",
    "def f(t,A,B,C):\n",
    "    return ???\n",
    "\n",
    "popt, pcov = curve_fit(f,t,Cr)\n",
    "print(\"A, B, C:\",popt)\n",
    "perr = np.sqrt(np.diag(pcov))\n",
    "print(\"Error:\",perr)\n",
    "\n",
    "...\n",
    "\n",
    "### END SOLUTION"
   ]
  },
  {
   "cell_type": "code",
   "execution_count": null,
   "id": "b1b15dba",
   "metadata": {
    "deletable": false,
    "nbgrader": {
     "cell_type": "code",
     "checksum": "b43662ca71dad260204eaf269e815801",
     "grade": false,
     "grade_id": "cell-8ef53021de689f11",
     "locked": false,
     "schema_version": 3,
     "solution": true,
     "task": false
    }
   },
   "outputs": [],
   "source": [
    "### BEGIN SOLUTION\n",
    "### exponential funktion\n",
    "def f(t,A,kappa, B):\n",
    "    return ???\n",
    "\n",
    "...\n",
    "\n",
    "### END SOLUTION"
   ]
  },
  {
   "cell_type": "code",
   "execution_count": null,
   "id": "df157069",
   "metadata": {},
   "outputs": [],
   "source": []
  }
 ],
 "metadata": {
  "kernelspec": {
   "display_name": "Python 3 (ipykernel)",
   "language": "python",
   "name": "python3"
  },
  "language_info": {
   "codemirror_mode": {
    "name": "ipython",
    "version": 3
   },
   "file_extension": ".py",
   "mimetype": "text/x-python",
   "name": "python",
   "nbconvert_exporter": "python",
   "pygments_lexer": "ipython3",
   "version": "3.10.8"
  }
 },
 "nbformat": 4,
 "nbformat_minor": 5
}
