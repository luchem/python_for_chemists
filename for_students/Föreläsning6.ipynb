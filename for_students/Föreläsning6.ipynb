{
 "cells": [
  {
   "attachments": {
    "image.png": {
     "image/png": "[encoded data removed]"
    }
   },
   "cell_type": "markdown",
   "metadata": {},
   "source": [
    "# Pandas\n",
    "\n",
    "Pandas är ett Python-bibliotek för att hantera strukturerad data (t.ex. excel/csv-filer). Det erbjuder verktyg för statistik, bekväma funktioner för att importera data och möjligheten att filtrera och extrahera information. Huvudstrukturen i Pandas kallas \"DataFrame\". Med en DataFrame kan du lagra och manipulera tabulära data, liknande ett Excel-ark. Den fungerar på sätt som liknar en generalisering av dictionaries för att associera fler än 2 objekt, och på andra sätt liknar den en 2D numpy-array.\n",
    "\n",
    "![image.png](attachment:image.png)\n",
    "\n",
    "Till skillnad från en NumPy-array kan en DataFrame innehålla olika datatyper, som exempelvis nummer och text, men datan i varje kolumn måste vara av samma typ.\n",
    "\n",
    "## Skapa en DataFrame\n",
    "\n",
    "En DataFrame kan läsas in från olika datakällor eller så kan den skapas från grunden. Till exempel kan vi skapa en DataFrame som innehåller information om kemiska föreningar, såsom molekylvikter, kokpunkter och lösligheter:"
   ]
  },
  {
   "cell_type": "code",
   "execution_count": null,
   "metadata": {},
   "outputs": [],
   "source": [
    "import pandas as pd\n",
    "import numpy as np\n",
    "\n",
    "data = {\n",
    "    'Compound': ['Water', 'Ethanol', 'Benzene', 'Methanol', 'Acetone', 'Toluene', 'Tetrachloroethylene'],\n",
    "    'MolecularWeight': [18.015, 46.07, 78.1134, 32.042, 58.08, 92.14, 165.8],\n",
    "    'BoilingPoint': [100, 78.37, 80.1, 64.7, 56.08, 110.6, 121.2],\n",
    "    'Solubility': ['Infinite', 'Miscible', '0.178 g/100 mL', 'Miscible', 'Miscible', 'None', '206 mg/L']\n",
    "}\n",
    "\n",
    "df = pd.DataFrame(data)\n",
    "print(df)"
   ]
  },
  {
   "cell_type": "code",
   "execution_count": null,
   "metadata": {},
   "outputs": [],
   "source": [
    "df"
   ]
  },
  {
   "cell_type": "markdown",
   "metadata": {},
   "source": [
    "Pandas har även en mycket kraftfull läs-funktion som kan, genom sina många alternativ, även hantera mycket komplicerade filer, till exempel CSV-filer eller Excel-filer. Titta på denna fil på internet \"http://www.jensuhlig.de/Kemm30/APS_Copper_SolarCell.dat\" som mättes vid en storskalig forskningsanläggning. \n",
    "\n",
    "Istället för att läsa hela filen så kan vi välja ut vilken data vi vill läsa. Från denna fil vill vi:\n",
    "\n",
    "1. Ignorera de första 30 raderna ('skiprows').\n",
    "2. Separera kolumnerna med lika många vita tecken som det finns genom att använda \"\\s+\" som separator. (regular expression)\n",
    "3. Endast läsa kolumnerna med namnen \"Energy\" och \"PR\" som vi räknade till att vara kolumn 2 och 14.\n",
    "4. Ge dem rätt namn och använda värdena under \"Energy\" som rad index (index_col=0)."
   ]
  },
  {
   "cell_type": "code",
   "execution_count": null,
   "metadata": {},
   "outputs": [],
   "source": [
    "df_aps=pd.read_csv(\"http://www.jensuhlig.de/Kemm30/APS_Copper_SolarCell.dat\",skiprows=30,sep='\\s+',names=['Energy','PR'],index_col=0,usecols=[2,14])\n",
    "df_aps"
   ]
  },
  {
   "cell_type": "code",
   "execution_count": null,
   "metadata": {},
   "outputs": [],
   "source": [
    "df_aps.plot()"
   ]
  },
  {
   "cell_type": "markdown",
   "metadata": {},
   "source": [
    "Observera att det även finns en `read_excel` funktion för att läsa excel filer."
   ]
  },
  {
   "cell_type": "markdown",
   "metadata": {},
   "source": [
    "Vi återgår nu till vår ursprungliga DataFrame med kemiska föreningar. \n",
    "\n",
    "Istället för att skriva ut alla rader så kan vi visa endast de första raderna med `head` (eller de sista genom att använda `tail`):"
   ]
  },
  {
   "cell_type": "code",
   "execution_count": null,
   "metadata": {},
   "outputs": [],
   "source": [
    "df.head() #default 5 rows"
   ]
  },
  {
   "cell_type": "code",
   "execution_count": null,
   "metadata": {},
   "outputs": [],
   "source": [
    "df.head(3)"
   ]
  },
  {
   "cell_type": "markdown",
   "metadata": {},
   "source": [
    "# Åtkomst och modifiering av data\n",
    "\n",
    "Precis som med numpy kan vi få åtkomst till formen (d.v.s. antal rader och kolumner) på en DataFrame."
   ]
  },
  {
   "cell_type": "code",
   "execution_count": null,
   "metadata": {},
   "outputs": [],
   "source": [
    "print(df.shape)"
   ]
  },
  {
   "cell_type": "markdown",
   "metadata": {},
   "source": [
    "Vi kan också få åtkomst till en lista över kolumn namnen."
   ]
  },
  {
   "cell_type": "code",
   "execution_count": null,
   "metadata": {},
   "outputs": [],
   "source": [
    "print(df.columns)"
   ]
  },
  {
   "cell_type": "markdown",
   "metadata": {},
   "source": [
    "För att komma åt data i en DataFrame kan vi använda olika metoder och indexeringsfunktioner. \n",
    "\n",
    "De två viktigaste funktionerna för att få åtkomst till data är `.loc`, som tar namnet på rader/kolumner (som i en dictionary):"
   ]
  },
  {
   "cell_type": "code",
   "execution_count": null,
   "metadata": {},
   "outputs": [],
   "source": [
    "df.loc[0,'MolecularWeight'] #rad 0, kolumn 'MolecularWeight'"
   ]
  },
  {
   "cell_type": "markdown",
   "metadata": {},
   "source": [
    "och `.iloc.`, som istället tar index (som i numpy):"
   ]
  },
  {
   "cell_type": "code",
   "execution_count": null,
   "metadata": {},
   "outputs": [],
   "source": [
    "df.iloc[0,1]"
   ]
  },
  {
   "cell_type": "markdown",
   "metadata": {},
   "source": [
    "Observera att här är namnen på raderna helt enkelt index, vilket är standard. Men vi kan välja en specifik kolumn att bli namnet på raderna (så som vi gjorde ovan med index_col när vi läste CSV filen):"
   ]
  },
  {
   "cell_type": "code",
   "execution_count": null,
   "metadata": {},
   "outputs": [],
   "source": [
    "df_compound = df.set_index('Compound')\n",
    "df_compound"
   ]
  },
  {
   "cell_type": "code",
   "execution_count": null,
   "metadata": {},
   "outputs": [],
   "source": [
    "df_compound.loc['Water','MolecularWeight']"
   ]
  },
  {
   "cell_type": "markdown",
   "metadata": {},
   "source": [
    "`loc` och `iloc` tillåter användning av slicing:"
   ]
  },
  {
   "cell_type": "code",
   "execution_count": null,
   "metadata": {},
   "outputs": [],
   "source": [
    "print(df.loc[:, 'MolecularWeight']) #en kolumn"
   ]
  },
  {
   "cell_type": "code",
   "execution_count": null,
   "metadata": {},
   "outputs": [],
   "source": [
    "print(df.loc[:,['MolecularWeight', 'BoilingPoint']]) #två kolumner"
   ]
  },
  {
   "cell_type": "code",
   "execution_count": null,
   "metadata": {},
   "outputs": [],
   "source": [
    "df.loc[0,:] #en rad"
   ]
  },
  {
   "cell_type": "code",
   "execution_count": null,
   "metadata": {},
   "outputs": [],
   "source": [
    "print(df.iloc[:4, :2])"
   ]
  },
  {
   "cell_type": "markdown",
   "metadata": {},
   "source": [
    "För att få en specifik kolumn kan vi också använda enklare åtkomst i dictionary-stil:"
   ]
  },
  {
   "cell_type": "code",
   "execution_count": null,
   "metadata": {},
   "outputs": [],
   "source": [
    "print(df['MolecularWeight'])"
   ]
  },
  {
   "cell_type": "markdown",
   "metadata": {},
   "source": [
    "eller till och med, förutsatt att du använt ett namn utan mellanslag:"
   ]
  },
  {
   "cell_type": "code",
   "execution_count": null,
   "metadata": {},
   "outputs": [],
   "source": [
    "df.MolecularWeight"
   ]
  },
  {
   "cell_type": "markdown",
   "metadata": {},
   "source": [
    "För att filtrera DataFrame baserat på en given villkor kan du använda boolean-indexering. Låt oss, till exempel, säga att vi vill titta lite närmare på endast större molekyler. För att hitta och välja alla molekyler med en vikt över 50 g/mol och spara dem i en ny DataFrame:"
   ]
  },
  {
   "cell_type": "code",
   "execution_count": null,
   "metadata": {},
   "outputs": [],
   "source": [
    "filtered_df = df[df['MolecularWeight'] > 50]\n",
    "filtered_df"
   ]
  },
  {
   "cell_type": "markdown",
   "metadata": {},
   "source": [
    "Om du använder siffror som rad index så kan du också använda slicing för att filtrera. Låt oss skapa en ny DataFrame utifrån tre Gaussian fördelningar:"
   ]
  },
  {
   "cell_type": "code",
   "execution_count": null,
   "metadata": {},
   "outputs": [],
   "source": [
    "x_values = np.arange(-10,10,0.1)\n",
    "df_function={}\n",
    "df_function['0'] = np.exp(-x_values**2)\n",
    "df_function['1'] = np.exp(-(x_values-1)**2)\n",
    "df_function['2'] = np.exp(-(x_values-2)**2)\n",
    "df_function = pd.DataFrame(df_function,index=x_values) #använd x som index\n",
    "df_function"
   ]
  },
  {
   "cell_type": "code",
   "execution_count": null,
   "metadata": {},
   "outputs": [],
   "source": [
    "df_function.loc[-1:1,:]"
   ]
  },
  {
   "cell_type": "markdown",
   "metadata": {},
   "source": [
    "Observera att detta endast fungerar om raderna är sorterade!"
   ]
  },
  {
   "cell_type": "markdown",
   "metadata": {},
   "source": [
    "**Övning** Vi har en CSV-fil som innehåller information om alla kemiska element. Vi läsar den och skapar ett \"periodic table\" DataFrame."
   ]
  },
  {
   "cell_type": "code",
   "execution_count": null,
   "metadata": {},
   "outputs": [],
   "source": [
    "df_pt = pd.read_csv(\"ptable.csv\")\n",
    "df_pt.head()"
   ]
  },
  {
   "cell_type": "markdown",
   "metadata": {},
   "source": [
    "**Uppgift 1** Skriv ut alla element som upptäcktes före år 1850."
   ]
  },
  {
   "cell_type": "code",
   "execution_count": null,
   "metadata": {
    "deletable": false,
    "nbgrader": {
     "cell_type": "code",
     "checksum": "d6a9b03f3997d8deec5ac4b77b52eb85",
     "grade": false,
     "grade_id": "cell-59443f15d9df0176",
     "locked": false,
     "schema_version": 3,
     "solution": true,
     "task": false
    },
    "tags": []
   },
   "outputs": [],
   "source": [
    "# YOUR CODE HERE\n",
    "raise NotImplementedError()"
   ]
  },
  {
   "cell_type": "markdown",
   "metadata": {},
   "source": [
    "**Uppgift 2** Vilken element upptäcktes tidigast? **Tips** Använd np.argmin"
   ]
  },
  {
   "cell_type": "code",
   "execution_count": null,
   "metadata": {
    "deletable": false,
    "nbgrader": {
     "cell_type": "code",
     "checksum": "b8ec99ef7a52d679ce2502f87e950f55",
     "grade": false,
     "grade_id": "cell-b0f607d4cb02d68e",
     "locked": false,
     "schema_version": 3,
     "solution": true,
     "task": false
    }
   },
   "outputs": [],
   "source": [
    "# YOUR CODE HERE\n",
    "raise NotImplementedError()"
   ]
  },
  {
   "cell_type": "markdown",
   "metadata": {},
   "source": [
    "**Uppgift 3** Hur många element upptäcktes först i Sverige? (ni kan ignorera de som upptäcktes i två länder)."
   ]
  },
  {
   "cell_type": "code",
   "execution_count": null,
   "metadata": {
    "deletable": false,
    "nbgrader": {
     "cell_type": "code",
     "checksum": "0429577d63356f135f659704e67a8a36",
     "grade": false,
     "grade_id": "cell-73cfd3ffa1f522dd",
     "locked": false,
     "schema_version": 3,
     "solution": true,
     "task": false
    }
   },
   "outputs": [],
   "source": [
    "# YOUR CODE HERE\n",
    "raise NotImplementedError()"
   ]
  },
  {
   "cell_type": "markdown",
   "metadata": {},
   "source": [
    "Du får hela listan med:"
   ]
  },
  {
   "cell_type": "code",
   "execution_count": null,
   "metadata": {},
   "outputs": [],
   "source": [
    "df_pt[df_pt[\"discovery_location\"].str.contains('Sweden', na=False)][\"Element\"]"
   ]
  },
  {
   "cell_type": "markdown",
   "metadata": {},
   "source": [
    "Det finns många sätt att ändra en befintlig DataFrame efter att den har skapats. Du kan till exempel byta namn på rader eller kolumner:"
   ]
  },
  {
   "cell_type": "code",
   "execution_count": null,
   "metadata": {},
   "outputs": [],
   "source": [
    "dg = df.rename(columns={\"Compound\": \"Name\"})\n",
    "dg"
   ]
  },
  {
   "cell_type": "markdown",
   "metadata": {},
   "source": [
    "Notera att den här funktion returnera en ny DataFrame (som i detta fallet har sparats som `dg`). Originalet finns dock fortfarande kvar:"
   ]
  },
  {
   "cell_type": "code",
   "execution_count": null,
   "metadata": {},
   "outputs": [],
   "source": [
    "df"
   ]
  },
  {
   "cell_type": "markdown",
   "metadata": {},
   "source": [
    "Om vi vill utföra operationen direkt på plats (i befintlig DataFrame) behöver vi ange `inplace=True`:"
   ]
  },
  {
   "cell_type": "code",
   "execution_count": null,
   "metadata": {},
   "outputs": [],
   "source": [
    "df.rename(columns={\"Compound\": \"Name\"}, inplace=True)\n",
    "df"
   ]
  },
  {
   "cell_type": "markdown",
   "metadata": {},
   "source": [
    "Du kan lägga till nya kolumner i befintliga DataFrames. Till exempel, för att konvertera kokpunkterna från Celsius till Fahrenheit och lägga till detta som en ny kolumn:"
   ]
  },
  {
   "cell_type": "code",
   "execution_count": null,
   "metadata": {},
   "outputs": [],
   "source": [
    "df['BoilingPoint (°F)'] = df['BoilingPoint']*1.8 + 32\n",
    "df.head()"
   ]
  },
  {
   "cell_type": "markdown",
   "metadata": {},
   "source": [
    "Du kan också ta bort rader eller kolumner:"
   ]
  },
  {
   "cell_type": "code",
   "execution_count": null,
   "metadata": {},
   "outputs": [],
   "source": [
    "df.drop(columns = \"BoilingPoint (°F)\", inplace=True)\n",
    "df"
   ]
  },
  {
   "cell_type": "markdown",
   "metadata": {},
   "source": [
    "## Inbyggda analysfunktioner"
   ]
  },
  {
   "cell_type": "markdown",
   "metadata": {},
   "source": [
    "Du kan få statistisk analys för specifika kolumner:"
   ]
  },
  {
   "cell_type": "code",
   "execution_count": null,
   "metadata": {},
   "outputs": [],
   "source": [
    "print(\"Medelvärdet för molekylmassa är\",df['MolecularWeight'].mean())\n",
    "print(\"Standardavvikelsen är\", df['MolecularWeight'].std())"
   ]
  },
  {
   "cell_type": "markdown",
   "metadata": {},
   "source": [
    "För att skriva ut sammanfattande statistik för varje (numerisk) kolumn i DataFrame, använd `describe()`:"
   ]
  },
  {
   "cell_type": "code",
   "execution_count": null,
   "metadata": {},
   "outputs": [],
   "source": [
    "df.describe()"
   ]
  },
  {
   "cell_type": "markdown",
   "metadata": {},
   "source": [
    "Det är möjligt att sortera DataFrame, till exempel baserat på en specifik kolumn, genom att använda sort_values(). För att sortera föreningarna baserat på deras molekylvikter i stigande ordning:"
   ]
  },
  {
   "cell_type": "code",
   "execution_count": null,
   "metadata": {},
   "outputs": [],
   "source": [
    "sorted_df = df.sort_values('MolecularWeight', ascending=True)\n",
    "sorted_df"
   ]
  },
  {
   "cell_type": "markdown",
   "metadata": {},
   "source": [
    "Pandas har också inbyggda matplotlib-funktioner för att snabbt plotta alla eller specifika kolumner. Till exempel:"
   ]
  },
  {
   "cell_type": "code",
   "execution_count": null,
   "metadata": {},
   "outputs": [],
   "source": [
    "fig = df.plot(\"MolecularWeight\", \"BoilingPoint\", kind=\"scatter\")"
   ]
  },
  {
   "cell_type": "markdown",
   "metadata": {},
   "source": [
    "Den returnerar matplotlib-figurobjektet, så att vi kan fortsätta att plotta extra saker. Till exempel vi kan plotta tättheten i vår \"periodic table\" DataFrame och även lägga till linjer mellan de olika perioderna (raderna i det periodiska systemet)."
   ]
  },
  {
   "cell_type": "code",
   "execution_count": null,
   "metadata": {},
   "outputs": [],
   "source": [
    "fig = df_pt.plot(\"AtomicNumber\", \"Density\")\n",
    "period = np.array(df_pt[\"Period\"])\n",
    "for i in np.where(period[:-1] != period[1:])[0]:\n",
    "    fig.axvline(x = i+1, color = 'r', ls='--')"
   ]
  },
  {
   "cell_type": "markdown",
   "metadata": {},
   "source": [
    "**Övning** I vår \"periodic table\" DataFrame, plotta upptäcktsår mot atomnummer. Anpassa kurvan till en linjär funktion. Använd det för att beräkna hur många år det är i genomsnitt mellan två upptäckter av grundämnen.\n",
    "\n",
    "**Tips** Data innehåller flera NaN-värden (icke-numerisk) vilket kan göra det svårt att hantera. Du kan skapa en dataset utan dessa genom att använda:`df_nona = df_pt.dropna(subset=['Year'])`"
   ]
  },
  {
   "cell_type": "code",
   "execution_count": null,
   "metadata": {
    "deletable": false,
    "nbgrader": {
     "cell_type": "code",
     "checksum": "dc1a5ed6175621d25be6b4c6aa9a67b3",
     "grade": false,
     "grade_id": "cell-0c2b2dbfda5f0ffc",
     "locked": false,
     "schema_version": 3,
     "solution": true,
     "task": false
    }
   },
   "outputs": [],
   "source": [
    "# YOUR CODE HERE\n",
    "raise NotImplementedError()"
   ]
  },
  {
   "cell_type": "code",
   "execution_count": null,
   "metadata": {
    "deletable": false,
    "nbgrader": {
     "cell_type": "code",
     "checksum": "058d9160ffcd220953252ccbffe8bcb6",
     "grade": false,
     "grade_id": "cell-918327b19c3f605a",
     "locked": false,
     "schema_version": 3,
     "solution": true,
     "task": false
    },
    "tags": []
   },
   "outputs": [],
   "source": [
    "# YOUR CODE HERE\n",
    "raise NotImplementedError()"
   ]
  },
  {
   "cell_type": "markdown",
   "metadata": {},
   "source": [
    "# Bonus: RDKit\n",
    "\n",
    "**Obs!** Man behöver installer RDKit (se [här](https://www.rdkit.org/docs/Install.html))"
   ]
  },
  {
   "cell_type": "code",
   "execution_count": null,
   "metadata": {},
   "outputs": [],
   "source": [
    "from rdkit import Chem\n",
    "from rdkit.Chem import Descriptors\n",
    "m = Chem.MolFromSmiles('c1ccccc1C(=O)O')\n",
    "m"
   ]
  },
  {
   "cell_type": "code",
   "execution_count": null,
   "metadata": {},
   "outputs": [],
   "source": [
    "print(\"Antal atomer:\", m.GetNumAtoms())\n",
    "for atom in m.GetAtoms():\n",
    "    print(atom.GetSymbol())\n",
    "print(\"Antal atomer inkl. väte:\", Chem.AddHs(m).GetNumAtoms())\n",
    "print(\"Molmass:\",Descriptors.MolWt(m),\"g/mol\")"
   ]
  },
  {
   "cell_type": "code",
   "execution_count": null,
   "metadata": {},
   "outputs": [],
   "source": [
    "from rdkit.Chem import PandasTools\n",
    "\n",
    "mollist = []\n",
    "mollist.append(Chem.MolFromSmiles('O'))\n",
    "mollist.append(Chem.MolFromSmiles('CO'))\n",
    "mollist.append(Chem.MolFromSmiles('CCO'))\n",
    "mollist.append(Chem.MolFromSmiles('CC(=O)C'))\n",
    "mollist.append(Chem.MolFromSmiles('c1ccccc1'))\n",
    "mollist.append(Chem.MolFromSmiles('c1ccccc1C'))\n",
    "mollist.append(Chem.MolFromSmiles('ClC(Cl)C(Cl)Cl'))\n",
    "df['Structure'] = mollist\n",
    "\n",
    "PandasTools.RenderImagesInAllDataFrames(images=True) #Ibland behövs det för att visas som bild\n",
    "df"
   ]
  },
  {
   "cell_type": "code",
   "execution_count": null,
   "metadata": {},
   "outputs": [],
   "source": []
  }
 ],
 "metadata": {
  "kernelspec": {
   "display_name": "Python 3 (ipykernel)",
   "language": "python",
   "name": "python3"
  },
  "language_info": {
   "codemirror_mode": {
    "name": "ipython",
    "version": 3
   },
   "file_extension": ".py",
   "mimetype": "text/x-python",
   "name": "python",
   "nbconvert_exporter": "python",
   "pygments_lexer": "ipython3",
   "version": "3.11.0"
  }
 },
 "nbformat": 4,
 "nbformat_minor": 4
}
