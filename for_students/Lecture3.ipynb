{
 "cells": [
  {
   "cell_type": "markdown",
   "id": "f3d54797",
   "metadata": {},
   "source": [
    "# Listor\n",
    "\n",
    "## Introduktion\n",
    "\n",
    "Ofta i våra koder har vi samlingar av objekt som \"hör ihop\". Det kan vara en lista över molekyler, pKa-värden, resultat av en mätning, osv... Det är alla saker vi kan lagra i en kalkylblad, i en tabell eller rita upp i en graf.\n",
    "\n",
    "Vi kan tänka oss att skapa en variabel för varje objekt, men det är tråkigt och vi kanske inte vet i förväg hur många de kommer vara.\n",
    "\n",
    "Istället har Python flera datatyper som är avsedda att hantera samlingar av objekt. Den enklaste av dem är listan."
   ]
  },
  {
   "cell_type": "code",
   "execution_count": null,
   "id": "d976c97c",
   "metadata": {},
   "outputs": [],
   "source": [
    "min_lista = [\"det\", \"är\", \"en\", \"lista\"]\n",
    "print(min_lista)"
   ]
  },
  {
   "cell_type": "markdown",
   "id": "07a7ec48",
   "metadata": {},
   "source": [
    "Listan definieras med hjälp av hakparenteser och valfritt antal element separerade med kommatecken.\n",
    "\n",
    "Du kan lagra vilken datatyp du vill i en lista: flyttal, heltal, strängar (text), booleska värden och till och med en annan lista. Dessutom kan du blanda olika typer av element i samma lista."
   ]
  },
  {
   "cell_type": "code",
   "execution_count": null,
   "id": "e1ec2422",
   "metadata": {},
   "outputs": [],
   "source": [
    "tom_lista = []\n",
    "kemikalier = [\"C2H4\", \"benzen\",\"syre\"]\n",
    "pKa_lista = [6.4, 3.2, 8.5, 7.2]\n",
    "blandad_lista = [\"C2H4\",3.4]\n",
    "lista_av_listor = [[\"Oxalsyra\", \"Mjölksyra\", \"Ättiksyra\"],[1.23, 3.86, 4.75]]"
   ]
  },
  {
   "cell_type": "markdown",
   "id": "e212b0e0",
   "metadata": {},
   "source": [
    "Du kan också skapa en lista från en `range`:"
   ]
  },
  {
   "cell_type": "code",
   "execution_count": null,
   "id": "acab0178",
   "metadata": {},
   "outputs": [],
   "source": [
    "range_lista = list(range(5))\n",
    "print(range_lista)"
   ]
  },
  {
   "cell_type": "markdown",
   "id": "0c69c079",
   "metadata": {},
   "source": [
    "# Komma åt och ändra listobjekt\n",
    "\n",
    "Du kan komma åt längden på listan (dvs antalet element) med funktionen \"len\":"
   ]
  },
  {
   "cell_type": "code",
   "execution_count": null,
   "id": "434ed1a1",
   "metadata": {},
   "outputs": [],
   "source": [
    "print(\"Längden på pKa_lista =\",len(pKa_lista))\n",
    "print(\"Längden på lista_av_listor =\",len(lista_av_listor))"
   ]
  },
  {
   "cell_type": "markdown",
   "id": "a2e1f69b",
   "metadata": {},
   "source": [
    "I listan av listor räknar len endast 2 element, eftersom det primära listan faktiskt bara innehåller 2 element (som båda är listor med 3 element var).\n",
    "\n",
    "När listan är skapad kan du komma åt det i:te elementet som `A[i]`. Observera att Python börjar indexeringen vid 0, så det första elementet är faktiskt `A[0]`."
   ]
  },
  {
   "cell_type": "code",
   "execution_count": null,
   "id": "c59ac7a4",
   "metadata": {},
   "outputs": [],
   "source": [
    "print(\"Den första kemikalie är\", kemikalier[0])\n",
    "print(\"Den andra kemikalie är\", kemikalier[1])\n",
    "print(\"Den första lista är\", lista_av_listor[0])\n",
    "print(\"Den första syran i listan av listor är \", lista_av_listor[0][0])"
   ]
  },
  {
   "cell_type": "markdown",
   "id": "76047fd6",
   "metadata": {},
   "source": [
    "Genom att komma åt det specifika objektet i en lista kan du också ändra det:"
   ]
  },
  {
   "cell_type": "code",
   "execution_count": null,
   "id": "6126933c",
   "metadata": {},
   "outputs": [],
   "source": [
    "print(kemikalier)\n",
    "kemikalier[0] = \"eten\"\n",
    "print(kemikalier)"
   ]
  },
  {
   "cell_type": "markdown",
   "id": "93a08f57",
   "metadata": {},
   "source": [
    "**Övning:**\n",
    "Loopa över elementen i kemikalier listan och skriv ut dem:"
   ]
  },
  {
   "cell_type": "code",
   "execution_count": null,
   "id": "4551492d",
   "metadata": {
    "deletable": false,
    "nbgrader": {
     "cell_type": "code",
     "checksum": "91470340aea669f5fc7a8142ea95e56c",
     "grade": false,
     "grade_id": "cell-5d72f4c6ff45ca02",
     "locked": false,
     "schema_version": 3,
     "solution": true,
     "task": false
    }
   },
   "outputs": [],
   "source": [
    "# YOUR CODE HERE\n",
    "raise NotImplementedError()"
   ]
  },
  {
   "cell_type": "markdown",
   "id": "f84d4b09",
   "metadata": {},
   "source": [
    "Det finns andra (vissa skulle hävda finare) sätt att loopa över element i en lista. Det enklaste är:"
   ]
  },
  {
   "cell_type": "code",
   "execution_count": null,
   "id": "4598f5db",
   "metadata": {},
   "outputs": [],
   "source": [
    "for kemikalie in kemikalier:\n",
    "    print(kemikalie)"
   ]
  },
  {
   "cell_type": "markdown",
   "id": "55a39ff7",
   "metadata": {},
   "source": [
    "Om du behöver både indexet och elementet kan du använda \"enumerate\":"
   ]
  },
  {
   "cell_type": "code",
   "execution_count": null,
   "id": "13510e98",
   "metadata": {},
   "outputs": [],
   "source": [
    "for i, kemikalie in enumerate(kemikalier):\n",
    "    print(\"Kemikalie\",i+1,\"är\",kemikalie)"
   ]
  },
  {
   "cell_type": "markdown",
   "id": "524f6c0b",
   "metadata": {},
   "source": [
    "**Övning:** Här är en lista över syror och en motsvarande lista över pKa-värden. Sortera båda listorna efter stigande pKa-värde (utan att använda färdiga sorteringsfunktioner i Python)."
   ]
  },
  {
   "cell_type": "code",
   "execution_count": null,
   "id": "7370a2bd",
   "metadata": {
    "deletable": false,
    "nbgrader": {
     "cell_type": "code",
     "checksum": "c736cc86aaaa14936728d7eb8c7f8df5",
     "grade": false,
     "grade_id": "cell-4708ffbdb61e3a4e",
     "locked": false,
     "schema_version": 3,
     "solution": true,
     "task": false
    }
   },
   "outputs": [],
   "source": [
    "syror = [\"Mjölksyra\", \"Oxalsyra\", \"Ättiksyra\", \"Kolsyra\", \"Bensoesyra\", \"Citronsyra\", \"Myrsyra\"]\n",
    "pKa_lista = [3.86, 1.23, 4.75, 6.37, 4.19, 3.08, 3.75]\n",
    "# YOUR CODE HERE\n",
    "raise NotImplementedError()"
   ]
  },
  {
   "cell_type": "code",
   "execution_count": null,
   "id": "3cae3b7b",
   "metadata": {},
   "outputs": [],
   "source": [
    "assert syror == ['Oxalsyra', 'Citronsyra', 'Myrsyra', 'Mjölksyra', 'Bensoesyra', 'Ättiksyra', 'Kolsyra']\n",
    "assert pKa_lista == [1.23, 3.08, 3.75, 3.86, 4.19, 4.75, 6.37]"
   ]
  },
  {
   "cell_type": "markdown",
   "id": "4b92d03c",
   "metadata": {},
   "source": [
    "Det finns även inbyggda funktioner för att sortera listor:"
   ]
  },
  {
   "cell_type": "code",
   "execution_count": null,
   "id": "38ed278f",
   "metadata": {},
   "outputs": [],
   "source": [
    "syror = [\"Mjölksyra\", \"Oxalsyra\", \"Ättiksyra\", \"Kolsyra\", \"Bensoesyra\", \"Citronsyra\", \"Myrsyra\"]\n",
    "pKa_lista = [3.86, 1.23, 4.75, 6.37, 4.19, 3.08, 3.75]\n",
    "print(sorted(pKa_lista)) #numerisk sortering\n",
    "print(sorted(syror)) #alfabetisk sortering"
   ]
  },
  {
   "cell_type": "markdown",
   "id": "611c0e3e",
   "metadata": {},
   "source": [
    "## Utöka och kombinera listor\n",
    "\n",
    "Du kan lägga till element i en lista med `append`:"
   ]
  },
  {
   "cell_type": "code",
   "execution_count": null,
   "id": "9a17d8a2",
   "metadata": {},
   "outputs": [],
   "source": [
    "kemikalier.append(\"sulfat\")\n",
    "print(kemikalier)"
   ]
  },
  {
   "cell_type": "markdown",
   "id": "eb415a45",
   "metadata": {},
   "source": [
    "**Övning:** Skapa samma lista som `list(range(5))` genom att börja från en tom lista, använda en loop och append-funktionen."
   ]
  },
  {
   "cell_type": "code",
   "execution_count": null,
   "id": "1cc97c61",
   "metadata": {
    "deletable": false,
    "nbgrader": {
     "cell_type": "code",
     "checksum": "359d036460f9d66b37655b4f4b186ff4",
     "grade": false,
     "grade_id": "cell-aade239d23748e9f",
     "locked": false,
     "schema_version": 3,
     "solution": true,
     "task": false
    }
   },
   "outputs": [],
   "source": [
    "# YOUR CODE HERE\n",
    "raise NotImplementedError()"
   ]
  },
  {
   "cell_type": "markdown",
   "id": "a1c7b2f3",
   "metadata": {},
   "source": [
    "Du kan också kombinera och multiplicera listor med hjälp av de aritmetiska operatorerna."
   ]
  },
  {
   "cell_type": "code",
   "execution_count": null,
   "id": "e451007c",
   "metadata": {},
   "outputs": [],
   "source": [
    "stor_list = kemikalier + [\"fosfat\", \"propan\"]\n",
    "print(stor_list)\n",
    "print([\"fosfat\", \"propan\"]*5)"
   ]
  },
  {
   "cell_type": "markdown",
   "id": "9195cbea",
   "metadata": {},
   "source": [
    "Multiplikation kan vara användbart för att initialisera en lista med 0-värden eller en lista av listor med tomma värden."
   ]
  },
  {
   "cell_type": "code",
   "execution_count": null,
   "id": "30ca1668",
   "metadata": {},
   "outputs": [],
   "source": [
    "viktig_lista = [0]*10\n",
    "print(viktig_lista)\n",
    "viktigare_lista = [[]]*7\n",
    "print(viktigare_lista)"
   ]
  },
  {
   "cell_type": "markdown",
   "id": "1d0eaabf",
   "metadata": {},
   "source": [
    "## Slicing (Skärning/Skivning)\n",
    "\n",
    "Medan det är möjligt att komma åt listelement ett efter ett finns det också sätt att extrahera \"skivor\" av listan. Den allmänna strukturen liknar range, det vill säga vi kan ange startpunkt, slutpunkt och steg, men de separeras med `:`:"
   ]
  },
  {
   "cell_type": "code",
   "execution_count": null,
   "id": "2ae4f459",
   "metadata": {},
   "outputs": [],
   "source": [
    "syror == ['Oxalsyra', 'Citronsyra', 'Myrsyra', 'Mjölksyra', 'Bensoesyra', 'Ättiksyra', 'Kolsyra']\n",
    "print(syror[1:3:1]) # Från 1 (inklusive) till 3 (exklusive) en efter en\n",
    "print(syror[1:3]) # Om steget utelämnas antas 1\n",
    "print(syror[4:1:-1]) # Från 1 till 4 men omvänt"
   ]
  },
  {
   "cell_type": "markdown",
   "id": "17db9e50",
   "metadata": {},
   "source": [
    "Det är möjligt att lämna skivningsindexen tomma, vilket som standard kommer att betyda första eller sista elementet (beroende på sammanhanget):"
   ]
  },
  {
   "cell_type": "code",
   "execution_count": null,
   "id": "750d8d88",
   "metadata": {},
   "outputs": [],
   "source": [
    "print(syror[3:]) # Från 3 till sist\n",
    "print(syror[:3]) # Första 3\n",
    "print(syror[:]) # Alla\n",
    "print(syror[::-1]) # Alla omvänt"
   ]
  },
  {
   "cell_type": "markdown",
   "id": "07067353",
   "metadata": {},
   "source": [
    "Mer överraskande kanske är att om du använder negativa tal motsvarar det att räkna från slutet:"
   ]
  },
  {
   "cell_type": "code",
   "execution_count": null,
   "id": "192970b2",
   "metadata": {},
   "outputs": [],
   "source": [
    "print(syror[-1]) # Den sista objekt\n",
    "print(syror[-3:]) # De sista 3 objekt\n",
    "print(syror[2:-2]) # Allt utom första och sista 2"
   ]
  },
  {
   "cell_type": "markdown",
   "id": "be09cf94",
   "metadata": {},
   "source": [
    "**Övning:** Sortera pka arrayen i föregående sorteringsövning i omvänd ordning med `sorted` (bara en textrad!):"
   ]
  },
  {
   "cell_type": "code",
   "execution_count": null,
   "id": "10667b24",
   "metadata": {
    "deletable": false,
    "nbgrader": {
     "cell_type": "code",
     "checksum": "0221b84aed3e7212de060ea9d5eae80a",
     "grade": false,
     "grade_id": "cell-cfa5ccba375b875c",
     "locked": false,
     "schema_version": 3,
     "solution": true,
     "task": false
    }
   },
   "outputs": [],
   "source": [
    "# YOUR CODE HERE\n",
    "raise NotImplementedError()"
   ]
  },
  {
   "cell_type": "markdown",
   "id": "fb424b9b",
   "metadata": {},
   "source": [
    "## Unpacking (Uppackning)\n",
    "\n",
    "Om du vill tilldela elementen i en lista till individuella variabler kan du använda en genväg som kallas \"uppackning\":"
   ]
  },
  {
   "cell_type": "code",
   "execution_count": null,
   "id": "64a33ef3",
   "metadata": {},
   "outputs": [],
   "source": [
    "min_lista = [5.5, 7.8]\n",
    "a, b = min_lista\n",
    "print(\"a =\", a)\n",
    "print(\"b =\", b)"
   ]
  },
  {
   "cell_type": "markdown",
   "id": "0a47ebcc",
   "metadata": {},
   "source": [
    "Denna packning/uppackning används implicit när du ger en lista som returvärden till en funktion, och kan också användas för att byta värden mellan två variabler (som vi gjorde i sorteringsövningen):"
   ]
  },
  {
   "cell_type": "code",
   "execution_count": null,
   "id": "ef534df2",
   "metadata": {},
   "outputs": [],
   "source": [
    "def få_värden():\n",
    "    värde1 = 5.5\n",
    "    värde2 = 7.8\n",
    "    return värde1, värde2\n",
    "\n",
    "resultat1, resultat2 = få_värden()\n",
    "print(resultat1)\n",
    "print(resultat2)\n",
    "\n",
    "resultat1, resultat2 = resultat2, resultat1\n",
    "print(\"Efter\")\n",
    "print(resultat1)\n",
    "print(resultat2)"
   ]
  },
  {
   "cell_type": "markdown",
   "id": "a45629d2",
   "metadata": {},
   "source": [
    "# Tupler\n",
    "\n",
    "Tupler är på många sätt liknande listor, men den största skillnaden är att de är oföränderliga, vilket innebär att de inte kan ändras efter att de skapats. Detta kan vara användbart för listor som inte bör ändras (till exempel listan över atomsymboler).\n",
    "\n",
    "För att skapa en tuple använder vi parenteser istället för hakparenteser:"
   ]
  },
  {
   "cell_type": "code",
   "execution_count": null,
   "id": "cecbd09c",
   "metadata": {},
   "outputs": [],
   "source": [
    "Atomer = ('0', 'H', 'He', 'Li', 'Be', 'B', 'C', 'N', 'O', 'F', 'Ne', 'Na', 'Mg', #Lade till 0 så att Atomer[1] = 'H'\n",
    "        'Al', 'Si', 'P', 'S', 'Cl', 'Ar', 'K', 'Ca', 'Sc', 'Ti', 'V', 'Cr',\n",
    "        'Mn', 'Fe', 'Co', 'Ni', 'Cu', 'Zn', 'Ga', 'Ge', 'As', 'Se', 'Br', 'Kr',\n",
    "        'Rb', 'Sr', 'Y', 'Zr', 'Nb', 'Mo', 'Tc', 'Ru', 'Rh', 'Pd', 'Ag', 'Cd',\n",
    "        'In', 'Sn', 'Sb', 'Te', 'I', 'Xe', 'Cs', 'Ba', 'La', 'Ce', 'Pr', 'Nd',\n",
    "        'Pm', 'Sm', 'Eu', 'Gd', 'Tb', 'Dy', 'Ho', 'Er', 'Tm', 'Yb', 'Lu', 'Hf',\n",
    "        'Ta', 'W', 'Re', 'Os', 'Ir', 'Pt', 'Au', 'Hg', 'Tl', 'Pb', 'Bi', 'Po',\n",
    "        'At', 'Rn')\n",
    "print(Atomer[6])\n",
    "print(Atomer[82])"
   ]
  },
  {
   "cell_type": "markdown",
   "id": "5e09e9cf",
   "metadata": {},
   "source": [
    "Om du försöker ändra ett av elementen i en tuple kommer du se att det misslyckas.\n",
    "\n",
    "Eftersom tupler bara är en nyans av listor kommer vi inte gå djupare in på dem förutom att nämna deras existens."
   ]
  },
  {
   "cell_type": "markdown",
   "id": "3960bccc",
   "metadata": {},
   "source": [
    "# Sets (Mängder)\n",
    "\n",
    "Mängder är en annan nyans av listor, men med något mer praktisk användning. Den största skillnaden jämfört med listor är att mängder inte kan ha dubletter, och deras ordning är odefinierad (den kan variera från det ursprungliga tilldelningen på grund av hur den implementeras internt).\n",
    "\n",
    "Mängder skapas med hjälp av `{}` istället för `[]`."
   ]
  },
  {
   "cell_type": "code",
   "execution_count": null,
   "id": "dc651a24",
   "metadata": {},
   "outputs": [],
   "source": [
    "molekyl_set = {\"C2H4\", \"benzen\",\"syre\"}\n",
    "print(molekyl_set) # Notera att ordningen kan skilja sig\n",
    "tom_set = set() # Om du använder {} ska det skapa ett tomt lexikon som vi kommer att se senare"
   ]
  },
  {
   "cell_type": "markdown",
   "id": "6c22c117",
   "metadata": {},
   "source": [
    "Mängder beter sig på liknande sätt som listor. Dock, eftersom de är oordnade kan du inte komma åt element genom att använda `A[i]` (men du kan fortfarande loopa över alla element). Istället för att använda append för att lägga till element i slutet av en lista, använder du funktionen \"add\" för att lägga till element i en mängd."
   ]
  },
  {
   "cell_type": "code",
   "execution_count": null,
   "id": "21c76d85",
   "metadata": {},
   "outputs": [],
   "source": [
    "molekyl_set.add(\"sulfat\")\n",
    "print(molekyl_set)"
   ]
  },
  {
   "cell_type": "markdown",
   "id": "39ea32df",
   "metadata": {},
   "source": [
    "Om du försöker lägga till ett element som redan finns i mängden kommer det inte att dupliceras:"
   ]
  },
  {
   "cell_type": "code",
   "execution_count": null,
   "id": "83482c35",
   "metadata": {},
   "outputs": [],
   "source": [
    "print(len(molekyl_set))\n",
    "molekyl_set.add(\"benzen\")\n",
    "print(len(molekyl_set))"
   ]
  },
  {
   "cell_type": "markdown",
   "id": "124bc712",
   "metadata": {},
   "source": [
    "Du kan kombinera mängder genom att använda `|` (eller `union`-funktionen) och du kan också subtrahera mängder för att hitta skillnaden."
   ]
  },
  {
   "cell_type": "code",
   "execution_count": null,
   "id": "91cb0899",
   "metadata": {},
   "outputs": [],
   "source": [
    "print(molekyl_set | {\"HCl\", \"syre\"})\n",
    "print(molekyl_set.union({\"HCl\", \"syre\"}))\n",
    "print(molekyl_set - {\"C2H4\",\"sulfat\", \"HCl\"})"
   ]
  },
  {
   "cell_type": "markdown",
   "id": "3f996c7a",
   "metadata": {},
   "source": [
    "Du kan omvandla en lista till en mängd och vice versa:"
   ]
  },
  {
   "cell_type": "code",
   "execution_count": null,
   "id": "8a48e48e",
   "metadata": {},
   "outputs": [],
   "source": [
    "set_från_list = set([\"Den\", \"var\", \"en\", \"lista\"])\n",
    "print(set_från_list) # Som Yoda skulle säga\n",
    "list_från_set = list(set_från_list)\n",
    "print(list_från_set) # Ordningen är nu den som mängden hade"
   ]
  },
  {
   "cell_type": "markdown",
   "id": "429501f4",
   "metadata": {},
   "source": [
    "Mängder är också den mest effektiva metoden (vilket kan vara viktig för storskaliga tillämpningar) för att kontrollera om ett element finns i en lista."
   ]
  },
  {
   "cell_type": "code",
   "execution_count": null,
   "id": "dc5d95c4",
   "metadata": {},
   "outputs": [],
   "source": [
    "for molekyl in (\"benzen\", \"fosfat\"):\n",
    "    if molekyl in molekyl_set:\n",
    "        print(molekyl, \"fanns\")\n",
    "    else:\n",
    "        print(molekyl, \"fanns inte\")"
   ]
  },
  {
   "cell_type": "markdown",
   "id": "3cfb24f4",
   "metadata": {},
   "source": [
    "Jämför utförandetid av de 2 funktioner"
   ]
  },
  {
   "cell_type": "code",
   "execution_count": null,
   "id": "ce14a514",
   "metadata": {},
   "outputs": [],
   "source": [
    "stor_lista = list(range(10000))\n",
    "def prova_lista(k):\n",
    "    return k in stor_lista\n",
    "%timeit -n 1000 prova_lista(10)\n",
    "%timeit -n 1000 prova_lista(100)\n",
    "%timeit -n 1000 prova_lista(1000)\n",
    "%timeit -n 1000 prova_lista(9999)\n",
    "%timeit -n 1000 prova_lista('a')"
   ]
  },
  {
   "cell_type": "code",
   "execution_count": null,
   "id": "b1f3c2a6",
   "metadata": {},
   "outputs": [],
   "source": [
    "stor_mängd = set(range(10000))\n",
    "def prova_mängd(k):\n",
    "    return k in stor_mängd\n",
    "%timeit -n 1000 prova_mängd(10)\n",
    "%timeit -n 1000 prova_mängd(100)\n",
    "%timeit -n 1000 prova_mängd(1000)\n",
    "%timeit -n 1000 prova_mängd(9999)\n",
    "%timeit -n 1000 prova_mängd('a')"
   ]
  },
  {
   "cell_type": "markdown",
   "id": "7ae6b600",
   "metadata": {},
   "source": [
    "**Övning:**\n",
    "\n",
    "Antag att ditt laboratorium har en lista över kemikalier som finns tillgängliga (lösningsmedel_i_labbet och molekyler_i_labbet) och en uppsättning molekyler som krävs för att syntetisera ibuprofen (ibuprofen_kemikalier).\n",
    "\n",
    "Du kan använda grundläggande mängdoperationer för att skapa mängden av molekyler som behöver köpas och sedan skapa den totala mängden av molekyler som finns tillgängliga efter köpet."
   ]
  },
  {
   "cell_type": "code",
   "execution_count": null,
   "id": "8d210618",
   "metadata": {
    "deletable": false,
    "nbgrader": {
     "cell_type": "code",
     "checksum": "fe71a11a3b7e23883b1adad921b50724",
     "grade": false,
     "grade_id": "cell-7369eded8c2dc231",
     "locked": false,
     "schema_version": 3,
     "solution": true,
     "task": false
    }
   },
   "outputs": [],
   "source": [
    "lösningsmedel_i_labbet = [\"aceton\", \"toluen\", \"metanol\", \"etanol\", \"vatten\"]\n",
    "molekyler_i_labbet = [\"HCl\", \"svavelsyra\", \"magnesium\", \"LiAlH4\", \"NaBH4\", \"AlCl3\", \"NaCl\"]\n",
    "ibuprofen_kemikalier = [\"isobutylbenzen\" , \"ättiksanhydrid\", \"AlCl3\", \"NaBH4\", \"metanol\", \"HCl\", \"magnesium\", \"CO2\"]\n",
    "\n",
    "# YOUR CODE HERE\n",
    "raise NotImplementedError()\n",
    "assert att_köpa == {'isobutylbenzen', 'ättiksanhydrid', 'CO2'}\n",
    "assert tillgängliga_efter_köpet == {'aceton', 'metanol', 'AlCl3', 'toluen', 'vatten', 'NaCl', 'NaBH4', 'magnesium', 'CO2', 'ättiksanhydrid', 'HCl', 'LiAlH4', 'svavelsyra', 'isobutylbenzen', 'etanol'}"
   ]
  },
  {
   "cell_type": "markdown",
   "id": "7e415145",
   "metadata": {},
   "source": [
    "# Strängar\n",
    "\n",
    "Vi har manipulerat strängar en liten stund nu, men vi har inte tittat på deras egenskaper. Faktum är att en sträng också är en samling, en samling av enskilda tecken. Det betyder att de kan manipuleras på mycket samma sätt som listor."
   ]
  },
  {
   "cell_type": "code",
   "execution_count": null,
   "id": "130f9a87",
   "metadata": {},
   "outputs": [],
   "source": [
    "molekyl = \"isobutylbenzen\"\n",
    "print(len(molekyl))\n",
    "print(molekyl[0])\n",
    "print(molekyl[-6:])\n",
    "for bokstav in molekyl:\n",
    "    print(bokstav)\n",
    "print(molekyl + \" är en molekyl\")"
   ]
  },
  {
   "cell_type": "markdown",
   "id": "888c931e",
   "metadata": {},
   "source": [
    "Strängar har också många praktiska funktioner för att hjälpa till att manipulera dem. Listan nedan är inte uttömmande."
   ]
  },
  {
   "cell_type": "code",
   "execution_count": null,
   "id": "adc5ac68",
   "metadata": {},
   "outputs": [],
   "source": [
    "# Vilken typ\n",
    "print(\"C är en bokstav:\",\"C\".isalpha())\n",
    "print(\"C är ett nummer:\",\"C\".isnumeric())\n",
    "print(\"C är en versal:\",\"C\".isupper())\n",
    "print(\"C is en gemen:\",\"C\".islower())\n",
    "print()\n",
    "\n",
    "# Omvandla\n",
    "string = \"Butadien\"\n",
    "print(\"Butadien till gemen blir:\", string.lower())\n",
    "print(\"Butadien till versal blir:\", string.upper())\n",
    "molekyl = \"C6H12O6\"\n",
    "print(\"Det finns\",int(molekyl[3:5]),\"väte atomer i\", molekyl)\n",
    "print()\n",
    "\n",
    "# Hitta tecken\n",
    "reaktion = \" A + B = C \"\n",
    "print(\"Delar upp en sträng:\", reaktion.split(\"=\")) # Dela upp i en lista runt det valda symbolen\n",
    "print(\"+ finns i reaktionen: \",\"+\" in reaktion, \"på position\", reaktion.index(\"+\"))\n",
    "print(\"Nu blir det kemi\", reaktion.replace(\"=\",\"->\"))\n",
    "print()"
   ]
  },
  {
   "cell_type": "markdown",
   "id": "7df0d368",
   "metadata": {},
   "source": [
    "För att få en mer uttömmande lista, glöm inte att du kan be python om hjälp."
   ]
  },
  {
   "cell_type": "code",
   "execution_count": null,
   "id": "2f2e4fca",
   "metadata": {},
   "outputs": [],
   "source": [
    "help(str)"
   ]
  },
  {
   "cell_type": "markdown",
   "id": "ce5d6d88",
   "metadata": {},
   "source": [
    "**Övning:** Skapa en funktion som returnerar mängden av alla atomer som finns i en sträng. Eftersom atomer kan ha antingen en eller två bokstäver (vi kommer att ignorera de med tre bokstäver), när du har en versal bokstav, kontrollera bara om nästa tecken är gemener. Om det är så, bildar de en enda atom, annars är de separata atomer."
   ]
  },
  {
   "cell_type": "code",
   "execution_count": null,
   "id": "7ea6c5ba",
   "metadata": {
    "deletable": false,
    "nbgrader": {
     "cell_type": "code",
     "checksum": "f8b2adc71c632ba24d89dcd89eaf7718",
     "grade": false,
     "grade_id": "cell-b975d635ca405d11",
     "locked": false,
     "schema_version": 3,
     "solution": true,
     "task": false
    }
   },
   "outputs": [],
   "source": [
    "# YOUR CODE HERE\n",
    "raise NotImplementedError()"
   ]
  },
  {
   "cell_type": "code",
   "execution_count": null,
   "id": "ddb43224",
   "metadata": {},
   "outputs": [],
   "source": [
    "assert unik_atomlista(\"NaCl\") == {\"Na\", \"Cl\"}\n",
    "assert unik_atomlista(\"H2O\") == {\"H\", \"O\"}\n",
    "assert unik_atomlista(\"C6H12O6\") == {\"C\", \"H\", \"O\"}\n",
    "assert unik_atomlista(\"Fe(CN)6\") == {\"Fe\", \"C\", \"N\"}\n",
    "assert unik_atomlista(\"6CO2 + 6H2O → C6H12O6 + 6O2\") == {\"C\", \"O\", \"H\"}"
   ]
  },
  {
   "cell_type": "markdown",
   "id": "12209a2f",
   "metadata": {},
   "source": [
    "# Dictionaries (Lexikon)\n",
    "\n",
    "Den sista typen av samling är dictionaries (Lexikon). Till skillnad från de tidigare typerna är lexikon associativa, med ett \"ord\" och dess \"definition\". I python-språket refererar vi till \"ordet\" som \"nyckeln\" (key) och \"definitionen\" som värdet (value). Lexikon kan vara användbara när du vill associera 2 variabler med varandra. Vi gjorde det implicit när vi sorterade pKa genom att behålla 2 separata listor, där indexet i listan bibehölls. Men det kan vara mer praktiskt att associera båda variablerna direkt i en struktur.\n",
    "\n",
    "Lexikon definieras genom att använda `{}`, precis som mängder. Såsom mängder har lexikom ingen ordning och accepterar inte dubbletter, det vill säga 2 identiska nycklar. Nyckeln och värdet associeras med `:`."
   ]
  },
  {
   "cell_type": "code",
   "execution_count": null,
   "id": "13f0a78e",
   "metadata": {},
   "outputs": [],
   "source": [
    "pka_dict = {\"Mjölksyra\":3.86, \"Oxalsyra\": 1.23, \"Ättiksyra\": 4.75, \"Kolsyra\":6.37, \"Bensoesyra\":4.19}\n",
    "print(pka_dict)\n",
    "tom_dict = {}"
   ]
  },
  {
   "cell_type": "markdown",
   "id": "b52645bc",
   "metadata": {},
   "source": [
    "Elementen i en dictionary kan sedan nås genom att använda nyckeln istället för det vanliga indexet. Med andra ord, `värde = lexikon[nyckel]`:"
   ]
  },
  {
   "cell_type": "code",
   "execution_count": null,
   "id": "648f87f3",
   "metadata": {},
   "outputs": [],
   "source": [
    "print(\"Ättiksyra har en pKa på\",pka_dict[\"Ättiksyra\"])"
   ]
  },
  {
   "cell_type": "markdown",
   "id": "98d63e25",
   "metadata": {},
   "source": [
    "När vi loopar över element i en dictionary kan vi antingen loopa över nycklarna eller över nyckel-värde-paren."
   ]
  },
  {
   "cell_type": "code",
   "execution_count": null,
   "id": "501f4679",
   "metadata": {},
   "outputs": [],
   "source": [
    "for syra in pka_dict:\n",
    "    print(syra)\n",
    "\n",
    "print()\n",
    "for syra, pka in pka_dict.items():\n",
    "    print(syra,\"har en pKa på\", pka)"
   ]
  },
  {
   "cell_type": "markdown",
   "id": "179a8762",
   "metadata": {},
   "source": [
    "Du kan komma åt nycklarna och värdena som separata listor:"
   ]
  },
  {
   "cell_type": "code",
   "execution_count": null,
   "id": "5fe59b51",
   "metadata": {},
   "outputs": [],
   "source": [
    "print(list(pka_dict.keys()))\n",
    "print(list(pka_dict.values()))"
   ]
  },
  {
   "cell_type": "markdown",
   "id": "290edd99",
   "metadata": {},
   "source": [
    "För att lägga till ett nytt nyckel-nyckel par i en lexikon räcker det att tilldela ett värde till en ny nyckel:"
   ]
  },
  {
   "cell_type": "code",
   "execution_count": null,
   "id": "226f27db",
   "metadata": {},
   "outputs": [],
   "source": [
    "print(len(pka_dict))\n",
    "pka_dict[\"Citronsyra\"] = 3.08\n",
    "print(len(pka_dict))"
   ]
  },
  {
   "cell_type": "markdown",
   "id": "6c8c9f0a",
   "metadata": {},
   "source": [
    "**Övning:** Använd ett översättningslexikon för att skapa en funktion som konverterar en DNA-sekvens till dess baspar-sekvens och returnerar den resulterande strängen. Påminnelse, basparen är A-T och C-G, så till exempel skulle sekvensen ATCG konverteras till sekvensen TAGC."
   ]
  },
  {
   "cell_type": "code",
   "execution_count": null,
   "id": "e9f8e915",
   "metadata": {
    "deletable": false,
    "nbgrader": {
     "cell_type": "code",
     "checksum": "e2efed4b7ca642256af65e174821dd7d",
     "grade": false,
     "grade_id": "cell-77ac0c5840e55842",
     "locked": false,
     "schema_version": 3,
     "solution": true,
     "task": false
    }
   },
   "outputs": [],
   "source": [
    "# YOUR CODE HERE\n",
    "raise NotImplementedError()"
   ]
  },
  {
   "cell_type": "code",
   "execution_count": null,
   "id": "6ff7b92d",
   "metadata": {},
   "outputs": [],
   "source": [
    "assert baspar('ATGGCGATTA') == 'TACCGCTAAT'"
   ]
  },
  {
   "cell_type": "markdown",
   "id": "85e1eda1",
   "metadata": {},
   "source": [
    "**Övning:** Skriv en liknande funktion som nu översätter DNA-sekvensen till en aminosyrasekvens med hjälp av den givna översättningstabellen. Observera att 3 nukleotidbaser kodar för en enda aminosyra. Print-uttrycket bör berätta om du har lyckats..."
   ]
  },
  {
   "cell_type": "code",
   "execution_count": null,
   "id": "0012e6f2",
   "metadata": {
    "deletable": false,
    "nbgrader": {
     "cell_type": "code",
     "checksum": "e5d3e92a3335b913acd16f87cda07ca1",
     "grade": false,
     "grade_id": "cell-b9c5bf0b6b9bcd98",
     "locked": false,
     "schema_version": 3,
     "solution": true,
     "task": false
    }
   },
   "outputs": [],
   "source": [
    "def DNA_översättning(dna_sekvens):\n",
    "    översättningstabellen = {\n",
    "        'ATA':'I', 'ATC':'I', 'ATT':'I', 'ATG':'M',\n",
    "        'ACA':'T', 'ACC':'T', 'ACG':'T', 'ACT':'T',\n",
    "        'AAC':'N', 'AAT':'N', 'AAA':'K', 'AAG':'K',\n",
    "        'AGC':'S', 'AGT':'S', 'AGA':'R', 'AGG':'R',                \n",
    "        'CTA':'L', 'CTC':'L', 'CTG':'L', 'CTT':'L',\n",
    "        'CCA':'P', 'CCC':'P', 'CCG':'P', 'CCT':'P',\n",
    "        'CAC':'H', 'CAT':'H', 'CAA':'Q', 'CAG':'Q',\n",
    "        'CGA':'R', 'CGC':'R', 'CGG':'R', 'CGT':'R',\n",
    "        'GTA':'V', 'GTC':'V', 'GTG':'V', 'GTT':'V',\n",
    "        'GCA':'A', 'GCC':'A', 'GCG':'A', 'GCT':'A',\n",
    "        'GAC':'D', 'GAT':'D', 'GAA':'E', 'GAG':'E',\n",
    "        'GGA':'G', 'GGC':'G', 'GGG':'G', 'GGT':'G',\n",
    "        'TCA':'S', 'TCC':'S', 'TCG':'S', 'TCT':'S',\n",
    "        'TTC':'F', 'TTT':'F', 'TTA':'L', 'TTG':'L',\n",
    "        'TAC':'Y', 'TAT':'Y', 'TAA':'_', 'TAG':'_',\n",
    "        'TGC':'C', 'TGT':'C', 'TGA':'_', 'TGG':'W',\n",
    "    }\n",
    "    # YOUR CODE HERE\n",
    "    raise NotImplementedError()"
   ]
  },
  {
   "cell_type": "code",
   "execution_count": null,
   "id": "3cdf084f",
   "metadata": {},
   "outputs": [],
   "source": [
    "print(DNA_översättning('TGGGAGCTTCTATAACCTCTTGCGTATGAAGAC'))"
   ]
  },
  {
   "cell_type": "code",
   "execution_count": null,
   "id": "077901bd",
   "metadata": {},
   "outputs": [],
   "source": []
  }
 ],
 "metadata": {
  "kernelspec": {
   "display_name": "Python 3 (ipykernel)",
   "language": "python",
   "name": "python3"
  },
  "language_info": {
   "codemirror_mode": {
    "name": "ipython",
    "version": 3
   },
   "file_extension": ".py",
   "mimetype": "text/x-python",
   "name": "python",
   "nbconvert_exporter": "python",
   "pygments_lexer": "ipython3",
   "version": "3.11.0"
  }
 },
 "nbformat": 4,
 "nbformat_minor": 5
}
