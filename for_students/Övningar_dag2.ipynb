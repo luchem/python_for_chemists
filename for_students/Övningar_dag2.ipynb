{
 "cells": [
  {
   "cell_type": "markdown",
   "id": "60e43500",
   "metadata": {},
   "source": [
    "# Stökiometribestämning\n",
    "\n",
    "Stökiometri är ett viktigt begrepp inom kemin som handlar om de kvantitativa förhållandena mellan reaktanter och produkter i en kemisk reaktion. I denna övning kommer vi att skapa ett program som utför stökiometribestämningar.\n",
    "\n",
    "Man börjar med en lexikon som heter \"reaktion\" och representerar en kemisk reaktion. Nycklarna i dictionaryn ska vara de kemiska ämnena (molekyler eller atomer) som är involverade i reaktionen, och värdena ska vara deras motsvarande stökiometriska koefficienter. \n",
    "\n",
    "**Uppgift 1:** Skapa en funktion som heter \"stökiometri\" som tar reaktionsdictionaryn och en given mängd (i mol) av en reaktant som inmatning. Funktionen ska beräkna mängden av alla andra ämnen som är involverade i reaktionen. Utdata ska vara en dictionary som innehåller de beräknade mängderna."
   ]
  },
  {
   "cell_type": "code",
   "execution_count": null,
   "id": "60acbc80",
   "metadata": {
    "deletable": false,
    "nbgrader": {
     "cell_type": "code",
     "checksum": "78df1952b6cda8678298c533e43a4ef6",
     "grade": false,
     "grade_id": "cell-77149312d7328571",
     "locked": false,
     "schema_version": 3,
     "solution": true,
     "task": false
    }
   },
   "outputs": [],
   "source": [
    "# YOUR CODE HERE\n",
    "raise NotImplementedError()"
   ]
  },
  {
   "cell_type": "code",
   "execution_count": null,
   "id": "a85d6e25",
   "metadata": {
    "deletable": false,
    "editable": false,
    "nbgrader": {
     "cell_type": "code",
     "checksum": "92e4299bd7387a5537e0d962a737ca30",
     "grade": true,
     "grade_id": "cell-84580d6f75c41f33",
     "locked": true,
     "points": 0,
     "schema_version": 3,
     "solution": false,
     "task": false
    }
   },
   "outputs": [],
   "source": [
    "# Reaktion 1: 2H2 + O2 -> 2H2O\n",
    "reaktion1 = {\"H2\":2,\"O2\":1, \"H2O\":2}\n",
    "assert stökiometri(reaktion1, \"H2\", 1) == {\"H2\":1,\"O2\":0.5, \"H2O\":1}\n",
    "assert stökiometri(reaktion1, \"O2\", 3.2) == {\"H2\":6.4,\"O2\":3.2, \"H2O\":6.4}\n",
    "\n",
    "# CH4 + 2O2 -> CO2 + 2H2O\n",
    "reaktion2 = {\"CH4\":1,\"O2\":2, \"CO2\":1, \"H2O\":2}\n",
    "assert stökiometri(reaktion2, \"O2\", 0.8) == {\"CH4\":0.4,\"O2\":0.8, \"CO2\":0.4, \"H2O\":0.8}\n",
    "\n",
    "# 6CO2 + 6H2O -> C6H12O6 + 6O2\n",
    "reaktion3 = {\"CO2\":6,\"H2O\":6, \"C6H12O6\":1, \"O2\":6}\n",
    "assert stökiometri(reaktion3, \"CO2\", 0.9) == {\"CO2\":0.9,\"H2O\":0.9, \"C6H12O6\":0.15, \"O2\":0.9}"
   ]
  },
  {
   "cell_type": "markdown",
   "id": "c557c9f5",
   "metadata": {},
   "source": [
    "**Uppgift 2:** Modifiera det tidigare programmet för att istället ange en dictionary som inmatning med mängderna av varje reaktant. Om mängden av ett ämne inte anges, antag 0. Hitta den begränsande reaktanten och de slutliga mängderna av alla reaktanter och produkter som finns kvar i slutet av reaktionen, under antagande av 100% utbyte. Skriv ut den begränsande reaktanten. Utdata ska vara en dictionary som innehåller de beräknade mängderna.\n",
    "\n",
    "Notera att nu har reaktion lexikon negativ tecken på produkter."
   ]
  },
  {
   "cell_type": "code",
   "execution_count": null,
   "id": "c3a755ee",
   "metadata": {
    "deletable": false,
    "nbgrader": {
     "cell_type": "code",
     "checksum": "8b77055cb3b3affbfc1de77b7d82ab04",
     "grade": false,
     "grade_id": "cell-79009619aef9483a",
     "locked": false,
     "schema_version": 3,
     "solution": true,
     "task": false
    },
    "tags": []
   },
   "outputs": [],
   "source": [
    "# YOUR CODE HERE\n",
    "raise NotImplementedError()"
   ]
  },
  {
   "cell_type": "code",
   "execution_count": null,
   "id": "06fa7a9c",
   "metadata": {
    "deletable": false,
    "editable": false,
    "nbgrader": {
     "cell_type": "code",
     "checksum": "3202afbc4b27ac1caf5da014dbbe6f94",
     "grade": true,
     "grade_id": "cell-27761b87b7ef1aad",
     "locked": true,
     "points": 0,
     "schema_version": 3,
     "solution": false,
     "task": false
    }
   },
   "outputs": [],
   "source": [
    "# Reaktion 1: 2H2 + O2 -> 2H2O\n",
    "reaktion1 = {\"H2\":2,\"O2\":1, \"H2O\":-2}\n",
    "assert stökiometri(reaktion1, {\"H2\":1, \"O2\":1}) == {'H2': 0.0, 'O2': 0.5, 'H2O': 1.0}"
   ]
  },
  {
   "cell_type": "code",
   "execution_count": null,
   "id": "17e22e38",
   "metadata": {
    "deletable": false,
    "editable": false,
    "nbgrader": {
     "cell_type": "code",
     "checksum": "9099f0117f2edfbb6a23369b124a1212",
     "grade": true,
     "grade_id": "cell-d0d9cf2a46425cac",
     "locked": true,
     "points": 0,
     "schema_version": 3,
     "solution": false,
     "task": false
    }
   },
   "outputs": [],
   "source": [
    "# CH4 + 2O2 -> CO2 + 2H2O\n",
    "reaktion2 = {\"CH4\":1,\"O2\":2, \"CO2\":-1, \"H2O\":-2}\n",
    "assert stökiometri(reaktion2, {\"CH4\":0.8, \"O2\":5.0, \"H2O\":10}) == {\"CH4\":0,\"O2\":3.4, \"CO2\":0.8, \"H2O\":11.6}"
   ]
  },
  {
   "cell_type": "code",
   "execution_count": null,
   "id": "c3b90906",
   "metadata": {
    "deletable": false,
    "editable": false,
    "nbgrader": {
     "cell_type": "code",
     "checksum": "6a2c38e2e1df03d3f3400eac9d02caff",
     "grade": true,
     "grade_id": "cell-87c77110b7beb5e3",
     "locked": true,
     "points": 0,
     "schema_version": 3,
     "solution": false,
     "task": false
    }
   },
   "outputs": [],
   "source": [
    "# 6CO2 + 6H2O -> C6H12O6 + 6O2\n",
    "reaktion3 = {\"CO2\":6,\"H2O\":6, \"C6H12O6\":-1, \"O2\":-6}\n",
    "assert stökiometri(reaktion3, {\"CO2\":0.9}) == {\"CO2\":0.9,\"H2O\":0, \"C6H12O6\":0, \"O2\":0}"
   ]
  },
  {
   "cell_type": "markdown",
   "id": "24f7993d",
   "metadata": {},
   "source": [
    "# Molekylmassa\n",
    "\n",
    "**Uppgift:** Inspirerad av övningen \"unik_atomlista\", skapa en funktion som läser in en sträng och returnerar molekylmassan genom att använda den tillhandahållna ordboken för molmassa:"
   ]
  },
  {
   "cell_type": "code",
   "execution_count": null,
   "id": "39cb83ec",
   "metadata": {
    "deletable": false,
    "nbgrader": {
     "cell_type": "code",
     "checksum": "680231c3c60f811d96f9a62b22a7082b",
     "grade": false,
     "grade_id": "cell-03070e6b6af15a5c",
     "locked": false,
     "schema_version": 3,
     "solution": true,
     "task": false
    }
   },
   "outputs": [],
   "source": [
    "molmassa = {'H' : 1.008,'He' : 4.003, 'Li' : 6.941, 'Be' : 9.012,\\\n",
    "             'B' : 10.811, 'C' : 12.011, 'N' : 14.007, 'O' : 15.999,\\\n",
    "             'F' : 18.998, 'Ne' : 20.180, 'Na' : 22.990, 'Mg' : 24.305,\\\n",
    "             'Al' : 26.982, 'Si' : 28.086, 'P' : 30.974, 'S' : 32.066,\\\n",
    "             'Cl' : 35.453, 'Ar' : 39.948, 'K' : 39.098, 'Ca' : 40.078,\\\n",
    "             'Sc' : 44.956, 'Ti' : 47.867, 'V' : 50.942, 'Cr' : 51.996,\\\n",
    "             'Mn' : 54.938, 'Fe' : 55.845, 'Co' : 58.933, 'Ni' : 58.693,\\\n",
    "             'Cu' : 63.546, 'Zn' : 65.38, 'Ga' : 69.723, 'Ge' : 72.631,\\\n",
    "             'As' : 74.922, 'Se' : 78.971, 'Br' : 79.904, 'Kr' : 84.798,\\\n",
    "             'Rb' : 84.468, 'Sr' : 87.62, 'Y' : 88.906, 'Zr' : 91.224,\\\n",
    "             'Nb' : 92.906, 'Mo' : 95.95, 'Tc' : 98.907, 'Ru' : 101.07,\\\n",
    "             'Rh' : 102.906, 'Pd' : 106.42, 'Ag' : 107.868, 'Cd' : 112.414,\\\n",
    "             'In' : 114.818, 'Sn' : 118.711, 'Sb' : 121.760, 'Te' : 126.7,\\\n",
    "             'I' : 126.904, 'Xe' : 131.294, 'Cs' : 132.905, 'Ba' : 137.328,\\\n",
    "             'La' : 138.905, 'Ce' : 140.116, 'Pr' : 140.908, 'Nd' : 144.243,\\\n",
    "             'Pm' : 144.913, 'Sm' : 150.36, 'Eu' : 151.964, 'Gd' : 157.25,\\\n",
    "             'Tb' : 158.925, 'Dy': 162.500, 'Ho' : 164.930, 'Er' : 167.259,\\\n",
    "             'Tm' : 168.934, 'Yb' : 173.055, 'Lu' : 174.967, 'Hf' : 178.49,\\\n",
    "             'Ta' : 180.948, 'W' : 183.84, 'Re' : 186.207, 'Os' : 190.23,\\\n",
    "             'Ir' : 192.217, 'Pt' : 195.085, 'Au' : 196.967, 'Hg' : 200.592,\\\n",
    "             'Tl' : 204.383, 'Pb' : 207.2, 'Bi' : 208.980, 'Po' : 208.982,\\\n",
    "             'At' : 209.987, 'Rn' : 222.081, 'Fr' : 223.020, 'Ra' : 226.025,\\\n",
    "             'Ac' : 227.028, 'Th' : 232.038, 'Pa' : 231.036, 'U' : 238.029,\\\n",
    "             'Np' : 237, 'Pu' : 244, 'AM' : 243, 'Cm' : 247, 'Bk' : 247,\\\n",
    "             'Ct' : 251, 'Es' : 252, 'FM' : 257, 'Md' : 258, 'No' : 259,\\\n",
    "             'Lr' : 262, 'Rf' : 261, 'DB' : 262, 'Sg' : 266, 'Bh' : 264,\\\n",
    "             'Hs' : 269, 'Mt' : 268, 'DS' : 271, 'Rg' : 272, 'Cn' : 285,\\\n",
    "             'Nh' : 284, 'Fl' : 289, 'MC' : 288, 'Lv' : 292, 'Ts' : 294,\\\n",
    "             'Og' : 294}\n",
    "# YOUR CODE HERE\n",
    "raise NotImplementedError()"
   ]
  },
  {
   "cell_type": "code",
   "execution_count": null,
   "id": "c086cb8c",
   "metadata": {
    "deletable": false,
    "editable": false,
    "nbgrader": {
     "cell_type": "code",
     "checksum": "4a21bfc74648162c9b1cda9ea15bba8b",
     "grade": true,
     "grade_id": "cell-be0db4c3921d3a6c",
     "locked": true,
     "points": 0,
     "schema_version": 3,
     "solution": false,
     "task": false
    }
   },
   "outputs": [],
   "source": [
    "O2 = \"O2\"\n",
    "assert abs(molekylmassa(O2) - 31.998) < 1.0e-4\n",
    "NaCl = \"NaCl\"\n",
    "assert abs(molekylmassa(NaCl) - 58.443) < 1.0e-4\n",
    "glucose = \"C6H12O6\"\n",
    "assert abs(molekylmassa(glucose) - 180.156) < 1.0e-4\n",
    "hemoglobin = \"C2952H4464N3248O812S8Fe4\"\n",
    "assert abs(molekylmassa(hemoglobin) - 98922.016) < 1.0e-4"
   ]
  },
  {
   "cell_type": "markdown",
   "id": "c72d9f2e",
   "metadata": {},
   "source": [
    "# Stökiometribestämning: mass edition!\n",
    "\n",
    "Kombinera föregående 2 övningar för att beräkna slutliga mängd i gram från reaktant mängder i gram."
   ]
  },
  {
   "cell_type": "code",
   "execution_count": null,
   "id": "63192ec5",
   "metadata": {
    "deletable": false,
    "nbgrader": {
     "cell_type": "code",
     "checksum": "212d4ec110be2b5cc500d55ef6213506",
     "grade": false,
     "grade_id": "cell-158c189cb48293fe",
     "locked": false,
     "schema_version": 3,
     "solution": true,
     "task": false
    }
   },
   "outputs": [],
   "source": [
    "# YOUR CODE HERE\n",
    "raise NotImplementedError()"
   ]
  },
  {
   "cell_type": "code",
   "execution_count": null,
   "id": "85c1f10c",
   "metadata": {
    "deletable": false,
    "nbgrader": {
     "cell_type": "code",
     "checksum": "ae59a7d4b83bb749f2b53b9bdaa15034",
     "grade": false,
     "grade_id": "cell-ec692a1ef8244e6f",
     "locked": false,
     "schema_version": 3,
     "solution": true,
     "task": false
    }
   },
   "outputs": [],
   "source": [
    "# YOUR CODE HERE\n",
    "raise NotImplementedError()"
   ]
  },
  {
   "cell_type": "code",
   "execution_count": null,
   "id": "e31a1377",
   "metadata": {},
   "outputs": [],
   "source": []
  }
 ],
 "metadata": {
  "kernelspec": {
   "display_name": "Python 3 (ipykernel)",
   "language": "python",
   "name": "python3"
  },
  "language_info": {
   "codemirror_mode": {
    "name": "ipython",
    "version": 3
   },
   "file_extension": ".py",
   "mimetype": "text/x-python",
   "name": "python",
   "nbconvert_exporter": "python",
   "pygments_lexer": "ipython3",
   "version": "3.11.0"
  }
 },
 "nbformat": 4,
 "nbformat_minor": 5
}
