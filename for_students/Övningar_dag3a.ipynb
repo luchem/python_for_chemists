{
 "cells": [
  {
   "cell_type": "markdown",
   "id": "92b2bac9",
   "metadata": {},
   "source": [
    "# Fasjämvikter med van der Waals gaslag\n",
    "\n",
    "Allmäna gaslagen säger att trycket $p$ [N/$m^2$]varierar med koncentration, $c=n/V$ [mol/$L$], och tempertur, $T$ [K]. $R$ är den allmäna gaskonstanten.\n",
    "\n",
    "$p = 1000 c R T$"
   ]
  },
  {
   "cell_type": "code",
   "execution_count": null,
   "id": "d4df873c",
   "metadata": {
    "deletable": false,
    "editable": false,
    "nbgrader": {
     "cell_type": "code",
     "checksum": "256338d02c405bc796c9c21a9369d8f8",
     "grade": false,
     "grade_id": "cell-fdd294d3bcae4426",
     "locked": true,
     "schema_version": 3,
     "solution": false,
     "task": false
    },
    "tags": []
   },
   "outputs": [],
   "source": [
    "import numpy as np\n",
    "import matplotlib\n",
    "import matplotlib.pyplot as plt\n",
    "import scipy.integrate as integrate\n",
    "from scipy.signal import argrelextrema"
   ]
  },
  {
   "cell_type": "code",
   "execution_count": null,
   "id": "a8e92cda",
   "metadata": {
    "deletable": false,
    "editable": false,
    "nbgrader": {
     "cell_type": "code",
     "checksum": "833606eb7343544a051da38bb8057b52",
     "grade": false,
     "grade_id": "cell-2e8aded87ac32327",
     "locked": true,
     "schema_version": 3,
     "solution": false,
     "task": false
    }
   },
   "outputs": [],
   "source": [
    "R = 8.314462618 #J/K/mol\n",
    "N_A = 6.022e23\n",
    "def gaslag(c,T):\n",
    "    p=1000.*c*R*T\n",
    "    return p"
   ]
  },
  {
   "cell_type": "code",
   "execution_count": null,
   "id": "1bbf428f",
   "metadata": {
    "deletable": false,
    "editable": false,
    "nbgrader": {
     "cell_type": "code",
     "checksum": "b53342e76797dcb012fb121e671c1620",
     "grade": false,
     "grade_id": "cell-905c7a2b67c7ec8d",
     "locked": true,
     "schema_version": 3,
     "solution": false,
     "task": false
    }
   },
   "outputs": [],
   "source": [
    "c = np.linspace(0.001,100,1000)\n",
    "T = 298 # K\n",
    "plt.plot(c,gaslag(c,T))\n",
    "plt.xlabel(\"$c$\")\n",
    "plt.ylabel(\"$p$\")\n",
    "plt.show()"
   ]
  },
  {
   "cell_type": "markdown",
   "id": "d0ee5c1f",
   "metadata": {},
   "source": [
    "# van der Waals ekvation för imperfekta gaser (alltså riktiga gaser)\n",
    "\n",
    "Trycket ges nu istället av:\n",
    "\n",
    "$p = \\frac{1000 c R T}{(1.-1000 c b)}-a (1000c)^2$\n",
    "\n",
    "där $b$ är en utesluten volym och $a$ en växelverkans parameter. Om du sätter $a=0$ och $b=0$ så vår vi tillbaka den ideala gaslagen ovan. $b$ kommer ha enheten volym och $a$ volym i kvadrat.\n",
    "\n",
    "$b$ är ungefärligt lika med $\\frac{4 \\pi d^3}{3}N_A$ där $d$ är diametern på atomen/molekylen och $N_A$ är Avogadros tal. Vi börjar med att definera funktionern för vdW som tar argumenten $c$ och $T$ antaget att $a$ och $b$  är kända"
   ]
  },
  {
   "cell_type": "code",
   "execution_count": null,
   "id": "8feb0762",
   "metadata": {
    "deletable": false,
    "editable": false,
    "nbgrader": {
     "cell_type": "code",
     "checksum": "2799bba6cfd806ffa34eb783832fdeee",
     "grade": false,
     "grade_id": "cell-0837181981356f68",
     "locked": true,
     "schema_version": 3,
     "solution": false,
     "task": false
    }
   },
   "outputs": [],
   "source": [
    "def vdW(c,T):\n",
    "    p=1000*c*R*T/(1.-1000*c*b)-a*c*c*1e6\n",
    "    return p"
   ]
  },
  {
   "cell_type": "markdown",
   "id": "f6a33bd1",
   "metadata": {},
   "source": [
    "### Rita lite grafer för olika $a$ parametrar\n",
    "Vi börjar med att definera en koncentrations intervall där vi vill titta på trycket, från låg till hög.\n",
    "Notera att `vdW`-uttrycket divergerar då $1000.*c*b$. Det mostsvara en koncentration då atomerna börjar överlappa varandra. Vi begränsar därmed $c$. $b$ beräknas för en molekyl som är 3 Å i diameter."
   ]
  },
  {
   "cell_type": "code",
   "execution_count": null,
   "id": "ca10349e",
   "metadata": {
    "deletable": false,
    "editable": false,
    "nbgrader": {
     "cell_type": "code",
     "checksum": "9fc57ffdf6f71ca46efc2089407738fc",
     "grade": false,
     "grade_id": "cell-060789cbcc94cde2",
     "locked": true,
     "schema_version": 3,
     "solution": false,
     "task": false
    }
   },
   "outputs": [],
   "source": [
    "b = 4.*np.pi/3.*np.power(3e-10,3)*N_A\n",
    "cmax=1./b/1000.\n",
    "c = np.logspace(np.log10(0.01),np.log10(cmax),1000,endpoint=False)\n",
    "plt.plot(c,gaslag(c,T))\n",
    "a = 0.\n",
    "plt.plot(c,vdW(c,T))\n",
    "a = 0.5\n",
    "plt.plot(c,vdW(c,T))\n",
    "a = 0.6\n",
    "plt.plot(c,vdW(c,T))\n",
    "a = 0.67\n",
    "plt.plot(c,vdW(c,T))\n",
    "plt.xscale('log')\n",
    "plt.yscale('log')\n",
    "plt.xlabel(\"$c$\")\n",
    "plt.ylabel(\"$p$\")\n",
    "plt.show()"
   ]
  },
  {
   "cell_type": "markdown",
   "id": "997cd1e7",
   "metadata": {},
   "source": [
    "# Notera att vi får en icke-monoton kurva\n",
    "Låt oss rita graferna i $p$-$V$ planet istället."
   ]
  },
  {
   "cell_type": "code",
   "execution_count": null,
   "id": "364f0371",
   "metadata": {
    "deletable": false,
    "editable": false,
    "nbgrader": {
     "cell_type": "code",
     "checksum": "04a683e0077ecedaad91f1746a343283",
     "grade": false,
     "grade_id": "cell-b732d3c54c03eb5d",
     "locked": true,
     "schema_version": 3,
     "solution": false,
     "task": false
    }
   },
   "outputs": [],
   "source": [
    "b = 4.*np.pi/3.*np.power(3e-10,3)*N_A\n",
    "cmax=1./b/1000.\n",
    "c = np.logspace(np.log10(0.01),np.log10(cmax),1000,endpoint=False)\n",
    "plt.plot(1./c,gaslag(c,T))\n",
    "a = 0.\n",
    "plt.plot(1./c,vdW(c,T))\n",
    "a = 0.5\n",
    "plt.plot(1./c,vdW(c,T))\n",
    "a = 0.6\n",
    "plt.plot(1./c,vdW(c,T))\n",
    "a = 0.67\n",
    "plt.plot(1./c,vdW(c,T))\n",
    "plt.xscale('log')\n",
    "plt.yscale('log')\n",
    "plt.xlabel(\"$c^{-1} \\sim V$\")\n",
    "plt.ylabel(\"$p$\")\n",
    "plt.show()"
   ]
  },
  {
   "cell_type": "code",
   "execution_count": null,
   "id": "971d4b0c",
   "metadata": {
    "deletable": false,
    "editable": false,
    "nbgrader": {
     "cell_type": "code",
     "checksum": "a12f2f0f029444eea60aa6e59c562408",
     "grade": false,
     "grade_id": "cell-fe517ed8a40d00b0",
     "locked": true,
     "schema_version": 3,
     "solution": false,
     "task": false
    }
   },
   "outputs": [],
   "source": [
    "plt.plot(1./c,gaslag(c,T))\n",
    "a = 0.\n",
    "plt.plot(1./c,vdW(c,T))\n",
    "a = 0.5\n",
    "plt.plot(1./c,vdW(c,T))\n",
    "a = 0.6\n",
    "plt.plot(1./c,vdW(c,T))\n",
    "a = 0.67\n",
    "plt.plot(1./c,vdW(c,T))\n",
    "plt.xscale('log')\n",
    "plt.yscale('log')\n",
    "#plt.axhline(2e6)\n",
    "plt.xlabel(\"$c^{-1} \\sim V$\")\n",
    "plt.ylabel(\"$p$\")\n",
    "plt.show()"
   ]
  },
  {
   "cell_type": "markdown",
   "id": "012d485a",
   "metadata": {},
   "source": [
    "# Även här ser vi en icke-monotonisk kurva\n",
    "\n",
    "Vi ser att kompressibiliten, $\\kappa=\\frac{\\partial V}{V\\partial p}$ är negative för vissa volymer. Detta är ofysikalsikt, då det skulle betyda att volymen ökade vi trycker på gasen. Vad de i praktiken innebär är att lösningen fasseparerar i en utspädd fas och en koncentrared fas. \n",
    "Som ni troligtivs inträffar detta så fort vi har en negative kompressibilitet. Men till vilka koncentrationer fassepararar vi? Och vid vilket tryck inträffar detta (kom ihåg att en fasövergång sker vid konstant tryck och temperatur)? För att göra det så tar vi reda på lokala maxima och minima i trycket. Jämviktstrycket (för fasövergångnen) kommer vara mellan dessa två extremiteter.\n",
    "\n",
    "För detta ändamål använder vi oss av `Scipy`"
   ]
  },
  {
   "cell_type": "raw",
   "id": "e530b166",
   "metadata": {},
   "source": [
    "\n",
    "a = 0.67\n",
    "plt.plot(1./c,vdW(c,T))\n",
    "press = vdW(c,T)\n",
    "imax = argrelextrema(press, np.greater)\n",
    "imin = argrelextrema(press, np.less)\n",
    "plt.plot(1./c[imin],vdW(c[imin],T),marker='o',c='r',mfc='w',ms=10)\n",
    "plt.plot(1./c[imax],vdW(c[imax],T),marker='o',c='r',mfc='w',ms=10)\n",
    "plt.xscale('log')\n",
    "plt.yscale('log')\n",
    "plt.axhline(1e6,c='k')\n",
    "#plt.fill_between(1/c,vdW(c,T),1e6,alpha=0.5)\n",
    "plt.xlabel(\"$c^{-1} \\sim V$\")\n",
    "plt.ylabel(\"$p$\")\n",
    "plt.show()"
   ]
  },
  {
   "cell_type": "markdown",
   "id": "ce4a1b8c",
   "metadata": {},
   "source": [
    "# Maxwell konstruktion\n",
    "För att veta vilket tryck fasövergången sker vi så kan vi använda oss av Maxwells konstruktion, som säger att integralen $\\int_{V_1}^{V_2} p(V)-p_{\\rm guess} \\,dV$ under ett gissat tryck  och mellan dess skärningspunkter med denna linjen ska vara lika med integralen över  $\\int_{V_2}^{V_3} p(V)-p_{\\rm guess} \\,dV samma tryck, mellan dess skärningspunkter. Notera vi får tre skärningspunkter i detta fallet. \n",
    "Vad vi nu gör är att testa X antal tryck mellan de lokala maxima och minima och ser när integralerna är lika med varandra (med motsatt tecken). Vi kan därmed bestämma jämviktstrycket och jämviktsdensiteterna. \n",
    "\n",
    "### Obs notera att areorna inte ser lika ut, men det beror på våran log-log graf\n",
    "\n",
    "Vi definerar en ny funktion kallad `vdWp` som ger tryck-skillanden mellan `vdW` och vårt gissade tryck. \n",
    "\n",
    "Vi använder `numpy` för att hitta skärningspunkterna och `scipy` för att integrera. Vi sparar summan av de två integralerna för de olika testtrycken. Vi tar sedan de tryck som ger lika areor."
   ]
  },
  {
   "cell_type": "code",
   "execution_count": null,
   "id": "f5bd2f99",
   "metadata": {
    "deletable": false,
    "editable": false,
    "nbgrader": {
     "cell_type": "code",
     "checksum": "ba66bafcc82f725c7c369b3dd15d5e16",
     "grade": false,
     "grade_id": "cell-4e7137c94eb29ee4",
     "locked": true,
     "schema_version": 3,
     "solution": false,
     "task": false
    }
   },
   "outputs": [],
   "source": [
    "def vdWp(ic,T,p0):\n",
    "    p=1000./ic*R*T/(1.-1000.*b/ic)-a/ic/ic*1e6-p0\n",
    "    return p"
   ]
  },
  {
   "cell_type": "code",
   "execution_count": null,
   "id": "6c5e1860",
   "metadata": {},
   "outputs": [],
   "source": [
    "ic = 1./c\n",
    "press = vdW(c,T)\n",
    "imax = argrelextrema(press, np.greater)\n",
    "imin = argrelextrema(press, np.less)\n",
    "ptest = np.linspace(press[imin],press[imax],100)\n",
    "area = []\n",
    "#print(press[imin])\n",
    "#print(press[imax])\n",
    "for i in ptest:\n",
    "#    print(i)\n",
    "    icross = np.argwhere(np.diff(np.sign(press - i))).flatten()\n",
    "    if icross.shape[0]>2:\n",
    "        int1 = integrate.quad(vdWp,ic[icross[2]],ic[icross[1]],args=(T,i))\n",
    "        int2 = integrate.quad(vdWp,ic[icross[1]],ic[icross[0]],args=(T,i))\n",
    "        area.append(int1[0]+int2[0])\n",
    "#print(area)\n",
    "zero_crossings = np.where(np.diff(np.sign(area)))[0]\n",
    "print(\"densiteter (västka, gas) [mol/L]:\",c[icross[0]],c[icross[-1]])\n",
    "plt.plot(ic,vdW(c,T))\n",
    "plt.xscale('log')\n",
    "plt.yscale('log')\n",
    "#print(zero_crossings[0])\n",
    "#print(ptest[zero_crossings[0]])\n",
    "icross = np.argwhere(np.diff(np.sign(press - ptest[zero_crossings[0]]))).flatten()\n",
    "#print(icross)\n",
    "plt.plot([ic[icross[0]],ic[icross[-1]]],[ptest[zero_crossings[0]],ptest[zero_crossings[0]]])\n",
    "icf = ic[icross[0]:icross[-1]]\n",
    "plt.fill_between(icf,vdW(1./icf,T),ptest[zero_crossings[0]],alpha=0.5)\n",
    "#plt.axhline(ptest[zero_crossings[0]],c='k')\n",
    "#plt.plot(1./c[],vdW(c[imin],T),marker='o',c='r',mfc='w',ms=10)\n",
    "plt.plot(1./c[icross[0]],vdW(c[icross[0]],T),marker='o',c='k',mfc='w',ms=10)\n",
    "plt.plot(1./c[icross[-1]],vdW(c[icross[-1]],T),marker='o',c='k',mfc='w',ms=10)\n",
    "plt.show()"
   ]
  },
  {
   "cell_type": "markdown",
   "id": "dcba194f",
   "metadata": {},
   "source": [
    "# Uppgift\n",
    "\n",
    "* Skapa ett fasdiagram. Slinga över olika $a$ värden för att se när vi får fasövergångar.\n",
    "Spara sedan jämviktstrycket och de två koncentrationerna. Rita sedan de två koncentrationerna (den utspädda som en kurvan och den andra som en annan kurva) som funktion av a.\n",
    "\n",
    "* Gör samma sak men behåll $a$ konstant och ändra istället $T$. Gör samma graf (fasdiagram) men mot $T$ istället.\n",
    "\n",
    "* Antag att $a$ har ett svagt temperature beroende. Kommer detta påverka ert fasdiagram? Hur? Illustrera med en graf.\n"
   ]
  }
 ],
 "metadata": {
  "kernelspec": {
   "display_name": "Python 3 (ipykernel)",
   "language": "python",
   "name": "python3"
  },
  "language_info": {
   "codemirror_mode": {
    "name": "ipython",
    "version": 3
   },
   "file_extension": ".py",
   "mimetype": "text/x-python",
   "name": "python",
   "nbconvert_exporter": "python",
   "pygments_lexer": "ipython3",
   "version": "3.11.0"
  }
 },
 "nbformat": 4,
 "nbformat_minor": 5
}
