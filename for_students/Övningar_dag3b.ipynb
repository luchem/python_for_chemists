{
 "cells": [
  {
   "cell_type": "code",
   "execution_count": null,
   "id": "9a8a73ca",
   "metadata": {
    "deletable": false,
    "editable": false,
    "nbgrader": {
     "cell_type": "code",
     "checksum": "63bdd226fade0cd8b50e84f471e039ee",
     "grade": false,
     "grade_id": "cell-3b43bbe7a9ce2208",
     "locked": true,
     "schema_version": 3,
     "solution": false,
     "task": false
    }
   },
   "outputs": [],
   "source": [
    "import matplotlib.pyplot as plt\n",
    "import numpy as np"
   ]
  },
  {
   "cell_type": "markdown",
   "id": "ccfb7db9",
   "metadata": {},
   "source": [
    "# Titrerkurva\n",
    "\n",
    "Titrerkurvan gör det möjligt att bestämma pKa för en syra-baspar. För en enkel syra-baspar bör titrerkurvan vara en sigmoid kurva och dess inflektionspunkter (förändring av andra derivator eller extrempunkter för första derivator) är relaterade till pKa för paret.\n",
    "\n",
    "Vi läser in den experimentella titrerkurvans data från https://www.mathworks.com/matlabcentral/answers/456090-fitting-model-to-titration-data"
   ]
  },
  {
   "cell_type": "code",
   "execution_count": null,
   "id": "04f9e8e8",
   "metadata": {
    "deletable": false,
    "editable": false,
    "nbgrader": {
     "cell_type": "code",
     "checksum": "ebc28a54ca589004ae056e40f2610b86",
     "grade": false,
     "grade_id": "cell-84ef8b336a7f0fd2",
     "locked": true,
     "schema_version": 3,
     "solution": false,
     "task": false
    }
   },
   "outputs": [],
   "source": [
    "import csv\n",
    "\n",
    "data=[]\n",
    "with open('Titration.csv') as csvfile:\n",
    "    spamreader = csv.reader(csvfile, delimiter=';')\n",
    "    for row in spamreader:\n",
    "        data.append(row)\n",
    "volume = np.array(data[0][1:]).astype(float)\n",
    "pH = np.array(data[1][1:]).astype(float)\n",
    "\n",
    "plt.figure()\n",
    "plt.plot(volume, pH)\n",
    "plt.xlabel(\"Titration volume\")\n",
    "plt.ylabel(\"Measured pH\")\n",
    "plt.show()"
   ]
  },
  {
   "cell_type": "markdown",
   "id": "93e1f5fa",
   "metadata": {},
   "source": [
    "Från detta kan du beräkna den första derivatan numeriskt genom att använda uttrycket:\n",
    "\n",
    "$$ f'(x) \\approx \\frac{f(x+h) - f(x)}{h}$$\n",
    "\n",
    "**tips:** använd slices!"
   ]
  },
  {
   "cell_type": "code",
   "execution_count": null,
   "id": "bb03668d",
   "metadata": {
    "deletable": false,
    "nbgrader": {
     "cell_type": "code",
     "checksum": "92d8cbf7f43ab2c292cd2be484463b13",
     "grade": false,
     "grade_id": "cell-5113a1ce6a9b470d",
     "locked": false,
     "schema_version": 3,
     "solution": true,
     "task": false
    }
   },
   "outputs": [],
   "source": [
    "# YOUR CODE HERE\n",
    "raise NotImplementedError()"
   ]
  },
  {
   "cell_type": "markdown",
   "id": "3f1a0685",
   "metadata": {},
   "source": [
    "Från derivatan kan du nu hitta ekvivalenspunkten som det maximala värdet i derivatan. Sedan är pH vid halv ekvivalenspunkt pKa för ditt syra-bas-par:"
   ]
  },
  {
   "cell_type": "code",
   "execution_count": null,
   "id": "2ff0d395",
   "metadata": {
    "deletable": false,
    "nbgrader": {
     "cell_type": "code",
     "checksum": "9650c0a647a9cecc9aebbc5c7806d8ec",
     "grade": false,
     "grade_id": "cell-81418c271af32de5",
     "locked": false,
     "schema_version": 3,
     "solution": true,
     "task": false
    }
   },
   "outputs": [],
   "source": [
    "# YOUR CODE HERE\n",
    "raise NotImplementedError()"
   ]
  },
  {
   "cell_type": "code",
   "execution_count": null,
   "id": "a1e7bf59-6188-4d4c-bf6b-6e6fec7e8a33",
   "metadata": {
    "deletable": false,
    "editable": false,
    "nbgrader": {
     "cell_type": "code",
     "checksum": "2cb495d7f2e814008505033986efb331",
     "grade": true,
     "grade_id": "cell-e9226def11562d84",
     "locked": true,
     "points": 0,
     "schema_version": 3,
     "solution": false,
     "task": false
    }
   },
   "outputs": [],
   "source": [
    "assert abs(equivalence - 4.8)<=0.1\n",
    "assert abs(pka - 4.44)<0.1"
   ]
  },
  {
   "cell_type": "markdown",
   "id": "37ecf79e",
   "metadata": {},
   "source": [
    "Observera att skillnaden mellan intilliggande punkter också kan göras med hjälp av den inbyggda funktionen numpy.diff för likvärdiga resultat."
   ]
  },
  {
   "cell_type": "code",
   "execution_count": null,
   "id": "393c1e77",
   "metadata": {},
   "outputs": [],
   "source": [
    "deriv = np.diff(pH)/np.diff(volume)\n",
    "\n",
    "plt.figure()\n",
    "plt.plot(volume[1:], deriv)\n",
    "plt.xlabel(\"Titration volume (mL)\")\n",
    "plt.ylabel(\"pH derivative\")\n",
    "plt.show()"
   ]
  },
  {
   "cell_type": "markdown",
   "id": "ea57ccbe",
   "metadata": {},
   "source": [
    "# Hastighetskonstanter\n",
    "\n",
    "Enzymkinetik kan beskrivas av Michaelis-Menten kinetikmodellen.\n",
    "\n",
    "$$ E + S  \\underset{k_{-1}}{\\overset{k_1}{\\rightleftarrows}} ES \\overset{k_2}{\\rightarrow} E + P $$\n",
    "\n",
    "Enzymet och substratet binder först i en reversibel reaktion och sedan sker reaktionen där produkten bildas och enzymet förblir intakt.\n",
    "\n",
    "Detta ger upphov till en uppsättning differentialekvationer:\n",
    "\n",
    "$$ \\frac{d[S]}{dt} = -k_1 [E][S] + k_{-1} [ES]$$\n",
    "$$ \\frac{d[E]}{dt} = -k_1 [E][S] + (k_{-1} + k_2) [ES]$$\n",
    "$$ \\frac{d[ES]}{dt} = k_1 [E][S] - (k_{-1} + k_2) [ES]$$\n",
    "$$ \\frac{d[P]}{dt} = k_2 [ES] $$\n",
    "\n",
    "Låt oss lösa dessa differentialekvationer med Euler-metoden, vilket innebär att vi tar ett litet tidssteg och löser $\\frac{dA}{dt} = B$ som $A(t+dt) = A(t) + B * dt$.\n",
    "\n",
    "Använd en numpy-array av storlek n_steps för varje kemiskt ämne, loopa över tidssteg och sprida ekvationerna. Plotta koncentrationen av varje ämne över tiden (du kan plotta E och ES separat eftersom deras koncentration vanligtvis är låg)."
   ]
  },
  {
   "cell_type": "code",
   "execution_count": null,
   "id": "f926f64f",
   "metadata": {
    "deletable": false,
    "nbgrader": {
     "cell_type": "code",
     "checksum": "bcb804c7e8ece5154cabe8ce2c896ea0",
     "grade": false,
     "grade_id": "cell-7d839a3d1b4904b1",
     "locked": false,
     "schema_version": 3,
     "solution": true,
     "task": false
    }
   },
   "outputs": [],
   "source": [
    "dt = 0.01 # 0.1 s\n",
    "k1 = 10**2\n",
    "k_1 = 0.5\n",
    "k2 = 40\n",
    "initial_concentrations = [0.1, 10**(-4), 0, 0] # [S], [E], [ES], [P]\n",
    "nsteps = 20000\n",
    "\n",
    "# YOUR CODE HERE\n",
    "raise NotImplementedError()"
   ]
  },
  {
   "cell_type": "markdown",
   "id": "f08297d9",
   "metadata": {},
   "source": [
    "# Balansera kemiska ekvationer (svårt)\n",
    "\n",
    "Vi har en utmanande kemisk ekvation att balansera.\n",
    "\n",
    "K$_4$Fe(SCN)$_6$ + K$_2$Cr$_2$O$_7$ + H$_2$SO$_4$ →  Fe$_2$(SO$_4$)$_3$ + Cr$_2$(SO$_4$)$_3$ + CO$_2$ + H$_2$O + K$_2$SO$_4$ + KNO$_3$\n",
    "\n",
    "Låt oss skapa ett generellt program för att göra detta med hjälp av numpy.\n",
    "\n",
    "Först behöver vi skapa en lista av atomer och hur många det finns. Vi hade skapat en liknande funktion när vi beräknade molekylmassa:"
   ]
  },
  {
   "cell_type": "code",
   "execution_count": null,
   "id": "9b1b6fa1-2e38-4e12-bff9-87e50635c8b8",
   "metadata": {
    "deletable": false,
    "editable": false,
    "nbgrader": {
     "cell_type": "code",
     "checksum": "5fc819e0a9873974625ef443f287bbcd",
     "grade": false,
     "grade_id": "cell-cfc0064c410aac23",
     "locked": true,
     "schema_version": 3,
     "solution": false,
     "task": false
    }
   },
   "outputs": [],
   "source": [
    "def molekylmassa(string):\n",
    "    n_chars = len(string)\n",
    "    total_mass = 0\n",
    "    for i, atom in enumerate(string):\n",
    "        if atom.isupper():\n",
    "            j = i+1\n",
    "            if j < n_chars and string[j].islower():\n",
    "                atom += string[j]\n",
    "                j += 1\n",
    "            \n",
    "            mass = molmassa[atom]\n",
    "            # Get the number of atoms\n",
    "            number = \"\"\n",
    "            while j < n_chars and string[j].isnumeric():\n",
    "                number += string[j]\n",
    "                j += 1\n",
    "            if len(number)>0:\n",
    "                number = int(number)\n",
    "            else:\n",
    "                number = 1\n",
    "            total_mass += number * mass\n",
    "    return total_mass"
   ]
  },
  {
   "cell_type": "markdown",
   "id": "9dd446f5",
   "metadata": {},
   "source": [
    "**Uppgift 1:** Modifiera den här funktion så att det skapar en lexikon med atomer och deras antal."
   ]
  },
  {
   "cell_type": "code",
   "execution_count": null,
   "id": "919b188d",
   "metadata": {
    "deletable": false,
    "nbgrader": {
     "cell_type": "code",
     "checksum": "1cb79ecc091c91f8d1564fe8dcc87151",
     "grade": false,
     "grade_id": "cell-198732c82f4edf2c",
     "locked": false,
     "schema_version": 3,
     "solution": true,
     "task": false
    }
   },
   "outputs": [],
   "source": [
    "# YOUR CODE HERE\n",
    "raise NotImplementedError()"
   ]
  },
  {
   "cell_type": "code",
   "execution_count": null,
   "id": "cf284bcf",
   "metadata": {
    "deletable": false,
    "editable": false,
    "nbgrader": {
     "cell_type": "code",
     "checksum": "d98b72c35d632bd4a721bfb6d8aa4b35",
     "grade": true,
     "grade_id": "cell-2c8b7ab00a872825",
     "locked": true,
     "points": 0,
     "schema_version": 3,
     "solution": false,
     "task": false
    }
   },
   "outputs": [],
   "source": [
    "assert get_atoms(\"CO2\") == {'C': 1, 'O': 2}\n",
    "assert get_atoms(\"K2Cr2O7\") == {'K': 2, 'Cr': 2, 'O': 7}"
   ]
  },
  {
   "cell_type": "markdown",
   "id": "3bbccd97",
   "metadata": {},
   "source": [
    "**Uppgift 2:** Modifiera den ytterligare så att det funkar med parentes (t.ex. Fe(CO)6)."
   ]
  },
  {
   "cell_type": "code",
   "execution_count": null,
   "id": "674b66a2",
   "metadata": {
    "deletable": false,
    "nbgrader": {
     "cell_type": "code",
     "checksum": "88737cfbc9a4409dd6535bff2c59ea68",
     "grade": false,
     "grade_id": "cell-1445ce2be4341340",
     "locked": false,
     "schema_version": 3,
     "solution": true,
     "task": false
    }
   },
   "outputs": [],
   "source": [
    "# YOUR CODE HERE\n",
    "raise NotImplementedError()"
   ]
  },
  {
   "cell_type": "code",
   "execution_count": null,
   "id": "732e3cad",
   "metadata": {
    "deletable": false,
    "editable": false,
    "nbgrader": {
     "cell_type": "code",
     "checksum": "22d51341efdd428c4dc47c63f11cc56e",
     "grade": true,
     "grade_id": "cell-fafb5d3189db6a8c",
     "locked": true,
     "points": 0,
     "schema_version": 3,
     "solution": false,
     "task": false
    },
    "tags": []
   },
   "outputs": [],
   "source": [
    "assert get_atoms(\"Fe(CO)6\") == {'Fe': 1, 'C': 6, 'O': 6}\n",
    "assert get_atoms(\"Fe(CO)3(CN)3\") == {'Fe': 1, 'C': 6, 'O': 3, 'N':3}"
   ]
  },
  {
   "cell_type": "markdown",
   "id": "d26d9832",
   "metadata": {},
   "source": [
    "**Uppgift 3**: Använd denna funktionen för att kontrollera att båda sidor av ekvationen har samma grundämne.\n",
    "\n",
    "**tips:** du kan använda `split`"
   ]
  },
  {
   "cell_type": "code",
   "execution_count": null,
   "id": "d14871a2",
   "metadata": {
    "deletable": false,
    "nbgrader": {
     "cell_type": "code",
     "checksum": "65b8f3e9c25b5d0eb5696366f42ac0c4",
     "grade": false,
     "grade_id": "cell-d44258099e83191b",
     "locked": false,
     "schema_version": 3,
     "solution": true,
     "task": false
    }
   },
   "outputs": [],
   "source": [
    "equation = \"K4Fe(SCN)6 + K2Cr2O7 + H2SO4 =  Fe2(SO4)3 + Cr2(SO4)3 + CO2 + H2O + K2SO4 + KNO3\"\n",
    "\n",
    "# YOUR CODE HERE\n",
    "raise NotImplementedError()\n",
    "\n",
    "assert set(left_atoms) == set(right_atoms)"
   ]
  },
  {
   "cell_type": "markdown",
   "id": "85be413e",
   "metadata": {},
   "source": [
    "**Uppgift 3:**\n",
    "\n",
    "Nu kommer vi att beskriva varje molekyl i ekvationen som en array med storlek N, där N är det totala antalet unika atomer som hittades. Varje tal i denna array kommer att motsvara antalet av den specifika atomen som förekommer i den givna molekylen.\n",
    "\n",
    "Till exempel, om vi har atomerna C, O, N, H, Fe, så kommer:\n",
    "\n",
    "if we have atoms C, O, N, H, Fe, then:\n",
    "* NH3 att representeras som [0, 0, 1, 3, 0]\n",
    "* H2O kommer att representeras som [0, 1, 0, 2, 0]\n",
    "* Fe(CO)6 kommer att representeras som [6, 6, 0, 0, 1]\n",
    "\n",
    "Det finns många sätt att göra detta, men här är ett förslag:\n",
    "* Dela upp ekvationen i enskilda molekyler och loopa över dessa molekyler.\n",
    "* Skapa för varje molekyl en noll-array med rätt storlek.\n",
    "* Använd get_atoms för att hitta atomerna och koefficienterna.\n",
    "* Lägg till antalet i arrayen på en position som beror på atomen (du kan använda `left_atoms.index(atom)`)\n",
    "* Lagra arrayerna för varje molekyl i en lista."
   ]
  },
  {
   "cell_type": "code",
   "execution_count": null,
   "id": "1401aa0c",
   "metadata": {
    "deletable": false,
    "nbgrader": {
     "cell_type": "code",
     "checksum": "09e21d6353241c3d47f7a7f6bf7866b9",
     "grade": false,
     "grade_id": "cell-98d5dae3cbfad6a1",
     "locked": false,
     "schema_version": 3,
     "solution": true,
     "task": false
    }
   },
   "outputs": [],
   "source": [
    "N = len(left_atoms)\n",
    "molecule_list = []\n",
    "left, right = equation.split(\"=\")\n",
    "for molecule in left.split(\"+\") + right.split(\"+\"):\n",
    "    # YOUR CODE HERE\n",
    "    raise NotImplementedError()"
   ]
  },
  {
   "cell_type": "markdown",
   "id": "8255cb0e",
   "metadata": {},
   "source": [
    "Efter att ha gjort detta har vi faktiskt bildat ett linjärt ekvationssystem:\n",
    "\n",
    "$$ x_0 A_0 + x_1 A_1 + ... = 0 $$\n",
    "\n",
    "Detta är verkligen det vi vill ha, under antagandet att vi har skrivit `vänster = höger`-kemisk ekvation som `vänster - höger = 0`. Detta kan också ses som en matrisekvation AX = 0.\n",
    "\n",
    "Det finns givetvis ett oändligt antal lösningar till detta problem som är multiplar av varandra. Så istället väljer vi att $x_0 = 1$. För detta flyttar vi helt enkelt det till höger och löser.\n",
    "\n",
    "$$ x_1 A_1 + ... = -A_0  $$\n",
    "\n",
    "Det ger oss exakt 8 ekvationer och 8 okända. Vi kan nu använda numpy.linalg.solve som är avsett att lösa $AX = B$ matrisekvationer.\n",
    "\n",
    "Obs: Om vi inte hade haft samma antal ekvationer och okända hade vi kunnat använda numpy.linalg.lstsq som försöker hitta den bästa lösningen på systemet."
   ]
  },
  {
   "cell_type": "code",
   "execution_count": null,
   "id": "417c9451",
   "metadata": {},
   "outputs": [],
   "source": [
    "A = np.array(molecule_list).T\n",
    "solution = np.linalg.solve(A[:,1:],-A[:,0])\n",
    "print(solution)"
   ]
  },
  {
   "cell_type": "markdown",
   "id": "d3cbef0d",
   "metadata": {},
   "source": [
    "Vi ser att de sista siffrorna är negativa, men det är normalt eftersom vi löser vänster - höger = 0. När vi återgår till höger kommer de att bli positiva igen.\n",
    "\n",
    "Men ett annat olyckligt problem är att vår lösning inte är ett heltal. Det är fortfarande en giltig lösning, men vi föredrar en heltalslösning. Vi märker att det finns många \"0.166666667\" och därför har vi goda förhoppningar om att multiplicera med 6 kommer att ge heltalsresultat (detta motsvarar att sätta $c0 = 6$)."
   ]
  },
  {
   "cell_type": "code",
   "execution_count": null,
   "id": "bfc50911",
   "metadata": {},
   "outputs": [],
   "source": [
    "print(solution*6)"
   ]
  },
  {
   "cell_type": "markdown",
   "id": "13256c43",
   "metadata": {},
   "source": [
    "Detta ger oss vår slutlig ekvation\n",
    "\n",
    "6 K$_4$Fe(SCN)$_6$ + 97 K$_2$Cr$_2$O$_7$ + 355 H$_2$SO$_4$ →  3 Fe$_2$(SO$_4$)$_3$ + 97 Cr$_2$(SO$_4$)$_3$ + 36 CO$_2$ + 355 H$_2$O + 91 K$_2$SO$_4$ + 36 KNO$_3$\n",
    "\n",
    "som du kan kontrollera är balanserad!"
   ]
  },
  {
   "cell_type": "code",
   "execution_count": null,
   "id": "49f20dc0",
   "metadata": {},
   "outputs": [],
   "source": []
  }
 ],
 "metadata": {
  "kernelspec": {
   "display_name": "Python 3 (ipykernel)",
   "language": "python",
   "name": "python3"
  },
  "language_info": {
   "codemirror_mode": {
    "name": "ipython",
    "version": 3
   },
   "file_extension": ".py",
   "mimetype": "text/x-python",
   "name": "python",
   "nbconvert_exporter": "python",
   "pygments_lexer": "ipython3",
   "version": "3.11.0"
  }
 },
 "nbformat": 4,
 "nbformat_minor": 5
}
