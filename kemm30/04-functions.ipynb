{
 "cells": [
  {
   "cell_type": "markdown",
   "metadata": {},
   "source": [
    "# Functions\n",
    "\n",
    "Functions are used to group code or operations together to increase clarity or when the same code needs to be used in several places. \n",
    "Functions take a number of _arguments_ or parameters to which an operation is typically applied. The following defines a mathematical function, $f(x)=x^2$ where $x$ is the argument and $f$ is the _return value_. The _function name_ is `square_value`:"
   ]
  },
  {
   "cell_type": "code",
   "execution_count": null,
   "metadata": {},
   "outputs": [],
   "source": [
    "def square_value(x):\n",
    "    ''' returns the squared value of x '''\n",
    "    return x*x"
   ]
  },
  {
   "cell_type": "markdown",
   "metadata": {},
   "source": [
    "The text on the second line is called a _docstring_ and is simply an arbitrary string using to describe the function. You have already seen doctrings in use when accessing information in the first lecture. For example:"
   ]
  },
  {
   "cell_type": "code",
   "execution_count": null,
   "metadata": {
    "scrolled": true
   },
   "outputs": [],
   "source": [
    "help(square_value)"
   ]
  },
  {
   "cell_type": "markdown",
   "metadata": {},
   "source": [
    "We can _call_ the function and _pass_ an argument, 3 for example. The function gives us back a _return value_, 9."
   ]
  },
  {
   "cell_type": "code",
   "execution_count": null,
   "metadata": {},
   "outputs": [],
   "source": [
    "square_value(3)"
   ]
  },
  {
   "cell_type": "code",
   "execution_count": null,
   "metadata": {},
   "outputs": [],
   "source": [
    "# using keyword arguments, you can give arguments (if multiple) out of order\n",
    "square_value(x=3)"
   ]
  },
  {
   "cell_type": "markdown",
   "metadata": {},
   "source": [
    "## Task\n",
    "\n",
    "Create a function for the pythagoras theorem which takes the side lengths a and b, and returns the hypotenuse, c. Do not forget to write a docstring and may be several lines long and can contain information on both input arguments and the return value. More information on docstring writing [here](https://stackoverflow.com/questions/3898572/what-is-the-standard-python-docstring-format)."
   ]
  },
  {
   "cell_type": "code",
   "execution_count": null,
   "metadata": {},
   "outputs": [],
   "source": [
    "import math # gives you acces to `math.sqrt()` which is also a function!"
   ]
  },
  {
   "cell_type": "markdown",
   "metadata": {},
   "source": [
    "## Task: Multiple return values\n",
    "\n",
    "- Explain each line in the code below and add a docstring\n",
    "- Try to run it and print the result for i.e. a=6, b=40, c=2\n",
    "\n",
    "``` py\n",
    "def quadratic_formula(a, b, c):\n",
    "    root1 = -b + math.sqrt(b**2-4*a*c) / (2*a)\n",
    "    root2 = -b - math.sqrt(b**2-4*a*c) / (2*a)\n",
    "    return root1, root2\n",
    "```"
   ]
  },
  {
   "cell_type": "markdown",
   "metadata": {},
   "source": [
    "## Task: Talking about code\n",
    "\n",
    "In connection with functions, explain the following terms to each other:\n",
    "    \n",
    "1. _argument_\n",
    "1. _parameter_\n",
    "2. _return value_\n",
    "3. _calling_\n",
    "4. _passing_\n",
    "5. _default argument_\n",
    "6. _docstring_\n",
    "7. _keyword arguments_"
   ]
  },
  {
   "cell_type": "markdown",
   "metadata": {},
   "source": [
    "## A bit more about functions\n",
    "\n",
    "- functions does not need to take any arguments (`def f():`)\n",
    "- function does not need to return anything (`def f(x=10)`)\n",
    "- arguments can have _default values_\n",
    "- arguments and return values are of course not restricted to numbers!"
   ]
  },
  {
   "cell_type": "markdown",
   "metadata": {},
   "source": [
    "# Task\n",
    "\n",
    "Write a function that takes a string and prints it `n` times and where the default value for `n` is 2."
   ]
  },
  {
   "cell_type": "code",
   "execution_count": null,
   "metadata": {},
   "outputs": [],
   "source": []
  }
 ],
 "metadata": {
  "kernelspec": {
   "display_name": "Python 3",
   "language": "python",
   "name": "python3"
  },
  "language_info": {
   "codemirror_mode": {
    "name": "ipython",
    "version": 3
   },
   "file_extension": ".py",
   "mimetype": "text/x-python",
   "name": "python",
   "nbconvert_exporter": "python",
   "pygments_lexer": "ipython3",
   "version": "3.7.3"
  }
 },
 "nbformat": 4,
 "nbformat_minor": 2
}
