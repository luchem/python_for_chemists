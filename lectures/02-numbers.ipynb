{
 "cells": [
  {
   "cell_type": "markdown",
   "metadata": {},
   "source": [
    "# Numbers\n",
    "\n",
    "## Floats and Ints\n",
    "\n",
    "Common numbers are _integers_ (`-1,0,1,...`) and _floating point_ numbers (`1.01, 6.022e23, ...`). Many other variants can be used, including complex numbers, hexadecimal, binary, or you can define your own types. For now, let's stick to integers and floats."
   ]
  },
  {
   "cell_type": "code",
   "execution_count": null,
   "metadata": {},
   "outputs": [],
   "source": [
    "i=2    # an integer of type \"int\" in python\n",
    "x=1.04 # a decimal of type \"float\" in python\n",
    "y=1e3  # automatically of type \"float\"\n",
    "print(i,x,y)"
   ]
  },
  {
   "cell_type": "code",
   "execution_count": null,
   "metadata": {},
   "outputs": [],
   "source": [
    "print(type(i), type(x), type(y))"
   ]
  },
  {
   "cell_type": "code",
   "execution_count": null,
   "metadata": {},
   "outputs": [],
   "source": [
    "x*y+1/i"
   ]
  },
  {
   "cell_type": "markdown",
   "metadata": {},
   "source": [
    "Dividing two integers produces a float (notice the decimal in the output, verified with `type`)"
   ]
  },
  {
   "cell_type": "code",
   "execution_count": null,
   "metadata": {},
   "outputs": [],
   "source": [
    "i=int(1)\n",
    "k=int(1)\n",
    "i/k"
   ]
  },
  {
   "cell_type": "code",
   "execution_count": null,
   "metadata": {},
   "outputs": [],
   "source": [
    "type(_)"
   ]
  },
  {
   "cell_type": "markdown",
   "metadata": {},
   "source": [
    "We can manipulate numbers with an enourmous set of mathematical functions. Multiplication, division etc. are always available, but to use more advanced functions we have to include the `math` module from python. Here we do $\\sqrt{y}/\\pi$ by calling the _function_ `sqrt()` which takes a float, here `y` as an _argument_."
   ]
  },
  {
   "cell_type": "code",
   "execution_count": null,
   "metadata": {},
   "outputs": [],
   "source": [
    "import math # import the python modyle \"math\"\n",
    "math.sqrt(y) * math.pi"
   ]
  },
  {
   "cell_type": "markdown",
   "metadata": {},
   "source": [
    "### Example: How many molecules do you find in 1.2 gram of sodium?"
   ]
  },
  {
   "cell_type": "code",
   "execution_count": null,
   "metadata": {},
   "outputs": [],
   "source": [
    "Nav=6.022e23 # avogadros number [1/mol]\n",
    "Mw=22.989769 # molecular weight of sodium [g/mol]\n",
    "m=1.2        # grams\n",
    "n=m/Mw*Nav   # num. of molecules [g] / [g/mol] * [1/mol] = [1]\n",
    "print('Answer: {} molecules'.format(n)) # 'n' is inserted in curly bracket, {}"
   ]
  },
  {
   "cell_type": "markdown",
   "metadata": {},
   "source": [
    "The number of decimal places can of course be controlled. Let's use one digit only and note that many different formatting options are [available](https://kapeli.com/cheat_sheets/Python_Format_Strings.docset/Contents/Resources/Documents/index):"
   ]
  },
  {
   "cell_type": "code",
   "execution_count": null,
   "metadata": {},
   "outputs": [],
   "source": [
    "print('Answer: {:.1e} molecules'.format(n))"
   ]
  },
  {
   "cell_type": "markdown",
   "metadata": {},
   "source": [
    "Also, multiple variables can be inserted:"
   ]
  },
  {
   "cell_type": "code",
   "execution_count": null,
   "metadata": {},
   "outputs": [],
   "source": [
    "print('{:0.1f} grams of sodium contains {:.1e} molecules'.format(m, n))"
   ]
  },
  {
   "cell_type": "markdown",
   "metadata": {},
   "source": [
    "#### Question\n",
    "What is the difference between using `f` and `e` when formatting?"
   ]
  },
  {
   "cell_type": "markdown",
   "metadata": {},
   "source": [
    "### Exercise:\n",
    "\n",
    "You are stranded on a remote island and need to wash your infected eyes with a salt solution. How many grams of salt do you need to dissolve in 250 ml water to produce a 0.1 molal NaCl solution?\n",
    "\n",
    "Solve this problem using variables and string formatting as in the example above."
   ]
  },
  {
   "cell_type": "markdown",
   "metadata": {},
   "source": [
    "## Conditions and Boolean Operations\n",
    "\n",
    "A `bool` stores either `True` or `False` and is used for conditional programming. Here is a list of some common [_operators_](https://www.digitalocean.com/community/tutorials/understanding-boolean-logic-in-python-3):\n",
    "\n",
    "operator  | description\n",
    ":-------- | :-------------\n",
    "`>`       | greater than\n",
    "`==`      | equals\n",
    "`!=`      | not equal\n",
    "`and`     | logical and\n",
    "\n",
    "and note that multiple conditions can be combined."
   ]
  },
  {
   "cell_type": "code",
   "execution_count": null,
   "metadata": {},
   "outputs": [],
   "source": [
    "1>2"
   ]
  },
  {
   "cell_type": "code",
   "execution_count": null,
   "metadata": {},
   "outputs": [],
   "source": [
    "type(_)"
   ]
  },
  {
   "cell_type": "code",
   "execution_count": null,
   "metadata": {},
   "outputs": [],
   "source": [
    "math.pi == math.acos(-1)"
   ]
  },
  {
   "cell_type": "code",
   "execution_count": null,
   "metadata": {
    "scrolled": true
   },
   "outputs": [],
   "source": [
    "(2>1) and ('a'!='b')"
   ]
  },
  {
   "cell_type": "markdown",
   "metadata": {},
   "source": [
    "It so happens that a `bool` can be converted to a number as it just represents a binary number, 1=on or 0=off:"
   ]
  },
  {
   "cell_type": "code",
   "execution_count": null,
   "metadata": {},
   "outputs": [],
   "source": [
    "True==1"
   ]
  },
  {
   "cell_type": "code",
   "execution_count": null,
   "metadata": {},
   "outputs": [],
   "source": [
    "False==0"
   ]
  },
  {
   "cell_type": "markdown",
   "metadata": {},
   "source": [
    "## Question\n",
    "\n",
    "What is the difference between `==` and `=`?"
   ]
  },
  {
   "cell_type": "code",
   "execution_count": null,
   "metadata": {},
   "outputs": [],
   "source": []
  }
 ],
 "metadata": {
  "kernelspec": {
   "display_name": "Python 3",
   "language": "python",
   "name": "python3"
  },
  "language_info": {
   "codemirror_mode": {
    "name": "ipython",
    "version": 3
   },
   "file_extension": ".py",
   "mimetype": "text/x-python",
   "name": "python",
   "nbconvert_exporter": "python",
   "pygments_lexer": "ipython3",
   "version": "3.7.8"
  }
 },
 "nbformat": 4,
 "nbformat_minor": 2
}
