{
 "cells": [
  {
   "cell_type": "markdown",
   "metadata": {},
   "source": [
    "# Flow control in Python\n",
    "\n",
    "The following are some of the most common methods to control flow and repeat the same code using _loops_. This is not unique to Python and similar functionality is present in almost all programming languages.\n",
    "\n",
    "## if-elif-else\n",
    "\n",
    "Run and explore the follow code snippet:\n",
    "\n",
    "~~~ python\n",
    "if name == 'Na':\n",
    "    print('sodium')\n",
    "elif name == 'K':\n",
    "    print('potassium')\n",
    "else:\n",
    "    print('unknown element')\n",
    "~~~\n",
    "\n",
    "Task:\n",
    "\n",
    "1. Why do you get an error?\n",
    "1. expand the code to also print the molecular weight on a new line.\n",
    "2. what is the significance of the `:` and the following indentation?"
   ]
  },
  {
   "cell_type": "markdown",
   "metadata": {},
   "source": [
    "## while loop\n",
    "\n",
    "Continue running the code inside the statement until a condition is met. It is also possible to stop the loop at anytime using `break`.\n",
    "\n",
    "Run and explore the following code snippet:\n",
    "\n",
    "~~~ python\n",
    "while counter<10:\n",
    "    print(counter)\n",
    "~~~\n",
    "\n",
    "Task:\n",
    "\n",
    "1. Why do you get an error?\n",
    "2. modify the code so that the loop stops at 5 using the [`break` statement](https://docs.python.org/2.0/ref/break.html)."
   ]
  },
  {
   "cell_type": "markdown",
   "metadata": {},
   "source": [
    "## for-loop\n",
    "\n",
    "The for-loop has the general form:\n",
    "\n",
    "~~~ py\n",
    "for target in iterable:\n",
    "    statement(s)\n",
    "~~~\n",
    "\n",
    "Task:\n",
    "\n",
    "Run this code,\n",
    "\n",
    "~~~ py\n",
    "for i in X:\n",
    "    print(i)\n",
    "~~~\n",
    "\n",
    "where you set `X=[10,20,30]`, then `X='dull'`. \n",
    "\n",
    "- Explain what is happening\n",
    "- for the last example, `break` the loop if the letter \"u\" is detected"
   ]
  },
  {
   "cell_type": "code",
   "execution_count": null,
   "metadata": {},
   "outputs": [],
   "source": [
    "\n"
   ]
  }
 ],
 "metadata": {
  "kernelspec": {
   "display_name": "Python 3",
   "language": "python",
   "name": "python3"
  },
  "language_info": {
   "codemirror_mode": {
    "name": "ipython",
    "version": 3
   },
   "file_extension": ".py",
   "mimetype": "text/x-python",
   "name": "python",
   "nbconvert_exporter": "python",
   "pygments_lexer": "ipython3",
   "version": "3.7.3"
  }
 },
 "nbformat": 4,
 "nbformat_minor": 2
}
