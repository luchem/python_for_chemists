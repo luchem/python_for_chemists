{
 "cells": [
  {
   "cell_type": "markdown",
   "metadata": {},
   "source": [
    "# Strings\n",
    "\n",
    "String are of type `str` and are used to store text."
   ]
  },
  {
   "cell_type": "markdown",
   "metadata": {},
   "source": [
    "## Creation"
   ]
  },
  {
   "cell_type": "code",
   "execution_count": null,
   "metadata": {},
   "outputs": [],
   "source": [
    "'this is a string'"
   ]
  },
  {
   "cell_type": "code",
   "execution_count": null,
   "metadata": {},
   "outputs": [],
   "source": [
    "str('this is also a string')"
   ]
  },
  {
   "cell_type": "code",
   "execution_count": null,
   "metadata": {},
   "outputs": [],
   "source": [
    "\"so is this\" # here we used \"\" instead of ''"
   ]
  },
  {
   "cell_type": "code",
   "execution_count": null,
   "metadata": {},
   "outputs": [],
   "source": [
    "type(_) # get the type of the last output"
   ]
  },
  {
   "cell_type": "code",
   "execution_count": null,
   "metadata": {},
   "outputs": [],
   "source": [
    "a = '''we can also\n",
    "create a string over\n",
    "multiple lines''' # we assign the string to a variable `a`\n",
    "a"
   ]
  },
  {
   "cell_type": "markdown",
   "metadata": {},
   "source": [
    "Notice that each newline (`\\n`) is saved in the string and is included when printing. Strings can also be added together."
   ]
  },
  {
   "cell_type": "code",
   "execution_count": null,
   "metadata": {},
   "outputs": [],
   "source": [
    "print(a+' and we can add more \\nstuff')"
   ]
  },
  {
   "cell_type": "markdown",
   "metadata": {},
   "source": [
    "String can also contain so-called unicode characters which is an international standard for letters, symbols, and emojies."
   ]
  },
  {
   "cell_type": "code",
   "execution_count": null,
   "metadata": {},
   "outputs": [],
   "source": [
    "print('\\N{ghost}', '\\N{greek small letter gamma}') # unicode, see here: https://unicode.org/emoji/charts/full-emoji-list.html"
   ]
  },
  {
   "cell_type": "markdown",
   "metadata": {},
   "source": [
    "## Common Operations, Indexing and Slicing"
   ]
  },
  {
   "cell_type": "markdown",
   "metadata": {},
   "source": [
    "Let's illustrate a few operations we can perform on strings. The [Python documentation](https://docs.python.org/2/library/stdtypes.html#string-methods) will give you a comprehensive list of things to do."
   ]
  },
  {
   "cell_type": "code",
   "execution_count": null,
   "metadata": {},
   "outputs": [],
   "source": [
    "a = 'All work and no play makes Jack a dull boy'"
   ]
  },
  {
   "cell_type": "code",
   "execution_count": null,
   "metadata": {},
   "outputs": [],
   "source": [
    "len(a) # number of characters"
   ]
  },
  {
   "cell_type": "code",
   "execution_count": null,
   "metadata": {},
   "outputs": [],
   "source": [
    "a.replace('dull boy', 'dullboy') # a is not changed, but a new str is returned"
   ]
  },
  {
   "cell_type": "code",
   "execution_count": null,
   "metadata": {},
   "outputs": [],
   "source": [
    "a.split(' ') # create a list of words using space (' ') as a delimiter. More on lists later."
   ]
  },
  {
   "cell_type": "markdown",
   "metadata": {},
   "source": [
    "With _indexing_ and _slicing_ we can for example extract parts of the string or reverse it. The format for slicing is `str[begin:end:step]` where `begin` is inclusive and `end` is exclusive, i.e. `[begin:end[`. By default the `step` is 1. More information [here.](https://www.digitalocean.com/community/tutorials/how-to-index-and-slice-strings-in-python-3)"
   ]
  },
  {
   "cell_type": "code",
   "execution_count": null,
   "metadata": {},
   "outputs": [],
   "source": [
    "a[0]   # first letter in string. Note that in python, counting always starts at index zero (0)"
   ]
  },
  {
   "cell_type": "code",
   "execution_count": null,
   "metadata": {},
   "outputs": [],
   "source": [
    "a[-1]  # last letter in string. W. negative index we count backwards"
   ]
  },
  {
   "cell_type": "code",
   "execution_count": null,
   "metadata": {},
   "outputs": [],
   "source": [
    "a[0:3] # index (letter) [0 to 3[."
   ]
  },
  {
   "cell_type": "code",
   "execution_count": null,
   "metadata": {},
   "outputs": [],
   "source": [
    "a[1:3] # index number [1 to 3[."
   ]
  },
  {
   "cell_type": "code",
   "execution_count": null,
   "metadata": {},
   "outputs": [],
   "source": [
    "a[::2] # skip every second letter"
   ]
  },
  {
   "cell_type": "code",
   "execution_count": null,
   "metadata": {},
   "outputs": [],
   "source": [
    "a[::-1] # reverse the whole string"
   ]
  },
  {
   "cell_type": "code",
   "execution_count": null,
   "metadata": {},
   "outputs": [],
   "source": [
    "a*4 # repeat n times"
   ]
  },
  {
   "cell_type": "markdown",
   "metadata": {},
   "source": [
    "## Exercises\n",
    "\n",
    "### Part 1\n",
    "\n",
    "On a single line of code, slice `a` to extract the word \"play\" and then reverse it to form \"yalp\""
   ]
  },
  {
   "cell_type": "code",
   "execution_count": null,
   "metadata": {},
   "outputs": [],
   "source": []
  },
  {
   "cell_type": "markdown",
   "metadata": {},
   "source": [
    "### Part 2\n",
    "\n",
    "Explain each line in the following code and make a new version with the same triangular layout but where the letters are printed to the _right_ of the smiley. Figure out what `\\N`, and `end` does."
   ]
  },
  {
   "cell_type": "code",
   "execution_count": null,
   "metadata": {},
   "outputs": [],
   "source": [
    "i=1\n",
    "substring = a[0:20]\n",
    "for letter in substring: \n",
    "    print(' '*i + letter, end=(len(substring)-i)*'\\N{grinning face}'+'\\n')\n",
    "    i+=1"
   ]
  },
  {
   "cell_type": "markdown",
   "metadata": {},
   "source": [
    "### Part 3\n",
    "\n",
    "Create a _function_ that takes a string as _argument_ and returns the same string with every second character in UPPERCASE. For example, \"hejsa\" should become \"HeJsA\". Equip your function with a descriptive [_docstring_](https://www.datacamp.com/community/tutorials/docstrings-python). Hint: the modulo operator, `%` can be used to check for odd and even number.\n"
   ]
  },
  {
   "cell_type": "code",
   "execution_count": null,
   "metadata": {},
   "outputs": [],
   "source": []
  },
  {
   "cell_type": "markdown",
   "metadata": {},
   "source": [
    "## Convertion to and from Numbers\n",
    "Strings can be converted to and from numbers:"
   ]
  },
  {
   "cell_type": "code",
   "execution_count": null,
   "metadata": {},
   "outputs": [],
   "source": [
    "s1 = '2.21'     # a string\n",
    "f = float(s1)   # str->float\n",
    "s2 = str(f)     # float->str\n",
    "print(s1, type(s1))\n",
    "print(f, type(f))\n",
    "print(s2, type(s2))"
   ]
  },
  {
   "cell_type": "markdown",
   "metadata": {},
   "source": [
    "To convert to `int`, the string must represent an integer and thus cannot contain decimals."
   ]
  },
  {
   "cell_type": "code",
   "execution_count": null,
   "metadata": {},
   "outputs": [],
   "source": [
    "for s in ['10', '5.5']: # list of strings\n",
    "    if s.isdigit():\n",
    "        i = int(s)\n",
    "        print(i, type(i))\n",
    "    else:\n",
    "        print('cannot convert \"{}\" to int'.format(s))"
   ]
  },
  {
   "cell_type": "markdown",
   "metadata": {},
   "source": [
    "### Exercise\n",
    "\n",
    "Create a single function that converts a string either to a `float` or to an `int` dependent on the contents. It is good practice to always equip functions with a descriptive [_docstring_](https://www.datacamp.com/community/tutorials/docstrings-python)."
   ]
  },
  {
   "cell_type": "code",
   "execution_count": null,
   "metadata": {},
   "outputs": [],
   "source": []
  }
 ],
 "metadata": {
  "kernelspec": {
   "display_name": "Python 3",
   "language": "python",
   "name": "python3"
  },
  "language_info": {
   "codemirror_mode": {
    "name": "ipython",
    "version": 3
   },
   "file_extension": ".py",
   "mimetype": "text/x-python",
   "name": "python",
   "nbconvert_exporter": "python",
   "pygments_lexer": "ipython3",
   "version": "3.7.3"
  }
 },
 "nbformat": 4,
 "nbformat_minor": 2
}
