{
 "cells": [
  {
   "cell_type": "markdown",
   "metadata": {},
   "source": [
    "## Repetition, what is python, what are modules and why do you need to know"
   ]
  },
  {
   "cell_type": "markdown",
   "metadata": {},
   "source": [
    "Python is so widely used because it is so flexible. Pretty much for any task you have there is a specialized \"Toolbox\" that makes you work simplier. These \"Toolboxes\" are called Modules. You have used this already. \n",
    "\n",
    "When we import things we actually plug in new modules into Python. For data science one of the key libraries is numpy."
   ]
  },
  {
   "cell_type": "markdown",
   "metadata": {},
   "source": [
    "<div>\n",
    "<img src=\"http://www.jensuhlig.de/Kemm30/KEMM30_001.jpg\" width=\"300\">\n",
    "</div>"
   ]
  },
  {
   "cell_type": "markdown",
   "metadata": {},
   "source": [
    "Most Modules/Libraries contain many of these these objects and we can choose to load one or all. They also contain functions that do things (which are also objects in a sense)."
   ]
  },
  {
   "cell_type": "markdown",
   "metadata": {},
   "source": [
    "<div>\n",
    "<img src=\"http://www.jensuhlig.de/Kemm30/KEMM30_003.jpg\" width=\"200\">\n",
    "</div>"
   ]
  },
  {
   "cell_type": "markdown",
   "metadata": {},
   "source": [
    "What are objects? Obejcts are \"boxes\" That contain things. E.g. Data or functions or instructions what and how you can use them. "
   ]
  },
  {
   "cell_type": "markdown",
   "metadata": {},
   "source": [
    "<div>\n",
    "<img src=\"http://www.jensuhlig.de/Kemm30/KEMM30_002.jpg\" width=\"150\">\n",
    "</div>"
   ]
  },
  {
   "cell_type": "markdown",
   "metadata": {},
   "source": [
    "These functions are hidden in each object and can be accessed with the \"dot\""
   ]
  },
  {
   "cell_type": "markdown",
   "metadata": {},
   "source": [
    "<div>\n",
    "<img src=\"http://www.jensuhlig.de/Kemm30/KEMM30_004.jpg\" width=\"180\">\n",
    "</div>"
   ]
  },
  {
   "cell_type": "markdown",
   "metadata": {},
   "source": [
    "Why so complicated? Try:"
   ]
  },
  {
   "cell_type": "markdown",
   "metadata": {},
   "source": [
    "<div>\n",
    "<img src=\"http://www.jensuhlig.de/Kemm30/KEMM30_005.jpg\" width=\"400\">\n",
    "</div>"
   ]
  },
  {
   "cell_type": "code",
   "execution_count": null,
   "metadata": {},
   "outputs": [],
   "source": []
  },
  {
   "cell_type": "markdown",
   "metadata": {},
   "source": [
    "### Where do modules come from?"
   ]
  },
  {
   "cell_type": "markdown",
   "metadata": {},
   "source": [
    "You install them (place the module.py file in the python path) or you have them in your working folder or you add the path to the file to the python path. Important to understand, Modules are nothing but files that contain stuff and in general have the ending \"my_module.py\", so any file you write can be module and you can save your work."
   ]
  },
  {
   "cell_type": "markdown",
   "metadata": {},
   "source": [
    "### Why should I care?"
   ]
  },
  {
   "cell_type": "markdown",
   "metadata": {},
   "source": [
    "Because this means that as long as you know which module to use, you can find help/documentation by either googling the module, read the module documentation or better look inside with the \"dot method\" decribed above and see what is inside the box. Now this box usually contains only what might need and as helps you remembering and starting with an unkown task. \n",
    "Alternative: This course ;o)"
   ]
  },
  {
   "cell_type": "markdown",
   "metadata": {},
   "source": [
    "# Data Science"
   ]
  },
  {
   "cell_type": "markdown",
   "metadata": {},
   "source": [
    "## What is this thing called data?"
   ]
  },
  {
   "cell_type": "code",
   "execution_count": null,
   "metadata": {},
   "outputs": [],
   "source": [
    "types=[float(0.94545),int(3),str('hello world'),bool(True),1.e4] # this is a list of data types\n",
    "for i in types: #and now we loop through the contents of this list\n",
    "    print(type(i), i , 'I\\'m in a string and show: \\\"%s\\\"'%i)"
   ]
  },
  {
   "cell_type": "markdown",
   "metadata": {},
   "source": [
    "# Collecting data"
   ]
  },
  {
   "cell_type": "markdown",
   "metadata": {},
   "source": [
    "## you already know Lists:  (Hint rectangular brackets  [ ] )"
   ]
  },
  {
   "cell_type": "code",
   "execution_count": null,
   "metadata": {},
   "outputs": [],
   "source": [
    "listen=['I','am', 'a', 'list','of','words']\n",
    "print(listen)\n",
    "print('can be appended, added and removed from')\n",
    "listen[-1]='sorted'\n",
    "listen.append('words')\n",
    "print(listen)\n",
    "print('and can be sorted')\n",
    "listen.sort()\n",
    "print(listen)"
   ]
  },
  {
   "cell_type": "markdown",
   "metadata": {},
   "source": [
    "### Task: "
   ]
  },
  {
   "cell_type": "markdown",
   "metadata": {},
   "source": [
    "use the words from \"listen\"  above, create a new list in the order \"A list of words I am\" by using append and the index of the words. listen[3:] for example is a section of the list and could be a starting point.\n",
    "with. \n",
    "Finally you can combine the list with \" ' '.join(new list) and print it  "
   ]
  },
  {
   "cell_type": "markdown",
   "metadata": {},
   "source": [
    "## you already know Tuples: (Hint round brackets  ( )  )"
   ]
  },
  {
   "cell_type": "code",
   "execution_count": null,
   "metadata": {},
   "outputs": [],
   "source": [
    "tupeln=('So','best','use','a','tupel','for','fixed','order')\n",
    "print(' '.join(tupeln))\n",
    "print('Most often used for returning values from functions (we do later)')"
   ]
  },
  {
   "cell_type": "markdown",
   "metadata": {},
   "source": [
    "## you already know dictionaries: (Hint waived brackets { } )"
   ]
  },
  {
   "cell_type": "markdown",
   "metadata": {},
   "source": [
    "data from different measurements in categories e.g. measurement 1, meausrement 2, is best handled with names in a dictionary"
   ]
  },
  {
   "cell_type": "markdown",
   "metadata": {},
   "source": []
  },
  {
   "cell_type": "code",
   "execution_count": 1,
   "metadata": {},
   "outputs": [
    {
     "name": "stdout",
     "output_type": "stream",
     "text": [
      "<class 'dict'>\n"
     ]
    }
   ],
   "source": [
    "fridge={'milk':3,'eggs':5,'thuringian sausage':2}\n",
    "print(type(fridge))"
   ]
  },
  {
   "cell_type": "markdown",
   "metadata": {},
   "source": [
    "the stuff in the fridge has a name(key) and we can access the stored data (here how much we have) by the key"
   ]
  },
  {
   "cell_type": "code",
   "execution_count": null,
   "metadata": {},
   "outputs": [],
   "source": [
    "print(fridge.keys())\n",
    "for key in fridge.keys():\n",
    "    print('We have %i of %s in the fridge'%(fridge[key],key))"
   ]
  },
  {
   "cell_type": "markdown",
   "metadata": {},
   "source": [
    "we can write functions that change what we have in the dictionary and use it to manipulate the many variables we have in our storage."
   ]
  },
  {
   "cell_type": "code",
   "execution_count": null,
   "metadata": {},
   "outputs": [],
   "source": [
    "def change_in_fridge(fridge,what=None,how_many=0):\n",
    "        try:\n",
    "            if what in fridge.keys():\n",
    "                fridge[what]+=how_many\n",
    "            else:\n",
    "                fridge[what]=how_many\n",
    "        except:\n",
    "            print('not in fridge, we have currently the following inside')\n",
    "            print(fridge.keys())"
   ]
  },
  {
   "cell_type": "code",
   "execution_count": null,
   "metadata": {},
   "outputs": [],
   "source": [
    "print(\"Before the change\\n \")\n",
    "for key in fridge.keys():\n",
    "    print('We have %s of %s in the fridge.'%(fridge[key],key))\n",
    "change_in_fridge(fridge,'butter',1) \n",
    "\n",
    "print('\\n After the change')\n",
    "for key in fridge.keys():\n",
    "    print('we have {} of {} in the fridge.'.format(fridge[key],key))"
   ]
  },
  {
   "cell_type": "markdown",
   "metadata": {},
   "source": [
    "### Task:"
   ]
  },
  {
   "cell_type": "markdown",
   "metadata": {},
   "source": [
    "use the function above to change the content of milk to 4 and then calculate how many items are in the fridge in total and write it in an answer sentence using the string format"
   ]
  },
  {
   "cell_type": "code",
   "execution_count": null,
   "metadata": {},
   "outputs": [],
   "source": []
  },
  {
   "cell_type": "markdown",
   "metadata": {},
   "source": [
    "### Fridge Analogon: Is a help to remember what is the uniqueness of the build in modules.\n",
    "dictionary is the categorical storage of incredients\n",
    "tuple is the order of shelfs\n",
    "list is the shopping list "
   ]
  },
  {
   "cell_type": "markdown",
   "metadata": {},
   "source": [
    "# Data Science: "
   ]
  },
  {
   "cell_type": "markdown",
   "metadata": {},
   "source": [
    "The secret is structure!! (if you have 300 variables and $10^8$ Datasets that's kind of essential )"
   ]
  },
  {
   "cell_type": "markdown",
   "metadata": {},
   "source": [
    "In data science a classical method is to stack data, results and receipes. A widely spread method is to use a file format called \"HDF5\" which is nothing but a stacked dictionary. There are special libraries to read and write them comfortably."
   ]
  },
  {
   "cell_type": "code",
   "execution_count": null,
   "metadata": {},
   "outputs": [],
   "source": [
    "Cookbook={'pancakes':{\n",
    "                    'description':'delicious food prepared fast',\n",
    "                    'receipe':{'eggs':2,'milk':1,'flour':500},\n",
    "                    'time(min)':10.0\n",
    "                    }\n",
    "         }\n",
    "#print(Cookbook)"
   ]
  },
  {
   "cell_type": "markdown",
   "metadata": {},
   "source": [
    "This stacked dictionary contains many elements (here receipies)"
   ]
  },
  {
   "cell_type": "code",
   "execution_count": null,
   "metadata": {},
   "outputs": [],
   "source": [
    "print(Cookbook.keys())"
   ]
  },
  {
   "cell_type": "markdown",
   "metadata": {},
   "source": [
    "we can see what are the things that each elements contains: these elements can be of what ever unit."
   ]
  },
  {
   "cell_type": "code",
   "execution_count": null,
   "metadata": {},
   "outputs": [],
   "source": [
    "print(Cookbook['pancakes'].keys())"
   ]
  },
  {
   "cell_type": "markdown",
   "metadata": {},
   "source": [
    "and we can access each unit separately (Note the two rectangular brackets). <br>\n",
    "Cookbook['pancakes'] = {'description':'delicious food prepared fast','receipe': 'eggs':2,'milk':1,'flour':500},'time(min)':10.0}<br>\n",
    "Cookbook['pancakes']['time(min)']=10.0<br>\n",
    "Cookbook['pancakes']['description']='delicious food prepared fast'<br>\n",
    "Cookbook['pancakes']['receipe']={'eggs':2,'milk':1,'flour':500}<br>\n",
    "Cookbook['pancakes']['receipe']['eggs']=2"
   ]
  },
  {
   "cell_type": "code",
   "execution_count": null,
   "metadata": {},
   "outputs": [],
   "source": [
    "print('\\n\\n pancakes take only %.1f minutes to make\\n\\n'%Cookbook['pancakes']['time(min)'])"
   ]
  },
  {
   "cell_type": "markdown",
   "metadata": {},
   "source": [
    "some data is just a number others is a dictionary itself (receipe) the datastructure is there to sort and collect data and to keep it together"
   ]
  },
  {
   "cell_type": "markdown",
   "metadata": {},
   "source": [
    "### Task: "
   ]
  },
  {
   "cell_type": "markdown",
   "metadata": {},
   "source": [
    "Add my favourite chocolade icecream receipe to the dictionary above and show that dictionarie now contains 2 different receipies and that you can access them separately\n",
    "\n",
    "250g frozen fruit,\n",
    "200g yoghurt/Afil,\n",
    "1 pinch vanilie sugar\n",
    "\n",
    "Process:\n",
    "Blend i Mixer"
   ]
  },
  {
   "cell_type": "markdown",
   "metadata": {},
   "source": [
    "## Manipulating data of the same kind: vectors/matrixes/images"
   ]
  },
  {
   "cell_type": "markdown",
   "metadata": {},
   "source": [
    "Classically we collect large amount of the same data. and we could store it in a list of lists. Let me show you with an image:"
   ]
  },
  {
   "cell_type": "code",
   "execution_count": null,
   "metadata": {},
   "outputs": [],
   "source": [
    "def make_smily_list():\n",
    "    list_of_lists=[[0,0,0,0,0,0,0],[0,0,0,0,0,0,0],[0,0,1,0,1,0,0],[0,0,0,0,0,0,0],[0,1,0,0,0,1,0],[0,0,1,0,1,0,0],[0,0,0,1,0,0,0],\n",
    "[0,0,0,0,0,0,0],[0,0,0,0,0,0,0]]\n",
    "    return list_of_lists\n",
    "print(make_smily_list())"
   ]
  },
  {
   "cell_type": "markdown",
   "metadata": {},
   "source": [
    "or let me show you as an image. For this we need a module to plot things."
   ]
  },
  {
   "cell_type": "code",
   "execution_count": null,
   "metadata": {},
   "outputs": [],
   "source": [
    "import matplotlib.pyplot as plt\n",
    "plt.imshow(make_smily_list(),cmap='gray', vmin=0, vmax=255)\n",
    "plt.axis('off')"
   ]
  },
  {
   "cell_type": "markdown",
   "metadata": {},
   "source": [
    "now lets change all the 1 into 255 so that we can actually see something. For this we would need to use a loop and go through each element"
   ]
  },
  {
   "cell_type": "code",
   "execution_count": null,
   "metadata": {},
   "outputs": [],
   "source": [
    "list_of_lists=make_smily_list()   # we use our function to make a list and store the list under \"list_of_lists\" \n",
    "\n",
    "for i in range(0,9,1):\n",
    "    print('row is %i'%i)\n",
    "    for j in range(0,7,1):\n",
    "        print('column is %i'%j)\n",
    "        if list_of_lists[i][j]==1:\n",
    "            list_of_lists[i][j]=(list_of_lists[i][j])*255\n",
    "        else:\n",
    "            list_of_lists[i][j]=128\n",
    "print(list_of_lists)\n",
    "plt.imshow(list_of_lists,cmap='gray', vmin=0, vmax=255)\n",
    "plt.axis('off')"
   ]
  },
  {
   "cell_type": "markdown",
   "metadata": {},
   "source": [
    "## Numpy"
   ]
  },
  {
   "cell_type": "markdown",
   "metadata": {},
   "source": [
    "entering Numpy, a library that allows to do the same thing to all the elements of an array."
   ]
  },
  {
   "cell_type": "code",
   "execution_count": null,
   "metadata": {},
   "outputs": [],
   "source": [
    "import numpy\n",
    "list_of_lists=make_smily_list()\n",
    "arrayen=numpy.array(list_of_lists) # convert the list_of lists into an array\n",
    "print(arrayen)"
   ]
  },
  {
   "cell_type": "markdown",
   "metadata": {},
   "source": [
    "Now we can calculate with the array as a whole"
   ]
  },
  {
   "cell_type": "code",
   "execution_count": null,
   "metadata": {},
   "outputs": [],
   "source": [
    "arrayen=arrayen*255\n",
    "print(arrayen)\n",
    "plt.imshow(arrayen,cmap='gray', vmin=0, vmax=255)\n",
    "plt.axis('off')"
   ]
  },
  {
   "cell_type": "markdown",
   "metadata": {},
   "source": [
    "### Task"
   ]
  },
  {
   "cell_type": "markdown",
   "metadata": {},
   "source": [
    "use standard operations (+,-,/,*) to modify the array to create the grey image we created with the lists of lists above ("
   ]
  },
  {
   "cell_type": "code",
   "execution_count": null,
   "metadata": {},
   "outputs": [],
   "source": [
    "new_arrayen=arrayen.copy()\n",
    "plt.imshow(new_arrayen,cmap='gray', vmin=0, vmax=255)\n",
    "plt.axis('off')"
   ]
  },
  {
   "cell_type": "markdown",
   "metadata": {},
   "source": [
    "the object \"array\" now contains a whole bunch of usefull operations that can be found with the \"dot\""
   ]
  },
  {
   "cell_type": "code",
   "execution_count": null,
   "metadata": {},
   "outputs": [],
   "source": [
    "arrayen=numpy.zeros((9,7))\n",
    "for a in [(2,2),(2,4),(4,1),(4,-2),(5,2),(5,-3),(6,3)]:\n",
    "    arrayen[a]=128\n",
    "arrayen+=128\n",
    "\n",
    "print('arrayen min() is %.1f'%arrayen.min())\n",
    "print('arrayen max() is %.1f'%arrayen.max())\n",
    "print('arrayen mean() is %.2f'%arrayen.mean())"
   ]
  },
  {
   "cell_type": "markdown",
   "metadata": {},
   "source": [
    "### Task:"
   ]
  },
  {
   "cell_type": "markdown",
   "metadata": {},
   "source": [
    "rotate the matrix by 90 degrees: (hint this is called transposing)"
   ]
  },
  {
   "cell_type": "code",
   "execution_count": null,
   "metadata": {},
   "outputs": [],
   "source": []
  },
  {
   "cell_type": "markdown",
   "metadata": {},
   "source": [
    "A classical task that is often performed for images is the \"normalization\""
   ]
  },
  {
   "cell_type": "code",
   "execution_count": null,
   "metadata": {},
   "outputs": [],
   "source": [
    "def normalize(arrayen):\n",
    "    return (arrayen-arrayen.min())/(arrayen.max()-arrayen.min())\n",
    "\n",
    "arrayen=numpy.zeros((9,7))\n",
    "for a in [(2,2),(2,4),(4,1),(4,-2),(5,2),(5,-3),(6,3)]:\n",
    "    arrayen[a]=128\n",
    "arrayen+=128\n",
    "\n",
    "print('Before: the max is {} the min is {} and the mean {}'.format(arrayen.min(),arrayen.max(),arrayen.mean()))\n",
    "arrayen2=normalize(arrayen.copy())*255\n",
    "print('Before: the max is {} the min is {} and the mean {}'.format(arrayen2.min(),arrayen2.max(),arrayen2.mean()))\n"
   ]
  },
  {
   "cell_type": "markdown",
   "metadata": {},
   "source": [
    "## Creation Data/plot functions:"
   ]
  },
  {
   "cell_type": "markdown",
   "metadata": {},
   "source": [
    "vectors/data can be created with a wide variety of methods (in many dimensions if needed)"
   ]
  },
  {
   "cell_type": "code",
   "execution_count": null,
   "metadata": {},
   "outputs": [],
   "source": [
    "print(np.zeros((3,3)))\n",
    "print(np.ones((3,3)))\n",
    "print(np.eye(5))\n",
    "print(np.arange(0,1,0.1)) # in fact this is what you mostely use to create a list of data with fixed steps\n",
    "print(np.linspace(1,10,5))# in fact this is what you mostely use to create a list of data with fixed number of data points\n",
    "print(np.logspace(1,3,5))"
   ]
  },
  {
   "cell_type": "markdown",
   "metadata": {},
   "source": [
    "The plotting module pyplot lets us very easily plot function with plt.plot(x-vector,y-vector). As we learned above we can now calculate with vectors as if this would be numbers. Assuming that we use the functions from numpy.\n",
    "\n",
    "the latter might feel a bit confusing but remember that python does not know what to do with the new thing called \"array\" only numpy does.\n",
    "\n",
    "Now that we are gone write \"numpy this much let's use a lazy option and give it a new name\""
   ]
  },
  {
   "cell_type": "code",
   "execution_count": null,
   "metadata": {},
   "outputs": [],
   "source": [
    "import numpy as np"
   ]
  },
  {
   "cell_type": "markdown",
   "metadata": {},
   "source": [
    "and now lets use it to plot the sinus function:"
   ]
  },
  {
   "cell_type": "code",
   "execution_count": null,
   "metadata": {},
   "outputs": [],
   "source": [
    "x=np.arange(0,4,0.02)# we create and array x\n",
    "y=np.sin(2*np.pi*x) # we use numpy function to calculate something from x\n",
    "plt.plot(x,y)"
   ]
  },
  {
   "cell_type": "markdown",
   "metadata": {},
   "source": [
    "As we do the calculation for each component of x they have the same shape. Checking the shape is an important tool for finding errors. Important is the difference between (200,) for x and (200,1) for x2. "
   ]
  },
  {
   "cell_type": "code",
   "execution_count": null,
   "metadata": {},
   "outputs": [],
   "source": [
    "print(x.shape)\n",
    "print(y.shape)\n",
    "x2=x.reshape(-1,1) #the -1 stands for and all the rest\n",
    "print(x2.shape)"
   ]
  },
  {
   "cell_type": "markdown",
   "metadata": {},
   "source": [
    "### Task"
   ]
  },
  {
   "cell_type": "markdown",
   "metadata": {},
   "source": [
    "Check with \"ndim\" what the difference between x and x2 is. Use np.vstack to create a matrix with the first column x and the second column y. (hint, concatenate,hstack and vstack do similar things in different dimensions, other useful tools are e.g. np.tile) if things are confusion I usually create myself some simple vectors with x=np.arange(0,6,1) to test things until i understand what happens. regular checking with ndim or x.shape helps. "
   ]
  },
  {
   "cell_type": "code",
   "execution_count": null,
   "metadata": {},
   "outputs": [],
   "source": []
  },
  {
   "cell_type": "markdown",
   "metadata": {},
   "source": [
    "Plot a a gaussian bell curve: $g(x)=\\frac{1}{\\sigma\\sqrt{2\\pi}} e^{-\\frac{1}{2}((x-\\mu)/\\sigma)^2}$ \n",
    "and again create the 2d vector with x in the first column and y in the second column. Use a suitable $\\sigma$ and $\\mu$ e.g. 1 and 0 respectively"
   ]
  },
  {
   "cell_type": "code",
   "execution_count": null,
   "metadata": {},
   "outputs": [],
   "source": []
  },
  {
   "cell_type": "markdown",
   "metadata": {},
   "source": [
    "Use np.savetxt so write this matrix to a file, use 2 digits after the comma and a \";\" between the numbers Give it a recognizable name."
   ]
  },
  {
   "cell_type": "code",
   "execution_count": null,
   "metadata": {},
   "outputs": [],
   "source": []
  },
  {
   "cell_type": "markdown",
   "metadata": {},
   "source": [
    "## Data Selection -slices\n",
    "\n",
    "important: slices are always pointers. meaning that you select a portion of the original matrix"
   ]
  },
  {
   "cell_type": "markdown",
   "metadata": {},
   "source": [
    "in data science we often work with a selection of data. That means sometimes you want the first column or row of the data but more often you want to select the portion of data that is \"good\" so the one where the values are above or below a certain threshold. For this use boolean based indexing. With this selection array you can e.g. replace all the values of a certain type with something different. "
   ]
  },
  {
   "cell_type": "markdown",
   "metadata": {},
   "source": [
    "### Boolean based slices = a matrix of the same dimensions with true and false values"
   ]
  },
  {
   "cell_type": "code",
   "execution_count": null,
   "metadata": {},
   "outputs": [],
   "source": [
    "arrayen=numpy.zeros((9,7))\n",
    "for a in [(2,2),(2,4),(4,1),(4,-2),(5,2),(5,-3),(6,3)]:\n",
    "    arrayen[a]=255\n",
    "boolean_array=arrayen<100\n",
    "print(boolean_array)\n",
    "\n",
    "print(arrayen)\n",
    "arrayen[boolean_array]=128\n",
    "print(arrayen)\n"
   ]
  },
  {
   "cell_type": "markdown",
   "metadata": {},
   "source": [
    "### Task"
   ]
  },
  {
   "cell_type": "markdown",
   "metadata": {},
   "source": [
    "plot a sinus function from 0 to 8 where all the data below zero is replaced with 0 using boolean slicing"
   ]
  },
  {
   "cell_type": "code",
   "execution_count": null,
   "metadata": {},
   "outputs": [],
   "source": []
  },
  {
   "cell_type": "markdown",
   "metadata": {},
   "source": [
    "to avoid writing np.sin all the time you can also overwrite the standard sinus function of your numpy with:\n",
    "\"from numpy import sin,cos,pi\"\n",
    "afterwards you can use sin(2*pi*x) directly. try it"
   ]
  },
  {
   "cell_type": "code",
   "execution_count": null,
   "metadata": {},
   "outputs": [],
   "source": []
  },
  {
   "cell_type": "markdown",
   "metadata": {},
   "source": [
    "### index based slizing\n",
    "\n",
    "The second common type of slicing is index based slicing. Here we can address a certain cell or range of cells and their values directly. \n",
    "\n",
    "Synthax 1-dim\n",
    "a[i] for single cell\n",
    "\n",
    "a[i:j] for range\n",
    "\n",
    "a[i:] from i to end\n",
    "\n",
    "a[:i] from beginning to (excl.) i\n",
    "\n",
    "a[:-1] from beginnnig until (excl.) last"
   ]
  },
  {
   "cell_type": "markdown",
   "metadata": {},
   "source": [
    "### Examples"
   ]
  },
  {
   "cell_type": "code",
   "execution_count": null,
   "metadata": {},
   "outputs": [],
   "source": [
    "x=range(15);\n",
    "print('x=range(15) is ' + '{}'.format(list(x)))\n",
    "print( 'x[2]   is ' + '{}'.format(x[2]))\n",
    "print( 'x[:]   is ' + '{}'.format(x[:]))\n",
    "print( 'x[:2]  is ' + '{}'.format(x[:2]))\n",
    "print( 'x[2:]  is ' + '{}'.format(x[2:]))\n",
    "print('x[2:6] is ' + '{}'.format(x[2:6])) \n",
    "print( 'x[:-1] is ' + '{}'.format(x[:-1]))\n",
    "print( 'x[:-2] is ' + '{}'.format(x[:-2]))"
   ]
  },
  {
   "cell_type": "code",
   "execution_count": null,
   "metadata": {},
   "outputs": [],
   "source": [
    "Syntax 2-dim,\n",
    "\n",
    "a[i:j,k:h]\n",
    "\n",
    "3-dim\n",
    "\n",
    "a[i:j,k:h,l:m]\n",
    "\n",
    "a.shape or np.shape(a) gives info about the shape"
   ]
  },
  {
   "cell_type": "code",
   "execution_count": null,
   "metadata": {},
   "outputs": [],
   "source": [
    "y=np.reshape(np.arange(20),[4,5])\n",
    "print( 'y[:,:]   is \\n' + '{}\\n'.format(y[:,:]))\n",
    "print('y[2,:]   is \\n' + '{}\\n'.format(y[2,:])) \n",
    "print('y[:,2]   is \\n' + '{}\\n'.format(y[:,2])) \n",
    "print( 'y[2,2]   is \\n' + '{}\\n'.format(y[2,2]))\n",
    "print( 'y[:1,:]  is \\n' + '{}\\n'.format(y[:1,:]))\n",
    "print('y[:-1,:] is \\n' + '{}\\n'.format(y[:-1,:])) \n",
    "print('y[:,1:] is \\n' + '{}\\n'.format(y[:,1:])) \n",
    "print('y[:,:2]  is \\n' + '{}\\n'.format(y[:,:2])) \n",
    "print('y[:,:-2] is \\n' + '{}\\n'.format(y[:,:-2])) \n",
    "print('y[1:3,2:4] is \\n' + '{}'.format(y[1:3,2:4])) \n",
    "print('y[::2,:] is \\n' + '{}'.format(y[::2,:])) "
   ]
  },
  {
   "cell_type": "markdown",
   "metadata": {},
   "source": [
    "### Task: use a single! index based slices only to create the following images: "
   ]
  },
  {
   "cell_type": "code",
   "execution_count": null,
   "metadata": {},
   "outputs": [],
   "source": [
    "def smiley_figure():\n",
    "    arrayen=numpy.zeros((9,7))\n",
    "    for a in [(2,2),(2,4),(4,1),(4,-2),(5,2),(5,-3),(6,3)]:\n",
    "        arrayen[a]=128\n",
    "    arrayen+=128\n",
    "    return arrayen\n",
    "plt.imshow(smiley_figure(),cmap='gray', vmin=0, vmax=255)"
   ]
  },
  {
   "cell_type": "markdown",
   "metadata": {
    "collapsed": true
   },
   "source": [
    "<div>\n",
    "<img src=\"http://www.jensuhlig.de/Kemm30/kemm30_day3_task1_1.png\" width=\"100\">\n",
    "</div>"
   ]
  },
  {
   "cell_type": "code",
   "execution_count": null,
   "metadata": {},
   "outputs": [],
   "source": []
  },
  {
   "cell_type": "markdown",
   "metadata": {},
   "source": [
    "<div>\n",
    "<img src=\"http://www.jensuhlig.de/Kemm30/kemm30_day3_task1_2.png\" width=\"100\">\n",
    "</div>"
   ]
  },
  {
   "cell_type": "code",
   "execution_count": null,
   "metadata": {},
   "outputs": [],
   "source": []
  },
  {
   "cell_type": "markdown",
   "metadata": {},
   "source": [
    "<div>\n",
    "<img src=\"http://www.jensuhlig.de/Kemm30/kemm30_day3_task1_3.png\" width=\"100\">\n",
    "</div>"
   ]
  },
  {
   "cell_type": "code",
   "execution_count": null,
   "metadata": {},
   "outputs": [],
   "source": []
  },
  {
   "cell_type": "markdown",
   "metadata": {},
   "source": [
    "<div>\n",
    "<img src=\"http://www.jensuhlig.de/Kemm30/kemm30_day3_task1_4.png\" width=\"100\">\n",
    "</div>"
   ]
  },
  {
   "cell_type": "markdown",
   "metadata": {},
   "source": [
    "skip some stuff to get \n",
    "<div>\n",
    "<img src=\"http://www.jensuhlig.de/Kemm30/kemm30_day3_task1_5.png\" width=\"100\">\n",
    "</div>"
   ]
  },
  {
   "cell_type": "code",
   "execution_count": null,
   "metadata": {},
   "outputs": [],
   "source": []
  },
  {
   "cell_type": "markdown",
   "metadata": {
    "collapsed": true
   },
   "source": [
    "two operations for this:\n",
    "<div>\n",
    "<img src=\"http://www.jensuhlig.de/Kemm30/kemm30_day3_task1_6.png\" width=\"100\">\n",
    "</div>"
   ]
  },
  {
   "cell_type": "code",
   "execution_count": null,
   "metadata": {},
   "outputs": [],
   "source": []
  },
  {
   "cell_type": "markdown",
   "metadata": {},
   "source": [
    "Three operations for this\n",
    "<div>\n",
    "<img src=\"http://www.jensuhlig.de/Kemm30/kemm30_day3_task1_7.png\" width=\"100\">\n",
    "</div>"
   ]
  },
  {
   "cell_type": "code",
   "execution_count": null,
   "metadata": {},
   "outputs": [],
   "source": []
  },
  {
   "cell_type": "markdown",
   "metadata": {},
   "source": [
    "Start from a fresh 4 x 4 matrix and create this one. Hint you can use the indices with 4 operations or you use \"ravel\" to create it with two operations\n",
    "<div>\n",
    "<img src=\"http://www.jensuhlig.de/Kemm30/kemm30_day3_task1_8.png\" width=\"100\">\n",
    "</div>"
   ]
  },
  {
   "cell_type": "code",
   "execution_count": null,
   "metadata": {},
   "outputs": [],
   "source": []
  },
  {
   "cell_type": "markdown",
   "metadata": {},
   "source": [
    "## Reading and handling ascii data"
   ]
  },
  {
   "cell_type": "markdown",
   "metadata": {},
   "source": [
    "### Task"
   ]
  },
  {
   "cell_type": "markdown",
   "metadata": {},
   "source": [
    "1. read from the saved file containing your gaussian matrix back in with np.loadtxt (check which orientation the vector has and create again a column vector). Hint you have to use index based slicing "
   ]
  },
  {
   "cell_type": "code",
   "execution_count": null,
   "metadata": {},
   "outputs": [],
   "source": []
  },
  {
   "cell_type": "markdown",
   "metadata": {},
   "source": [
    "2. use trapz from numpy to integrate the area under the curve. "
   ]
  },
  {
   "cell_type": "code",
   "execution_count": null,
   "metadata": {},
   "outputs": [],
   "source": []
  },
  {
   "cell_type": "markdown",
   "metadata": {},
   "source": [
    "3. Manually sum the values (multiply each value in the y-vector by the width of the slize!)."
   ]
  },
  {
   "cell_type": "code",
   "execution_count": null,
   "metadata": {},
   "outputs": [],
   "source": []
  },
  {
   "cell_type": "markdown",
   "metadata": {},
   "source": [
    "4. Print a sentence in which you compare the result. (Rounded to the 3, place after the comma and in a second sentence non rounded to emphasize the difference)"
   ]
  },
  {
   "cell_type": "code",
   "execution_count": null,
   "metadata": {},
   "outputs": [],
   "source": []
  },
  {
   "cell_type": "markdown",
   "metadata": {},
   "source": [
    "5. create a dictionary with 'x' and 'y' as keys and the separate vectors as entries. "
   ]
  },
  {
   "cell_type": "code",
   "execution_count": null,
   "metadata": {},
   "outputs": [],
   "source": []
  },
  {
   "cell_type": "markdown",
   "metadata": {},
   "source": [
    "# Practical final task and homework"
   ]
  },
  {
   "cell_type": "markdown",
   "metadata": {},
   "source": [
    "Many analysis techniques collect grey scale images. But an image is also nothing else as the representation of two independently conducted measurements. A nice example is two-dimensional liquid chromatography as often used in Analytic chemistry. This image (from Sun, Mingzhe , PhD Thesis LU2019) illustrates this method. "
   ]
  },
  {
   "cell_type": "markdown",
   "metadata": {},
   "source": [
    "<div>\n",
    "<img src=\"http://www.jensuhlig.de/Kemm30/2dLC.png\" width=\"700\">\n",
    "</div>"
   ]
  },
  {
   "cell_type": "markdown",
   "metadata": {},
   "source": [
    "After each run a number of substances are not well separated. So can e.g. method 1 (x-axis) not separate the black, yellow and green signatures, while the second method (axis 2) can not separate blue and yellow peak. In this sketch the two methods are very nicely \"othogonal\" meaning that e.g. the green, yellow and black features are perfectly aligned, in general this is of course not assumed. Plotting the two methods in a 2d image as shown here allows a visible inspection of  the two analysis runs and one can \"see\" the different compounds. But how do we quantitatively extract e.g. what fraction of each compound is in the mixture we need to extract the information from the image.\n",
    "\n",
    "<div>\n",
    "<img src=\"http://www.jensuhlig.de/Kemm30/2D_measured.png\" width=\"300\">\n",
    "</div>"
   ]
  },
  {
   "cell_type": "markdown",
   "metadata": {},
   "source": [
    "Download the image \"http://www.jensuhlig.de/Kemm30/2D_measured.png\" into your data Folder"
   ]
  },
  {
   "cell_type": "code",
   "execution_count": null,
   "metadata": {},
   "outputs": [],
   "source": [
    "# we need a special library for loading images. \n",
    "import numpy as np\n",
    "from PIL import Image   #tool to open and convert images\n",
    "image_open = Image.open('2D_measured.png')"
   ]
  },
  {
   "cell_type": "markdown",
   "metadata": {},
   "source": [
    "Now the image is loaded but it is in general in the format print(image.mode)"
   ]
  },
  {
   "cell_type": "code",
   "execution_count": null,
   "metadata": {},
   "outputs": [],
   "source": [
    "print(image_open.mode)\n",
    "print('This means it is in colour. which means this are 4 matrices')\n",
    "print(np.asarray(image_open).shape)\n",
    "#convert to "
   ]
  },
  {
   "cell_type": "markdown",
   "metadata": {},
   "source": [
    "so we convert it into greyscale image"
   ]
  },
  {
   "cell_type": "code",
   "execution_count": null,
   "metadata": {},
   "outputs": [],
   "source": [
    "greyscale_image=np.asarray(image_open.convert('L'))\n",
    "print(greyscale_image.shape)"
   ]
  },
  {
   "cell_type": "code",
   "execution_count": null,
   "metadata": {},
   "outputs": [],
   "source": [
    "import matplotlib.pyplot as plt\n",
    "plt.imshow(greyscale_image,cmap='gray')"
   ]
  },
  {
   "cell_type": "markdown",
   "metadata": {},
   "source": [
    "Now we can slice the image with the methods we learned:"
   ]
  },
  {
   "cell_type": "code",
   "execution_count": null,
   "metadata": {},
   "outputs": [],
   "source": [
    "greyscale_image_cut=greyscale_image[100:670,50:600]\n",
    "plt.imshow(greyscale_image_cut,cmap='gray')"
   ]
  },
  {
   "cell_type": "markdown",
   "metadata": {},
   "source": [
    "Maybe to make it easier visible, invert and maximize the scale"
   ]
  },
  {
   "cell_type": "code",
   "execution_count": null,
   "metadata": {},
   "outputs": [],
   "source": [
    "#decide on a threshold where everything is white\n",
    "greyscale_image_cut_scaled=greyscale_image_cut-greyscale_image_cut.min()   #substract the minimum\n",
    "greyscale_image_cut_scaled=greyscale_image_cut_scaled/greyscale_image_cut_scaled.max() # divide by the new maximum to bring it to one\n",
    "greyscale_image_cut_scaled=(1-greyscale_image_cut_scaled) # invert the scale\n",
    "\n"
   ]
  },
  {
   "cell_type": "markdown",
   "metadata": {},
   "source": [
    "and show e.g. the line integrations (here just used the mean)"
   ]
  },
  {
   "cell_type": "code",
   "execution_count": null,
   "metadata": {},
   "outputs": [],
   "source": [
    "fig,ax=plt.subplots(1,2,figsize=(16,5)) #open an image, we discuss tomorrow\n",
    "ax[0].plot(greyscale_image_cut_scaled.mean(axis=0))\n",
    "ax[1].plot(greyscale_image_cut_scaled.mean(axis=1))"
   ]
  },
  {
   "cell_type": "markdown",
   "metadata": {},
   "source": [
    "### Task\n",
    "\n",
    "a.) plot the isolated intensity profile of these features\n",
    "\n",
    "b.) While you would normally fit a shape to the measured signatures. However a good approximation can be used by using np.trapz. Extract the ratio of the two signatures.\n",
    "\n",
    "<div>\n",
    "<img src=\"http://www.jensuhlig.de/Kemm30/2D_measured_indicated.png\" width=\"200\">\n",
    "</div>"
   ]
  },
  {
   "cell_type": "code",
   "execution_count": null,
   "metadata": {},
   "outputs": [],
   "source": []
  },
  {
   "cell_type": "code",
   "execution_count": null,
   "metadata": {},
   "outputs": [],
   "source": []
  },
  {
   "cell_type": "markdown",
   "metadata": {},
   "source": [
    "# Advanced"
   ]
  },
  {
   "cell_type": "markdown",
   "metadata": {},
   "source": [
    "### Advanced slicing"
   ]
  },
  {
   "cell_type": "markdown",
   "metadata": {},
   "source": [
    "This one you can create in many different ways:\n",
    "Using np.tile, using np.concatenate or np.hstack, using ravel or some clever looping. \n",
    "<div>\n",
    "<img src=\"http://www.jensuhlig.de/Kemm30/kemm30_day3_task1_9.png\" width=\"100\">\n",
    "</div>"
   ]
  },
  {
   "cell_type": "markdown",
   "metadata": {},
   "source": [
    "### Image work:\n",
    "\n",
    "As you might have guess, images are nothing but matrices of grey values"
   ]
  },
  {
   "cell_type": "code",
   "execution_count": null,
   "metadata": {},
   "outputs": [],
   "source": [
    "from scipy import misc     # a library with useful stuff\n",
    "import matplotlib.pyplot as plt    # the plotting library\n",
    "plt.show()                          # this is needed once to make the plots show\n",
    "face = misc.face(gray=True)  # here we import images\n",
    "plt.imshow(face,cmap='gray', vmin=0, vmax=255)\n",
    "plt.axis('off')"
   ]
  },
  {
   "cell_type": "markdown",
   "metadata": {},
   "source": [
    "and we can manipulate them with simple matrix operations:\n"
   ]
  },
  {
   "cell_type": "code",
   "execution_count": null,
   "metadata": {},
   "outputs": [],
   "source": [
    "def contrast(image,gamma=1,lightness=0):\n",
    "    image=image.copy()\n",
    "    image=image*gamma\n",
    "    image=image+lightness\n",
    "    image.clip(min=0,max=255,out=image)\n",
    "    return np.array(image,dtype='int')"
   ]
  },
  {
   "cell_type": "code",
   "execution_count": null,
   "metadata": {},
   "outputs": [],
   "source": [
    "fig,(ax1,ax2,ax3)=plt.subplots(1,3,figsize=(16,4)) #since we want to compare multiple images we use the subplots to create multiple axis within a single image and them plot into each axis one of the images\n",
    "ax1.imshow(contrast(face,lightness=0,gamma=1),cmap='gray', vmin=0, vmax=255) # use the contrast function to calculate something ont he image\n",
    "ax2.imshow(contrast(face,lightness=-30,gamma=1),cmap='gray', vmin=0, vmax=255)\n",
    "ax3.imshow(contrast(face,lightness=0,gamma=1.3),cmap='gray', vmin=0, vmax=255)\n",
    "ax1.axis('off');ax2.axis('off'),ax3.axis('off')"
   ]
  },
  {
   "cell_type": "markdown",
   "metadata": {},
   "source": [
    "a usefull things for any image work (or a lot of other process like spectroscopy ;o) are histograms\n",
    "In Histograms the contents of an matrix/vector or something are classified and put in a bin. So we say we have xxx many pixel with yyy intensity. The function np.histograms returns the bin edges (beginning end of each bin) with (bins[:-1]+bins[1:])/2 we calculate the center of each bin."
   ]
  },
  {
   "cell_type": "code",
   "execution_count": null,
   "metadata": {},
   "outputs": [],
   "source": [
    "fig,(ax1,ax2,ax3)=plt.subplots(1,3,figsize=(16,4))\n",
    "intensity,bins=np.histogram(contrast(face,lightness=0,gamma=1).ravel(),bins=range(0,255))\n",
    "ax1.plot((bins[:-1]+bins[1:])/2,intensity,'*')\n",
    "intensity,bins=np.histogram(contrast(face,lightness=-100,gamma=1).ravel(),bins=range(0,255))\n",
    "ax2.plot((bins[:-1]+bins[1:])/2,intensity,'*')\n",
    "ax2.set_ylim(0,6000)\n",
    "intensity,bins=np.histogram(contrast(face,lightness=0,gamma=1.3).ravel(),bins=range(0,255))\n",
    "ax3.plot((bins[:-1]+bins[1:])/2,intensity,'*')"
   ]
  },
  {
   "cell_type": "markdown",
   "metadata": {},
   "source": [
    "Cool thing all image manipulations you find in tools like Photoshop are nothing else but fancy matrix operations.\n",
    "Here we use convolve to convolute a smaller matrix with a bigger."
   ]
  },
  {
   "cell_type": "code",
   "execution_count": null,
   "metadata": {
    "scrolled": true
   },
   "outputs": [],
   "source": [
    "coins= misc.ascent()\n",
    "from scipy import ndimage\n",
    "\n",
    "edge_detection=np.ones((3,3))*-1;edge_detection[1,1]=8\n",
    "sharpen=np.array([[0,-1,0],[-1,5,-1],[0,-1,0]])\n",
    "gauss_blur=np.array([[1,4,6,4,1],[4,16,24,16,4],[6,24,36,24,6],[4,16,24,16,4],[1,4,6,4,1]])*(1/256.)\n",
    "\n",
    "coins1=ndimage.convolve(coins,edge_detection,mode='constant',cval=0)\n",
    "coins2=ndimage.convolve(coins,sharpen,mode='constant',cval=0)\n",
    "coins3=ndimage.convolve(coins,gauss_blur,mode='constant',cval=0)\n",
    "\n",
    "fig,ax=plt.subplots(1,4,figsize=(16,8))\n",
    "ax[0].imshow(coins1,cmap='gray', vmin=0, vmax=255)\n",
    "ax[0].set_title('edge_detection')\n",
    "ax[1].imshow(coins2,cmap='gray', vmin=0, vmax=255)\n",
    "ax[1].set_title('sharpen')\n",
    "ax[2].imshow(coins,cmap='gray', vmin=0, vmax=255)\n",
    "ax[2].set_title('original')\n",
    "ax[3].imshow(coins3,cmap='gray', vmin=0, vmax=255)\n",
    "ax[3].set_title('blurr')\n",
    "[ax[i].axis('off') for i in range(4)]"
   ]
  }
 ],
 "metadata": {
  "kernelspec": {
   "display_name": "Python 3",
   "language": "python",
   "name": "python3"
  },
  "language_info": {
   "codemirror_mode": {
    "name": "ipython",
    "version": 3
   },
   "file_extension": ".py",
   "mimetype": "text/x-python",
   "name": "python",
   "nbconvert_exporter": "python",
   "pygments_lexer": "ipython3",
   "version": "3.8.11"
  }
 },
 "nbformat": 4,
 "nbformat_minor": 2
}
