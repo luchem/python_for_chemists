{
 "cells": [
  {
   "cell_type": "markdown",
   "id": "a1301856",
   "metadata": {},
   "source": [
    "# Introduktion till Python\n",
    "\n",
    "Sätta att köra Python\n",
    "\n",
    "- Installer [Anaconda](https://www.anaconda.com/distribution/#download-section) på din laptop/dator. Funkerar både för Windows, Linux och Mac-datorer.\n",
    "- Kör på en offentlig server, t.ex. https://jupyter.org/try.\n",
    "\n",
    "I denna kurs så kommer vi att använda oss av Jupyter-notebooks, men kan även köra sin kod via vanlig Python."
   ]
  },
  {
   "cell_type": "markdown",
   "id": "50fd33fe",
   "metadata": {},
   "source": [
    "## Jupyter\n",
    "\n",
    "I detta avsnitt kommer vi att gå igenom följande:\n",
    "- Cell typer (_code_, _markdown_)\n",
    "- Hur man kör enstaka celler: `shift`+`enter`\n",
    "- Hur man kär alla celler; kärnan (kernel); snabbkommandon på tangentbordet\n",
    "- Spara; exportera; infoga online material\n",
    "\n",
    "## Första koden\n"
   ]
  },
  {
   "cell_type": "code",
   "execution_count": null,
   "id": "02e8235a",
   "metadata": {},
   "outputs": [],
   "source": [
    "# Detta är en kod som sparar en sträng av bokstäver/tecken i variablen 'a' och sedan \n",
    "# använder funktionen 'print()' som skriver ut strängen. Observera att '#' används för att lämna kommenterer\n",
    "a = 'Hallå sköna värld'\n",
    "print(a)"
   ]
  },
  {
   "cell_type": "code",
   "execution_count": null,
   "id": "47a447fd",
   "metadata": {},
   "outputs": [],
   "source": [
    "# Vi kan även lägga ihop två strängar\n",
    "b = 'Mitt namn är '\n",
    "c = 'Martin'\n",
    "print(b+c)"
   ]
  },
  {
   "cell_type": "markdown",
   "id": "0f80b7b8",
   "metadata": {},
   "source": [
    "## Övning 1\n",
    "\n",
    "I ovanstående cellen, ändra strängen och skriv in ditt fullständiga namn och tryck `shift`+`enter`\n",
    "\n",
    "## Övning 2\n",
    "\n",
    "1. Hitta snabbkommandona för att\n",
    "   - Få radnummer utskrivet\n",
    "   - Ställa in cellen till  _code_ (se till att cellen är blåmarkered till vänster)\n",
    "   - Ställ in cellen till _markdown_ (se till att cellen är blåmarkered till vänster)\n",
    "2. Ladda ner denna anteckning (notebook) till HTML och öppna den i en webbläsare\n",
    "3. Gå till \"hemsidan\" (vanligtvis genom att trycka på jupyter logan) och kolla vilka 'notebooks' som körs för tillfället\n",
    "4. Vi har nu kört i gång 'kärnan', se om du lyckas starta om den\n"
   ]
  },
  {
   "cell_type": "markdown",
   "id": "527446f7",
   "metadata": {},
   "source": [
    "## Självhjälp\n",
    "Jupyter har fler hjälpmedel\n",
    "- `shift`-`tab`-`tab`: få information om olika python functioner (placera textmarkörern inom parantesen)\n",
    "- `tab`: tab autokompleterar funktioner och objekt (mer om objekt senare)\n",
    "- Hjälpmenyn har oftast detaljerad information om Python, Markdown, Matplotlib osv.\n",
    "- Testa även ?command eller command? (t.ex. print?)\n",
    "\n",
    "## Övning 3\n",
    "\n",
    "Använd första självhjälpen för att få mer information om _print()_ funktionen.\n",
    "I andra cellen nedanför, använd `tab` för att autokompletera. Skrivsedan ut dagens datum:"
   ]
  },
  {
   "cell_type": "code",
   "execution_count": null,
   "id": "d29772bb",
   "metadata": {},
   "outputs": [],
   "source": [
    "print(233, end='a')"
   ]
  },
  {
   "cell_type": "code",
   "execution_count": null,
   "id": "1476febd",
   "metadata": {
    "scrolled": true
   },
   "outputs": [],
   "source": [
    "pri"
   ]
  },
  {
   "cell_type": "code",
   "execution_count": null,
   "id": "3772325a",
   "metadata": {},
   "outputs": [],
   "source": [
    "print?"
   ]
  },
  {
   "cell_type": "markdown",
   "id": "90ed6db4",
   "metadata": {},
   "source": [
    "# Output/Utskrift\n",
    "\n",
    "Om du kör en cell (_shift_+_enter_) så kommer resultatet (eller felmeddelandet) alltid efter cellen.\n",
    "Detta går att undertrycka om man använder semikolon efter `;`.\n",
    "Notera att det finns `In [x]` och `Out[x]`, där `x` är cellnumret\n",
    "\n",
    "Tidigare resultat/utskrifter kan fås om via dessa kommandon:\n",
    "- `_` förra/senaste resultatet\n",
    "- `__` förförra\n",
    "- `_x` resultatet från `Out[x]` cellen"
   ]
  },
  {
   "cell_type": "code",
   "execution_count": null,
   "id": "efa3b7d1",
   "metadata": {},
   "outputs": [],
   "source": [
    "a=3\n",
    "a"
   ]
  },
  {
   "cell_type": "code",
   "execution_count": null,
   "id": "62b192a8",
   "metadata": {},
   "outputs": [],
   "source": [
    "b=7\n",
    "b;"
   ]
  },
  {
   "cell_type": "code",
   "execution_count": null,
   "id": "105058b0",
   "metadata": {},
   "outputs": [],
   "source": [
    "_"
   ]
  },
  {
   "cell_type": "code",
   "execution_count": null,
   "id": "237c24d7",
   "metadata": {},
   "outputs": [],
   "source": [
    "__"
   ]
  },
  {
   "cell_type": "code",
   "execution_count": null,
   "id": "839469a1",
   "metadata": {},
   "outputs": [],
   "source": [
    "__"
   ]
  },
  {
   "cell_type": "code",
   "execution_count": null,
   "id": "873ef7d2",
   "metadata": {},
   "outputs": [],
   "source": [
    "_7"
   ]
  },
  {
   "cell_type": "markdown",
   "id": "c6f94d83",
   "metadata": {},
   "source": [
    "# Inbyggda _Magic commands_\n",
    "\n",
    "- Rad magic (`%`): verkar på en enskild rad. Kan blandas med andra \"språk\"\n",
    "- Cell magic (`%%`): verkar på en hel cell\n",
    "- För mer infomation: http://ipython.readthedocs.io/en/stable/interactive/magics.html\n",
    "\n",
    "Detta kan t.ex. användas för att ta tiden för att köra en cell. I detta fallet vill vi utvärdera serien\n",
    "$\\sum_{n=1}^k \\frac{1}{n^2}$. Denna serien ger oss den totala energien för energinivåerna från 1 till $k$ av [Bohrs atommodel](https://sv.wikipedia.org/wiki/Bohrs_atommodell). "
   ]
  },
  {
   "cell_type": "code",
   "execution_count": null,
   "id": "c089c8cf",
   "metadata": {},
   "outputs": [],
   "source": [
    "from math import pow\n",
    "\n",
    "def minfunktion(k): # this is a _function_\n",
    "    x=0\n",
    "    for i in range(1,k):\n",
    "        x=x+1./pow(i,2)\n",
    "    return x\n",
    "\n",
    "print('f =', minfunktion(100))"
   ]
  },
  {
   "cell_type": "code",
   "execution_count": null,
   "id": "017d34e4",
   "metadata": {},
   "outputs": [],
   "source": [
    "%time minfunktion(100)"
   ]
  },
  {
   "cell_type": "markdown",
   "id": "c5e7e13f",
   "metadata": {},
   "source": [
    "# Övning 4\n",
    "Ändra talet inom _minfunktion_ och se hur värdet _f_ ändras samt tidåtgången och svara på nedanstående frågor:\n",
    "- När har serien konvergerat? Och vad är det sanna värdet om du kunde välja $k\\to\\infty$?\n",
    "- Om jag tiodubblar $k$, tiodubblas även då tidsåtgången?\n",
    "- Skiljer era datorers hastigheter?\n",
    "- Hur skiljer sig %time och %timeit?"
   ]
  },
  {
   "cell_type": "markdown",
   "id": "bb09595e",
   "metadata": {},
   "source": [
    "### Lista med magic kommandon"
   ]
  },
  {
   "cell_type": "code",
   "execution_count": null,
   "id": "d8fac4e7",
   "metadata": {},
   "outputs": [],
   "source": [
    "%lsmagic"
   ]
  },
  {
   "cell_type": "markdown",
   "id": "6083d017",
   "metadata": {},
   "source": [
    "## Kataloger\n",
    "\n",
    "Ibland är det av värde att ändra katalogen man jobbar i, speciellt när man vill spara sina python genererade filer.\n",
    "För att se vilken katalog man är i kan man använda sig av `%pwd`. Man kan även byta kataloger via kommandot  `%cd [Katalog]`. Om man bara använder  `%cd` så kommer man till sin hemkatalog. Om man gör `%cd -` så kommer man tillbaka till senaste katalogen.\n",
    "\n",
    "Det kan även vara användbart att se vad man har i sin katalog. Använd då kommandot `%ls`\n",
    "\n",
    "# Övning 5\n",
    "Testa _magic_-kommandona och se vad som händer"
   ]
  },
  {
   "cell_type": "code",
   "execution_count": null,
   "id": "261df2a4",
   "metadata": {},
   "outputs": [],
   "source": [
    "%pwd"
   ]
  },
  {
   "cell_type": "code",
   "execution_count": null,
   "id": "13a89abb",
   "metadata": {},
   "outputs": [],
   "source": [
    "%ls"
   ]
  },
  {
   "cell_type": "code",
   "execution_count": null,
   "id": "5f47f0c0",
   "metadata": {},
   "outputs": [],
   "source": [
    "%pwd"
   ]
  },
  {
   "cell_type": "code",
   "execution_count": null,
   "id": "a9ba9f87",
   "metadata": {},
   "outputs": [],
   "source": [
    "%ls"
   ]
  },
  {
   "cell_type": "code",
   "execution_count": null,
   "id": "51885b96",
   "metadata": {},
   "outputs": [],
   "source": [
    "%cd"
   ]
  },
  {
   "cell_type": "code",
   "execution_count": null,
   "id": "906a4f43",
   "metadata": {
    "scrolled": true
   },
   "outputs": [],
   "source": [
    "%ls"
   ]
  },
  {
   "cell_type": "code",
   "execution_count": null,
   "id": "dc708030",
   "metadata": {},
   "outputs": [],
   "source": [
    "%cd -"
   ]
  },
  {
   "cell_type": "markdown",
   "id": "b34f8d8e",
   "metadata": {},
   "source": [
    "#  Dokumentation med hjälp av Markdown\n",
    "\n",
    "Markdown är ett _enkelt_ märkespråk som är väldigt användbart i notebooks\n",
    "Syftet är att ha ett enkelt språk som är lätt att läsa och formatera, men som även stöder ekvationer ($f(x)=x$),text formatering, tableller, bilder, osv..\n",
    "\n",
    "För mer information se [här](https://github.com/adam-p/markdown-here/wiki/Markdown-Cheatsheet).\n",
    "\n",
    "## Övning: Markdown språket\n",
    "\n",
    "List ut hur du med Markdown kan:\n",
    "\n",
    "1. Skapa olika avsnitt (sections)\n",
    "2. formatera text\n",
    "2. lägga till länkar\n",
    "3. lägga in en matematisk formel ([länk](https://www.codecogs.com/latex/eqneditor.php))\n",
    "4. visa en figur från en URL\n",
    "5. skapa en tabell"
   ]
  },
  {
   "cell_type": "markdown",
   "id": "e86042ba",
   "metadata": {},
   "source": [
    "## Övning:\n",
    "Änvänd Markdown för att skapa en cell som bekriver Pythagoras teorem. Se till att din cell innehåller (i) den matematiska formeln, (ii) en figur (som hämtas från en URL), och (iii) en rubrik och förklarande text."
   ]
  },
  {
   "cell_type": "markdown",
   "id": "47289118",
   "metadata": {},
   "source": [
    "# Pythogoras teorem\n",
    "\n",
    "Pythagoras teorem säger att summorna av kateterna kvadrerade i en rätsidig triangel är lika med hypotenusan kvadrerad:\n",
    "\n",
    "$ a^2+b^2=c^2$\n",
    "\n",
    "Liten figur:\n",
    "<div>\n",
    "<img src=\"https://upload.wikimedia.org/wikipedia/commons/2/2d/Pythagoras-theorem.png\" width=\"400\"/>\n",
    "</div>\n",
    "\n",
    "Stor figur:\n",
    "![](https://upload.wikimedia.org/wikipedia/commons/2/2d/Pythagoras-theorem.png)"
   ]
  },
  {
   "cell_type": "markdown",
   "id": "c66a9dce",
   "metadata": {},
   "source": [
    "# Kemiska formler och reaktioner\n",
    "Det går även bra att skriva kemiska formler som när svavelsyra neutraliseras med kaustiksoda, se nedan\n",
    "\n",
    "H<sub>2</sub>SO<sub>4</sub>(l) + 2NaOH(l) &rarr; 2H<sub>2</sub>O(l) + 2Na<sup>+</sup>(aq.) + SO<sub>4</sub><sup>2-</sup>(aq.)\n",
    "\n",
    "## Övning:\n",
    "Skriva den kemiska reaktionen för framställning av ammonium (från kväv- och syrgas)"
   ]
  },
  {
   "cell_type": "markdown",
   "id": "c5eb6957",
   "metadata": {},
   "source": [
    "\n",
    "N<sub>2</sub>(g) + 3H<sub>2</sub>(g)  &rarr; 2NH<sub>3</sub>(g)\n",
    "\n",
    "    "
   ]
  },
  {
   "cell_type": "markdown",
   "id": "aa23e990",
   "metadata": {},
   "source": [
    "## Övning: Markdown Tabell\n",
    "\n",
    "Skapa en markdown cell med en 3x3 tabel, med kolumnernahuvudet **Grundämne**, **Symbol**, och **Atomnummer**.\n",
    "Fyll sedan i _Väte_, _H_ och _1_. Välj sedan ett eget valt grundämne.\n"
   ]
  },
  {
   "cell_type": "markdown",
   "id": "974b9ea3",
   "metadata": {},
   "source": [
    "| Grundämne      | Symbol | Atomnummer     |\n",
    "| :---        |    :----:   |          ---: |\n",
    "| Väte      |     H   | 1   |\n",
    "| Kol      |     C   | 12   |\n",
    "| Helium | He | 2 |"
   ]
  },
  {
   "cell_type": "markdown",
   "id": "20232714",
   "metadata": {},
   "source": [
    "# Bädda i en webbsida \n",
    "\n",
    "Modulen `IPython.display` innehåller funktioner som kan användas för att lägga in LaTeX, bilder, kartor, websidor, osv.\n",
    "\n",
    "Lund Universitets Publikatione ([LUP](https://lup.lub.lu.se/search)) innehåller informaiton om diverse publikationer. Med hjälp av Markdown så kan vi enkelt bädda in resutlat från en sådan sida. Nedan ges ett sådant exempel. Testa att klicka runt"
   ]
  },
  {
   "cell_type": "code",
   "execution_count": null,
   "id": "8799a4ae",
   "metadata": {},
   "outputs": [],
   "source": [
    "from IPython.display import IFrame\n",
    "IFrame(src=\"https://lup.lub.lu.se/search/person/teok-mit\", width=800, height=400)"
   ]
  },
  {
   "cell_type": "markdown",
   "id": "ad31f482",
   "metadata": {},
   "source": [
    "## Övning: Lägg in en video\n",
    "\n",
    "Vi kan även lägga in en __youtube video__.\n",
    "Sök upp \"The Molecular Shape of You\" och lägg in den i Jupyter.\n"
   ]
  },
  {
   "cell_type": "code",
   "execution_count": null,
   "id": "d40e2770",
   "metadata": {},
   "outputs": [],
   "source": [
    "from IPython.display import YouTubeVideo #\n",
    "YouTubeVideo(id='f8FAJXPBdOg')"
   ]
  },
  {
   "cell_type": "markdown",
   "id": "d2727a9a",
   "metadata": {},
   "source": [
    "# Lägga in en animation\n",
    "Vi kan också lägga in animationer från internet (i detta fallet ett membrane)\n",
    "\n",
    "![Membrane](https://upload.wikimedia.org/wikipedia/commons/6/6f/Membrane_orbit_animated.gif)"
   ]
  },
  {
   "cell_type": "markdown",
   "id": "9a67eead",
   "metadata": {},
   "source": [
    "# Mer om Markdown\n",
    "\n",
    "Naturligtvis kan man göra mycket mer med Markdown (t.ex. innehållsförteckning, referenser, ändrad layout, osv.).\n",
    "Internet är en oerhörd resurs. Det är bara till att söka. Om inte kommer ett axplock av användbara länkar här:\n",
    "\n",
    "- [Python Data Science Handbook](https://github.com/jakevdp/PythonDataScienceHandbook)\n",
    "- [Markdown Cheatsheet](https://github.com/adam-p/markdown-here/wiki/Markdown-Cheatsheet#emphasis)\n",
    "- [Making publication ready python notebooks](http://blog.juliusschulz.de/blog/ultimate-ipython-notebook)\n",
    "- [28 Jupyter Notebook tips, tricks and shortcuts](https://www.dataquest.io/blog/jupyter-notebook-tips-tricks-shortcuts/)\n",
    "\n"
   ]
  },
  {
   "cell_type": "markdown",
   "id": "d844740e",
   "metadata": {},
   "source": [
    "# Dela notebooks\n",
    "\n",
    "##  Diverse fil alternativ:\n",
    "\n",
    "- `.ipynb` (standard format), Python skript har istället ändelsen `.py`\n",
    "- HTML (bekvämligt och kompakt, single file)\n",
    "- PDF, Markdown, LaTeX osv. (kan behövas ytterligare packet installerad)\n",
    "- (för experter, se till att skapa en `environment.yml` fil och dela den!)"
   ]
  },
  {
   "cell_type": "markdown",
   "id": "562e5706",
   "metadata": {},
   "source": [
    "## Online alternativ\n",
    "\n",
    "- https://github.com (har specialla student packet!)\n",
    "- https://nbviewer.jupyter.org (för att titta på notebooks)\n",
    "- https://tmpnb.org (online, låst \"environment\")\n",
    "- http://mybinder.org (online, anpassningsbara \"environments\")\n",
    "- Microsoft Azure (online kodning)"
   ]
  },
  {
   "cell_type": "code",
   "execution_count": null,
   "id": "b83b54ad",
   "metadata": {},
   "outputs": [],
   "source": []
  }
 ],
 "metadata": {
  "kernelspec": {
   "display_name": "Python 3 (ipykernel)",
   "language": "python",
   "name": "python3"
  },
  "language_info": {
   "codemirror_mode": {
    "name": "ipython",
    "version": 3
   },
   "file_extension": ".py",
   "mimetype": "text/x-python",
   "name": "python",
   "nbconvert_exporter": "python",
   "pygments_lexer": "ipython3",
   "version": "3.10.9"
  }
 },
 "nbformat": 4,
 "nbformat_minor": 5
}
