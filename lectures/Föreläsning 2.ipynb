{
 "cells": [
  {
   "cell_type": "markdown",
   "id": "b98bbcc1",
   "metadata": {},
   "source": [
    "# Tal\n",
    "\n",
    "## Naturliga tal och heltal\n",
    "\n",
    "De mest vanliga talen är _heltal_ (`-1,0,1,...`) och _reela tal_ (`1.51, 6.022e23, ...`). Inom koding så används oftast så kallade flyttal (se [flyttal](https://sv.wikipedia.org/wiki/Flyttal)) för att beskriva dessa _reela tal_. Dessa är till för att beskriva de _reela talen_ i datorn. På engelska kallas heltal för _integers_ och flyttal för _floating point numbers_ eller _floats_.\n",
    "Det finns så klart även andra tal, så som _komplexa_ och andra beskrivningar _hexadecimal_, _binära_, osv.\n",
    "Men låt oss börja med heltal och flyttal (reela tal).\n",
    "Om inget annat sägs så brukar i,j,k,l... bostäverna användas för heltal (integers).\n",
    "\n",
    "### OBS Decimaltal skrivs med `.` (engelskt skrivsätt) och inte med `,` (svenskt skrivsätt)"
   ]
  },
  {
   "cell_type": "code",
   "execution_count": null,
   "id": "652fd899",
   "metadata": {},
   "outputs": [],
   "source": [
    "i=2    # ett heltal av typen \"int\" i python\n",
    "x=1.04 # ett decimalta av typen \"float\" i python\n",
    "y=1e3  # automatically av type \"float\" i python\n",
    "print(i,x,y)"
   ]
  },
  {
   "cell_type": "markdown",
   "id": "52b5a5cf",
   "metadata": {},
   "source": [
    "## Typ av tal\n",
    "Genom funktionen _type_ för vi reda på hur de är lagrade i datorn"
   ]
  },
  {
   "cell_type": "code",
   "execution_count": null,
   "id": "e9cf9767",
   "metadata": {},
   "outputs": [],
   "source": [
    "print(type(i), type(x), type(y))"
   ]
  },
  {
   "cell_type": "markdown",
   "id": "a3897c19",
   "metadata": {},
   "source": [
    "## Enkel aritmetik (räkning)"
   ]
  },
  {
   "cell_type": "code",
   "execution_count": null,
   "id": "0f5e3ba3",
   "metadata": {},
   "outputs": [],
   "source": [
    "x*y+1./i"
   ]
  },
  {
   "cell_type": "code",
   "execution_count": null,
   "id": "2a47a83a",
   "metadata": {},
   "outputs": [],
   "source": [
    "1/i"
   ]
  },
  {
   "cell_type": "markdown",
   "id": "6653349a",
   "metadata": {},
   "source": [
    "Notera att vi fått reela tal! Det kan vara värt att testa! Minns ni vad `_` betyde?"
   ]
  },
  {
   "cell_type": "code",
   "execution_count": null,
   "id": "fb1d00df",
   "metadata": {},
   "outputs": [],
   "source": [
    "type(_)"
   ]
  },
  {
   "cell_type": "code",
   "execution_count": null,
   "id": "76f7b378",
   "metadata": {},
   "outputs": [],
   "source": [
    "i=int(2)\n",
    "k=int(1)\n",
    "i/k"
   ]
  },
  {
   "cell_type": "code",
   "execution_count": null,
   "id": "8f2a47b9",
   "metadata": {},
   "outputs": [],
   "source": [
    "type(_)"
   ]
  },
  {
   "cell_type": "markdown",
   "id": "f3a59cdd",
   "metadata": {},
   "source": [
    "Även om vi delar två heltal så får vi ett flyttal!"
   ]
  },
  {
   "cell_type": "code",
   "execution_count": null,
   "id": "e4d44a64",
   "metadata": {},
   "outputs": [],
   "source": [
    "i=int(2)\n",
    "k=int(1)\n",
    "int(i/k)"
   ]
  },
  {
   "cell_type": "code",
   "execution_count": null,
   "id": "3381bc39",
   "metadata": {},
   "outputs": [],
   "source": [
    "type(_)"
   ]
  },
  {
   "cell_type": "markdown",
   "id": "f6b0b37e",
   "metadata": {},
   "source": [
    "Vi kan tvinga talet att bli ett heltal genom funktionen `int()`!"
   ]
  },
  {
   "cell_type": "markdown",
   "id": "1b72c1ee",
   "metadata": {},
   "source": [
    "# Mer avancerade räkningar\n",
    "Vi kan nu börja att göra mer avancerade räkningar. Multiplikation, division, osv. är alltid tillgängliga inom Python. Men vissa saker, som potenser och vissa matematiska konstanter (t.ex. $\\pi$ och $e$) så får `math` modulen användas. Även att ta (andra-)roten (sqrt) av en tal kan vara svårt. Även här har `math` modulen en bra `sqrt`funktion som hjälper oss. Antag att vi har tvådimensionell kristall av atomer med en viss täthet $\\rho$ = 200/nm$^2$. Vad är då medelavståndet mellan atomerna?\n",
    "\n",
    "\n",
    "I fallet nedan vill vi radien av en väte atom beräkna volymen av en väte atom. För detta är det bra att ha $\\pi$.\n",
    "\n",
    "Det går även bra att använda sig av `pow` funktionen. Denna är mer generell och tar två argument. Första är talet som vi ska exponera och det andra talet exponenten (power på engelska), t.ex. 2 och 3 blir $2^3$"
   ]
  },
  {
   "cell_type": "code",
   "execution_count": null,
   "id": "7eb7c0b0",
   "metadata": {},
   "outputs": [],
   "source": [
    "import math # import the python modyle \"math\"\n",
    "rho = 2.\n",
    "math.sqrt(1./rho)"
   ]
  },
  {
   "cell_type": "markdown",
   "id": "a14e1888",
   "metadata": {},
   "source": [
    "# Övning 1\n",
    "Gör samma sak men med `pow` istället"
   ]
  },
  {
   "cell_type": "code",
   "execution_count": null,
   "id": "390ce36a",
   "metadata": {},
   "outputs": [],
   "source": [
    "math.pow(1./rho,0.5)"
   ]
  },
  {
   "cell_type": "markdown",
   "id": "c809c6ce",
   "metadata": {},
   "source": [
    "# Övning 2\n",
    "Antag att ovanstånde är detsamma som diameterna på atomerna. Vad är atomens volym?"
   ]
  },
  {
   "cell_type": "code",
   "execution_count": null,
   "id": "ec9b3f86",
   "metadata": {},
   "outputs": [],
   "source": [
    "math.pi*math.pow(0.1,2) # Fyll i rätt tal i power"
   ]
  },
  {
   "cell_type": "markdown",
   "id": "a6f6bcf8",
   "metadata": {},
   "source": [
    "### Exempel på hur detta kan användas:\n",
    "Hur många molekyler finns det t.ex. i 1,201 gram av natrium?"
   ]
  },
  {
   "cell_type": "code",
   "execution_count": null,
   "id": "f7540285",
   "metadata": {},
   "outputs": [],
   "source": [
    "Nav=6.022e23 # avogadros tal [1/mol]\n",
    "Mw=22.989769 # molekylmassan för natrium [g/mol]\n",
    "m=1.201        # vikt [gram]\n",
    "n=m/Mw*Nav   # antal molekyler [g] / [g/mol] * [1/mol] = [1]\n",
    "print('Svar: {:.3} molekyler'.format(n)) # 'n' sätts in i klammerparenteserna, {}"
   ]
  },
  {
   "cell_type": "markdown",
   "id": "ae2d1316",
   "metadata": {},
   "source": [
    "Notera att i ovanstående fall så har vi färre värdesiffor än vi har precision till.\n",
    "Detta kan dock ändras. Låt oss t.ex använda värdesiffor lika med de minsta värdesiffror vi har i våra urspungstal (4). För mer om hur man formatera antal värdesiffor, osv. se [här](https://kapeli.com/cheat_sheets/Python_Format_Strings.docset/Contents/Resources/Documents/index):"
   ]
  },
  {
   "cell_type": "code",
   "execution_count": null,
   "id": "edf2fee4",
   "metadata": {},
   "outputs": [],
   "source": [
    "print('Svar: {:.4} molekyler'.format(n)) "
   ]
  },
  {
   "cell_type": "markdown",
   "id": "1effaf95",
   "metadata": {},
   "source": [
    "Vi kan också blanda värdesiffor och ha olika utskrifter:"
   ]
  },
  {
   "cell_type": "code",
   "execution_count": null,
   "id": "9cb5c00d",
   "metadata": {},
   "outputs": [],
   "source": [
    "print('{:0.1f} gram av natrium innehåller {:.1e} molekyler'.format(m, n))"
   ]
  },
  {
   "cell_type": "markdown",
   "id": "5a539b84",
   "metadata": {},
   "source": [
    "### Fråga\n",
    "Vad är skillnade på att använda `f` jämfört med `e`?"
   ]
  },
  {
   "cell_type": "markdown",
   "id": "e3a9980f",
   "metadata": {},
   "source": [
    "# Övning 3\n",
    "\n",
    "Antag att du befinner dig på en isolerad plats och ditt ena öga har blivit infekterad. För att tvätta ögat så vill du ha en isoton saltlösning. Du har 250 ml rent vatten och tillgång till koksalt.\n",
    "Hur mycket salt ska du blanda för att få en 0,154 M NaCl saltlösning?\n",
    "\n",
    "Följ ovanstånde exempel:"
   ]
  },
  {
   "cell_type": "code",
   "execution_count": null,
   "id": "19c46085",
   "metadata": {},
   "outputs": [],
   "source": [
    "Mw=22.990+35.453 # molecular weight of sodium [g/mol]\n",
    "V=0.250       # liter\n",
    "C=0.154        # mol/liter\n",
    "m = Mw * V * C # g/mol * liter * mol/liter = gram\n",
    "print('{:.3} gram av NaCl behövs för {} ml av {} molar lösning'.format(m, V*1000, C))"
   ]
  },
  {
   "cell_type": "markdown",
   "id": "66fb01ec",
   "metadata": {},
   "source": [
    "# Runda av tal\n",
    "I vissa fall vill man runda av tal. Detta görs lämpligast med _round()_ funktionen"
   ]
  },
  {
   "cell_type": "code",
   "execution_count": null,
   "id": "a539b351",
   "metadata": {},
   "outputs": [],
   "source": [
    "m"
   ]
  },
  {
   "cell_type": "code",
   "execution_count": null,
   "id": "9ced813a",
   "metadata": {},
   "outputs": [],
   "source": [
    "int(m)"
   ]
  },
  {
   "cell_type": "code",
   "execution_count": null,
   "id": "f5fcf593",
   "metadata": {},
   "outputs": [],
   "source": [
    "round(m)"
   ]
  },
  {
   "cell_type": "code",
   "execution_count": null,
   "id": "45d92fe8",
   "metadata": {},
   "outputs": [],
   "source": [
    "round(m,2)"
   ]
  },
  {
   "cell_type": "markdown",
   "id": "825418fa",
   "metadata": {},
   "source": [
    "# Övning 4\n",
    "Vad händer då jag använder _int()_ och _round()_ på ett negativt tal? "
   ]
  },
  {
   "cell_type": "code",
   "execution_count": null,
   "id": "0e9de660",
   "metadata": {},
   "outputs": [],
   "source": [
    "ne = -2.745"
   ]
  },
  {
   "cell_type": "code",
   "execution_count": null,
   "id": "c98826c3",
   "metadata": {},
   "outputs": [],
   "source": [
    "int(ne)"
   ]
  },
  {
   "cell_type": "code",
   "execution_count": null,
   "id": "dffd271d",
   "metadata": {},
   "outputs": [],
   "source": [
    "round(ne)"
   ]
  },
  {
   "cell_type": "code",
   "execution_count": null,
   "id": "698a986b",
   "metadata": {},
   "outputs": [],
   "source": [
    "round(ne,1)"
   ]
  },
  {
   "cell_type": "markdown",
   "id": "29dbd806",
   "metadata": {},
   "source": [
    "# Övning 5\n",
    "`math` har även de två funktionerna _floor_ och _ceil_. Vad gör dessa?\n"
   ]
  },
  {
   "cell_type": "code",
   "execution_count": null,
   "id": "22fe98ba",
   "metadata": {},
   "outputs": [],
   "source": [
    "math.floor(ne)"
   ]
  },
  {
   "cell_type": "code",
   "execution_count": null,
   "id": "5c1e18c9",
   "metadata": {},
   "outputs": [],
   "source": [
    "math.ceil(ne)"
   ]
  },
  {
   "cell_type": "markdown",
   "id": "4b2febaf",
   "metadata": {},
   "source": [
    "## Villkor och  boolesk algebra/operationer\n",
    "\n",
    "En `bool` lagrar antigen sant, `True`, eller falskt, `False`, och används vid villkorad programmering. Här är en lista av vanliga [\"_operatorer_\"](https://www.digitalocean.com/community/tutorials/understanding-boolean-logic-in-python-3):\n",
    "\n",
    "operator  | beskrivning\n",
    ":-------- | :-------------\n",
    "`>`       | större än\n",
    "`==`      | lika med\n",
    "`!=`      | skild från\n",
    "`and`     | logiskt _och_\n",
    "`or`      | logiskt _eller_\n",
    "\n",
    "Det är dessutom OK att blanda flera av dessa operatorer. Vi testar"
   ]
  },
  {
   "cell_type": "code",
   "execution_count": null,
   "id": "3e5528eb",
   "metadata": {},
   "outputs": [],
   "source": [
    "1>2"
   ]
  },
  {
   "cell_type": "code",
   "execution_count": null,
   "id": "72ab0cbb",
   "metadata": {},
   "outputs": [],
   "source": [
    "2>1"
   ]
  },
  {
   "cell_type": "code",
   "execution_count": null,
   "id": "29e2ec1a",
   "metadata": {},
   "outputs": [],
   "source": [
    "type(_)"
   ]
  },
  {
   "cell_type": "markdown",
   "id": "dd564cb3",
   "metadata": {},
   "source": [
    "Testa nu om följande trigometriska formel är korrekt: $\\pi = arccos(-1)$?"
   ]
  },
  {
   "cell_type": "code",
   "execution_count": null,
   "id": "b9d0ec8f",
   "metadata": {},
   "outputs": [],
   "source": [
    "math.pi == math.acos(-1)"
   ]
  },
  {
   "cell_type": "markdown",
   "id": "12a0b158",
   "metadata": {},
   "source": [
    "En kombination, där vi nu även testar om teckena (bokstäverna) _a_ och _b_ är skilda."
   ]
  },
  {
   "cell_type": "code",
   "execution_count": null,
   "id": "0e4d6ac8",
   "metadata": {},
   "outputs": [],
   "source": [
    "(2>1) and ('a'!='b')"
   ]
  },
  {
   "cell_type": "markdown",
   "id": "01e7c130",
   "metadata": {},
   "source": [
    "Egentligen representerar en `bool` av ett binärt tal, där 1=på och 0=av.\n",
    "\n",
    "Låt oss kolla om True representeras av 1 eller 0?"
   ]
  },
  {
   "cell_type": "code",
   "execution_count": null,
   "id": "84d0f4e8",
   "metadata": {},
   "outputs": [],
   "source": [
    "True==1"
   ]
  },
  {
   "cell_type": "code",
   "execution_count": null,
   "id": "ffb35246",
   "metadata": {},
   "outputs": [],
   "source": [
    "True==0"
   ]
  },
  {
   "cell_type": "code",
   "execution_count": null,
   "id": "e09c443b",
   "metadata": {},
   "outputs": [],
   "source": [
    "False==1"
   ]
  },
  {
   "cell_type": "code",
   "execution_count": null,
   "id": "e7585920",
   "metadata": {},
   "outputs": [],
   "source": [
    "False==0"
   ]
  },
  {
   "cell_type": "markdown",
   "id": "d9ef90d8",
   "metadata": {},
   "source": [
    "# Fråga\n",
    "Vad är skillnaden mellan `=` och `==`?"
   ]
  },
  {
   "cell_type": "code",
   "execution_count": null,
   "id": "c878ebb9",
   "metadata": {},
   "outputs": [],
   "source": [
    "a = 10\n",
    "b = 12\n",
    "a = b"
   ]
  },
  {
   "cell_type": "code",
   "execution_count": null,
   "id": "bdafd140",
   "metadata": {},
   "outputs": [],
   "source": [
    "a"
   ]
  },
  {
   "cell_type": "code",
   "execution_count": null,
   "id": "4aa5cb53",
   "metadata": {},
   "outputs": [],
   "source": [
    "a = 10\n",
    "b = 12\n",
    "a == b"
   ]
  },
  {
   "cell_type": "code",
   "execution_count": null,
   "id": "80e992fb",
   "metadata": {},
   "outputs": [],
   "source": [
    "a"
   ]
  },
  {
   "cell_type": "markdown",
   "id": "23503924",
   "metadata": {},
   "source": [
    "# If-elif-else satser\n",
    "\n",
    "Dessa används oftast flitigt som \"växlar\", som en flödeskontroll, inom program. Ett program kan då få ett\n",
    "argument, och baserat på detta argument kan programmet antingen välja att göra A-alternativet eller B-alternativet.\n",
    "Det kan likväl vara så att B-alternativet är att inte göra något alls.\n",
    "Det är inte unika för Python utan används flitigt i nästan alla programmeringsspråk.\n",
    "\n",
    "Vi tar en titt och ser vad de gör:\n",
    "\n",
    "~~~ python\n",
    "if name == 'Na':\n",
    "    print('Natrium')\n",
    "elif name == 'K':\n",
    "    print('Kalium')\n",
    "else:\n",
    "    print('Okänt grundämne')\n",
    "~~~\n",
    "\n",
    "# Övning\n",
    "\n",
    "1. Varför får vi ett fel? Rätta till felet.\n",
    "1. Vidarutveckla koden så att du även skriver ut atommassan på en ny rad.\n",
    "2. vad gör `:` och vaför har vi dragit in texten (förskjutig den åt höger)?"
   ]
  },
  {
   "cell_type": "code",
   "execution_count": null,
   "id": "2a38c15b",
   "metadata": {},
   "outputs": [],
   "source": [
    "name = 'H'\n",
    "if name == 'Na':\n",
    "    print('Natrium')\n",
    "elif name == 'K':\n",
    "    print('Kalium')\n",
    "else:\n",
    "    print('Okänt grundämne')\n"
   ]
  },
  {
   "cell_type": "markdown",
   "id": "67c25bd9",
   "metadata": {},
   "source": [
    "\n",
    "## while loop\n",
    "\n",
    "I många fall så vill man upprepa en sak ett visst antal gånger, så kallad slinga eller på engelska \"loop:a\".\n",
    "Detta kan göras med hjälp av `while` loopar.\n",
    "\n",
    "Vi testar och ser var som händer.\n",
    "\n",
    "## Övning\n",
    "1. Varför får vi ett fel? Rätta till! \n",
    "2. Varför slutar slingan aldrig? Stäng av kärnan.\n",
    "3. Lägg till counter=counter+1\n",
    "4. Testa och se vad counter+=1 gör\n"
   ]
  },
  {
   "cell_type": "code",
   "execution_count": null,
   "id": "621fb8d2",
   "metadata": {},
   "outputs": [],
   "source": [
    "counter = 0\n",
    "while counter<10:\n",
    "    counter=counter+1\n",
    "#    counter+=1\n",
    "    print(counter)"
   ]
  },
  {
   "cell_type": "markdown",
   "id": "c002abe3",
   "metadata": {},
   "source": [
    "## Break kommando\n",
    "I dessa loopar kan det hända att man vill hoppa ur innan de är klara. \n",
    "Vi testar om det går med `break`. Låt oss testa att avbryta så fort vi får ett heltal som är delbart med 7!\n",
    "Mer om `break` [här](https://docs.python.org/2.0/ref/break.html)"
   ]
  },
  {
   "cell_type": "code",
   "execution_count": null,
   "id": "0a579371",
   "metadata": {},
   "outputs": [],
   "source": [
    "counter = 0\n",
    "while counter<10:\n",
    "    counter=counter+1\n",
    "    if counter%7==0:\n",
    "        break\n",
    "    print(counter)"
   ]
  },
  {
   "cell_type": "markdown",
   "id": "7d280c25",
   "metadata": {},
   "source": [
    "## Övning:\n",
    "Varför skriver vi inte ut 7:an? Fixa så att vi gör det."
   ]
  },
  {
   "cell_type": "markdown",
   "id": "314380f7",
   "metadata": {},
   "source": [
    "## for-loop\n",
    "\n",
    "Funkar liknande som en `while` loop, men stegar efter vårt givna mönster (observera att i ovan fallet så bestämde vi hur den skulle stega). \n",
    "\n",
    "En `for`-loop har det följande generella formen:\n",
    "\n",
    "~~~ py\n",
    "for stegparametern in iterabel: \n",
    "    uttryck/funktioner\n",
    "~~~\n",
    "\n",
    "## Övning\n",
    "\n",
    "Testa att köra följande skript\n",
    "\n",
    "~~~ py\n",
    "for i in X:\n",
    "    print(i)\n",
    "~~~\n",
    "\n",
    "där du först sätter `X=[10,20,30]`, och sedan `X='dull'`. \n",
    "\n",
    "- Förklara vad som händer\n",
    "- I sista exemplet, använd `break` om slingan möter på bokstaven \"u"
   ]
  },
  {
   "cell_type": "code",
   "execution_count": null,
   "id": "d919c0c4",
   "metadata": {},
   "outputs": [],
   "source": [
    "X = [10,20,30]\n",
    "X = ['H','He','Li','Be','B']\n",
    "An = [1,2,3,4,5]\n",
    "M = [1.01,4.00,6.94,9.01,10.81] \n",
    "for i in X:\n",
    "    print(i)\n",
    "    if i=='Be':\n",
    "        break"
   ]
  },
  {
   "cell_type": "markdown",
   "id": "dc87d869",
   "metadata": {},
   "source": [
    "## Index i for-loopen\n",
    "Ganska ofta kan det vara bra att veta var i slingan/loopen man är.\n",
    "Detta kan göras genom att använda sig av följande syntax (kodspråk):\n",
    "~~~ py\n",
    "for index, stegparametern in enumerate(iterabel): \n",
    "    uttryck/funktioner\n",
    "~~~\n",
    "\n",
    "I detta fallet kan vi använda det för att skriva ut atomnummer, grundämne och atommassa."
   ]
  },
  {
   "cell_type": "code",
   "execution_count": null,
   "id": "fecf67ec",
   "metadata": {},
   "outputs": [],
   "source": [
    "X = [10,20,30]\n",
    "X = ['H','He','Li','Be','B']\n",
    "An = [1,2,3,4,5]\n",
    "M = [1.01,4.00,6.94,9.01,10.81] \n",
    "for index,i in enumerate(X):\n",
    "#    print(index,i)\n",
    "    print(An[index],X[index],M[index])\n",
    "    if i=='Be':\n",
    "        break"
   ]
  },
  {
   "cell_type": "markdown",
   "id": "8b75b806",
   "metadata": {},
   "source": [
    "# Funktioner\n",
    "\n",
    "Funktioner är en grupp av kod som är till för att öka tydligheten och förståelsen av koden.\n",
    "Oftast är detta kod som kommer att upprepas, användas på flera ställen.\n",
    "\n",
    "En funktion tar ett antal _argument_ eller parametrar vilka kommer användas (med olika operatorer) i funktionen.\n",
    "Vi ska nu använda en av dessa en funktion som vi kallar Boltzmann ($e^{-U/(k_B T)}$).\n",
    "\n",
    "\n",
    "\n",
    "Functions take a number of _arguments_ or parameters to which an operation is typically applied. The following defines a mathematical function, $f(x)=x^2$ where $x$ is the argument and $f$ is the _return value_. The _function name_ is `square_value`:"
   ]
  },
  {
   "cell_type": "code",
   "execution_count": null,
   "id": "a1f550f6",
   "metadata": {},
   "outputs": [],
   "source": [
    "import math # tillåter oss att använda `math.exp()` funktionen\n",
    "kB = 1.380649e-23 # Boltzmanns konstant [m^2 kg s^{-2} K^{-1}]\n",
    "Avog = 6.022141e23\n",
    "def Boltzmann(x,T):\n",
    "    ''' returnerar det exponerade värdet delat med k_B*T'''\n",
    "    ''' x har enhet energi [J/mol]'''\n",
    "    x=x/Avog\n",
    "    ''' T är temperaturen i enhet [K]'''\n",
    "    return math.exp(-x/(kB*T))"
   ]
  },
  {
   "cell_type": "code",
   "execution_count": null,
   "id": "5980290c",
   "metadata": {},
   "outputs": [],
   "source": [
    "Boltzmann(1000,298)"
   ]
  },
  {
   "cell_type": "markdown",
   "id": "61f33a09",
   "metadata": {},
   "source": [
    "# Partionering\n",
    "Antag att vi har en (läkemedels)molekyl som vi vill ha ut i kroppen. I kroppen finns både vattenbaserade och mer fettbaserade (lipider). Får att vet var dessa molekyler hamlar kan vi änvända oss av våran Boltzmann-funktion.\n",
    "Partitionen mellan två faser ges av\n",
    "\n",
    "$ P = \\frac{N_{\\rm vattenfas}}{N_{\\rm fettfas}} = \\frac{e^{-\\Delta G_{solv,\\rm vattenfas}}}{e^{-\\Delta G_{solv, \\rm fettfas}}}$\n",
    "\n",
    "vanligtvis rapporterar man denna i logaritmisk skala:\n",
    "\n",
    "$\\ln(P)=\\Delta G_{solv,vattenfas}-\\Delta G_{solv,fettfas}$.\n",
    "\n",
    "$\\log(P) = \\ln(P)/\\ln(10)=\\ln(P) \\log(e)$\n",
    "\n",
    "\n",
    "Vi ser om $P>1$ och $\\log(P)>0$, så är molekylen hydrofilik, annars lipofilik.\n"
   ]
  },
  {
   "cell_type": "markdown",
   "id": "7dd6c422",
   "metadata": {},
   "source": [
    "# Kemisk reaktion\n",
    "\n",
    "For-slingan kan även användas för att simulera en kemisk reaktion. Detta kan t.ex. vara radioaktivt avklingning, en även förbränning i kroppen. Beroende på om reaktionen är nollte, första eller andra ordningen så ser tidsberoendet olika ut. För första ordningen så har vi följande\n",
    "\n",
    "$\\frac{d[C](t)}{dt}=-k[C](t)$\n",
    "\n",
    "där $[C](t)$ är koncentrationen vid tidpunkten $t$ och $k$ en reaktionshastighet. Vi testar:"
   ]
  },
  {
   "cell_type": "code",
   "execution_count": null,
   "id": "4e13855d",
   "metadata": {},
   "outputs": [],
   "source": [
    "Cr =[]\n",
    "C = 1.\n",
    "k=0.1\n",
    "dt = 0.1\n",
    "T=100\n",
    "Cr.append(C)\n",
    "print(0,C)\n",
    "for i in range(0,T):\n",
    "    C = C*(1.-k*dt)\n",
    "    print((i+1)*dt,C)\n",
    "    Cr.append(C)\n",
    "    \n",
    "#print(Cr)\n",
    "        "
   ]
  },
  {
   "cell_type": "markdown",
   "id": "8d10c0a7",
   "metadata": {},
   "source": [
    "## Övning \n",
    "Stanna, genom att använda `break`, for-slingan vid tiden $\\frac{[C](t)}{[C](0)}=0.5$, dvs. vi halveringstiden. \n",
    "- Vilken tid får du?\n",
    "- Vad är förväntade värdet?"
   ]
  }
 ],
 "metadata": {
  "kernelspec": {
   "display_name": "Python 3 (ipykernel)",
   "language": "python",
   "name": "python3"
  },
  "language_info": {
   "codemirror_mode": {
    "name": "ipython",
    "version": 3
   },
   "file_extension": ".py",
   "mimetype": "text/x-python",
   "name": "python",
   "nbconvert_exporter": "python",
   "pygments_lexer": "ipython3",
   "version": "3.10.9"
  }
 },
 "nbformat": 4,
 "nbformat_minor": 5
}
