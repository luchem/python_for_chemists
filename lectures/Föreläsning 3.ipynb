{
 "cells": [
  {
   "cell_type": "markdown",
   "id": "f3d54797",
   "metadata": {},
   "source": [
    "# Listor\n",
    "\n",
    "## Introduktion\n",
    "\n",
    "Ofta i våra koder har vi samlingar av objekt som \"hör ihop\". Det kan vara en lista över molekyler, pKa-värden, resultat av en mätning, osv... Det är alla saker vi kan lagra i en kalkylblad, i en tabell eller rita upp i en graf.\n",
    "\n",
    "Vi kan tänka oss att skapa en variabel för varje objekt, men det är tråkigt och vi kanske inte vet i förväg hur många de kommer vara.\n",
    "\n",
    "Istället har Python flera datatyper som är avsedda att hantera samlingar av objekt. Den enklaste av dem är listan."
   ]
  },
  {
   "cell_type": "code",
   "execution_count": 1,
   "id": "d976c97c",
   "metadata": {},
   "outputs": [
    {
     "name": "stdout",
     "output_type": "stream",
     "text": [
      "['det', 'är', 'en', 'lista']\n"
     ]
    }
   ],
   "source": [
    "min_lista = [\"det\", \"är\", \"en\", \"lista\"]\n",
    "print(min_lista)"
   ]
  },
  {
   "cell_type": "markdown",
   "id": "07a7ec48",
   "metadata": {},
   "source": [
    "Listan definieras med hjälp av hakparenteser och valfritt antal element separerade med kommatecken.\n",
    "\n",
    "Du kan lagra vilken datatyp du vill i en lista: flyttal, heltal, strängar (text), booleska värden och till och med en annan lista. Dessutom kan du blanda olika typer av element i samma lista."
   ]
  },
  {
   "cell_type": "code",
   "execution_count": 2,
   "id": "e1ec2422",
   "metadata": {},
   "outputs": [],
   "source": [
    "tom_lista = []\n",
    "kemikalier = [\"C2H4\", \"benzen\",\"syre\"]\n",
    "pKa_lista = [6.4, 3.2, 8.5, 7.2]\n",
    "blandad_lista = [\"C2H4\",3.4]\n",
    "lista_av_listor = [[\"Oxalsyra\", \"Mjölksyra\", \"Ättiksyra\"],[1.23, 3.86, 4.75]]"
   ]
  },
  {
   "cell_type": "markdown",
   "id": "e212b0e0",
   "metadata": {},
   "source": [
    "Du kan också skapa en lista från en `range`:"
   ]
  },
  {
   "cell_type": "code",
   "execution_count": 3,
   "id": "acab0178",
   "metadata": {},
   "outputs": [
    {
     "name": "stdout",
     "output_type": "stream",
     "text": [
      "[0, 1, 2, 3, 4]\n"
     ]
    }
   ],
   "source": [
    "range_lista = list(range(5))\n",
    "print(range_lista)"
   ]
  },
  {
   "cell_type": "markdown",
   "id": "0c69c079",
   "metadata": {},
   "source": [
    "# Komma åt och ändra listobjekt\n",
    "\n",
    "Du kan komma åt längden på listan (dvs antalet element) med funktionen \"len\":"
   ]
  },
  {
   "cell_type": "code",
   "execution_count": 4,
   "id": "434ed1a1",
   "metadata": {},
   "outputs": [
    {
     "name": "stdout",
     "output_type": "stream",
     "text": [
      "Längden på pKa_lista = 4\n",
      "Längden på lista_av_listor = 2\n"
     ]
    }
   ],
   "source": [
    "print(\"Längden på pKa_lista =\",len(pKa_lista))\n",
    "print(\"Längden på lista_av_listor =\",len(lista_av_listor))"
   ]
  },
  {
   "cell_type": "markdown",
   "id": "a2e1f69b",
   "metadata": {},
   "source": [
    "I listan av listor räknar len endast 2 element, eftersom det primära listan faktiskt bara innehåller 2 element (som båda är listor med 3 element var).\n",
    "\n",
    "När listan är skapad kan du komma åt det i:te elementet som `A[i]`. Observera att Python börjar indexeringen vid 0, så det första elementet är faktiskt `A[0]`."
   ]
  },
  {
   "cell_type": "code",
   "execution_count": 5,
   "id": "c59ac7a4",
   "metadata": {},
   "outputs": [
    {
     "name": "stdout",
     "output_type": "stream",
     "text": [
      "Den första kemikalie är C2H4\n",
      "Den andra kemikalie är benzen\n",
      "Den första lista är ['Oxalsyra', 'Mjölksyra', 'Ättiksyra']\n",
      "Den första syran i listan av listor är  Oxalsyra\n"
     ]
    }
   ],
   "source": [
    "print(\"Den första kemikalie är\", kemikalier[0])\n",
    "print(\"Den andra kemikalie är\", kemikalier[1])\n",
    "print(\"Den första lista är\", lista_av_listor[0])\n",
    "print(\"Den första syran i listan av listor är \", lista_av_listor[0][0])"
   ]
  },
  {
   "cell_type": "markdown",
   "id": "76047fd6",
   "metadata": {},
   "source": [
    "Genom att komma åt det specifika objektet i en lista kan du också ändra det:"
   ]
  },
  {
   "cell_type": "code",
   "execution_count": 6,
   "id": "6126933c",
   "metadata": {},
   "outputs": [
    {
     "name": "stdout",
     "output_type": "stream",
     "text": [
      "['C2H4', 'benzen', 'syre']\n",
      "['eten', 'benzen', 'syre']\n"
     ]
    }
   ],
   "source": [
    "print(kemikalier)\n",
    "kemikalier[0] = \"eten\"\n",
    "print(kemikalier)"
   ]
  },
  {
   "cell_type": "markdown",
   "id": "93a08f57",
   "metadata": {},
   "source": [
    "**Övning:**\n",
    "Loopa över elementen i kemikalier listan och skriv ut dem:"
   ]
  },
  {
   "cell_type": "code",
   "execution_count": 7,
   "id": "4551492d",
   "metadata": {},
   "outputs": [
    {
     "name": "stdout",
     "output_type": "stream",
     "text": [
      "eten\n",
      "benzen\n",
      "syre\n"
     ]
    }
   ],
   "source": [
    "### BEGIN SOLUTION\n",
    "for i in range(len(kemikalier)):\n",
    "    print(kemikalier[i])\n",
    "### END SOLUTION"
   ]
  },
  {
   "cell_type": "markdown",
   "id": "f84d4b09",
   "metadata": {},
   "source": [
    "Det finns andra (vissa skulle hävda finare) sätt att loopa över element i en lista. Det enklaste är:"
   ]
  },
  {
   "cell_type": "code",
   "execution_count": 8,
   "id": "4598f5db",
   "metadata": {},
   "outputs": [
    {
     "name": "stdout",
     "output_type": "stream",
     "text": [
      "eten\n",
      "benzen\n",
      "syre\n"
     ]
    }
   ],
   "source": [
    "for kemikalie in kemikalier:\n",
    "    print(kemikalie)"
   ]
  },
  {
   "cell_type": "markdown",
   "id": "55a39ff7",
   "metadata": {},
   "source": [
    "Om du behöver både indexet och elementet kan du använda \"enumerate\":"
   ]
  },
  {
   "cell_type": "code",
   "execution_count": 9,
   "id": "13510e98",
   "metadata": {},
   "outputs": [
    {
     "name": "stdout",
     "output_type": "stream",
     "text": [
      "Kemikalie 1 är eten\n",
      "Kemikalie 2 är benzen\n",
      "Kemikalie 3 är syre\n"
     ]
    }
   ],
   "source": [
    "for i, kemikalie in enumerate(kemikalier):\n",
    "    print(\"Kemikalie\",i+1,\"är\",kemikalie)"
   ]
  },
  {
   "cell_type": "markdown",
   "id": "524f6c0b",
   "metadata": {},
   "source": [
    "**Övning:** Här är en lista över syror och en motsvarande lista över pKa-värden. Sortera båda listorna efter stigande pKa-värde (utan att använda färdiga sorteringsfunktioner i Python)."
   ]
  },
  {
   "cell_type": "code",
   "execution_count": 10,
   "id": "7370a2bd",
   "metadata": {},
   "outputs": [],
   "source": [
    "syror = [\"Mjölksyra\", \"Oxalsyra\", \"Ättiksyra\", \"Kolsyra\", \"Bensoesyra\", \"Citronsyra\", \"Myrsyra\"]\n",
    "pKa_lista = [3.86, 1.23, 4.75, 6.37, 4.19, 3.08, 3.75]\n",
    "### BEGIN SOLUTION\n",
    "n_syror= len(pKa_lista)\n",
    "for i in range(n_syror):\n",
    "    for j in range(i+1,n_syror):\n",
    "        if pKa_lista[i] > pKa_lista[j]:\n",
    "            # Byt plats på pKa-värden\n",
    "            pKa_lista[i], pKa_lista[j] = pKa_lista[j], pKa_lista[i]\n",
    "            # Byt plats på syrorna\n",
    "            syror[i], syror[j] = syror[j], syror[i]\n",
    "### END SOLUTION"
   ]
  },
  {
   "cell_type": "code",
   "execution_count": 11,
   "id": "3cae3b7b",
   "metadata": {},
   "outputs": [],
   "source": [
    "assert syror == ['Oxalsyra', 'Citronsyra', 'Myrsyra', 'Mjölksyra', 'Bensoesyra', 'Ättiksyra', 'Kolsyra']\n",
    "assert pKa_lista == [1.23, 3.08, 3.75, 3.86, 4.19, 4.75, 6.37]"
   ]
  },
  {
   "cell_type": "markdown",
   "id": "4b92d03c",
   "metadata": {},
   "source": [
    "Det finns även inbyggda funktioner för att sortera listor:"
   ]
  },
  {
   "cell_type": "code",
   "execution_count": 12,
   "id": "38ed278f",
   "metadata": {},
   "outputs": [
    {
     "name": "stdout",
     "output_type": "stream",
     "text": [
      "[1.23, 3.08, 3.75, 3.86, 4.19, 4.75, 6.37]\n",
      "['Bensoesyra', 'Citronsyra', 'Kolsyra', 'Mjölksyra', 'Myrsyra', 'Oxalsyra', 'Ättiksyra']\n"
     ]
    }
   ],
   "source": [
    "syror = [\"Mjölksyra\", \"Oxalsyra\", \"Ättiksyra\", \"Kolsyra\", \"Bensoesyra\", \"Citronsyra\", \"Myrsyra\"]\n",
    "pKa_lista = [3.86, 1.23, 4.75, 6.37, 4.19, 3.08, 3.75]\n",
    "print(sorted(pKa_lista)) #numerisk sortering\n",
    "print(sorted(syror)) #alfabetisk sortering"
   ]
  },
  {
   "cell_type": "markdown",
   "id": "611c0e3e",
   "metadata": {},
   "source": [
    "## Utöka och kombinera listor\n",
    "\n",
    "Du kan lägga till element i en lista med `append`:"
   ]
  },
  {
   "cell_type": "code",
   "execution_count": 13,
   "id": "9a17d8a2",
   "metadata": {},
   "outputs": [
    {
     "name": "stdout",
     "output_type": "stream",
     "text": [
      "['eten', 'benzen', 'syre', 'sulfat']\n"
     ]
    }
   ],
   "source": [
    "kemikalier.append(\"sulfat\")\n",
    "print(kemikalier)"
   ]
  },
  {
   "cell_type": "markdown",
   "id": "eb415a45",
   "metadata": {},
   "source": [
    "**Övning:** Skapa samma lista som `list(range(5))` genom att börja från en tom lista, använda en loop och append-funktionen."
   ]
  },
  {
   "cell_type": "code",
   "execution_count": 14,
   "id": "1cc97c61",
   "metadata": {},
   "outputs": [
    {
     "name": "stdout",
     "output_type": "stream",
     "text": [
      "[0, 1, 2, 3, 4]\n"
     ]
    }
   ],
   "source": [
    "### BEGIN SOLUTION\n",
    "min_lista = []\n",
    "for i in range(5):\n",
    "    min_lista.append(i)\n",
    "print(min_lista)\n",
    "### END SOLUTION"
   ]
  },
  {
   "cell_type": "markdown",
   "id": "a1c7b2f3",
   "metadata": {},
   "source": [
    "Du kan också kombinera och multiplicera listor med hjälp av de aritmetiska operatorerna."
   ]
  },
  {
   "cell_type": "code",
   "execution_count": 15,
   "id": "e451007c",
   "metadata": {},
   "outputs": [
    {
     "name": "stdout",
     "output_type": "stream",
     "text": [
      "['eten', 'benzen', 'syre', 'sulfat', 'fosfat', 'propan']\n",
      "['fosfat', 'propan', 'fosfat', 'propan', 'fosfat', 'propan', 'fosfat', 'propan', 'fosfat', 'propan']\n"
     ]
    }
   ],
   "source": [
    "stor_list = kemikalier + [\"fosfat\", \"propan\"]\n",
    "print(stor_list)\n",
    "print([\"fosfat\", \"propan\"]*5)"
   ]
  },
  {
   "cell_type": "markdown",
   "id": "9195cbea",
   "metadata": {},
   "source": [
    "Multiplikation kan vara användbart för att initialisera en lista med 0-värden eller en lista av listor med tomma värden."
   ]
  },
  {
   "cell_type": "code",
   "execution_count": 16,
   "id": "30ca1668",
   "metadata": {},
   "outputs": [
    {
     "name": "stdout",
     "output_type": "stream",
     "text": [
      "[0, 0, 0, 0, 0, 0, 0, 0, 0, 0]\n",
      "[[], [], [], [], [], [], []]\n"
     ]
    }
   ],
   "source": [
    "viktig_lista = [0]*10\n",
    "print(viktig_lista)\n",
    "viktigare_lista = [[]]*7\n",
    "print(viktigare_lista)"
   ]
  },
  {
   "cell_type": "markdown",
   "id": "1d0eaabf",
   "metadata": {},
   "source": [
    "## Slicing (Skärning)\n",
    "\n",
    "Medan det är möjligt att komma åt listelement ett efter ett finns det också sätt att extrahera \"skivor\" av listan. Den allmänna strukturen liknar range, det vill säga vi kan ange startpunkt, slutpunkt och steg, men de separeras med `:`:"
   ]
  },
  {
   "cell_type": "code",
   "execution_count": 17,
   "id": "2ae4f459",
   "metadata": {},
   "outputs": [
    {
     "name": "stdout",
     "output_type": "stream",
     "text": [
      "['Oxalsyra', 'Ättiksyra']\n",
      "['Oxalsyra', 'Ättiksyra']\n",
      "['Bensoesyra', 'Kolsyra', 'Ättiksyra']\n"
     ]
    }
   ],
   "source": [
    "syror == ['Oxalsyra', 'Citronsyra', 'Myrsyra', 'Mjölksyra', 'Bensoesyra', 'Ättiksyra', 'Kolsyra']\n",
    "print(syror[1:3:1]) # Från 1 (inklusive) till 3 (exklusive) en efter en\n",
    "print(syror[1:3]) # Om steget utelämnas antas 1\n",
    "print(syror[4:1:-1]) # Från 1 till 4 men omvänt"
   ]
  },
  {
   "cell_type": "markdown",
   "id": "17db9e50",
   "metadata": {},
   "source": [
    "Det är möjligt att lämna skivningsindexen tomma, vilket som standard kommer att betyda första eller sista elementet (beroende på sammanhanget):"
   ]
  },
  {
   "cell_type": "code",
   "execution_count": 18,
   "id": "750d8d88",
   "metadata": {},
   "outputs": [
    {
     "name": "stdout",
     "output_type": "stream",
     "text": [
      "['Kolsyra', 'Bensoesyra', 'Citronsyra', 'Myrsyra']\n",
      "['Mjölksyra', 'Oxalsyra', 'Ättiksyra']\n",
      "['Mjölksyra', 'Oxalsyra', 'Ättiksyra', 'Kolsyra', 'Bensoesyra', 'Citronsyra', 'Myrsyra']\n",
      "['Myrsyra', 'Citronsyra', 'Bensoesyra', 'Kolsyra', 'Ättiksyra', 'Oxalsyra', 'Mjölksyra']\n"
     ]
    }
   ],
   "source": [
    "print(syror[3:]) # Från 3 till sist\n",
    "print(syror[:3]) # Första 3\n",
    "print(syror[:]) # Alla\n",
    "print(syror[::-1]) # Alla omvänt"
   ]
  },
  {
   "cell_type": "markdown",
   "id": "07067353",
   "metadata": {},
   "source": [
    "Mer överraskande kanske är att om du använder negativa tal motsvarar det att räkna från slutet:"
   ]
  },
  {
   "cell_type": "code",
   "execution_count": 19,
   "id": "192970b2",
   "metadata": {},
   "outputs": [
    {
     "name": "stdout",
     "output_type": "stream",
     "text": [
      "Myrsyra\n",
      "['Bensoesyra', 'Citronsyra', 'Myrsyra']\n",
      "['Ättiksyra', 'Kolsyra', 'Bensoesyra']\n"
     ]
    }
   ],
   "source": [
    "print(syror[-1]) # Den sista objekt\n",
    "print(syror[-3:]) # De sista 3 objekt\n",
    "print(syror[2:-2]) # Allt utom första och sista 2"
   ]
  },
  {
   "cell_type": "markdown",
   "id": "be09cf94",
   "metadata": {},
   "source": [
    "**Övning:** Sortera pka arrayen i föregående sorteringsövning i omvänd ordning med `sorted` (bara en textrad!):"
   ]
  },
  {
   "cell_type": "code",
   "execution_count": 20,
   "id": "10667b24",
   "metadata": {},
   "outputs": [
    {
     "name": "stdout",
     "output_type": "stream",
     "text": [
      "[6.37, 4.75, 4.19, 3.86, 3.75, 3.08, 1.23]\n"
     ]
    }
   ],
   "source": [
    "### BEGIN SOLUTION\n",
    "print(sorted(pKa_lista)[::-1])\n",
    "### END SOLUTION"
   ]
  },
  {
   "cell_type": "markdown",
   "id": "fb424b9b",
   "metadata": {},
   "source": [
    "## Unpacking (Uppackning)\n",
    "\n",
    "Om du vill tilldela elementen i en lista till individuella variabler kan du använda en genväg som kallas \"uppackning\":"
   ]
  },
  {
   "cell_type": "code",
   "execution_count": 21,
   "id": "64a33ef3",
   "metadata": {},
   "outputs": [
    {
     "name": "stdout",
     "output_type": "stream",
     "text": [
      "a = 5.5\n",
      "b = 7.8\n"
     ]
    }
   ],
   "source": [
    "min_lista = [5.5, 7.8]\n",
    "a, b = min_lista\n",
    "print(\"a =\", a)\n",
    "print(\"b =\", b)"
   ]
  },
  {
   "cell_type": "markdown",
   "id": "0a47ebcc",
   "metadata": {},
   "source": [
    "Denna packning/uppackning används implicit när du ger en lista som returvärden till en funktion, och kan också användas för att byta värden mellan två variabler (som vi gjorde i sorteringsövningen):"
   ]
  },
  {
   "cell_type": "code",
   "execution_count": 22,
   "id": "ef534df2",
   "metadata": {},
   "outputs": [
    {
     "name": "stdout",
     "output_type": "stream",
     "text": [
      "5.5\n",
      "7.8\n",
      "Efter\n",
      "7.8\n",
      "5.5\n"
     ]
    }
   ],
   "source": [
    "def få_värden():\n",
    "    värde1 = 5.5\n",
    "    värde2 = 7.8\n",
    "    return värde1, värde2\n",
    "\n",
    "resultat1, resultat2 = få_värden()\n",
    "print(resultat1)\n",
    "print(resultat2)\n",
    "\n",
    "resultat1, resultat2 = resultat2, resultat1\n",
    "print(\"Efter\")\n",
    "print(resultat1)\n",
    "print(resultat2)"
   ]
  },
  {
   "cell_type": "markdown",
   "id": "a45629d2",
   "metadata": {},
   "source": [
    "# Tupler\n",
    "\n",
    "Tupler är på många sätt liknande listor, men den största skillnaden är att de är oföränderliga, vilket innebär att de inte kan ändras efter att de skapats. Detta kan vara användbart för listor som inte bör ändras (till exempel listan över atomsymboler).\n",
    "\n",
    "För att skapa en tuple använder vi parenteser istället för hakparenteser:"
   ]
  },
  {
   "cell_type": "code",
   "execution_count": 23,
   "id": "cecbd09c",
   "metadata": {},
   "outputs": [
    {
     "name": "stdout",
     "output_type": "stream",
     "text": [
      "C\n",
      "Pb\n"
     ]
    }
   ],
   "source": [
    "Atomer = ('0', 'H', 'He', 'Li', 'Be', 'B', 'C', 'N', 'O', 'F', 'Ne', 'Na', 'Mg', #Lade till 0 så att Atomer[1] = 'H'\n",
    "        'Al', 'Si', 'P', 'S', 'Cl', 'Ar', 'K', 'Ca', 'Sc', 'Ti', 'V', 'Cr',\n",
    "        'Mn', 'Fe', 'Co', 'Ni', 'Cu', 'Zn', 'Ga', 'Ge', 'As', 'Se', 'Br', 'Kr',\n",
    "        'Rb', 'Sr', 'Y', 'Zr', 'Nb', 'Mo', 'Tc', 'Ru', 'Rh', 'Pd', 'Ag', 'Cd',\n",
    "        'In', 'Sn', 'Sb', 'Te', 'I', 'Xe', 'Cs', 'Ba', 'La', 'Ce', 'Pr', 'Nd',\n",
    "        'Pm', 'Sm', 'Eu', 'Gd', 'Tb', 'Dy', 'Ho', 'Er', 'Tm', 'Yb', 'Lu', 'Hf',\n",
    "        'Ta', 'W', 'Re', 'Os', 'Ir', 'Pt', 'Au', 'Hg', 'Tl', 'Pb', 'Bi', 'Po',\n",
    "        'At', 'Rn')\n",
    "print(Atomer[6])\n",
    "print(Atomer[82])"
   ]
  },
  {
   "cell_type": "markdown",
   "id": "5e09e9cf",
   "metadata": {},
   "source": [
    "Om du försöker ändra ett av elementen i en tuple kommer du se att det misslyckas.\n",
    "\n",
    "Eftersom tupler bara är en nyans av listor kommer vi inte gå djupare in på dem förutom att nämna deras existens."
   ]
  },
  {
   "cell_type": "markdown",
   "id": "3960bccc",
   "metadata": {},
   "source": [
    "# Sets (Mängder)\n",
    "\n",
    "Mängder är en annan nyans av listor, men med något mer praktisk användning. Den största skillnaden jämfört med listor är att mängder inte kan ha dubletter, och deras ordning är odefinierad (den kan variera från det ursprungliga tilldelningen på grund av hur den implementeras internt).\n",
    "\n",
    "Mängder skapas med hjälp av `{}` istället för `[]`."
   ]
  },
  {
   "cell_type": "code",
   "execution_count": 24,
   "id": "dc651a24",
   "metadata": {},
   "outputs": [
    {
     "name": "stdout",
     "output_type": "stream",
     "text": [
      "{'benzen', 'C2H4', 'syre'}\n"
     ]
    }
   ],
   "source": [
    "molekyl_set = {\"C2H4\", \"benzen\",\"syre\"}\n",
    "print(molekyl_set) # Notera att ordningen kan skilja sig\n",
    "tom_set = set() # Om du använder {} ska det skapa ett tomt lexikon som vi kommer att se senare"
   ]
  },
  {
   "cell_type": "markdown",
   "id": "6c22c117",
   "metadata": {},
   "source": [
    "Mängder beter sig på liknande sätt som listor. Dock, eftersom de är oordnade kan du inte komma åt element genom att använda `A[i]` (men du kan fortfarande loopa över alla element). Istället för att använda append för att lägga till element i slutet av en lista, använder du funktionen \"add\" för att lägga till element i en mängd."
   ]
  },
  {
   "cell_type": "code",
   "execution_count": 25,
   "id": "21c76d85",
   "metadata": {},
   "outputs": [
    {
     "name": "stdout",
     "output_type": "stream",
     "text": [
      "{'benzen', 'C2H4', 'sulfat', 'syre'}\n"
     ]
    }
   ],
   "source": [
    "molekyl_set.add(\"sulfat\")\n",
    "print(molekyl_set)"
   ]
  },
  {
   "cell_type": "markdown",
   "id": "39ea32df",
   "metadata": {},
   "source": [
    "Om du försöker lägga till ett element som redan finns i mängden kommer det inte att dupliceras:"
   ]
  },
  {
   "cell_type": "code",
   "execution_count": 26,
   "id": "83482c35",
   "metadata": {},
   "outputs": [
    {
     "name": "stdout",
     "output_type": "stream",
     "text": [
      "4\n",
      "4\n"
     ]
    }
   ],
   "source": [
    "print(len(molekyl_set))\n",
    "molekyl_set.add(\"benzen\")\n",
    "print(len(molekyl_set))"
   ]
  },
  {
   "cell_type": "markdown",
   "id": "124bc712",
   "metadata": {},
   "source": [
    "Du kan kombinera mängder genom att använda `|` (eller `union`-funktionen) och du kan också subtrahera mängder för att hitta skillnaden."
   ]
  },
  {
   "cell_type": "code",
   "execution_count": 27,
   "id": "91cb0899",
   "metadata": {},
   "outputs": [
    {
     "name": "stdout",
     "output_type": "stream",
     "text": [
      "{'HCl', 'syre', 'benzen', 'C2H4', 'sulfat'}\n",
      "{'HCl', 'syre', 'benzen', 'C2H4', 'sulfat'}\n",
      "{'benzen', 'syre'}\n"
     ]
    }
   ],
   "source": [
    "print(molekyl_set | {\"HCl\", \"syre\"})\n",
    "print(molekyl_set.union({\"HCl\", \"syre\"}))\n",
    "print(molekyl_set - {\"C2H4\",\"sulfat\", \"HCl\"})"
   ]
  },
  {
   "cell_type": "markdown",
   "id": "3f996c7a",
   "metadata": {},
   "source": [
    "Du kan omvandla en lista till en mängd och vice versa:"
   ]
  },
  {
   "cell_type": "code",
   "execution_count": 28,
   "id": "8a48e48e",
   "metadata": {},
   "outputs": [
    {
     "name": "stdout",
     "output_type": "stream",
     "text": [
      "{'en', 'Den', 'var', 'lista'}\n",
      "['en', 'Den', 'var', 'lista']\n"
     ]
    }
   ],
   "source": [
    "set_från_list = set([\"Den\", \"var\", \"en\", \"lista\"])\n",
    "print(set_från_list) # Som Yoda skulle säga\n",
    "list_från_set = list(set_från_list)\n",
    "print(list_från_set) # Ordningen är nu den som mängden hade"
   ]
  },
  {
   "cell_type": "markdown",
   "id": "429501f4",
   "metadata": {},
   "source": [
    "Mängder är också den mest effektiva metoden (vilket kan vara viktig för storskaliga tillämpningar) för att kontrollera om ett element finns i en lista."
   ]
  },
  {
   "cell_type": "code",
   "execution_count": 29,
   "id": "dc5d95c4",
   "metadata": {},
   "outputs": [
    {
     "name": "stdout",
     "output_type": "stream",
     "text": [
      "benzen fanns\n",
      "fosfat fanns inte\n"
     ]
    }
   ],
   "source": [
    "for molekyl in (\"benzen\", \"fosfat\"):\n",
    "    if molekyl in molekyl_set:\n",
    "        print(molekyl, \"fanns\")\n",
    "    else:\n",
    "        print(molekyl, \"fanns inte\")"
   ]
  },
  {
   "cell_type": "markdown",
   "id": "7ae6b600",
   "metadata": {},
   "source": [
    "**Övning:**\n",
    "\n",
    "Antag att ditt laboratorium har en lista över kemikalier som finns tillgängliga (lösningsmedel_i_labbet och molekyler_i_labbet) och en uppsättning molekyler som krävs för att syntetisera ibuprofen (ibuprofen_kemikalier).\n",
    "\n",
    "Du kan använda grundläggande mängdoperationer för att skapa mängden av molekyler som behöver köpas och sedan skapa den totala mängden av molekyler som finns tillgängliga efter köpet."
   ]
  },
  {
   "cell_type": "code",
   "execution_count": 30,
   "id": "8d210618",
   "metadata": {},
   "outputs": [],
   "source": [
    "lösningsmedel_i_labbet = [\"aceton\", \"toluen\", \"metanol\", \"etanol\", \"vatten\"]\n",
    "molekyler_i_labbet = [\"HCl\", \"svavelsyra\", \"magnesium\", \"LiAlH4\", \"NaBH4\", \"AlCl3\", \"NaCl\"]\n",
    "ibuprofen_kemikalier = [\"isobutylbenzen\" , \"ättiksanhydrid\", \"AlCl3\", \"NaBH4\", \"metanol\", \"HCl\", \"magnesium\", \"CO2\"]\n",
    "\n",
    "### BEGIN SOLUTION\n",
    "att_köpa = set(ibuprofen_kemikalier) - set(lösningsmedel_i_labbet) - set(molekyler_i_labbet)\n",
    "tillgängliga_efter_köpet = set(ibuprofen_kemikalier) | set(lösningsmedel_i_labbet) | set(molekyler_i_labbet)\n",
    "### END SOLUTION\n",
    "assert att_köpa == {'isobutylbenzen', 'ättiksanhydrid', 'CO2'}\n",
    "assert tillgängliga_efter_köpet == {'aceton', 'metanol', 'AlCl3', 'toluen', 'vatten', 'NaCl', 'NaBH4', 'magnesium', 'CO2', 'ättiksanhydrid', 'HCl', 'LiAlH4', 'svavelsyra', 'isobutylbenzen', 'etanol'}"
   ]
  },
  {
   "cell_type": "markdown",
   "id": "7e415145",
   "metadata": {},
   "source": [
    "# Strängar\n",
    "\n",
    "Vi har manipulerat strängar en liten stund nu, men vi har inte tittat på deras egenskaper. Faktum är att en sträng också är en samling, en samling av enskilda tecken. Det betyder att de kan manipuleras på mycket samma sätt som listor."
   ]
  },
  {
   "cell_type": "code",
   "execution_count": 31,
   "id": "130f9a87",
   "metadata": {},
   "outputs": [
    {
     "name": "stdout",
     "output_type": "stream",
     "text": [
      "14\n",
      "i\n",
      "benzen\n",
      "i\n",
      "s\n",
      "o\n",
      "b\n",
      "u\n",
      "t\n",
      "y\n",
      "l\n",
      "b\n",
      "e\n",
      "n\n",
      "z\n",
      "e\n",
      "n\n",
      "isobutylbenzen är en molekyl\n"
     ]
    }
   ],
   "source": [
    "molekyl = \"isobutylbenzen\"\n",
    "print(len(molekyl))\n",
    "print(molekyl[0])\n",
    "print(molekyl[-6:])\n",
    "for bokstav in molekyl:\n",
    "    print(bokstav)\n",
    "print(molekyl + \" är en molekyl\")"
   ]
  },
  {
   "cell_type": "markdown",
   "id": "888c931e",
   "metadata": {},
   "source": [
    "Strängar har också många praktiska funktioner för att hjälpa till att manipulera dem. Listan nedan är inte uttömmande."
   ]
  },
  {
   "cell_type": "code",
   "execution_count": 32,
   "id": "adc5ac68",
   "metadata": {},
   "outputs": [
    {
     "name": "stdout",
     "output_type": "stream",
     "text": [
      "C är en bokstav: True\n",
      "C är ett nummer: False\n",
      "C är en versal: True\n",
      "C is en gemen: False\n",
      "\n",
      "Butadien till gemen blir: butadien\n",
      "Butadien till versal blir: BUTADIEN\n",
      "Det finns 12 väte atomer i C6H12O6\n",
      "\n",
      "Delar upp en sträng: [' A + B ', ' C ']\n",
      "+ finns i reaktionen:  True på position 3\n",
      "Nu blir det kemi  A + B -> C \n",
      "\n"
     ]
    }
   ],
   "source": [
    "# Vilken typ\n",
    "print(\"C är en bokstav:\",\"C\".isalpha())\n",
    "print(\"C är ett nummer:\",\"C\".isnumeric())\n",
    "print(\"C är en versal:\",\"C\".isupper())\n",
    "print(\"C is en gemen:\",\"C\".islower())\n",
    "print()\n",
    "\n",
    "# Omvandla\n",
    "string = \"Butadien\"\n",
    "print(\"Butadien till gemen blir:\", string.lower())\n",
    "print(\"Butadien till versal blir:\", string.upper())\n",
    "molekyl = \"C6H12O6\"\n",
    "print(\"Det finns\",int(molekyl[3:5]),\"väte atomer i\", molekyl)\n",
    "print()\n",
    "\n",
    "# Hitta tecken\n",
    "reaktion = \" A + B = C \"\n",
    "print(\"Delar upp en sträng:\", reaktion.split(\"=\")) # Dela upp i en lista runt det valda symbolen\n",
    "print(\"+ finns i reaktionen: \",\"+\" in reaktion, \"på position\", reaktion.index(\"+\"))\n",
    "print(\"Nu blir det kemi\", reaktion.replace(\"=\",\"->\"))\n",
    "print()"
   ]
  },
  {
   "cell_type": "markdown",
   "id": "7df0d368",
   "metadata": {},
   "source": [
    "För att få en mer uttömmande lista, glöm inte att du kan be python om hjälp."
   ]
  },
  {
   "cell_type": "code",
   "execution_count": 33,
   "id": "2f2e4fca",
   "metadata": {},
   "outputs": [
    {
     "name": "stdout",
     "output_type": "stream",
     "text": [
      "Help on class str in module builtins:\n",
      "\n",
      "class str(object)\n",
      " |  str(object='') -> str\n",
      " |  str(bytes_or_buffer[, encoding[, errors]]) -> str\n",
      " |  \n",
      " |  Create a new string object from the given object. If encoding or\n",
      " |  errors is specified, then the object must expose a data buffer\n",
      " |  that will be decoded using the given encoding and error handler.\n",
      " |  Otherwise, returns the result of object.__str__() (if defined)\n",
      " |  or repr(object).\n",
      " |  encoding defaults to sys.getdefaultencoding().\n",
      " |  errors defaults to 'strict'.\n",
      " |  \n",
      " |  Methods defined here:\n",
      " |  \n",
      " |  __add__(self, value, /)\n",
      " |      Return self+value.\n",
      " |  \n",
      " |  __contains__(self, key, /)\n",
      " |      Return key in self.\n",
      " |  \n",
      " |  __eq__(self, value, /)\n",
      " |      Return self==value.\n",
      " |  \n",
      " |  __format__(self, format_spec, /)\n",
      " |      Return a formatted version of the string as described by format_spec.\n",
      " |  \n",
      " |  __ge__(self, value, /)\n",
      " |      Return self>=value.\n",
      " |  \n",
      " |  __getattribute__(self, name, /)\n",
      " |      Return getattr(self, name).\n",
      " |  \n",
      " |  __getitem__(self, key, /)\n",
      " |      Return self[key].\n",
      " |  \n",
      " |  __getnewargs__(...)\n",
      " |  \n",
      " |  __gt__(self, value, /)\n",
      " |      Return self>value.\n",
      " |  \n",
      " |  __hash__(self, /)\n",
      " |      Return hash(self).\n",
      " |  \n",
      " |  __iter__(self, /)\n",
      " |      Implement iter(self).\n",
      " |  \n",
      " |  __le__(self, value, /)\n",
      " |      Return self<=value.\n",
      " |  \n",
      " |  __len__(self, /)\n",
      " |      Return len(self).\n",
      " |  \n",
      " |  __lt__(self, value, /)\n",
      " |      Return self<value.\n",
      " |  \n",
      " |  __mod__(self, value, /)\n",
      " |      Return self%value.\n",
      " |  \n",
      " |  __mul__(self, value, /)\n",
      " |      Return self*value.\n",
      " |  \n",
      " |  __ne__(self, value, /)\n",
      " |      Return self!=value.\n",
      " |  \n",
      " |  __repr__(self, /)\n",
      " |      Return repr(self).\n",
      " |  \n",
      " |  __rmod__(self, value, /)\n",
      " |      Return value%self.\n",
      " |  \n",
      " |  __rmul__(self, value, /)\n",
      " |      Return value*self.\n",
      " |  \n",
      " |  __sizeof__(self, /)\n",
      " |      Return the size of the string in memory, in bytes.\n",
      " |  \n",
      " |  __str__(self, /)\n",
      " |      Return str(self).\n",
      " |  \n",
      " |  capitalize(self, /)\n",
      " |      Return a capitalized version of the string.\n",
      " |      \n",
      " |      More specifically, make the first character have upper case and the rest lower\n",
      " |      case.\n",
      " |  \n",
      " |  casefold(self, /)\n",
      " |      Return a version of the string suitable for caseless comparisons.\n",
      " |  \n",
      " |  center(self, width, fillchar=' ', /)\n",
      " |      Return a centered string of length width.\n",
      " |      \n",
      " |      Padding is done using the specified fill character (default is a space).\n",
      " |  \n",
      " |  count(...)\n",
      " |      S.count(sub[, start[, end]]) -> int\n",
      " |      \n",
      " |      Return the number of non-overlapping occurrences of substring sub in\n",
      " |      string S[start:end].  Optional arguments start and end are\n",
      " |      interpreted as in slice notation.\n",
      " |  \n",
      " |  encode(self, /, encoding='utf-8', errors='strict')\n",
      " |      Encode the string using the codec registered for encoding.\n",
      " |      \n",
      " |      encoding\n",
      " |        The encoding in which to encode the string.\n",
      " |      errors\n",
      " |        The error handling scheme to use for encoding errors.\n",
      " |        The default is 'strict' meaning that encoding errors raise a\n",
      " |        UnicodeEncodeError.  Other possible values are 'ignore', 'replace' and\n",
      " |        'xmlcharrefreplace' as well as any other name registered with\n",
      " |        codecs.register_error that can handle UnicodeEncodeErrors.\n",
      " |  \n",
      " |  endswith(...)\n",
      " |      S.endswith(suffix[, start[, end]]) -> bool\n",
      " |      \n",
      " |      Return True if S ends with the specified suffix, False otherwise.\n",
      " |      With optional start, test S beginning at that position.\n",
      " |      With optional end, stop comparing S at that position.\n",
      " |      suffix can also be a tuple of strings to try.\n",
      " |  \n",
      " |  expandtabs(self, /, tabsize=8)\n",
      " |      Return a copy where all tab characters are expanded using spaces.\n",
      " |      \n",
      " |      If tabsize is not given, a tab size of 8 characters is assumed.\n",
      " |  \n",
      " |  find(...)\n",
      " |      S.find(sub[, start[, end]]) -> int\n",
      " |      \n",
      " |      Return the lowest index in S where substring sub is found,\n",
      " |      such that sub is contained within S[start:end].  Optional\n",
      " |      arguments start and end are interpreted as in slice notation.\n",
      " |      \n",
      " |      Return -1 on failure.\n",
      " |  \n",
      " |  format(...)\n",
      " |      S.format(*args, **kwargs) -> str\n",
      " |      \n",
      " |      Return a formatted version of S, using substitutions from args and kwargs.\n",
      " |      The substitutions are identified by braces ('{' and '}').\n",
      " |  \n",
      " |  format_map(...)\n",
      " |      S.format_map(mapping) -> str\n",
      " |      \n",
      " |      Return a formatted version of S, using substitutions from mapping.\n",
      " |      The substitutions are identified by braces ('{' and '}').\n",
      " |  \n",
      " |  index(...)\n",
      " |      S.index(sub[, start[, end]]) -> int\n",
      " |      \n",
      " |      Return the lowest index in S where substring sub is found,\n",
      " |      such that sub is contained within S[start:end].  Optional\n",
      " |      arguments start and end are interpreted as in slice notation.\n",
      " |      \n",
      " |      Raises ValueError when the substring is not found.\n",
      " |  \n",
      " |  isalnum(self, /)\n",
      " |      Return True if the string is an alpha-numeric string, False otherwise.\n",
      " |      \n",
      " |      A string is alpha-numeric if all characters in the string are alpha-numeric and\n",
      " |      there is at least one character in the string.\n",
      " |  \n",
      " |  isalpha(self, /)\n",
      " |      Return True if the string is an alphabetic string, False otherwise.\n",
      " |      \n",
      " |      A string is alphabetic if all characters in the string are alphabetic and there\n",
      " |      is at least one character in the string.\n",
      " |  \n",
      " |  isascii(self, /)\n",
      " |      Return True if all characters in the string are ASCII, False otherwise.\n",
      " |      \n",
      " |      ASCII characters have code points in the range U+0000-U+007F.\n",
      " |      Empty string is ASCII too.\n",
      " |  \n",
      " |  isdecimal(self, /)\n",
      " |      Return True if the string is a decimal string, False otherwise.\n",
      " |      \n",
      " |      A string is a decimal string if all characters in the string are decimal and\n",
      " |      there is at least one character in the string.\n",
      " |  \n",
      " |  isdigit(self, /)\n",
      " |      Return True if the string is a digit string, False otherwise.\n",
      " |      \n",
      " |      A string is a digit string if all characters in the string are digits and there\n",
      " |      is at least one character in the string.\n",
      " |  \n",
      " |  isidentifier(self, /)\n",
      " |      Return True if the string is a valid Python identifier, False otherwise.\n",
      " |      \n",
      " |      Call keyword.iskeyword(s) to test whether string s is a reserved identifier,\n",
      " |      such as \"def\" or \"class\".\n",
      " |  \n",
      " |  islower(self, /)\n",
      " |      Return True if the string is a lowercase string, False otherwise.\n",
      " |      \n",
      " |      A string is lowercase if all cased characters in the string are lowercase and\n",
      " |      there is at least one cased character in the string.\n",
      " |  \n",
      " |  isnumeric(self, /)\n",
      " |      Return True if the string is a numeric string, False otherwise.\n",
      " |      \n",
      " |      A string is numeric if all characters in the string are numeric and there is at\n",
      " |      least one character in the string.\n",
      " |  \n",
      " |  isprintable(self, /)\n",
      " |      Return True if the string is printable, False otherwise.\n",
      " |      \n",
      " |      A string is printable if all of its characters are considered printable in\n",
      " |      repr() or if it is empty.\n",
      " |  \n",
      " |  isspace(self, /)\n",
      " |      Return True if the string is a whitespace string, False otherwise.\n",
      " |      \n",
      " |      A string is whitespace if all characters in the string are whitespace and there\n",
      " |      is at least one character in the string.\n",
      " |  \n",
      " |  istitle(self, /)\n",
      " |      Return True if the string is a title-cased string, False otherwise.\n",
      " |      \n",
      " |      In a title-cased string, upper- and title-case characters may only\n",
      " |      follow uncased characters and lowercase characters only cased ones.\n",
      " |  \n",
      " |  isupper(self, /)\n",
      " |      Return True if the string is an uppercase string, False otherwise.\n",
      " |      \n",
      " |      A string is uppercase if all cased characters in the string are uppercase and\n",
      " |      there is at least one cased character in the string.\n",
      " |  \n",
      " |  join(self, iterable, /)\n",
      " |      Concatenate any number of strings.\n",
      " |      \n",
      " |      The string whose method is called is inserted in between each given string.\n",
      " |      The result is returned as a new string.\n",
      " |      \n",
      " |      Example: '.'.join(['ab', 'pq', 'rs']) -> 'ab.pq.rs'\n",
      " |  \n",
      " |  ljust(self, width, fillchar=' ', /)\n",
      " |      Return a left-justified string of length width.\n",
      " |      \n",
      " |      Padding is done using the specified fill character (default is a space).\n",
      " |  \n",
      " |  lower(self, /)\n",
      " |      Return a copy of the string converted to lowercase.\n",
      " |  \n",
      " |  lstrip(self, chars=None, /)\n",
      " |      Return a copy of the string with leading whitespace removed.\n",
      " |      \n",
      " |      If chars is given and not None, remove characters in chars instead.\n",
      " |  \n",
      " |  partition(self, sep, /)\n",
      " |      Partition the string into three parts using the given separator.\n",
      " |      \n",
      " |      This will search for the separator in the string.  If the separator is found,\n",
      " |      returns a 3-tuple containing the part before the separator, the separator\n",
      " |      itself, and the part after it.\n",
      " |      \n",
      " |      If the separator is not found, returns a 3-tuple containing the original string\n",
      " |      and two empty strings.\n",
      " |  \n",
      " |  removeprefix(self, prefix, /)\n",
      " |      Return a str with the given prefix string removed if present.\n",
      " |      \n",
      " |      If the string starts with the prefix string, return string[len(prefix):].\n",
      " |      Otherwise, return a copy of the original string.\n",
      " |  \n",
      " |  removesuffix(self, suffix, /)\n",
      " |      Return a str with the given suffix string removed if present.\n",
      " |      \n",
      " |      If the string ends with the suffix string and that suffix is not empty,\n",
      " |      return string[:-len(suffix)]. Otherwise, return a copy of the original\n",
      " |      string.\n",
      " |  \n",
      " |  replace(self, old, new, count=-1, /)\n",
      " |      Return a copy with all occurrences of substring old replaced by new.\n",
      " |      \n",
      " |        count\n",
      " |          Maximum number of occurrences to replace.\n",
      " |          -1 (the default value) means replace all occurrences.\n",
      " |      \n",
      " |      If the optional argument count is given, only the first count occurrences are\n",
      " |      replaced.\n",
      " |  \n",
      " |  rfind(...)\n",
      " |      S.rfind(sub[, start[, end]]) -> int\n",
      " |      \n",
      " |      Return the highest index in S where substring sub is found,\n",
      " |      such that sub is contained within S[start:end].  Optional\n",
      " |      arguments start and end are interpreted as in slice notation.\n",
      " |      \n",
      " |      Return -1 on failure.\n",
      " |  \n",
      " |  rindex(...)\n",
      " |      S.rindex(sub[, start[, end]]) -> int\n",
      " |      \n",
      " |      Return the highest index in S where substring sub is found,\n",
      " |      such that sub is contained within S[start:end].  Optional\n",
      " |      arguments start and end are interpreted as in slice notation.\n",
      " |      \n",
      " |      Raises ValueError when the substring is not found.\n",
      " |  \n",
      " |  rjust(self, width, fillchar=' ', /)\n",
      " |      Return a right-justified string of length width.\n",
      " |      \n",
      " |      Padding is done using the specified fill character (default is a space).\n",
      " |  \n",
      " |  rpartition(self, sep, /)\n",
      " |      Partition the string into three parts using the given separator.\n",
      " |      \n",
      " |      This will search for the separator in the string, starting at the end. If\n",
      " |      the separator is found, returns a 3-tuple containing the part before the\n",
      " |      separator, the separator itself, and the part after it.\n",
      " |      \n",
      " |      If the separator is not found, returns a 3-tuple containing two empty strings\n",
      " |      and the original string.\n",
      " |  \n",
      " |  rsplit(self, /, sep=None, maxsplit=-1)\n",
      " |      Return a list of the words in the string, using sep as the delimiter string.\n",
      " |      \n",
      " |        sep\n",
      " |          The delimiter according which to split the string.\n",
      " |          None (the default value) means split according to any whitespace,\n",
      " |          and discard empty strings from the result.\n",
      " |        maxsplit\n",
      " |          Maximum number of splits to do.\n",
      " |          -1 (the default value) means no limit.\n",
      " |      \n",
      " |      Splits are done starting at the end of the string and working to the front.\n",
      " |  \n",
      " |  rstrip(self, chars=None, /)\n",
      " |      Return a copy of the string with trailing whitespace removed.\n",
      " |      \n",
      " |      If chars is given and not None, remove characters in chars instead.\n",
      " |  \n",
      " |  split(self, /, sep=None, maxsplit=-1)\n",
      " |      Return a list of the words in the string, using sep as the delimiter string.\n",
      " |      \n",
      " |      sep\n",
      " |        The delimiter according which to split the string.\n",
      " |        None (the default value) means split according to any whitespace,\n",
      " |        and discard empty strings from the result.\n",
      " |      maxsplit\n",
      " |        Maximum number of splits to do.\n",
      " |        -1 (the default value) means no limit.\n",
      " |  \n",
      " |  splitlines(self, /, keepends=False)\n",
      " |      Return a list of the lines in the string, breaking at line boundaries.\n",
      " |      \n",
      " |      Line breaks are not included in the resulting list unless keepends is given and\n",
      " |      true.\n",
      " |  \n",
      " |  startswith(...)\n",
      " |      S.startswith(prefix[, start[, end]]) -> bool\n",
      " |      \n",
      " |      Return True if S starts with the specified prefix, False otherwise.\n",
      " |      With optional start, test S beginning at that position.\n",
      " |      With optional end, stop comparing S at that position.\n",
      " |      prefix can also be a tuple of strings to try.\n",
      " |  \n",
      " |  strip(self, chars=None, /)\n",
      " |      Return a copy of the string with leading and trailing whitespace removed.\n",
      " |      \n",
      " |      If chars is given and not None, remove characters in chars instead.\n",
      " |  \n",
      " |  swapcase(self, /)\n",
      " |      Convert uppercase characters to lowercase and lowercase characters to uppercase.\n",
      " |  \n",
      " |  title(self, /)\n",
      " |      Return a version of the string where each word is titlecased.\n",
      " |      \n",
      " |      More specifically, words start with uppercased characters and all remaining\n",
      " |      cased characters have lower case.\n",
      " |  \n",
      " |  translate(self, table, /)\n",
      " |      Replace each character in the string using the given translation table.\n",
      " |      \n",
      " |        table\n",
      " |          Translation table, which must be a mapping of Unicode ordinals to\n",
      " |          Unicode ordinals, strings, or None.\n",
      " |      \n",
      " |      The table must implement lookup/indexing via __getitem__, for instance a\n",
      " |      dictionary or list.  If this operation raises LookupError, the character is\n",
      " |      left untouched.  Characters mapped to None are deleted.\n",
      " |  \n",
      " |  upper(self, /)\n",
      " |      Return a copy of the string converted to uppercase.\n",
      " |  \n",
      " |  zfill(self, width, /)\n",
      " |      Pad a numeric string with zeros on the left, to fill a field of the given width.\n",
      " |      \n",
      " |      The string is never truncated.\n",
      " |  \n",
      " |  ----------------------------------------------------------------------\n",
      " |  Static methods defined here:\n",
      " |  \n",
      " |  __new__(*args, **kwargs) from builtins.type\n",
      " |      Create and return a new object.  See help(type) for accurate signature.\n",
      " |  \n",
      " |  maketrans(...)\n",
      " |      Return a translation table usable for str.translate().\n",
      " |      \n",
      " |      If there is only one argument, it must be a dictionary mapping Unicode\n",
      " |      ordinals (integers) or characters to Unicode ordinals, strings or None.\n",
      " |      Character keys will be then converted to ordinals.\n",
      " |      If there are two arguments, they must be strings of equal length, and\n",
      " |      in the resulting dictionary, each character in x will be mapped to the\n",
      " |      character at the same position in y. If there is a third argument, it\n",
      " |      must be a string, whose characters will be mapped to None in the result.\n",
      "\n"
     ]
    }
   ],
   "source": [
    "help(str)"
   ]
  },
  {
   "cell_type": "markdown",
   "id": "ce5d6d88",
   "metadata": {},
   "source": [
    "**Övning:** Skapa en funktion som returnerar mängden av alla atomer som finns i en sträng. Eftersom atomer kan ha antingen en eller två bokstäver (vi kommer att ignorera de med tre bokstäver), när du har en versal bokstav, kontrollera bara om nästa tecken är gemener. Om det är så, bildar de en enda atom, annars är de separata atomer."
   ]
  },
  {
   "cell_type": "code",
   "execution_count": 34,
   "id": "7ea6c5ba",
   "metadata": {},
   "outputs": [],
   "source": [
    "### BEGIN SOLUTION\n",
    "def unik_atomlista(string):\n",
    "    total_set = set()\n",
    "    n_tecken = len(string)\n",
    "    for i, atom in enumerate(string):\n",
    "        if atom.isupper():\n",
    "            if i+1 < n_tecken and string[i+1].islower():\n",
    "                atom += string[i+1]\n",
    "            total_set.add(atom)\n",
    "    return total_set\n",
    "### END SOLUTION"
   ]
  },
  {
   "cell_type": "code",
   "execution_count": 35,
   "id": "ddb43224",
   "metadata": {},
   "outputs": [],
   "source": [
    "assert unik_atomlista(\"NaCl\") == {\"Na\", \"Cl\"}\n",
    "assert unik_atomlista(\"H2O\") == {\"H\", \"O\"}\n",
    "assert unik_atomlista(\"C6H12O6\") == {\"C\", \"H\", \"O\"}\n",
    "assert unik_atomlista(\"Fe(CN)6\") == {\"Fe\", \"C\", \"N\"}\n",
    "assert unik_atomlista(\"6CO2 + 6H2O → C6H12O6 + 6O2\") == {\"C\", \"O\", \"H\"}"
   ]
  },
  {
   "cell_type": "markdown",
   "id": "12209a2f",
   "metadata": {},
   "source": [
    "# Dictionaries (Lexikon)\n",
    "\n",
    "Den sista typen av samling är dictionaries (Lexikon). Till skillnad från de tidigare typerna är lexikon associativa, med ett \"ord\" och dess \"definition\". I python-språket refererar vi till \"ordet\" som \"nyckeln\" (key) och \"definitionen\" som värdet (value). Lexikon kan vara användbara när du vill associera 2 variabler med varandra. Vi gjorde det implicit när vi sorterade pKa genom att behålla 2 separata listor, där indexet i listan bibehölls. Men det kan vara mer praktiskt att associera båda variablerna direkt i en struktur.\n",
    "\n",
    "Lexikon definieras genom att använda `{}`, precis som mängder. Såsom mängder har lexikom ingen ordning och accepterar inte dubbletter, det vill säga 2 identiska nycklar. Nyckeln och värdet associeras med `:`."
   ]
  },
  {
   "cell_type": "code",
   "execution_count": 36,
   "id": "13f0a78e",
   "metadata": {},
   "outputs": [
    {
     "name": "stdout",
     "output_type": "stream",
     "text": [
      "{'Mjölksyra': 3.86, 'Oxalsyra': 1.23, 'Ättiksyra': 4.75, 'Kolsyra': 6.37, 'Bensoesyra': 4.19}\n"
     ]
    }
   ],
   "source": [
    "pka_dict = {\"Mjölksyra\":3.86, \"Oxalsyra\": 1.23, \"Ättiksyra\": 4.75, \"Kolsyra\":6.37, \"Bensoesyra\":4.19}\n",
    "print(pka_dict)\n",
    "tom_dict = {}"
   ]
  },
  {
   "cell_type": "markdown",
   "id": "b52645bc",
   "metadata": {},
   "source": [
    "Elementen i en dictionary kan sedan nås genom att använda nyckeln istället för det vanliga indexet. Med andra ord, `värde = lexikon[nyckel]`:"
   ]
  },
  {
   "cell_type": "code",
   "execution_count": 37,
   "id": "648f87f3",
   "metadata": {},
   "outputs": [
    {
     "name": "stdout",
     "output_type": "stream",
     "text": [
      "Ättiksyra har en pKa på 4.75\n"
     ]
    }
   ],
   "source": [
    "print(\"Ättiksyra har en pKa på\",pka_dict[\"Ättiksyra\"])"
   ]
  },
  {
   "cell_type": "markdown",
   "id": "98d63e25",
   "metadata": {},
   "source": [
    "När vi loopar över element i en dictionary kan vi antingen loopa över nycklarna eller över nyckel-värde-paren."
   ]
  },
  {
   "cell_type": "code",
   "execution_count": 38,
   "id": "501f4679",
   "metadata": {},
   "outputs": [
    {
     "name": "stdout",
     "output_type": "stream",
     "text": [
      "Mjölksyra\n",
      "Oxalsyra\n",
      "Ättiksyra\n",
      "Kolsyra\n",
      "Bensoesyra\n",
      "\n",
      "Mjölksyra har en pKa på 3.86\n",
      "Oxalsyra har en pKa på 1.23\n",
      "Ättiksyra har en pKa på 4.75\n",
      "Kolsyra har en pKa på 6.37\n",
      "Bensoesyra har en pKa på 4.19\n"
     ]
    }
   ],
   "source": [
    "for syra in pka_dict:\n",
    "    print(syra)\n",
    "\n",
    "print()\n",
    "for syra, pka in pka_dict.items():\n",
    "    print(syra,\"har en pKa på\", pka)"
   ]
  },
  {
   "cell_type": "markdown",
   "id": "179a8762",
   "metadata": {},
   "source": [
    "Du kan komma åt nycklarna och värdena som separata listor:"
   ]
  },
  {
   "cell_type": "code",
   "execution_count": 39,
   "id": "5fe59b51",
   "metadata": {},
   "outputs": [
    {
     "name": "stdout",
     "output_type": "stream",
     "text": [
      "['Mjölksyra', 'Oxalsyra', 'Ättiksyra', 'Kolsyra', 'Bensoesyra']\n",
      "[3.86, 1.23, 4.75, 6.37, 4.19]\n"
     ]
    }
   ],
   "source": [
    "print(list(pka_dict.keys()))\n",
    "print(list(pka_dict.values()))"
   ]
  },
  {
   "cell_type": "markdown",
   "id": "290edd99",
   "metadata": {},
   "source": [
    "För att lägga till ett nytt nyckel-nyckel par i en lexikon räcker det att tilldela ett värde till en ny nyckel:"
   ]
  },
  {
   "cell_type": "code",
   "execution_count": 40,
   "id": "226f27db",
   "metadata": {},
   "outputs": [
    {
     "name": "stdout",
     "output_type": "stream",
     "text": [
      "5\n",
      "6\n"
     ]
    }
   ],
   "source": [
    "print(len(pka_dict))\n",
    "pka_dict[\"Citronsyra\"] = 3.08\n",
    "print(len(pka_dict))"
   ]
  },
  {
   "cell_type": "markdown",
   "id": "6c8c9f0a",
   "metadata": {},
   "source": [
    "**Övning:** Använd en översättningsdictionary för att skapa en funktion som konverterar en DNA-sekvens till dess baspar-sekvens och returnerar den resulterande strängen. Påminnelse, basparen är A-T och C-G, så till exempel skulle sekvensen ATCG konverteras till sekvensen TAGC."
   ]
  },
  {
   "cell_type": "code",
   "execution_count": 41,
   "id": "e9f8e915",
   "metadata": {},
   "outputs": [],
   "source": [
    "### BEGIN SOLUTION\n",
    "def baspar(DNA_sekvens):\n",
    "    par_dict = {'A':'T', 'T':'A', 'C':'G', 'G':'C'}\n",
    "    result = \"\"\n",
    "    for c in DNA_sekvens:\n",
    "        result += par_dict[c]\n",
    "    return result\n",
    "### END SOLUTION"
   ]
  },
  {
   "cell_type": "code",
   "execution_count": 42,
   "id": "6ff7b92d",
   "metadata": {},
   "outputs": [],
   "source": [
    "assert baspar('ATGGCGATTA') == 'TACCGCTAAT'"
   ]
  },
  {
   "cell_type": "markdown",
   "id": "85e1eda1",
   "metadata": {},
   "source": [
    "**Övning:** Skriv en liknande funktion som nu översätter DNA-sekvensen till en aminosyrasekvens med hjälp av den givna översättningstabellen. Observera att 3 nukleotidbaser kodar för en enda aminosyra. Print-uttrycket bör berätta om du har lyckats..."
   ]
  },
  {
   "cell_type": "code",
   "execution_count": 43,
   "id": "0012e6f2",
   "metadata": {},
   "outputs": [],
   "source": [
    "def DNA_översättning(dna_sekvens):\n",
    "    översättningstabellen = {\n",
    "        'ATA':'I', 'ATC':'I', 'ATT':'I', 'ATG':'M',\n",
    "        'ACA':'T', 'ACC':'T', 'ACG':'T', 'ACT':'T',\n",
    "        'AAC':'N', 'AAT':'N', 'AAA':'K', 'AAG':'K',\n",
    "        'AGC':'S', 'AGT':'S', 'AGA':'R', 'AGG':'R',                \n",
    "        'CTA':'L', 'CTC':'L', 'CTG':'L', 'CTT':'L',\n",
    "        'CCA':'P', 'CCC':'P', 'CCG':'P', 'CCT':'P',\n",
    "        'CAC':'H', 'CAT':'H', 'CAA':'Q', 'CAG':'Q',\n",
    "        'CGA':'R', 'CGC':'R', 'CGG':'R', 'CGT':'R',\n",
    "        'GTA':'V', 'GTC':'V', 'GTG':'V', 'GTT':'V',\n",
    "        'GCA':'A', 'GCC':'A', 'GCG':'A', 'GCT':'A',\n",
    "        'GAC':'D', 'GAT':'D', 'GAA':'E', 'GAG':'E',\n",
    "        'GGA':'G', 'GGC':'G', 'GGG':'G', 'GGT':'G',\n",
    "        'TCA':'S', 'TCC':'S', 'TCG':'S', 'TCT':'S',\n",
    "        'TTC':'F', 'TTT':'F', 'TTA':'L', 'TTG':'L',\n",
    "        'TAC':'Y', 'TAT':'Y', 'TAA':'_', 'TAG':'_',\n",
    "        'TGC':'C', 'TGT':'C', 'TGA':'_', 'TGG':'W',\n",
    "    }\n",
    "    ### BEGIN SOLUTION\n",
    "    peptid = \"\"\n",
    "    for i in range(int(len(dna_sekvens)/3)):\n",
    "        kodon = dna_sekvens[3*i:3*i+3]\n",
    "        peptid += översättningstabellen[kodon]\n",
    "    return peptid\n",
    "    ### END SOLUTION"
   ]
  },
  {
   "cell_type": "code",
   "execution_count": 44,
   "id": "3cdf084f",
   "metadata": {},
   "outputs": [
    {
     "name": "stdout",
     "output_type": "stream",
     "text": [
      "WELL_PLAYED\n"
     ]
    }
   ],
   "source": [
    "print(DNA_översättning('TGGGAGCTTCTATAACCTCTTGCGTATGAAGAC'))"
   ]
  },
  {
   "cell_type": "code",
   "execution_count": null,
   "id": "077901bd",
   "metadata": {},
   "outputs": [],
   "source": []
  }
 ],
 "metadata": {
  "kernelspec": {
   "display_name": "Python 3 (ipykernel)",
   "language": "python",
   "name": "python3"
  },
  "language_info": {
   "codemirror_mode": {
    "name": "ipython",
    "version": 3
   },
   "file_extension": ".py",
   "mimetype": "text/x-python",
   "name": "python",
   "nbconvert_exporter": "python",
   "pygments_lexer": "ipython3",
   "version": "3.9.13"
  }
 },
 "nbformat": 4,
 "nbformat_minor": 5
}
