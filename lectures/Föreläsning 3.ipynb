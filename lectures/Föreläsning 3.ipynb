{
 "cells": [
  {
   "cell_type": "markdown",
   "id": "f3d54797",
   "metadata": {},
   "source": [
    "# Lists\n",
    "## Concept\n",
    "Often in our codes, we have collections of objects that \"belong together\". It can be a list of molecules, of pKas, of results of a measurement, etc... Those are all things we could store in a spreadsheet, in a table or plot in a graph.\n",
    "\n",
    "We could imagine creating a variable for each of these objects, but it is tedious and we may not know in advance how many there will be.\n",
    "\n",
    "Instead, python has several data types meant to handle collections of items. The simplest of them is the list."
   ]
  },
  {
   "cell_type": "code",
   "execution_count": 1,
   "id": "d976c97c",
   "metadata": {},
   "outputs": [
    {
     "name": "stdout",
     "output_type": "stream",
     "text": [
      "['this', 'is', 'a', 'list']\n"
     ]
    }
   ],
   "source": [
    "mylist = [\"this\", \"is\", \"a\", \"list\"]\n",
    "print(mylist)"
   ]
  },
  {
   "cell_type": "markdown",
   "id": "07a7ec48",
   "metadata": {},
   "source": [
    "The list is defined by the square brackets and any number of elements are separated with a comma.\n",
    "\n",
    "You can store any data type you want in a list, float, int, strings (text), booleans, and even another list. Also you can mix, meaning you can store in the same list elements of different types."
   ]
  },
  {
   "cell_type": "code",
   "execution_count": 2,
   "id": "e1ec2422",
   "metadata": {},
   "outputs": [],
   "source": [
    "empty_list = []\n",
    "chemical_list = [\"C2H4\", \"benzene\",\"oxygen\"]\n",
    "pKa_list = [6.4, 3.2, 8.5, 7.2]\n",
    "list_of_lists = [[\"Oxalic acid\", \"Lactic acid\", \"Acetic acid\"],[1.23, 3.86, 4.75]]"
   ]
  },
  {
   "cell_type": "markdown",
   "id": "e212b0e0",
   "metadata": {},
   "source": [
    "You can also create a list from range:"
   ]
  },
  {
   "cell_type": "code",
   "execution_count": 3,
   "id": "acab0178",
   "metadata": {},
   "outputs": [
    {
     "name": "stdout",
     "output_type": "stream",
     "text": [
      "[0, 1, 2, 3, 4]\n"
     ]
    }
   ],
   "source": [
    "list_from_range = list(range(5))\n",
    "print(list_from_range)"
   ]
  },
  {
   "cell_type": "markdown",
   "id": "0c69c079",
   "metadata": {},
   "source": [
    "## Accessing and modifying list items\n",
    "\n",
    "You can access the length of the list (i.e. the number of elements) using the function \"len\"."
   ]
  },
  {
   "cell_type": "code",
   "execution_count": 4,
   "id": "434ed1a1",
   "metadata": {},
   "outputs": [
    {
     "name": "stdout",
     "output_type": "stream",
     "text": [
      "length of pKa_list = 4\n",
      "length of list_of_lists = 2\n"
     ]
    }
   ],
   "source": [
    "print(\"length of pKa_list =\",len(pKa_list))\n",
    "print(\"length of list_of_lists =\",len(list_of_lists))"
   ]
  },
  {
   "cell_type": "markdown",
   "id": "a2e1f69b",
   "metadata": {},
   "source": [
    "In the list of lists, len counts only 2 elements, since in the primary list, there are indeed only 2 elements (which are both themselves lists of 3 elements).\n",
    "\n",
    "Once formed, you can access the ith element as `A[i]`. Note that python starts indexing at 0, so the first element is actually `A[0]`. "
   ]
  },
  {
   "cell_type": "code",
   "execution_count": 5,
   "id": "c59ac7a4",
   "metadata": {},
   "outputs": [
    {
     "name": "stdout",
     "output_type": "stream",
     "text": [
      "First chemical is C2H4\n",
      "Second chemical is benzene\n",
      "The first list in the list of lists is ['Oxalic acid', 'Lactic acid', 'Acetic acid']\n",
      "The first acid in that list is Oxalic acid\n"
     ]
    }
   ],
   "source": [
    "print(\"First chemical is\",chemical_list[0])\n",
    "print(\"Second chemical is\",chemical_list[1])\n",
    "print(\"The first list in the list of lists is\",list_of_lists[0])\n",
    "print(\"The first acid in that list is\",list_of_lists[0][0])"
   ]
  },
  {
   "cell_type": "markdown",
   "id": "76047fd6",
   "metadata": {},
   "source": [
    "By accessing the specific object in a list, you can also modify it:"
   ]
  },
  {
   "cell_type": "code",
   "execution_count": 6,
   "id": "6126933c",
   "metadata": {},
   "outputs": [
    {
     "name": "stdout",
     "output_type": "stream",
     "text": [
      "['C2H4', 'benzene', 'oxygen']\n",
      "['ethene', 'benzene', 'oxygen']\n"
     ]
    }
   ],
   "source": [
    "print(chemical_list)\n",
    "chemical_list[0] = \"ethene\"\n",
    "print(chemical_list)"
   ]
  },
  {
   "cell_type": "markdown",
   "id": "93a08f57",
   "metadata": {},
   "source": [
    "**Exercise**\n",
    "Loop over the elements of chemical_list and print them:"
   ]
  },
  {
   "cell_type": "code",
   "execution_count": 7,
   "id": "4551492d",
   "metadata": {},
   "outputs": [
    {
     "name": "stdout",
     "output_type": "stream",
     "text": [
      "ethene\n",
      "benzene\n",
      "oxygen\n"
     ]
    }
   ],
   "source": [
    "### BEGIN SOLUTION\n",
    "for i in range(len(chemical_list)):\n",
    "    print(chemical_list[i])\n",
    "### END SOLUTION"
   ]
  },
  {
   "cell_type": "markdown",
   "id": "f84d4b09",
   "metadata": {},
   "source": [
    "There are other (some would argue nicer) ways to loop over elements in a list. The simplest is:"
   ]
  },
  {
   "cell_type": "code",
   "execution_count": 8,
   "id": "4598f5db",
   "metadata": {},
   "outputs": [
    {
     "name": "stdout",
     "output_type": "stream",
     "text": [
      "ethene\n",
      "benzene\n",
      "oxygen\n"
     ]
    }
   ],
   "source": [
    "for chemical in chemical_list:\n",
    "    print(chemical)"
   ]
  },
  {
   "cell_type": "markdown",
   "id": "55a39ff7",
   "metadata": {},
   "source": [
    "And if you need both the index and the element, you can use \"enumerate\":"
   ]
  },
  {
   "cell_type": "code",
   "execution_count": 9,
   "id": "13510e98",
   "metadata": {},
   "outputs": [
    {
     "name": "stdout",
     "output_type": "stream",
     "text": [
      "Chemical 1 is ethene\n",
      "Chemical 2 is benzene\n",
      "Chemical 3 is oxygen\n"
     ]
    }
   ],
   "source": [
    "for i, chemical in enumerate(chemical_list):\n",
    "    print(\"Chemical\",i+1,\"is\",chemical)"
   ]
  },
  {
   "cell_type": "markdown",
   "id": "524f6c0b",
   "metadata": {},
   "source": [
    "**Exercise:** Here is a list of acids and a corresponding list of pKa. Sort both lists by increasing pKa (without using pre-built python sorting functions)."
   ]
  },
  {
   "cell_type": "code",
   "execution_count": 10,
   "id": "7370a2bd",
   "metadata": {},
   "outputs": [],
   "source": [
    "acids_list = [\"Lactic\", \"Oxalic\", \"Acetic\", \"Carbonic\", \"Benzoic\", \"Citric\", \"Formic\"]\n",
    "pKa_list = [3.86, 1.23, 4.75, 6.37, 4.19, 3.08, 3.75]\n",
    "### BEGIN SOLUTION\n",
    "n_acids= len(pKa_list)\n",
    "for i in range(n_acids):\n",
    "    for j in range(i+1,n_acids):\n",
    "        if pKa_list[i] > pKa_list[j]:\n",
    "            pKa_list[i], pKa_list[j] = pKa_list[j], pKa_list[i]\n",
    "            acids_list[i], acids_list[j] = acids_list[j], acids_list[i]\n",
    "### END SOLUTION"
   ]
  },
  {
   "cell_type": "code",
   "execution_count": 11,
   "id": "3cae3b7b",
   "metadata": {},
   "outputs": [],
   "source": [
    "assert acids_list == ['Oxalic', 'Citric', 'Formic', 'Lactic', 'Benzoic', 'Acetic', 'Carbonic']\n",
    "assert pKa_list == [1.23, 3.08, 3.75, 3.86, 4.19, 4.75, 6.37]"
   ]
  },
  {
   "cell_type": "markdown",
   "id": "611c0e3e",
   "metadata": {},
   "source": [
    "## Expanding and combining lists\n",
    "\n",
    "You can add element to a list using append"
   ]
  },
  {
   "cell_type": "code",
   "execution_count": 12,
   "id": "9a17d8a2",
   "metadata": {},
   "outputs": [
    {
     "name": "stdout",
     "output_type": "stream",
     "text": [
      "['ethene', 'benzene', 'oxygen', 'sulfate']\n"
     ]
    }
   ],
   "source": [
    "chemical_list.append(\"sulfate\")\n",
    "print(chemical_list)"
   ]
  },
  {
   "cell_type": "markdown",
   "id": "eb415a45",
   "metadata": {},
   "source": [
    "**Exercise** create the same list as `list(range(5))` but by starting from an empty list, using a loop and append."
   ]
  },
  {
   "cell_type": "code",
   "execution_count": 13,
   "id": "1cc97c61",
   "metadata": {},
   "outputs": [
    {
     "name": "stdout",
     "output_type": "stream",
     "text": [
      "[0, 1, 2, 3, 4]\n"
     ]
    }
   ],
   "source": [
    "### BEGIN SOLUTION\n",
    "mylist = []\n",
    "for i in range(5):\n",
    "    mylist.append(i)\n",
    "print(mylist)\n",
    "### END SOLUTION"
   ]
  },
  {
   "cell_type": "markdown",
   "id": "a1c7b2f3",
   "metadata": {},
   "source": [
    "You can also combine and multiply lists using the arithmetic operators."
   ]
  },
  {
   "cell_type": "code",
   "execution_count": 14,
   "id": "e451007c",
   "metadata": {},
   "outputs": [
    {
     "name": "stdout",
     "output_type": "stream",
     "text": [
      "['ethene', 'benzene', 'oxygen', 'sulfate', 'phosphate', 'propane']\n",
      "['phosphate', 'propane', 'phosphate', 'propane', 'phosphate', 'propane', 'phosphate', 'propane', 'phosphate', 'propane']\n"
     ]
    }
   ],
   "source": [
    "big_list = chemical_list + [\"phosphate\", \"propane\"]\n",
    "print(big_list)\n",
    "print([\"phosphate\", \"propane\"]*5)"
   ]
  },
  {
   "cell_type": "markdown",
   "id": "9195cbea",
   "metadata": {},
   "source": [
    "The multiplication can be useful to initialize a list to 0 or a list of list to empty for example."
   ]
  },
  {
   "cell_type": "code",
   "execution_count": 15,
   "id": "30ca1668",
   "metadata": {},
   "outputs": [
    {
     "name": "stdout",
     "output_type": "stream",
     "text": [
      "[0, 0, 0, 0, 0, 0, 0, 0, 0, 0]\n",
      "[[], [], [], [], [], [], []]\n"
     ]
    }
   ],
   "source": [
    "important_list = [0]*10\n",
    "print(important_list)\n",
    "even_more_important = [[]]*7\n",
    "print(even_more_important)"
   ]
  },
  {
   "cell_type": "markdown",
   "id": "1d0eaabf",
   "metadata": {},
   "source": [
    "## Slicing\n",
    "\n",
    "While it is possible to access list items 1 by 1, there are also ways to extract \"slices\" of the list. The general structure is similar to range, namely we can provide the starting point, end point, and \"index jump\", but they are separated by \":\":"
   ]
  },
  {
   "cell_type": "code",
   "execution_count": 16,
   "id": "2ae4f459",
   "metadata": {},
   "outputs": [
    {
     "name": "stdout",
     "output_type": "stream",
     "text": [
      "['Citric', 'Formic']\n",
      "['Citric', 'Formic']\n",
      "['Benzoic', 'Lactic', 'Formic']\n"
     ]
    }
   ],
   "source": [
    "acids_list == ['Oxalic', 'Citric', 'Formic', 'Lactic', 'Benzoic', 'Acetic', 'Carbonic']\n",
    "print(acids_list[1:3:1]) #from 1 (included) to 3 (excluded) going one by one\n",
    "print(acids_list[1:3]) # If the index jumpy is omitted, 1 is assumed\n",
    "print(acids_list[4:1:-1]) #from 1 to 4 going reverse"
   ]
  },
  {
   "cell_type": "markdown",
   "id": "17db9e50",
   "metadata": {},
   "source": [
    "It is possible to leave the slicing indices empty, which by default will mean the first or last (depending on context):"
   ]
  },
  {
   "cell_type": "code",
   "execution_count": 17,
   "id": "750d8d88",
   "metadata": {},
   "outputs": [
    {
     "name": "stdout",
     "output_type": "stream",
     "text": [
      "['Lactic', 'Benzoic', 'Acetic', 'Carbonic']\n",
      "['Oxalic', 'Citric', 'Formic']\n",
      "['Oxalic', 'Citric', 'Formic', 'Lactic', 'Benzoic', 'Acetic', 'Carbonic']\n",
      "['Carbonic', 'Acetic', 'Benzoic', 'Lactic', 'Formic', 'Citric', 'Oxalic']\n"
     ]
    }
   ],
   "source": [
    "print(acids_list[3:]) # From 3 to last\n",
    "print(acids_list[:3]) # First 3\n",
    "print(acids_list[:]) #Everything\n",
    "print(acids_list[::-1]) #Everything reversed"
   ]
  },
  {
   "cell_type": "markdown",
   "id": "07067353",
   "metadata": {},
   "source": [
    "More surprising perhaps, if you use negative numbers, this corresponds to counting from the end:"
   ]
  },
  {
   "cell_type": "code",
   "execution_count": 18,
   "id": "192970b2",
   "metadata": {},
   "outputs": [
    {
     "name": "stdout",
     "output_type": "stream",
     "text": [
      "Carbonic\n",
      "['Benzoic', 'Acetic', 'Carbonic']\n",
      "['Formic', 'Lactic', 'Benzoic']\n"
     ]
    }
   ],
   "source": [
    "print(acids_list[-1]) # The last item\n",
    "print(acids_list[-3:]) # The last 3 items\n",
    "print(acids_list[2:-2]) # Leave 2 at beginning and end"
   ]
  },
  {
   "cell_type": "markdown",
   "id": "fb424b9b",
   "metadata": {},
   "source": [
    "## Unpacking\n",
    "\n",
    "If you want to assign elements of a list back to individual variables, you can use a shortcut called \"unpacking\":"
   ]
  },
  {
   "cell_type": "code",
   "execution_count": 19,
   "id": "64a33ef3",
   "metadata": {},
   "outputs": [
    {
     "name": "stdout",
     "output_type": "stream",
     "text": [
      "a = 5.5\n",
      "b = 7.8\n"
     ]
    }
   ],
   "source": [
    "mylist = [5.5, 7.8]\n",
    "a, b = mylist\n",
    "print(\"a =\", a)\n",
    "print(\"b =\", b)"
   ]
  },
  {
   "cell_type": "markdown",
   "id": "0a47ebcc",
   "metadata": {},
   "source": [
    "This packing/unpacking is implicitely used when you provide a list of returns to a function, and can also be used to switch the values of 2 variables (like we did in the sorting exercise):"
   ]
  },
  {
   "cell_type": "code",
   "execution_count": 20,
   "id": "ef534df2",
   "metadata": {},
   "outputs": [
    {
     "name": "stdout",
     "output_type": "stream",
     "text": [
      "a = 7.8\n",
      "b = 5.5\n"
     ]
    }
   ],
   "source": [
    "a, b = b, a\n",
    "print(\"a =\", a)\n",
    "print(\"b =\", b)"
   ]
  },
  {
   "cell_type": "markdown",
   "id": "a45629d2",
   "metadata": {},
   "source": [
    "# Tuples\n",
    "\n",
    "Tuples are in many ways similar to lists, but the main difference is that they are immutable, meaning they cannot be modified after construction. This can be used for lists that should not be modified (for example the list of atom symbols)."
   ]
  },
  {
   "cell_type": "code",
   "execution_count": 21,
   "id": "cecbd09c",
   "metadata": {},
   "outputs": [
    {
     "name": "stdout",
     "output_type": "stream",
     "text": [
      "C\n",
      "Pb\n"
     ]
    }
   ],
   "source": [
    "Atoms = ('0', 'H', 'He', 'Li', 'Be', 'B', 'C', 'N', 'O', 'F', 'Ne', 'Na', 'Mg', #Added 0 to make sure Atoms[1] = 'H'\n",
    "        'Al', 'Si', 'P', 'S', 'Cl', 'Ar', 'K', 'Ca', 'Sc', 'Ti', 'V', 'Cr',\n",
    "        'Mn', 'Fe', 'Co', 'Ni', 'Cu', 'Zn', 'Ga', 'Ge', 'As', 'Se', 'Br', 'Kr',\n",
    "        'Rb', 'Sr', 'Y', 'Zr', 'Nb', 'Mo', 'Tc', 'Ru', 'Rh', 'Pd', 'Ag', 'Cd',\n",
    "        'In', 'Sn', 'Sb', 'Te', 'I', 'Xe', 'Cs', 'Ba', 'La', 'Ce', 'Pr', 'Nd',\n",
    "        'Pm', 'Sm', 'Eu', 'Gd', 'Tb', 'Dy', 'Ho', 'Er', 'Tm', 'Yb', 'Lu', 'Hf',\n",
    "        'Ta', 'W', 'Re', 'Os', 'Ir', 'Pt', 'Au', 'Hg', 'Tl', 'Pb', 'Bi', 'Po',\n",
    "        'At', 'Rn')\n",
    "print(Atoms[6])\n",
    "print(Atoms[82])"
   ]
  },
  {
   "cell_type": "markdown",
   "id": "5e09e9cf",
   "metadata": {},
   "source": [
    "If you try to change one of its elements, you will see it fails.\n",
    "\n",
    "Since they are only a small nuance compared to list, we will not go further with it beyond mention their existence."
   ]
  },
  {
   "cell_type": "markdown",
   "id": "3960bccc",
   "metadata": {},
   "source": [
    "# Sets\n",
    "\n",
    "Sets are another nuance on the list, but with somewhat more practical use. The main difference with a list is that sets cannot have duplicates, and their order is undefined (it may vary from what you initially assign due to the way it is implemented internally).\n",
    "\n",
    "They are created using {} instead of []."
   ]
  },
  {
   "cell_type": "code",
   "execution_count": 22,
   "id": "dc651a24",
   "metadata": {},
   "outputs": [
    {
     "name": "stdout",
     "output_type": "stream",
     "text": [
      "{'benzene', 'C2H4', 'oxygen'}\n"
     ]
    }
   ],
   "source": [
    "set_of_molecule = {\"C2H4\", \"benzene\",\"oxygen\"}\n",
    "print(set_of_molecule) # Note that the order may be different from your input\n",
    "empty_set = set() # using {} will create an empty dictionary instead, see later sections"
   ]
  },
  {
   "cell_type": "markdown",
   "id": "6c22c117",
   "metadata": {},
   "source": [
    "They again behave similarly to list. However, being unordered, you cannot access elements using `A[i]` (but you can loop over all elements). Similarly, instead of append (which means add at the end), there is only a function \"add\"."
   ]
  },
  {
   "cell_type": "code",
   "execution_count": 23,
   "id": "21c76d85",
   "metadata": {},
   "outputs": [
    {
     "name": "stdout",
     "output_type": "stream",
     "text": [
      "{'sulfate', 'benzene', 'C2H4', 'oxygen'}\n"
     ]
    }
   ],
   "source": [
    "set_of_molecule.add(\"sulfate\")\n",
    "print(set_of_molecule)"
   ]
  },
  {
   "cell_type": "markdown",
   "id": "39ea32df",
   "metadata": {},
   "source": [
    "But if you try to add an already existing molecule, nothing will change."
   ]
  },
  {
   "cell_type": "code",
   "execution_count": 24,
   "id": "83482c35",
   "metadata": {},
   "outputs": [
    {
     "name": "stdout",
     "output_type": "stream",
     "text": [
      "4\n",
      "4\n"
     ]
    }
   ],
   "source": [
    "print(len(set_of_molecule))\n",
    "set_of_molecule.add(\"benzene\")\n",
    "print(len(set_of_molecule))"
   ]
  },
  {
   "cell_type": "markdown",
   "id": "124bc712",
   "metadata": {},
   "source": [
    "Like for list, you can combine sets, but it is done using the \"|\" symbol (or equivalently the union function). Unlike for list, the substraction also exist!"
   ]
  },
  {
   "cell_type": "code",
   "execution_count": 25,
   "id": "91cb0899",
   "metadata": {},
   "outputs": [
    {
     "name": "stdout",
     "output_type": "stream",
     "text": [
      "{'benzene', 'C2H4', 'oxygen', 'HCl', 'sulfate'}\n",
      "{'benzene', 'C2H4', 'oxygen', 'HCl', 'sulfate'}\n",
      "{'benzene', 'oxygen'}\n"
     ]
    }
   ],
   "source": [
    "print(set_of_molecule | {\"HCl\", \"oxygen\"})\n",
    "print(set_of_molecule.union({\"HCl\", \"oxygen\"}))\n",
    "print(set_of_molecule - {\"C2H4\",\"sulfate\"})"
   ]
  },
  {
   "cell_type": "markdown",
   "id": "3f996c7a",
   "metadata": {},
   "source": [
    "You can transform a list to a set and vice versa:"
   ]
  },
  {
   "cell_type": "code",
   "execution_count": 26,
   "id": "8a48e48e",
   "metadata": {},
   "outputs": [
    {
     "name": "stdout",
     "output_type": "stream",
     "text": [
      "{'list', 'this', 'a', 'was'}\n",
      "['list', 'this', 'a', 'was']\n"
     ]
    }
   ],
   "source": [
    "set_from_list = set([\"this\", \"was\", \"a\", \"list\"])\n",
    "print(set_from_list) # as pronounced by Yoda\n",
    "list_from_set = list(set_from_list)\n",
    "print(list_from_set) # the order is not frozen to whatever the set had"
   ]
  },
  {
   "cell_type": "markdown",
   "id": "429501f4",
   "metadata": {},
   "source": [
    "Sets are also the most efficient way (which can be relevant for large scale applications) to check if an item is present."
   ]
  },
  {
   "cell_type": "code",
   "execution_count": 27,
   "id": "dc5d95c4",
   "metadata": {},
   "outputs": [
    {
     "name": "stdout",
     "output_type": "stream",
     "text": [
      "benzene was here\n",
      "sulfate was here\n"
     ]
    }
   ],
   "source": [
    "for molecule in (\"benzene\", \"sulfate\"):\n",
    "    if molecule in set_of_molecule:\n",
    "        print(molecule, \"was here\")\n",
    "    else:\n",
    "        print(molecule, \"was not here\")"
   ]
  },
  {
   "cell_type": "markdown",
   "id": "7ae6b600",
   "metadata": {},
   "source": [
    "**Exercise** Your lab maintains a list of the chemicals currently available. Your new project needs a set of molecules to be able to perform the synthesis of ibuprofen.\n",
    "\n",
    "Using only basic set arithmetics, create the set of molecules that will need to be bought (i.e. that are not already in the lab) and then create the total set of molecules available once these molecules are bought."
   ]
  },
  {
   "cell_type": "code",
   "execution_count": 28,
   "id": "8d210618",
   "metadata": {},
   "outputs": [],
   "source": [
    "solvents_in_lab = [\"acetone\", \"toluene\", \"methanol\", \"ethanol\", \"water\"]\n",
    "molecules_in_lab = [\"HCl\", \"sulfuric acid\", \"magnesium\", \"LiAlH4\", \"NaBH4\", \"AlCl3\", \"NaCl\"]\n",
    "ibuprofen_chemicals = [\"isobutylbenzene\" , \"acetic anhydride\", \"AlCl3\", \"NaBH4\", \"methanol\", \"HCl\", \"magnesium\", \"CO2\"]\n",
    "\n",
    "### BEGIN SOLUTION\n",
    "to_buy = set(ibuprofen_chemicals) - set(solvents_in_lab) - set(molecules_in_lab)\n",
    "total_available = set(ibuprofen_chemicals + solvents_in_lab + molecules_in_lab)\n",
    "### END SOLUTION\n",
    "assert to_buy == {'isobutylbenzene', 'acetic anhydride', 'CO2'}\n",
    "assert total_available == {'acetone', 'methanol', 'AlCl3', 'toluene', 'water', 'NaCl', 'NaBH4', 'magnesium', 'CO2', 'acetic anhydride', 'HCl', 'LiAlH4', 'sulfuric acid', 'isobutylbenzene', 'ethanol'}"
   ]
  },
  {
   "cell_type": "markdown",
   "id": "7e415145",
   "metadata": {},
   "source": [
    "# Strings\n",
    "\n",
    "We have been manipulating strings for a little while now, but have not looked into their properties. Actually a string is also a collection, a collection of individual characters. This means they can be manipulated in very much the same way as lists."
   ]
  },
  {
   "cell_type": "code",
   "execution_count": 29,
   "id": "130f9a87",
   "metadata": {},
   "outputs": [
    {
     "name": "stdout",
     "output_type": "stream",
     "text": [
      "15\n",
      "i\n",
      "benzene\n",
      "i\n",
      "s\n",
      "o\n",
      "b\n",
      "u\n",
      "t\n",
      "y\n",
      "l\n",
      "b\n",
      "e\n",
      "n\n",
      "z\n",
      "e\n",
      "n\n",
      "e\n",
      "isobutylbenzene is a molecule\n"
     ]
    }
   ],
   "source": [
    "molecule = \"isobutylbenzene\"\n",
    "print(len(molecule))\n",
    "print(molecule[0])\n",
    "print(molecule[-7:])\n",
    "for character in molecule:\n",
    "    print(character)\n",
    "print(molecule + \" is a molecule\") # notice the + (and the following space) instead of the usual comma "
   ]
  },
  {
   "cell_type": "markdown",
   "id": "888c931e",
   "metadata": {},
   "source": [
    "Strings also have a lot of handy functions to help manipulating them. The list below is non exhaustive."
   ]
  },
  {
   "cell_type": "code",
   "execution_count": 30,
   "id": "adc5ac68",
   "metadata": {},
   "outputs": [
    {
     "name": "stdout",
     "output_type": "stream",
     "text": [
      "C is a letter: True\n",
      "C is a number: False\n",
      "C is upper case: True\n",
      "C is lower case: False\n",
      "\n",
      "Butadiene in lower case is: butadiene\n",
      "Butadiene in upper case is: BUTADIENE\n",
      "There are 12 hydrogens.\n",
      "\n",
      "Splitting a string: [' A + B ', ' C ']\n",
      "+ is in the reaction:  True in position 3\n",
      "Now this is chemistry  A + B -> C \n",
      "\n"
     ]
    }
   ],
   "source": [
    "# Query\n",
    "print(\"C is a letter:\",\"C\".isalpha())\n",
    "print(\"C is a number:\",\"C\".isnumeric())\n",
    "print(\"C is upper case:\",\"C\".isupper())\n",
    "print(\"C is lower case:\",\"C\".islower())\n",
    "print()\n",
    "\n",
    "# Transform\n",
    "string = \"Butadiene\"\n",
    "print(\"Butadiene in lower case is:\", string.lower())\n",
    "print(\"Butadiene in upper case is:\", string.upper())\n",
    "string = \"C6H12O6\"\n",
    "print(\"There are\",int(string[3:5]),\"hydrogens.\")\n",
    "print()\n",
    "\n",
    "# Look for specific symbols\n",
    "reaction = \" A + B = C \"\n",
    "print(\"Splitting a string:\", reaction.split(\"=\")) # Split into a list around the chosen symbol\n",
    "print(\"+ is in the reaction: \",\"+\" in reaction, \"in position\", reaction.index(\"+\"))\n",
    "print(\"Now this is chemistry\", reaction.replace(\"=\",\"->\"))\n",
    "print()"
   ]
  },
  {
   "cell_type": "markdown",
   "id": "7df0d368",
   "metadata": {},
   "source": [
    "To get a more exhaustive list, do not forget you can ask python for help"
   ]
  },
  {
   "cell_type": "code",
   "execution_count": 31,
   "id": "2f2e4fca",
   "metadata": {},
   "outputs": [
    {
     "name": "stdout",
     "output_type": "stream",
     "text": [
      "Help on class str in module builtins:\n",
      "\n",
      "class str(object)\n",
      " |  str(object='') -> str\n",
      " |  str(bytes_or_buffer[, encoding[, errors]]) -> str\n",
      " |  \n",
      " |  Create a new string object from the given object. If encoding or\n",
      " |  errors is specified, then the object must expose a data buffer\n",
      " |  that will be decoded using the given encoding and error handler.\n",
      " |  Otherwise, returns the result of object.__str__() (if defined)\n",
      " |  or repr(object).\n",
      " |  encoding defaults to sys.getdefaultencoding().\n",
      " |  errors defaults to 'strict'.\n",
      " |  \n",
      " |  Methods defined here:\n",
      " |  \n",
      " |  __add__(self, value, /)\n",
      " |      Return self+value.\n",
      " |  \n",
      " |  __contains__(self, key, /)\n",
      " |      Return key in self.\n",
      " |  \n",
      " |  __eq__(self, value, /)\n",
      " |      Return self==value.\n",
      " |  \n",
      " |  __format__(self, format_spec, /)\n",
      " |      Return a formatted version of the string as described by format_spec.\n",
      " |  \n",
      " |  __ge__(self, value, /)\n",
      " |      Return self>=value.\n",
      " |  \n",
      " |  __getattribute__(self, name, /)\n",
      " |      Return getattr(self, name).\n",
      " |  \n",
      " |  __getitem__(self, key, /)\n",
      " |      Return self[key].\n",
      " |  \n",
      " |  __getnewargs__(...)\n",
      " |  \n",
      " |  __gt__(self, value, /)\n",
      " |      Return self>value.\n",
      " |  \n",
      " |  __hash__(self, /)\n",
      " |      Return hash(self).\n",
      " |  \n",
      " |  __iter__(self, /)\n",
      " |      Implement iter(self).\n",
      " |  \n",
      " |  __le__(self, value, /)\n",
      " |      Return self<=value.\n",
      " |  \n",
      " |  __len__(self, /)\n",
      " |      Return len(self).\n",
      " |  \n",
      " |  __lt__(self, value, /)\n",
      " |      Return self<value.\n",
      " |  \n",
      " |  __mod__(self, value, /)\n",
      " |      Return self%value.\n",
      " |  \n",
      " |  __mul__(self, value, /)\n",
      " |      Return self*value.\n",
      " |  \n",
      " |  __ne__(self, value, /)\n",
      " |      Return self!=value.\n",
      " |  \n",
      " |  __repr__(self, /)\n",
      " |      Return repr(self).\n",
      " |  \n",
      " |  __rmod__(self, value, /)\n",
      " |      Return value%self.\n",
      " |  \n",
      " |  __rmul__(self, value, /)\n",
      " |      Return value*self.\n",
      " |  \n",
      " |  __sizeof__(self, /)\n",
      " |      Return the size of the string in memory, in bytes.\n",
      " |  \n",
      " |  __str__(self, /)\n",
      " |      Return str(self).\n",
      " |  \n",
      " |  capitalize(self, /)\n",
      " |      Return a capitalized version of the string.\n",
      " |      \n",
      " |      More specifically, make the first character have upper case and the rest lower\n",
      " |      case.\n",
      " |  \n",
      " |  casefold(self, /)\n",
      " |      Return a version of the string suitable for caseless comparisons.\n",
      " |  \n",
      " |  center(self, width, fillchar=' ', /)\n",
      " |      Return a centered string of length width.\n",
      " |      \n",
      " |      Padding is done using the specified fill character (default is a space).\n",
      " |  \n",
      " |  count(...)\n",
      " |      S.count(sub[, start[, end]]) -> int\n",
      " |      \n",
      " |      Return the number of non-overlapping occurrences of substring sub in\n",
      " |      string S[start:end].  Optional arguments start and end are\n",
      " |      interpreted as in slice notation.\n",
      " |  \n",
      " |  encode(self, /, encoding='utf-8', errors='strict')\n",
      " |      Encode the string using the codec registered for encoding.\n",
      " |      \n",
      " |      encoding\n",
      " |        The encoding in which to encode the string.\n",
      " |      errors\n",
      " |        The error handling scheme to use for encoding errors.\n",
      " |        The default is 'strict' meaning that encoding errors raise a\n",
      " |        UnicodeEncodeError.  Other possible values are 'ignore', 'replace' and\n",
      " |        'xmlcharrefreplace' as well as any other name registered with\n",
      " |        codecs.register_error that can handle UnicodeEncodeErrors.\n",
      " |  \n",
      " |  endswith(...)\n",
      " |      S.endswith(suffix[, start[, end]]) -> bool\n",
      " |      \n",
      " |      Return True if S ends with the specified suffix, False otherwise.\n",
      " |      With optional start, test S beginning at that position.\n",
      " |      With optional end, stop comparing S at that position.\n",
      " |      suffix can also be a tuple of strings to try.\n",
      " |  \n",
      " |  expandtabs(self, /, tabsize=8)\n",
      " |      Return a copy where all tab characters are expanded using spaces.\n",
      " |      \n",
      " |      If tabsize is not given, a tab size of 8 characters is assumed.\n",
      " |  \n",
      " |  find(...)\n",
      " |      S.find(sub[, start[, end]]) -> int\n",
      " |      \n",
      " |      Return the lowest index in S where substring sub is found,\n",
      " |      such that sub is contained within S[start:end].  Optional\n",
      " |      arguments start and end are interpreted as in slice notation.\n",
      " |      \n",
      " |      Return -1 on failure.\n",
      " |  \n",
      " |  format(...)\n",
      " |      S.format(*args, **kwargs) -> str\n",
      " |      \n",
      " |      Return a formatted version of S, using substitutions from args and kwargs.\n",
      " |      The substitutions are identified by braces ('{' and '}').\n",
      " |  \n",
      " |  format_map(...)\n",
      " |      S.format_map(mapping) -> str\n",
      " |      \n",
      " |      Return a formatted version of S, using substitutions from mapping.\n",
      " |      The substitutions are identified by braces ('{' and '}').\n",
      " |  \n",
      " |  index(...)\n",
      " |      S.index(sub[, start[, end]]) -> int\n",
      " |      \n",
      " |      Return the lowest index in S where substring sub is found,\n",
      " |      such that sub is contained within S[start:end].  Optional\n",
      " |      arguments start and end are interpreted as in slice notation.\n",
      " |      \n",
      " |      Raises ValueError when the substring is not found.\n",
      " |  \n",
      " |  isalnum(self, /)\n",
      " |      Return True if the string is an alpha-numeric string, False otherwise.\n",
      " |      \n",
      " |      A string is alpha-numeric if all characters in the string are alpha-numeric and\n",
      " |      there is at least one character in the string.\n",
      " |  \n",
      " |  isalpha(self, /)\n",
      " |      Return True if the string is an alphabetic string, False otherwise.\n",
      " |      \n",
      " |      A string is alphabetic if all characters in the string are alphabetic and there\n",
      " |      is at least one character in the string.\n",
      " |  \n",
      " |  isascii(self, /)\n",
      " |      Return True if all characters in the string are ASCII, False otherwise.\n",
      " |      \n",
      " |      ASCII characters have code points in the range U+0000-U+007F.\n",
      " |      Empty string is ASCII too.\n",
      " |  \n",
      " |  isdecimal(self, /)\n",
      " |      Return True if the string is a decimal string, False otherwise.\n",
      " |      \n",
      " |      A string is a decimal string if all characters in the string are decimal and\n",
      " |      there is at least one character in the string.\n",
      " |  \n",
      " |  isdigit(self, /)\n",
      " |      Return True if the string is a digit string, False otherwise.\n",
      " |      \n",
      " |      A string is a digit string if all characters in the string are digits and there\n",
      " |      is at least one character in the string.\n",
      " |  \n",
      " |  isidentifier(self, /)\n",
      " |      Return True if the string is a valid Python identifier, False otherwise.\n",
      " |      \n",
      " |      Call keyword.iskeyword(s) to test whether string s is a reserved identifier,\n",
      " |      such as \"def\" or \"class\".\n",
      " |  \n",
      " |  islower(self, /)\n",
      " |      Return True if the string is a lowercase string, False otherwise.\n",
      " |      \n",
      " |      A string is lowercase if all cased characters in the string are lowercase and\n",
      " |      there is at least one cased character in the string.\n",
      " |  \n",
      " |  isnumeric(self, /)\n",
      " |      Return True if the string is a numeric string, False otherwise.\n",
      " |      \n",
      " |      A string is numeric if all characters in the string are numeric and there is at\n",
      " |      least one character in the string.\n",
      " |  \n",
      " |  isprintable(self, /)\n",
      " |      Return True if the string is printable, False otherwise.\n",
      " |      \n",
      " |      A string is printable if all of its characters are considered printable in\n",
      " |      repr() or if it is empty.\n",
      " |  \n",
      " |  isspace(self, /)\n",
      " |      Return True if the string is a whitespace string, False otherwise.\n",
      " |      \n",
      " |      A string is whitespace if all characters in the string are whitespace and there\n",
      " |      is at least one character in the string.\n",
      " |  \n",
      " |  istitle(self, /)\n",
      " |      Return True if the string is a title-cased string, False otherwise.\n",
      " |      \n",
      " |      In a title-cased string, upper- and title-case characters may only\n",
      " |      follow uncased characters and lowercase characters only cased ones.\n",
      " |  \n",
      " |  isupper(self, /)\n",
      " |      Return True if the string is an uppercase string, False otherwise.\n",
      " |      \n",
      " |      A string is uppercase if all cased characters in the string are uppercase and\n",
      " |      there is at least one cased character in the string.\n",
      " |  \n",
      " |  join(self, iterable, /)\n",
      " |      Concatenate any number of strings.\n",
      " |      \n",
      " |      The string whose method is called is inserted in between each given string.\n",
      " |      The result is returned as a new string.\n",
      " |      \n",
      " |      Example: '.'.join(['ab', 'pq', 'rs']) -> 'ab.pq.rs'\n",
      " |  \n",
      " |  ljust(self, width, fillchar=' ', /)\n",
      " |      Return a left-justified string of length width.\n",
      " |      \n",
      " |      Padding is done using the specified fill character (default is a space).\n",
      " |  \n",
      " |  lower(self, /)\n",
      " |      Return a copy of the string converted to lowercase.\n",
      " |  \n",
      " |  lstrip(self, chars=None, /)\n",
      " |      Return a copy of the string with leading whitespace removed.\n",
      " |      \n",
      " |      If chars is given and not None, remove characters in chars instead.\n",
      " |  \n",
      " |  partition(self, sep, /)\n",
      " |      Partition the string into three parts using the given separator.\n",
      " |      \n",
      " |      This will search for the separator in the string.  If the separator is found,\n",
      " |      returns a 3-tuple containing the part before the separator, the separator\n",
      " |      itself, and the part after it.\n",
      " |      \n",
      " |      If the separator is not found, returns a 3-tuple containing the original string\n",
      " |      and two empty strings.\n",
      " |  \n",
      " |  removeprefix(self, prefix, /)\n",
      " |      Return a str with the given prefix string removed if present.\n",
      " |      \n",
      " |      If the string starts with the prefix string, return string[len(prefix):].\n",
      " |      Otherwise, return a copy of the original string.\n",
      " |  \n",
      " |  removesuffix(self, suffix, /)\n",
      " |      Return a str with the given suffix string removed if present.\n",
      " |      \n",
      " |      If the string ends with the suffix string and that suffix is not empty,\n",
      " |      return string[:-len(suffix)]. Otherwise, return a copy of the original\n",
      " |      string.\n",
      " |  \n",
      " |  replace(self, old, new, count=-1, /)\n",
      " |      Return a copy with all occurrences of substring old replaced by new.\n",
      " |      \n",
      " |        count\n",
      " |          Maximum number of occurrences to replace.\n",
      " |          -1 (the default value) means replace all occurrences.\n",
      " |      \n",
      " |      If the optional argument count is given, only the first count occurrences are\n",
      " |      replaced.\n",
      " |  \n",
      " |  rfind(...)\n",
      " |      S.rfind(sub[, start[, end]]) -> int\n",
      " |      \n",
      " |      Return the highest index in S where substring sub is found,\n",
      " |      such that sub is contained within S[start:end].  Optional\n",
      " |      arguments start and end are interpreted as in slice notation.\n",
      " |      \n",
      " |      Return -1 on failure.\n",
      " |  \n",
      " |  rindex(...)\n",
      " |      S.rindex(sub[, start[, end]]) -> int\n",
      " |      \n",
      " |      Return the highest index in S where substring sub is found,\n",
      " |      such that sub is contained within S[start:end].  Optional\n",
      " |      arguments start and end are interpreted as in slice notation.\n",
      " |      \n",
      " |      Raises ValueError when the substring is not found.\n",
      " |  \n",
      " |  rjust(self, width, fillchar=' ', /)\n",
      " |      Return a right-justified string of length width.\n",
      " |      \n",
      " |      Padding is done using the specified fill character (default is a space).\n",
      " |  \n",
      " |  rpartition(self, sep, /)\n",
      " |      Partition the string into three parts using the given separator.\n",
      " |      \n",
      " |      This will search for the separator in the string, starting at the end. If\n",
      " |      the separator is found, returns a 3-tuple containing the part before the\n",
      " |      separator, the separator itself, and the part after it.\n",
      " |      \n",
      " |      If the separator is not found, returns a 3-tuple containing two empty strings\n",
      " |      and the original string.\n",
      " |  \n",
      " |  rsplit(self, /, sep=None, maxsplit=-1)\n",
      " |      Return a list of the words in the string, using sep as the delimiter string.\n",
      " |      \n",
      " |        sep\n",
      " |          The delimiter according which to split the string.\n",
      " |          None (the default value) means split according to any whitespace,\n",
      " |          and discard empty strings from the result.\n",
      " |        maxsplit\n",
      " |          Maximum number of splits to do.\n",
      " |          -1 (the default value) means no limit.\n",
      " |      \n",
      " |      Splits are done starting at the end of the string and working to the front.\n",
      " |  \n",
      " |  rstrip(self, chars=None, /)\n",
      " |      Return a copy of the string with trailing whitespace removed.\n",
      " |      \n",
      " |      If chars is given and not None, remove characters in chars instead.\n",
      " |  \n",
      " |  split(self, /, sep=None, maxsplit=-1)\n",
      " |      Return a list of the words in the string, using sep as the delimiter string.\n",
      " |      \n",
      " |      sep\n",
      " |        The delimiter according which to split the string.\n",
      " |        None (the default value) means split according to any whitespace,\n",
      " |        and discard empty strings from the result.\n",
      " |      maxsplit\n",
      " |        Maximum number of splits to do.\n",
      " |        -1 (the default value) means no limit.\n",
      " |  \n",
      " |  splitlines(self, /, keepends=False)\n",
      " |      Return a list of the lines in the string, breaking at line boundaries.\n",
      " |      \n",
      " |      Line breaks are not included in the resulting list unless keepends is given and\n",
      " |      true.\n",
      " |  \n",
      " |  startswith(...)\n",
      " |      S.startswith(prefix[, start[, end]]) -> bool\n",
      " |      \n",
      " |      Return True if S starts with the specified prefix, False otherwise.\n",
      " |      With optional start, test S beginning at that position.\n",
      " |      With optional end, stop comparing S at that position.\n",
      " |      prefix can also be a tuple of strings to try.\n",
      " |  \n",
      " |  strip(self, chars=None, /)\n",
      " |      Return a copy of the string with leading and trailing whitespace removed.\n",
      " |      \n",
      " |      If chars is given and not None, remove characters in chars instead.\n",
      " |  \n",
      " |  swapcase(self, /)\n",
      " |      Convert uppercase characters to lowercase and lowercase characters to uppercase.\n",
      " |  \n",
      " |  title(self, /)\n",
      " |      Return a version of the string where each word is titlecased.\n",
      " |      \n",
      " |      More specifically, words start with uppercased characters and all remaining\n",
      " |      cased characters have lower case.\n",
      " |  \n",
      " |  translate(self, table, /)\n",
      " |      Replace each character in the string using the given translation table.\n",
      " |      \n",
      " |        table\n",
      " |          Translation table, which must be a mapping of Unicode ordinals to\n",
      " |          Unicode ordinals, strings, or None.\n",
      " |      \n",
      " |      The table must implement lookup/indexing via __getitem__, for instance a\n",
      " |      dictionary or list.  If this operation raises LookupError, the character is\n",
      " |      left untouched.  Characters mapped to None are deleted.\n",
      " |  \n",
      " |  upper(self, /)\n",
      " |      Return a copy of the string converted to uppercase.\n",
      " |  \n",
      " |  zfill(self, width, /)\n",
      " |      Pad a numeric string with zeros on the left, to fill a field of the given width.\n",
      " |      \n",
      " |      The string is never truncated.\n",
      " |  \n",
      " |  ----------------------------------------------------------------------\n",
      " |  Static methods defined here:\n",
      " |  \n",
      " |  __new__(*args, **kwargs) from builtins.type\n",
      " |      Create and return a new object.  See help(type) for accurate signature.\n",
      " |  \n",
      " |  maketrans(...)\n",
      " |      Return a translation table usable for str.translate().\n",
      " |      \n",
      " |      If there is only one argument, it must be a dictionary mapping Unicode\n",
      " |      ordinals (integers) or characters to Unicode ordinals, strings or None.\n",
      " |      Character keys will be then converted to ordinals.\n",
      " |      If there are two arguments, they must be strings of equal length, and\n",
      " |      in the resulting dictionary, each character in x will be mapped to the\n",
      " |      character at the same position in y. If there is a third argument, it\n",
      " |      must be a string, whose characters will be mapped to None in the result.\n",
      "\n"
     ]
    }
   ],
   "source": [
    "help(str)"
   ]
  },
  {
   "cell_type": "markdown",
   "id": "ce5d6d88",
   "metadata": {},
   "source": [
    "**Exercise** Create a function that returns the set of all atoms present in a string. Since atoms can have either one or 2 letters (we will ignore those with 3), when you have an upper case letter, just check if the next character is lower case. If so, they form a single atom, else they are separate."
   ]
  },
  {
   "cell_type": "code",
   "execution_count": 32,
   "id": "7ea6c5ba",
   "metadata": {},
   "outputs": [],
   "source": [
    "### BEGIN SOLUTION\n",
    "def unique_atom_list(string):\n",
    "    total_set = set()\n",
    "    n_chars = len(string)\n",
    "    for i, atom in enumerate(string):\n",
    "        if atom.isupper():\n",
    "            if i+1 < n_chars and string[i+1].islower():\n",
    "                atom += string[i+1]\n",
    "            total_set.add(atom)\n",
    "    return total_set\n",
    "### END SOLUTION"
   ]
  },
  {
   "cell_type": "code",
   "execution_count": 33,
   "id": "ddb43224",
   "metadata": {},
   "outputs": [],
   "source": [
    "assert unique_atom_list(\"NaCl\") == {\"Na\", \"Cl\"}\n",
    "assert unique_atom_list(\"H2O\") == {\"H\", \"O\"}\n",
    "assert unique_atom_list(\"C6H12O6\") == {\"C\", \"H\", \"O\"}\n",
    "assert unique_atom_list(\"Fe(CN)6\") == {\"Fe\", \"C\", \"N\"}\n",
    "assert unique_atom_list(\"6CO2 + 6H2O → C6H12O6 + 6O2\") == {\"C\", \"O\", \"H\"}"
   ]
  },
  {
   "cell_type": "markdown",
   "id": "12209a2f",
   "metadata": {},
   "source": [
    "# Dictionaries\n",
    "\n",
    "The last type of collection is dictionaries. Unlike most of the previous one, those are associative, with a \"word\" and its \"definition\". In python language, we refer to the \"word\" as the \"key\" and the \"definition\" as the value. It can be useful whenever you want to associate 2 variables. We did it implicitely when we sorted the pKa by keeping 2 separate lists, the index in the list being maintained, but it can be more convenient to associate directly both variables in one structure.\n",
    "\n",
    "Dictionaries are defined by using {}, like sets, and like sets, they have no order and do not accept duplicates, i.e. 2 identical \"words\". The key and value are associated with \":\"."
   ]
  },
  {
   "cell_type": "code",
   "execution_count": 34,
   "id": "13f0a78e",
   "metadata": {},
   "outputs": [
    {
     "name": "stdout",
     "output_type": "stream",
     "text": [
      "{'Lactic acid': 3.86, 'Oxalic acid': 1.23, 'Acetic acid': 4.75, 'Carbonic acid': 6.37, 'Benzoic acid': 4.19}\n"
     ]
    }
   ],
   "source": [
    "pka_dict = {\"Lactic acid\":3.86, \"Oxalic acid\": 1.23, \"Acetic acid\": 4.75, \"Carbonic acid\":6.37, \"Benzoic acid\":4.19}\n",
    "print(pka_dict)\n",
    "empty_dict = {}"
   ]
  },
  {
   "cell_type": "markdown",
   "id": "b52645bc",
   "metadata": {},
   "source": [
    "The elements are then accessed by using the key in place of the usual index. In other words `value = dict[key]`:"
   ]
  },
  {
   "cell_type": "code",
   "execution_count": 35,
   "id": "648f87f3",
   "metadata": {},
   "outputs": [
    {
     "name": "stdout",
     "output_type": "stream",
     "text": [
      "Lactic acid has a pKa of 3.86\n"
     ]
    }
   ],
   "source": [
    "print(\"Lactic acid has a pKa of\",pka_dict[\"Lactic acid\"])"
   ]
  },
  {
   "cell_type": "markdown",
   "id": "98d63e25",
   "metadata": {},
   "source": [
    "When looping over elements, we can only loop over the keys or the key-value pairs."
   ]
  },
  {
   "cell_type": "code",
   "execution_count": 36,
   "id": "501f4679",
   "metadata": {},
   "outputs": [
    {
     "name": "stdout",
     "output_type": "stream",
     "text": [
      "Lactic acid\n",
      "Oxalic acid\n",
      "Acetic acid\n",
      "Carbonic acid\n",
      "Benzoic acid\n",
      "Lactic acid has a pKa of 3.86\n",
      "Oxalic acid has a pKa of 1.23\n",
      "Acetic acid has a pKa of 4.75\n",
      "Carbonic acid has a pKa of 6.37\n",
      "Benzoic acid has a pKa of 4.19\n"
     ]
    }
   ],
   "source": [
    "for acid in pka_dict:\n",
    "    print(acid)\n",
    "\n",
    "for acid, pka in pka_dict.items():\n",
    "    print(acid,\"has a pKa of\", pka)"
   ]
  },
  {
   "cell_type": "markdown",
   "id": "179a8762",
   "metadata": {},
   "source": [
    "You can access the keys and values as separate lists:"
   ]
  },
  {
   "cell_type": "code",
   "execution_count": 37,
   "id": "5fe59b51",
   "metadata": {},
   "outputs": [
    {
     "name": "stdout",
     "output_type": "stream",
     "text": [
      "['Lactic acid', 'Oxalic acid', 'Acetic acid', 'Carbonic acid', 'Benzoic acid']\n",
      "[3.86, 1.23, 4.75, 6.37, 4.19]\n"
     ]
    }
   ],
   "source": [
    "print(list(pka_dict.keys()))\n",
    "print(list(pka_dict.values()))"
   ]
  },
  {
   "cell_type": "markdown",
   "id": "290edd99",
   "metadata": {},
   "source": [
    "To add a new entry, it is enough to assign a value to a new key:"
   ]
  },
  {
   "cell_type": "code",
   "execution_count": 38,
   "id": "226f27db",
   "metadata": {},
   "outputs": [
    {
     "name": "stdout",
     "output_type": "stream",
     "text": [
      "5\n",
      "6\n"
     ]
    }
   ],
   "source": [
    "print(len(pka_dict))\n",
    "pka_dict[\"Citric acid\"] = 3.08\n",
    "print(len(pka_dict))"
   ]
  },
  {
   "cell_type": "markdown",
   "id": "6c8c9f0a",
   "metadata": {},
   "source": [
    "**Exercise** Using a translation dictionary, create a function that convert a DNA sequence into its base pair sequence and returns the resulting string. Reminder, the base pairs are A-T and C-G, so for example, the sequence ATCG would be converted into the sequence TAGC."
   ]
  },
  {
   "cell_type": "code",
   "execution_count": 39,
   "id": "e9f8e915",
   "metadata": {},
   "outputs": [],
   "source": [
    "### BEGIN SOLUTION\n",
    "def base_pair(DNA_string):\n",
    "    pair_dict = {'A':'T', 'T':'A', 'C':'G', 'G':'C'}\n",
    "    result = \"\"\n",
    "    for c in DNA_string:\n",
    "        result += pair_dict[c]\n",
    "    return result\n",
    "### END SOLUTION"
   ]
  },
  {
   "cell_type": "code",
   "execution_count": 40,
   "id": "6ff7b92d",
   "metadata": {},
   "outputs": [],
   "source": [
    "assert base_pair('ATGGCGATTA') == 'TACCGCTAAT'"
   ]
  },
  {
   "cell_type": "markdown",
   "id": "85e1eda1",
   "metadata": {},
   "source": [
    "Write a similar function that now translates the DNA sequence into an amino acid sequence using the translation table given below. Note that 3 nucleobases code for a single amino acid. The print statement should tell you if you have succeeded..."
   ]
  },
  {
   "cell_type": "code",
   "execution_count": 41,
   "id": "0012e6f2",
   "metadata": {},
   "outputs": [],
   "source": [
    "def DNA_translation(DNA_string):\n",
    "    translation_table = {\n",
    "        'ATA':'I', 'ATC':'I', 'ATT':'I', 'ATG':'M',\n",
    "        'ACA':'T', 'ACC':'T', 'ACG':'T', 'ACT':'T',\n",
    "        'AAC':'N', 'AAT':'N', 'AAA':'K', 'AAG':'K',\n",
    "        'AGC':'S', 'AGT':'S', 'AGA':'R', 'AGG':'R',                \n",
    "        'CTA':'L', 'CTC':'L', 'CTG':'L', 'CTT':'L',\n",
    "        'CCA':'P', 'CCC':'P', 'CCG':'P', 'CCT':'P',\n",
    "        'CAC':'H', 'CAT':'H', 'CAA':'Q', 'CAG':'Q',\n",
    "        'CGA':'R', 'CGC':'R', 'CGG':'R', 'CGT':'R',\n",
    "        'GTA':'V', 'GTC':'V', 'GTG':'V', 'GTT':'V',\n",
    "        'GCA':'A', 'GCC':'A', 'GCG':'A', 'GCT':'A',\n",
    "        'GAC':'D', 'GAT':'D', 'GAA':'E', 'GAG':'E',\n",
    "        'GGA':'G', 'GGC':'G', 'GGG':'G', 'GGT':'G',\n",
    "        'TCA':'S', 'TCC':'S', 'TCG':'S', 'TCT':'S',\n",
    "        'TTC':'F', 'TTT':'F', 'TTA':'L', 'TTG':'L',\n",
    "        'TAC':'Y', 'TAT':'Y', 'TAA':'_', 'TAG':'_',\n",
    "        'TGC':'C', 'TGT':'C', 'TGA':'_', 'TGG':'W',\n",
    "    }\n",
    "    ### BEGIN SOLUTION\n",
    "    peptide = \"\"\n",
    "    for i in range(int(len(DNA_string)/3)):\n",
    "        codon = DNA_string[3*i:3*i+3]\n",
    "        peptide += translation_table[codon]\n",
    "    return peptide\n",
    "    ### END SOLUTION"
   ]
  },
  {
   "cell_type": "code",
   "execution_count": 42,
   "id": "3cdf084f",
   "metadata": {},
   "outputs": [
    {
     "name": "stdout",
     "output_type": "stream",
     "text": [
      "WELL_PLAYED\n"
     ]
    }
   ],
   "source": [
    "print(DNA_translation('TGGGAGCTTCTATAACCTCTTGCGTATGAAGAC'))"
   ]
  },
  {
   "cell_type": "code",
   "execution_count": null,
   "id": "077901bd",
   "metadata": {},
   "outputs": [],
   "source": []
  }
 ],
 "metadata": {
  "kernelspec": {
   "display_name": "Python 3 (ipykernel)",
   "language": "python",
   "name": "python3"
  },
  "language_info": {
   "codemirror_mode": {
    "name": "ipython",
    "version": 3
   },
   "file_extension": ".py",
   "mimetype": "text/x-python",
   "name": "python",
   "nbconvert_exporter": "python",
   "pygments_lexer": "ipython3",
   "version": "3.9.13"
  }
 },
 "nbformat": 4,
 "nbformat_minor": 5
}
