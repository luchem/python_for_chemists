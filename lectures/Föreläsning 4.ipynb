{
 "cells": [
  {
   "cell_type": "markdown",
   "id": "cb744e33",
   "metadata": {},
   "source": [
    "## Rita grafer (plotta)\n",
    "En viktig del av vetenskap är att på ett bra och vettigt sätt kunna visulasiera sin data. I python görs detta enkelt genom ett bibliotek som heter `matplotlib`. Vi ska nu testa och se vilka funktionalliteter detta bibliotek har. Vi börjar med att importera det och samtidigt skapa kortkommandot plt (för plot)."
   ]
  },
  {
   "cell_type": "code",
   "execution_count": null,
   "id": "9b787554",
   "metadata": {},
   "outputs": [],
   "source": [
    "import matplotlib\n",
    "import matplotlib.pyplot as plt\n",
    "import numpy as np"
   ]
  },
  {
   "cell_type": "markdown",
   "id": "01329d0b",
   "metadata": {},
   "source": [
    "### Vi börjar genom att skapa två listor med tal"
   ]
  },
  {
   "cell_type": "code",
   "execution_count": null,
   "id": "072b69cb",
   "metadata": {},
   "outputs": [],
   "source": [
    "C = 1.\n",
    "k=0.2\n",
    "dt = 0.01\n",
    "T=1000\n",
    "Cr = []\n",
    "t = []\n",
    "Cr.append(C)\n",
    "t.append(0)\n",
    "#print(0,C)\n",
    "for i in range(0,T):\n",
    "    C = C*(1.-k*dt)\n",
    "#    print((i+1)*dt,C)\n",
    "#    Cr.append(C*(1.+0.1*(np.random.random()-0.5))) # Här simulerar vi experimentellt \"brus\"\n",
    "#    Cr.append(C*(1+np.random.normal(0,0.05))) # Här simulerar vi experimentellt \"brus\"\n",
    "    Cr.append(C+np.random.normal(0,0.0)) # Här simulerar vi experimentellt \"brus\"\n",
    "    t.append((i+1)*dt)\n",
    "    \n",
    "    \n",
    "#print(Cr)\n",
    "t=np.asarray(t) # Detta är en numpy funktion, men vi behöver den för att underlätta att rita funktioner"
   ]
  },
  {
   "cell_type": "markdown",
   "id": "4b4154b9",
   "metadata": {},
   "source": [
    "## Plot()\n",
    "Vi använder nu oss av `plt.plot()` för att visualisera vår data. Som ni ser nedan så tar `plt.plot()` i detta fallet två argument, första är $x$-värdena och den andra $y$-värdena. Funktionen `plt.show()` visar grafen.\n",
    "I Jupyter så kan bilden enkelt sparas genom att dra figuren till en katalog eller skrivbordet."
   ]
  },
  {
   "cell_type": "code",
   "execution_count": null,
   "id": "5bc197a0",
   "metadata": {
    "scrolled": true
   },
   "outputs": [],
   "source": [
    "plt.plot(t,Cr)\n",
    "plt.show()"
   ]
  },
  {
   "cell_type": "markdown",
   "id": "1b5b0fb9",
   "metadata": {},
   "source": [
    "### Man kan enkelt ändra stilen på sina linjer, eller välja att ha dem som symboler\n",
    "\n",
    "I detta fall har vi ändrar vi `linestyle`, också förkortat `ls`.\n"
   ]
  },
  {
   "cell_type": "code",
   "execution_count": null,
   "id": "539a385e",
   "metadata": {
    "scrolled": true
   },
   "outputs": [],
   "source": [
    "plt.plot(t,Cr,ls='-')\n",
    "plt.show()"
   ]
  },
  {
   "cell_type": "markdown",
   "id": "fca47a84",
   "metadata": {},
   "source": [
    "# Övning 1:\n",
    "\n",
    "Ändra linjestilen. Testa `'-'`,`':'` och `'-.'`"
   ]
  },
  {
   "cell_type": "markdown",
   "id": "d66f00bb",
   "metadata": {},
   "source": [
    "### Använda markörer istället\n",
    "\n",
    "Detta kan enkelt göras genom att lägga till argumentet `marker`. Oftast stängs linjen av genom `ls=''`."
   ]
  },
  {
   "cell_type": "code",
   "execution_count": null,
   "id": "45f0cdfc",
   "metadata": {
    "scrolled": true
   },
   "outputs": [],
   "source": [
    "plt.plot(t,Cr,ls='',marker='o')\n",
    "plt.show()"
   ]
  },
  {
   "cell_type": "markdown",
   "id": "7e9e79d7",
   "metadata": {},
   "source": [
    "# Övning 2:\n",
    "\n",
    "Testa att ändra markören från `'o'` till `'s'` eller `'<'`. Testa även att lägga till argumentet `markevery=40`."
   ]
  },
  {
   "cell_type": "markdown",
   "id": "d603df8e",
   "metadata": {},
   "source": [
    "### Ändra färg\n",
    "\n",
    "Kan även detta enkelt göras genom argumentetn color, eller kort `c='k'`"
   ]
  },
  {
   "cell_type": "code",
   "execution_count": null,
   "id": "ae9263af",
   "metadata": {
    "scrolled": true
   },
   "outputs": [],
   "source": [
    "C = 1.\n",
    "k=0.2\n",
    "dt = 0.01\n",
    "T=1000\n",
    "Cr = []\n",
    "t = []\n",
    "Cr.append(C)\n",
    "t.append(0)\n",
    "#print(0,C)\n",
    "for i in range(0,T):\n",
    "    C = C*(1.-k*dt)\n",
    "#    print((i+1)*dt,C)\n",
    "#    Cr.append(C*(1.+0.1*(np.random.random()-0.5))) # Här simulerar vi experimentellt \"brus\"\n",
    "#    Cr.append(C*(1+np.random.normal(0,0.05))) # Här simulerar vi experimentellt \"brus\"\n",
    "    Cr.append(C+np.random.normal(0,0.05)) # Här simulerar vi experimentellt \"brus\"\n",
    "    t.append((i+1)*dt)\n",
    "    \n",
    "    \n",
    "#print(Cr)\n",
    "t=np.asarray(t) # Detta är en numpy funktion, men vi behöver den för att underlätta att rita funktioner\n",
    "plt.plot(t,Cr,ls='',marker='o',markevery=40,c='k')\n",
    "plt.plot(t,np.exp(-0.2*t),ls='--',c='r')\n",
    "plt.show()"
   ]
  },
  {
   "cell_type": "markdown",
   "id": "53797629",
   "metadata": {},
   "source": [
    "### Lägg till beskrivande text på axlarna samt ändra storlek på linjer/markörer\n",
    "\n",
    "Storlek ändrar vi genom `ms` (eller `markersize`) och linjetjocklek med `lw` (eller `linewidth`)."
   ]
  },
  {
   "cell_type": "code",
   "execution_count": null,
   "id": "857aace6",
   "metadata": {},
   "outputs": [],
   "source": [
    "plt.plot(t,Cr,ls='',marker='o',markevery=40,color='k',ms=10)\n",
    "plt.plot(t,np.exp(-0.2*t),ls='--',c='r',lw=3)\n",
    "plt.xlabel('tid')\n",
    "plt.ylabel('C(t)')\n",
    "plt.show()"
   ]
  },
  {
   "cell_type": "markdown",
   "id": "3ddac1a5",
   "metadata": {},
   "source": [
    "# Övning 3\n",
    "Ändra symbolerna (se [här](https://matplotlib.org/stable/api/markers_api.html)), färgerna (se [här](https://matplotlib.org/stable/gallery/color/named_colors.html#sphx-glr-gallery-color-named-colors-py)), och linjen i ovanstående graf. Lägg dessutom till enheter på axlarna (t.ex. [M] och [s])"
   ]
  },
  {
   "cell_type": "markdown",
   "id": "bfe3b1fc",
   "metadata": {},
   "source": [
    "### Lägg till figurlegender\n",
    "Ibland vill man ha beskrivande legender i figurern. Även detta är lätt gjort."
   ]
  },
  {
   "cell_type": "code",
   "execution_count": null,
   "id": "226c8b2e",
   "metadata": {},
   "outputs": [],
   "source": [
    "plt.plot(t,Cr,ls='',marker='o',markevery=40,color='k',ms=10,label='Vår data')\n",
    "plt.plot(t,np.exp(-0.2*t),ls='--',c='r',lw=3,label='Teori')\n",
    "plt.xlabel('tid [s]')\n",
    "plt.ylabel('C(t) [M]')\n",
    "plt.legend()\n",
    "plt.show()"
   ]
  },
  {
   "cell_type": "markdown",
   "id": "9ed5070f",
   "metadata": {},
   "source": [
    "# Log-lin och Log-log figurer\n",
    "\n",
    "I vissa fall är det rätt beskrivande att visualisera i en log-lin eller log-log figur.\n",
    "I vårt fall är det vettigt att ha det i en log-lin plot. \n",
    "* Fråga: Varför är det vettigt att ha det i en log-lin plot?"
   ]
  },
  {
   "cell_type": "code",
   "execution_count": null,
   "id": "13199fd1",
   "metadata": {},
   "outputs": [],
   "source": [
    "plt.plot(t,Cr,ls='',marker='o',markevery=40,color='k',ms=10,label='Vår data')\n",
    "plt.plot(t,np.exp(-0.2*t),ls='--',c='r',lw=3,label='Teori')\n",
    "plt.xlabel('tid [s]')\n",
    "plt.ylabel('C(t) [M]')\n",
    "plt.yscale('log')\n",
    "plt.legend()\n",
    "plt.ylim([0.001,20])\n",
    "plt.show()"
   ]
  },
  {
   "cell_type": "markdown",
   "id": "7af96d2a",
   "metadata": {},
   "source": [
    "# Övning 4:\n",
    "\n",
    "I ovanstående fall har vi använt oss av `plt.ylim()`, där vi kan bestämma i vilket $y$-interaval vi ska visa grafen. Dock så finns det rätt mycket \"död\" yta. Ändra så att gränserna så att du minimerar \"död\" ytan men forfarande visar mesta av datan."
   ]
  },
  {
   "cell_type": "markdown",
   "id": "11dbd629",
   "metadata": {},
   "source": [
    "# Histograms och scatter plots och error-bars och inset\n",
    "\n",
    "Två andra typer av grafer är ju diverse histogram och scatter plots"
   ]
  },
  {
   "cell_type": "code",
   "execution_count": null,
   "id": "b236d94c",
   "metadata": {},
   "outputs": [],
   "source": [
    "C = 1.\n",
    "k=0.2\n",
    "dt = 0.01\n",
    "T=1000\n",
    "Cr = []\n",
    "Er = []\n",
    "t = []\n",
    "Cr.append(C)\n",
    "Er.append(0)\n",
    "t.append(0)\n",
    "#print(0,C)\n",
    "for i in range(0,T):\n",
    "    C = C*(1.-k*dt)\n",
    "#    print((i+1)*dt,C)\n",
    "#    E = 0.1*(np.random.random()-0.5)\n",
    "    E = np.random.normal(0,0.05)\n",
    "#    Cr.append(C*(1.+E)) # Här simulerar vi experimentellt \"brus\"\n",
    "    Cr.append(C+E) # Här simulerar vi experimentellt \"brus\"\n",
    "    Er.append(abs(E))\n",
    "    t.append((i+1)*dt)\n",
    "    \n",
    "#print(Cr)\n",
    "t=np.asarray(t)\n",
    "#Cr=np.asarray(Cr)\n",
    "Er=np.asarray(Er)\n",
    "\n",
    "font = {'family' : 'Times New Roman',\n",
    "        'style' : 'normal',\n",
    "        'weight' : 'bold',\n",
    "        'size'   : 22}\n",
    "\n",
    "matplotlib.rc('font', **font)"
   ]
  },
  {
   "cell_type": "code",
   "execution_count": null,
   "id": "637660f5",
   "metadata": {},
   "outputs": [],
   "source": [
    "num = 100\n",
    "plt.errorbar(t[::num],Cr[::num],yerr=Er[::num]*2.,ls='',marker='o',capsize=2)\n",
    "plt.tick_params(axis='both', which='major', labelsize=20,width=5)\n",
    "#plt.xticks(fontsize=14)\n",
    "plt.show()"
   ]
  },
  {
   "cell_type": "markdown",
   "id": "2907f793",
   "metadata": {},
   "source": [
    "# Övning 5\n",
    "* Vad gör [::num] i plot-kommandot? Ändra `num` värdet och se vad som händer.\n",
    "* Texten på axlarna har ändrats. Var gjorde vi det? \n",
    "* Ändra texten till `Times New Roman` och `ìtalic` men inte felstilt (`normal`) samt minska textstorleken."
   ]
  },
  {
   "cell_type": "markdown",
   "id": "cb74d539",
   "metadata": {},
   "source": [
    "### Flera figurer i en figur\n",
    "\n",
    "Det går även bra att ha flera figurer i en figur.\n",
    "Här plot:ar vi två figurer ovanför varandra (en i lin-lin och den andra i log-lin)."
   ]
  },
  {
   "cell_type": "code",
   "execution_count": null,
   "id": "fb8eddc0",
   "metadata": {},
   "outputs": [],
   "source": [
    "fig1=plt.figure(figsize=(6,3))\n",
    "ax1=fig1.add_subplot(2,1,1)  #add_subplot NxM matris i detta fallet 2 rader och en kolumn, vi väljer sedan 1 figuren\n",
    "ax2=fig1.add_subplot(2,1,2)  #add_second axes\n",
    "ax1.plot(t,np.exp(-0.2*t),ls='--',c='r',lw=3,label='Teori')\n",
    "ax2.plot(t,np.exp(-0.2*t),ls='--',c='k',lw=3,label='Semilog Teori')\n",
    "ax2.set_yscale('log') # OBS notera skillnaden från innan \n",
    "ax1.xaxis.tick_top()\n",
    "plt.show()"
   ]
  },
  {
   "cell_type": "markdown",
   "id": "5e39b49c",
   "metadata": {},
   "source": [
    "### Fråga: \n",
    "Vad gjorde förresten `xaxis.tick_top()`?"
   ]
  },
  {
   "cell_type": "markdown",
   "id": "8c8422c0",
   "metadata": {},
   "source": [
    "### Ha en figur i figuren (så kallat inset) \n",
    "\n",
    "Det går även bra att ha en eller flera figuer i en figur. Detta är ett smart sätt att använda sig av död yta.\n",
    "Vi tittar på exemplet nedan. Här kallar vi på fig-objekten och tilldelar nya axlar. Sen ritar vi en ny figur i denna (i vårt fall samma data, men där vi ändrat intervallet för $x$)."
   ]
  },
  {
   "cell_type": "code",
   "execution_count": null,
   "id": "707b2a17",
   "metadata": {},
   "outputs": [],
   "source": [
    "fig,ax=plt.subplots(figsize=(6,6))\n",
    "plt.plot(t,Cr,ls='',marker='o',markevery=40,color='k',ms=10,label='Vår data')\n",
    "plt.plot(t,np.exp(-0.2*t),ls='--',c='r',lw=3,label='Teori')\n",
    "plt.xlabel('tid [s]')\n",
    "plt.ylabel('C(t) [M]')\n",
    "axin = fig.add_axes([0.55, 0.55, 0.3, 0.3])\n",
    "plt.plot(t,Cr,ls='',marker='o',markevery=40,color='k',ms=10,label='Vår data')\n",
    "plt.plot(t,np.exp(-0.2*t),ls='--',c='r',lw=3,label='Teori')\n",
    "plt.xlim([2,4])\n",
    "#plt.legend()\n",
    "#pltin = fig.inset_axes([0.55, 0.02, 0.43, 0.43])\n",
    "plt.show()"
   ]
  },
  {
   "cell_type": "markdown",
   "id": "8bdcfcbd",
   "metadata": {},
   "source": [
    "# Spara din plot\n",
    "Vi kan även spara vår plot. Matplotlib stöder flera filformat (png,pdf,osv.). Vi kan även precisera dpi (dots per inch)."
   ]
  },
  {
   "cell_type": "code",
   "execution_count": null,
   "id": "748d8733",
   "metadata": {},
   "outputs": [],
   "source": [
    "fig,ax=plt.subplots(figsize=(6,6))\n",
    "plt.plot(t,Cr,ls='',marker='o',markevery=40,color='k',ms=10,label='Vår data')\n",
    "plt.plot(t,np.exp(-0.2*t),ls='--',c='r',lw=3,label='Teori')\n",
    "plt.xlabel('tid [s]')\n",
    "plt.ylabel('C(t) [M]')\n",
    "#plt.tight_layout()\n",
    "axin = fig.add_axes([0.55, 0.55, 0.3, 0.3])\n",
    "plt.plot(t,Cr,ls='',marker='o',markevery=40,color='k',ms=10,label='Vår data')\n",
    "plt.plot(t,np.exp(-0.2*t),ls='--',c='r',lw=3,label='Teori')\n",
    "plt.xlim([2,4])\n",
    "\n",
    "plt.savefig('test.pdf',dpi=300)"
   ]
  },
  {
   "cell_type": "markdown",
   "id": "708b9255",
   "metadata": {},
   "source": [
    "# Övning 5\n",
    "Hitta din sparade fil. När du hittat den ser du att figuren är beskuren på ett konstigt sätt.\n",
    "Testa att göra cellen igen, men denna gången med `plt.tight_layout()`, dvs. ta bort `#` tecknet framför. Blev det bättre?"
   ]
  },
  {
   "cell_type": "markdown",
   "id": "c883030b",
   "metadata": {},
   "source": [
    "# Parameterar för graferna\n",
    "\n",
    "Parametrar till graferna finns lagrade i rcParams. Som ni ser när ni kör cellen nedanför är detta en ganska lång lista.\n"
   ]
  },
  {
   "cell_type": "code",
   "execution_count": null,
   "id": "fdd7fe1a",
   "metadata": {},
   "outputs": [],
   "source": [
    "plt.rcParams"
   ]
  },
  {
   "cell_type": "code",
   "execution_count": null,
   "id": "74ed1ce3",
   "metadata": {},
   "outputs": [],
   "source": [
    "plt.rcParams.update({'font.size':40})\n",
    "fig,ax=plt.subplots(figsize=(6,6))\n",
    "plt.plot(t,Cr,ls='',marker='o',markevery=40,color='k',ms=10,label='Vår data')\n",
    "plt.plot(t,np.exp(-0.2*t),ls='--',c='r',lw=3,label='Teori')\n",
    "plt.xlabel('tid [s]')\n",
    "plt.ylabel('C(t) [M]')\n",
    "plt.tight_layout()\n",
    "axin = fig.add_axes([0.55, 0.55, 0.3, 0.3])\n",
    "plt.plot(t,Cr,ls='',marker='o',markevery=40,color='k',ms=10,label='Vår data')\n",
    "plt.plot(t,np.exp(-0.2*t),ls='--',c='r',lw=3,label='Teori')\n",
    "plt.xlim([2,4])\n",
    "plt.show()"
   ]
  },
  {
   "cell_type": "markdown",
   "id": "67b93a81",
   "metadata": {},
   "source": [
    "# Grundinställningar\n",
    "\n",
    "Vi kan enkelt gå tillbaka till grundinställningarna genom följande kommando."
   ]
  },
  {
   "cell_type": "code",
   "execution_count": null,
   "id": "4c3e0413",
   "metadata": {},
   "outputs": [],
   "source": [
    "plt.rcdefaults()\n",
    "fig,ax=plt.subplots(figsize=(6,6))\n",
    "plt.plot(t,Cr,ls='',marker='o',markevery=40,color='k',ms=10,label='Vår data')\n",
    "plt.plot(t,np.exp(-0.2*t),ls='--',c='r',lw=3,label='Teori')\n",
    "plt.xlabel('tid [s]')\n",
    "plt.ylabel('C(t) [M]')\n",
    "plt.tight_layout()\n",
    "axin = fig.add_axes([0.55, 0.55, 0.3, 0.3])\n",
    "plt.plot(t,Cr,ls='',marker='o',markevery=40,color='k',ms=10,label='Vår data')\n",
    "plt.plot(t,np.exp(-0.2*t),ls='--',c='r',lw=3,label='Teori')\n",
    "plt.xlim([2,4])\n",
    "plt.show()"
   ]
  },
  {
   "cell_type": "markdown",
   "id": "65ca2beb",
   "metadata": {},
   "source": [
    "# Felstaplar\n",
    "\n",
    "I nedanstående fall så sparar vi nu även våra fel. I detta fallet har vi genererat våra felen (enligt en normalföredlning). Men i många fall så har vi en uppfattning av felet då vi gör upprepade experiment."
   ]
  },
  {
   "cell_type": "code",
   "execution_count": null,
   "id": "3eb42ace",
   "metadata": {},
   "outputs": [],
   "source": [
    "C = 1.\n",
    "k=0.2\n",
    "dt = 0.01\n",
    "T=1000\n",
    "Cr = []\n",
    "Er = []\n",
    "t = []\n",
    "tr = []\n",
    "Err = []\n",
    "Cr.append(C)\n",
    "Er.append(0)\n",
    "Err.append(0)\n",
    "t.append(0)\n",
    "tr.append(0)\n",
    "#print(0,C)\n",
    "for i in range(0,T):\n",
    "    C = C*(1.-k*dt)\n",
    "#    print((i+1)*dt,C)\n",
    "#    E = 0.1*(np.random.random()-0.5)\n",
    "    E = np.random.normal(0,0.05)\n",
    "    Et = np.random.normal(0,0.02)\n",
    "#    Cr.append(C*(1.+E)) # Här simulerar vi experimentellt \"brus\"\n",
    "    Cr.append(C+E) # Här simulerar vi experimentellt \"brus\"\n",
    "    Er.append(abs(E))\n",
    "    Err.append(E)\n",
    "    t.append((i+1)*dt+Et)\n",
    "    tr.append(Et)\n",
    "    \n",
    "#print(Cr)\n",
    "t=np.asarray(t)\n",
    "#Cr=np.asarray(Cr)\n",
    "#Er=np.asarray(Er)"
   ]
  },
  {
   "cell_type": "markdown",
   "id": "e7cf6866",
   "metadata": {},
   "source": [
    "### Felet i concentrationen\n",
    "Vi börjar med att titta på felet vi lagt på (eller uppmät) i vår koncentration. I detta fallet så ritar vi grafen med hjälp av `scatter()`-funktionen, som markerar ut våra punkter."
   ]
  },
  {
   "cell_type": "code",
   "execution_count": null,
   "id": "f5382ee1",
   "metadata": {},
   "outputs": [],
   "source": [
    "plt.scatter(t,Err)\n",
    "plt.show()"
   ]
  },
  {
   "cell_type": "markdown",
   "id": "d61c9e04",
   "metadata": {},
   "source": [
    "### Vi kan även anta att vi har en mätosäkerhet i tidtagningen.\n",
    "\n",
    "Låt oss nu generera en graf som visar felen för varje mätpunkt. \n",
    "Så på $x$-axeln har vi en punkts fel i tid och på $$y-axeln felet i koncentration. \n",
    "Vi ser att bi får en massa punkter med en högra täthet i mitten."
   ]
  },
  {
   "cell_type": "code",
   "execution_count": null,
   "id": "cb78eec3",
   "metadata": {},
   "outputs": [],
   "source": [
    "plt.scatter(tr,Err)\n",
    "plt.show()"
   ]
  },
  {
   "cell_type": "markdown",
   "id": "47b05382",
   "metadata": {},
   "source": [
    "### Fråga\n",
    "Vad betyder det att datan är sprid runt nollan och origo i dessa grafer?"
   ]
  },
  {
   "cell_type": "markdown",
   "id": "c998c73e",
   "metadata": {},
   "source": [
    "# Övning\n",
    "Anta att felet i tiden är direkt proportionelligt mot felet i koncentrationen. Hur ser då din scatter-graf ut?"
   ]
  },
  {
   "cell_type": "markdown",
   "id": "78ac9867",
   "metadata": {},
   "source": [
    "# Histogram\n",
    "\n",
    "Matplotlib innehåller även funktioner för att göra stabeldiagram. I fallet nedan så använder vi oss av `plt.hist()`. Vi kan välja att ange antal staplar ('bins')."
   ]
  },
  {
   "cell_type": "code",
   "execution_count": null,
   "id": "7f1e5df4",
   "metadata": {},
   "outputs": [],
   "source": [
    "plt.hist(Err,alpha=0.5,bins=10)\n",
    "plt.hist(tr,alpha=0.5,bins=10)\n",
    "plt.show()"
   ]
  },
  {
   "cell_type": "markdown",
   "id": "40947509",
   "metadata": {},
   "source": [
    "# Övning 7\n",
    "\n",
    "* Ändra antal staplar och se vad som händer.\n",
    "* Vad göra `alpha`? Ändra dess värden (mellan 0 och 1)"
   ]
  },
  {
   "cell_type": "code",
   "execution_count": null,
   "id": "dceabfa0",
   "metadata": {},
   "outputs": [],
   "source": [
    "plt.hist(Err,alpha=0.5,bins=10,edgecolor='w')\n",
    "plt.hist(Err,alpha=0.5,bins=20,edgecolor='k')\n",
    "plt.show()"
   ]
  },
  {
   "cell_type": "markdown",
   "id": "575711cd",
   "metadata": {},
   "source": [
    "### I ovanstående fallet ser vi att höjden varierar med antal staplar.\n",
    "I fallet man är ute efter en sannolikhetstäthet, så kan man precisera \"density=True\". Den ser till att integralen/summan blir 1, dvs. normaliserad."
   ]
  },
  {
   "cell_type": "code",
   "execution_count": null,
   "id": "6d5604d9",
   "metadata": {
    "scrolled": true
   },
   "outputs": [],
   "source": [
    "plt.hist(Err,alpha=0.5,bins=10,density=True,edgecolor='w')\n",
    "plt.hist(tr,alpha=0.5,bins=10,density=True,edgecolor='k')\n",
    "plt.show()"
   ]
  },
  {
   "cell_type": "markdown",
   "id": "da674cc4",
   "metadata": {},
   "source": [
    "# Övning\n",
    "Gör två överlappande stabel diagram för samma data (och med 'density=True'), men där du ändra antal staplar.\n",
    "Vad ser vi?"
   ]
  },
  {
   "cell_type": "markdown",
   "id": "ae580c31",
   "metadata": {},
   "source": [
    "# Övning \n",
    "I nedan stående fall så ritar vi ut två normalfördelingar (båda är normaliserad) med en viss bredd.\n",
    "Vår feldata var genererade från två olika normalfördelningar. \n",
    "Ändra 'sigma' så att du för ett bra överlapp. Vad är egentligen rätt värden?"
   ]
  },
  {
   "cell_type": "code",
   "execution_count": null,
   "id": "c2731c31",
   "metadata": {},
   "outputs": [],
   "source": [
    "plt.hist(Err,alpha=0.5,bins=20,density=True,ec='k')\n",
    "plt.hist(tr,alpha=0.5,bins=10,density=True,ec='k')\n",
    "tt = np.linspace(-0.25,0.25,1000)\n",
    "sigma = 0.005\n",
    "plt.plot(tt,1./(sigma*np.sqrt(2.*np.pi))*np.exp(-tt*tt/(2.*sigma**2)))\n",
    "sigma = 0.1\n",
    "plt.plot(tt,1./(sigma*np.sqrt(2.*np.pi))*np.exp(-tt*tt/(2.*sigma**2)))\n",
    "plt.show()\n"
   ]
  },
  {
   "cell_type": "markdown",
   "id": "354e218e",
   "metadata": {},
   "source": [
    "# 2D Histogram\n",
    "\n",
    "Vi kan också skapa tvådimensionella stabeldiagram. Istället för stablar brukar man ha en färgkarta som visar på frekvensen eller magnituden. Det liknar rätt mycket histogram, men nu ger vi två \"arrays\". Vi visar även färgkartan till höger."
   ]
  },
  {
   "cell_type": "code",
   "execution_count": null,
   "id": "51c35066",
   "metadata": {
    "scrolled": false
   },
   "outputs": [],
   "source": [
    "plt.hist2d(tr, Err, density=True,bins=20)\n",
    "plt.colorbar()\n",
    "plt.show()"
   ]
  },
  {
   "cell_type": "markdown",
   "id": "0e4437d6",
   "metadata": {},
   "source": [
    "# Övning\n",
    "* Ändra antal staplar\n",
    "* Ändra färgkatan genom att lägga in `cmap='magma'` som ett argument."
   ]
  },
  {
   "cell_type": "markdown",
   "id": "bac979aa",
   "metadata": {},
   "source": [
    "# Mer läsning\n",
    "[Matplotlibs](https://matplotlib.org) hemsida innehåller mycket bra information. I övrigt så finns det mycket bra online material. Oftast räcker detta att söka i en sökmotor (specifisera \"matplotlib\"), både vad gäller generell information men också för att lösa diverse \"problem\"/frågeställningar (oftast hamnar man på [Stackoverflow](https://stackoverflow.com))\n"
   ]
  },
  {
   "cell_type": "code",
   "execution_count": null,
   "id": "2dad32eb",
   "metadata": {},
   "outputs": [],
   "source": []
  }
 ],
 "metadata": {
  "kernelspec": {
   "display_name": "Python 3 (ipykernel)",
   "language": "python",
   "name": "python3"
  },
  "language_info": {
   "codemirror_mode": {
    "name": "ipython",
    "version": 3
   },
   "file_extension": ".py",
   "mimetype": "text/x-python",
   "name": "python",
   "nbconvert_exporter": "python",
   "pygments_lexer": "ipython3",
   "version": "3.10.9"
  }
 },
 "nbformat": 4,
 "nbformat_minor": 5
}
