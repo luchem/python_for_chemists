{
 "cells": [
  {
   "attachments": {
    "image.png": {
     "image/png": "[encoded data removed]"
    }
   },
   "cell_type": "markdown",
   "metadata": {},
   "source": [
    "Pandas is a Python library for handling structured data (e.g., csv files) that comes with statistical tools, convenient data importing functions and tools to filter and extract data. Its key data structure is called the \"DataFrame\". This allows you to store and manipulate tabular data, similar to an Excel sheet. It behaves in some ways like a generalization of dictionaries to associate more than 2 objects.\n",
    "\n",
    "![image.png](attachment:image.png)\n",
    "\n",
    "Unlike a NumPy array, a Dataframe can contain multiple data types, such as numbers and text, but the data in each column must be of the same type. \n",
    "\n",
    "A DataFrame can be read from different data sources, such as CSV files or Excel files (using the read_csv() function), or created from scratch. For example, to create a dataset containing information about chemical compounds, such as molecular weights, boiling points, and solubilities: "
   ]
  },
  {
   "cell_type": "code",
   "execution_count": 1,
   "metadata": {},
   "outputs": [],
   "source": [
    "import pandas as pd\n",
    "\n",
    "data = {\n",
    "    'Compound': ['Water', 'Ethanol', 'Benzene', 'Methanol', 'Acetone', 'Toluene', 'Tetrachloroethylene'],\n",
    "    'MolecularWeight': [18.015, 46.07, 78.1134, 32.042, 58.08, 92.14, 165.8],\n",
    "    'BoilingPoint': [100, 78.37, 80.1, 64.7, 56.08, 110.6, 121.2],\n",
    "    'Solubility': ['Infinite', 'Miscible', '0.178 g/100 mL', 'Miscible', 'Miscible', 'None', '206 mg/L']\n",
    "}\n",
    "\n",
    "df = pd.DataFrame(data)"
   ]
  },
  {
   "cell_type": "markdown",
   "metadata": {},
   "source": [
    "To  view the first 5 rows and access the names of the columns: "
   ]
  },
  {
   "cell_type": "code",
   "execution_count": 2,
   "metadata": {},
   "outputs": [
    {
     "data": {
      "text/html": [
       "<div>\n",
       "<style scoped>\n",
       "    .dataframe tbody tr th:only-of-type {\n",
       "        vertical-align: middle;\n",
       "    }\n",
       "\n",
       "    .dataframe tbody tr th {\n",
       "        vertical-align: top;\n",
       "    }\n",
       "\n",
       "    .dataframe thead th {\n",
       "        text-align: right;\n",
       "    }\n",
       "</style>\n",
       "<table border=\"1\" class=\"dataframe\">\n",
       "  <thead>\n",
       "    <tr style=\"text-align: right;\">\n",
       "      <th></th>\n",
       "      <th>Compound</th>\n",
       "      <th>MolecularWeight</th>\n",
       "      <th>BoilingPoint</th>\n",
       "      <th>Solubility</th>\n",
       "    </tr>\n",
       "  </thead>\n",
       "  <tbody>\n",
       "    <tr>\n",
       "      <th>0</th>\n",
       "      <td>Water</td>\n",
       "      <td>18.0150</td>\n",
       "      <td>100.00</td>\n",
       "      <td>Infinite</td>\n",
       "    </tr>\n",
       "    <tr>\n",
       "      <th>1</th>\n",
       "      <td>Ethanol</td>\n",
       "      <td>46.0700</td>\n",
       "      <td>78.37</td>\n",
       "      <td>Miscible</td>\n",
       "    </tr>\n",
       "    <tr>\n",
       "      <th>2</th>\n",
       "      <td>Benzene</td>\n",
       "      <td>78.1134</td>\n",
       "      <td>80.10</td>\n",
       "      <td>0.178 g/100 mL</td>\n",
       "    </tr>\n",
       "    <tr>\n",
       "      <th>3</th>\n",
       "      <td>Methanol</td>\n",
       "      <td>32.0420</td>\n",
       "      <td>64.70</td>\n",
       "      <td>Miscible</td>\n",
       "    </tr>\n",
       "    <tr>\n",
       "      <th>4</th>\n",
       "      <td>Acetone</td>\n",
       "      <td>58.0800</td>\n",
       "      <td>56.08</td>\n",
       "      <td>Miscible</td>\n",
       "    </tr>\n",
       "  </tbody>\n",
       "</table>\n",
       "</div>"
      ],
      "text/plain": [
       "   Compound  MolecularWeight  BoilingPoint      Solubility\n",
       "0     Water          18.0150        100.00        Infinite\n",
       "1   Ethanol          46.0700         78.37        Miscible\n",
       "2   Benzene          78.1134         80.10  0.178 g/100 mL\n",
       "3  Methanol          32.0420         64.70        Miscible\n",
       "4   Acetone          58.0800         56.08        Miscible"
      ]
     },
     "execution_count": 2,
     "metadata": {},
     "output_type": "execute_result"
    }
   ],
   "source": [
    "df.head(5)"
   ]
  },
  {
   "cell_type": "code",
   "execution_count": 3,
   "metadata": {},
   "outputs": [
    {
     "data": {
      "text/plain": [
       "Index(['Compound', 'MolecularWeight', 'BoilingPoint', 'Solubility'], dtype='object')"
      ]
     },
     "execution_count": 3,
     "metadata": {},
     "output_type": "execute_result"
    }
   ],
   "source": [
    "df.columns"
   ]
  },
  {
   "cell_type": "markdown",
   "metadata": {},
   "source": [
    "To print summary statistics for each column in the DataFrame, use describe(): "
   ]
  },
  {
   "cell_type": "code",
   "execution_count": 4,
   "metadata": {},
   "outputs": [
    {
     "data": {
      "text/html": [
       "<div>\n",
       "<style scoped>\n",
       "    .dataframe tbody tr th:only-of-type {\n",
       "        vertical-align: middle;\n",
       "    }\n",
       "\n",
       "    .dataframe tbody tr th {\n",
       "        vertical-align: top;\n",
       "    }\n",
       "\n",
       "    .dataframe thead th {\n",
       "        text-align: right;\n",
       "    }\n",
       "</style>\n",
       "<table border=\"1\" class=\"dataframe\">\n",
       "  <thead>\n",
       "    <tr style=\"text-align: right;\">\n",
       "      <th></th>\n",
       "      <th>MolecularWeight</th>\n",
       "      <th>BoilingPoint</th>\n",
       "    </tr>\n",
       "  </thead>\n",
       "  <tbody>\n",
       "    <tr>\n",
       "      <th>count</th>\n",
       "      <td>7.000000</td>\n",
       "      <td>7.000000</td>\n",
       "    </tr>\n",
       "    <tr>\n",
       "      <th>mean</th>\n",
       "      <td>70.037200</td>\n",
       "      <td>87.292857</td>\n",
       "    </tr>\n",
       "    <tr>\n",
       "      <th>std</th>\n",
       "      <td>49.314667</td>\n",
       "      <td>24.050028</td>\n",
       "    </tr>\n",
       "    <tr>\n",
       "      <th>min</th>\n",
       "      <td>18.015000</td>\n",
       "      <td>56.080000</td>\n",
       "    </tr>\n",
       "    <tr>\n",
       "      <th>25%</th>\n",
       "      <td>39.056000</td>\n",
       "      <td>71.535000</td>\n",
       "    </tr>\n",
       "    <tr>\n",
       "      <th>50%</th>\n",
       "      <td>58.080000</td>\n",
       "      <td>80.100000</td>\n",
       "    </tr>\n",
       "    <tr>\n",
       "      <th>75%</th>\n",
       "      <td>85.126700</td>\n",
       "      <td>105.300000</td>\n",
       "    </tr>\n",
       "    <tr>\n",
       "      <th>max</th>\n",
       "      <td>165.800000</td>\n",
       "      <td>121.200000</td>\n",
       "    </tr>\n",
       "  </tbody>\n",
       "</table>\n",
       "</div>"
      ],
      "text/plain": [
       "       MolecularWeight  BoilingPoint\n",
       "count         7.000000      7.000000\n",
       "mean         70.037200     87.292857\n",
       "std          49.314667     24.050028\n",
       "min          18.015000     56.080000\n",
       "25%          39.056000     71.535000\n",
       "50%          58.080000     80.100000\n",
       "75%          85.126700    105.300000\n",
       "max         165.800000    121.200000"
      ]
     },
     "execution_count": 4,
     "metadata": {},
     "output_type": "execute_result"
    }
   ],
   "source": [
    "df.describe()"
   ]
  },
  {
   "cell_type": "markdown",
   "metadata": {},
   "source": [
    "To get the unique values in a column"
   ]
  },
  {
   "cell_type": "code",
   "execution_count": 5,
   "metadata": {},
   "outputs": [
    {
     "data": {
      "text/plain": [
       "array(['Infinite', 'Miscible', '0.178 g/100 mL', 'None', '206 mg/L'],\n",
       "      dtype=object)"
      ]
     },
     "execution_count": 5,
     "metadata": {},
     "output_type": "execute_result"
    }
   ],
   "source": [
    "unique_values = df['Solubility'].unique()\n",
    "unique_values"
   ]
  },
  {
   "cell_type": "markdown",
   "metadata": {},
   "source": [
    "You can access a specific column by using indexing with the column name:"
   ]
  },
  {
   "cell_type": "code",
   "execution_count": 6,
   "metadata": {},
   "outputs": [
    {
     "data": {
      "text/plain": [
       "0     18.0150\n",
       "1     46.0700\n",
       "2     78.1134\n",
       "3     32.0420\n",
       "4     58.0800\n",
       "5     92.1400\n",
       "6    165.8000\n",
       "Name: MolecularWeight, dtype: float64"
      ]
     },
     "execution_count": 6,
     "metadata": {},
     "output_type": "execute_result"
    }
   ],
   "source": [
    "MW = df['MolecularWeight']\n",
    "MW"
   ]
  },
  {
   "cell_type": "markdown",
   "metadata": {},
   "source": [
    "Or by a vertical (column) slicing:"
   ]
  },
  {
   "cell_type": "code",
   "execution_count": 7,
   "metadata": {},
   "outputs": [
    {
     "data": {
      "text/plain": [
       "0     18.0150\n",
       "1     46.0700\n",
       "2     78.1134\n",
       "3     32.0420\n",
       "4     58.0800\n",
       "5     92.1400\n",
       "6    165.8000\n",
       "Name: MolecularWeight, dtype: float64"
      ]
     },
     "execution_count": 7,
     "metadata": {},
     "output_type": "execute_result"
    }
   ],
   "source": [
    "df.loc[:, 'MolecularWeight']"
   ]
  },
  {
   "cell_type": "markdown",
   "metadata": {},
   "source": [
    "Similarly, rows can be accessed by doing a horizontal (row) slicing df['rowname', :]. You can also locate a specific cell using the loc() method: "
   ]
  },
  {
   "cell_type": "code",
   "execution_count": 8,
   "metadata": {},
   "outputs": [
    {
     "data": {
      "text/plain": [
       "78.1134"
      ]
     },
     "execution_count": 8,
     "metadata": {},
     "output_type": "execute_result"
    }
   ],
   "source": [
    "df.loc[2, 'MolecularWeight'] #'2' for the row number"
   ]
  },
  {
   "cell_type": "markdown",
   "metadata": {},
   "source": [
    "You can add new columns to existing DataFrames. For example, to convert the boiling points from Celsius to Fahrenheit and add this as a new column: "
   ]
  },
  {
   "cell_type": "code",
   "execution_count": 9,
   "metadata": {},
   "outputs": [
    {
     "data": {
      "text/html": [
       "<div>\n",
       "<style scoped>\n",
       "    .dataframe tbody tr th:only-of-type {\n",
       "        vertical-align: middle;\n",
       "    }\n",
       "\n",
       "    .dataframe tbody tr th {\n",
       "        vertical-align: top;\n",
       "    }\n",
       "\n",
       "    .dataframe thead th {\n",
       "        text-align: right;\n",
       "    }\n",
       "</style>\n",
       "<table border=\"1\" class=\"dataframe\">\n",
       "  <thead>\n",
       "    <tr style=\"text-align: right;\">\n",
       "      <th></th>\n",
       "      <th>Compound</th>\n",
       "      <th>MolecularWeight</th>\n",
       "      <th>BoilingPoint</th>\n",
       "      <th>Solubility</th>\n",
       "      <th>BoilingPoint (°F)</th>\n",
       "    </tr>\n",
       "  </thead>\n",
       "  <tbody>\n",
       "    <tr>\n",
       "      <th>0</th>\n",
       "      <td>Water</td>\n",
       "      <td>18.0150</td>\n",
       "      <td>100.00</td>\n",
       "      <td>Infinite</td>\n",
       "      <td>212.000</td>\n",
       "    </tr>\n",
       "    <tr>\n",
       "      <th>1</th>\n",
       "      <td>Ethanol</td>\n",
       "      <td>46.0700</td>\n",
       "      <td>78.37</td>\n",
       "      <td>Miscible</td>\n",
       "      <td>173.066</td>\n",
       "    </tr>\n",
       "    <tr>\n",
       "      <th>2</th>\n",
       "      <td>Benzene</td>\n",
       "      <td>78.1134</td>\n",
       "      <td>80.10</td>\n",
       "      <td>0.178 g/100 mL</td>\n",
       "      <td>176.180</td>\n",
       "    </tr>\n",
       "    <tr>\n",
       "      <th>3</th>\n",
       "      <td>Methanol</td>\n",
       "      <td>32.0420</td>\n",
       "      <td>64.70</td>\n",
       "      <td>Miscible</td>\n",
       "      <td>148.460</td>\n",
       "    </tr>\n",
       "    <tr>\n",
       "      <th>4</th>\n",
       "      <td>Acetone</td>\n",
       "      <td>58.0800</td>\n",
       "      <td>56.08</td>\n",
       "      <td>Miscible</td>\n",
       "      <td>132.944</td>\n",
       "    </tr>\n",
       "  </tbody>\n",
       "</table>\n",
       "</div>"
      ],
      "text/plain": [
       "   Compound  MolecularWeight  BoilingPoint      Solubility  BoilingPoint (°F)\n",
       "0     Water          18.0150        100.00        Infinite            212.000\n",
       "1   Ethanol          46.0700         78.37        Miscible            173.066\n",
       "2   Benzene          78.1134         80.10  0.178 g/100 mL            176.180\n",
       "3  Methanol          32.0420         64.70        Miscible            148.460\n",
       "4   Acetone          58.0800         56.08        Miscible            132.944"
      ]
     },
     "execution_count": 9,
     "metadata": {},
     "output_type": "execute_result"
    }
   ],
   "source": [
    "df['BoilingPoint (°F)'] = df['BoilingPoint']*1.8 + 32\n",
    "df.head()"
   ]
  },
  {
   "cell_type": "markdown",
   "metadata": {},
   "source": [
    "To filter the DataFrame based on a given condition, you can use boolean indexing. For example, to find and select all compounds with a molecular weight above 50 and store them into a new DataFrame:"
   ]
  },
  {
   "cell_type": "code",
   "execution_count": 10,
   "metadata": {},
   "outputs": [
    {
     "data": {
      "text/html": [
       "<div>\n",
       "<style scoped>\n",
       "    .dataframe tbody tr th:only-of-type {\n",
       "        vertical-align: middle;\n",
       "    }\n",
       "\n",
       "    .dataframe tbody tr th {\n",
       "        vertical-align: top;\n",
       "    }\n",
       "\n",
       "    .dataframe thead th {\n",
       "        text-align: right;\n",
       "    }\n",
       "</style>\n",
       "<table border=\"1\" class=\"dataframe\">\n",
       "  <thead>\n",
       "    <tr style=\"text-align: right;\">\n",
       "      <th></th>\n",
       "      <th>Compound</th>\n",
       "      <th>MolecularWeight</th>\n",
       "      <th>BoilingPoint</th>\n",
       "      <th>Solubility</th>\n",
       "      <th>BoilingPoint (°F)</th>\n",
       "    </tr>\n",
       "  </thead>\n",
       "  <tbody>\n",
       "    <tr>\n",
       "      <th>2</th>\n",
       "      <td>Benzene</td>\n",
       "      <td>78.1134</td>\n",
       "      <td>80.10</td>\n",
       "      <td>0.178 g/100 mL</td>\n",
       "      <td>176.180</td>\n",
       "    </tr>\n",
       "    <tr>\n",
       "      <th>4</th>\n",
       "      <td>Acetone</td>\n",
       "      <td>58.0800</td>\n",
       "      <td>56.08</td>\n",
       "      <td>Miscible</td>\n",
       "      <td>132.944</td>\n",
       "    </tr>\n",
       "    <tr>\n",
       "      <th>5</th>\n",
       "      <td>Toluene</td>\n",
       "      <td>92.1400</td>\n",
       "      <td>110.60</td>\n",
       "      <td>None</td>\n",
       "      <td>231.080</td>\n",
       "    </tr>\n",
       "    <tr>\n",
       "      <th>6</th>\n",
       "      <td>Tetrachloroethylene</td>\n",
       "      <td>165.8000</td>\n",
       "      <td>121.20</td>\n",
       "      <td>206 mg/L</td>\n",
       "      <td>250.160</td>\n",
       "    </tr>\n",
       "  </tbody>\n",
       "</table>\n",
       "</div>"
      ],
      "text/plain": [
       "              Compound  MolecularWeight  BoilingPoint      Solubility  \\\n",
       "2              Benzene          78.1134         80.10  0.178 g/100 mL   \n",
       "4              Acetone          58.0800         56.08        Miscible   \n",
       "5              Toluene          92.1400        110.60            None   \n",
       "6  Tetrachloroethylene         165.8000        121.20        206 mg/L   \n",
       "\n",
       "   BoilingPoint (°F)  \n",
       "2            176.180  \n",
       "4            132.944  \n",
       "5            231.080  \n",
       "6            250.160  "
      ]
     },
     "execution_count": 10,
     "metadata": {},
     "output_type": "execute_result"
    }
   ],
   "source": [
    "filtered_df = df[df['MolecularWeight'] > 50]\n",
    "filtered_df"
   ]
  },
  {
   "cell_type": "markdown",
   "metadata": {},
   "source": [
    "It is possible to sort the DataFrame, for example, based on a particular column, using sort_values(). To sort the compounds based on their molecular weights in ascending order: "
   ]
  },
  {
   "cell_type": "code",
   "execution_count": 11,
   "metadata": {},
   "outputs": [
    {
     "data": {
      "text/html": [
       "<div>\n",
       "<style scoped>\n",
       "    .dataframe tbody tr th:only-of-type {\n",
       "        vertical-align: middle;\n",
       "    }\n",
       "\n",
       "    .dataframe tbody tr th {\n",
       "        vertical-align: top;\n",
       "    }\n",
       "\n",
       "    .dataframe thead th {\n",
       "        text-align: right;\n",
       "    }\n",
       "</style>\n",
       "<table border=\"1\" class=\"dataframe\">\n",
       "  <thead>\n",
       "    <tr style=\"text-align: right;\">\n",
       "      <th></th>\n",
       "      <th>Compound</th>\n",
       "      <th>MolecularWeight</th>\n",
       "      <th>BoilingPoint</th>\n",
       "      <th>Solubility</th>\n",
       "      <th>BoilingPoint (°F)</th>\n",
       "    </tr>\n",
       "  </thead>\n",
       "  <tbody>\n",
       "    <tr>\n",
       "      <th>0</th>\n",
       "      <td>Water</td>\n",
       "      <td>18.0150</td>\n",
       "      <td>100.00</td>\n",
       "      <td>Infinite</td>\n",
       "      <td>212.000</td>\n",
       "    </tr>\n",
       "    <tr>\n",
       "      <th>3</th>\n",
       "      <td>Methanol</td>\n",
       "      <td>32.0420</td>\n",
       "      <td>64.70</td>\n",
       "      <td>Miscible</td>\n",
       "      <td>148.460</td>\n",
       "    </tr>\n",
       "    <tr>\n",
       "      <th>1</th>\n",
       "      <td>Ethanol</td>\n",
       "      <td>46.0700</td>\n",
       "      <td>78.37</td>\n",
       "      <td>Miscible</td>\n",
       "      <td>173.066</td>\n",
       "    </tr>\n",
       "    <tr>\n",
       "      <th>4</th>\n",
       "      <td>Acetone</td>\n",
       "      <td>58.0800</td>\n",
       "      <td>56.08</td>\n",
       "      <td>Miscible</td>\n",
       "      <td>132.944</td>\n",
       "    </tr>\n",
       "    <tr>\n",
       "      <th>2</th>\n",
       "      <td>Benzene</td>\n",
       "      <td>78.1134</td>\n",
       "      <td>80.10</td>\n",
       "      <td>0.178 g/100 mL</td>\n",
       "      <td>176.180</td>\n",
       "    </tr>\n",
       "    <tr>\n",
       "      <th>5</th>\n",
       "      <td>Toluene</td>\n",
       "      <td>92.1400</td>\n",
       "      <td>110.60</td>\n",
       "      <td>None</td>\n",
       "      <td>231.080</td>\n",
       "    </tr>\n",
       "    <tr>\n",
       "      <th>6</th>\n",
       "      <td>Tetrachloroethylene</td>\n",
       "      <td>165.8000</td>\n",
       "      <td>121.20</td>\n",
       "      <td>206 mg/L</td>\n",
       "      <td>250.160</td>\n",
       "    </tr>\n",
       "  </tbody>\n",
       "</table>\n",
       "</div>"
      ],
      "text/plain": [
       "              Compound  MolecularWeight  BoilingPoint      Solubility  \\\n",
       "0                Water          18.0150        100.00        Infinite   \n",
       "3             Methanol          32.0420         64.70        Miscible   \n",
       "1              Ethanol          46.0700         78.37        Miscible   \n",
       "4              Acetone          58.0800         56.08        Miscible   \n",
       "2              Benzene          78.1134         80.10  0.178 g/100 mL   \n",
       "5              Toluene          92.1400        110.60            None   \n",
       "6  Tetrachloroethylene         165.8000        121.20        206 mg/L   \n",
       "\n",
       "   BoilingPoint (°F)  \n",
       "0            212.000  \n",
       "3            148.460  \n",
       "1            173.066  \n",
       "4            132.944  \n",
       "2            176.180  \n",
       "5            231.080  \n",
       "6            250.160  "
      ]
     },
     "execution_count": 11,
     "metadata": {},
     "output_type": "execute_result"
    }
   ],
   "source": [
    "sorted_df = df.sort_values('MolecularWeight', ascending=True)\n",
    "sorted_df"
   ]
  },
  {
   "cell_type": "markdown",
   "metadata": {},
   "source": [
    "It is possible to group and aggregate data based on a specific property. This can be useful for analyzing data."
   ]
  },
  {
   "cell_type": "code",
   "execution_count": 12,
   "metadata": {},
   "outputs": [],
   "source": [
    "#Group by solubility\n",
    "grouped_df = df.groupby('Solubility')\n",
    "\n",
    "#Calculate the mean molecular weight for each group\n",
    "mean_mw = grouped_df['MolecularWeight'].mean()\n",
    "\n",
    "#Calculate the maximum boiling point for each group\n",
    "max_bp = grouped_df['BoilingPoint'].max()"
   ]
  },
  {
   "cell_type": "markdown",
   "metadata": {},
   "source": [
    "EXERCISE: Analyzing Chemical Data with Pandas\n",
    "\n",
    "Provide the students with a CSV file named \"chemical_data.csv\" containing information about different chemical compounds. The dataset includes the following columns: \n",
    "\n",
    "CompoundName\n",
    "MolecularWeight\n",
    "BoilingPoint\n",
    "Solubility\n",
    "\n",
    "Use Pandas to read the chemical_data.csv file and create a DataFrame. Explore the first few rows of the DataFrame.\n",
    "\n",
    "1) Find the compound with the highest boiling point using Pandas\n",
    "2) Print the compounds with a solubility greater than 1 g/100 mL\n",
    "3) Calculate the average molecular weight of the compounds and save this as a new column\n",
    "4) Write the DataFrame to file using to_csv(). "
   ]
  },
  {
   "cell_type": "code",
   "execution_count": null,
   "metadata": {},
   "outputs": [],
   "source": []
  },
  {
   "cell_type": "code",
   "execution_count": null,
   "metadata": {},
   "outputs": [],
   "source": []
  },
  {
   "cell_type": "markdown",
   "metadata": {},
   "source": [
    "Pandas can also be combined with other libraries such as Matplotlib to visualise the data. For example, we can create a scatter plot between the molecular weight and the boiling points."
   ]
  },
  {
   "cell_type": "code",
   "execution_count": 13,
   "metadata": {},
   "outputs": [
    {
     "data": {
      "image/png": "[encoded data removed]",
      "text/plain": [
       "<Figure size 640x480 with 1 Axes>"
      ]
     },
     "metadata": {},
     "output_type": "display_data"
    }
   ],
   "source": [
    "import matplotlib.pyplot as plt\n",
    "\n",
    "plt.scatter(df['BoilingPoint'], df['MolecularWeight'])\n",
    "plt.xlabel('Boiling Point (°C)')\n",
    "plt.ylabel('Molecular Weight (g/mol)')\n",
    "plt.show()"
   ]
  },
  {
   "cell_type": "markdown",
   "metadata": {},
   "source": [
    "Here, we will used the cheminformatics library RDKit to calculate descriptors for a dataset containing chemical structures in the form of smiles."
   ]
  },
  {
   "cell_type": "code",
   "execution_count": 14,
   "metadata": {},
   "outputs": [
    {
     "ename": "ModuleNotFoundError",
     "evalue": "No module named 'rdkit'",
     "output_type": "error",
     "traceback": [
      "\u001b[0;31m---------------------------------------------------------------------------\u001b[0m",
      "\u001b[0;31mModuleNotFoundError\u001b[0m                       Traceback (most recent call last)",
      "Cell \u001b[0;32mIn [14], line 1\u001b[0m\n\u001b[0;32m----> 1\u001b[0m \u001b[38;5;28;01mfrom\u001b[39;00m \u001b[38;5;21;01mrdkit\u001b[39;00m \u001b[38;5;28;01mimport\u001b[39;00m Chem\n\u001b[1;32m      2\u001b[0m \u001b[38;5;28;01mfrom\u001b[39;00m \u001b[38;5;21;01mrdkit\u001b[39;00m\u001b[38;5;21;01m.\u001b[39;00m\u001b[38;5;21;01mChem\u001b[39;00m \u001b[38;5;28;01mimport\u001b[39;00m Descriptors\n\u001b[1;32m      4\u001b[0m \u001b[38;5;66;03m#Read the dataset as SMILES string < TO BE DONE\u001b[39;00m\n",
      "\u001b[0;31mModuleNotFoundError\u001b[0m: No module named 'rdkit'"
     ]
    }
   ],
   "source": [
    "from rdkit import Chem\n",
    "from rdkit.Chem import Descriptors\n",
    "\n",
    "#Read the dataset as SMILES string < TO BE DONE\n",
    "df = pd.read_csv('smiles.csv')\n",
    "\n",
    "def calculate_descriptor(smiles, descriptor): \n",
    "    mol = Chem.MolFromSmiles(smiles) # Load the molecule from the SMILES string\n",
    "    return descriptor()\n",
    "\n",
    "df['MolecularWeight'] = df['SMILES'].apply(lambda x: calculate_descriptor(x, Descriptors.MolWt))"
   ]
  }
 ],
 "metadata": {
  "kernelspec": {
   "display_name": "Python 3 (ipykernel)",
   "language": "python",
   "name": "python3"
  },
  "language_info": {
   "codemirror_mode": {
    "name": "ipython",
    "version": 3
   },
   "file_extension": ".py",
   "mimetype": "text/x-python",
   "name": "python",
   "nbconvert_exporter": "python",
   "pygments_lexer": "ipython3",
   "version": "3.9.13"
  }
 },
 "nbformat": 4,
 "nbformat_minor": 4
}
