{
 "cells": [
  {
   "cell_type": "markdown",
   "id": "b98bbcc1",
   "metadata": {},
   "source": [
    "# Tal\n",
    "\n",
    "## Naturliga tal och heltal\n",
    "\n",
    "De mest vanliga talen är _heltal_ (`-1,0,1,...`) och _reela tal_ (`1.51, 6.022e23, ...`). Inom koding så används oftast så kallade flyttal (se [flyttal](https://sv.wikipedia.org/wiki/Flyttal)) för att beskriva dessa _reela tal_. Dessa är till för att beskriva de _reela talen_ i datorn. På engelska kallas heltal för _integers_ och flyttal för _floating point numbers_ eller _floats_.\n",
    "Det finns så klart även andra tal, så som _komplexa_ och andra beskrivningar _hexadecimal_, _binära_, osv.\n",
    "Men låt oss börja med heltal och flyttal (reela tal).\n",
    "Om inget annat sägs så brukar i,j,k,l... bostäverna användas för heltal (integers).\n",
    "\n",
    "### OBS Decimaltal skrivs med `.` (engelskt skrivsätt) och inte med `,` (svenskt skrivsätt)"
   ]
  },
  {
   "cell_type": "code",
   "execution_count": 1,
   "id": "652fd899",
   "metadata": {},
   "outputs": [
    {
     "name": "stdout",
     "output_type": "stream",
     "text": [
      "2 1.04 1000.0\n"
     ]
    }
   ],
   "source": [
    "i=2    # ett heltal av typen \"int\" i python\n",
    "x=1.04 # ett decimalta av typen \"float\" i python\n",
    "y=1e3  # automatically av type \"float\" i python\n",
    "print(i,x,y)"
   ]
  },
  {
   "cell_type": "markdown",
   "id": "52b5a5cf",
   "metadata": {},
   "source": [
    "## Typ av tal\n",
    "Genom funktionen _type_ för vi reda på hur de är lagrade i datorn"
   ]
  },
  {
   "cell_type": "code",
   "execution_count": 2,
   "id": "e9cf9767",
   "metadata": {
    "nbgrader": {
     "grade": false,
     "grade_id": "cell-9acc7435c2d79da8",
     "locked": false,
     "schema_version": 3,
     "solution": true,
     "task": false
    }
   },
   "outputs": [
    {
     "name": "stdout",
     "output_type": "stream",
     "text": [
      "<class 'int'> <class 'float'> <class 'float'>\n"
     ]
    }
   ],
   "source": [
    "print(type(i), type(x), type(y))"
   ]
  },
  {
   "cell_type": "markdown",
   "id": "a3897c19",
   "metadata": {},
   "source": [
    "## Enkel aritmetik (räkning)"
   ]
  },
  {
   "cell_type": "code",
   "execution_count": 3,
   "id": "0f5e3ba3",
   "metadata": {},
   "outputs": [
    {
     "data": {
      "text/plain": [
       "1040.5"
      ]
     },
     "execution_count": 3,
     "metadata": {},
     "output_type": "execute_result"
    }
   ],
   "source": [
    "x*y+1./i"
   ]
  },
  {
   "cell_type": "code",
   "execution_count": 4,
   "id": "2a47a83a",
   "metadata": {},
   "outputs": [
    {
     "data": {
      "text/plain": [
       "0.5"
      ]
     },
     "execution_count": 4,
     "metadata": {},
     "output_type": "execute_result"
    }
   ],
   "source": [
    "1/i"
   ]
  },
  {
   "cell_type": "markdown",
   "id": "6653349a",
   "metadata": {},
   "source": [
    "Notera att vi fått reela tal! Det kan vara värt att testa! Minns ni vad `_` betyde?"
   ]
  },
  {
   "cell_type": "code",
   "execution_count": 5,
   "id": "fb1d00df",
   "metadata": {},
   "outputs": [
    {
     "data": {
      "text/plain": [
       "float"
      ]
     },
     "execution_count": 5,
     "metadata": {},
     "output_type": "execute_result"
    }
   ],
   "source": [
    "type(_)"
   ]
  },
  {
   "cell_type": "code",
   "execution_count": 6,
   "id": "76f7b378",
   "metadata": {},
   "outputs": [
    {
     "data": {
      "text/plain": [
       "2.0"
      ]
     },
     "execution_count": 6,
     "metadata": {},
     "output_type": "execute_result"
    }
   ],
   "source": [
    "i=int(2)\n",
    "k=int(1)\n",
    "i/k"
   ]
  },
  {
   "cell_type": "code",
   "execution_count": 7,
   "id": "8f2a47b9",
   "metadata": {},
   "outputs": [
    {
     "data": {
      "text/plain": [
       "float"
      ]
     },
     "execution_count": 7,
     "metadata": {},
     "output_type": "execute_result"
    }
   ],
   "source": [
    "type(_)"
   ]
  },
  {
   "cell_type": "markdown",
   "id": "f3a59cdd",
   "metadata": {},
   "source": [
    "Även om vi delar två heltal så får vi ett flyttal!"
   ]
  },
  {
   "cell_type": "code",
   "execution_count": 8,
   "id": "e4d44a64",
   "metadata": {},
   "outputs": [
    {
     "data": {
      "text/plain": [
       "2"
      ]
     },
     "execution_count": 8,
     "metadata": {},
     "output_type": "execute_result"
    }
   ],
   "source": [
    "i=int(2)\n",
    "k=int(1)\n",
    "int(i/k)"
   ]
  },
  {
   "cell_type": "code",
   "execution_count": 9,
   "id": "3381bc39",
   "metadata": {},
   "outputs": [
    {
     "data": {
      "text/plain": [
       "int"
      ]
     },
     "execution_count": 9,
     "metadata": {},
     "output_type": "execute_result"
    }
   ],
   "source": [
    "type(_)"
   ]
  },
  {
   "cell_type": "markdown",
   "id": "f6b0b37e",
   "metadata": {},
   "source": [
    "Vi kan tvinga talet att bli ett heltal genom funktionen `int()`!"
   ]
  },
  {
   "cell_type": "markdown",
   "id": "1b72c1ee",
   "metadata": {},
   "source": [
    "# Mer avancerade räkningar\n",
    "Vi kan nu börja att göra mer avancerade räkningar. Multiplikation, division, osv. är alltid tillgängliga inom Python. Men vissa saker, som potenser och vissa matematiska konstanter (t.ex. $\\pi$ och $e$) så får `math` modulen användas. Även att ta (andra-)roten (sqrt) av en tal kan vara svårt. Även här har `math` modulen en bra `sqrt`funktion som hjälper oss. Antag att vi har tvådimensionell kristall av atomer med en viss täthet $\\rho$ = 200/nm$^2$. Vad är då medelavståndet mellan atomerna?\n",
    "\n",
    "\n",
    "I fallet nedan vill vi radien av en väte atom beräkna volymen av en väte atom. För detta är det bra att ha $\\pi$.\n",
    "\n",
    "Det går även bra att använda sig av `pow` funktionen. Denna är mer generell och tar två argument. Första är talet som vi ska exponera och det andra talet exponenten (power på engelska), t.ex. 2 och 3 blir $2^3$"
   ]
  },
  {
   "cell_type": "code",
   "execution_count": 10,
   "id": "7eb7c0b0",
   "metadata": {},
   "outputs": [
    {
     "data": {
      "text/plain": [
       "0.7071067811865476"
      ]
     },
     "execution_count": 10,
     "metadata": {},
     "output_type": "execute_result"
    }
   ],
   "source": [
    "import math # importera pythons \"math\" modul\n",
    "rho = 2.\n",
    "math.sqrt(1./rho)"
   ]
  },
  {
   "cell_type": "markdown",
   "id": "a14e1888",
   "metadata": {},
   "source": [
    "# Övning 1\n",
    "* Gör samma sak men med `pow` istället. \n",
    "* Testa sedan med `x**0.5`, där `x` är det du vill ta roten ur. Ger detta samma sak?"
   ]
  },
  {
   "cell_type": "code",
   "execution_count": 11,
   "id": "390ce36a",
   "metadata": {
    "nbgrader": {
     "grade": false,
     "grade_id": "cell-f7b55b1108279762",
     "locked": false,
     "schema_version": 3,
     "solution": true,
     "task": false
    }
   },
   "outputs": [
    {
     "name": "stdout",
     "output_type": "stream",
     "text": [
      "0.7071067811865476\n",
      "0.7071067811865476\n"
     ]
    }
   ],
   "source": [
    "###BEGIN SOLUTION\n",
    "print(math.pow(1./rho,0.5))\n",
    "print((1./rho)**0.5)\n",
    "###END SOLUTION"
   ]
  },
  {
   "cell_type": "markdown",
   "id": "7804986e",
   "metadata": {},
   "source": [
    "Notera att `**` kan användas utan att `math` bibliotetken laddas."
   ]
  },
  {
   "cell_type": "markdown",
   "id": "c809c6ce",
   "metadata": {},
   "source": [
    "# Övning 2\n",
    "Antag att ovanstånde är detsamma som diameterna på atomerna. Vad är atomens volym?"
   ]
  },
  {
   "cell_type": "code",
   "execution_count": 12,
   "id": "ec9b3f86",
   "metadata": {
    "nbgrader": {
     "grade": false,
     "grade_id": "cell-481ff9f57f944e76",
     "locked": false,
     "schema_version": 3,
     "solution": true,
     "task": false
    }
   },
   "outputs": [
    {
     "name": "stdout",
     "output_type": "stream",
     "text": [
      "Volumen är:  0.18512012242326528 i nm^3\n"
     ]
    }
   ],
   "source": [
    "math.pi*math.pow(0.1,2) # Fyll i rätt tal i power\n",
    "###BEGIN SOLUTION\n",
    "dia=(1./rho)**0.5\n",
    "V= math.pi*4.*math.pow(dia/2.,3)/3.\n",
    "print(\"Volumen är: \", V, \"i nm^3\")\n",
    "###END SOLUTION"
   ]
  },
  {
   "cell_type": "markdown",
   "id": "a6f6bcf8",
   "metadata": {},
   "source": [
    "### Exempel på hur detta kan användas:\n",
    "Hur många molekyler finns det t.ex. i 1,201 gram av natrium?"
   ]
  },
  {
   "cell_type": "code",
   "execution_count": 13,
   "id": "f7540285",
   "metadata": {},
   "outputs": [
    {
     "name": "stdout",
     "output_type": "stream",
     "text": [
      "Svar: 3.15e+22 molekyler\n"
     ]
    }
   ],
   "source": [
    "Nav=6.022e23 # avogadros tal [1/mol]\n",
    "Mw=22.989769 # molekylmassan för natrium [g/mol]\n",
    "m=1.201        # vikt [gram]\n",
    "n=m/Mw*Nav   # antal molekyler [g] / [g/mol] * [1/mol] = [1]\n",
    "print('Svar: {:.3} molekyler'.format(n)) # 'n' sätts in i klammerparenteserna, {}"
   ]
  },
  {
   "cell_type": "markdown",
   "id": "ae2d1316",
   "metadata": {},
   "source": [
    "Notera att i ovanstående fall så har vi färre värdesiffor än vi har precision till.\n",
    "Detta kan dock ändras. Låt oss t.ex använda värdesiffor lika med de minsta värdesiffror vi har i våra urspungstal (4). För mer om hur man formatera antal värdesiffor, osv. se [här](https://kapeli.com/cheat_sheets/Python_Format_Strings.docset/Contents/Resources/Documents/index):"
   ]
  },
  {
   "cell_type": "code",
   "execution_count": 14,
   "id": "edf2fee4",
   "metadata": {},
   "outputs": [
    {
     "name": "stdout",
     "output_type": "stream",
     "text": [
      "Svar: 3.146e+22 molekyler\n"
     ]
    }
   ],
   "source": [
    "print('Svar: {:.4} molekyler'.format(n)) "
   ]
  },
  {
   "cell_type": "markdown",
   "id": "1effaf95",
   "metadata": {},
   "source": [
    "Vi kan också blanda värdesiffor och ha olika utskrifter:"
   ]
  },
  {
   "cell_type": "code",
   "execution_count": 15,
   "id": "9cb5c00d",
   "metadata": {},
   "outputs": [
    {
     "name": "stdout",
     "output_type": "stream",
     "text": [
      "1.2 gram av natrium innehåller 3.1e+22 molekyler\n"
     ]
    }
   ],
   "source": [
    "print('{:0.1f} gram av natrium innehåller {:.1e} molekyler'.format(m, n))"
   ]
  },
  {
   "cell_type": "markdown",
   "id": "5a539b84",
   "metadata": {},
   "source": [
    "### Fråga\n",
    "Vad är skillnade på att använda `f` jämfört med `e`? Testa att ändra ovanstående."
   ]
  },
  {
   "cell_type": "markdown",
   "id": "e3a9980f",
   "metadata": {},
   "source": [
    "# Övning 3\n",
    "\n",
    "Antag att du befinner dig på en isolerad plats och ditt ena öga har blivit infekterad. För att tvätta ögat så vill du ha en isoton saltlösning. Du har 250 ml rent vatten och tillgång till koksalt.\n",
    "Hur mycket salt ska du blanda för att få en 0,154 M NaCl saltlösning?\n",
    "\n",
    "Följ ovanstånde exempel:"
   ]
  },
  {
   "cell_type": "code",
   "execution_count": 16,
   "id": "19c46085",
   "metadata": {
    "nbgrader": {
     "grade": false,
     "grade_id": "cell-37a19dc48b683bc5",
     "locked": false,
     "schema_version": 3,
     "solution": true,
     "task": false
    },
    "scrolled": true,
    "tags": []
   },
   "outputs": [
    {
     "name": "stdout",
     "output_type": "stream",
     "text": [
      "0.023 gram av NaCl behövs för 100.0 ml av 0.01 molar lösning\n",
      "2.25 gram av NaCl behövs för 250.0 ml av 0.154 molar lösning\n"
     ]
    }
   ],
   "source": [
    "Mw=22.990 # atommassan för Natrium [g/mol]\n",
    "V=0.1       # liter\n",
    "C=0.01        # mol/liter\n",
    "m = Mw * V * C # g/mol * liter * mol/liter = gram\n",
    "print('{:.3} gram av NaCl behövs för {} ml av {} molar lösning'.format(m, V*1000, C))\n",
    "###BEGIN SOLUTION\n",
    "Mw=22.990+35.453 # molekylmassan för NaCl [g/mol]\n",
    "V=0.25       # liter\n",
    "C=0.154        # mol/liter\n",
    "m = Mw * V * C # g/mol * liter * mol/liter = gram\n",
    "print('{:.3} gram av NaCl behövs för {} ml av {} molar lösning'.format(m, V*1000, C))\n",
    "###END SOLUTION"
   ]
  },
  {
   "cell_type": "markdown",
   "id": "66fb01ec",
   "metadata": {},
   "source": [
    "# Runda av tal\n",
    "I vissa fall vill man runda av tal. Detta görs lämpligast med _round()_ funktionen. Notera att det senare kan ta ett argument till."
   ]
  },
  {
   "cell_type": "code",
   "execution_count": 17,
   "id": "a539b351",
   "metadata": {},
   "outputs": [
    {
     "data": {
      "text/plain": [
       "2.2500554999999998"
      ]
     },
     "execution_count": 17,
     "metadata": {},
     "output_type": "execute_result"
    }
   ],
   "source": [
    "m"
   ]
  },
  {
   "cell_type": "code",
   "execution_count": 18,
   "id": "9ced813a",
   "metadata": {},
   "outputs": [
    {
     "data": {
      "text/plain": [
       "2"
      ]
     },
     "execution_count": 18,
     "metadata": {},
     "output_type": "execute_result"
    }
   ],
   "source": [
    "int(m)"
   ]
  },
  {
   "cell_type": "code",
   "execution_count": 19,
   "id": "f5fcf593",
   "metadata": {},
   "outputs": [
    {
     "data": {
      "text/plain": [
       "2"
      ]
     },
     "execution_count": 19,
     "metadata": {},
     "output_type": "execute_result"
    }
   ],
   "source": [
    "round(m)"
   ]
  },
  {
   "cell_type": "code",
   "execution_count": 20,
   "id": "45d92fe8",
   "metadata": {
    "scrolled": true
   },
   "outputs": [
    {
     "data": {
      "text/plain": [
       "2.25"
      ]
     },
     "execution_count": 20,
     "metadata": {},
     "output_type": "execute_result"
    }
   ],
   "source": [
    "round(m,2)"
   ]
  },
  {
   "cell_type": "markdown",
   "id": "825418fa",
   "metadata": {},
   "source": [
    "# Övning 4\n",
    "*Vad händer då jag använder _int()_ och _round()_ på ett negativt tal? Gör samma sak för talet 2.745."
   ]
  },
  {
   "cell_type": "code",
   "execution_count": 21,
   "id": "74584b1c",
   "metadata": {
    "nbgrader": {
     "grade": false,
     "grade_id": "cell-7d1b5e256d9f0192",
     "locked": false,
     "schema_version": 3,
     "solution": true,
     "task": false
    },
    "tags": []
   },
   "outputs": [
    {
     "name": "stdout",
     "output_type": "stream",
     "text": [
      "-2\n",
      "-3\n",
      "-2.7\n",
      "2\n",
      "3\n",
      "2.7\n"
     ]
    }
   ],
   "source": [
    "###BEGIN SOLUTION\n",
    "ne = -2.745\n",
    "print(int(ne))\n",
    "print(round(ne))\n",
    "print(round(ne,1))\n",
    "n = 2.745\n",
    "#n = 1.145\n",
    "print(int(n))\n",
    "print(round(n))\n",
    "print(round(n,1))\n",
    "\n",
    "###END SOLUTION\n"
   ]
  },
  {
   "cell_type": "markdown",
   "id": "29dbd806",
   "metadata": {},
   "source": [
    "# Övning 5\n",
    "`math` har även de två funktionerna _floor_ och _ceil_. Vad gör dessa?\n"
   ]
  },
  {
   "cell_type": "code",
   "execution_count": 22,
   "id": "ab79414c",
   "metadata": {
    "nbgrader": {
     "grade": false,
     "grade_id": "cell-40819fd9c017ff65",
     "locked": false,
     "schema_version": 3,
     "solution": true,
     "task": false
    }
   },
   "outputs": [
    {
     "name": "stdout",
     "output_type": "stream",
     "text": [
      "-3\n",
      "-2\n"
     ]
    }
   ],
   "source": [
    "###BEGIN SOLUTION\n",
    "print(math.floor(ne))\n",
    "print(math.ceil(ne))\n",
    "###END SOLUTION"
   ]
  },
  {
   "cell_type": "markdown",
   "id": "b2533e8d",
   "metadata": {},
   "source": [
    "\n",
    "\n",
    "## Villkor och  boolesk algebra/operationer\n",
    "\n",
    "En `bool` lagrar antigen sant, `True`, eller falskt, `False`, och används vid villkorad programmering. Här är en lista av vanliga [\"_operatorer_\"](https://www.digitalocean.com/community/tutorials/understanding-boolean-logic-in-python-3):\n",
    "\n",
    "operator  | beskrivning\n",
    ":-------- | :-------------\n",
    "`>`       | större än\n",
    "`==`      | lika med\n",
    "`!=`      | skild från\n",
    "`and`     | logiskt _och_\n",
    "`or`      | logiskt _eller_\n",
    "\n",
    "Det är dessutom OK att blanda flera av dessa operatorer. Vi testar"
   ]
  },
  {
   "cell_type": "code",
   "execution_count": 23,
   "id": "3e5528eb",
   "metadata": {},
   "outputs": [
    {
     "data": {
      "text/plain": [
       "False"
      ]
     },
     "execution_count": 23,
     "metadata": {},
     "output_type": "execute_result"
    }
   ],
   "source": [
    "1>2"
   ]
  },
  {
   "cell_type": "code",
   "execution_count": 24,
   "id": "72ab0cbb",
   "metadata": {},
   "outputs": [
    {
     "data": {
      "text/plain": [
       "True"
      ]
     },
     "execution_count": 24,
     "metadata": {},
     "output_type": "execute_result"
    }
   ],
   "source": [
    "2>1"
   ]
  },
  {
   "cell_type": "code",
   "execution_count": 25,
   "id": "29e2ec1a",
   "metadata": {},
   "outputs": [
    {
     "data": {
      "text/plain": [
       "bool"
      ]
     },
     "execution_count": 25,
     "metadata": {},
     "output_type": "execute_result"
    }
   ],
   "source": [
    "type(_)"
   ]
  },
  {
   "cell_type": "markdown",
   "id": "dd564cb3",
   "metadata": {},
   "source": [
    "Testa nu om följande trigometriska formel är korrekt: $\\pi = arccos(-1)$?"
   ]
  },
  {
   "cell_type": "code",
   "execution_count": 26,
   "id": "b9d0ec8f",
   "metadata": {},
   "outputs": [
    {
     "data": {
      "text/plain": [
       "True"
      ]
     },
     "execution_count": 26,
     "metadata": {},
     "output_type": "execute_result"
    }
   ],
   "source": [
    "math.pi == math.acos(-1)"
   ]
  },
  {
   "cell_type": "markdown",
   "id": "12a0b158",
   "metadata": {},
   "source": [
    "En kombination, där vi nu även testar om teckena (bokstäverna) _a_ och _b_ är skilda."
   ]
  },
  {
   "cell_type": "code",
   "execution_count": 27,
   "id": "0e4d6ac8",
   "metadata": {},
   "outputs": [
    {
     "data": {
      "text/plain": [
       "True"
      ]
     },
     "execution_count": 27,
     "metadata": {},
     "output_type": "execute_result"
    }
   ],
   "source": [
    "(2>1) and ('a'!='b')"
   ]
  },
  {
   "cell_type": "markdown",
   "id": "01e7c130",
   "metadata": {},
   "source": [
    "Egentligen representerar en `bool` av ett binärt tal, där 1=på och 0=av.\n",
    "\n",
    "Låt oss kolla om True representeras av 1 eller 0?"
   ]
  },
  {
   "cell_type": "code",
   "execution_count": 28,
   "id": "84d0f4e8",
   "metadata": {},
   "outputs": [
    {
     "data": {
      "text/plain": [
       "True"
      ]
     },
     "execution_count": 28,
     "metadata": {},
     "output_type": "execute_result"
    }
   ],
   "source": [
    "True==1"
   ]
  },
  {
   "cell_type": "code",
   "execution_count": 29,
   "id": "ffb35246",
   "metadata": {},
   "outputs": [
    {
     "data": {
      "text/plain": [
       "False"
      ]
     },
     "execution_count": 29,
     "metadata": {},
     "output_type": "execute_result"
    }
   ],
   "source": [
    "True==0"
   ]
  },
  {
   "cell_type": "code",
   "execution_count": 30,
   "id": "e09c443b",
   "metadata": {},
   "outputs": [
    {
     "data": {
      "text/plain": [
       "False"
      ]
     },
     "execution_count": 30,
     "metadata": {},
     "output_type": "execute_result"
    }
   ],
   "source": [
    "False==1"
   ]
  },
  {
   "cell_type": "code",
   "execution_count": 31,
   "id": "e7585920",
   "metadata": {},
   "outputs": [
    {
     "data": {
      "text/plain": [
       "True"
      ]
     },
     "execution_count": 31,
     "metadata": {},
     "output_type": "execute_result"
    }
   ],
   "source": [
    "False==0"
   ]
  },
  {
   "cell_type": "markdown",
   "id": "d9ef90d8",
   "metadata": {},
   "source": [
    "# Övning\n",
    "Vad är skillnaden mellan `=` och `==`?"
   ]
  },
  {
   "cell_type": "code",
   "execution_count": 32,
   "id": "c878ebb9",
   "metadata": {
    "nbgrader": {
     "grade": false,
     "grade_id": "cell-0c0e2d77eee4d4f3",
     "locked": false,
     "schema_version": 3,
     "solution": true,
     "task": false
    }
   },
   "outputs": [
    {
     "data": {
      "text/plain": [
       "12"
      ]
     },
     "execution_count": 32,
     "metadata": {},
     "output_type": "execute_result"
    }
   ],
   "source": [
    "a = 10\n",
    "b = 12\n",
    "###BEGIN SOLUTION\n",
    "a = b\n",
    "###END SOLUTION\n",
    "a"
   ]
  },
  {
   "cell_type": "code",
   "execution_count": 33,
   "id": "4aa5cb53",
   "metadata": {
    "nbgrader": {
     "grade": false,
     "grade_id": "cell-15805e420d002c84",
     "locked": false,
     "schema_version": 3,
     "solution": true,
     "task": false
    }
   },
   "outputs": [
    {
     "name": "stdout",
     "output_type": "stream",
     "text": [
      "False\n"
     ]
    },
    {
     "data": {
      "text/plain": [
       "10"
      ]
     },
     "execution_count": 33,
     "metadata": {},
     "output_type": "execute_result"
    }
   ],
   "source": [
    "a = 10\n",
    "b = 12\n",
    "###BEGIN SOLUTION\n",
    "print(a == b) # Här får vi ett tal och kan skriva ut det\n",
    "###END SOLUTION\n",
    "a"
   ]
  },
  {
   "cell_type": "markdown",
   "id": "23503924",
   "metadata": {},
   "source": [
    "# If-elif-else satser\n",
    "\n",
    "Dessa används oftast flitigt som \"växlar\", som en flödeskontroll, inom program. Ett program kan då få ett\n",
    "argument, och baserat på detta argument kan programmet antingen välja att göra A-alternativet eller B-alternativet.\n",
    "Det kan likväl vara så att B-alternativet är att inte göra något alls.\n",
    "Det är inte unika för Python utan används flitigt i nästan alla programmeringsspråk.\n",
    "\n",
    "Vi tar en titt och ser vad de gör:\n",
    "\n",
    "~~~ python\n",
    "if name == 'Na':\n",
    "    print('Natrium')\n",
    "elif name == 'K':\n",
    "    print('Kalium')\n",
    "else:\n",
    "    print('Okänt grundämne')\n",
    "~~~\n",
    "\n",
    "# Övning\n",
    "\n",
    "1. Varför får vi ett fel? Rätta till felet.\n",
    "1. Vidarutveckla koden så att du även skriver ut atommassan på en ny rad.\n",
    "2. vad gör `:` och vaför har vi dragit in texten (förskjutig den åt höger)?"
   ]
  },
  {
   "cell_type": "code",
   "execution_count": 34,
   "id": "2a38c15b",
   "metadata": {
    "nbgrader": {
     "grade": false,
     "grade_id": "cell-70b80b024e4657f6",
     "locked": false,
     "schema_version": 3,
     "solution": true,
     "task": false
    }
   },
   "outputs": [
    {
     "name": "stdout",
     "output_type": "stream",
     "text": [
      "Natrium\n",
      "Molsmassa: 22.99\n",
      "Natrium\n"
     ]
    }
   ],
   "source": [
    "###BEGIN SOLUTION\n",
    "namn = 'Na' # Måste definera namn\n",
    "if namn == 'Na':\n",
    "    print('Natrium')\n",
    "    print('Molsmassa:',22.990)\n",
    "elif namn == 'K':\n",
    "    print('Kalium')\n",
    "    print('Molsmassa:',39.098)\n",
    "else:\n",
    "    print('Okänt grundämne')\n",
    "    print('Molsmassa okänd')\n",
    "###END SOLUTION\n",
    "if namn == 'Na':\n",
    "    print('Natrium')\n",
    "elif namn == 'K':\n",
    "    print('Kalium')\n",
    "else:\n",
    "    print('Okänt grundämne')\n"
   ]
  },
  {
   "cell_type": "markdown",
   "id": "67c25bd9",
   "metadata": {},
   "source": [
    "\n",
    "## while loop\n",
    "\n",
    "I många fall så vill man upprepa en sak ett visst antal gånger, så kallad slinga eller på engelska \"loop:a\".\n",
    "Detta kan göras med hjälp av `while` loopar.\n",
    "\n",
    "Vi testar och ser var som händer.\n",
    "\n",
    "## Övning\n",
    "1. Varför får vi ett fel? Rätta till! \n",
    "2. Varför slutar slingan aldrig? Stäng av kärnan.\n",
    "3. Lägg till counter=counter+1\n",
    "4. Testa och se vad counter+=1 gör\n"
   ]
  },
  {
   "cell_type": "code",
   "execution_count": 35,
   "id": "621fb8d2",
   "metadata": {
    "nbgrader": {
     "grade": false,
     "grade_id": "cell-6fe3265e2ee881f8",
     "locked": false,
     "schema_version": 3,
     "solution": true,
     "task": false
    }
   },
   "outputs": [
    {
     "name": "stdout",
     "output_type": "stream",
     "text": [
      "1\n",
      "2\n",
      "3\n",
      "4\n",
      "5\n",
      "6\n",
      "7\n",
      "8\n",
      "9\n",
      "10\n"
     ]
    }
   ],
   "source": [
    "###BEGIN SOLUTION\n",
    "counter=0\n",
    "while counter<10:\n",
    "#    counter=counter+1\n",
    "    counter+=1\n",
    "    print(counter)\n",
    "###END SOLUTION\n",
    "while counter<10:\n",
    "    print(counter)"
   ]
  },
  {
   "cell_type": "markdown",
   "id": "c002abe3",
   "metadata": {},
   "source": [
    "## Break kommando\n",
    "I dessa loopar kan det hända att man vill hoppa ur innan de är klara. \n",
    "Vi testar om det går med `break`. Låt oss testa att avbryta så fort vi får ett heltal som är delbart med 7!\n",
    "Mer om `break` [här](https://docs.python.org/2.0/ref/break.html)"
   ]
  },
  {
   "cell_type": "code",
   "execution_count": 36,
   "id": "0a579371",
   "metadata": {},
   "outputs": [
    {
     "name": "stdout",
     "output_type": "stream",
     "text": [
      "1\n",
      "2\n",
      "3\n",
      "4\n",
      "5\n",
      "6\n"
     ]
    }
   ],
   "source": [
    "counter = 0\n",
    "while counter<10:\n",
    "    counter=counter+1\n",
    "    if counter%7==0:\n",
    "        break\n",
    "    print(counter)"
   ]
  },
  {
   "cell_type": "markdown",
   "id": "7d280c25",
   "metadata": {},
   "source": [
    "## Övning:\n",
    "Varför skriver vi inte ut 7:an? Fixa så att vi gör det."
   ]
  },
  {
   "cell_type": "code",
   "execution_count": 37,
   "id": "b8b84882",
   "metadata": {
    "nbgrader": {
     "grade": false,
     "grade_id": "cell-0840cb5ca8f055d2",
     "locked": false,
     "schema_version": 3,
     "solution": true,
     "task": false
    }
   },
   "outputs": [
    {
     "name": "stdout",
     "output_type": "stream",
     "text": [
      "1\n",
      "2\n",
      "3\n",
      "4\n",
      "5\n",
      "6\n",
      "7\n"
     ]
    }
   ],
   "source": [
    "###BEGIN SOLUTION\n",
    "counter = 0\n",
    "while counter<10:\n",
    "    counter=counter+1\n",
    "    print(counter)\n",
    "    if counter%7==0:\n",
    "        break\n",
    "###END SOLUTION\n",
    "    "
   ]
  },
  {
   "cell_type": "markdown",
   "id": "314380f7",
   "metadata": {},
   "source": [
    "## for-loop\n",
    "\n",
    "Funkar liknande som en `while` loop, men stegar efter vårt givna mönster (observera att i ovan fallet så bestämde vi hur den skulle stega). \n",
    "\n",
    "En `for`-loop har det följande generella formen:\n",
    "\n",
    "~~~ py\n",
    "for stegparametern in iterabel: \n",
    "    uttryck/funktioner\n",
    "~~~\n",
    "\n",
    "## Övning\n",
    "\n",
    "Testa att köra följande skript\n",
    "\n",
    "~~~ py\n",
    "for i in X:\n",
    "    print(i)\n",
    "~~~\n",
    "\n",
    "där du först sätter `X=[10,20,30]`, och sedan `X=['H','He','Li','Be','B']`. \n",
    "\n",
    "- Förklara vad som händer\n",
    "- I sista exemplet, använd `break` om slingan möter på grundämnet \"Be\""
   ]
  },
  {
   "cell_type": "code",
   "execution_count": 38,
   "id": "d919c0c4",
   "metadata": {
    "nbgrader": {
     "grade": false,
     "grade_id": "cell-6edf26b1790ec517",
     "locked": false,
     "schema_version": 3,
     "solution": true,
     "task": false
    }
   },
   "outputs": [
    {
     "name": "stdout",
     "output_type": "stream",
     "text": [
      "H\n",
      "He\n",
      "Li\n",
      "Be\n"
     ]
    }
   ],
   "source": [
    "###BEGIN SOLUTION\n",
    "X=[10,20,30]\n",
    "X=['H','He','Li','Be','B']\n",
    "An = [1,2,3,4,5]\n",
    "M = [1.01,4.00,6.94,9.01,10.81] \n",
    "for i in X:\n",
    "    print(i)\n",
    "    if i=='Be':\n",
    "        break\n",
    "###END SOLUTION"
   ]
  },
  {
   "cell_type": "markdown",
   "id": "dc87d869",
   "metadata": {},
   "source": [
    "## Index i for-loopen\n",
    "Ganska ofta kan det vara bra att veta var i slingan/loopen man är.\n",
    "Detta kan göras genom att använda sig av följande syntax (kodspråk):\n",
    "~~~ py\n",
    "for index, stegparametern in enumerate(iterabel): \n",
    "    uttryck/funktioner\n",
    "~~~\n",
    "\n",
    "I detta fallet kan vi använda det för att skriva ut atomnummer, grundämne och atommassa."
   ]
  },
  {
   "cell_type": "code",
   "execution_count": 39,
   "id": "fecf67ec",
   "metadata": {
    "scrolled": true
   },
   "outputs": [
    {
     "name": "stdout",
     "output_type": "stream",
     "text": [
      "1 H 1.01\n",
      "2 He 4.0\n",
      "3 Li 6.94\n",
      "4 Be 9.01\n"
     ]
    }
   ],
   "source": [
    "X = ['H','He','Li','Be','B']\n",
    "An = [1,2,3,4,5]\n",
    "M = [1.01,4.00,6.94,9.01,10.81] \n",
    "for index,i in enumerate(X):\n",
    "#    print(index,i)\n",
    "    print(An[index],X[index],M[index])\n",
    "    if i=='Be':\n",
    "        break"
   ]
  },
  {
   "cell_type": "markdown",
   "id": "53f21c2c",
   "metadata": {},
   "source": [
    "### En enklare loop\n",
    "I många fall vill stega med jämna steg. Detta kan enkelt göras utan att behöva specificera hela listan med tal.\n",
    "I nedanstpende \n"
   ]
  },
  {
   "cell_type": "code",
   "execution_count": 40,
   "id": "c9039afc",
   "metadata": {
    "scrolled": true
   },
   "outputs": [
    {
     "name": "stdout",
     "output_type": "stream",
     "text": [
      "0\n",
      "1\n",
      "2\n",
      "3\n",
      "4\n",
      "5\n",
      "6\n",
      "7\n",
      "8\n",
      "9\n"
     ]
    }
   ],
   "source": [
    "for i in range(0,10):\n",
    "    print(i)"
   ]
  },
  {
   "cell_type": "markdown",
   "id": "ae031961",
   "metadata": {},
   "source": [
    "Vi kan även stega med strörre steg. Vi testar med en steglängd på 3."
   ]
  },
  {
   "cell_type": "code",
   "execution_count": 41,
   "id": "99af669c",
   "metadata": {},
   "outputs": [
    {
     "name": "stdout",
     "output_type": "stream",
     "text": [
      "0\n",
      "3\n",
      "6\n",
      "9\n"
     ]
    }
   ],
   "source": [
    "for i in range(0,10,3):\n",
    "    print(i)"
   ]
  },
  {
   "cell_type": "markdown",
   "id": "8b75b806",
   "metadata": {},
   "source": [
    "# Funktioner\n",
    "\n",
    "Funktioner är en grupp av kod som är till för att öka tydligheten och förståelsen av koden.\n",
    "Oftast är detta kod som kommer att upprepas, användas på flera ställen.\n",
    "\n",
    "En funktion tar ett antal _argument_ eller parametrar vilka kommer användas (med olika operatorer) i funktionen.\n",
    "Vi ska nu använda en av dessa en funktion som vi kallar Boltzmann ($e^{-U/(k_B T)}$).\n",
    "Denna tar $x$ och $T$ som två argument ($kB$ och $Avog$ är två konstanter) och returnerar värdet ann ($e^{-U/(k_B T)}$."
   ]
  },
  {
   "cell_type": "code",
   "execution_count": 42,
   "id": "a1f550f6",
   "metadata": {},
   "outputs": [],
   "source": [
    "import math # tillåter oss att använda `math.exp()` funktionen\n",
    "kB = 1.380649e-23 # Boltzmanns konstant [m^2 kg s^{-2} K^{-1}]\n",
    "Avog = 6.022141e23\n",
    "def Boltzmann(x,T):\n",
    "    ''' returnerar det exponerade värdet delat med k_B*T'''\n",
    "    ''' x har enhet energi [J/mol]'''\n",
    "    x=x/Avog\n",
    "    ''' T är temperaturen i enhet [K]'''\n",
    "    return math.exp(-x/(kB*T))"
   ]
  },
  {
   "cell_type": "code",
   "execution_count": 43,
   "id": "5980290c",
   "metadata": {},
   "outputs": [
    {
     "data": {
      "text/plain": [
       "0.6679122403683848"
      ]
     },
     "execution_count": 43,
     "metadata": {},
     "output_type": "execute_result"
    }
   ],
   "source": [
    "Boltzmann(1000,298)"
   ]
  },
  {
   "cell_type": "markdown",
   "id": "61f33a09",
   "metadata": {},
   "source": [
    "# Partionering\n",
    "Antag att vi har en (läkemedels)molekyl som vi vill ha ut i kroppen. I kroppen finns både vattenbaserade och mer fettbaserade (lipider). Får att vet var dessa molekyler hamlar kan vi änvända oss av våran Boltzmann-funktion.\n",
    "Partitionen mellan två faser ges av\n",
    "\n",
    "$ P = \\frac{N_{\\rm vattenfas}}{N_{\\rm lipidfas}} = \\frac{e^{-\\beta \\Delta G_{solv,\\rm vattenfas}}}{e^{-\\beta \\Delta G_{solv, \\rm lipidfas}}}$.\n",
    "\n",
    "här så har vi använt $\\beta=1/(k_B T)$.Vanligtvis rapporterar man denna i logaritmisk skala:\n",
    "\n",
    "$\\ln(P)=-\\beta(\\Delta G_{solv,vattenfas}-\\Delta G_{solv,lipidfas})$.\n",
    "\n",
    "Vanligtvis rappoteras denna i med tiologaritmen $\\log$ snarare än den naturliga $\\ln$.\n",
    "Dock finns det ett sammanband mellan dess:\n",
    "$\\log(P) = \\ln(P)/\\ln(10)=\\ln(P) \\log(e)$.\n",
    "\n",
    "\n",
    "Vi ser om $P>1$ och $\\log(P)>0$, så är molekylen hydrofilik, annars lipofilik.\n"
   ]
  },
  {
   "cell_type": "markdown",
   "id": "b2b66e14",
   "metadata": {},
   "source": [
    "# Övning\n",
    "Anta att vi har en molekyl vars skillnad i solvatisering (i de olika faserna) är $(\\Delta G_{solv,vattenfas}-\\Delta G_{solv,lipidfas}) = 3 $ kJ/mol. Beräkna $\\log(P)$. Är denna molekyl lipifilik eller hydrofilik?\n"
   ]
  },
  {
   "cell_type": "code",
   "execution_count": 44,
   "id": "b966063a",
   "metadata": {
    "nbgrader": {
     "grade": false,
     "grade_id": "cell-4c202f313dd912c4",
     "locked": false,
     "schema_version": 3,
     "solution": true,
     "task": false
    }
   },
   "outputs": [
    {
     "name": "stdout",
     "output_type": "stream",
     "text": [
      "log10(P): -0.5258417923379349\n"
     ]
    }
   ],
   "source": [
    "###BEGIN SOLUTION\n",
    "print(\"log10(P):\", math.log10(Boltzmann(3000,298)))\n",
    "###END SOLUTION"
   ]
  },
  {
   "cell_type": "markdown",
   "id": "7dd6c422",
   "metadata": {},
   "source": [
    "# Kemisk reaktion\n",
    "\n",
    "For-slingan kan även användas för att simulera en kemisk reaktion. Detta kan t.ex. vara radioaktivt avklingning, en även förbränning i kroppen. Beroende på om reaktionen är nollte, första eller andra ordningen så ser tidsberoendet olika ut. För första ordningen så har vi följande\n",
    "\n",
    "$\\frac{d[C](t)}{dt}=-k[C](t)$\n",
    "\n",
    "där $[C](t)$ är koncentrationen vid tidpunkten $t$ och $k$ en reaktionshastighet. Vi testar:"
   ]
  },
  {
   "cell_type": "code",
   "execution_count": 45,
   "id": "4e13855d",
   "metadata": {},
   "outputs": [
    {
     "name": "stdout",
     "output_type": "stream",
     "text": [
      "0 1.0\n",
      "0.1 0.99\n",
      "0.2 0.9801\n",
      "0.30000000000000004 0.9702989999999999\n",
      "0.4 0.96059601\n",
      "0.5 0.9509900498999999\n",
      "0.6000000000000001 0.9414801494009999\n",
      "0.7000000000000001 0.9320653479069899\n",
      "0.8 0.92274469442792\n",
      "0.9 0.9135172474836407\n",
      "1.0 0.9043820750088043\n",
      "1.1 0.8953382542587163\n",
      "1.2000000000000002 0.8863848717161291\n",
      "1.3 0.8775210229989678\n",
      "1.4000000000000001 0.8687458127689781\n",
      "1.5 0.8600583546412883\n",
      "1.6 0.8514577710948754\n",
      "1.7000000000000002 0.8429431933839266\n",
      "1.8 0.8345137614500874\n",
      "1.9000000000000001 0.8261686238355865\n",
      "2.0 0.8179069375972307\n",
      "2.1 0.8097278682212583\n",
      "2.2 0.8016305895390458\n",
      "2.3000000000000003 0.7936142836436553\n",
      "2.4000000000000004 0.7856781408072188\n",
      "2.5 0.7778213593991465\n",
      "2.6 0.7700431458051551\n",
      "2.7 0.7623427143471035\n",
      "2.8000000000000003 0.7547192872036325\n",
      "2.9000000000000004 0.7471720943315961\n",
      "3.0 0.7397003733882802\n",
      "3.1 0.7323033696543974\n",
      "3.2 0.7249803359578534\n",
      "3.3000000000000003 0.7177305325982748\n",
      "3.4000000000000004 0.7105532272722921\n",
      "3.5 0.7034476949995692\n",
      "3.6 0.6964132180495735\n",
      "3.7 0.6894490858690777\n",
      "3.8000000000000003 0.682554595010387\n",
      "3.9000000000000004 0.6757290490602831\n",
      "4.0 0.6689717585696803\n",
      "4.1000000000000005 0.6622820409839835\n",
      "4.2 0.6556592205741436\n",
      "4.3 0.6491026283684022\n",
      "4.4 0.6426116020847181\n",
      "4.5 0.6361854860638709\n",
      "4.6000000000000005 0.6298236312032323\n",
      "4.7 0.6235253948912\n",
      "4.800000000000001 0.617290140942288\n",
      "4.9 0.6111172395328651\n",
      "5.0 0.6050060671375365\n",
      "5.1000000000000005 0.5989560064661611\n",
      "5.2 0.5929664464014994\n",
      "5.300000000000001 0.5870367819374844\n",
      "5.4 0.5811664141181095\n",
      "5.5 0.5753547499769285\n",
      "5.6000000000000005 0.5696012024771592\n",
      "5.7 0.5639051904523876\n",
      "5.800000000000001 0.5582661385478638\n",
      "5.9 0.5526834771623851\n",
      "6.0 0.5471566423907612\n",
      "6.1000000000000005 0.5416850759668536\n",
      "6.2 0.536268225207185\n",
      "6.300000000000001 0.5309055429551132\n",
      "6.4 0.525596487525562\n",
      "6.5 0.5203405226503064\n",
      "6.6000000000000005 0.5151371174238033\n",
      "6.7 0.5099857462495653\n",
      "6.800000000000001 0.5048858887870696\n",
      "6.9 0.4998370298991989\n",
      "7.0 0.49483865960020695\n",
      "7.1000000000000005 0.4898902730042049\n",
      "7.2 0.48499137027416284\n",
      "7.300000000000001 0.4801414565714212\n",
      "7.4 0.475340042005707\n",
      "7.5 0.47058664158564995\n",
      "7.6000000000000005 0.4658807751697934\n",
      "7.7 0.4612219674180955\n",
      "7.800000000000001 0.45660974774391455\n",
      "7.9 0.4520436502664754\n",
      "8.0 0.44752321376381066\n",
      "8.1 0.44304798162617254\n",
      "8.200000000000001 0.4386175018099108\n",
      "8.3 0.4342313267918117\n",
      "8.4 0.4298890135238936\n",
      "8.5 0.42559012338865465\n",
      "8.6 0.4213342221547681\n",
      "8.700000000000001 0.41712087993322045\n",
      "8.8 0.41294967113388825\n",
      "8.9 0.40882017442254937\n",
      "9.0 0.4047319726783239\n",
      "9.1 0.40068465295154065\n",
      "9.200000000000001 0.39667780642202527\n",
      "9.3 0.392711028357805\n",
      "9.4 0.38878391807422696\n",
      "9.5 0.3848960788934847\n",
      "9.600000000000001 0.38104711810454983\n",
      "9.700000000000001 0.37723664692350434\n",
      "9.8 0.37346428045426927\n",
      "9.9 0.36972963764972655\n",
      "10.0 0.36603234127322926\n"
     ]
    }
   ],
   "source": [
    "Cr =[]\n",
    "C = 1.\n",
    "k=0.1\n",
    "dt = 0.1\n",
    "T=100\n",
    "Cr.append(C)\n",
    "print(0,C)\n",
    "for i in range(0,T):\n",
    "    C = C*(1.-k*dt)\n",
    "    print((i+1)*dt,C)\n",
    "    Cr.append(C)\n",
    "    \n",
    "#print(Cr)\n",
    "        "
   ]
  },
  {
   "cell_type": "markdown",
   "id": "8d10c0a7",
   "metadata": {},
   "source": [
    "## Övning \n",
    "Stanna, genom att använda `break`, for-slingan vid tiden $\\frac{[C](t)}{[C](0)}=0.5$, dvs. vi halveringstiden. \n",
    "- Vilken tid får du?\n",
    "- Vad är förväntade värdet?"
   ]
  },
  {
   "cell_type": "code",
   "execution_count": 46,
   "id": "f91dada3",
   "metadata": {
    "nbgrader": {
     "grade": false,
     "grade_id": "cell-fd3fbb8562d0a9e4",
     "locked": false,
     "schema_version": 3,
     "solution": true,
     "task": false
    }
   },
   "outputs": [
    {
     "name": "stdout",
     "output_type": "stream",
     "text": [
      "0 1.0\n",
      "Halveringstiden är:  6.9\n",
      "Den förväntade halveringstiden är: 6.931471805599452\n"
     ]
    }
   ],
   "source": [
    "###BEGIN SOLUTION\n",
    "Cr =[]\n",
    "C = 1.\n",
    "k=0.1\n",
    "dt = 0.1\n",
    "T=100\n",
    "Cr.append(C)\n",
    "print(0,C)\n",
    "for i in range(0,T):\n",
    "    C = C*(1.-k*dt)\n",
    "#    print((i+1)*dt,C)\n",
    "    Cr.append(C)\n",
    "    if C<0.5:\n",
    "        print(\"Halveringstiden är: \",(i+1)*dt)\n",
    "        break;\n",
    "    \n",
    "#print(Cr)\n",
    "\n",
    "# exp(-0.1*t)=0.5 -> -ln(0.5)/0.1\n",
    "print(\"Den förväntade halveringstiden är:\", -math.log(0.5)/0.1)\n",
    "###END SOLUTION "
   ]
  },
  {
   "cell_type": "code",
   "execution_count": null,
   "id": "d84ccb1c",
   "metadata": {},
   "outputs": [],
   "source": []
  }
 ],
 "metadata": {
  "kernelspec": {
   "display_name": "Python 3 (ipykernel)",
   "language": "python",
   "name": "python3"
  },
  "language_info": {
   "codemirror_mode": {
    "name": "ipython",
    "version": 3
   },
   "file_extension": ".py",
   "mimetype": "text/x-python",
   "name": "python",
   "nbconvert_exporter": "python",
   "pygments_lexer": "ipython3",
   "version": "3.11.0"
  }
 },
 "nbformat": 4,
 "nbformat_minor": 5
}
