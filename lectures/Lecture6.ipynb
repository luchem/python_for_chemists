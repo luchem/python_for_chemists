{
 "cells": [
  {
   "attachments": {
    "image.png": {
     "image/png": "[encoded data removed]"
    }
   },
   "cell_type": "markdown",
   "metadata": {},
   "source": [
    "# Pandas\n",
    "\n",
    "Pandas är ett Python-bibliotek för att hantera strukturerad data (t.ex. excel/csv-filer). Det erbjuder verktyg för statistik, bekväma funktioner för att importera data och möjligheten att filtrera och extrahera information. Huvudstrukturen i Pandas kallas \"DataFrame\". Med en DataFrame kan du lagra och manipulera tabulära data, liknande ett Excel-ark. Den fungerar på sätt som liknar en generalisering av dictionaries för att associera fler än 2 objekt, och på andra sätt liknar den en 2D numpy-array.\n",
    "\n",
    "![image.png](attachment:image.png)\n",
    "\n",
    "Till skillnad från en NumPy-array kan en DataFrame innehålla olika datatyper, som exempelvis nummer och text, men datan i varje kolumn måste vara av samma typ.\n",
    "\n",
    "## Skapa en DataFrame\n",
    "\n",
    "En DataFrame kan läsas in från olika datakällor eller så kan den skapas från grunden. Till exempel kan vi skapa en DataFrame som innehåller information om kemiska föreningar, såsom molekylvikter, kokpunkter och lösligheter:"
   ]
  },
  {
   "cell_type": "code",
   "execution_count": 1,
   "metadata": {},
   "outputs": [
    {
     "name": "stdout",
     "output_type": "stream",
     "text": [
      "              Compound  MolecularWeight  BoilingPoint      Solubility\n",
      "0                Water          18.0150        100.00        Infinite\n",
      "1              Ethanol          46.0700         78.37        Miscible\n",
      "2              Benzene          78.1134         80.10  0.178 g/100 mL\n",
      "3             Methanol          32.0420         64.70        Miscible\n",
      "4              Acetone          58.0800         56.08        Miscible\n",
      "5              Toluene          92.1400        110.60            None\n",
      "6  Tetrachloroethylene         165.8000        121.20        206 mg/L\n"
     ]
    }
   ],
   "source": [
    "import pandas as pd\n",
    "import numpy as np\n",
    "\n",
    "data = {\n",
    "    'Compound': ['Water', 'Ethanol', 'Benzene', 'Methanol', 'Acetone', 'Toluene', 'Tetrachloroethylene'],\n",
    "    'MolecularWeight': [18.015, 46.07, 78.1134, 32.042, 58.08, 92.14, 165.8],\n",
    "    'BoilingPoint': [100, 78.37, 80.1, 64.7, 56.08, 110.6, 121.2],\n",
    "    'Solubility': ['Infinite', 'Miscible', '0.178 g/100 mL', 'Miscible', 'Miscible', 'None', '206 mg/L']\n",
    "}\n",
    "\n",
    "df = pd.DataFrame(data)\n",
    "print(df)"
   ]
  },
  {
   "cell_type": "code",
   "execution_count": 2,
   "metadata": {},
   "outputs": [
    {
     "data": {
      "text/html": [
       "<div>\n",
       "<style scoped>\n",
       "    .dataframe tbody tr th:only-of-type {\n",
       "        vertical-align: middle;\n",
       "    }\n",
       "\n",
       "    .dataframe tbody tr th {\n",
       "        vertical-align: top;\n",
       "    }\n",
       "\n",
       "    .dataframe thead th {\n",
       "        text-align: right;\n",
       "    }\n",
       "</style>\n",
       "<table border=\"1\" class=\"dataframe\">\n",
       "  <thead>\n",
       "    <tr style=\"text-align: right;\">\n",
       "      <th></th>\n",
       "      <th>Compound</th>\n",
       "      <th>MolecularWeight</th>\n",
       "      <th>BoilingPoint</th>\n",
       "      <th>Solubility</th>\n",
       "    </tr>\n",
       "  </thead>\n",
       "  <tbody>\n",
       "    <tr>\n",
       "      <th>0</th>\n",
       "      <td>Water</td>\n",
       "      <td>18.0150</td>\n",
       "      <td>100.00</td>\n",
       "      <td>Infinite</td>\n",
       "    </tr>\n",
       "    <tr>\n",
       "      <th>1</th>\n",
       "      <td>Ethanol</td>\n",
       "      <td>46.0700</td>\n",
       "      <td>78.37</td>\n",
       "      <td>Miscible</td>\n",
       "    </tr>\n",
       "    <tr>\n",
       "      <th>2</th>\n",
       "      <td>Benzene</td>\n",
       "      <td>78.1134</td>\n",
       "      <td>80.10</td>\n",
       "      <td>0.178 g/100 mL</td>\n",
       "    </tr>\n",
       "    <tr>\n",
       "      <th>3</th>\n",
       "      <td>Methanol</td>\n",
       "      <td>32.0420</td>\n",
       "      <td>64.70</td>\n",
       "      <td>Miscible</td>\n",
       "    </tr>\n",
       "    <tr>\n",
       "      <th>4</th>\n",
       "      <td>Acetone</td>\n",
       "      <td>58.0800</td>\n",
       "      <td>56.08</td>\n",
       "      <td>Miscible</td>\n",
       "    </tr>\n",
       "    <tr>\n",
       "      <th>5</th>\n",
       "      <td>Toluene</td>\n",
       "      <td>92.1400</td>\n",
       "      <td>110.60</td>\n",
       "      <td>None</td>\n",
       "    </tr>\n",
       "    <tr>\n",
       "      <th>6</th>\n",
       "      <td>Tetrachloroethylene</td>\n",
       "      <td>165.8000</td>\n",
       "      <td>121.20</td>\n",
       "      <td>206 mg/L</td>\n",
       "    </tr>\n",
       "  </tbody>\n",
       "</table>\n",
       "</div>"
      ],
      "text/plain": [
       "              Compound  MolecularWeight  BoilingPoint      Solubility\n",
       "0                Water          18.0150        100.00        Infinite\n",
       "1              Ethanol          46.0700         78.37        Miscible\n",
       "2              Benzene          78.1134         80.10  0.178 g/100 mL\n",
       "3             Methanol          32.0420         64.70        Miscible\n",
       "4              Acetone          58.0800         56.08        Miscible\n",
       "5              Toluene          92.1400        110.60            None\n",
       "6  Tetrachloroethylene         165.8000        121.20        206 mg/L"
      ]
     },
     "execution_count": 2,
     "metadata": {},
     "output_type": "execute_result"
    }
   ],
   "source": [
    "df"
   ]
  },
  {
   "cell_type": "markdown",
   "metadata": {},
   "source": [
    "Pandas har även en mycket kraftfull läs-funktion som kan, genom sina många alternativ, även hantera mycket komplicerade filer, till exempel CSV-filer eller Excel-filer. Titta på denna fil på internet \"http://www.jensuhlig.de/Kemm30/APS_Copper_SolarCell.dat\" som mättes vid en storskalig forskningsanläggning. \n",
    "\n",
    "Istället för att läsa hela filen så kan vi välja ut vilken data vi vill läsa. Från denna fil vill vi:\n",
    "\n",
    "1. Ignorera de första 30 raderna ('skiprows').\n",
    "2. Separera kolumnerna med lika många vita tecken som det finns genom att använda \"\\s+\" som separator. (regular expression)\n",
    "3. Endast läsa kolumnerna med namnen \"Energy\" och \"PR\" som vi räknade till att vara kolumn 2 och 14.\n",
    "4. Ge dem rätt namn och använda värdena under \"Energy\" som rad index (index_col=0)."
   ]
  },
  {
   "cell_type": "code",
   "execution_count": 3,
   "metadata": {},
   "outputs": [
    {
     "data": {
      "text/html": [
       "<div>\n",
       "<style scoped>\n",
       "    .dataframe tbody tr th:only-of-type {\n",
       "        vertical-align: middle;\n",
       "    }\n",
       "\n",
       "    .dataframe tbody tr th {\n",
       "        vertical-align: top;\n",
       "    }\n",
       "\n",
       "    .dataframe thead th {\n",
       "        text-align: right;\n",
       "    }\n",
       "</style>\n",
       "<table border=\"1\" class=\"dataframe\">\n",
       "  <thead>\n",
       "    <tr style=\"text-align: right;\">\n",
       "      <th></th>\n",
       "      <th>PR</th>\n",
       "    </tr>\n",
       "    <tr>\n",
       "      <th>Energy</th>\n",
       "      <th></th>\n",
       "    </tr>\n",
       "  </thead>\n",
       "  <tbody>\n",
       "    <tr>\n",
       "      <th>8.9289</th>\n",
       "      <td>0.159088</td>\n",
       "    </tr>\n",
       "    <tr>\n",
       "      <th>8.9339</th>\n",
       "      <td>0.161629</td>\n",
       "    </tr>\n",
       "    <tr>\n",
       "      <th>8.9389</th>\n",
       "      <td>0.162415</td>\n",
       "    </tr>\n",
       "    <tr>\n",
       "      <th>8.9439</th>\n",
       "      <td>0.163639</td>\n",
       "    </tr>\n",
       "    <tr>\n",
       "      <th>8.9489</th>\n",
       "      <td>0.165013</td>\n",
       "    </tr>\n",
       "    <tr>\n",
       "      <th>...</th>\n",
       "      <td>...</td>\n",
       "    </tr>\n",
       "    <tr>\n",
       "      <th>9.0249</th>\n",
       "      <td>1.005790</td>\n",
       "    </tr>\n",
       "    <tr>\n",
       "      <th>9.0259</th>\n",
       "      <td>1.014520</td>\n",
       "    </tr>\n",
       "    <tr>\n",
       "      <th>9.0269</th>\n",
       "      <td>1.025750</td>\n",
       "    </tr>\n",
       "    <tr>\n",
       "      <th>9.0279</th>\n",
       "      <td>1.032260</td>\n",
       "    </tr>\n",
       "    <tr>\n",
       "      <th>9.0289</th>\n",
       "      <td>1.043190</td>\n",
       "    </tr>\n",
       "  </tbody>\n",
       "</table>\n",
       "<p>92 rows × 1 columns</p>\n",
       "</div>"
      ],
      "text/plain": [
       "              PR\n",
       "Energy          \n",
       "8.9289  0.159088\n",
       "8.9339  0.161629\n",
       "8.9389  0.162415\n",
       "8.9439  0.163639\n",
       "8.9489  0.165013\n",
       "...          ...\n",
       "9.0249  1.005790\n",
       "9.0259  1.014520\n",
       "9.0269  1.025750\n",
       "9.0279  1.032260\n",
       "9.0289  1.043190\n",
       "\n",
       "[92 rows x 1 columns]"
      ]
     },
     "execution_count": 3,
     "metadata": {},
     "output_type": "execute_result"
    }
   ],
   "source": [
    "df_aps=pd.read_csv(\"http://www.jensuhlig.de/Kemm30/APS_Copper_SolarCell.dat\",skiprows=30,sep='\\s+',names=['Energy','PR'],index_col=0,usecols=[2,14])\n",
    "df_aps"
   ]
  },
  {
   "cell_type": "code",
   "execution_count": 4,
   "metadata": {},
   "outputs": [
    {
     "data": {
      "text/plain": [
       "<Axes: xlabel='Energy'>"
      ]
     },
     "execution_count": 4,
     "metadata": {},
     "output_type": "execute_result"
    },
    {
     "data": {
      "image/png": "[encoded data removed]",
      "text/plain": [
       "<Figure size 640x480 with 1 Axes>"
      ]
     },
     "metadata": {},
     "output_type": "display_data"
    }
   ],
   "source": [
    "df_aps.plot()"
   ]
  },
  {
   "cell_type": "markdown",
   "metadata": {},
   "source": [
    "Observera att det även finns en `read_excel` funktion för att läsa excel filer."
   ]
  },
  {
   "cell_type": "markdown",
   "metadata": {},
   "source": [
    "Vi återgår nu till vår ursprungliga DataFrame med kemiska föreningar. \n",
    "\n",
    "Istället för att skriva ut alla rader så kan vi visa endast de första raderna med `head` (eller de sista genom att använda `tail`):"
   ]
  },
  {
   "cell_type": "code",
   "execution_count": 5,
   "metadata": {},
   "outputs": [
    {
     "data": {
      "text/html": [
       "<div>\n",
       "<style scoped>\n",
       "    .dataframe tbody tr th:only-of-type {\n",
       "        vertical-align: middle;\n",
       "    }\n",
       "\n",
       "    .dataframe tbody tr th {\n",
       "        vertical-align: top;\n",
       "    }\n",
       "\n",
       "    .dataframe thead th {\n",
       "        text-align: right;\n",
       "    }\n",
       "</style>\n",
       "<table border=\"1\" class=\"dataframe\">\n",
       "  <thead>\n",
       "    <tr style=\"text-align: right;\">\n",
       "      <th></th>\n",
       "      <th>Compound</th>\n",
       "      <th>MolecularWeight</th>\n",
       "      <th>BoilingPoint</th>\n",
       "      <th>Solubility</th>\n",
       "    </tr>\n",
       "  </thead>\n",
       "  <tbody>\n",
       "    <tr>\n",
       "      <th>0</th>\n",
       "      <td>Water</td>\n",
       "      <td>18.0150</td>\n",
       "      <td>100.00</td>\n",
       "      <td>Infinite</td>\n",
       "    </tr>\n",
       "    <tr>\n",
       "      <th>1</th>\n",
       "      <td>Ethanol</td>\n",
       "      <td>46.0700</td>\n",
       "      <td>78.37</td>\n",
       "      <td>Miscible</td>\n",
       "    </tr>\n",
       "    <tr>\n",
       "      <th>2</th>\n",
       "      <td>Benzene</td>\n",
       "      <td>78.1134</td>\n",
       "      <td>80.10</td>\n",
       "      <td>0.178 g/100 mL</td>\n",
       "    </tr>\n",
       "    <tr>\n",
       "      <th>3</th>\n",
       "      <td>Methanol</td>\n",
       "      <td>32.0420</td>\n",
       "      <td>64.70</td>\n",
       "      <td>Miscible</td>\n",
       "    </tr>\n",
       "    <tr>\n",
       "      <th>4</th>\n",
       "      <td>Acetone</td>\n",
       "      <td>58.0800</td>\n",
       "      <td>56.08</td>\n",
       "      <td>Miscible</td>\n",
       "    </tr>\n",
       "  </tbody>\n",
       "</table>\n",
       "</div>"
      ],
      "text/plain": [
       "   Compound  MolecularWeight  BoilingPoint      Solubility\n",
       "0     Water          18.0150        100.00        Infinite\n",
       "1   Ethanol          46.0700         78.37        Miscible\n",
       "2   Benzene          78.1134         80.10  0.178 g/100 mL\n",
       "3  Methanol          32.0420         64.70        Miscible\n",
       "4   Acetone          58.0800         56.08        Miscible"
      ]
     },
     "execution_count": 5,
     "metadata": {},
     "output_type": "execute_result"
    }
   ],
   "source": [
    "df.head() #default 5 rows"
   ]
  },
  {
   "cell_type": "code",
   "execution_count": 6,
   "metadata": {},
   "outputs": [
    {
     "data": {
      "text/html": [
       "<div>\n",
       "<style scoped>\n",
       "    .dataframe tbody tr th:only-of-type {\n",
       "        vertical-align: middle;\n",
       "    }\n",
       "\n",
       "    .dataframe tbody tr th {\n",
       "        vertical-align: top;\n",
       "    }\n",
       "\n",
       "    .dataframe thead th {\n",
       "        text-align: right;\n",
       "    }\n",
       "</style>\n",
       "<table border=\"1\" class=\"dataframe\">\n",
       "  <thead>\n",
       "    <tr style=\"text-align: right;\">\n",
       "      <th></th>\n",
       "      <th>Compound</th>\n",
       "      <th>MolecularWeight</th>\n",
       "      <th>BoilingPoint</th>\n",
       "      <th>Solubility</th>\n",
       "    </tr>\n",
       "  </thead>\n",
       "  <tbody>\n",
       "    <tr>\n",
       "      <th>0</th>\n",
       "      <td>Water</td>\n",
       "      <td>18.0150</td>\n",
       "      <td>100.00</td>\n",
       "      <td>Infinite</td>\n",
       "    </tr>\n",
       "    <tr>\n",
       "      <th>1</th>\n",
       "      <td>Ethanol</td>\n",
       "      <td>46.0700</td>\n",
       "      <td>78.37</td>\n",
       "      <td>Miscible</td>\n",
       "    </tr>\n",
       "    <tr>\n",
       "      <th>2</th>\n",
       "      <td>Benzene</td>\n",
       "      <td>78.1134</td>\n",
       "      <td>80.10</td>\n",
       "      <td>0.178 g/100 mL</td>\n",
       "    </tr>\n",
       "  </tbody>\n",
       "</table>\n",
       "</div>"
      ],
      "text/plain": [
       "  Compound  MolecularWeight  BoilingPoint      Solubility\n",
       "0    Water          18.0150        100.00        Infinite\n",
       "1  Ethanol          46.0700         78.37        Miscible\n",
       "2  Benzene          78.1134         80.10  0.178 g/100 mL"
      ]
     },
     "execution_count": 6,
     "metadata": {},
     "output_type": "execute_result"
    }
   ],
   "source": [
    "df.head(3)"
   ]
  },
  {
   "cell_type": "markdown",
   "metadata": {},
   "source": [
    "# Åtkomst och modifiering av data\n",
    "\n",
    "Precis som med numpy kan vi få åtkomst till formen (d.v.s. antal rader och kolumner) på en DataFrame."
   ]
  },
  {
   "cell_type": "code",
   "execution_count": 7,
   "metadata": {},
   "outputs": [
    {
     "name": "stdout",
     "output_type": "stream",
     "text": [
      "(7, 4)\n"
     ]
    }
   ],
   "source": [
    "print(df.shape)"
   ]
  },
  {
   "cell_type": "markdown",
   "metadata": {},
   "source": [
    "Vi kan också få åtkomst till en lista över kolumn namnen."
   ]
  },
  {
   "cell_type": "code",
   "execution_count": 8,
   "metadata": {},
   "outputs": [
    {
     "name": "stdout",
     "output_type": "stream",
     "text": [
      "Index(['Compound', 'MolecularWeight', 'BoilingPoint', 'Solubility'], dtype='object')\n"
     ]
    }
   ],
   "source": [
    "print(df.columns)"
   ]
  },
  {
   "cell_type": "markdown",
   "metadata": {},
   "source": [
    "För att komma åt data i en DataFrame kan vi använda olika metoder och indexeringsfunktioner. \n",
    "\n",
    "De två viktigaste funktionerna för att få åtkomst till data är `.loc`, som tar namnet på rader/kolumner (som i en dictionary):"
   ]
  },
  {
   "cell_type": "code",
   "execution_count": 9,
   "metadata": {},
   "outputs": [
    {
     "data": {
      "text/plain": [
       "18.015"
      ]
     },
     "execution_count": 9,
     "metadata": {},
     "output_type": "execute_result"
    }
   ],
   "source": [
    "df.loc[0,'MolecularWeight'] #rad 0, kolumn 'MolecularWeight'"
   ]
  },
  {
   "cell_type": "markdown",
   "metadata": {},
   "source": [
    "och `.iloc.`, som istället tar index (som i numpy):"
   ]
  },
  {
   "cell_type": "code",
   "execution_count": 10,
   "metadata": {},
   "outputs": [
    {
     "data": {
      "text/plain": [
       "18.015"
      ]
     },
     "execution_count": 10,
     "metadata": {},
     "output_type": "execute_result"
    }
   ],
   "source": [
    "df.iloc[0,1]"
   ]
  },
  {
   "cell_type": "markdown",
   "metadata": {},
   "source": [
    "Observera att här är namnen på raderna helt enkelt index, vilket är standard. Men vi kan välja en specifik kolumn att bli namnet på raderna (så som vi gjorde ovan med index_col när vi läste CSV filen):"
   ]
  },
  {
   "cell_type": "code",
   "execution_count": 11,
   "metadata": {},
   "outputs": [
    {
     "data": {
      "text/html": [
       "<div>\n",
       "<style scoped>\n",
       "    .dataframe tbody tr th:only-of-type {\n",
       "        vertical-align: middle;\n",
       "    }\n",
       "\n",
       "    .dataframe tbody tr th {\n",
       "        vertical-align: top;\n",
       "    }\n",
       "\n",
       "    .dataframe thead th {\n",
       "        text-align: right;\n",
       "    }\n",
       "</style>\n",
       "<table border=\"1\" class=\"dataframe\">\n",
       "  <thead>\n",
       "    <tr style=\"text-align: right;\">\n",
       "      <th></th>\n",
       "      <th>MolecularWeight</th>\n",
       "      <th>BoilingPoint</th>\n",
       "      <th>Solubility</th>\n",
       "    </tr>\n",
       "    <tr>\n",
       "      <th>Compound</th>\n",
       "      <th></th>\n",
       "      <th></th>\n",
       "      <th></th>\n",
       "    </tr>\n",
       "  </thead>\n",
       "  <tbody>\n",
       "    <tr>\n",
       "      <th>Water</th>\n",
       "      <td>18.0150</td>\n",
       "      <td>100.00</td>\n",
       "      <td>Infinite</td>\n",
       "    </tr>\n",
       "    <tr>\n",
       "      <th>Ethanol</th>\n",
       "      <td>46.0700</td>\n",
       "      <td>78.37</td>\n",
       "      <td>Miscible</td>\n",
       "    </tr>\n",
       "    <tr>\n",
       "      <th>Benzene</th>\n",
       "      <td>78.1134</td>\n",
       "      <td>80.10</td>\n",
       "      <td>0.178 g/100 mL</td>\n",
       "    </tr>\n",
       "    <tr>\n",
       "      <th>Methanol</th>\n",
       "      <td>32.0420</td>\n",
       "      <td>64.70</td>\n",
       "      <td>Miscible</td>\n",
       "    </tr>\n",
       "    <tr>\n",
       "      <th>Acetone</th>\n",
       "      <td>58.0800</td>\n",
       "      <td>56.08</td>\n",
       "      <td>Miscible</td>\n",
       "    </tr>\n",
       "    <tr>\n",
       "      <th>Toluene</th>\n",
       "      <td>92.1400</td>\n",
       "      <td>110.60</td>\n",
       "      <td>None</td>\n",
       "    </tr>\n",
       "    <tr>\n",
       "      <th>Tetrachloroethylene</th>\n",
       "      <td>165.8000</td>\n",
       "      <td>121.20</td>\n",
       "      <td>206 mg/L</td>\n",
       "    </tr>\n",
       "  </tbody>\n",
       "</table>\n",
       "</div>"
      ],
      "text/plain": [
       "                     MolecularWeight  BoilingPoint      Solubility\n",
       "Compound                                                          \n",
       "Water                        18.0150        100.00        Infinite\n",
       "Ethanol                      46.0700         78.37        Miscible\n",
       "Benzene                      78.1134         80.10  0.178 g/100 mL\n",
       "Methanol                     32.0420         64.70        Miscible\n",
       "Acetone                      58.0800         56.08        Miscible\n",
       "Toluene                      92.1400        110.60            None\n",
       "Tetrachloroethylene         165.8000        121.20        206 mg/L"
      ]
     },
     "execution_count": 11,
     "metadata": {},
     "output_type": "execute_result"
    }
   ],
   "source": [
    "df_compound = df.set_index('Compound')\n",
    "df_compound"
   ]
  },
  {
   "cell_type": "code",
   "execution_count": 12,
   "metadata": {},
   "outputs": [
    {
     "data": {
      "text/plain": [
       "18.015"
      ]
     },
     "execution_count": 12,
     "metadata": {},
     "output_type": "execute_result"
    }
   ],
   "source": [
    "df_compound.loc['Water','MolecularWeight']"
   ]
  },
  {
   "cell_type": "markdown",
   "metadata": {},
   "source": [
    "`loc` och `iloc` tillåter användning av slicing:"
   ]
  },
  {
   "cell_type": "code",
   "execution_count": 13,
   "metadata": {},
   "outputs": [
    {
     "name": "stdout",
     "output_type": "stream",
     "text": [
      "0     18.0150\n",
      "1     46.0700\n",
      "2     78.1134\n",
      "3     32.0420\n",
      "4     58.0800\n",
      "5     92.1400\n",
      "6    165.8000\n",
      "Name: MolecularWeight, dtype: float64\n"
     ]
    }
   ],
   "source": [
    "print(df.loc[:, 'MolecularWeight']) #en kolumn"
   ]
  },
  {
   "cell_type": "code",
   "execution_count": 14,
   "metadata": {},
   "outputs": [
    {
     "name": "stdout",
     "output_type": "stream",
     "text": [
      "   MolecularWeight  BoilingPoint\n",
      "0          18.0150        100.00\n",
      "1          46.0700         78.37\n",
      "2          78.1134         80.10\n",
      "3          32.0420         64.70\n",
      "4          58.0800         56.08\n",
      "5          92.1400        110.60\n",
      "6         165.8000        121.20\n"
     ]
    }
   ],
   "source": [
    "print(df.loc[:,['MolecularWeight', 'BoilingPoint']]) #två kolumner"
   ]
  },
  {
   "cell_type": "code",
   "execution_count": 15,
   "metadata": {},
   "outputs": [
    {
     "data": {
      "text/plain": [
       "Compound              Water\n",
       "MolecularWeight      18.015\n",
       "BoilingPoint          100.0\n",
       "Solubility         Infinite\n",
       "Name: 0, dtype: object"
      ]
     },
     "execution_count": 15,
     "metadata": {},
     "output_type": "execute_result"
    }
   ],
   "source": [
    "df.loc[0,:] #en rad"
   ]
  },
  {
   "cell_type": "code",
   "execution_count": 16,
   "metadata": {},
   "outputs": [
    {
     "name": "stdout",
     "output_type": "stream",
     "text": [
      "   Compound  MolecularWeight\n",
      "0     Water          18.0150\n",
      "1   Ethanol          46.0700\n",
      "2   Benzene          78.1134\n",
      "3  Methanol          32.0420\n"
     ]
    }
   ],
   "source": [
    "print(df.iloc[:4, :2])"
   ]
  },
  {
   "cell_type": "markdown",
   "metadata": {},
   "source": [
    "För att få en specifik kolumn kan vi också använda enklare åtkomst i dictionary-stil:"
   ]
  },
  {
   "cell_type": "code",
   "execution_count": 17,
   "metadata": {},
   "outputs": [
    {
     "name": "stdout",
     "output_type": "stream",
     "text": [
      "0     18.0150\n",
      "1     46.0700\n",
      "2     78.1134\n",
      "3     32.0420\n",
      "4     58.0800\n",
      "5     92.1400\n",
      "6    165.8000\n",
      "Name: MolecularWeight, dtype: float64\n"
     ]
    }
   ],
   "source": [
    "print(df['MolecularWeight'])"
   ]
  },
  {
   "cell_type": "markdown",
   "metadata": {},
   "source": [
    "eller till och med, förutsatt att du använt ett namn utan mellanslag:"
   ]
  },
  {
   "cell_type": "code",
   "execution_count": 18,
   "metadata": {},
   "outputs": [
    {
     "data": {
      "text/plain": [
       "0     18.0150\n",
       "1     46.0700\n",
       "2     78.1134\n",
       "3     32.0420\n",
       "4     58.0800\n",
       "5     92.1400\n",
       "6    165.8000\n",
       "Name: MolecularWeight, dtype: float64"
      ]
     },
     "execution_count": 18,
     "metadata": {},
     "output_type": "execute_result"
    }
   ],
   "source": [
    "df.MolecularWeight"
   ]
  },
  {
   "cell_type": "markdown",
   "metadata": {},
   "source": [
    "För att filtrera DataFrame baserat på en given villkor kan du använda boolean-indexering. Låt oss, till exempel, säga att vi vill titta lite närmare på endast större molekyler. För att hitta och välja alla molekyler med en vikt över 50 g/mol och spara dem i en ny DataFrame:"
   ]
  },
  {
   "cell_type": "code",
   "execution_count": 19,
   "metadata": {},
   "outputs": [
    {
     "data": {
      "text/html": [
       "<div>\n",
       "<style scoped>\n",
       "    .dataframe tbody tr th:only-of-type {\n",
       "        vertical-align: middle;\n",
       "    }\n",
       "\n",
       "    .dataframe tbody tr th {\n",
       "        vertical-align: top;\n",
       "    }\n",
       "\n",
       "    .dataframe thead th {\n",
       "        text-align: right;\n",
       "    }\n",
       "</style>\n",
       "<table border=\"1\" class=\"dataframe\">\n",
       "  <thead>\n",
       "    <tr style=\"text-align: right;\">\n",
       "      <th></th>\n",
       "      <th>Compound</th>\n",
       "      <th>MolecularWeight</th>\n",
       "      <th>BoilingPoint</th>\n",
       "      <th>Solubility</th>\n",
       "    </tr>\n",
       "  </thead>\n",
       "  <tbody>\n",
       "    <tr>\n",
       "      <th>2</th>\n",
       "      <td>Benzene</td>\n",
       "      <td>78.1134</td>\n",
       "      <td>80.10</td>\n",
       "      <td>0.178 g/100 mL</td>\n",
       "    </tr>\n",
       "    <tr>\n",
       "      <th>4</th>\n",
       "      <td>Acetone</td>\n",
       "      <td>58.0800</td>\n",
       "      <td>56.08</td>\n",
       "      <td>Miscible</td>\n",
       "    </tr>\n",
       "    <tr>\n",
       "      <th>5</th>\n",
       "      <td>Toluene</td>\n",
       "      <td>92.1400</td>\n",
       "      <td>110.60</td>\n",
       "      <td>None</td>\n",
       "    </tr>\n",
       "    <tr>\n",
       "      <th>6</th>\n",
       "      <td>Tetrachloroethylene</td>\n",
       "      <td>165.8000</td>\n",
       "      <td>121.20</td>\n",
       "      <td>206 mg/L</td>\n",
       "    </tr>\n",
       "  </tbody>\n",
       "</table>\n",
       "</div>"
      ],
      "text/plain": [
       "              Compound  MolecularWeight  BoilingPoint      Solubility\n",
       "2              Benzene          78.1134         80.10  0.178 g/100 mL\n",
       "4              Acetone          58.0800         56.08        Miscible\n",
       "5              Toluene          92.1400        110.60            None\n",
       "6  Tetrachloroethylene         165.8000        121.20        206 mg/L"
      ]
     },
     "execution_count": 19,
     "metadata": {},
     "output_type": "execute_result"
    }
   ],
   "source": [
    "filtered_df = df[df['MolecularWeight'] > 50]\n",
    "filtered_df"
   ]
  },
  {
   "cell_type": "markdown",
   "metadata": {},
   "source": [
    "Om du använder siffror som rad index så kan du också använda slicing för att filtrera. Låt oss skapa en ny DataFrame utifrån tre Gaussian fördelningar:"
   ]
  },
  {
   "cell_type": "code",
   "execution_count": 20,
   "metadata": {},
   "outputs": [
    {
     "data": {
      "text/html": [
       "<div>\n",
       "<style scoped>\n",
       "    .dataframe tbody tr th:only-of-type {\n",
       "        vertical-align: middle;\n",
       "    }\n",
       "\n",
       "    .dataframe tbody tr th {\n",
       "        vertical-align: top;\n",
       "    }\n",
       "\n",
       "    .dataframe thead th {\n",
       "        text-align: right;\n",
       "    }\n",
       "</style>\n",
       "<table border=\"1\" class=\"dataframe\">\n",
       "  <thead>\n",
       "    <tr style=\"text-align: right;\">\n",
       "      <th></th>\n",
       "      <th>0</th>\n",
       "      <th>1</th>\n",
       "      <th>2</th>\n",
       "    </tr>\n",
       "  </thead>\n",
       "  <tbody>\n",
       "    <tr>\n",
       "      <th>-10.0</th>\n",
       "      <td>3.720076e-44</td>\n",
       "      <td>2.820770e-53</td>\n",
       "      <td>2.894640e-63</td>\n",
       "    </tr>\n",
       "    <tr>\n",
       "      <th>-9.9</th>\n",
       "      <td>2.721434e-43</td>\n",
       "      <td>2.520418e-52</td>\n",
       "      <td>3.159064e-62</td>\n",
       "    </tr>\n",
       "    <tr>\n",
       "      <th>-9.8</th>\n",
       "      <td>1.951452e-42</td>\n",
       "      <td>2.207454e-51</td>\n",
       "      <td>3.379375e-61</td>\n",
       "    </tr>\n",
       "    <tr>\n",
       "      <th>-9.7</th>\n",
       "      <td>1.371615e-41</td>\n",
       "      <td>1.895068e-50</td>\n",
       "      <td>3.543467e-60</td>\n",
       "    </tr>\n",
       "    <tr>\n",
       "      <th>-9.6</th>\n",
       "      <td>9.449755e-41</td>\n",
       "      <td>1.594674e-49</td>\n",
       "      <td>3.641954e-59</td>\n",
       "    </tr>\n",
       "    <tr>\n",
       "      <th>...</th>\n",
       "      <td>...</td>\n",
       "      <td>...</td>\n",
       "      <td>...</td>\n",
       "    </tr>\n",
       "    <tr>\n",
       "      <th>9.5</th>\n",
       "      <td>6.381503e-40</td>\n",
       "      <td>4.190093e-32</td>\n",
       "      <td>3.723363e-25</td>\n",
       "    </tr>\n",
       "    <tr>\n",
       "      <th>9.6</th>\n",
       "      <td>9.449755e-41</td>\n",
       "      <td>7.578445e-33</td>\n",
       "      <td>8.225281e-26</td>\n",
       "    </tr>\n",
       "    <tr>\n",
       "      <th>9.7</th>\n",
       "      <td>1.371615e-41</td>\n",
       "      <td>1.343540e-33</td>\n",
       "      <td>1.781067e-26</td>\n",
       "    </tr>\n",
       "    <tr>\n",
       "      <th>9.8</th>\n",
       "      <td>1.951452e-42</td>\n",
       "      <td>2.334723e-34</td>\n",
       "      <td>3.780278e-27</td>\n",
       "    </tr>\n",
       "    <tr>\n",
       "      <th>9.9</th>\n",
       "      <td>2.721434e-43</td>\n",
       "      <td>3.976803e-35</td>\n",
       "      <td>7.864686e-28</td>\n",
       "    </tr>\n",
       "  </tbody>\n",
       "</table>\n",
       "<p>200 rows × 3 columns</p>\n",
       "</div>"
      ],
      "text/plain": [
       "                  0             1             2\n",
       "-10.0  3.720076e-44  2.820770e-53  2.894640e-63\n",
       "-9.9   2.721434e-43  2.520418e-52  3.159064e-62\n",
       "-9.8   1.951452e-42  2.207454e-51  3.379375e-61\n",
       "-9.7   1.371615e-41  1.895068e-50  3.543467e-60\n",
       "-9.6   9.449755e-41  1.594674e-49  3.641954e-59\n",
       "...             ...           ...           ...\n",
       " 9.5   6.381503e-40  4.190093e-32  3.723363e-25\n",
       " 9.6   9.449755e-41  7.578445e-33  8.225281e-26\n",
       " 9.7   1.371615e-41  1.343540e-33  1.781067e-26\n",
       " 9.8   1.951452e-42  2.334723e-34  3.780278e-27\n",
       " 9.9   2.721434e-43  3.976803e-35  7.864686e-28\n",
       "\n",
       "[200 rows x 3 columns]"
      ]
     },
     "execution_count": 20,
     "metadata": {},
     "output_type": "execute_result"
    }
   ],
   "source": [
    "x_values = np.arange(-10,10,0.1)\n",
    "df_function={}\n",
    "df_function['0'] = np.exp(-x_values**2)\n",
    "df_function['1'] = np.exp(-(x_values-1)**2)\n",
    "df_function['2'] = np.exp(-(x_values-2)**2)\n",
    "df_function = pd.DataFrame(df_function,index=x_values) #använd x som index\n",
    "df_function"
   ]
  },
  {
   "cell_type": "code",
   "execution_count": 21,
   "metadata": {},
   "outputs": [
    {
     "data": {
      "text/html": [
       "<div>\n",
       "<style scoped>\n",
       "    .dataframe tbody tr th:only-of-type {\n",
       "        vertical-align: middle;\n",
       "    }\n",
       "\n",
       "    .dataframe tbody tr th {\n",
       "        vertical-align: top;\n",
       "    }\n",
       "\n",
       "    .dataframe thead th {\n",
       "        text-align: right;\n",
       "    }\n",
       "</style>\n",
       "<table border=\"1\" class=\"dataframe\">\n",
       "  <thead>\n",
       "    <tr style=\"text-align: right;\">\n",
       "      <th></th>\n",
       "      <th>0</th>\n",
       "      <th>1</th>\n",
       "      <th>2</th>\n",
       "    </tr>\n",
       "  </thead>\n",
       "  <tbody>\n",
       "    <tr>\n",
       "      <th>-9.000000e-01</th>\n",
       "      <td>0.444858</td>\n",
       "      <td>0.027052</td>\n",
       "      <td>0.000223</td>\n",
       "    </tr>\n",
       "    <tr>\n",
       "      <th>-8.000000e-01</th>\n",
       "      <td>0.527292</td>\n",
       "      <td>0.039164</td>\n",
       "      <td>0.000394</td>\n",
       "    </tr>\n",
       "    <tr>\n",
       "      <th>-7.000000e-01</th>\n",
       "      <td>0.612626</td>\n",
       "      <td>0.055576</td>\n",
       "      <td>0.000682</td>\n",
       "    </tr>\n",
       "    <tr>\n",
       "      <th>-6.000000e-01</th>\n",
       "      <td>0.697676</td>\n",
       "      <td>0.077305</td>\n",
       "      <td>0.001159</td>\n",
       "    </tr>\n",
       "    <tr>\n",
       "      <th>-5.000000e-01</th>\n",
       "      <td>0.778801</td>\n",
       "      <td>0.105399</td>\n",
       "      <td>0.001930</td>\n",
       "    </tr>\n",
       "    <tr>\n",
       "      <th>-4.000000e-01</th>\n",
       "      <td>0.852144</td>\n",
       "      <td>0.140858</td>\n",
       "      <td>0.003151</td>\n",
       "    </tr>\n",
       "    <tr>\n",
       "      <th>-3.000000e-01</th>\n",
       "      <td>0.913931</td>\n",
       "      <td>0.184520</td>\n",
       "      <td>0.005042</td>\n",
       "    </tr>\n",
       "    <tr>\n",
       "      <th>-2.000000e-01</th>\n",
       "      <td>0.960789</td>\n",
       "      <td>0.236928</td>\n",
       "      <td>0.007907</td>\n",
       "    </tr>\n",
       "    <tr>\n",
       "      <th>-1.000000e-01</th>\n",
       "      <td>0.990050</td>\n",
       "      <td>0.298197</td>\n",
       "      <td>0.012155</td>\n",
       "    </tr>\n",
       "    <tr>\n",
       "      <th>-3.552714e-14</th>\n",
       "      <td>1.000000</td>\n",
       "      <td>0.367879</td>\n",
       "      <td>0.018316</td>\n",
       "    </tr>\n",
       "    <tr>\n",
       "      <th>1.000000e-01</th>\n",
       "      <td>0.990050</td>\n",
       "      <td>0.444858</td>\n",
       "      <td>0.027052</td>\n",
       "    </tr>\n",
       "    <tr>\n",
       "      <th>2.000000e-01</th>\n",
       "      <td>0.960789</td>\n",
       "      <td>0.527292</td>\n",
       "      <td>0.039164</td>\n",
       "    </tr>\n",
       "    <tr>\n",
       "      <th>3.000000e-01</th>\n",
       "      <td>0.913931</td>\n",
       "      <td>0.612626</td>\n",
       "      <td>0.055576</td>\n",
       "    </tr>\n",
       "    <tr>\n",
       "      <th>4.000000e-01</th>\n",
       "      <td>0.852144</td>\n",
       "      <td>0.697676</td>\n",
       "      <td>0.077305</td>\n",
       "    </tr>\n",
       "    <tr>\n",
       "      <th>5.000000e-01</th>\n",
       "      <td>0.778801</td>\n",
       "      <td>0.778801</td>\n",
       "      <td>0.105399</td>\n",
       "    </tr>\n",
       "    <tr>\n",
       "      <th>6.000000e-01</th>\n",
       "      <td>0.697676</td>\n",
       "      <td>0.852144</td>\n",
       "      <td>0.140858</td>\n",
       "    </tr>\n",
       "    <tr>\n",
       "      <th>7.000000e-01</th>\n",
       "      <td>0.612626</td>\n",
       "      <td>0.913931</td>\n",
       "      <td>0.184520</td>\n",
       "    </tr>\n",
       "    <tr>\n",
       "      <th>8.000000e-01</th>\n",
       "      <td>0.527292</td>\n",
       "      <td>0.960789</td>\n",
       "      <td>0.236928</td>\n",
       "    </tr>\n",
       "    <tr>\n",
       "      <th>9.000000e-01</th>\n",
       "      <td>0.444858</td>\n",
       "      <td>0.990050</td>\n",
       "      <td>0.298197</td>\n",
       "    </tr>\n",
       "    <tr>\n",
       "      <th>1.000000e+00</th>\n",
       "      <td>0.367879</td>\n",
       "      <td>1.000000</td>\n",
       "      <td>0.367879</td>\n",
       "    </tr>\n",
       "  </tbody>\n",
       "</table>\n",
       "</div>"
      ],
      "text/plain": [
       "                      0         1         2\n",
       "-9.000000e-01  0.444858  0.027052  0.000223\n",
       "-8.000000e-01  0.527292  0.039164  0.000394\n",
       "-7.000000e-01  0.612626  0.055576  0.000682\n",
       "-6.000000e-01  0.697676  0.077305  0.001159\n",
       "-5.000000e-01  0.778801  0.105399  0.001930\n",
       "-4.000000e-01  0.852144  0.140858  0.003151\n",
       "-3.000000e-01  0.913931  0.184520  0.005042\n",
       "-2.000000e-01  0.960789  0.236928  0.007907\n",
       "-1.000000e-01  0.990050  0.298197  0.012155\n",
       "-3.552714e-14  1.000000  0.367879  0.018316\n",
       " 1.000000e-01  0.990050  0.444858  0.027052\n",
       " 2.000000e-01  0.960789  0.527292  0.039164\n",
       " 3.000000e-01  0.913931  0.612626  0.055576\n",
       " 4.000000e-01  0.852144  0.697676  0.077305\n",
       " 5.000000e-01  0.778801  0.778801  0.105399\n",
       " 6.000000e-01  0.697676  0.852144  0.140858\n",
       " 7.000000e-01  0.612626  0.913931  0.184520\n",
       " 8.000000e-01  0.527292  0.960789  0.236928\n",
       " 9.000000e-01  0.444858  0.990050  0.298197\n",
       " 1.000000e+00  0.367879  1.000000  0.367879"
      ]
     },
     "execution_count": 21,
     "metadata": {},
     "output_type": "execute_result"
    }
   ],
   "source": [
    "df_function.loc[-1:1,:]"
   ]
  },
  {
   "cell_type": "markdown",
   "metadata": {},
   "source": [
    "Observera att detta endast fungerar om raderna är sorterade!"
   ]
  },
  {
   "cell_type": "markdown",
   "metadata": {},
   "source": [
    "**Övning** Vi har en CSV-fil som innehåller information om alla kemiska element. Vi läsar den och skapar ett \"periodic table\" DataFrame."
   ]
  },
  {
   "cell_type": "code",
   "execution_count": 22,
   "metadata": {},
   "outputs": [
    {
     "data": {
      "text/html": [
       "<div>\n",
       "<style scoped>\n",
       "    .dataframe tbody tr th:only-of-type {\n",
       "        vertical-align: middle;\n",
       "    }\n",
       "\n",
       "    .dataframe tbody tr th {\n",
       "        vertical-align: top;\n",
       "    }\n",
       "\n",
       "    .dataframe thead th {\n",
       "        text-align: right;\n",
       "    }\n",
       "</style>\n",
       "<table border=\"1\" class=\"dataframe\">\n",
       "  <thead>\n",
       "    <tr style=\"text-align: right;\">\n",
       "      <th></th>\n",
       "      <th>AtomicNumber</th>\n",
       "      <th>Element</th>\n",
       "      <th>Symbol</th>\n",
       "      <th>AtomicMass</th>\n",
       "      <th>NumberofNeutrons</th>\n",
       "      <th>NumberofProtons</th>\n",
       "      <th>NumberofElectrons</th>\n",
       "      <th>Period</th>\n",
       "      <th>Group</th>\n",
       "      <th>Phase</th>\n",
       "      <th>...</th>\n",
       "      <th>Density</th>\n",
       "      <th>MeltingPoint</th>\n",
       "      <th>BoilingPoint</th>\n",
       "      <th>NumberOfIsotopes</th>\n",
       "      <th>Discoverer</th>\n",
       "      <th>Year</th>\n",
       "      <th>SpecificHeat</th>\n",
       "      <th>NumberofShells</th>\n",
       "      <th>NumberofValence</th>\n",
       "      <th>discovery_location</th>\n",
       "    </tr>\n",
       "  </thead>\n",
       "  <tbody>\n",
       "    <tr>\n",
       "      <th>0</th>\n",
       "      <td>1</td>\n",
       "      <td>Hydrogen</td>\n",
       "      <td>H</td>\n",
       "      <td>1.007</td>\n",
       "      <td>0</td>\n",
       "      <td>1</td>\n",
       "      <td>1</td>\n",
       "      <td>1</td>\n",
       "      <td>1.0</td>\n",
       "      <td>gas</td>\n",
       "      <td>...</td>\n",
       "      <td>0.000090</td>\n",
       "      <td>14.175</td>\n",
       "      <td>20.28</td>\n",
       "      <td>3.0</td>\n",
       "      <td>Cavendish</td>\n",
       "      <td>1766.0</td>\n",
       "      <td>14.304</td>\n",
       "      <td>1</td>\n",
       "      <td>1.0</td>\n",
       "      <td>England</td>\n",
       "    </tr>\n",
       "    <tr>\n",
       "      <th>1</th>\n",
       "      <td>2</td>\n",
       "      <td>Helium</td>\n",
       "      <td>He</td>\n",
       "      <td>4.002</td>\n",
       "      <td>2</td>\n",
       "      <td>2</td>\n",
       "      <td>2</td>\n",
       "      <td>1</td>\n",
       "      <td>18.0</td>\n",
       "      <td>gas</td>\n",
       "      <td>...</td>\n",
       "      <td>0.000179</td>\n",
       "      <td>NaN</td>\n",
       "      <td>4.22</td>\n",
       "      <td>5.0</td>\n",
       "      <td>Janssen</td>\n",
       "      <td>1868.0</td>\n",
       "      <td>5.193</td>\n",
       "      <td>1</td>\n",
       "      <td>NaN</td>\n",
       "      <td>Scotland/Sweden</td>\n",
       "    </tr>\n",
       "    <tr>\n",
       "      <th>2</th>\n",
       "      <td>3</td>\n",
       "      <td>Lithium</td>\n",
       "      <td>Li</td>\n",
       "      <td>6.941</td>\n",
       "      <td>4</td>\n",
       "      <td>3</td>\n",
       "      <td>3</td>\n",
       "      <td>2</td>\n",
       "      <td>1.0</td>\n",
       "      <td>solid</td>\n",
       "      <td>...</td>\n",
       "      <td>0.534000</td>\n",
       "      <td>453.850</td>\n",
       "      <td>1615.00</td>\n",
       "      <td>5.0</td>\n",
       "      <td>Arfvedson</td>\n",
       "      <td>1817.0</td>\n",
       "      <td>3.582</td>\n",
       "      <td>2</td>\n",
       "      <td>1.0</td>\n",
       "      <td>Sweden</td>\n",
       "    </tr>\n",
       "    <tr>\n",
       "      <th>3</th>\n",
       "      <td>4</td>\n",
       "      <td>Beryllium</td>\n",
       "      <td>Be</td>\n",
       "      <td>9.012</td>\n",
       "      <td>5</td>\n",
       "      <td>4</td>\n",
       "      <td>4</td>\n",
       "      <td>2</td>\n",
       "      <td>2.0</td>\n",
       "      <td>solid</td>\n",
       "      <td>...</td>\n",
       "      <td>1.850000</td>\n",
       "      <td>1560.150</td>\n",
       "      <td>2742.00</td>\n",
       "      <td>6.0</td>\n",
       "      <td>Vaulquelin</td>\n",
       "      <td>1798.0</td>\n",
       "      <td>1.825</td>\n",
       "      <td>2</td>\n",
       "      <td>2.0</td>\n",
       "      <td>Germany/France</td>\n",
       "    </tr>\n",
       "    <tr>\n",
       "      <th>4</th>\n",
       "      <td>5</td>\n",
       "      <td>Boron</td>\n",
       "      <td>B</td>\n",
       "      <td>10.811</td>\n",
       "      <td>6</td>\n",
       "      <td>5</td>\n",
       "      <td>5</td>\n",
       "      <td>2</td>\n",
       "      <td>13.0</td>\n",
       "      <td>solid</td>\n",
       "      <td>...</td>\n",
       "      <td>2.340000</td>\n",
       "      <td>2573.150</td>\n",
       "      <td>4200.00</td>\n",
       "      <td>6.0</td>\n",
       "      <td>Gay-Lussac</td>\n",
       "      <td>1808.0</td>\n",
       "      <td>1.026</td>\n",
       "      <td>2</td>\n",
       "      <td>3.0</td>\n",
       "      <td>England/France</td>\n",
       "    </tr>\n",
       "  </tbody>\n",
       "</table>\n",
       "<p>5 rows × 29 columns</p>\n",
       "</div>"
      ],
      "text/plain": [
       "   AtomicNumber    Element Symbol  AtomicMass  NumberofNeutrons  \\\n",
       "0             1   Hydrogen      H       1.007                 0   \n",
       "1             2     Helium     He       4.002                 2   \n",
       "2             3    Lithium     Li       6.941                 4   \n",
       "3             4  Beryllium     Be       9.012                 5   \n",
       "4             5      Boron      B      10.811                 6   \n",
       "\n",
       "   NumberofProtons  NumberofElectrons  Period  Group  Phase  ...   Density  \\\n",
       "0                1                  1       1    1.0    gas  ...  0.000090   \n",
       "1                2                  2       1   18.0    gas  ...  0.000179   \n",
       "2                3                  3       2    1.0  solid  ...  0.534000   \n",
       "3                4                  4       2    2.0  solid  ...  1.850000   \n",
       "4                5                  5       2   13.0  solid  ...  2.340000   \n",
       "\n",
       "  MeltingPoint BoilingPoint NumberOfIsotopes  Discoverer    Year  \\\n",
       "0       14.175        20.28              3.0   Cavendish  1766.0   \n",
       "1          NaN         4.22              5.0     Janssen  1868.0   \n",
       "2      453.850      1615.00              5.0   Arfvedson  1817.0   \n",
       "3     1560.150      2742.00              6.0  Vaulquelin  1798.0   \n",
       "4     2573.150      4200.00              6.0  Gay-Lussac  1808.0   \n",
       "\n",
       "   SpecificHeat  NumberofShells  NumberofValence  discovery_location  \n",
       "0        14.304               1              1.0             England  \n",
       "1         5.193               1              NaN     Scotland/Sweden  \n",
       "2         3.582               2              1.0              Sweden  \n",
       "3         1.825               2              2.0      Germany/France  \n",
       "4         1.026               2              3.0      England/France  \n",
       "\n",
       "[5 rows x 29 columns]"
      ]
     },
     "execution_count": 22,
     "metadata": {},
     "output_type": "execute_result"
    }
   ],
   "source": [
    "df_pt = pd.read_csv(\"ptable.csv\")\n",
    "df_pt.head()"
   ]
  },
  {
   "cell_type": "markdown",
   "metadata": {},
   "source": [
    "**Uppgift 1** Skriv ut alla element som upptäcktes före år 1850."
   ]
  },
  {
   "cell_type": "code",
   "execution_count": 23,
   "metadata": {
    "scrolled": true
   },
   "outputs": [
    {
     "data": {
      "text/plain": [
       "0       Hydrogen\n",
       "2        Lithium\n",
       "3      Beryllium\n",
       "4          Boron\n",
       "6       Nitrogen\n",
       "7         Oxygen\n",
       "10        Sodium\n",
       "11     Magnesium\n",
       "12      Aluminum\n",
       "13       Silicon\n",
       "14    Phosphorus\n",
       "16      Chlorine\n",
       "18     Potassium\n",
       "19       Calcium\n",
       "21      Titanium\n",
       "22      Vanadium\n",
       "23      Chromium\n",
       "24     Manganese\n",
       "26        Cobalt\n",
       "27        Nickel\n",
       "32       Arsenic\n",
       "33      Selenium\n",
       "34       Bromine\n",
       "37     Strontium\n",
       "38       Yttrium\n",
       "39     Zirconium\n",
       "40       Niobium\n",
       "41    Molybdenum\n",
       "43     Ruthenium\n",
       "44       Rhodium\n",
       "45     Palladium\n",
       "47       Cadmium\n",
       "51     Tellurium\n",
       "52        Iodine\n",
       "55        Barium\n",
       "56     Lanthanum\n",
       "57        Cerium\n",
       "64       Terbium\n",
       "67        Erbium\n",
       "72      Tantalum\n",
       "73      Tungsten\n",
       "75        Osmium\n",
       "76       Iridium\n",
       "77      Platinum\n",
       "82       Bismuth\n",
       "89       Thorium\n",
       "91       Uranium\n",
       "Name: Element, dtype: object"
      ]
     },
     "execution_count": 23,
     "metadata": {},
     "output_type": "execute_result"
    }
   ],
   "source": [
    "### BEGIN SOLUTION\n",
    "df_pt[df_pt[\"Year\"]<1850].Element\n",
    "### END SOLUTION"
   ]
  },
  {
   "cell_type": "markdown",
   "metadata": {},
   "source": [
    "**Uppgift 2** Vilken element upptäcktes tidigast? **Tips** Använd np.argmin"
   ]
  },
  {
   "cell_type": "code",
   "execution_count": 24,
   "metadata": {},
   "outputs": [
    {
     "name": "stdout",
     "output_type": "stream",
     "text": [
      "Arsenic upptäckades i 1250.0\n"
     ]
    }
   ],
   "source": [
    "### BEGIN SOLUTION\n",
    "earliest_element = df_pt.iloc[np.argmin(df_pt[\"Year\"])]\n",
    "print(earliest_element[\"Element\"], \"upptäckades i\", earliest_element[\"Year\"])\n",
    "### END SOLUTION"
   ]
  },
  {
   "cell_type": "markdown",
   "metadata": {},
   "source": [
    "**Uppgift 3** Hur många element upptäcktes först i Sverige? (ni kan ignorera de som upptäcktes i två länder)."
   ]
  },
  {
   "cell_type": "code",
   "execution_count": 25,
   "metadata": {},
   "outputs": [
    {
     "name": "stdout",
     "output_type": "stream",
     "text": [
      "17\n",
      "17\n"
     ]
    }
   ],
   "source": [
    "### BEGIN SOLUTION\n",
    "print(len(df_pt[df_pt[\"discovery_location\"] == 'Sweden']))\n",
    "print(df_pt[df_pt[\"discovery_location\"] == 'Sweden'].shape[0])\n",
    "### END SOLUTION"
   ]
  },
  {
   "cell_type": "markdown",
   "metadata": {},
   "source": [
    "Du får hela listan med:"
   ]
  },
  {
   "cell_type": "code",
   "execution_count": 43,
   "metadata": {},
   "outputs": [
    {
     "data": {
      "text/plain": [
       "1          Helium\n",
       "2         Lithium\n",
       "7          Oxygen\n",
       "13        Silicon\n",
       "16       Chlorine\n",
       "20       Scandium\n",
       "22       Vanadium\n",
       "24      Manganese\n",
       "26         Cobalt\n",
       "27         Nickel\n",
       "33       Selenium\n",
       "41     Molybdenum\n",
       "56      Lanthanum\n",
       "57         Cerium\n",
       "64        Terbium\n",
       "67         Erbium\n",
       "68        Thulium\n",
       "72       Tantalum\n",
       "89        Thorium\n",
       "101      Nobelium\n",
       "Name: Element, dtype: object"
      ]
     },
     "execution_count": 43,
     "metadata": {},
     "output_type": "execute_result"
    }
   ],
   "source": [
    "df_pt[df_pt[\"discovery_location\"].str.contains('Sweden', na=False)][\"Element\"]"
   ]
  },
  {
   "cell_type": "markdown",
   "metadata": {},
   "source": [
    "Det finns många sätt att ändra en befintlig DataFrame efter att den har skapats. Du kan till exempel byta namn på rader eller kolumner:"
   ]
  },
  {
   "cell_type": "code",
   "execution_count": 28,
   "metadata": {},
   "outputs": [
    {
     "data": {
      "text/html": [
       "<div>\n",
       "<style scoped>\n",
       "    .dataframe tbody tr th:only-of-type {\n",
       "        vertical-align: middle;\n",
       "    }\n",
       "\n",
       "    .dataframe tbody tr th {\n",
       "        vertical-align: top;\n",
       "    }\n",
       "\n",
       "    .dataframe thead th {\n",
       "        text-align: right;\n",
       "    }\n",
       "</style>\n",
       "<table border=\"1\" class=\"dataframe\">\n",
       "  <thead>\n",
       "    <tr style=\"text-align: right;\">\n",
       "      <th></th>\n",
       "      <th>Name</th>\n",
       "      <th>MolecularWeight</th>\n",
       "      <th>BoilingPoint</th>\n",
       "      <th>Solubility</th>\n",
       "    </tr>\n",
       "  </thead>\n",
       "  <tbody>\n",
       "    <tr>\n",
       "      <th>0</th>\n",
       "      <td>Water</td>\n",
       "      <td>18.0150</td>\n",
       "      <td>100.00</td>\n",
       "      <td>Infinite</td>\n",
       "    </tr>\n",
       "    <tr>\n",
       "      <th>1</th>\n",
       "      <td>Ethanol</td>\n",
       "      <td>46.0700</td>\n",
       "      <td>78.37</td>\n",
       "      <td>Miscible</td>\n",
       "    </tr>\n",
       "    <tr>\n",
       "      <th>2</th>\n",
       "      <td>Benzene</td>\n",
       "      <td>78.1134</td>\n",
       "      <td>80.10</td>\n",
       "      <td>0.178 g/100 mL</td>\n",
       "    </tr>\n",
       "    <tr>\n",
       "      <th>3</th>\n",
       "      <td>Methanol</td>\n",
       "      <td>32.0420</td>\n",
       "      <td>64.70</td>\n",
       "      <td>Miscible</td>\n",
       "    </tr>\n",
       "    <tr>\n",
       "      <th>4</th>\n",
       "      <td>Acetone</td>\n",
       "      <td>58.0800</td>\n",
       "      <td>56.08</td>\n",
       "      <td>Miscible</td>\n",
       "    </tr>\n",
       "    <tr>\n",
       "      <th>5</th>\n",
       "      <td>Toluene</td>\n",
       "      <td>92.1400</td>\n",
       "      <td>110.60</td>\n",
       "      <td>None</td>\n",
       "    </tr>\n",
       "    <tr>\n",
       "      <th>6</th>\n",
       "      <td>Tetrachloroethylene</td>\n",
       "      <td>165.8000</td>\n",
       "      <td>121.20</td>\n",
       "      <td>206 mg/L</td>\n",
       "    </tr>\n",
       "  </tbody>\n",
       "</table>\n",
       "</div>"
      ],
      "text/plain": [
       "                  Name  MolecularWeight  BoilingPoint      Solubility\n",
       "0                Water          18.0150        100.00        Infinite\n",
       "1              Ethanol          46.0700         78.37        Miscible\n",
       "2              Benzene          78.1134         80.10  0.178 g/100 mL\n",
       "3             Methanol          32.0420         64.70        Miscible\n",
       "4              Acetone          58.0800         56.08        Miscible\n",
       "5              Toluene          92.1400        110.60            None\n",
       "6  Tetrachloroethylene         165.8000        121.20        206 mg/L"
      ]
     },
     "execution_count": 28,
     "metadata": {},
     "output_type": "execute_result"
    }
   ],
   "source": [
    "dg = df.rename(columns={\"Compound\": \"Name\"})\n",
    "dg"
   ]
  },
  {
   "cell_type": "markdown",
   "metadata": {},
   "source": [
    "Notera att den här funktion returnera en ny DataFrame (som i detta fallet har sparats som `dg`). Originalet finns dock fortfarande kvar:"
   ]
  },
  {
   "cell_type": "code",
   "execution_count": 29,
   "metadata": {},
   "outputs": [
    {
     "data": {
      "text/html": [
       "<div>\n",
       "<style scoped>\n",
       "    .dataframe tbody tr th:only-of-type {\n",
       "        vertical-align: middle;\n",
       "    }\n",
       "\n",
       "    .dataframe tbody tr th {\n",
       "        vertical-align: top;\n",
       "    }\n",
       "\n",
       "    .dataframe thead th {\n",
       "        text-align: right;\n",
       "    }\n",
       "</style>\n",
       "<table border=\"1\" class=\"dataframe\">\n",
       "  <thead>\n",
       "    <tr style=\"text-align: right;\">\n",
       "      <th></th>\n",
       "      <th>Compound</th>\n",
       "      <th>MolecularWeight</th>\n",
       "      <th>BoilingPoint</th>\n",
       "      <th>Solubility</th>\n",
       "    </tr>\n",
       "  </thead>\n",
       "  <tbody>\n",
       "    <tr>\n",
       "      <th>0</th>\n",
       "      <td>Water</td>\n",
       "      <td>18.0150</td>\n",
       "      <td>100.00</td>\n",
       "      <td>Infinite</td>\n",
       "    </tr>\n",
       "    <tr>\n",
       "      <th>1</th>\n",
       "      <td>Ethanol</td>\n",
       "      <td>46.0700</td>\n",
       "      <td>78.37</td>\n",
       "      <td>Miscible</td>\n",
       "    </tr>\n",
       "    <tr>\n",
       "      <th>2</th>\n",
       "      <td>Benzene</td>\n",
       "      <td>78.1134</td>\n",
       "      <td>80.10</td>\n",
       "      <td>0.178 g/100 mL</td>\n",
       "    </tr>\n",
       "    <tr>\n",
       "      <th>3</th>\n",
       "      <td>Methanol</td>\n",
       "      <td>32.0420</td>\n",
       "      <td>64.70</td>\n",
       "      <td>Miscible</td>\n",
       "    </tr>\n",
       "    <tr>\n",
       "      <th>4</th>\n",
       "      <td>Acetone</td>\n",
       "      <td>58.0800</td>\n",
       "      <td>56.08</td>\n",
       "      <td>Miscible</td>\n",
       "    </tr>\n",
       "    <tr>\n",
       "      <th>5</th>\n",
       "      <td>Toluene</td>\n",
       "      <td>92.1400</td>\n",
       "      <td>110.60</td>\n",
       "      <td>None</td>\n",
       "    </tr>\n",
       "    <tr>\n",
       "      <th>6</th>\n",
       "      <td>Tetrachloroethylene</td>\n",
       "      <td>165.8000</td>\n",
       "      <td>121.20</td>\n",
       "      <td>206 mg/L</td>\n",
       "    </tr>\n",
       "  </tbody>\n",
       "</table>\n",
       "</div>"
      ],
      "text/plain": [
       "              Compound  MolecularWeight  BoilingPoint      Solubility\n",
       "0                Water          18.0150        100.00        Infinite\n",
       "1              Ethanol          46.0700         78.37        Miscible\n",
       "2              Benzene          78.1134         80.10  0.178 g/100 mL\n",
       "3             Methanol          32.0420         64.70        Miscible\n",
       "4              Acetone          58.0800         56.08        Miscible\n",
       "5              Toluene          92.1400        110.60            None\n",
       "6  Tetrachloroethylene         165.8000        121.20        206 mg/L"
      ]
     },
     "execution_count": 29,
     "metadata": {},
     "output_type": "execute_result"
    }
   ],
   "source": [
    "df"
   ]
  },
  {
   "cell_type": "markdown",
   "metadata": {},
   "source": [
    "Om vi vill utföra operationen direkt på plats (i befintlig DataFrame) behöver vi ange `inplace=True`:"
   ]
  },
  {
   "cell_type": "code",
   "execution_count": 30,
   "metadata": {},
   "outputs": [
    {
     "data": {
      "text/html": [
       "<div>\n",
       "<style scoped>\n",
       "    .dataframe tbody tr th:only-of-type {\n",
       "        vertical-align: middle;\n",
       "    }\n",
       "\n",
       "    .dataframe tbody tr th {\n",
       "        vertical-align: top;\n",
       "    }\n",
       "\n",
       "    .dataframe thead th {\n",
       "        text-align: right;\n",
       "    }\n",
       "</style>\n",
       "<table border=\"1\" class=\"dataframe\">\n",
       "  <thead>\n",
       "    <tr style=\"text-align: right;\">\n",
       "      <th></th>\n",
       "      <th>Name</th>\n",
       "      <th>MolecularWeight</th>\n",
       "      <th>BoilingPoint</th>\n",
       "      <th>Solubility</th>\n",
       "    </tr>\n",
       "  </thead>\n",
       "  <tbody>\n",
       "    <tr>\n",
       "      <th>0</th>\n",
       "      <td>Water</td>\n",
       "      <td>18.0150</td>\n",
       "      <td>100.00</td>\n",
       "      <td>Infinite</td>\n",
       "    </tr>\n",
       "    <tr>\n",
       "      <th>1</th>\n",
       "      <td>Ethanol</td>\n",
       "      <td>46.0700</td>\n",
       "      <td>78.37</td>\n",
       "      <td>Miscible</td>\n",
       "    </tr>\n",
       "    <tr>\n",
       "      <th>2</th>\n",
       "      <td>Benzene</td>\n",
       "      <td>78.1134</td>\n",
       "      <td>80.10</td>\n",
       "      <td>0.178 g/100 mL</td>\n",
       "    </tr>\n",
       "    <tr>\n",
       "      <th>3</th>\n",
       "      <td>Methanol</td>\n",
       "      <td>32.0420</td>\n",
       "      <td>64.70</td>\n",
       "      <td>Miscible</td>\n",
       "    </tr>\n",
       "    <tr>\n",
       "      <th>4</th>\n",
       "      <td>Acetone</td>\n",
       "      <td>58.0800</td>\n",
       "      <td>56.08</td>\n",
       "      <td>Miscible</td>\n",
       "    </tr>\n",
       "    <tr>\n",
       "      <th>5</th>\n",
       "      <td>Toluene</td>\n",
       "      <td>92.1400</td>\n",
       "      <td>110.60</td>\n",
       "      <td>None</td>\n",
       "    </tr>\n",
       "    <tr>\n",
       "      <th>6</th>\n",
       "      <td>Tetrachloroethylene</td>\n",
       "      <td>165.8000</td>\n",
       "      <td>121.20</td>\n",
       "      <td>206 mg/L</td>\n",
       "    </tr>\n",
       "  </tbody>\n",
       "</table>\n",
       "</div>"
      ],
      "text/plain": [
       "                  Name  MolecularWeight  BoilingPoint      Solubility\n",
       "0                Water          18.0150        100.00        Infinite\n",
       "1              Ethanol          46.0700         78.37        Miscible\n",
       "2              Benzene          78.1134         80.10  0.178 g/100 mL\n",
       "3             Methanol          32.0420         64.70        Miscible\n",
       "4              Acetone          58.0800         56.08        Miscible\n",
       "5              Toluene          92.1400        110.60            None\n",
       "6  Tetrachloroethylene         165.8000        121.20        206 mg/L"
      ]
     },
     "execution_count": 30,
     "metadata": {},
     "output_type": "execute_result"
    }
   ],
   "source": [
    "df.rename(columns={\"Compound\": \"Name\"}, inplace=True)\n",
    "df"
   ]
  },
  {
   "cell_type": "markdown",
   "metadata": {},
   "source": [
    "Du kan lägga till nya kolumner i befintliga DataFrames. Till exempel, för att konvertera kokpunkterna från Celsius till Fahrenheit och lägga till detta som en ny kolumn:"
   ]
  },
  {
   "cell_type": "code",
   "execution_count": 31,
   "metadata": {
    "scrolled": true
   },
   "outputs": [
    {
     "data": {
      "text/html": [
       "<div>\n",
       "<style scoped>\n",
       "    .dataframe tbody tr th:only-of-type {\n",
       "        vertical-align: middle;\n",
       "    }\n",
       "\n",
       "    .dataframe tbody tr th {\n",
       "        vertical-align: top;\n",
       "    }\n",
       "\n",
       "    .dataframe thead th {\n",
       "        text-align: right;\n",
       "    }\n",
       "</style>\n",
       "<table border=\"1\" class=\"dataframe\">\n",
       "  <thead>\n",
       "    <tr style=\"text-align: right;\">\n",
       "      <th></th>\n",
       "      <th>Name</th>\n",
       "      <th>MolecularWeight</th>\n",
       "      <th>BoilingPoint</th>\n",
       "      <th>Solubility</th>\n",
       "      <th>BoilingPoint (°F)</th>\n",
       "    </tr>\n",
       "  </thead>\n",
       "  <tbody>\n",
       "    <tr>\n",
       "      <th>0</th>\n",
       "      <td>Water</td>\n",
       "      <td>18.0150</td>\n",
       "      <td>100.00</td>\n",
       "      <td>Infinite</td>\n",
       "      <td>212.000</td>\n",
       "    </tr>\n",
       "    <tr>\n",
       "      <th>1</th>\n",
       "      <td>Ethanol</td>\n",
       "      <td>46.0700</td>\n",
       "      <td>78.37</td>\n",
       "      <td>Miscible</td>\n",
       "      <td>173.066</td>\n",
       "    </tr>\n",
       "    <tr>\n",
       "      <th>2</th>\n",
       "      <td>Benzene</td>\n",
       "      <td>78.1134</td>\n",
       "      <td>80.10</td>\n",
       "      <td>0.178 g/100 mL</td>\n",
       "      <td>176.180</td>\n",
       "    </tr>\n",
       "    <tr>\n",
       "      <th>3</th>\n",
       "      <td>Methanol</td>\n",
       "      <td>32.0420</td>\n",
       "      <td>64.70</td>\n",
       "      <td>Miscible</td>\n",
       "      <td>148.460</td>\n",
       "    </tr>\n",
       "    <tr>\n",
       "      <th>4</th>\n",
       "      <td>Acetone</td>\n",
       "      <td>58.0800</td>\n",
       "      <td>56.08</td>\n",
       "      <td>Miscible</td>\n",
       "      <td>132.944</td>\n",
       "    </tr>\n",
       "  </tbody>\n",
       "</table>\n",
       "</div>"
      ],
      "text/plain": [
       "       Name  MolecularWeight  BoilingPoint      Solubility  BoilingPoint (°F)\n",
       "0     Water          18.0150        100.00        Infinite            212.000\n",
       "1   Ethanol          46.0700         78.37        Miscible            173.066\n",
       "2   Benzene          78.1134         80.10  0.178 g/100 mL            176.180\n",
       "3  Methanol          32.0420         64.70        Miscible            148.460\n",
       "4   Acetone          58.0800         56.08        Miscible            132.944"
      ]
     },
     "execution_count": 31,
     "metadata": {},
     "output_type": "execute_result"
    }
   ],
   "source": [
    "df['BoilingPoint (°F)'] = df['BoilingPoint']*1.8 + 32\n",
    "df.head()"
   ]
  },
  {
   "cell_type": "markdown",
   "metadata": {},
   "source": [
    "Du kan också ta bort rader eller kolumner:"
   ]
  },
  {
   "cell_type": "code",
   "execution_count": 32,
   "metadata": {},
   "outputs": [
    {
     "data": {
      "text/html": [
       "<div>\n",
       "<style scoped>\n",
       "    .dataframe tbody tr th:only-of-type {\n",
       "        vertical-align: middle;\n",
       "    }\n",
       "\n",
       "    .dataframe tbody tr th {\n",
       "        vertical-align: top;\n",
       "    }\n",
       "\n",
       "    .dataframe thead th {\n",
       "        text-align: right;\n",
       "    }\n",
       "</style>\n",
       "<table border=\"1\" class=\"dataframe\">\n",
       "  <thead>\n",
       "    <tr style=\"text-align: right;\">\n",
       "      <th></th>\n",
       "      <th>Name</th>\n",
       "      <th>MolecularWeight</th>\n",
       "      <th>BoilingPoint</th>\n",
       "      <th>Solubility</th>\n",
       "    </tr>\n",
       "  </thead>\n",
       "  <tbody>\n",
       "    <tr>\n",
       "      <th>0</th>\n",
       "      <td>Water</td>\n",
       "      <td>18.0150</td>\n",
       "      <td>100.00</td>\n",
       "      <td>Infinite</td>\n",
       "    </tr>\n",
       "    <tr>\n",
       "      <th>1</th>\n",
       "      <td>Ethanol</td>\n",
       "      <td>46.0700</td>\n",
       "      <td>78.37</td>\n",
       "      <td>Miscible</td>\n",
       "    </tr>\n",
       "    <tr>\n",
       "      <th>2</th>\n",
       "      <td>Benzene</td>\n",
       "      <td>78.1134</td>\n",
       "      <td>80.10</td>\n",
       "      <td>0.178 g/100 mL</td>\n",
       "    </tr>\n",
       "    <tr>\n",
       "      <th>3</th>\n",
       "      <td>Methanol</td>\n",
       "      <td>32.0420</td>\n",
       "      <td>64.70</td>\n",
       "      <td>Miscible</td>\n",
       "    </tr>\n",
       "    <tr>\n",
       "      <th>4</th>\n",
       "      <td>Acetone</td>\n",
       "      <td>58.0800</td>\n",
       "      <td>56.08</td>\n",
       "      <td>Miscible</td>\n",
       "    </tr>\n",
       "    <tr>\n",
       "      <th>5</th>\n",
       "      <td>Toluene</td>\n",
       "      <td>92.1400</td>\n",
       "      <td>110.60</td>\n",
       "      <td>None</td>\n",
       "    </tr>\n",
       "    <tr>\n",
       "      <th>6</th>\n",
       "      <td>Tetrachloroethylene</td>\n",
       "      <td>165.8000</td>\n",
       "      <td>121.20</td>\n",
       "      <td>206 mg/L</td>\n",
       "    </tr>\n",
       "  </tbody>\n",
       "</table>\n",
       "</div>"
      ],
      "text/plain": [
       "                  Name  MolecularWeight  BoilingPoint      Solubility\n",
       "0                Water          18.0150        100.00        Infinite\n",
       "1              Ethanol          46.0700         78.37        Miscible\n",
       "2              Benzene          78.1134         80.10  0.178 g/100 mL\n",
       "3             Methanol          32.0420         64.70        Miscible\n",
       "4              Acetone          58.0800         56.08        Miscible\n",
       "5              Toluene          92.1400        110.60            None\n",
       "6  Tetrachloroethylene         165.8000        121.20        206 mg/L"
      ]
     },
     "execution_count": 32,
     "metadata": {},
     "output_type": "execute_result"
    }
   ],
   "source": [
    "df.drop(columns = \"BoilingPoint (°F)\", inplace=True)\n",
    "df"
   ]
  },
  {
   "cell_type": "markdown",
   "metadata": {},
   "source": [
    "## Inbyggda analysfunktioner"
   ]
  },
  {
   "cell_type": "markdown",
   "metadata": {},
   "source": [
    "Du kan få statistisk analys för specifika kolumner:"
   ]
  },
  {
   "cell_type": "code",
   "execution_count": 33,
   "metadata": {},
   "outputs": [
    {
     "name": "stdout",
     "output_type": "stream",
     "text": [
      "Medelvärdet för molekylmassa är 70.0372\n",
      "Standardavvikelsen är 49.31466729361561\n"
     ]
    }
   ],
   "source": [
    "print(\"Medelvärdet för molekylmassa är\",df['MolecularWeight'].mean())\n",
    "print(\"Standardavvikelsen är\", df['MolecularWeight'].std())"
   ]
  },
  {
   "cell_type": "markdown",
   "metadata": {},
   "source": [
    "För att skriva ut sammanfattande statistik för varje (numerisk) kolumn i DataFrame, använd `describe()`:"
   ]
  },
  {
   "cell_type": "code",
   "execution_count": 34,
   "metadata": {},
   "outputs": [
    {
     "data": {
      "text/html": [
       "<div>\n",
       "<style scoped>\n",
       "    .dataframe tbody tr th:only-of-type {\n",
       "        vertical-align: middle;\n",
       "    }\n",
       "\n",
       "    .dataframe tbody tr th {\n",
       "        vertical-align: top;\n",
       "    }\n",
       "\n",
       "    .dataframe thead th {\n",
       "        text-align: right;\n",
       "    }\n",
       "</style>\n",
       "<table border=\"1\" class=\"dataframe\">\n",
       "  <thead>\n",
       "    <tr style=\"text-align: right;\">\n",
       "      <th></th>\n",
       "      <th>MolecularWeight</th>\n",
       "      <th>BoilingPoint</th>\n",
       "    </tr>\n",
       "  </thead>\n",
       "  <tbody>\n",
       "    <tr>\n",
       "      <th>count</th>\n",
       "      <td>7.000000</td>\n",
       "      <td>7.000000</td>\n",
       "    </tr>\n",
       "    <tr>\n",
       "      <th>mean</th>\n",
       "      <td>70.037200</td>\n",
       "      <td>87.292857</td>\n",
       "    </tr>\n",
       "    <tr>\n",
       "      <th>std</th>\n",
       "      <td>49.314667</td>\n",
       "      <td>24.050028</td>\n",
       "    </tr>\n",
       "    <tr>\n",
       "      <th>min</th>\n",
       "      <td>18.015000</td>\n",
       "      <td>56.080000</td>\n",
       "    </tr>\n",
       "    <tr>\n",
       "      <th>25%</th>\n",
       "      <td>39.056000</td>\n",
       "      <td>71.535000</td>\n",
       "    </tr>\n",
       "    <tr>\n",
       "      <th>50%</th>\n",
       "      <td>58.080000</td>\n",
       "      <td>80.100000</td>\n",
       "    </tr>\n",
       "    <tr>\n",
       "      <th>75%</th>\n",
       "      <td>85.126700</td>\n",
       "      <td>105.300000</td>\n",
       "    </tr>\n",
       "    <tr>\n",
       "      <th>max</th>\n",
       "      <td>165.800000</td>\n",
       "      <td>121.200000</td>\n",
       "    </tr>\n",
       "  </tbody>\n",
       "</table>\n",
       "</div>"
      ],
      "text/plain": [
       "       MolecularWeight  BoilingPoint\n",
       "count         7.000000      7.000000\n",
       "mean         70.037200     87.292857\n",
       "std          49.314667     24.050028\n",
       "min          18.015000     56.080000\n",
       "25%          39.056000     71.535000\n",
       "50%          58.080000     80.100000\n",
       "75%          85.126700    105.300000\n",
       "max         165.800000    121.200000"
      ]
     },
     "execution_count": 34,
     "metadata": {},
     "output_type": "execute_result"
    }
   ],
   "source": [
    "df.describe()"
   ]
  },
  {
   "cell_type": "markdown",
   "metadata": {},
   "source": [
    "Det är möjligt att sortera DataFrame, till exempel baserat på en specifik kolumn, genom att använda sort_values(). För att sortera föreningarna baserat på deras molekylvikter i stigande ordning:"
   ]
  },
  {
   "cell_type": "code",
   "execution_count": 35,
   "metadata": {
    "scrolled": true
   },
   "outputs": [
    {
     "data": {
      "text/html": [
       "<div>\n",
       "<style scoped>\n",
       "    .dataframe tbody tr th:only-of-type {\n",
       "        vertical-align: middle;\n",
       "    }\n",
       "\n",
       "    .dataframe tbody tr th {\n",
       "        vertical-align: top;\n",
       "    }\n",
       "\n",
       "    .dataframe thead th {\n",
       "        text-align: right;\n",
       "    }\n",
       "</style>\n",
       "<table border=\"1\" class=\"dataframe\">\n",
       "  <thead>\n",
       "    <tr style=\"text-align: right;\">\n",
       "      <th></th>\n",
       "      <th>Name</th>\n",
       "      <th>MolecularWeight</th>\n",
       "      <th>BoilingPoint</th>\n",
       "      <th>Solubility</th>\n",
       "    </tr>\n",
       "  </thead>\n",
       "  <tbody>\n",
       "    <tr>\n",
       "      <th>0</th>\n",
       "      <td>Water</td>\n",
       "      <td>18.0150</td>\n",
       "      <td>100.00</td>\n",
       "      <td>Infinite</td>\n",
       "    </tr>\n",
       "    <tr>\n",
       "      <th>3</th>\n",
       "      <td>Methanol</td>\n",
       "      <td>32.0420</td>\n",
       "      <td>64.70</td>\n",
       "      <td>Miscible</td>\n",
       "    </tr>\n",
       "    <tr>\n",
       "      <th>1</th>\n",
       "      <td>Ethanol</td>\n",
       "      <td>46.0700</td>\n",
       "      <td>78.37</td>\n",
       "      <td>Miscible</td>\n",
       "    </tr>\n",
       "    <tr>\n",
       "      <th>4</th>\n",
       "      <td>Acetone</td>\n",
       "      <td>58.0800</td>\n",
       "      <td>56.08</td>\n",
       "      <td>Miscible</td>\n",
       "    </tr>\n",
       "    <tr>\n",
       "      <th>2</th>\n",
       "      <td>Benzene</td>\n",
       "      <td>78.1134</td>\n",
       "      <td>80.10</td>\n",
       "      <td>0.178 g/100 mL</td>\n",
       "    </tr>\n",
       "    <tr>\n",
       "      <th>5</th>\n",
       "      <td>Toluene</td>\n",
       "      <td>92.1400</td>\n",
       "      <td>110.60</td>\n",
       "      <td>None</td>\n",
       "    </tr>\n",
       "    <tr>\n",
       "      <th>6</th>\n",
       "      <td>Tetrachloroethylene</td>\n",
       "      <td>165.8000</td>\n",
       "      <td>121.20</td>\n",
       "      <td>206 mg/L</td>\n",
       "    </tr>\n",
       "  </tbody>\n",
       "</table>\n",
       "</div>"
      ],
      "text/plain": [
       "                  Name  MolecularWeight  BoilingPoint      Solubility\n",
       "0                Water          18.0150        100.00        Infinite\n",
       "3             Methanol          32.0420         64.70        Miscible\n",
       "1              Ethanol          46.0700         78.37        Miscible\n",
       "4              Acetone          58.0800         56.08        Miscible\n",
       "2              Benzene          78.1134         80.10  0.178 g/100 mL\n",
       "5              Toluene          92.1400        110.60            None\n",
       "6  Tetrachloroethylene         165.8000        121.20        206 mg/L"
      ]
     },
     "execution_count": 35,
     "metadata": {},
     "output_type": "execute_result"
    }
   ],
   "source": [
    "sorted_df = df.sort_values('MolecularWeight', ascending=True)\n",
    "sorted_df"
   ]
  },
  {
   "cell_type": "markdown",
   "metadata": {},
   "source": [
    "Pandas har också inbyggda matplotlib-funktioner för att snabbt plotta alla eller specifika kolumner. Till exempel:"
   ]
  },
  {
   "cell_type": "code",
   "execution_count": 36,
   "metadata": {},
   "outputs": [
    {
     "data": {
      "image/png": "[encoded data removed]",
      "text/plain": [
       "<Figure size 640x480 with 1 Axes>"
      ]
     },
     "metadata": {},
     "output_type": "display_data"
    }
   ],
   "source": [
    "fig = df.plot(\"MolecularWeight\", \"BoilingPoint\", kind=\"scatter\")"
   ]
  },
  {
   "cell_type": "markdown",
   "metadata": {},
   "source": [
    "Den returnerar matplotlib-figurobjektet, så att vi kan fortsätta att plotta extra saker. Till exempel vi kan plotta tättheten i vår \"periodic table\" DataFrame och även lägga till linjer mellan de olika perioderna (raderna i det periodiska systemet)."
   ]
  },
  {
   "cell_type": "code",
   "execution_count": 37,
   "metadata": {},
   "outputs": [
    {
     "data": {
      "image/png": "[encoded data removed]",
      "text/plain": [
       "<Figure size 640x480 with 1 Axes>"
      ]
     },
     "metadata": {},
     "output_type": "display_data"
    }
   ],
   "source": [
    "fig = df_pt.plot(\"AtomicNumber\", \"Density\")\n",
    "period = np.array(df_pt[\"Period\"])\n",
    "for i in np.where(period[:-1] != period[1:])[0]:\n",
    "    fig.axvline(x = i+1, color = 'r', ls='--')"
   ]
  },
  {
   "cell_type": "markdown",
   "metadata": {},
   "source": [
    "**Övning** I vår \"periodic table\" DataFrame, plotta upptäcktsår mot atomnummer. Anpassa kurvan till en linjär funktion. Använd det för att beräkna hur många år det är i genomsnitt mellan två upptäckter av grundämnen.\n",
    "\n",
    "**Tips** Data innehåller flera NaN-värden (icke-numerisk) vilket kan göra det svårt att hantera. Du kan skapa en dataset utan dessa genom att använda:`df_nona = df_pt.dropna(subset=['Year'])`"
   ]
  },
  {
   "cell_type": "code",
   "execution_count": 38,
   "metadata": {},
   "outputs": [
    {
     "data": {
      "image/png": "[encoded data removed]",
      "text/plain": [
       "<Figure size 640x480 with 1 Axes>"
      ]
     },
     "metadata": {},
     "output_type": "display_data"
    }
   ],
   "source": [
    "### BEGIN SOLUTION\n",
    "fig = df_pt.plot(\"AtomicNumber\", \"Year\")\n",
    "### END SOLUTION"
   ]
  },
  {
   "cell_type": "code",
   "execution_count": 39,
   "metadata": {},
   "outputs": [
    {
     "name": "stdout",
     "output_type": "stream",
     "text": [
      "i genomsnitt en grundämnen upptäckas varje 1.8011935753715487 år\n"
     ]
    },
    {
     "data": {
      "image/png": "[encoded data removed]",
      "text/plain": [
       "<Figure size 640x480 with 1 Axes>"
      ]
     },
     "metadata": {},
     "output_type": "display_data"
    }
   ],
   "source": [
    "### BEGIN SOLUTION\n",
    "import math\n",
    "from scipy.optimize import curve_fit\n",
    "\n",
    "def linear(x,A,B):\n",
    "    return A*x+B\n",
    "\n",
    "df_nona = df_pt.dropna(subset=['Year'])\n",
    "\n",
    "# Optimera\n",
    "popt,pcov = curve_fit(linear, xdata=df_nona[\"AtomicNumber\"], ydata=df_nona[\"Year\"])\n",
    "\n",
    "A_opt, B_opt = popt\n",
    "\n",
    "fig = df_pt.plot(\"AtomicNumber\", \"Year\")\n",
    "fig.plot(df_nona[\"AtomicNumber\"], linear(df_nona[\"AtomicNumber\"], A_opt, B_opt))\n",
    "\n",
    "print(\"i genomsnitt en grundämnen upptäckas varje\",A_opt, \"år\")\n",
    "### END SOLUTION"
   ]
  },
  {
   "cell_type": "markdown",
   "metadata": {},
   "source": [
    "# Bonus: RDKit\n",
    "\n",
    "**Obs!** Man behöver installer RDKit (se [här](https://www.rdkit.org/docs/Install.html))"
   ]
  },
  {
   "cell_type": "code",
   "execution_count": 40,
   "metadata": {},
   "outputs": [
    {
     "data": {
      "image/png": "[encoded data removed]",
      "text/plain": [
       "<rdkit.Chem.rdchem.Mol at 0x16bf4de00>"
      ]
     },
     "execution_count": 40,
     "metadata": {},
     "output_type": "execute_result"
    }
   ],
   "source": [
    "from rdkit import Chem\n",
    "from rdkit.Chem import Descriptors\n",
    "m = Chem.MolFromSmiles('c1ccccc1C(=O)O')\n",
    "m"
   ]
  },
  {
   "cell_type": "code",
   "execution_count": 41,
   "metadata": {},
   "outputs": [
    {
     "name": "stdout",
     "output_type": "stream",
     "text": [
      "Antal atomer: 9\n",
      "C\n",
      "C\n",
      "C\n",
      "C\n",
      "C\n",
      "C\n",
      "C\n",
      "O\n",
      "O\n",
      "Antal atomer inkl. väte: 15\n",
      "Molmass: 122.12299999999998 g/mol\n"
     ]
    }
   ],
   "source": [
    "print(\"Antal atomer:\", m.GetNumAtoms())\n",
    "for atom in m.GetAtoms():\n",
    "    print(atom.GetSymbol())\n",
    "print(\"Antal atomer inkl. väte:\", Chem.AddHs(m).GetNumAtoms())\n",
    "print(\"Molmass:\",Descriptors.MolWt(m),\"g/mol\")"
   ]
  },
  {
   "cell_type": "code",
   "execution_count": 42,
   "metadata": {},
   "outputs": [
    {
     "data": {
      "text/html": [
       "<div>\n",
       "<style scoped>\n",
       "    .dataframe tbody tr th:only-of-type {\n",
       "        vertical-align: middle;\n",
       "    }\n",
       "\n",
       "    .dataframe tbody tr th {\n",
       "        vertical-align: top;\n",
       "    }\n",
       "\n",
       "    .dataframe thead th {\n",
       "        text-align: right;\n",
       "    }\n",
       "</style>\n",
       "<table border=\"1\" class=\"dataframe\">\n",
       "  <thead>\n",
       "    <tr style=\"text-align: right;\">\n",
       "      <th></th>\n",
       "      <th>Name</th>\n",
       "      <th>MolecularWeight</th>\n",
       "      <th>BoilingPoint</th>\n",
       "      <th>Solubility</th>\n",
       "      <th>Structure</th>\n",
       "    </tr>\n",
       "  </thead>\n",
       "  <tbody>\n",
       "    <tr>\n",
       "      <th>0</th>\n",
       "      <td>Water</td>\n",
       "      <td>18.0150</td>\n",
       "      <td>100.00</td>\n",
       "      <td>Infinite</td>\n",
       "      <td style=\"text-align: center;\"><div style=\"width: 200px; height: 200px\" data-content=\"rdkit/molecule\"><img src=\"data:image/png;base64,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\" alt=\"Mol\"/></div></td>\n",
       "    </tr>\n",
       "    <tr>\n",
       "      <th>1</th>\n",
       "      <td>Ethanol</td>\n",
       "      <td>46.0700</td>\n",
       "      <td>78.37</td>\n",
       "      <td>Miscible</td>\n",
       "      <td style=\"text-align: center;\"><div style=\"width: 200px; height: 200px\" data-content=\"rdkit/molecule\"><img src=\"data:image/png;base64,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\" alt=\"Mol\"/></div></td>\n",
       "    </tr>\n",
       "    <tr>\n",
       "      <th>2</th>\n",
       "      <td>Benzene</td>\n",
       "      <td>78.1134</td>\n",
       "      <td>80.10</td>\n",
       "      <td>0.178 g/100 mL</td>\n",
       "      <td style=\"text-align: center;\"><div style=\"width: 200px; height: 200px\" data-content=\"rdkit/molecule\"><img src=\"data:image/png;base64,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\" alt=\"Mol\"/></div></td>\n",
       "    </tr>\n",
       "    <tr>\n",
       "      <th>3</th>\n",
       "      <td>Methanol</td>\n",
       "      <td>32.0420</td>\n",
       "      <td>64.70</td>\n",
       "      <td>Miscible</td>\n",
       "      <td style=\"text-align: center;\"><div style=\"width: 200px; height: 200px\" data-content=\"rdkit/molecule\"><img src=\"data:image/png;base64,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\" alt=\"Mol\"/></div></td>\n",
       "    </tr>\n",
       "    <tr>\n",
       "      <th>4</th>\n",
       "      <td>Acetone</td>\n",
       "      <td>58.0800</td>\n",
       "      <td>56.08</td>\n",
       "      <td>Miscible</td>\n",
       "      <td style=\"text-align: center;\"><div style=\"width: 200px; height: 200px\" data-content=\"rdkit/molecule\"><img src=\"data:image/png;base64,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\" alt=\"Mol\"/></div></td>\n",
       "    </tr>\n",
       "    <tr>\n",
       "      <th>5</th>\n",
       "      <td>Toluene</td>\n",
       "      <td>92.1400</td>\n",
       "      <td>110.60</td>\n",
       "      <td>None</td>\n",
       "      <td style=\"text-align: center;\"><div style=\"width: 200px; height: 200px\" data-content=\"rdkit/molecule\"><img src=\"data:image/png;base64,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\" alt=\"Mol\"/></div></td>\n",
       "    </tr>\n",
       "    <tr>\n",
       "      <th>6</th>\n",
       "      <td>Tetrachloroethylene</td>\n",
       "      <td>165.8000</td>\n",
       "      <td>121.20</td>\n",
       "      <td>206 mg/L</td>\n",
       "      <td style=\"text-align: center;\"><div style=\"width: 200px; height: 200px\" data-content=\"rdkit/molecule\"><img src=\"data:image/png;base64,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\" alt=\"Mol\"/></div></td>\n",
       "    </tr>\n",
       "  </tbody>\n",
       "</table>\n",
       "</div>"
      ],
      "text/plain": [
       "                  Name  MolecularWeight  BoilingPoint      Solubility  \\\n",
       "0                Water          18.0150        100.00        Infinite   \n",
       "1              Ethanol          46.0700         78.37        Miscible   \n",
       "2              Benzene          78.1134         80.10  0.178 g/100 mL   \n",
       "3             Methanol          32.0420         64.70        Miscible   \n",
       "4              Acetone          58.0800         56.08        Miscible   \n",
       "5              Toluene          92.1400        110.60            None   \n",
       "6  Tetrachloroethylene         165.8000        121.20        206 mg/L   \n",
       "\n",
       "                                       Structure  \n",
       "0  <rdkit.Chem.rdchem.Mol object at 0x16f5af060>  \n",
       "1  <rdkit.Chem.rdchem.Mol object at 0x16f61d230>  \n",
       "2  <rdkit.Chem.rdchem.Mol object at 0x16f61d2a0>  \n",
       "3  <rdkit.Chem.rdchem.Mol object at 0x16f61d310>  \n",
       "4  <rdkit.Chem.rdchem.Mol object at 0x16f61d380>  \n",
       "5  <rdkit.Chem.rdchem.Mol object at 0x16f61d540>  \n",
       "6  <rdkit.Chem.rdchem.Mol object at 0x16f61d460>  "
      ]
     },
     "execution_count": 42,
     "metadata": {},
     "output_type": "execute_result"
    }
   ],
   "source": [
    "from rdkit.Chem import PandasTools\n",
    "\n",
    "mollist = []\n",
    "mollist.append(Chem.MolFromSmiles('O'))\n",
    "mollist.append(Chem.MolFromSmiles('CO'))\n",
    "mollist.append(Chem.MolFromSmiles('CCO'))\n",
    "mollist.append(Chem.MolFromSmiles('CC(=O)C'))\n",
    "mollist.append(Chem.MolFromSmiles('c1ccccc1'))\n",
    "mollist.append(Chem.MolFromSmiles('c1ccccc1C'))\n",
    "mollist.append(Chem.MolFromSmiles('ClC(Cl)C(Cl)Cl'))\n",
    "df['Structure'] = mollist\n",
    "\n",
    "PandasTools.RenderImagesInAllDataFrames(images=True) #Ibland behövs det för att visas som bild\n",
    "df"
   ]
  },
  {
   "cell_type": "code",
   "execution_count": null,
   "metadata": {},
   "outputs": [],
   "source": []
  }
 ],
 "metadata": {
  "kernelspec": {
   "display_name": "Python 3 (ipykernel)",
   "language": "python",
   "name": "python3"
  },
  "language_info": {
   "codemirror_mode": {
    "name": "ipython",
    "version": 3
   },
   "file_extension": ".py",
   "mimetype": "text/x-python",
   "name": "python",
   "nbconvert_exporter": "python",
   "pygments_lexer": "ipython3",
   "version": "3.11.0"
  }
 },
 "nbformat": 4,
 "nbformat_minor": 4
}
