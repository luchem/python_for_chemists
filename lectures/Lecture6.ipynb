{
 "cells": [
  {
   "attachments": {
    "image.png": {
     "image/png": "[encoded data removed]"
    }
   },
   "cell_type": "markdown",
   "metadata": {},
   "source": [
    "Pandas is a Python library for handling structured data (e.g., csv files) that comes with statistical tools, convenient data importing functions and tools to filter and extract data. Its key data structure is called the \"DataFrame\". This allows you to store and manipulate tabular data, similar to an Excel sheet. It behaves in some ways like a generalization of dictionaries to associate more than 2 objects.\n",
    "\n",
    "![image.png](attachment:image.png)\n",
    "\n",
    "Unlike a NumPy array, a Dataframe can contain multiple data types, such as numbers and text, but the data in each column must be of the same type. \n",
    "\n",
    "A DataFrame can be read from different data sources, such as CSV files or Excel files (using the read_csv() function), or created from scratch. For example, to create a dataset containing information about chemical compounds, such as molecular weights, boiling points, and solubilities: "
   ]
  },
  {
   "cell_type": "code",
   "execution_count": null,
   "metadata": {},
   "outputs": [],
   "source": [
    "import pandas as pd\n",
    "\n",
    "data = {\n",
    "    'Compound': ['Water', 'Ethanol', 'Benzene', 'Methanol', 'Acetone', 'Toluene', 'Tetrachloroethylene'],\n",
    "    'MolecularWeight': [18.015, 46.07, 78.1134, 32.042, 58.08, 92.14, 165.8],\n",
    "    'BoilingPoint': [100, 78.37, 80.1, 64.7, 56.08, 110.6, 121.2],\n",
    "    'Solubility': ['Infinite', 'Miscible', '0.178 g/100 mL', 'Miscible', 'Miscible', 'None', '206 mg/L']\n",
    "}\n",
    "\n",
    "df = pd.DataFrame(data)"
   ]
  },
  {
   "cell_type": "markdown",
   "metadata": {},
   "source": [
    "To  view the first 5 rows and access the names of the columns: "
   ]
  },
  {
   "cell_type": "code",
   "execution_count": null,
   "metadata": {},
   "outputs": [],
   "source": [
    "df.head(5)"
   ]
  },
  {
   "cell_type": "code",
   "execution_count": null,
   "metadata": {},
   "outputs": [],
   "source": [
    "df.columns"
   ]
  },
  {
   "cell_type": "markdown",
   "metadata": {},
   "source": [
    "To print summary statistics for each column in the DataFrame, use describe(): "
   ]
  },
  {
   "cell_type": "code",
   "execution_count": null,
   "metadata": {},
   "outputs": [],
   "source": [
    "df.describe()"
   ]
  },
  {
   "cell_type": "markdown",
   "metadata": {},
   "source": [
    "To get the unique values in a column"
   ]
  },
  {
   "cell_type": "code",
   "execution_count": null,
   "metadata": {},
   "outputs": [],
   "source": [
    "unique_values = df['Solubility'].unique()\n",
    "unique_values"
   ]
  },
  {
   "cell_type": "markdown",
   "metadata": {},
   "source": [
    "You can access a specific column by using indexing with the column name:"
   ]
  },
  {
   "cell_type": "code",
   "execution_count": null,
   "metadata": {},
   "outputs": [],
   "source": [
    "MW = df['MolecularWeight']\n",
    "MW"
   ]
  },
  {
   "cell_type": "markdown",
   "metadata": {},
   "source": [
    "Or by a vertical (column) slicing:"
   ]
  },
  {
   "cell_type": "code",
   "execution_count": null,
   "metadata": {},
   "outputs": [],
   "source": [
    "df.loc[:, 'MolecularWeight']"
   ]
  },
  {
   "cell_type": "markdown",
   "metadata": {},
   "source": [
    "Similarly, rows can be accessed by doing a horizontal (row) slicing df['rowname', :]. You can also locate a specific cell using the loc() method: "
   ]
  },
  {
   "cell_type": "code",
   "execution_count": null,
   "metadata": {},
   "outputs": [],
   "source": [
    "df.loc[2, 'MolecularWeight'] #'2' for the row number"
   ]
  },
  {
   "cell_type": "markdown",
   "metadata": {},
   "source": [
    "You can add new columns to existing DataFrames. For example, to convert the boiling points from Celsius to Fahrenheit and add this as a new column: "
   ]
  },
  {
   "cell_type": "code",
   "execution_count": null,
   "metadata": {},
   "outputs": [],
   "source": []
  },
  {
   "cell_type": "code",
   "execution_count": null,
   "metadata": {},
   "outputs": [],
   "source": [
    "df['BoilingPoint (°F)'] = df['BoilingPoint']*1.8 + 32\n",
    "df.head()"
   ]
  },
  {
   "cell_type": "markdown",
   "metadata": {},
   "source": [
    "To filter the DataFrame based on a given condition, you can use boolean indexing. For example, to find and select all compounds with a molecular weight above 50 and store them into a new DataFrame:"
   ]
  },
  {
   "cell_type": "code",
   "execution_count": null,
   "metadata": {},
   "outputs": [],
   "source": [
    "filtered_df = df[df['MolecularWeight'] > 50]\n",
    "filtered_df"
   ]
  },
  {
   "cell_type": "markdown",
   "metadata": {},
   "source": [
    "It is possible to sort the DataFrame, for example, based on a particular column, using sort_values(). To sort the compounds based on their molecular weights in ascending order: "
   ]
  },
  {
   "cell_type": "code",
   "execution_count": null,
   "metadata": {
    "scrolled": true
   },
   "outputs": [],
   "source": [
    "sorted_df = df.sort_values('MolecularWeight', ascending=True)\n",
    "sorted_df"
   ]
  },
  {
   "cell_type": "code",
   "execution_count": null,
   "metadata": {},
   "outputs": [],
   "source": []
  },
  {
   "cell_type": "markdown",
   "metadata": {},
   "source": [
    "In general, Pandas uses two types of accessing things. The first is the already used locator method \".loc\". This method first tries to find the \"name\" of the column/row and only if it fails it will use try to use the given entry as index. The second methods is the index based locator \".iloc\". This one pretty much behaves exactly as in numpy where you select a specific column/row by its index. Then there is the \"lazy\" version you have used above \"MW = df['MolecularWeight']\" in which you don't specify a locator, similar you can try to use \"df.MolecularWeight\" that will work if your columns have specific names without spaces.<br>\n",
    "Anyhow, in the beginning it is recommended to use df.loc or df.iloc, because this makes it clear for what you going to use. each of these can be stacked. Meaning: df.loc[:,['MolecularWeight', 'BoilingPoint']] will return all rows from the two columns df.loc[:,['MolecularWeight', 'BoilingPoint']].iloc[2:4,:] adds a second localizer after that selects the third and forth row from these....<br>\n",
    "While all of this has obvious usage for sorting and selecting data, the indexes offer some really neat usage if they are values instead of names. To illustrate this lets generate some data and put the x-values of it into the index. "
   ]
  },
  {
   "cell_type": "code",
   "execution_count": null,
   "metadata": {},
   "outputs": [],
   "source": [
    "import numpy as np\n",
    "import pandas\n",
    "x_values = np.arange(-10,10,0.1)  #generate an x-vector\n",
    "df_function={}   # generate an empty dictionary and we will use the peak center as index\n",
    "df_function['0'] = np.exp(-x_values**2)\n",
    "df_function['1'] = np.exp(-(x_values-1)**2)\n",
    "df_function['2'] = np.exp(-(x_values-2)**2)\n",
    "df_function = pandas.DataFrame(df_function,index=x_values)"
   ]
  },
  {
   "cell_type": "markdown",
   "metadata": {},
   "source": [
    "If directly created like this the index is of type float. If this is generated from other datatype one typically can convert the index into float using this command"
   ]
  },
  {
   "cell_type": "code",
   "execution_count": null,
   "metadata": {},
   "outputs": [],
   "source": [
    "df_function.index=df_function.index.astype(float)\n",
    "df_function.index.dtype"
   ]
  },
  {
   "cell_type": "markdown",
   "metadata": {},
   "source": [
    "With the index as float, plotting gets very neat\n",
    "\n",
    "### task: \n",
    "\n",
    "test what \"df_function.plot()\" returns<br>\n",
    "and then give your index a name with df_function.index.name='x-values'<br>\n",
    "and test again what the plot returns"
   ]
  },
  {
   "cell_type": "code",
   "execution_count": null,
   "metadata": {},
   "outputs": [],
   "source": [
    "# enter code here"
   ]
  },
  {
   "cell_type": "markdown",
   "metadata": {},
   "source": [
    "finally having either of the  indexes as numbers one can slice by value. Test what these return<br>\n",
    "df_function[:-1]<br>\n",
    "df_function[-1:1]<br>\n",
    "df_function.loc[-1:1,:]<br>"
   ]
  },
  {
   "cell_type": "code",
   "execution_count": null,
   "metadata": {},
   "outputs": [],
   "source": [
    "# enter code here"
   ]
  },
  {
   "cell_type": "markdown",
   "metadata": {},
   "source": [
    "the really cool thing is that you do not even have to have the right numbers in your slices. show that the following slice will work just as you expect:<br>\n",
    "\n",
    "df_function[0.01:0.2].plot()  <br>\n",
    "\n",
    "Now write for yourself, which steps the interpretation would have to do to achieve this. The start could be:<br> \n",
    "find in the index the position of the index that is closest to 0.01 and then.... \n"
   ]
  },
  {
   "cell_type": "markdown",
   "metadata": {},
   "source": [
    "Using a value like this as index is also very powerful when reading data that was e.g. measured by a machine. The following code reads data from a webpage and converts it into a DataFrame. The column names are the parameter used for this function. Using slicing to plot only the measurements where the parameter is between 10 and 20. Important, you will need to sort the column index first. This is easiest done while using the option \"inplace=True\"."
   ]
  },
  {
   "cell_type": "code",
   "execution_count": null,
   "metadata": {},
   "outputs": [],
   "source": [
    "df_sinc=pd.read_csv(\"http://www.jensuhlig.de/Kemm30/sinc.dat\",index_col=0)\n",
    "df_sinc.columns=df_sinc.columns.astype(float)  #convert the column entries from string to float\n",
    "df_sinc.index=df_sinc.index.astype(float)      #convert the index entries from string to float\n",
    "df_sinc.columns.name='Parameter'\n",
    "df_sinc.plot()"
   ]
  },
  {
   "cell_type": "code",
   "execution_count": null,
   "metadata": {},
   "outputs": [],
   "source": [
    "# enter your code here."
   ]
  },
  {
   "cell_type": "markdown",
   "metadata": {},
   "source": [
    "This reading function is very powerful and can through its many option even process very complicated files. Look at this file on the internet \"http://www.jensuhlig.de/Kemm30/APS_Copper_SolarCell.dat\" That was measured at a large scale research facility. From this file we want to: <br>\n",
    "ignore the first 29 row <br>\n",
    "then separate the columns by as many white characters as there are using \"\\s+\" as a separator<br>\n",
    "then only read the columns named \"Energy\" and \"PR\" which we counted to be columns 2 and 14<br>\n",
    "Given them the right name and use the \"Energy\" as index."
   ]
  },
  {
   "cell_type": "code",
   "execution_count": null,
   "metadata": {},
   "outputs": [],
   "source": [
    "df_aps_manual=pd.read_csv(\"http://www.jensuhlig.de/Kemm30/APS_Copper_SolarCell.dat\",skiprows=30,sep='\\s+',names=['Energy','PR'],index_col=0,usecols=[2,14])\n",
    "df_aps_manual.plot()"
   ]
  },
  {
   "cell_type": "markdown",
   "metadata": {},
   "source": [
    "With time one learns more and more of the functions offered in the reading tools and can e..g simplify the same task with:"
   ]
  },
  {
   "cell_type": "code",
   "execution_count": null,
   "metadata": {},
   "outputs": [],
   "source": [
    "df_aps_automatic=pd.read_csv(\"http://www.jensuhlig.de/Kemm30/APS_Copper_SolarCell.dat\",skiprows=29,escapechar='L',sep='\\s+',index_col=0,usecols=['Energy','PR'])\n",
    "df_aps_automatic.plot()"
   ]
  },
  {
   "cell_type": "code",
   "execution_count": null,
   "metadata": {},
   "outputs": [],
   "source": [
    "### Task plot this function between 8.96 and 9.0 "
   ]
  },
  {
   "cell_type": "markdown",
   "metadata": {},
   "source": [
    "Advanced aggregation. It is possible to group and aggregate data based on a specific property. This can be useful for analyzing data. The function that is used for this is called \"groupby\". <br>\n",
    "\"Groupby\" takes so called categorized data, meaning data that can be placed into a group, and does something to all entries in this group. As an example: in our we could use the solubility. This solubility is clearly separated into missiple, inmissible and other values."
   ]
  },
  {
   "cell_type": "code",
   "execution_count": null,
   "metadata": {},
   "outputs": [],
   "source": [
    "#Group by solubility\n",
    "grouped_df = df.groupby('Solubility') \n",
    "# a grouped_df is a structure that is sorted by the groups. \n",
    "# In data analysis this is also called a \"pipe\" = pipeline for further analysis.\n",
    "\n",
    "#Calculate the mean molecular weight for each group\n",
    "mean_mw = grouped_df['MolecularWeight'].mean()\n",
    "\n",
    "#Calculate the maximum boiling point for each group\n",
    "max_bp = grouped_df['BoilingPoint'].max()\n",
    "\n",
    "# plot the two values vs each other as a test\n",
    "import matplotlib.pyplot as plt\n",
    "fig,ax=plt.subplots()\n",
    "ax.plot(mean_mw,max_bp,'*')"
   ]
  },
  {
   "cell_type": "markdown",
   "metadata": {},
   "source": [
    "EXERCISE: Analyzing Chemical Data with Pandas\n",
    "\n",
    "Provide the students with a CSV file named \"chemical_data.csv\" containing information about different chemical compounds. The dataset includes the following columns: \n",
    "\n",
    "CompoundName\n",
    "MolecularWeight\n",
    "BoilingPoint\n",
    "Solubility\n",
    "\n",
    "Use Pandas to read the chemical_data.csv file and create a DataFrame. Explore the first few rows of the DataFrame.\n",
    "\n",
    "1) Find the compound with the highest boiling point using Pandas\n",
    "2) Print the compounds with a solubility greater than 1 g/100 mL\n",
    "3) Calculate the average molecular weight of the compounds and save this as a new column\n",
    "4) Write the DataFrame to file using to_csv(). "
   ]
  },
  {
   "cell_type": "code",
   "execution_count": null,
   "metadata": {},
   "outputs": [],
   "source": []
  },
  {
   "cell_type": "code",
   "execution_count": null,
   "metadata": {},
   "outputs": [],
   "source": []
  },
  {
   "cell_type": "markdown",
   "metadata": {},
   "source": [
    "Pandas can also be combined with other libraries such as Matplotlib to visualise the data. For example, we can create a scatter plot between the molecular weight and the boiling points."
   ]
  },
  {
   "cell_type": "code",
   "execution_count": null,
   "metadata": {},
   "outputs": [],
   "source": [
    "import matplotlib.pyplot as plt\n",
    "\n",
    "plt.scatter(df['BoilingPoint'], df['MolecularWeight'])\n",
    "plt.xlabel('Boiling Point (°C)')\n",
    "plt.ylabel('Molecular Weight (g/mol)')\n",
    "plt.show()"
   ]
  },
  {
   "cell_type": "markdown",
   "metadata": {},
   "source": [
    "Here, we will used the cheminformatics library RDKit to calculate descriptors for a dataset containing chemical structures in the form of smiles. \n",
    "\n",
    "### Note!! Here you need to have installed rdkit (not included in anaconda)  (see [here](https://www.rdkit.org/docs/Install.html))"
   ]
  },
  {
   "cell_type": "code",
   "execution_count": null,
   "metadata": {},
   "outputs": [],
   "source": [
    "import rdkit\n",
    "from rdkit import Chem\n",
    "from rdkit.Chem import Descriptors\n",
    "\n",
    "#Read the dataset as SMILES string < TO BE DONE\n",
    "df = pd.read_csv('smiles.csv')\n",
    "\n",
    "def calculate_descriptor(smiles, descriptor): \n",
    "    mol = Chem.MolFromSmiles(smiles) # Load the molecule from the SMILES string\n",
    "    return descriptor()\n",
    "\n",
    "df['MolecularWeight'] = df['SMILES'].apply(lambda x: calculate_descriptor(x, Descriptors.MolWt))"
   ]
  },
  {
   "cell_type": "code",
   "execution_count": null,
   "metadata": {},
   "outputs": [],
   "source": []
  }
 ],
 "metadata": {
  "kernelspec": {
   "display_name": "Python 3 (ipykernel)",
   "language": "python",
   "name": "python3"
  },
  "language_info": {
   "codemirror_mode": {
    "name": "ipython",
    "version": 3
   },
   "file_extension": ".py",
   "mimetype": "text/x-python",
   "name": "python",
   "nbconvert_exporter": "python",
   "pygments_lexer": "ipython3",
   "version": "3.9.16"
  }
 },
 "nbformat": 4,
 "nbformat_minor": 4
}
