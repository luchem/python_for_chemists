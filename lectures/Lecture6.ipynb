{
 "cells": [
  {
   "attachments": {
    "image.png": {
     "image/png": "[encoded data removed]"
    }
   },
   "cell_type": "markdown",
   "metadata": {},
   "source": [
    "# Pandas\n",
    "\n",
    "Pandas är ett Python-bibliotek för att hantera strukturerad data (t.ex. excel/csv-filer). Det erbjuder verktyg för statistik, bekväma funktioner för att importera data och möjligheten att filtrera och extrahera information. Huvudstrukturen i Pandas kallas \"DataFrame\". Med en DataFrame kan du lagra och manipulera tabulära data, liknande ett Excel-ark. Den fungerar på sätt som liknar en generalisering av dictionaries för att associera fler än 2 objekt, och på andra sätt liknar den en 2D numpy-array.\n",
    "\n",
    "![image.png](attachment:image.png)\n",
    "\n",
    "Till skillnad från en NumPy-array kan en DataFrame innehålla olika datatyper, som exempelvis nummer och text, men datan i varje kolumn måste vara av samma typ.\n",
    "\n",
    "## Skapa en DataFrame\n",
    "\n",
    "En DataFrame kan läsas in från olika datakällor, till exempel CSV-filer eller Excel-filer (genom att använda funktionen read_csv()), eller så kan den skapas från grunden. Till exempel kan vi skapa ett dataset som innehåller information om kemiska föreningar, såsom molekylvikter, kokpunkter och lösligheter:"
   ]
  },
  {
   "cell_type": "code",
   "execution_count": 1,
   "metadata": {},
   "outputs": [
    {
     "name": "stdout",
     "output_type": "stream",
     "text": [
      "              Compound  MolecularWeight  BoilingPoint      Solubility\n",
      "0                Water          18.0150        100.00        Infinite\n",
      "1              Ethanol          46.0700         78.37        Miscible\n",
      "2              Benzene          78.1134         80.10  0.178 g/100 mL\n",
      "3             Methanol          32.0420         64.70        Miscible\n",
      "4              Acetone          58.0800         56.08        Miscible\n",
      "5              Toluene          92.1400        110.60            None\n",
      "6  Tetrachloroethylene         165.8000        121.20        206 mg/L\n"
     ]
    }
   ],
   "source": [
    "import pandas as pd\n",
    "\n",
    "data = {\n",
    "    'Compound': ['Water', 'Ethanol', 'Benzene', 'Methanol', 'Acetone', 'Toluene', 'Tetrachloroethylene'],\n",
    "    'MolecularWeight': [18.015, 46.07, 78.1134, 32.042, 58.08, 92.14, 165.8],\n",
    "    'BoilingPoint': [100, 78.37, 80.1, 64.7, 56.08, 110.6, 121.2],\n",
    "    'Solubility': ['Infinite', 'Miscible', '0.178 g/100 mL', 'Miscible', 'Miscible', 'None', '206 mg/L']\n",
    "}\n",
    "\n",
    "df = pd.DataFrame(data)\n",
    "print(df)"
   ]
  },
  {
   "cell_type": "code",
   "execution_count": 2,
   "metadata": {},
   "outputs": [
    {
     "data": {
      "text/html": [
       "<div>\n",
       "<style scoped>\n",
       "    .dataframe tbody tr th:only-of-type {\n",
       "        vertical-align: middle;\n",
       "    }\n",
       "\n",
       "    .dataframe tbody tr th {\n",
       "        vertical-align: top;\n",
       "    }\n",
       "\n",
       "    .dataframe thead th {\n",
       "        text-align: right;\n",
       "    }\n",
       "</style>\n",
       "<table border=\"1\" class=\"dataframe\">\n",
       "  <thead>\n",
       "    <tr style=\"text-align: right;\">\n",
       "      <th></th>\n",
       "      <th>Compound</th>\n",
       "      <th>MolecularWeight</th>\n",
       "      <th>BoilingPoint</th>\n",
       "      <th>Solubility</th>\n",
       "    </tr>\n",
       "  </thead>\n",
       "  <tbody>\n",
       "    <tr>\n",
       "      <th>0</th>\n",
       "      <td>Water</td>\n",
       "      <td>18.0150</td>\n",
       "      <td>100.00</td>\n",
       "      <td>Infinite</td>\n",
       "    </tr>\n",
       "    <tr>\n",
       "      <th>1</th>\n",
       "      <td>Ethanol</td>\n",
       "      <td>46.0700</td>\n",
       "      <td>78.37</td>\n",
       "      <td>Miscible</td>\n",
       "    </tr>\n",
       "    <tr>\n",
       "      <th>2</th>\n",
       "      <td>Benzene</td>\n",
       "      <td>78.1134</td>\n",
       "      <td>80.10</td>\n",
       "      <td>0.178 g/100 mL</td>\n",
       "    </tr>\n",
       "    <tr>\n",
       "      <th>3</th>\n",
       "      <td>Methanol</td>\n",
       "      <td>32.0420</td>\n",
       "      <td>64.70</td>\n",
       "      <td>Miscible</td>\n",
       "    </tr>\n",
       "    <tr>\n",
       "      <th>4</th>\n",
       "      <td>Acetone</td>\n",
       "      <td>58.0800</td>\n",
       "      <td>56.08</td>\n",
       "      <td>Miscible</td>\n",
       "    </tr>\n",
       "    <tr>\n",
       "      <th>5</th>\n",
       "      <td>Toluene</td>\n",
       "      <td>92.1400</td>\n",
       "      <td>110.60</td>\n",
       "      <td>None</td>\n",
       "    </tr>\n",
       "    <tr>\n",
       "      <th>6</th>\n",
       "      <td>Tetrachloroethylene</td>\n",
       "      <td>165.8000</td>\n",
       "      <td>121.20</td>\n",
       "      <td>206 mg/L</td>\n",
       "    </tr>\n",
       "  </tbody>\n",
       "</table>\n",
       "</div>"
      ],
      "text/plain": [
       "              Compound  MolecularWeight  BoilingPoint      Solubility\n",
       "0                Water          18.0150        100.00        Infinite\n",
       "1              Ethanol          46.0700         78.37        Miscible\n",
       "2              Benzene          78.1134         80.10  0.178 g/100 mL\n",
       "3             Methanol          32.0420         64.70        Miscible\n",
       "4              Acetone          58.0800         56.08        Miscible\n",
       "5              Toluene          92.1400        110.60            None\n",
       "6  Tetrachloroethylene         165.8000        121.20        206 mg/L"
      ]
     },
     "execution_count": 2,
     "metadata": {},
     "output_type": "execute_result"
    }
   ],
   "source": [
    "df"
   ]
  },
  {
   "cell_type": "markdown",
   "metadata": {},
   "source": [
    "Vi kan visa endast de första raderna med `head` (eller de sista genom att använda `tail`):"
   ]
  },
  {
   "cell_type": "code",
   "execution_count": 3,
   "metadata": {},
   "outputs": [
    {
     "data": {
      "text/html": [
       "<div>\n",
       "<style scoped>\n",
       "    .dataframe tbody tr th:only-of-type {\n",
       "        vertical-align: middle;\n",
       "    }\n",
       "\n",
       "    .dataframe tbody tr th {\n",
       "        vertical-align: top;\n",
       "    }\n",
       "\n",
       "    .dataframe thead th {\n",
       "        text-align: right;\n",
       "    }\n",
       "</style>\n",
       "<table border=\"1\" class=\"dataframe\">\n",
       "  <thead>\n",
       "    <tr style=\"text-align: right;\">\n",
       "      <th></th>\n",
       "      <th>Compound</th>\n",
       "      <th>MolecularWeight</th>\n",
       "      <th>BoilingPoint</th>\n",
       "      <th>Solubility</th>\n",
       "    </tr>\n",
       "  </thead>\n",
       "  <tbody>\n",
       "    <tr>\n",
       "      <th>0</th>\n",
       "      <td>Water</td>\n",
       "      <td>18.0150</td>\n",
       "      <td>100.00</td>\n",
       "      <td>Infinite</td>\n",
       "    </tr>\n",
       "    <tr>\n",
       "      <th>1</th>\n",
       "      <td>Ethanol</td>\n",
       "      <td>46.0700</td>\n",
       "      <td>78.37</td>\n",
       "      <td>Miscible</td>\n",
       "    </tr>\n",
       "    <tr>\n",
       "      <th>2</th>\n",
       "      <td>Benzene</td>\n",
       "      <td>78.1134</td>\n",
       "      <td>80.10</td>\n",
       "      <td>0.178 g/100 mL</td>\n",
       "    </tr>\n",
       "    <tr>\n",
       "      <th>3</th>\n",
       "      <td>Methanol</td>\n",
       "      <td>32.0420</td>\n",
       "      <td>64.70</td>\n",
       "      <td>Miscible</td>\n",
       "    </tr>\n",
       "    <tr>\n",
       "      <th>4</th>\n",
       "      <td>Acetone</td>\n",
       "      <td>58.0800</td>\n",
       "      <td>56.08</td>\n",
       "      <td>Miscible</td>\n",
       "    </tr>\n",
       "  </tbody>\n",
       "</table>\n",
       "</div>"
      ],
      "text/plain": [
       "   Compound  MolecularWeight  BoilingPoint      Solubility\n",
       "0     Water          18.0150        100.00        Infinite\n",
       "1   Ethanol          46.0700         78.37        Miscible\n",
       "2   Benzene          78.1134         80.10  0.178 g/100 mL\n",
       "3  Methanol          32.0420         64.70        Miscible\n",
       "4   Acetone          58.0800         56.08        Miscible"
      ]
     },
     "execution_count": 3,
     "metadata": {},
     "output_type": "execute_result"
    }
   ],
   "source": [
    "df.head()"
   ]
  },
  {
   "cell_type": "markdown",
   "metadata": {},
   "source": [
    "# Åtkomst och modifiering av data\n",
    "\n",
    "Precis som med numpy kan vi få åtkomst till formen på en DataFrame."
   ]
  },
  {
   "cell_type": "code",
   "execution_count": 4,
   "metadata": {},
   "outputs": [
    {
     "name": "stdout",
     "output_type": "stream",
     "text": [
      "(7, 4)\n"
     ]
    }
   ],
   "source": [
    "print(df.shape)"
   ]
  },
  {
   "cell_type": "markdown",
   "metadata": {},
   "source": [
    "Du kan också få åtkomst till en lista över kolumnerna."
   ]
  },
  {
   "cell_type": "code",
   "execution_count": 5,
   "metadata": {},
   "outputs": [
    {
     "name": "stdout",
     "output_type": "stream",
     "text": [
      "Index(['Compound', 'MolecularWeight', 'BoilingPoint', 'Solubility'], dtype='object')\n"
     ]
    }
   ],
   "source": [
    "print(df.columns)"
   ]
  },
  {
   "cell_type": "markdown",
   "metadata": {},
   "source": [
    "För att komma åt data i en DataFrame kan vi använda olika metoder och indexeringsfunktioner. \n",
    "\n",
    "De två viktigaste funktionerna för att få åtkomst till data är `.loc`, som tar namnet på rader/kolumner (som i en dictionary):"
   ]
  },
  {
   "cell_type": "code",
   "execution_count": 6,
   "metadata": {},
   "outputs": [
    {
     "data": {
      "text/plain": [
       "18.015"
      ]
     },
     "execution_count": 6,
     "metadata": {},
     "output_type": "execute_result"
    }
   ],
   "source": [
    "df.loc[0,'MolecularWeight'] #rad 0, kolumn 'MolecularWeight'"
   ]
  },
  {
   "cell_type": "markdown",
   "metadata": {},
   "source": [
    "och iloc, som istället tar index (som i numpy):"
   ]
  },
  {
   "cell_type": "code",
   "execution_count": 7,
   "metadata": {},
   "outputs": [
    {
     "data": {
      "text/plain": [
       "18.015"
      ]
     },
     "execution_count": 7,
     "metadata": {},
     "output_type": "execute_result"
    }
   ],
   "source": [
    "df.iloc[0,1]"
   ]
  },
  {
   "cell_type": "markdown",
   "metadata": {},
   "source": [
    "Observera att här är namnen på raderna helt enkelt index, vilket är standard. Men vi kan välja en specifik kolumn att bli namnet på raderna:"
   ]
  },
  {
   "cell_type": "code",
   "execution_count": 8,
   "metadata": {},
   "outputs": [
    {
     "data": {
      "text/html": [
       "<div>\n",
       "<style scoped>\n",
       "    .dataframe tbody tr th:only-of-type {\n",
       "        vertical-align: middle;\n",
       "    }\n",
       "\n",
       "    .dataframe tbody tr th {\n",
       "        vertical-align: top;\n",
       "    }\n",
       "\n",
       "    .dataframe thead th {\n",
       "        text-align: right;\n",
       "    }\n",
       "</style>\n",
       "<table border=\"1\" class=\"dataframe\">\n",
       "  <thead>\n",
       "    <tr style=\"text-align: right;\">\n",
       "      <th></th>\n",
       "      <th>MolecularWeight</th>\n",
       "      <th>BoilingPoint</th>\n",
       "      <th>Solubility</th>\n",
       "    </tr>\n",
       "    <tr>\n",
       "      <th>Compound</th>\n",
       "      <th></th>\n",
       "      <th></th>\n",
       "      <th></th>\n",
       "    </tr>\n",
       "  </thead>\n",
       "  <tbody>\n",
       "    <tr>\n",
       "      <th>Water</th>\n",
       "      <td>18.0150</td>\n",
       "      <td>100.00</td>\n",
       "      <td>Infinite</td>\n",
       "    </tr>\n",
       "    <tr>\n",
       "      <th>Ethanol</th>\n",
       "      <td>46.0700</td>\n",
       "      <td>78.37</td>\n",
       "      <td>Miscible</td>\n",
       "    </tr>\n",
       "    <tr>\n",
       "      <th>Benzene</th>\n",
       "      <td>78.1134</td>\n",
       "      <td>80.10</td>\n",
       "      <td>0.178 g/100 mL</td>\n",
       "    </tr>\n",
       "    <tr>\n",
       "      <th>Methanol</th>\n",
       "      <td>32.0420</td>\n",
       "      <td>64.70</td>\n",
       "      <td>Miscible</td>\n",
       "    </tr>\n",
       "    <tr>\n",
       "      <th>Acetone</th>\n",
       "      <td>58.0800</td>\n",
       "      <td>56.08</td>\n",
       "      <td>Miscible</td>\n",
       "    </tr>\n",
       "    <tr>\n",
       "      <th>Toluene</th>\n",
       "      <td>92.1400</td>\n",
       "      <td>110.60</td>\n",
       "      <td>None</td>\n",
       "    </tr>\n",
       "    <tr>\n",
       "      <th>Tetrachloroethylene</th>\n",
       "      <td>165.8000</td>\n",
       "      <td>121.20</td>\n",
       "      <td>206 mg/L</td>\n",
       "    </tr>\n",
       "  </tbody>\n",
       "</table>\n",
       "</div>"
      ],
      "text/plain": [
       "                     MolecularWeight  BoilingPoint      Solubility\n",
       "Compound                                                          \n",
       "Water                        18.0150        100.00        Infinite\n",
       "Ethanol                      46.0700         78.37        Miscible\n",
       "Benzene                      78.1134         80.10  0.178 g/100 mL\n",
       "Methanol                     32.0420         64.70        Miscible\n",
       "Acetone                      58.0800         56.08        Miscible\n",
       "Toluene                      92.1400        110.60            None\n",
       "Tetrachloroethylene         165.8000        121.20        206 mg/L"
      ]
     },
     "execution_count": 8,
     "metadata": {},
     "output_type": "execute_result"
    }
   ],
   "source": [
    "df_compound = df.set_index('Compound')\n",
    "df_compound"
   ]
  },
  {
   "cell_type": "code",
   "execution_count": 9,
   "metadata": {},
   "outputs": [
    {
     "data": {
      "text/plain": [
       "18.015"
      ]
     },
     "execution_count": 9,
     "metadata": {},
     "output_type": "execute_result"
    }
   ],
   "source": [
    "df_compound.loc['Water','MolecularWeight']"
   ]
  },
  {
   "cell_type": "markdown",
   "metadata": {},
   "source": [
    "`loc` och `iloc` tillåter användning av slicing:"
   ]
  },
  {
   "cell_type": "code",
   "execution_count": 10,
   "metadata": {},
   "outputs": [
    {
     "name": "stdout",
     "output_type": "stream",
     "text": [
      "0     18.0150\n",
      "1     46.0700\n",
      "2     78.1134\n",
      "3     32.0420\n",
      "4     58.0800\n",
      "5     92.1400\n",
      "6    165.8000\n",
      "Name: MolecularWeight, dtype: float64\n"
     ]
    }
   ],
   "source": [
    "print(df.loc[:, 'MolecularWeight']) #en kolumn"
   ]
  },
  {
   "cell_type": "code",
   "execution_count": 11,
   "metadata": {},
   "outputs": [
    {
     "name": "stdout",
     "output_type": "stream",
     "text": [
      "   MolecularWeight  BoilingPoint\n",
      "0          18.0150        100.00\n",
      "1          46.0700         78.37\n",
      "2          78.1134         80.10\n",
      "3          32.0420         64.70\n",
      "4          58.0800         56.08\n",
      "5          92.1400        110.60\n",
      "6         165.8000        121.20\n"
     ]
    }
   ],
   "source": [
    "print(df.loc[:,['MolecularWeight', 'BoilingPoint']]) #två kolumner"
   ]
  },
  {
   "cell_type": "code",
   "execution_count": 12,
   "metadata": {},
   "outputs": [
    {
     "data": {
      "text/plain": [
       "Compound              Water\n",
       "MolecularWeight      18.015\n",
       "BoilingPoint          100.0\n",
       "Solubility         Infinite\n",
       "Name: 0, dtype: object"
      ]
     },
     "execution_count": 12,
     "metadata": {},
     "output_type": "execute_result"
    }
   ],
   "source": [
    "df.loc[0,:] #en rad"
   ]
  },
  {
   "cell_type": "code",
   "execution_count": 13,
   "metadata": {},
   "outputs": [
    {
     "name": "stdout",
     "output_type": "stream",
     "text": [
      "   Compound  MolecularWeight\n",
      "0     Water          18.0150\n",
      "1   Ethanol          46.0700\n",
      "2   Benzene          78.1134\n",
      "3  Methanol          32.0420\n"
     ]
    }
   ],
   "source": [
    "print(df.iloc[:4, :2])"
   ]
  },
  {
   "cell_type": "markdown",
   "metadata": {},
   "source": [
    "För att få en specifik kolumn kan du också använda enklare åtkomst i dictionary-stil:"
   ]
  },
  {
   "cell_type": "code",
   "execution_count": 14,
   "metadata": {},
   "outputs": [
    {
     "name": "stdout",
     "output_type": "stream",
     "text": [
      "0     18.0150\n",
      "1     46.0700\n",
      "2     78.1134\n",
      "3     32.0420\n",
      "4     58.0800\n",
      "5     92.1400\n",
      "6    165.8000\n",
      "Name: MolecularWeight, dtype: float64\n"
     ]
    }
   ],
   "source": [
    "print(df['MolecularWeight'])"
   ]
  },
  {
   "cell_type": "markdown",
   "metadata": {},
   "source": [
    "eller till och med, förutsatt att du använt ett namn utan mellanslag:"
   ]
  },
  {
   "cell_type": "code",
   "execution_count": 15,
   "metadata": {},
   "outputs": [
    {
     "data": {
      "text/plain": [
       "0     18.0150\n",
       "1     46.0700\n",
       "2     78.1134\n",
       "3     32.0420\n",
       "4     58.0800\n",
       "5     92.1400\n",
       "6    165.8000\n",
       "Name: MolecularWeight, dtype: float64"
      ]
     },
     "execution_count": 15,
     "metadata": {},
     "output_type": "execute_result"
    }
   ],
   "source": [
    "df.MolecularWeight"
   ]
  },
  {
   "cell_type": "markdown",
   "metadata": {},
   "source": [
    "För att filtrera DataFrame baserat på en given villkor kan du använda boolean-indexering. Till exempel, för att hitta och välja alla molekyler med en vikt över 50 och spara dem i en ny DataFrame:"
   ]
  },
  {
   "cell_type": "code",
   "execution_count": 16,
   "metadata": {},
   "outputs": [
    {
     "data": {
      "text/html": [
       "<div>\n",
       "<style scoped>\n",
       "    .dataframe tbody tr th:only-of-type {\n",
       "        vertical-align: middle;\n",
       "    }\n",
       "\n",
       "    .dataframe tbody tr th {\n",
       "        vertical-align: top;\n",
       "    }\n",
       "\n",
       "    .dataframe thead th {\n",
       "        text-align: right;\n",
       "    }\n",
       "</style>\n",
       "<table border=\"1\" class=\"dataframe\">\n",
       "  <thead>\n",
       "    <tr style=\"text-align: right;\">\n",
       "      <th></th>\n",
       "      <th>Compound</th>\n",
       "      <th>MolecularWeight</th>\n",
       "      <th>BoilingPoint</th>\n",
       "      <th>Solubility</th>\n",
       "    </tr>\n",
       "  </thead>\n",
       "  <tbody>\n",
       "    <tr>\n",
       "      <th>2</th>\n",
       "      <td>Benzene</td>\n",
       "      <td>78.1134</td>\n",
       "      <td>80.10</td>\n",
       "      <td>0.178 g/100 mL</td>\n",
       "    </tr>\n",
       "    <tr>\n",
       "      <th>4</th>\n",
       "      <td>Acetone</td>\n",
       "      <td>58.0800</td>\n",
       "      <td>56.08</td>\n",
       "      <td>Miscible</td>\n",
       "    </tr>\n",
       "    <tr>\n",
       "      <th>5</th>\n",
       "      <td>Toluene</td>\n",
       "      <td>92.1400</td>\n",
       "      <td>110.60</td>\n",
       "      <td>None</td>\n",
       "    </tr>\n",
       "    <tr>\n",
       "      <th>6</th>\n",
       "      <td>Tetrachloroethylene</td>\n",
       "      <td>165.8000</td>\n",
       "      <td>121.20</td>\n",
       "      <td>206 mg/L</td>\n",
       "    </tr>\n",
       "  </tbody>\n",
       "</table>\n",
       "</div>"
      ],
      "text/plain": [
       "              Compound  MolecularWeight  BoilingPoint      Solubility\n",
       "2              Benzene          78.1134         80.10  0.178 g/100 mL\n",
       "4              Acetone          58.0800         56.08        Miscible\n",
       "5              Toluene          92.1400        110.60            None\n",
       "6  Tetrachloroethylene         165.8000        121.20        206 mg/L"
      ]
     },
     "execution_count": 16,
     "metadata": {},
     "output_type": "execute_result"
    }
   ],
   "source": [
    "filtered_df = df[df['MolecularWeight'] > 50]\n",
    "filtered_df"
   ]
  },
  {
   "cell_type": "markdown",
   "metadata": {},
   "source": [
    "Det finns många sätt att ändra en befintlig DataFrame efter att den har skapats. Du kan till exempel byta namn på rader eller kolumner:"
   ]
  },
  {
   "cell_type": "code",
   "execution_count": 17,
   "metadata": {},
   "outputs": [
    {
     "data": {
      "text/html": [
       "<div>\n",
       "<style scoped>\n",
       "    .dataframe tbody tr th:only-of-type {\n",
       "        vertical-align: middle;\n",
       "    }\n",
       "\n",
       "    .dataframe tbody tr th {\n",
       "        vertical-align: top;\n",
       "    }\n",
       "\n",
       "    .dataframe thead th {\n",
       "        text-align: right;\n",
       "    }\n",
       "</style>\n",
       "<table border=\"1\" class=\"dataframe\">\n",
       "  <thead>\n",
       "    <tr style=\"text-align: right;\">\n",
       "      <th></th>\n",
       "      <th>Name</th>\n",
       "      <th>MolecularWeight</th>\n",
       "      <th>BoilingPoint</th>\n",
       "      <th>Solubility</th>\n",
       "    </tr>\n",
       "  </thead>\n",
       "  <tbody>\n",
       "    <tr>\n",
       "      <th>0</th>\n",
       "      <td>Water</td>\n",
       "      <td>18.0150</td>\n",
       "      <td>100.00</td>\n",
       "      <td>Infinite</td>\n",
       "    </tr>\n",
       "    <tr>\n",
       "      <th>1</th>\n",
       "      <td>Ethanol</td>\n",
       "      <td>46.0700</td>\n",
       "      <td>78.37</td>\n",
       "      <td>Miscible</td>\n",
       "    </tr>\n",
       "    <tr>\n",
       "      <th>2</th>\n",
       "      <td>Benzene</td>\n",
       "      <td>78.1134</td>\n",
       "      <td>80.10</td>\n",
       "      <td>0.178 g/100 mL</td>\n",
       "    </tr>\n",
       "    <tr>\n",
       "      <th>3</th>\n",
       "      <td>Methanol</td>\n",
       "      <td>32.0420</td>\n",
       "      <td>64.70</td>\n",
       "      <td>Miscible</td>\n",
       "    </tr>\n",
       "    <tr>\n",
       "      <th>4</th>\n",
       "      <td>Acetone</td>\n",
       "      <td>58.0800</td>\n",
       "      <td>56.08</td>\n",
       "      <td>Miscible</td>\n",
       "    </tr>\n",
       "    <tr>\n",
       "      <th>5</th>\n",
       "      <td>Toluene</td>\n",
       "      <td>92.1400</td>\n",
       "      <td>110.60</td>\n",
       "      <td>None</td>\n",
       "    </tr>\n",
       "    <tr>\n",
       "      <th>6</th>\n",
       "      <td>Tetrachloroethylene</td>\n",
       "      <td>165.8000</td>\n",
       "      <td>121.20</td>\n",
       "      <td>206 mg/L</td>\n",
       "    </tr>\n",
       "  </tbody>\n",
       "</table>\n",
       "</div>"
      ],
      "text/plain": [
       "                  Name  MolecularWeight  BoilingPoint      Solubility\n",
       "0                Water          18.0150        100.00        Infinite\n",
       "1              Ethanol          46.0700         78.37        Miscible\n",
       "2              Benzene          78.1134         80.10  0.178 g/100 mL\n",
       "3             Methanol          32.0420         64.70        Miscible\n",
       "4              Acetone          58.0800         56.08        Miscible\n",
       "5              Toluene          92.1400        110.60            None\n",
       "6  Tetrachloroethylene         165.8000        121.20        206 mg/L"
      ]
     },
     "execution_count": 17,
     "metadata": {},
     "output_type": "execute_result"
    }
   ],
   "source": [
    "df.rename(columns={\"Compound\": \"Name\"})"
   ]
  },
  {
   "cell_type": "markdown",
   "metadata": {},
   "source": [
    "Du kan lägga till nya kolumner i befintliga DataFrames. Till exempel, för att konvertera kokpunkterna från Celsius till Fahrenheit och lägga till detta som en ny kolumn:"
   ]
  },
  {
   "cell_type": "code",
   "execution_count": 18,
   "metadata": {},
   "outputs": [
    {
     "data": {
      "text/html": [
       "<div>\n",
       "<style scoped>\n",
       "    .dataframe tbody tr th:only-of-type {\n",
       "        vertical-align: middle;\n",
       "    }\n",
       "\n",
       "    .dataframe tbody tr th {\n",
       "        vertical-align: top;\n",
       "    }\n",
       "\n",
       "    .dataframe thead th {\n",
       "        text-align: right;\n",
       "    }\n",
       "</style>\n",
       "<table border=\"1\" class=\"dataframe\">\n",
       "  <thead>\n",
       "    <tr style=\"text-align: right;\">\n",
       "      <th></th>\n",
       "      <th>Compound</th>\n",
       "      <th>MolecularWeight</th>\n",
       "      <th>BoilingPoint</th>\n",
       "      <th>Solubility</th>\n",
       "      <th>BoilingPoint (°F)</th>\n",
       "    </tr>\n",
       "  </thead>\n",
       "  <tbody>\n",
       "    <tr>\n",
       "      <th>0</th>\n",
       "      <td>Water</td>\n",
       "      <td>18.0150</td>\n",
       "      <td>100.00</td>\n",
       "      <td>Infinite</td>\n",
       "      <td>212.000</td>\n",
       "    </tr>\n",
       "    <tr>\n",
       "      <th>1</th>\n",
       "      <td>Ethanol</td>\n",
       "      <td>46.0700</td>\n",
       "      <td>78.37</td>\n",
       "      <td>Miscible</td>\n",
       "      <td>173.066</td>\n",
       "    </tr>\n",
       "    <tr>\n",
       "      <th>2</th>\n",
       "      <td>Benzene</td>\n",
       "      <td>78.1134</td>\n",
       "      <td>80.10</td>\n",
       "      <td>0.178 g/100 mL</td>\n",
       "      <td>176.180</td>\n",
       "    </tr>\n",
       "    <tr>\n",
       "      <th>3</th>\n",
       "      <td>Methanol</td>\n",
       "      <td>32.0420</td>\n",
       "      <td>64.70</td>\n",
       "      <td>Miscible</td>\n",
       "      <td>148.460</td>\n",
       "    </tr>\n",
       "    <tr>\n",
       "      <th>4</th>\n",
       "      <td>Acetone</td>\n",
       "      <td>58.0800</td>\n",
       "      <td>56.08</td>\n",
       "      <td>Miscible</td>\n",
       "      <td>132.944</td>\n",
       "    </tr>\n",
       "  </tbody>\n",
       "</table>\n",
       "</div>"
      ],
      "text/plain": [
       "   Compound  MolecularWeight  BoilingPoint      Solubility  BoilingPoint (°F)\n",
       "0     Water          18.0150        100.00        Infinite            212.000\n",
       "1   Ethanol          46.0700         78.37        Miscible            173.066\n",
       "2   Benzene          78.1134         80.10  0.178 g/100 mL            176.180\n",
       "3  Methanol          32.0420         64.70        Miscible            148.460\n",
       "4   Acetone          58.0800         56.08        Miscible            132.944"
      ]
     },
     "execution_count": 18,
     "metadata": {},
     "output_type": "execute_result"
    }
   ],
   "source": [
    "df['BoilingPoint (°F)'] = df['BoilingPoint']*1.8 + 32\n",
    "df.head()"
   ]
  },
  {
   "cell_type": "markdown",
   "metadata": {},
   "source": [
    "Du kan också ta bort rader eller kolumner:"
   ]
  },
  {
   "cell_type": "code",
   "execution_count": 19,
   "metadata": {},
   "outputs": [
    {
     "data": {
      "text/html": [
       "<div>\n",
       "<style scoped>\n",
       "    .dataframe tbody tr th:only-of-type {\n",
       "        vertical-align: middle;\n",
       "    }\n",
       "\n",
       "    .dataframe tbody tr th {\n",
       "        vertical-align: top;\n",
       "    }\n",
       "\n",
       "    .dataframe thead th {\n",
       "        text-align: right;\n",
       "    }\n",
       "</style>\n",
       "<table border=\"1\" class=\"dataframe\">\n",
       "  <thead>\n",
       "    <tr style=\"text-align: right;\">\n",
       "      <th></th>\n",
       "      <th>Compound</th>\n",
       "      <th>MolecularWeight</th>\n",
       "      <th>BoilingPoint</th>\n",
       "      <th>Solubility</th>\n",
       "    </tr>\n",
       "  </thead>\n",
       "  <tbody>\n",
       "    <tr>\n",
       "      <th>0</th>\n",
       "      <td>Water</td>\n",
       "      <td>18.0150</td>\n",
       "      <td>100.00</td>\n",
       "      <td>Infinite</td>\n",
       "    </tr>\n",
       "    <tr>\n",
       "      <th>1</th>\n",
       "      <td>Ethanol</td>\n",
       "      <td>46.0700</td>\n",
       "      <td>78.37</td>\n",
       "      <td>Miscible</td>\n",
       "    </tr>\n",
       "    <tr>\n",
       "      <th>2</th>\n",
       "      <td>Benzene</td>\n",
       "      <td>78.1134</td>\n",
       "      <td>80.10</td>\n",
       "      <td>0.178 g/100 mL</td>\n",
       "    </tr>\n",
       "    <tr>\n",
       "      <th>3</th>\n",
       "      <td>Methanol</td>\n",
       "      <td>32.0420</td>\n",
       "      <td>64.70</td>\n",
       "      <td>Miscible</td>\n",
       "    </tr>\n",
       "    <tr>\n",
       "      <th>4</th>\n",
       "      <td>Acetone</td>\n",
       "      <td>58.0800</td>\n",
       "      <td>56.08</td>\n",
       "      <td>Miscible</td>\n",
       "    </tr>\n",
       "    <tr>\n",
       "      <th>5</th>\n",
       "      <td>Toluene</td>\n",
       "      <td>92.1400</td>\n",
       "      <td>110.60</td>\n",
       "      <td>None</td>\n",
       "    </tr>\n",
       "    <tr>\n",
       "      <th>6</th>\n",
       "      <td>Tetrachloroethylene</td>\n",
       "      <td>165.8000</td>\n",
       "      <td>121.20</td>\n",
       "      <td>206 mg/L</td>\n",
       "    </tr>\n",
       "  </tbody>\n",
       "</table>\n",
       "</div>"
      ],
      "text/plain": [
       "              Compound  MolecularWeight  BoilingPoint      Solubility\n",
       "0                Water          18.0150        100.00        Infinite\n",
       "1              Ethanol          46.0700         78.37        Miscible\n",
       "2              Benzene          78.1134         80.10  0.178 g/100 mL\n",
       "3             Methanol          32.0420         64.70        Miscible\n",
       "4              Acetone          58.0800         56.08        Miscible\n",
       "5              Toluene          92.1400        110.60            None\n",
       "6  Tetrachloroethylene         165.8000        121.20        206 mg/L"
      ]
     },
     "execution_count": 19,
     "metadata": {},
     "output_type": "execute_result"
    }
   ],
   "source": [
    "dropped = df.drop(columns = \"BoilingPoint (°F)\")\n",
    "dropped"
   ]
  },
  {
   "cell_type": "markdown",
   "metadata": {},
   "source": [
    "Ofta kan pandas-funktioner antingen returnera en ny DataFrame eller utföra operationen direkt på plats (i befintlig DataFrame):"
   ]
  },
  {
   "cell_type": "code",
   "execution_count": 20,
   "metadata": {},
   "outputs": [
    {
     "data": {
      "text/html": [
       "<div>\n",
       "<style scoped>\n",
       "    .dataframe tbody tr th:only-of-type {\n",
       "        vertical-align: middle;\n",
       "    }\n",
       "\n",
       "    .dataframe tbody tr th {\n",
       "        vertical-align: top;\n",
       "    }\n",
       "\n",
       "    .dataframe thead th {\n",
       "        text-align: right;\n",
       "    }\n",
       "</style>\n",
       "<table border=\"1\" class=\"dataframe\">\n",
       "  <thead>\n",
       "    <tr style=\"text-align: right;\">\n",
       "      <th></th>\n",
       "      <th>Compound</th>\n",
       "      <th>MolecularWeight</th>\n",
       "      <th>BoilingPoint</th>\n",
       "      <th>Solubility</th>\n",
       "    </tr>\n",
       "  </thead>\n",
       "  <tbody>\n",
       "    <tr>\n",
       "      <th>0</th>\n",
       "      <td>Water</td>\n",
       "      <td>18.0150</td>\n",
       "      <td>100.00</td>\n",
       "      <td>Infinite</td>\n",
       "    </tr>\n",
       "    <tr>\n",
       "      <th>1</th>\n",
       "      <td>Ethanol</td>\n",
       "      <td>46.0700</td>\n",
       "      <td>78.37</td>\n",
       "      <td>Miscible</td>\n",
       "    </tr>\n",
       "    <tr>\n",
       "      <th>2</th>\n",
       "      <td>Benzene</td>\n",
       "      <td>78.1134</td>\n",
       "      <td>80.10</td>\n",
       "      <td>0.178 g/100 mL</td>\n",
       "    </tr>\n",
       "    <tr>\n",
       "      <th>3</th>\n",
       "      <td>Methanol</td>\n",
       "      <td>32.0420</td>\n",
       "      <td>64.70</td>\n",
       "      <td>Miscible</td>\n",
       "    </tr>\n",
       "    <tr>\n",
       "      <th>4</th>\n",
       "      <td>Acetone</td>\n",
       "      <td>58.0800</td>\n",
       "      <td>56.08</td>\n",
       "      <td>Miscible</td>\n",
       "    </tr>\n",
       "    <tr>\n",
       "      <th>5</th>\n",
       "      <td>Toluene</td>\n",
       "      <td>92.1400</td>\n",
       "      <td>110.60</td>\n",
       "      <td>None</td>\n",
       "    </tr>\n",
       "    <tr>\n",
       "      <th>6</th>\n",
       "      <td>Tetrachloroethylene</td>\n",
       "      <td>165.8000</td>\n",
       "      <td>121.20</td>\n",
       "      <td>206 mg/L</td>\n",
       "    </tr>\n",
       "  </tbody>\n",
       "</table>\n",
       "</div>"
      ],
      "text/plain": [
       "              Compound  MolecularWeight  BoilingPoint      Solubility\n",
       "0                Water          18.0150        100.00        Infinite\n",
       "1              Ethanol          46.0700         78.37        Miscible\n",
       "2              Benzene          78.1134         80.10  0.178 g/100 mL\n",
       "3             Methanol          32.0420         64.70        Miscible\n",
       "4              Acetone          58.0800         56.08        Miscible\n",
       "5              Toluene          92.1400        110.60            None\n",
       "6  Tetrachloroethylene         165.8000        121.20        206 mg/L"
      ]
     },
     "execution_count": 20,
     "metadata": {},
     "output_type": "execute_result"
    }
   ],
   "source": [
    "df.drop(columns = \"BoilingPoint (°F)\", inplace=True)\n",
    "df"
   ]
  },
  {
   "cell_type": "markdown",
   "metadata": {},
   "source": [
    "## Built-in analysis functions"
   ]
  },
  {
   "cell_type": "markdown",
   "metadata": {},
   "source": [
    "You can get statistical analysis for specific columns: "
   ]
  },
  {
   "cell_type": "code",
   "execution_count": 21,
   "metadata": {},
   "outputs": [
    {
     "name": "stdout",
     "output_type": "stream",
     "text": [
      "The mean molecular weight is 70.0372\n",
      "The standard deviation is 49.31466729361561\n"
     ]
    }
   ],
   "source": [
    "print(\"The mean molecular weight is\",df['MolecularWeight'].mean())\n",
    "print(\"The standard deviation is\", df['MolecularWeight'].std())"
   ]
  },
  {
   "cell_type": "markdown",
   "metadata": {},
   "source": [
    "To print summary statistics for each (numeric) column in the DataFrame, use describe():"
   ]
  },
  {
   "cell_type": "code",
   "execution_count": 22,
   "metadata": {},
   "outputs": [
    {
     "data": {
      "text/html": [
       "<div>\n",
       "<style scoped>\n",
       "    .dataframe tbody tr th:only-of-type {\n",
       "        vertical-align: middle;\n",
       "    }\n",
       "\n",
       "    .dataframe tbody tr th {\n",
       "        vertical-align: top;\n",
       "    }\n",
       "\n",
       "    .dataframe thead th {\n",
       "        text-align: right;\n",
       "    }\n",
       "</style>\n",
       "<table border=\"1\" class=\"dataframe\">\n",
       "  <thead>\n",
       "    <tr style=\"text-align: right;\">\n",
       "      <th></th>\n",
       "      <th>MolecularWeight</th>\n",
       "      <th>BoilingPoint</th>\n",
       "    </tr>\n",
       "  </thead>\n",
       "  <tbody>\n",
       "    <tr>\n",
       "      <th>count</th>\n",
       "      <td>7.000000</td>\n",
       "      <td>7.000000</td>\n",
       "    </tr>\n",
       "    <tr>\n",
       "      <th>mean</th>\n",
       "      <td>70.037200</td>\n",
       "      <td>87.292857</td>\n",
       "    </tr>\n",
       "    <tr>\n",
       "      <th>std</th>\n",
       "      <td>49.314667</td>\n",
       "      <td>24.050028</td>\n",
       "    </tr>\n",
       "    <tr>\n",
       "      <th>min</th>\n",
       "      <td>18.015000</td>\n",
       "      <td>56.080000</td>\n",
       "    </tr>\n",
       "    <tr>\n",
       "      <th>25%</th>\n",
       "      <td>39.056000</td>\n",
       "      <td>71.535000</td>\n",
       "    </tr>\n",
       "    <tr>\n",
       "      <th>50%</th>\n",
       "      <td>58.080000</td>\n",
       "      <td>80.100000</td>\n",
       "    </tr>\n",
       "    <tr>\n",
       "      <th>75%</th>\n",
       "      <td>85.126700</td>\n",
       "      <td>105.300000</td>\n",
       "    </tr>\n",
       "    <tr>\n",
       "      <th>max</th>\n",
       "      <td>165.800000</td>\n",
       "      <td>121.200000</td>\n",
       "    </tr>\n",
       "  </tbody>\n",
       "</table>\n",
       "</div>"
      ],
      "text/plain": [
       "       MolecularWeight  BoilingPoint\n",
       "count         7.000000      7.000000\n",
       "mean         70.037200     87.292857\n",
       "std          49.314667     24.050028\n",
       "min          18.015000     56.080000\n",
       "25%          39.056000     71.535000\n",
       "50%          58.080000     80.100000\n",
       "75%          85.126700    105.300000\n",
       "max         165.800000    121.200000"
      ]
     },
     "execution_count": 22,
     "metadata": {},
     "output_type": "execute_result"
    }
   ],
   "source": [
    "df.describe()"
   ]
  },
  {
   "cell_type": "markdown",
   "metadata": {},
   "source": [
    "It is possible to sort the DataFrame, for example, based on a particular column, using sort_values(). To sort the compounds based on their molecular weights in ascending order: "
   ]
  },
  {
   "cell_type": "code",
   "execution_count": 24,
   "metadata": {
    "scrolled": true
   },
   "outputs": [
    {
     "data": {
      "text/html": [
       "<div>\n",
       "<style scoped>\n",
       "    .dataframe tbody tr th:only-of-type {\n",
       "        vertical-align: middle;\n",
       "    }\n",
       "\n",
       "    .dataframe tbody tr th {\n",
       "        vertical-align: top;\n",
       "    }\n",
       "\n",
       "    .dataframe thead th {\n",
       "        text-align: right;\n",
       "    }\n",
       "</style>\n",
       "<table border=\"1\" class=\"dataframe\">\n",
       "  <thead>\n",
       "    <tr style=\"text-align: right;\">\n",
       "      <th></th>\n",
       "      <th>Compound</th>\n",
       "      <th>MolecularWeight</th>\n",
       "      <th>BoilingPoint</th>\n",
       "      <th>Solubility</th>\n",
       "    </tr>\n",
       "  </thead>\n",
       "  <tbody>\n",
       "    <tr>\n",
       "      <th>0</th>\n",
       "      <td>Water</td>\n",
       "      <td>18.0150</td>\n",
       "      <td>100.00</td>\n",
       "      <td>Infinite</td>\n",
       "    </tr>\n",
       "    <tr>\n",
       "      <th>3</th>\n",
       "      <td>Methanol</td>\n",
       "      <td>32.0420</td>\n",
       "      <td>64.70</td>\n",
       "      <td>Miscible</td>\n",
       "    </tr>\n",
       "    <tr>\n",
       "      <th>1</th>\n",
       "      <td>Ethanol</td>\n",
       "      <td>46.0700</td>\n",
       "      <td>78.37</td>\n",
       "      <td>Miscible</td>\n",
       "    </tr>\n",
       "    <tr>\n",
       "      <th>4</th>\n",
       "      <td>Acetone</td>\n",
       "      <td>58.0800</td>\n",
       "      <td>56.08</td>\n",
       "      <td>Miscible</td>\n",
       "    </tr>\n",
       "    <tr>\n",
       "      <th>2</th>\n",
       "      <td>Benzene</td>\n",
       "      <td>78.1134</td>\n",
       "      <td>80.10</td>\n",
       "      <td>0.178 g/100 mL</td>\n",
       "    </tr>\n",
       "    <tr>\n",
       "      <th>5</th>\n",
       "      <td>Toluene</td>\n",
       "      <td>92.1400</td>\n",
       "      <td>110.60</td>\n",
       "      <td>None</td>\n",
       "    </tr>\n",
       "    <tr>\n",
       "      <th>6</th>\n",
       "      <td>Tetrachloroethylene</td>\n",
       "      <td>165.8000</td>\n",
       "      <td>121.20</td>\n",
       "      <td>206 mg/L</td>\n",
       "    </tr>\n",
       "  </tbody>\n",
       "</table>\n",
       "</div>"
      ],
      "text/plain": [
       "              Compound  MolecularWeight  BoilingPoint      Solubility\n",
       "0                Water          18.0150        100.00        Infinite\n",
       "3             Methanol          32.0420         64.70        Miscible\n",
       "1              Ethanol          46.0700         78.37        Miscible\n",
       "4              Acetone          58.0800         56.08        Miscible\n",
       "2              Benzene          78.1134         80.10  0.178 g/100 mL\n",
       "5              Toluene          92.1400        110.60            None\n",
       "6  Tetrachloroethylene         165.8000        121.20        206 mg/L"
      ]
     },
     "execution_count": 24,
     "metadata": {},
     "output_type": "execute_result"
    }
   ],
   "source": [
    "sorted_df = df.sort_values('MolecularWeight', ascending=True)\n",
    "sorted_df"
   ]
  },
  {
   "cell_type": "markdown",
   "metadata": {},
   "source": [
    "Pandas also has built-in matplotlib functions to quickly plot specific columns for example:"
   ]
  },
  {
   "cell_type": "code",
   "execution_count": 25,
   "metadata": {},
   "outputs": [
    {
     "data": {
      "image/png": "[encoded data removed]",
      "text/plain": [
       "<Figure size 432x288 with 1 Axes>"
      ]
     },
     "metadata": {
      "needs_background": "light"
     },
     "output_type": "display_data"
    }
   ],
   "source": [
    "axes = df.plot(\"MolecularWeight\", \"BoilingPoint\", kind=\"scatter\")"
   ]
  },
  {
   "cell_type": "markdown",
   "metadata": {},
   "source": [
    "While all of this has obvious usage for sorting and selecting data, the indexes offer some really neat usage if they are values instead of names. To illustrate this lets generate some data and put the x-values of it into the index. "
   ]
  },
  {
   "cell_type": "code",
   "execution_count": 26,
   "metadata": {},
   "outputs": [
    {
     "data": {
      "text/html": [
       "<div>\n",
       "<style scoped>\n",
       "    .dataframe tbody tr th:only-of-type {\n",
       "        vertical-align: middle;\n",
       "    }\n",
       "\n",
       "    .dataframe tbody tr th {\n",
       "        vertical-align: top;\n",
       "    }\n",
       "\n",
       "    .dataframe thead th {\n",
       "        text-align: right;\n",
       "    }\n",
       "</style>\n",
       "<table border=\"1\" class=\"dataframe\">\n",
       "  <thead>\n",
       "    <tr style=\"text-align: right;\">\n",
       "      <th></th>\n",
       "      <th>0</th>\n",
       "      <th>1</th>\n",
       "      <th>2</th>\n",
       "    </tr>\n",
       "  </thead>\n",
       "  <tbody>\n",
       "    <tr>\n",
       "      <th>-10.0</th>\n",
       "      <td>3.720076e-44</td>\n",
       "      <td>2.820770e-53</td>\n",
       "      <td>2.894640e-63</td>\n",
       "    </tr>\n",
       "    <tr>\n",
       "      <th>-9.9</th>\n",
       "      <td>2.721434e-43</td>\n",
       "      <td>2.520418e-52</td>\n",
       "      <td>3.159064e-62</td>\n",
       "    </tr>\n",
       "    <tr>\n",
       "      <th>-9.8</th>\n",
       "      <td>1.951452e-42</td>\n",
       "      <td>2.207454e-51</td>\n",
       "      <td>3.379375e-61</td>\n",
       "    </tr>\n",
       "    <tr>\n",
       "      <th>-9.7</th>\n",
       "      <td>1.371615e-41</td>\n",
       "      <td>1.895068e-50</td>\n",
       "      <td>3.543467e-60</td>\n",
       "    </tr>\n",
       "    <tr>\n",
       "      <th>-9.6</th>\n",
       "      <td>9.449755e-41</td>\n",
       "      <td>1.594674e-49</td>\n",
       "      <td>3.641954e-59</td>\n",
       "    </tr>\n",
       "    <tr>\n",
       "      <th>...</th>\n",
       "      <td>...</td>\n",
       "      <td>...</td>\n",
       "      <td>...</td>\n",
       "    </tr>\n",
       "    <tr>\n",
       "      <th>9.5</th>\n",
       "      <td>6.381503e-40</td>\n",
       "      <td>4.190093e-32</td>\n",
       "      <td>3.723363e-25</td>\n",
       "    </tr>\n",
       "    <tr>\n",
       "      <th>9.6</th>\n",
       "      <td>9.449755e-41</td>\n",
       "      <td>7.578445e-33</td>\n",
       "      <td>8.225281e-26</td>\n",
       "    </tr>\n",
       "    <tr>\n",
       "      <th>9.7</th>\n",
       "      <td>1.371615e-41</td>\n",
       "      <td>1.343540e-33</td>\n",
       "      <td>1.781067e-26</td>\n",
       "    </tr>\n",
       "    <tr>\n",
       "      <th>9.8</th>\n",
       "      <td>1.951452e-42</td>\n",
       "      <td>2.334723e-34</td>\n",
       "      <td>3.780278e-27</td>\n",
       "    </tr>\n",
       "    <tr>\n",
       "      <th>9.9</th>\n",
       "      <td>2.721434e-43</td>\n",
       "      <td>3.976803e-35</td>\n",
       "      <td>7.864686e-28</td>\n",
       "    </tr>\n",
       "  </tbody>\n",
       "</table>\n",
       "<p>200 rows × 3 columns</p>\n",
       "</div>"
      ],
      "text/plain": [
       "                  0             1             2\n",
       "-10.0  3.720076e-44  2.820770e-53  2.894640e-63\n",
       "-9.9   2.721434e-43  2.520418e-52  3.159064e-62\n",
       "-9.8   1.951452e-42  2.207454e-51  3.379375e-61\n",
       "-9.7   1.371615e-41  1.895068e-50  3.543467e-60\n",
       "-9.6   9.449755e-41  1.594674e-49  3.641954e-59\n",
       "...             ...           ...           ...\n",
       " 9.5   6.381503e-40  4.190093e-32  3.723363e-25\n",
       " 9.6   9.449755e-41  7.578445e-33  8.225281e-26\n",
       " 9.7   1.371615e-41  1.343540e-33  1.781067e-26\n",
       " 9.8   1.951452e-42  2.334723e-34  3.780278e-27\n",
       " 9.9   2.721434e-43  3.976803e-35  7.864686e-28\n",
       "\n",
       "[200 rows x 3 columns]"
      ]
     },
     "execution_count": 26,
     "metadata": {},
     "output_type": "execute_result"
    }
   ],
   "source": [
    "import numpy as np\n",
    "import pandas\n",
    "x_values = np.arange(-10,10,0.1)  #generate an x-vector\n",
    "df_function={}   # generate an empty dictionary and we will use the peak center as index\n",
    "df_function['0'] = np.exp(-x_values**2)\n",
    "df_function['1'] = np.exp(-(x_values-1)**2)\n",
    "df_function['2'] = np.exp(-(x_values-2)**2)\n",
    "df_function = pandas.DataFrame(df_function,index=x_values)\n",
    "df_function"
   ]
  },
  {
   "cell_type": "markdown",
   "metadata": {},
   "source": [
    "If directly created like this the index is of type float. If this is generated from other datatype one typically can convert the index into float using this command"
   ]
  },
  {
   "cell_type": "code",
   "execution_count": 27,
   "metadata": {},
   "outputs": [
    {
     "data": {
      "text/plain": [
       "dtype('float64')"
      ]
     },
     "execution_count": 27,
     "metadata": {},
     "output_type": "execute_result"
    }
   ],
   "source": [
    "df_function.index=df_function.index.astype(float)\n",
    "df_function.index.dtype"
   ]
  },
  {
   "cell_type": "markdown",
   "metadata": {},
   "source": [
    "With the index as float, plotting gets very neat\n",
    "\n",
    "### task: \n",
    "\n",
    "test what \"df_function.plot()\" returns<br>\n",
    "and then give your index a name with df_function.index.name='x-values'<br>\n",
    "and test again what the plot returns"
   ]
  },
  {
   "cell_type": "code",
   "execution_count": 28,
   "metadata": {},
   "outputs": [],
   "source": [
    "# enter code here"
   ]
  },
  {
   "cell_type": "code",
   "execution_count": 29,
   "metadata": {},
   "outputs": [
    {
     "data": {
      "text/plain": [
       "<AxesSubplot:>"
      ]
     },
     "execution_count": 29,
     "metadata": {},
     "output_type": "execute_result"
    },
    {
     "data": {
      "image/png": "[encoded data removed]",
      "text/plain": [
       "<Figure size 432x288 with 1 Axes>"
      ]
     },
     "metadata": {
      "needs_background": "light"
     },
     "output_type": "display_data"
    }
   ],
   "source": [
    "df_function.plot()"
   ]
  },
  {
   "cell_type": "markdown",
   "metadata": {},
   "source": [
    "finally having either of the  indexes as numbers one can slice by value. Test what these return<br>\n",
    "df_function[:-1]<br>\n",
    "df_function[-1:1]<br>\n",
    "df_function.loc[-1:1,:]<br>"
   ]
  },
  {
   "cell_type": "code",
   "execution_count": 30,
   "metadata": {},
   "outputs": [],
   "source": [
    "# enter code here"
   ]
  },
  {
   "cell_type": "markdown",
   "metadata": {},
   "source": [
    "the really cool thing is that you do not even have to have the right numbers in your slices. show that the following slice will work just as you expect:<br>\n",
    "\n",
    "df_function[0.01:0.2].plot()  <br>\n",
    "\n",
    "Now write for yourself, which steps the interpretation would have to do to achieve this. The start could be:<br> \n",
    "find in the index the position of the index that is closest to 0.01 and then.... \n"
   ]
  },
  {
   "cell_type": "markdown",
   "metadata": {},
   "source": [
    "Using a value like this as index is also very powerful when reading data that was e.g. measured by a machine. The following code reads data from a webpage and converts it into a DataFrame. The column names are the parameter used for this function. Using slicing to plot only the measurements where the parameter is between 10 and 20. Important, you will need to sort the column index first. This is easiest done while using the option \"inplace=True\"."
   ]
  },
  {
   "cell_type": "code",
   "execution_count": 31,
   "metadata": {},
   "outputs": [
    {
     "data": {
      "text/plain": [
       "<AxesSubplot:xlabel='x-value'>"
      ]
     },
     "execution_count": 31,
     "metadata": {},
     "output_type": "execute_result"
    },
    {
     "data": {
      "image/png": "[encoded data removed]",
      "text/plain": [
       "<Figure size 432x288 with 1 Axes>"
      ]
     },
     "metadata": {
      "needs_background": "light"
     },
     "output_type": "display_data"
    }
   ],
   "source": [
    "df_sinc=pd.read_csv(\"http://www.jensuhlig.de/Kemm30/sinc.dat\",index_col=0)\n",
    "df_sinc.columns=df_sinc.columns.astype(float)  #convert the column entries from string to float\n",
    "df_sinc.index=df_sinc.index.astype(float)      #convert the index entries from string to float\n",
    "df_sinc.columns.name='Parameter'\n",
    "df_sinc.plot()"
   ]
  },
  {
   "cell_type": "code",
   "execution_count": 32,
   "metadata": {},
   "outputs": [],
   "source": [
    "# enter your code here."
   ]
  },
  {
   "cell_type": "markdown",
   "metadata": {},
   "source": [
    "This reading function is very powerful and can through its many option even process very complicated files. Look at this file on the internet \"http://www.jensuhlig.de/Kemm30/APS_Copper_SolarCell.dat\" That was measured at a large scale research facility. From this file we want to: <br>\n",
    "ignore the first 29 row <br>\n",
    "then separate the columns by as many white characters as there are using \"\\s+\" as a separator<br>\n",
    "then only read the columns named \"Energy\" and \"PR\" which we counted to be columns 2 and 14<br>\n",
    "Given them the right name and use the \"Energy\" as index."
   ]
  },
  {
   "cell_type": "code",
   "execution_count": 33,
   "metadata": {},
   "outputs": [
    {
     "data": {
      "text/plain": [
       "<AxesSubplot:xlabel='Energy'>"
      ]
     },
     "execution_count": 33,
     "metadata": {},
     "output_type": "execute_result"
    },
    {
     "data": {
      "image/png": "[encoded data removed]",
      "text/plain": [
       "<Figure size 432x288 with 1 Axes>"
      ]
     },
     "metadata": {
      "needs_background": "light"
     },
     "output_type": "display_data"
    }
   ],
   "source": [
    "df_aps_manual=pd.read_csv(\"http://www.jensuhlig.de/Kemm30/APS_Copper_SolarCell.dat\",skiprows=30,sep='\\s+',names=['Energy','PR'],index_col=0,usecols=[2,14])\n",
    "df_aps_manual.plot()"
   ]
  },
  {
   "cell_type": "markdown",
   "metadata": {},
   "source": [
    "With time one learns more and more of the functions offered in the reading tools and can e..g simplify the same task with:"
   ]
  },
  {
   "cell_type": "code",
   "execution_count": 34,
   "metadata": {},
   "outputs": [
    {
     "data": {
      "text/plain": [
       "<AxesSubplot:xlabel='Energy'>"
      ]
     },
     "execution_count": 34,
     "metadata": {},
     "output_type": "execute_result"
    },
    {
     "data": {
      "image/png": "[encoded data removed]",
      "text/plain": [
       "<Figure size 432x288 with 1 Axes>"
      ]
     },
     "metadata": {
      "needs_background": "light"
     },
     "output_type": "display_data"
    }
   ],
   "source": [
    "df_aps_automatic=pd.read_csv(\"http://www.jensuhlig.de/Kemm30/APS_Copper_SolarCell.dat\",skiprows=29,escapechar='L',sep='\\s+',index_col=0,usecols=['Energy','PR'])\n",
    "df_aps_automatic.plot()"
   ]
  },
  {
   "cell_type": "code",
   "execution_count": 35,
   "metadata": {},
   "outputs": [],
   "source": [
    "### Task plot this function between 8.96 and 9.0 "
   ]
  },
  {
   "cell_type": "markdown",
   "metadata": {},
   "source": [
    "Advanced aggregation. It is possible to group and aggregate data based on a specific property. This can be useful for analyzing data. The function that is used for this is called \"groupby\". <br>\n",
    "\"Groupby\" takes so called categorized data, meaning data that can be placed into a group, and does something to all entries in this group. As an example: in our we could use the solubility. This solubility is clearly separated into missiple, inmissible and other values."
   ]
  },
  {
   "cell_type": "code",
   "execution_count": 36,
   "metadata": {},
   "outputs": [
    {
     "data": {
      "text/plain": [
       "[<matplotlib.lines.Line2D at 0x7f8ec91509a0>]"
      ]
     },
     "execution_count": 36,
     "metadata": {},
     "output_type": "execute_result"
    },
    {
     "data": {
      "image/png": "[encoded data removed]",
      "text/plain": [
       "<Figure size 432x288 with 1 Axes>"
      ]
     },
     "metadata": {
      "needs_background": "light"
     },
     "output_type": "display_data"
    }
   ],
   "source": [
    "#Group by solubility\n",
    "grouped_df = df.groupby('Solubility') \n",
    "# a grouped_df is a structure that is sorted by the groups. \n",
    "# In data analysis this is also called a \"pipe\" = pipeline for further analysis.\n",
    "\n",
    "#Calculate the mean molecular weight for each group\n",
    "mean_mw = grouped_df['MolecularWeight'].mean()\n",
    "\n",
    "#Calculate the maximum boiling point for each group\n",
    "max_bp = grouped_df['BoilingPoint'].max()\n",
    "\n",
    "# plot the two values vs each other as a test\n",
    "import matplotlib.pyplot as plt\n",
    "fig,ax=plt.subplots()\n",
    "ax.plot(mean_mw,max_bp,'*')"
   ]
  },
  {
   "cell_type": "markdown",
   "metadata": {},
   "source": [
    "EXERCISE: Analyzing Chemical Data with Pandas\n",
    "\n",
    "Provide the students with a CSV file named \"chemical_data.csv\" containing information about different chemical compounds. The dataset includes the following columns: \n",
    "\n",
    "CompoundName\n",
    "MolecularWeight\n",
    "BoilingPoint\n",
    "Solubility\n",
    "\n",
    "Use Pandas to read the chemical_data.csv file and create a DataFrame. Explore the first few rows of the DataFrame.\n",
    "\n",
    "1) Find the compound with the highest boiling point using Pandas\n",
    "2) Print the compounds with a solubility greater than 1 g/100 mL\n",
    "3) Calculate the average molecular weight of the compounds and save this as a new column\n",
    "4) Write the DataFrame to file using to_csv(). "
   ]
  },
  {
   "cell_type": "code",
   "execution_count": null,
   "metadata": {},
   "outputs": [],
   "source": []
  },
  {
   "cell_type": "code",
   "execution_count": null,
   "metadata": {},
   "outputs": [],
   "source": []
  },
  {
   "cell_type": "markdown",
   "metadata": {},
   "source": [
    "Pandas can also be combined with other libraries such as Matplotlib to visualise the data. For example, we can create a scatter plot between the molecular weight and the boiling points."
   ]
  },
  {
   "cell_type": "code",
   "execution_count": 37,
   "metadata": {},
   "outputs": [
    {
     "data": {
      "image/png": "[encoded data removed]",
      "text/plain": [
       "<Figure size 432x288 with 1 Axes>"
      ]
     },
     "metadata": {
      "needs_background": "light"
     },
     "output_type": "display_data"
    }
   ],
   "source": [
    "import matplotlib.pyplot as plt\n",
    "\n",
    "plt.scatter(df['BoilingPoint'], df['MolecularWeight'])\n",
    "plt.xlabel('Boiling Point (°C)')\n",
    "plt.ylabel('Molecular Weight (g/mol)')\n",
    "plt.show()"
   ]
  },
  {
   "cell_type": "markdown",
   "metadata": {},
   "source": [
    "Here, we will used the cheminformatics library RDKit to calculate descriptors for a dataset containing chemical structures in the form of smiles. \n",
    "\n",
    "### Note!! Here you need to have installed rdkit (not included in anaconda)  (see [here](https://www.rdkit.org/docs/Install.html))"
   ]
  },
  {
   "cell_type": "code",
   "execution_count": 38,
   "metadata": {},
   "outputs": [
    {
     "ename": "ModuleNotFoundError",
     "evalue": "No module named 'rdkit'",
     "output_type": "error",
     "traceback": [
      "\u001b[0;31m---------------------------------------------------------------------------\u001b[0m",
      "\u001b[0;31mModuleNotFoundError\u001b[0m                       Traceback (most recent call last)",
      "Input \u001b[0;32mIn [38]\u001b[0m, in \u001b[0;36m<cell line: 1>\u001b[0;34m()\u001b[0m\n\u001b[0;32m----> 1\u001b[0m \u001b[38;5;28;01mimport\u001b[39;00m \u001b[38;5;21;01mrdkit\u001b[39;00m\n\u001b[1;32m      2\u001b[0m \u001b[38;5;28;01mfrom\u001b[39;00m \u001b[38;5;21;01mrdkit\u001b[39;00m \u001b[38;5;28;01mimport\u001b[39;00m Chem\n\u001b[1;32m      3\u001b[0m \u001b[38;5;28;01mfrom\u001b[39;00m \u001b[38;5;21;01mrdkit\u001b[39;00m\u001b[38;5;21;01m.\u001b[39;00m\u001b[38;5;21;01mChem\u001b[39;00m \u001b[38;5;28;01mimport\u001b[39;00m Descriptors\n",
      "\u001b[0;31mModuleNotFoundError\u001b[0m: No module named 'rdkit'"
     ]
    }
   ],
   "source": [
    "import rdkit\n",
    "from rdkit import Chem\n",
    "from rdkit.Chem import Descriptors\n",
    "\n",
    "#Read the dataset as SMILES string < TO BE DONE\n",
    "df = pd.read_csv('smiles.csv')\n",
    "\n",
    "def calculate_descriptor(smiles, descriptor): \n",
    "    mol = Chem.MolFromSmiles(smiles) # Load the molecule from the SMILES string\n",
    "    return descriptor()\n",
    "\n",
    "df['MolecularWeight'] = df['SMILES'].apply(lambda x: calculate_descriptor(x, Descriptors.MolWt))"
   ]
  },
  {
   "cell_type": "code",
   "execution_count": null,
   "metadata": {},
   "outputs": [],
   "source": []
  }
 ],
 "metadata": {
  "kernelspec": {
   "display_name": "Python 3 (ipykernel)",
   "language": "python",
   "name": "python3"
  },
  "language_info": {
   "codemirror_mode": {
    "name": "ipython",
    "version": 3
   },
   "file_extension": ".py",
   "mimetype": "text/x-python",
   "name": "python",
   "nbconvert_exporter": "python",
   "pygments_lexer": "ipython3",
   "version": "3.8.13"
  }
 },
 "nbformat": 4,
 "nbformat_minor": 4
}
