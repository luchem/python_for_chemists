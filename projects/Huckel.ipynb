{
 "cells": [
  {
   "cell_type": "markdown",
   "id": "0b5d5448",
   "metadata": {},
   "source": [
    "Explain Hückel, including molecular orbitals. Only based on simple rule, namely one (diagonal) energy term for the atom and one interaction term with closest neighbor."
   ]
  },
  {
   "cell_type": "markdown",
   "id": "c28c486a",
   "metadata": {},
   "source": [
    "# Benzene\n",
    "## Energy\n",
    "\n",
    "We will first use some arbitrary alpha and beta parameters, then try to find reasonable ones by comparing to the experiment/QM."
   ]
  },
  {
   "cell_type": "code",
   "execution_count": 7,
   "id": "71431484",
   "metadata": {},
   "outputs": [
    {
     "name": "stdout",
     "output_type": "stream",
     "text": [
      "[[1.  0.1 0.  0.  0.  0.1]\n",
      " [0.1 1.  0.1 0.  0.  0. ]\n",
      " [0.  0.1 1.  0.1 0.  0. ]\n",
      " [0.  0.  0.1 1.  0.1 0. ]\n",
      " [0.  0.  0.  0.1 1.  0.1]\n",
      " [0.1 0.  0.  0.  0.1 1. ]]\n"
     ]
    }
   ],
   "source": [
    "import numpy as np\n",
    "alpha = 1\n",
    "beta = 0.1\n",
    "Benzene_H = np.array([[alpha, beta, 0, 0, 0, beta], [beta, alpha, beta, 0, 0, 0], [0, beta, alpha, beta, 0, 0], [0, 0, beta, alpha, beta, 0], [0, 0, 0, beta, alpha, beta], [beta, 0, 0, 0, beta, alpha]])\n",
    "print(Benzene_H)"
   ]
  },
  {
   "cell_type": "code",
   "execution_count": 8,
   "id": "4b3af472",
   "metadata": {},
   "outputs": [
    {
     "name": "stdout",
     "output_type": "stream",
     "text": [
      "[0.8 0.9 0.9 1.1 1.1 1.2]\n"
     ]
    }
   ],
   "source": [
    "eigenval, eigenvec = np.linalg.eigh(Benzene_H)\n",
    "print(eigenval)"
   ]
  },
  {
   "cell_type": "markdown",
   "id": "d1b19c36",
   "metadata": {},
   "source": [
    "Change the values of alpha and beta:"
   ]
  },
  {
   "cell_type": "code",
   "execution_count": 9,
   "id": "07f79d06",
   "metadata": {},
   "outputs": [
    {
     "name": "stdout",
     "output_type": "stream",
     "text": [
      "[1.8 1.9 1.9 2.1 2.1 2.2]\n"
     ]
    }
   ],
   "source": [
    "alpha = 2\n",
    "beta = 0.1\n",
    "Benzene_H = np.array([[alpha, beta, 0, 0, 0, beta], [beta, alpha, beta, 0, 0, 0], [0, beta, alpha, beta, 0, 0], [0, 0, beta, alpha, beta, 0], [0, 0, 0, beta, alpha, beta], [beta, 0, 0, 0, beta, alpha]])\n",
    "eigenval, eigenvec = np.linalg.eigh(Benzene_H)\n",
    "print(eigenval)"
   ]
  },
  {
   "cell_type": "code",
   "execution_count": 10,
   "id": "74b14b16",
   "metadata": {},
   "outputs": [
    {
     "name": "stdout",
     "output_type": "stream",
     "text": [
      "[0.6 0.8 0.8 1.2 1.2 1.4]\n"
     ]
    }
   ],
   "source": [
    "alpha = 1\n",
    "beta = 0.2\n",
    "Benzene_H = np.array([[alpha, beta, 0, 0, 0, beta], [beta, alpha, beta, 0, 0, 0], [0, beta, alpha, beta, 0, 0], [0, 0, beta, alpha, beta, 0], [0, 0, 0, beta, alpha, beta], [beta, 0, 0, 0, beta, alpha]])\n",
    "eigenval, eigenvec = np.linalg.eigh(Benzene_H)\n",
    "print(eigenval)"
   ]
  },
  {
   "cell_type": "markdown",
   "id": "1a0d8fdf",
   "metadata": {},
   "source": [
    "Clearly, the energies are\n",
    "* alpha - 2*beta\n",
    "* alpha - beta (x2)\n",
    "* alpha + beta (x2)\n",
    "* alpha + 2*beta\n",
    "\n",
    "This is indeed the correct structure. Now let's find beta by looking at (experimental) absorption energy. The first (weak) band is at 4.9 eV, followed by a less weak band at 6.19 and then an intense at 6.96 eV. We predict 2*beta, 3*beta. (Can we somehow do a small fit?).\n",
    "\n",
    "From this we find that a good beta would be around 2.4 eV (alpha is only an energy shift, let's put it at 0)."
   ]
  },
  {
   "cell_type": "code",
   "execution_count": 11,
   "id": "a66c7369",
   "metadata": {},
   "outputs": [
    {
     "name": "stdout",
     "output_type": "stream",
     "text": [
      "[-5.  -2.5 -2.5  2.5  2.5  5. ]\n"
     ]
    }
   ],
   "source": [
    "alpha = 0\n",
    "beta = 2.5\n",
    "Benzene_H = np.array([[alpha, beta, 0, 0, 0, beta], [beta, alpha, beta, 0, 0, 0], [0, beta, alpha, beta, 0, 0], [0, 0, beta, alpha, beta, 0], [0, 0, 0, beta, alpha, beta], [beta, 0, 0, 0, beta, alpha]])\n",
    "eigenval, eigenvec = np.linalg.eigh(Benzene_H)\n",
    "print(eigenval)"
   ]
  },
  {
   "cell_type": "markdown",
   "id": "0821d689",
   "metadata": {},
   "source": [
    "Compute all excitation energies (and their multiplicities) and sort them:"
   ]
  },
  {
   "cell_type": "code",
   "execution_count": 13,
   "id": "5bd2c747",
   "metadata": {},
   "outputs": [
    {
     "name": "stdout",
     "output_type": "stream",
     "text": [
      "[4.999999999999999, 4.999999999999999, 4.999999999999999, 4.999999999999999, 7.5, 7.5, 7.500000000000001, 7.500000000000001, 10.000000000000002]\n"
     ]
    }
   ],
   "source": [
    "exc_energies = []\n",
    "for eig1 in eigenval[:3]:\n",
    "    for eig2 in eigenval[3:]:\n",
    "        exc_energies.append(eig2-eig1)\n",
    "print(sorted(exc_energies))"
   ]
  },
  {
   "cell_type": "markdown",
   "id": "43635bfd",
   "metadata": {},
   "source": [
    "## Plotting the orbitals\n",
    "\n",
    "Plot the orbitals in 2D using the eigenvectors of the previous calculation and assuming a gaussian orbital shape. You can create a 2D grid of points and simply compute the value of the gaussians at each point, then multiply by the MO coefficients. Plot as a heat map. (Find some reasonable geometry and gaussian radius)"
   ]
  },
  {
   "cell_type": "markdown",
   "id": "d2ad6e5f",
   "metadata": {},
   "source": [
    "# Linear alkenes\n",
    "\n",
    "Create a code that computes the energies of linear alkenes of increasing sizes. Use the previously found alpha and beta parameters and compute the excitation energy, plot it for increasing alkene sizes."
   ]
  },
  {
   "cell_type": "markdown",
   "id": "01204928",
   "metadata": {},
   "source": [
    " If we want to go further, we can compare the result to a simple \"particle in a box\" model."
   ]
  },
  {
   "cell_type": "code",
   "execution_count": null,
   "id": "0fd464a3",
   "metadata": {},
   "outputs": [],
   "source": []
  }
 ],
 "metadata": {
  "kernelspec": {
   "display_name": "Python 3 (ipykernel)",
   "language": "python",
   "name": "python3"
  },
  "language_info": {
   "codemirror_mode": {
    "name": "ipython",
    "version": 3
   },
   "file_extension": ".py",
   "mimetype": "text/x-python",
   "name": "python",
   "nbconvert_exporter": "python",
   "pygments_lexer": "ipython3",
   "version": "3.9.13"
  }
 },
 "nbformat": 4,
 "nbformat_minor": 5
}
