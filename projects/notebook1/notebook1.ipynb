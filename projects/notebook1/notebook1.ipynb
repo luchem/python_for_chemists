{
 "cells": [
  {
   "cell_type": "markdown",
   "metadata": {},
   "source": [
    "# Heat denaturation of lysozyme using Circular Dichroism Spectroscopy\n",
    "_Mads Jeppesen & Stefan Hervø-Hansen, Lund University._\n",
    "\n",
    "### Intended Learning Outcomes:\n",
    "**1. To gain experience in using the following libaries:**\n",
    "- [matplotlib](https://matplotlib.org) for visualizing 2D and 3D data. \n",
    "- [NumPy](https://www.numpy.org) for manipulating and doing operations on arrays.\n",
    "- [pandas](https://pandas.pydata.org) for reading in data and represent data in tables.  \n",
    "- [SciPy](https://www.scipy.org) for fitting.\n",
    "- [mdtraj](http://mdtraj.org/1.9.3/) (molecular dynamics libary).\n",
    "- [nglview](http://nglviewer.org/nglview/latest/index.html) for visualzing molecular structures.\n",
    "   \n",
    "   \n",
    "**2. To gain experience in using Jupyter notebook relevant features such as:**\n",
    "- Marking up text and equations with Markdown and LaTeX.\n",
    "- Interactive data visualization.\n",
    "- Magic commands (%).\n",
    "- Inserting images.\n",
    "- Built in help functionality.\n",
    "\n",
    "\n",
    "**3. Understanding basic scientific techniques and models such as:**\n",
    "- Circular dichroism.\n",
    "- Two-state modelling.\n",
    "- Structure representations from X-ray and NMR spectroscopy.\n",
    "- Evaluating mathmatical expressions.\n",
    "- Fitting of models to experimental data.\n",
    "\n",
    "\n",
    "**4. Basic python scripting such as:**\n",
    "- Datatypes and objects.\n",
    "- Datastructures.\n",
    "- Loops.\n",
    "- Functions.\n",
    "\n",
    "**5. Searching documentation and help online** \n",
    "\n",
    "**6. Generation of publication ready figures.**"
   ]
  },
  {
   "cell_type": "markdown",
   "metadata": {},
   "source": [
    "### Imports"
   ]
  },
  {
   "cell_type": "code",
   "execution_count": null,
   "metadata": {},
   "outputs": [],
   "source": [
    "from IPython.display import Markdown, IFrame, Image\n",
    "import ipywidgets as widgets "
   ]
  },
  {
   "cell_type": "code",
   "execution_count": null,
   "metadata": {},
   "outputs": [],
   "source": [
    "import pandas as pd\n",
    "import numpy as np \n",
    "import matplotlib.pyplot as plt\n",
    "from mpl_toolkits.mplot3d import Axes3D\n",
    "%matplotlib inline"
   ]
  },
  {
   "cell_type": "code",
   "execution_count": null,
   "metadata": {},
   "outputs": [],
   "source": [
    "import nglview\n",
    "import mdtraj as md\n",
    "from scipy.optimize import nnls, curve_fit"
   ]
  },
  {
   "cell_type": "markdown",
   "metadata": {},
   "source": [
    "## Introduction \n",
    "<a id='7'></a>\n",
    "\n",
    "### The notebook\n",
    "\n",
    "The notebook is divided into six sections. \n",
    "\n",
    "1. [Visualization of the lysozyme structure](#1)\n",
    "2. [Visualization of the secondary structure propensities](#2)\n",
    "3. [Reading and visualizing CD heat denaturation data.](#3)\n",
    "4. [Thermodynamic properties from CD heat denaturation data](#4)\n",
    "5. [Deconvolution of CD heat denaturation data](#5)\n",
    "6. [Graphical exellence](#6)\n",
    "\n",
    "In the first two sections you will investigate the secondary structure of lysozyme by looking at [NMR](https://en.wikipedia.org/wiki/Nuclear_magnetic_resonance_spectroscopy_of_proteins) and [X-ray crystal](https://en.wikipedia.org/wiki/X-ray_crystallography) structures. The next three sections deals with data from a heat denaturation CD measurement done on lysozyme. In the third section you will read in this dataset into the notebook and visualize it. In the fourth section you will investigate the thermodynamic properties of heat denatuation of lysozyme from the data. Specifically you will attempt to find the melting temperature of lysozyme ($T_m$) and obtain a full set of thermodynamic state functions ($\\Delta G^\\circ$, $\\Delta H^\\circ$, $\\Delta S^\\circ$) for the unfolding process. In the fifth section you will deconvolute the CD heat denaturation dataset to see how the the secondary structure propensities changes during unfolding. In the sixth and final section you should try to produce a publication ready figure. \n",
    "\n",
    "### Lysozyme\n",
    "[Lysozyme](https://en.wikipedia.org/wiki/Lysozyme) is an enzymatic protein that is involed in breaking down cell walls of bacteria by hydrolyzing peptidoglycans. It is found in animals and is a part of the immune system. \n",
    "\n",
    "### Circular Dichroism (CD)\n",
    "[Circular Dichroism (CD)](https://en.wikipedia.org/wiki/Circular_dichroism) is a spectroscopic technique that  measures the difference in absorption of left- and right-handed circular polarized light from optically active samples. Optical activate samples are charaterized by possessing chiral or asymmetric molecules. For proteins, different secondary structural components such as [beta sheets](https://en.wikipedia.org/wiki/Beta_sheet),  [alpha helices](https://en.wikipedia.org/wiki/Alpha_helix) and the absence of them, reffered to as [random coils](https://en.wikipedia.org/wiki/Random_coil), absorbs circular polarized light differently and this can be measured with CD. See **Figure 1** below. \n",
    "\n",
    "<img src=\"images/cd_spectra.png\">\n",
    "<p><center><b>Figure 1:</b> An example of circular dichroism data highlighting the difference between pure alpha helical, beta-sheet and random coil proteins. </center></p>\n",
    "\n",
    "The absorption of left- and right-handed circular polarized light can be written as $A_l$ and $A_r$ respectively. Thus the difference in absorption ($\\Delta A$) can be written as:\n",
    "\n",
    "$\\Delta A = A_l - A_r$\n",
    "\n",
    "From the [Lambert–Beer law](https://en.wikipedia.org/wiki/Beer–Lambert_law) we thus have:\n",
    "\n",
    "$\\Delta A = (\\epsilon_l - \\epsilon_r)cl$\n",
    "\n",
    "Where c is the molecule concentration, l the cuvette pathlength and $\\epsilon_l$ and $\\epsilon_r$ the molar extinction coefficients for left and rigth handed circular polarized light respectively. \n",
    " \n",
    "CD measurements are often given in units of molar circular dichroism ($\\Delta \\epsilon$) where: \n",
    "\n",
    "$\\Delta \\epsilon = (\\epsilon_l - \\epsilon_r)$\n",
    "\n",
    "$\\Delta \\epsilon$ has the units $M^{-1}cm^{-1}$. Sometimes the CD measurement will be given in degrees of ellipticity ($\\theta$). It measures the ellipticity of the polarization of the outcoming ligth. $\\theta$ has the units of mdeg (millidegrees).\n",
    "\n",
    "There is a conversion between $\\Delta \\epsilon$ and $\\theta$ given by:\n",
    "\n",
    "$$\\Delta \\epsilon = \\theta \\times \\frac{0.1 \\times \\textit{MRW}}{P \\times \\text{C} \\times 32988}$$\n",
    "\n",
    "Where C is the concentration of the molecule being measured, P is the cuvette pathlength in cm, and MRW (Molecular Residue Weight) is the mean residue weight of the protein (total molecular weight of the protein divided by the number of residues).\n",
    "\n",
    "### LaTeX\n",
    "LaTeX is usefull for visualing equations and in this notebook you will have to use LaTeX. If you want some help with writing equations you can use this website: http://latex.codecogs.com/eqneditor/editor.php. "
   ]
  },
  {
   "cell_type": "markdown",
   "metadata": {},
   "source": [
    "## Visualization of the lysozyme structure \n",
    "<a id='1'></a>"
   ]
  },
  {
   "cell_type": "markdown",
   "metadata": {},
   "source": [
    "The [Protein Data Bank (PDB)](https://www.rcsb.org) is a databank of solved protein structures and contains structures solved with both X-ray crystallography and Nuclear Magnetic Resonance (NMR). Solved structures have a \"PDB ID\" which is given by 4 characters. In this exercise we will deal with solved structures of Lysozyme: 1 X-ray crystal structure with PDB ID [193L](https://www.rcsb.org/structure/193L) and 1 NMR structure with PDB ID [1E8L](https://www.rcsb.org/structure/1E8L). "
   ]
  },
  {
   "cell_type": "markdown",
   "metadata": {},
   "source": [
    "**(1) Chemistry task:** <br>\n",
    "In vauge terms: How is a molecular structure solved using.  <br>\n",
    "_a)_ [X-ray Crystallography](https://en.wikipedia.org/wiki/X-ray_crystallography). <br>\n",
    "_b)_ [NMR Spectroscopy](https://en.wikipedia.org/wiki/Nuclear_magnetic_resonance_spectroscopy_of_proteins)?\n",
    "\n",
    "If you don't remember take a look at the wiki pages by following the hyperlinks. **Don't spend too long on this it is meant as an reminder for you.**"
   ]
  },
  {
   "cell_type": "code",
   "execution_count": null,
   "metadata": {},
   "outputs": [],
   "source": [
    "# -- ANSWER HERE --"
   ]
  },
  {
   "cell_type": "markdown",
   "metadata": {},
   "source": [
    "### nglview\n",
    "[nglview](http://nglviewer.org/nglview/latest/index.html#) is a molecular structure viewer that can be used in a Jupyter Notebook. The documentation (API) is [here](http://nglviewer.org/nglview/latest/api.html). It can show and manipulate the visual aspects of molecular structures (see [here](http://nglviewer.org/ngl/gallery/index.html) for examples). To show a molecular structure you just have to do: \n",
    "\n",
    "```python\n",
    "import nglview\n",
    "view = nglview.show_pdbid(\"PDBID\") # replace PDBID with actual PDB ID. ex: nglview.show_pdbid(\"193l\")\n",
    "view\n",
    "```\n",
    "\n",
    "`nglview` can fetch the protein structure with a given PDB ID directly from the PDB. `show_pdbid()` returns a `NGLWidget` object, that we in the code snippet above name \"view\", containing a structure with the given PDB ID. You can always check the type of an object by using the build in function `type()`. For view you can do: \n",
    "\n",
    "```python\n",
    "type(view)\n",
    "```\n",
    "\n",
    "In a notebook this can also be done by using `Shift + Tab` when the curser is located just after the object of interest. This will also give you the documentation for the object. \n",
    "\n",
    "Calling view as above embeds a viewer in the Notebook.  This will show the default version of the structure."
   ]
  },
  {
   "cell_type": "markdown",
   "metadata": {},
   "source": [
    "**(2) Python task:** <br>\n",
    "Visualize the crystal structure of 193L with nglviewer using the code above."
   ]
  },
  {
   "cell_type": "code",
   "execution_count": null,
   "metadata": {},
   "outputs": [],
   "source": [
    "# -- YOUR CODE HERE --\n",
    "# ---------------------"
   ]
  },
  {
   "cell_type": "markdown",
   "metadata": {},
   "source": [
    "We now have a rainbow colored structure of lysozyme in the default [\"cartoon\" or \"ribbon-diagram\"](https://en.wikipedia.org/wiki/Ribbon_diagram) representation. [Beta sheets](https://en.wikipedia.org/wiki/Beta_sheet) are represented as curvy sections,  [alpha helices](https://en.wikipedia.org/wiki/Alpha_helix) as screw/pasta looking sections and [random coil](https://en.wikipedia.org/wiki/Random_coil) as wire/string looking sections that are thinner than the beta sheet sections. \n",
    "\n",
    "Try to move the structre around with the mouse by holding the left click button down. Move the structure by holding down the right mouse button.  You can zoom in by using the mouse scrolling wheel. You can also click on specific sections of the protein to see residues/atoms."
   ]
  },
  {
   "cell_type": "markdown",
   "metadata": {},
   "source": [
    "**(3) Chemistry question:** <br>\n",
    "Briefly describe what you see. Can you identify the [beta sheet](https://en.wikipedia.org/wiki/Beta_sheet),  [alpha helix](https://en.wikipedia.org/wiki/Alpha_helix) and [random coil](https://en.wikipedia.org/wiki/Random_coil) sections?"
   ]
  },
  {
   "cell_type": "code",
   "execution_count": null,
   "metadata": {},
   "outputs": [],
   "source": [
    "# -- ANSWER HERE --"
   ]
  },
  {
   "cell_type": "markdown",
   "metadata": {},
   "source": [
    "We would like to better visualize the secondary structure. <br>\n",
    "`NGLWidget` is a python class with methods (or functions) associated with it. Methods of a class are accesible using the `\".\"` operator. You can look in the documentation under `NGLWidget` class or use  `tab` (autocompletion) after writing \"view.\" (remember the dot) in a Notebook cell to see a list of available functions associtated with it. To see what parameters a function can take put the curser between the \"()\" and use `Shift + Tab`."
   ]
  },
  {
   "cell_type": "markdown",
   "metadata": {},
   "source": [
    "**(4) Python task:**<br>\n",
    "Add a new representation to the protein. Do this by searching for an appropiate function associated with `NGLWidget` object. The function should take 3 arguments. First argument is the _repr_type_ (representation type), next is the _selection_ (which atoms to select) and finally _kwargs_ (keyword arguments). Use the _\"cartoon\"_ representation, select _\"all\"_ and use the following keyword argument _color_scheme='sstruc'_. <br><br>\n",
    "In order to not put two representations on top of each other you first have to call another function `clear_representations()`, associated with the `NGLWidget` object (view), that clears the representation. This is already done for you below."
   ]
  },
  {
   "cell_type": "code",
   "execution_count": null,
   "metadata": {},
   "outputs": [],
   "source": [
    "# -- YOUR CODE HERE --\n",
    "# make view as in (2).\n",
    "view.clear_representations()\n",
    "# Call a function that can add an representation to the protein. Use the 3 parameter arguments as given above.\n",
    "# call view as in (2).\n",
    "# ---------------------"
   ]
  },
  {
   "cell_type": "markdown",
   "metadata": {},
   "source": [
    "Now we should have lysozyme colored according to the secondary element. Alpha helices should be in a red/purple color, beta-sheets in yellow, and random coils in white/grey."
   ]
  },
  {
   "cell_type": "markdown",
   "metadata": {},
   "source": [
    "**(5) Python task:** <br>\n",
    "Visualize the NMR structure of Lysozyme with PDB ID 1E8L using `nglview`. Color the structure in the same way. To see the NMR Ensemble you have to add an additional parameter argument `default_representation=False ` to `show_pdbid()`."
   ]
  },
  {
   "cell_type": "code",
   "execution_count": null,
   "metadata": {},
   "outputs": [],
   "source": [
    "# -- YOUR CODE HERE --\n",
    "view.clear_representations() # Call after view is assigned. \n",
    "# ---------------------"
   ]
  },
  {
   "cell_type": "markdown",
   "metadata": {},
   "source": [
    "**(6) Chemistry task**<br> \n",
    "Why does the two structures look different for the two PDB entries?"
   ]
  },
  {
   "cell_type": "code",
   "execution_count": null,
   "metadata": {},
   "outputs": [],
   "source": [
    "# -- ANSWER HERE --"
   ]
  },
  {
   "cell_type": "markdown",
   "metadata": {},
   "source": [
    " The _\"licorice\"_ representation is another kind of representaton of a protein in `nglview`. It will show atom information. \n",
    " \n",
    "The binding pocket of a protein is the set of residues that \"holds\" onto its ligand (peptidoglycans in the case for lysozyme). For lysozyme this is the residues Trp62, Trp63 and the catalytic residues Glu35 and Asp52. The catalytic residues catalyses the reaction for lysozyme."
   ]
  },
  {
   "cell_type": "markdown",
   "metadata": {},
   "source": [
    "**(7) Python Task:**<br>\n",
    "Show only the lysozyme crystal structure such that _ONLY_ the binding pocket is visible with the _\"licorice\"_ representation. Do this by adding a new representation with a _\"licorice\"_ representation, instead of the _\"cartoon\"_ representation, and with the residue index selection: _\"35, 52, 62, 63\"._ instead of _\"all\"_.\n"
   ]
  },
  {
   "cell_type": "code",
   "execution_count": null,
   "metadata": {},
   "outputs": [],
   "source": [
    "# -- YOUR CODE HERE --\n",
    "view.clear_representations()\n",
    "# ---------------------"
   ]
  },
  {
   "cell_type": "markdown",
   "metadata": {},
   "source": [
    "Can you see the 4 residues? Beautiful isn't? It's so beautiful that we would like to save a picture of it. "
   ]
  },
  {
   "cell_type": "markdown",
   "metadata": {},
   "source": [
    "**(8) Python Task:** <br>\n",
    "Look at the available methods for the `NGLWidget` object (view) to save an image using autocompletion or by looking at the documentation. Save it the image to disk and put it into the Notebook. To embed a picture you can use the the `IPython` function `Image()`. If the browser saves the image you'll probably find it under Downloads on your local machine. You can then upload to JupyterHub before embedding it into the notebook. \n"
   ]
  },
  {
   "cell_type": "code",
   "execution_count": null,
   "metadata": {},
   "outputs": [],
   "source": [
    "# -- YOUR CODE HERE --\n",
    "# ---------------------"
   ]
  },
  {
   "cell_type": "markdown",
   "metadata": {},
   "source": [
    "### mdtraj\n",
    "\n",
    "We will now use a python libary to analyse the lysozyme structure from the PDB file. In this case we will utilize [mdtraj](http://mdtraj.org \"mdtraj homepage\") (follow the hyperlink for the documentation as well) which is a molecular dynamics libary. It can manipulate and analyse protein structures. Other libaries with these capabilities exist and the interested student can explore [biopython](https://biopython.org) as well. As `nglview` could, `mdtraj` can fetch a protein structure with a given PDB ID directly from the the [Protein Data Bank (PDB)](https://www.rcsb.org), although the full URL is needed to be passed as an argument. The URL is always \"http://www.rcsb.org/pdb/files/____.pdb\" where \"____\" is replaced with the PDB id.\n",
    "\n",
    "```python\n",
    "import mdtraj as md\n",
    "model = md.load_pdb('URL') # replace URL with actual URL. ex: http://www.rcsb.org/pdb/files/193L.pdb\n",
    "```"
   ]
  },
  {
   "cell_type": "markdown",
   "metadata": {},
   "source": [
    "**(9) Python Task:** <br>\n",
    "Load the NMR and X-ray structures into two different models using `mdtraj`. **Ignore the warnings if you get them.**"
   ]
  },
  {
   "cell_type": "code",
   "execution_count": null,
   "metadata": {},
   "outputs": [],
   "source": [
    "# -- YOUR CODE HERE --\n",
    "model_193L = # Fill out right hand side by loading 193L\n",
    "model_1E8L = # Fill out right hand side by loading 1E8L\n",
    "# --------------------"
   ]
  },
  {
   "cell_type": "markdown",
   "metadata": {},
   "source": [
    "As a class could have methods associated with it can also have attributes / variables associtad with it. Like the methods these are also accessed through the `\".\"` operator. "
   ]
  },
  {
   "cell_type": "markdown",
   "metadata": {},
   "source": [
    "**(10) Python Task:**<br>\n",
    "Use the `mdtraj` documentation or use autocompletion to find attributes that report on the number of atoms, residues, chains and frames in the models. Acces the attriutes through the `\".\"` operator. Output these to the Notebook in an organized fashion with the `print()` function or a Markdown table. (**HINT**: They are called something wiht \"n\" - as n for Number of ... \")"
   ]
  },
  {
   "cell_type": "code",
   "execution_count": null,
   "metadata": {},
   "outputs": [],
   "source": [
    "# -- YOUR CODE HERE --\n",
    "# --------------------"
   ]
  },
  {
   "cell_type": "markdown",
   "metadata": {},
   "source": [
    "**(11) Chemistry task:** <br>\n",
    "Where does the different amount of frames come from? Think of the difference between NMR and X-ray Crystallography. You might have to think about [this phenonomon](https://en.wikipedia.org/wiki/Water_of_crystallization). <br>\n",
    "Where does the different amount of chains / residues / and atoms come from? Go back and confirm your answer by visualizing the atoms in nglviewer. Use what you have already learned from the tasks above to do so. You will see from the _\"licorice\"_ representation that the two models are different in one particular way."
   ]
  },
  {
   "cell_type": "code",
   "execution_count": null,
   "metadata": {},
   "outputs": [],
   "source": [
    "# -- ANSWER HERE --"
   ]
  },
  {
   "cell_type": "markdown",
   "metadata": {},
   "source": [
    "The sequence of a protein has a direction. The first residue of the sequence is called the N terminus (because of the amino group) and the last residue the C-terminus (becuase of the carboxyl group)."
   ]
  },
  {
   "cell_type": "markdown",
   "metadata": {},
   "source": [
    "**(12) Python Task:** <br> \n",
    "Which residue is located at the N- and C-terminus of lysozyme? Find and use a method from the  `mdtraj ` object and use the `print()` function to output the results. You have to go though `model_193L.topology` to acces the appropiate function."
   ]
  },
  {
   "cell_type": "code",
   "execution_count": null,
   "metadata": {},
   "outputs": [],
   "source": [
    "# -- YOUR CODE HERE --\n",
    "# --------------------"
   ]
  },
  {
   "cell_type": "markdown",
   "metadata": {},
   "source": [
    "## Visualization of the secondary structure propensities\n",
    "<a id='2'></a>"
   ]
  },
  {
   "cell_type": "markdown",
   "metadata": {},
   "source": [
    "So far we have shown the secondary structure visually using `nglview`. We want to quantify that a little more and we therefore use a common algorithm for calculating the secondary structure of proteins. It is called [DSSP](https://en.wikipedia.org/wiki/DSSP_(hydrogen_bond_estimation_algorithm)). `mdtraj` has a built in function, `compute_dssp()`, that can do the DSSP calculation for us. This will return an ndarray object that we can use to loop over. Each index in the `ndarray` corresponds directly to the residue index (although remember that python uses 0-indexing). Therefore the `ndarray` index 0 is residue 1 and so on. If we use `simplified=True` as a parameter argument only 4 catagories will be estimated. **\"H\"** is alpha helical, **\"E\"** is beta strand (NOTE: Single segments of beta-sheets are reffered to as \"beta-strands\" or just \"strand\"), **\"C\"** is random coil, and **\"NA\"** is Not Applicable (TO PONDER: why would some residues be \"NA\"? The answer should be related to the answer given in (11))."
   ]
  },
  {
   "cell_type": "markdown",
   "metadata": {},
   "source": [
    "**(13) Python Task:** <br>\n",
    "Look at the code below in the cell. We have already called the `compute_dssp()` code for you and we put the result of that into \"dssp\". Look at the output of calling dssp - What do you see?"
   ]
  },
  {
   "cell_type": "code",
   "execution_count": null,
   "metadata": {},
   "outputs": [],
   "source": [
    "dssp = md.compute_dssp(model_193L, simplified=True)[0]\n",
    "dssp"
   ]
  },
  {
   "cell_type": "code",
   "execution_count": null,
   "metadata": {},
   "outputs": [],
   "source": [
    "# -- YOUR ANSWER HERE--"
   ]
  },
  {
   "cell_type": "markdown",
   "metadata": {},
   "source": [
    "**(14) Python Task:** <br>\n",
    "Create a barplot, as the figure below of the 3 secondary structure components (alpha helix, beta sheet, random coil) using the DSSP algorithm available from the `mdtraj` library. See the code cell below. We have already called the `compute_dssp()` function for you and put the results into dssp as above. Loop through dssp and increment the 4 counters (helix, strand, coil and total). When you hit \"H\" you have to increase the helix counter. When you hit \"E\" you have to increase the strand counter. When you hit \"C\" you have to increase the coil counter. Everytime through the loop you have to increase total. Use these counters to make a bar plot with the normalized propensities. Also remember to label both x and y axis appropiately.\n",
    "\n",
    "<img src=\"images/barplot1.png\">"
   ]
  },
  {
   "cell_type": "code",
   "execution_count": null,
   "metadata": {},
   "outputs": [],
   "source": [
    "# DSSP calculation\n",
    "dssp = md.compute_dssp(model_193L, simplified=True)[0]\n",
    "\n",
    "# Counters\n",
    "helix  = 0 # increment when H is found\n",
    "strand = 0 # increment when E is found\n",
    "coil   = 0 # increment when C is found\n",
    "total  = 0 # Increment everytime through the loop. (Use this for normalization)\n",
    "\n",
    "for ss in dssp:\n",
    "    # -- YOUR CODE HERE --\n",
    "    # Loop through the dssp ndarray and incremenet the counters.  \n",
    "    # -------------------\n",
    "    \n",
    "\n",
    "# -- YOUR CODE HERE --\n",
    "# Create a barplot using the counters. \n",
    "# -------------------"
   ]
  },
  {
   "cell_type": "markdown",
   "metadata": {},
   "source": [
    "While the analysis above yields information on the amount of secondary structure, it does not provide information as to where the secondary structure is located in the protein sequence. In the same directory as this notebook we have a python script (`draw_ss.py`) that can create a secondary structure plot which has this information. It does not understand \"NA\", only \"H\", \"E\" and \"C\". We therefore need to remove \"NA\" from the dssp ndarray. External scripts can be run in a Notebook using the magic command `%run`. <br>"
   ]
  },
  {
   "cell_type": "markdown",
   "metadata": {},
   "source": [
    "**(15) Python Task:** <br> \n",
    "Construct a secondary structure plot using the provided python script `draw_ss.py`. The script does not understand 'NA'. We already have written most of the code for you. You just have to clean up the dssp `ndarray` so that it will not contain 'NA'.\n",
    "\n",
    "If you want to use `NumPy`, `np.argwhere()` and `np.delete()` can be used to accomplish that task."
   ]
  },
  {
   "cell_type": "code",
   "execution_count": null,
   "metadata": {},
   "outputs": [],
   "source": [
    "# -- YOUR CODE BELOW --\n",
    "# Remove NA from the dssp array\n",
    "# ---------------------\n",
    "\n",
    "with open('dssp_plot.txt', 'w') as filehandle:  \n",
    "    for i, listitem in enumerate(dssp):\n",
    "        filehandle.write('{}  {}\\n'.format(i+1, listitem))\n",
    "\n",
    "%run scripts/draw_ss.py dssp_plot.txt"
   ]
  },
  {
   "cell_type": "markdown",
   "metadata": {},
   "source": [
    "You can double click on the picture to enlarge it and scroll through it. "
   ]
  },
  {
   "cell_type": "markdown",
   "metadata": {},
   "source": [
    "The `%` operator is IPython/Jupyter Notebook specific and they are called [magics](https://ipython.readthedocs.io/en/stable/interactive/magics.html) beacuse they can do a bunch of \"magical\" things. Well, with them, you can at least do a bunch of usefull things such as to run external scripts or reading files. Take a look at the hyperlink if you are interested."
   ]
  },
  {
   "cell_type": "markdown",
   "metadata": {},
   "source": [
    "## Reading and visualizing CD heat denaturation data.\n",
    "<a id='3'></a>"
   ]
  },
  {
   "cell_type": "markdown",
   "metadata": {},
   "source": [
    "A CD heat denaturation spectra for lysozyme has been recorded from 190 to 250 nm in the temperature range 25-99 $^{\\circ}$C on a JASCO J-815 spectropolarimeter. The raw data file can be found in the file ```data/lysozyme-temperature-scan.csv```. The first thing that we usually want to do is to look at our raw data file. \n",
    "\n",
    "**Open the raw data file in Jupyter**. This can be done by going back to directory that automatically opens up when starting up a Jupyter Notebook and selecting a file. You can also open a file up directly into a Jupyter Notebook by using the magic command `%cat`. To load the data into, and to manipulate them in our Notebook, we will utilize the python library `pandas`. Notice that we have some header lines in the raw data file we do not want and the data is organized into coloumns where the coloumns are a specific wavelength (values from 190 to 250) and the rows are specific temperature (values from 25 to 99). We would like to preserve that organization of data when reading it into a pandas dataframe. "
   ]
  },
  {
   "cell_type": "markdown",
   "metadata": {},
   "source": [
    "**(16) Python Task:** <br>\n",
    "Read in the CD data into a `pandas DataFrame` by finishing the code below. In order to do so you must first get a sense of what the data looks like. Try to make sense of it from the raw data file as mentioned. Try to maintain the organization as in the raw data file with the coloumn names as the wavelenths and the row indices as the temperature. "
   ]
  },
  {
   "cell_type": "code",
   "execution_count": null,
   "metadata": {},
   "outputs": [],
   "source": [
    "# -- YOUR CODE BELOW --\n",
    "cd_data = # Fill out\n",
    "# ---------------------\n",
    "cd_data.index.name = 'Temperature (degrees)'\n",
    "cd_data.index = cd_data.index.astype(np.int32) \n",
    "cd_data.columns.name = 'Wavelength (nm)'\n",
    "cd_data.columns = cd_data.columns.astype(np.int32)\n",
    "cd_data.head()"
   ]
  },
  {
   "cell_type": "markdown",
   "metadata": {},
   "source": [
    "**(17) Python Task:** <br>\n",
    "What does the `cd_data.index.astype(np.int32)` do and why do you think it is important?"
   ]
  },
  {
   "cell_type": "code",
   "execution_count": null,
   "metadata": {},
   "outputs": [],
   "source": [
    "# -- ANSWER HERE --"
   ]
  },
  {
   "cell_type": "markdown",
   "metadata": {},
   "source": [
    "We will now now make 2 `ndarrays`, one consisting of the wavelengths and one consisting of the temperatures. In the exercises to come, whenever we need to acces the wavelengths or temperatures we can just call these."
   ]
  },
  {
   "cell_type": "markdown",
   "metadata": {},
   "source": [
    "**(18) Python Task:** <br>\n",
    "Fill out the code below. Extract from the `pandas DataFrame` from above the coloumns data for wavelengths and rows data fow temperatures into 1d `ndarrays`. Make sure they are `ndarrays`!"
   ]
  },
  {
   "cell_type": "code",
   "execution_count": null,
   "metadata": {},
   "outputs": [],
   "source": [
    "# -- YOUR CODE BELOW --\n",
    "wavelengths = # Fill out\n",
    "temperatures = # Fill out.\n",
    "# --------------------"
   ]
  },
  {
   "cell_type": "markdown",
   "metadata": {},
   "source": [
    "**(19) Python task**: <br>\n",
    "Plot the CD spectrum at 25 C$^\\circ$ and at 99 C$^\\circ$ in the same plot like the figure below. Remember to label the axes and set a legend so we can distinquish between the two lines. Also remember to color the lines appropiately. Blue=cold (25 C$^\\circ$) and red=hot (99 C$^\\circ$). <br>\n",
    "To get the measurement data at the 2 temperatures you would need to index into the cd_data `DataFrame`. \n",
    "\n",
    "<img src=\"images/figureplot1.png\">"
   ]
  },
  {
   "cell_type": "code",
   "execution_count": null,
   "metadata": {},
   "outputs": [],
   "source": [
    "# -- YOUR CODE HERE --\n",
    "# --------------------"
   ]
  },
  {
   "cell_type": "markdown",
   "metadata": {},
   "source": [
    "In order to visualize the whole dataset appropiately we have to plot it in 3 dimensions. 3D plotting in matplotlib is very similar to 1D plotting. When constructing the `Figure` and `Axes` objects you have to provide a keyword (see code below), and then just remember that you have 3 variables instead of 2 when calling `plot()`. See the documentation or remember to use  `Shift + tab` if you want more information. "
   ]
  },
  {
   "cell_type": "markdown",
   "metadata": {},
   "source": [
    "**(20) Python Task:** <br> \n",
    "Finish the code to make a 3D surface plot like the figure below. You would have to set the axes labels and z limits ([-10, 6] to match figure), and you will have to extract the measurement for a given temperature T through the loop.  \n",
    "\n",
    "<img src=\"images/figureplot2.png\">"
   ]
  },
  {
   "cell_type": "code",
   "execution_count": null,
   "metadata": {},
   "outputs": [],
   "source": [
    "fig, ax = plt.subplots(subplot_kw={'projection': '3d'}, figsize=(8.0, 6.0))\n",
    "cmap = plt.cm.get_cmap(name='RdBu_r')\n",
    "colors = cmap(np.linspace(0,1, len(temperatures)))\n",
    "\n",
    "for T in reversed(temperatures):\n",
    "    temperature = np.array([T for t in range(len(wavelengths))])\n",
    "    # -- YOUR CODE HERE --\n",
    "    measurements = # Fill out - Extract measurements for the given temperature T from the cd_data Dataframe\n",
    "    # ---------------------\n",
    "    ax.plot(wavelengths, temperature, measurements, color=colors[T-25])\n",
    "\n",
    "    # -- YOUR CODE HERE --\n",
    "    # Label all axes appropiately and set the z axis limits to [-10, 6]\n",
    "    # ---------------------\n",
    "\n",
    "plt.show()"
   ]
  },
  {
   "cell_type": "markdown",
   "metadata": {},
   "source": [
    "We have plotted the higher temperatures first and then sequentially lower and lower temperatures. We want to do this because we want to plot from low to high temperatures and because we dont want the higher temperatures in front of the lower temperature when viewing the plot. If you want to see the difference remove `reversed` in the for loop above."
   ]
  },
  {
   "cell_type": "markdown",
   "metadata": {},
   "source": [
    "**(21) Chemistry Questions:** <br>\n",
    "    **_a)_** Qualitatively speaking, what secondary structures are mostly present at low temperature (25$^{\\circ}$C) vs high temperature (99 $^{\\circ}$C). (See the explanation of CD measurements and CD spectra in the introduction in the beginning of the notebook if you need help) <br>\n",
    "    **_b)_** What happens to lysozyme as the temperature is increased? <br>\n",
    "    **_c)_** Which effect does this have on its enzymatic activity? You CAN BUT DONT HAVE TO go back to the nglviewer visualization of lysozyme and justify it with where the catalytic residues are located. . "
   ]
  },
  {
   "cell_type": "code",
   "execution_count": null,
   "metadata": {},
   "outputs": [],
   "source": [
    "# -- ANSWER HERE -- "
   ]
  },
  {
   "cell_type": "markdown",
   "metadata": {},
   "source": [
    "## Thermodynamic properties from CD heat denaturation data\n",
    "<a id='4'></a>"
   ]
  },
  {
   "cell_type": "markdown",
   "metadata": {},
   "source": [
    "With the 3D plot giving a clear indication of a change in protein structure as the temperature increases we will attempt to extract thermodynamic data under the assumption we are dealing with a reversible two-state model. A two-state model assumes that our protein can only exist in two states: Native (N) (folded state) and Denatured (D) (unfolded state). \n",
    "\n",
    "Under these two assumptions we can write a fitting equation.$^{[1][2]}$\n",
    "\n",
    "\n",
    "$$ \\theta = \\frac{(\\alpha_{N} + \\beta_{N} T) + (\\alpha_{D} + \\beta_{D} T)\\exp({-\\Delta G^{\\circ}/RT})}{1+\\exp({-\\Delta G^{\\circ}/RT})}$$\n",
    "\n",
    "\n",
    "$\\alpha_{N}$ and $\\alpha_{D}$ are the native and denatured state at 0 K respectively. <br>\n",
    "$\\beta_{N}$ and $\\beta_{D}$ are the slopes with respect to temperature of the native and denatured state respectively. <br> \n",
    "$\\Delta G^{\\circ}$ is the free energy of unfolding. <br>\n",
    "R is the gas constant.\n",
    "\n",
    "In the equation above we are utilizing a linear baseline for native and denatured protein signal as a function of temperature rather than a constant signal, which can be caused from changes in solvent viscosity.\n",
    "\n",
    "We are interested in the melting temperature ($T_m$). At the melting temperature the protein is 50% unfolded and 50% folded. We can get $T_m$ from the Gibbs-Helmholtz equation (Dill, p. 246, 138-141.) by solving it for $T_m$: \n",
    "\n",
    "$$ \\Delta G^{\\circ}(T_m) = \\Delta H^{\\circ}(T_m) (1 - \\frac{T}{T_m}) $$ \n",
    "\n",
    "By considering the above equation in the fit we should be able to get $T_m$ and $\\Delta H^{\\circ}(T_m)$ and from those also $\\Delta S^{\\circ}(T_m)$ and $\\Delta G^{\\circ}(T_m)$. \n",
    "\n",
    "Before we begin to fit this model to our data we have to first convert our data from molar circular dichroism ($\\Delta \\epsilon$) to degrees of ellipticity ($\\theta$). Usually the wavelength at 222 nm is used to fit to. This is because this is where the alpha helix signal is most strong. "
   ]
  },
  {
   "cell_type": "markdown",
   "metadata": {},
   "source": [
    "**(22) Python Task:** <br>\n",
    "Convert the molar circular dichroism ($\\Delta \\epsilon$) measurement at 222 nm to millidegrees of ellipticity ($\\theta$) using the conversion: <br><br> $$\\Delta \\epsilon = \\theta \\times \\frac{0.1 \\times \\textit{MRW}}{P \\times \\text{C} \\times 32988}$$ <br> \n",
    "C is the concentration of the molecule being measured. <br>\n",
    "P is the cuvette pathlength in cm. <br>\n",
    "MRW (Molecular Residue Weight) is the mean residue weight of the protein (total molecular weight of the protein divided by the number of residues). <br> \n",
    "\n",
    "Some of the values in the equations are given below. <br>\n",
    "\n",
    "You would have to determine MRW using  `mdtraj`. You would need to iterate over each atom to get its mass and then divide it with the number of residues in the protein. Use model_1E8L for this since we dont want to iterate over water. We have started the loop for you by looping over `model_1E8L.topology.atoms`. For each iteration of the loop you can call `atom.element.mass` to get the mass for that atom. Use this to increment the total_mass counter and use the total_mass counter to calculate the MRW. Finally use MRW and the other constants to calculate the conversion. Put the results of the conversion into the cd_data_222 variable."
   ]
  },
  {
   "cell_type": "code",
   "execution_count": null,
   "metadata": {},
   "outputs": [],
   "source": [
    "P = 0.1 \n",
    "C = 0.1\n",
    "\n",
    "total_mass = 0 # increment this counter through the loop\n",
    "for atom in model_1E8L.topology.atoms:\n",
    "    # -- YOUR CODE HERE --\n",
    "    total_mass += # fill out\n",
    "    # --------------------\n",
    "    \n",
    "# -- YOUR CODE HERE --\n",
    "MRW =  # Fill out\n",
    "cd_data_222 = # Fill out. Convert molar circular dichroism to millidegrees at 222 nm.\n",
    "# --------------------"
   ]
  },
  {
   "cell_type": "markdown",
   "metadata": {},
   "source": [
    "Then we have to write our fitting equation from above into code. We want to fit 6 parameters: $\\alpha_{N}$, $\\alpha_{D}$, $\\beta_{N}$, $\\beta_{D}$,  $\\Delta H^{\\circ}(T_m)$ and $T_m$. "
   ]
  },
  {
   "cell_type": "markdown",
   "metadata": {},
   "source": [
    "**(23) Python Task:** <br>\n",
    "Complete the fitting function below (**fit_func**). The only thing you have to write is the return statement. Return the fitting equation from above. "
   ]
  },
  {
   "cell_type": "code",
   "execution_count": null,
   "metadata": {},
   "outputs": [],
   "source": [
    "def fit_func(T, an, ad, bn, bd, Tm, dH):\n",
    "    \"\"\"Fitting function for CD heat denaturation data. \"\"\"\n",
    "\n",
    "    # Gas constant [kJ/(mol*K)]\n",
    "    R = 0.008314 \n",
    "    \n",
    "    # Gibbs–Helmholtz equation with dCp=0 (Derived from Dill p. 246, pp. 138-141.)\n",
    "    dG = dH*(1-T/Tm)\n",
    "    \n",
    "    # Two-state equilibrium with linear baseline for native and denatured protein signal\n",
    "    # -- YOUR CODE HERE --\n",
    "    return # Fill out\n",
    "    # --------------------"
   ]
  },
  {
   "cell_type": "markdown",
   "metadata": {},
   "source": [
    "Now we are ready to fit. "
   ]
  },
  {
   "cell_type": "markdown",
   "metadata": {},
   "source": [
    "**(24) Python Task:** <br>\n",
    "Complete the code below. Use non-linear least squares fitting (`scipy.optimize.curve_fit()`) to determine thermodynamic parameters from the non-linear fitting of the CD data in millidegrees of ellipticity at 222 nm. You have to convert the temperatures to Kelvin before you fit. We have supplied some of the arguments for the `curve_fit function()`. Fill out the 3 arguments that are missing. "
   ]
  },
  {
   "cell_type": "code",
   "execution_count": null,
   "metadata": {},
   "outputs": [],
   "source": [
    "# -- YOUR CODE HERE --\n",
    "\n",
    "# Convert temperature to Kelvin\n",
    "temperaturesK = # Fill out\n",
    "\n",
    "# Non-linear fitting #\n",
    "popt, pcov = curve_fit(, , , maxfev=1200000, p0=[-30, -10, 0.1, 0.0, 350, 500]) # Fill out\n",
    "# --------------------"
   ]
  },
  {
   "cell_type": "markdown",
   "metadata": {},
   "source": [
    "**(25 BONUS) Chemistry & Python Task:** <br> \n",
    "In this exercise we do not worry about the standard deviation errors of the estimated parameters. But in a real life scenario we would of course. How would you determine the standard deviation of the estimated parameters? Look in the documentation of `curve_fit()` to find the answer. You will also need the pcov variable from above. Use this to print the error for $T_m$."
   ]
  },
  {
   "cell_type": "code",
   "execution_count": null,
   "metadata": {},
   "outputs": [],
   "source": [
    "# -- YOUR CODE HERE --\n",
    "# --------------------"
   ]
  },
  {
   "cell_type": "markdown",
   "metadata": {},
   "source": [
    "**(26) Python Task:** <br>\n",
    "Plot the results of your fit as in the figure below. The grey dashed lines are the 2 base lines of the folded (bottom) and unfolded (top) state. The black dots are the experimental values and the green dashed line is the fit.\n",
    "\n",
    "<img src=\"images/figureplot3.png\">"
   ]
  },
  {
   "cell_type": "code",
   "execution_count": null,
   "metadata": {},
   "outputs": [],
   "source": [
    "# -- YOUR CODE HERE --\n",
    "# --------------------"
   ]
  },
  {
   "cell_type": "markdown",
   "metadata": {},
   "source": [
    "Whenever we deal with string formatting, such as in the creation of a Markdown table, it is convenient to use the [format()](https://docs.python.org/3.7/library/stdtypes.html#str.format) function. At the very basis level  `format()` will replace all the \"{}\" you have in your string, with what you feed into `format()` in the parameters. For instance:\n",
    "\n",
    "```python\n",
    "print(\"{0} {1} {2}\".format(\"I\", \"am\", 13 + 14))\n",
    "```\n",
    "\n",
    "will output \"I am 27\". \n",
    "\n",
    "Inside the string and inside the \"{}\" you can set the output format. For instace if we write \"{0:6.2f}\" it means that we want the first parameter given to `format()` (indicated by 0) will fill max 6 places (indicated by the 6), have 2 decimals (indicated by the .2) and be a intepreted as a float (indicated by the f). "
   ]
  },
  {
   "cell_type": "markdown",
   "metadata": {},
   "source": [
    "**(27) Python Task:** <br>\n",
    "Finish the Markdown table below by incorporating the estimated parameters $T_m$ and $\\Delta H^{\\circ}(T_m)$. Also incorporate $\\Delta S^{\\circ}(T_m)$ and $\\Delta G^{\\circ}(T_m)$. What is $\\Delta G^{\\circ}(T_m)$? At $T=T_m$ the equilibrium constant K is 1.  You dont have to calculate it to figure it out. $\\Delta S^{\\circ}(T_m)$ you would need to calculate. Use `format()` to fill in the missing places. Do not bother with the estimated parameter errors that you get from the pcov variable. "
   ]
  },
  {
   "cell_type": "code",
   "execution_count": null,
   "metadata": {},
   "outputs": [],
   "source": [
    "# -- YOUR CODE BELOW --\n",
    "Markdown(r'''\n",
    "| Quantities                     | Values       | Units\n",
    "|:-------------------------------|-------------:|:------------|\n",
    "| $ \\alpha_{{N}} $               | {0:6.2f}     | mdeg        |\n",
    "| $ \\alpha_{{D}} $               | Fill out     | mdeg        |\n",
    "| $ \\beta_{{N}} $                | Fill out     | mdeg/K      |\n",
    "| $ \\beta_{{D}} $                | Fill out     | mdeg/K      |\n",
    "| $ T_{{M}} $                    | Fill out     | K           |\n",
    "| $ \\Delta H^\\circ(T_{{M}})$     | Fill out     | kJ/mol      |\n",
    "| $ \\Delta S^\\circ(T_{{M}})$     | Fill out     | kJ/(mol K)  |\n",
    "| $ \\Delta G^\\circ(T_{{M}})$     | Fill out     | kJ/mol      |\n",
    "'''.format(, , , , , , , ))\n",
    "# --------------------"
   ]
  },
  {
   "cell_type": "markdown",
   "metadata": {},
   "source": [
    "**(28 BONUS) Chemistry Task:** <br>\n",
    "Look in the litterature for the melting temperature of lysozyme. How well does it compare?"
   ]
  },
  {
   "cell_type": "code",
   "execution_count": null,
   "metadata": {},
   "outputs": [],
   "source": [
    "# -- ANSWER HERE --"
   ]
  },
  {
   "cell_type": "markdown",
   "metadata": {},
   "source": [
    "**(29 BONUS) Chemistry & Python Task:** <br>\n",
    "Usually, thermodynamic data are not interresting at the melting temperature. Calculate the thermodynamic parameters $\\Delta G^{\\circ}, \\Delta H^{\\circ}, \\Delta S^{\\circ}$ at 25 $^{\\circ}$C and make a new Markdown table below (do not worry about calculating the error). You may assume a change in heat capacity at constant pressure to be 6.3 $\\text{kJ} \\ \\text{K}^{-1} \\ \\text{mol}^{-1}$ from the unfolding and to be temperature independent. _Hint: See Dill pp. 138-141 for help._ "
   ]
  },
  {
   "cell_type": "code",
   "execution_count": null,
   "metadata": {},
   "outputs": [],
   "source": [
    "# -- YOUR CODE HERE --\n",
    "# -------------------"
   ]
  },
  {
   "cell_type": "markdown",
   "metadata": {},
   "source": [
    "## Deconvolution of CD heat denaturation data\n",
    "<a id='5'></a>"
   ]
  },
  {
   "cell_type": "markdown",
   "metadata": {},
   "source": [
    "As the secondary structure propensities of a protein can be determined by crystallography and a DSSP analysis (as we have done previously in this Notebook), so can we determine the propensities by CD. This is called a _deconvolution_. It is not as accurate as the before mentioned method, but since CD is much less tedious than crystallography (a crystallographer can often spend months to years to get something that works) it can be preferrable to use a deconvolution to at least give a reasonable estimate of the propensities.  \n",
    "\n",
    "In this section we will attempt to deconvolute the CD heat denaturation spectra to see how the secondary structure propensities changes as the temperature is increased. \n",
    "\n",
    "By now you should already know that different secondary structure yields different CD spectra. Using this information we can estimate the amount of secondary structure in our protein by fitting our experimental CD spectrum for lysozyme to 3 basis spectra each of which contains either pure $\\alpha$-helix, $\\beta$-strand or random coil. The idea is that the amount of each basis spectra that is contained in an experimental CD spectra determines the amount of secondary structure for that experimental spectra. Mathematically we can write that experimtal spectrum as a linear combination of the basis spectras as follows: \n",
    "\n",
    "$$ \\Delta \\epsilon_{\\mathrm{exp}}(\\lambda) = h \\Delta \\epsilon_{\\mathrm{helix}}(\\lambda) + b \\Delta \\epsilon_{\\mathrm{beta}}(\\lambda) + c \\Delta \\epsilon_{\\mathrm{coil}}(\\lambda) $$\n",
    "\n",
    "$\\Delta \\epsilon_{\\mathrm{exp}}(\\lambda)$ is the experimental basis spectra. <br> \n",
    "$\\Delta \\epsilon_{\\mathrm{helix}}(\\lambda)$ is the basis spectra for pure $\\alpha$-helix content. h is the weight of it. <br>\n",
    "$\\Delta \\epsilon_{\\mathrm{beta}}(\\lambda)$ is the basis spectra for pure $\\beta$-strand content. b is the weight of it. <br>\n",
    "$\\Delta \\epsilon_{\\mathrm{coil}}(\\lambda)$ is the basis spectra for pure random coil content. c is the wieght of it. \n",
    "\n",
    "Thus the values of the weights (h, b and c) determines the amount of secondary structure in our experimental spectra.\n",
    "\n",
    "Poly-L-lysine (a polypeptide with only Lysine residues) can under different conditions exist as almost pure $\\alpha$-helix, $\\beta$-strand or random coil. We can use the spectra for each of these forms as basis spectra for our analysis.  \n",
    "\n",
    "The first step in our analysis is to look at the basis spectra files. These are located in `data/poly-L-lysine.csv`. Use `%cat` or Jupyter Notebook to look at the raw files."
   ]
  },
  {
   "cell_type": "markdown",
   "metadata": {},
   "source": [
    "**(30) Python Task:** <br> \n",
    "Read in the poly-L-lysine spectras into the Notebook. See code cell below. We would like to have the spectras as 3 seperate `ndarrays`. There are several ways to acheive this. You could use a `pandas DataFrame` and then turn it into a `NumPy ndarray`, or alternative a `NumPy ndarray` which you can get directly from the `numpy.load_txt()` function. If you look at the data you won't have to read in the wavelengths coloumn because it is similar to the previous \"wavelengths variable we defined in **(18)**.  "
   ]
  },
  {
   "cell_type": "code",
   "execution_count": null,
   "metadata": {},
   "outputs": [],
   "source": [
    "# -- YOUR CODE HERE --\n",
    "helical = # Fill out\n",
    "beta = # Fill out\n",
    "coil = # Fill out\n",
    "# --------------------"
   ]
  },
  {
   "cell_type": "markdown",
   "metadata": {},
   "source": [
    "**(31) Python Task:** <br> \n",
    "Plot the basis spectras as below. Remember to label the axes and set labels, legends, colors etc appropiately.\n",
    "\n",
    "<img src=\"images/figureplot4.png\">"
   ]
  },
  {
   "cell_type": "code",
   "execution_count": null,
   "metadata": {},
   "outputs": [],
   "source": [
    "# -- YOUR CODE HERE --\n",
    "# --------------------"
   ]
  },
  {
   "cell_type": "markdown",
   "metadata": {},
   "source": [
    "Before we begin to fit the above linear combination to our data, that is to do a _\"deconvolution\",_ we first want you to get an intuitive understanding of what it means to make a linear combination and normalization. Below we have made an interactive plot using [ipywidgets](https://ipywidgets.readthedocs.io/en/latest/examples/Using%20Interact.html). <br>\n",
    "\n",
    "The linear combination is made inside the function: `linear_combo(h,b,c)`. This function also makes the plot. If you run the cell you will see an output with 3 sliders titled h, b and c with a plot below it. The h, b, and c are the weights you give to each basis spectra and the resulting linear combination from those weigths are plotted below it. Play around with it to your hearts content. See if you can create a combination of weigths that corresponds to the spectra you have at 25 C$^{\\circ}$. <br>\n",
    "\n",
    "Think about normalization. This means that the weights, h, b, and c, satisfy the following constraints: \n",
    "\n",
    "$$\\quad h,b,c \\in [0,1]; \\quad h+b+c = 1 $$\n",
    "\n",
    "If you have h=b=c=100% for instance that would be like saying you have a protein consisting of 100% $\\alpha$-helix, 100% $\\beta$-strand and 100% coil, which clearly is not possible. \n"
   ]
  },
  {
   "cell_type": "code",
   "execution_count": null,
   "metadata": {},
   "outputs": [],
   "source": [
    "def linear_combo(h,b,c):\n",
    "    \"\"\"Makes a linear combination of of pure helical, beta and coil basis spectra with the\n",
    "    corresponding weights h, b an c. It then plots this the linear combination.\"\"\"\n",
    "    \n",
    "    # THE LINEAR COMBINATION\n",
    "    linear_combination = h*helical + b*beta + c*coil\n",
    "    \n",
    "    # THE PLOT\n",
    "    plt.ylim([-20, 30])\n",
    "    plt.ylabel(r\"$\\Delta \\epsilon $\", fontsize=12, color= \"black\")\n",
    "    plt.xlabel(r\"$Wavelength \\;  (nm)$\", fontsize=12, fontweight='bold', color= \"black\")\n",
    "    plt.plot(wavelengths, linear_combination, c=\"k\", lw=3, label=r'Linear combination')\n",
    "\n",
    "\n",
    "# MAKES THE PLOT INTERACTIVE\n",
    "slider1 = widgets.FloatSlider(value=0, min=0, max=1, step=0.1, continuous_update=False)\n",
    "slider2 = widgets.FloatSlider(value=0, min=0, max=1, step=0.1, continuous_update=False)\n",
    "slider3 = widgets.FloatSlider(value=0, min=0, max=1, step=0.1, continuous_update=False)\n",
    "widgets.interact(linear_combo, h=slider1, b=slider2, c=slider3)\n",
    "plt.show()"
   ]
  },
  {
   "cell_type": "markdown",
   "metadata": {},
   "source": [
    "To obtain the different amounts of secondary structure for lysozyme as a function of temperature we are gonna fit the experimental data for lysozyme to the 3 basis spectra using a linear combination as illustrated below:\n",
    "\n",
    "$$ \\Delta \\epsilon_{\\mathrm{exp}}(\\lambda) = h \\Delta \\epsilon_{\\mathrm{helix}}(\\lambda) + s \\Delta \\epsilon_{\\mathrm{beta}}(\\lambda\n",
    ") + c \\Delta \\epsilon_{\\mathrm{coil}}(\\lambda); \\quad h,b,c \\in [0,1]; \\quad h+b+c = 1 $$\n",
    "\n",
    "here h, b and c are the weights of helix, beta strand and coil respectively. The two conditions that the values of h, b, and c should be between 0 and 1 and their sum should yield 1 is for the purpose of normalization.\n",
    "\n",
    "We can write this linear combination differently as: \n",
    "\n",
    "$$ \\begin{bmatrix}\\epsilon_{\\mathrm{exp}}(\\lambda) \\end{bmatrix} = \n",
    "\\begin{bmatrix}\\epsilon_{\\mathrm{helix}}(\\lambda) \n",
    "\\\\ \\epsilon_{\\mathrm{beta}}(\\lambda) \n",
    "\\\\ \\epsilon_{\\mathrm{coil}}(\\lambda)  \n",
    "\\end{bmatrix}\n",
    "\\begin{bmatrix}h\n",
    "\\\\ b\n",
    "\\\\ c\n",
    "\\end{bmatrix}  $$\n",
    "\n",
    "We can also write this as:\n",
    "\n",
    "$$ b = Ax $$\n",
    "\n",
    "If we rearrange the equation as below:\n",
    "\n",
    "$$ Ax - b = 0 $$\n",
    "\n",
    "We can then minimize this to obtain the value for x, that is, the values for h, b and c. `scipy.optimize.nnls()` can do this kind of minimsiation for us. "
   ]
  },
  {
   "cell_type": "markdown",
   "metadata": {},
   "source": [
    "**(32) Python Task:** <br>\n",
    "Finish the `deconvolution()` function below. The function uses `nnls()` to find the weights in the x vector: h, b and c that minimizes the equation: Ax - b = 0. `nnls()` will not normalize h, b and c. To finish the `deconvolution()` you would have to normalize the weigths before they are returned."
   ]
  },
  {
   "cell_type": "code",
   "execution_count": null,
   "metadata": {},
   "outputs": [],
   "source": [
    "def deconvolution(A, b):\n",
    "    \"\"\"Deconvolution of a CD spectra. It uses the basis spectras defined in A to the determine the best\n",
    "    weights for each basis spectra to give the experimental spectra b.\"\"\"\n",
    "    \n",
    "    # Non linear least square solution:\n",
    "    weights = nnls(A, b)[0] \n",
    "\n",
    "    # normalization\n",
    "    # -- YOUR CODE HERE --\n",
    "    weights = # Fill out\n",
    "    # --------------------\n",
    "    h,s,c = weights \n",
    "    \n",
    "    return h,s,c"
   ]
  },
  {
   "cell_type": "markdown",
   "metadata": {},
   "source": [
    "**(33) Python Task:** <br>\n",
    "Plot a grouped barplot of the propensities for the fit and the DSSP analysis like the figure below. Do this at 25 C$^{\\circ}$.  You might need to look at the [matplotlib gallery](https://matplotlib.org/3.1.0/gallery/index.html) for inspiration.\n",
    "\n",
    "<img src=\"images/figureplot5.png\">"
   ]
  },
  {
   "cell_type": "code",
   "execution_count": null,
   "metadata": {},
   "outputs": [],
   "source": [
    "# -- YOUR CODE HERE --\n",
    "# --------------------"
   ]
  },
  {
   "cell_type": "markdown",
   "metadata": {},
   "source": [
    "**(34) Python Task:** <br>\n",
    "Plot the fit vs the experimental measurement at 25 C$^{\\circ}$ like the figure below.\n",
    "\n",
    "<img src=\"images/figureplot6.png\">"
   ]
  },
  {
   "cell_type": "code",
   "execution_count": null,
   "metadata": {},
   "outputs": [],
   "source": [
    "# -- YOUR CODE HERE --\n",
    "# --------------------"
   ]
  },
  {
   "cell_type": "markdown",
   "metadata": {},
   "source": [
    "**(35) Chemistry Task:** <br>\n",
    "Looking at grouped bar plot and the fit in the above 2 figures, does the deconvolution give an accurate description of the secondary structures?"
   ]
  },
  {
   "cell_type": "code",
   "execution_count": null,
   "metadata": {},
   "outputs": [],
   "source": [
    "# -- ANSWER HERE --"
   ]
  },
  {
   "cell_type": "markdown",
   "metadata": {},
   "source": [
    "Now we want to make a function that can plot the same as in **(34)** for any given temperature T."
   ]
  },
  {
   "cell_type": "markdown",
   "metadata": {},
   "source": [
    "**(36) Python Task:** <br>\n",
    "Finish the  `fit_vs_dssp()` function below. The function can plot the same as in **(34)** for any given temperature T. Do not delete the code below the function because this can make an interactive plot from your function. You should put in your code as in **(34)** and some of the code from **(33)**. When assigning b you should make it dependent on the temperature T instead of hardcoding it at 25 C$^{\\circ}$."
   ]
  },
  {
   "cell_type": "code",
   "execution_count": null,
   "metadata": {},
   "outputs": [],
   "source": [
    "def fit_vs_dssp(T):\n",
    "    \"\"\"Plots the fit vs dssp calculation for any temperature T.\"\"\"\n",
    "    # -- YOUR CODE HERE --\n",
    "    # --------------------\n",
    "\n",
    "slider = widgets.IntSlider(value=25, min=25, max=99, step=1, continuous_update=False)\n",
    "widgets.interact(fit_vs_dssp, T=slider)\n",
    "plt.show()"
   ]
  },
  {
   "cell_type": "markdown",
   "metadata": {},
   "source": [
    "**(37) Chemistry Task:** <br>\n",
    "Is the fit still good at high temperatures?"
   ]
  },
  {
   "cell_type": "code",
   "execution_count": null,
   "metadata": {},
   "outputs": [],
   "source": [
    "# -- ANSWER HERE --"
   ]
  },
  {
   "cell_type": "markdown",
   "metadata": {},
   "source": [
    "Now we want to make the same interactive plot as in **(33)** but as a bar plot as in **(14)** so we can see how the propensities changes as a function of temperature."
   ]
  },
  {
   "cell_type": "markdown",
   "metadata": {},
   "source": [
    "**(38) Python Task:** <br>\n",
    "Finish the `ss_propensity()` function below. It should plot a bar plot as in **(14)** as a function of temperature.    "
   ]
  },
  {
   "cell_type": "code",
   "execution_count": null,
   "metadata": {},
   "outputs": [],
   "source": [
    "def ss_propensity(T):\n",
    "    \"\"\"Plots a bar plot of the secondary structure propensities\"\"\"\n",
    "    # -- YOUR CODE HERE --\n",
    "    # --------------------\n",
    "    \n",
    "slider = widgets.IntSlider(value=25, min=25, max=99, step=1)\n",
    "widgets.interact(ss_propensity, T=slider, continuous_update=False)\n",
    "plt.show()"
   ]
  },
  {
   "cell_type": "markdown",
   "metadata": {},
   "source": [
    "**(39 BONUS) Python Task:** <br>\n",
    "Plot the plot from **(36)** next to plot **(38)** and make 1 slider using `ipywidgets` that interacts with both plots as in **(36)** and **(38)**. You can reuse previous `ipywidgets` code to accomplish this. If you want to know more you can look at the [ipywidgets](https://ipywidgets.readthedocs.io/en/latest/examples/Using%20Interact.html) documentation. "
   ]
  },
  {
   "cell_type": "code",
   "execution_count": null,
   "metadata": {},
   "outputs": [],
   "source": [
    "# -- YOUR CODE HERE --\n",
    "# --------------------"
   ]
  },
  {
   "cell_type": "markdown",
   "metadata": {},
   "source": [
    "**(40 BONUS) Python Task:** <br>\n",
    "Plot the 3D plot from **(20)** next to the bar plot from **(38)** and make 1 slider using `ipywidgets` that interacts with both plots as in **(36)** and **(38)**. On the 3D plot indicate with a big fat red linemarker which temperature you are currently looking at.  You can reuse previous `ipywidgets` code to accomplish this. If you want to know more you can look at the [ipywidgets](https://ipywidgets.readthedocs.io/en/latest/examples/Using%20Interact.html) documentation.  "
   ]
  },
  {
   "cell_type": "code",
   "execution_count": null,
   "metadata": {},
   "outputs": [],
   "source": [
    "# -- YOUR CODE HERE --\n",
    "# --------------------"
   ]
  },
  {
   "cell_type": "markdown",
   "metadata": {},
   "source": [
    "## Graphical excellence\n",
    "**(41) Python Task:** <br> \n",
    "We desire to sum up all the results we have done in this whole analysis into one figure ready for publication. Reproduce the plot shown below in the frame or make it even nicer such that you would gladly hand it over to your supervisor! We have already produced some of the code below for you. <br>\n",
    "Do you understand the plot? It should be apparent if you completed all the previous exercises. If you are not sure ask your instructor :). All information on how to recreate the plot has more or less been covered in the previous tasks. How to make an insert of a graph can be done with `fig.add_axes()`. _Read the docstring on how to use it!_ <br>\n",
    "\n",
    "<img src=\"images/Thermal_stability_cd.png\" width=600 height=300>"
   ]
  },
  {
   "cell_type": "code",
   "execution_count": null,
   "metadata": {},
   "outputs": [],
   "source": [
    "# Make figures and axes\n",
    "fig = plt.figure(figsize=(8.4,6))\n",
    "ax1 = fig.add_subplot(111)\n",
    "# -- YOUR CODE HERE --\n",
    "ax2 =  # Fill out\n",
    "# --------------------\n",
    "\n",
    "# Sets colors\n",
    "# We only want the temperatures from 60 degrees and up.\n",
    "# From 60 degrees to 99 degrees we have 40 values\n",
    "cmap = plt.cm.get_cmap(name='RdBu_r')\n",
    "T_start = 60\n",
    "colors = cmap(np.linspace(0,1, 40))\n",
    "\n",
    "# -- YOUR CODE HERE --\n",
    "# plot the 3D plot projected into a 2D plot.\n",
    "# It cycles through colors like in python task 20. \n",
    "# --------------------\n",
    "\n",
    "# Fits fit_func to data\n",
    "popt, pcov = curve_fit(fit_func, temperaturesK, cd_data_222.values, maxfev=1200000,  p0=[-30, -10, 0.1, 0.1, 350, 500])\n",
    "\n",
    "# -- YOUR CODE HERE --\n",
    "# plot the fitted function in the ax2\n",
    "# --------------------\n",
    "\n",
    "# -- YOUR CODE HERE --\n",
    "# Set labels and limits\n",
    "# --------------------\n",
    "\n",
    "# Sets axes ticks\n",
    "ax1.minorticks_on()\n",
    "ax1.tick_params(which='both', width=2, direction='in')\n",
    "ax1.tick_params(which='major', length=7, direction='in')\n",
    "ax1.tick_params(which='minor', length=3, direction='in')\n",
    "ax2.minorticks_on()\n",
    "ax2.tick_params(which='both', width=2, direction='in')\n",
    "ax2.tick_params(which='major', length=5, direction='in')\n",
    "ax2.tick_params(which='minor', length=2, direction='in')\n",
    "\n",
    "for tick in ax1.xaxis.get_major_ticks():\n",
    "    tick.label.set_fontsize(14)\n",
    "\n",
    "for tick in ax1.yaxis.get_major_ticks():\n",
    "    tick.label.set_fontsize(14)\n",
    "\n",
    "for tick in ax2.xaxis.get_major_ticks():\n",
    "    tick.label.set_fontsize(10)\n",
    "\n",
    "for tick in ax2.yaxis.get_major_ticks():\n",
    "    tick.label.set_fontsize(10)\n",
    "\n",
    "plt.show()"
   ]
  },
  {
   "cell_type": "markdown",
   "metadata": {},
   "source": [
    "## References"
   ]
  },
  {
   "cell_type": "markdown",
   "metadata": {},
   "source": [
    "1. _Santoro & Bolen 1988_\n",
    "2. _Clarke & Fersht 1993_"
   ]
  },
  {
   "cell_type": "markdown",
   "metadata": {},
   "source": [
    "# Answers"
   ]
  },
  {
   "cell_type": "code",
   "execution_count": null,
   "metadata": {},
   "outputs": [],
   "source": [
    "from cryptography.fernet import Fernet\n",
    "import base64\n",
    "def encrypt(string, key):\n",
    "    keygen = lambda x : base64.urlsafe_b64encode(x.encode() + b' '*(32 - len(x)))\n",
    "    cipher = Fernet(keygen(key))\n",
    "    return cipher.encrypt(string.encode())\n",
    "def decrypt(string, key):\n",
    "    keygen = lambda x : base64.urlsafe_b64encode(x.encode() + b' '*(32 - len(x)))\n",
    "    cipher = Fernet(keygen(key))\n",
    "    return cipher.decrypt(string.encode()).decode()"
   ]
  },
  {
   "cell_type": "markdown",
   "metadata": {},
   "source": [
    "## How to get answers:\n",
    "```python\n",
    "Markdown(decrypt(task1, \"!!!TYPE PASSWORD HERE!!!\")) \n",
    "```"
   ]
  },
  {
   "cell_type": "markdown",
   "metadata": {},
   "source": [
    "**(2) Python task:**"
   ]
  },
  {
   "cell_type": "code",
   "execution_count": null,
   "metadata": {},
   "outputs": [],
   "source": [
    "task2 = 'gAAAAABdblId3Lbq-qku7G4hKLq2Budcds2MAbue9AVsImaLNqDY9TgdLBRcjKllEfuSyePWIOh4ltJEcS89fuPKlS5ogtQwkQlOktse0GxIjZXmerHO8h_7yAN6mu9gJmSVVW1wxSXfUMUBx3VE-_YUFXqdO3lryQ=='\n",
    "Markdown(decrypt(task2, \"\"))"
   ]
  },
  {
   "cell_type": "markdown",
   "metadata": {},
   "source": [
    "**(4) Python task:**"
   ]
  },
  {
   "cell_type": "code",
   "execution_count": null,
   "metadata": {},
   "outputs": [],
   "source": [
    "task4 = 'gAAAAABdblK18nYupSyiIeRL0ZQyjK9qz6d2jkAtdpwUnWPGgvoyoWjG4nUrTV5G8tnkqnOTcmGbMLl3mSwD2yUjgk01lbEC9LQ-_1D4LEbzyloE9jLHgefFJw79XzqSRLj3rnRWTuv1gEa9VZVmSMXSFTCB90UsvqqIP8rWdCDtOBJCSzpKlnEOmMvZ_rFlgaCOJlm42VHoI0qrRnRrf_FgDc46fBUXqARB8K6N1agWyI3YrTWW13UJEDde5VaX8M1Pu4ZyCTruBTOjqfQR1v7lyA9Zub-Mfw=='\n",
    "Markdown(decrypt(task4, \"\"))"
   ]
  },
  {
   "cell_type": "markdown",
   "metadata": {},
   "source": [
    "**(5) Python task:**"
   ]
  },
  {
   "cell_type": "code",
   "execution_count": null,
   "metadata": {},
   "outputs": [],
   "source": [
    "task5 = 'gAAAAABdblLgzsWgQLGqyPHUGoofswwAxau0JLOJb-RkH6S6nrlgd4xz3khJBfeTHIwDSIPQK7ZXJsqHlCtA5xGYH7w1uePf2mE25wYeYE82ohJw-iG_H50HOi-sk0CmaiSRrX23ZrPSh0a0lRAuPfJv4zOKuIpQZS3Bf3kkaKzmKnh5r02E1biXhnL7P1I2iQFkaBqP6RvkJkIw6gpxJAt-PA-M7PnbYYy7jEqZZIyfQvDgZwrIcV-Jh3e6865j-nxnVtgFWJZ0pt73mSbrKh5hgSzg3BMIusSSaq3ZG2b7SOGBjJbhx41_1F2K0Uq4byhdIaWfy8t3'\n",
    "Markdown(decrypt(task5, \"\"))"
   ]
  },
  {
   "cell_type": "markdown",
   "metadata": {},
   "source": [
    "**(7) Python task:**"
   ]
  },
  {
   "cell_type": "code",
   "execution_count": null,
   "metadata": {},
   "outputs": [],
   "source": [
    "task7 = 'gAAAAABdblkiiZ1IrRTZK37aRfC01oMwFSrJte9XpRzhheXVW4r2AEwK4PYfJziuJxBrZvxlg0JO22xXAUqx4BqnTHiiJGiVo5gbBRRrNlyTN_5l8emq8OChzjlGbHDSj2QiBZoetol3vyKCz4scb_xJ6fuxWbRHL3FrbHndE5oo5zBS4fBgMIBTXrldHd-h9GzpAzJf6jV64XIGrELiLnx4wkzMY2R7NPs6wYATcPrN-u2FYrVZCauXFJw5XeIDfqq_eUmt4mcBSufQYy8ui8LR1WAdEmjM6YleSCvj9_lJajSq80lE2MpyS1Ao4tT-yRqAlK_hW5CA27wKOUgGyKkvodbdybd3Kw=='\n",
    "Markdown(decrypt(task7, \"\"))"
   ]
  },
  {
   "cell_type": "markdown",
   "metadata": {},
   "source": [
    "**(8) Python task:**"
   ]
  },
  {
   "cell_type": "code",
   "execution_count": null,
   "metadata": {},
   "outputs": [],
   "source": [
    "task8 = 'gAAAAABdblmMJ1l60lvXh-TVQmkReJvCrYpLq8XdalGcCA1_fW0CrbyxEuqQtgTrNblH3PfrrfnGlzlnrroLdDcqBj8rgjA2N3g8cKHozTeyAL3qq8kX0c9TTMABbWEHkYEsXGhk5jBJ9zKo9JCJUB82mkVAnNM5GUkZX6T1LDcTjcyW_gXoPXGnRnkHUOJsw-7X6YKHs86I88R1p9vhsyHVpokbuHS6tA8mk_Z2TVjjcIPe6X-5YU0='\n",
    "Markdown(decrypt(task8, \"\"))"
   ]
  },
  {
   "cell_type": "markdown",
   "metadata": {},
   "source": [
    "**(9) Python task:**"
   ]
  },
  {
   "cell_type": "code",
   "execution_count": null,
   "metadata": {},
   "outputs": [],
   "source": [
    "task9 = 'gAAAAABdblnFjrY-D62nD7VwgGTSQz6o9SUyPaW4n3W1cA5JKPj3RwGxWrD80pYIm_ml_PTuxiu7EVugD4eJHXt3IbD01VZcdR_fiekpPAx2sQd_WZ_0hyx_VOxa6lo5VPQ0oFLDvm_Qiax4zn1ac2QKafNQvXWi7Te9N4-qU3VN4mPKCKOxyThuSPqOBYGzFD5VmXHMvG8nf0CwOGZZc9NfWjkN3esDIE5PyGF1rP8dykF807XtbZdqAUL8IR3FM1dKZxoYkbEmxS0AE57TYSzocY1SHt1P5g=='\n",
    "Markdown(decrypt(task9, \"\"))"
   ]
  },
  {
   "cell_type": "markdown",
   "metadata": {},
   "source": [
    "**(10) Python task:**"
   ]
  },
  {
   "cell_type": "code",
   "execution_count": null,
   "metadata": {},
   "outputs": [],
   "source": [
    "task10 = 'gAAAAABdblnwYrnAg_ZcPe-ROnL6BG1k1kHIpLO5LHPROCfv4s1wkquoDWfoj3iCfxbN9XAWuqLkixnVM_eyuKsbzG5hM8PwOMZzxfNCTtgqD2T6hv_qj1U2fQv-2YvllfYbqFfQ-NHL1bJ3STCGPppIRXD-eeAaEux_TUmk8oJDiQ5vjj2CBIkW_8deyvGozh3DVZOvTQCaVX4QeHGSWDFh7EPg8jseUIBR_E_HNDXbmYi8cLBM0CF8NqM5P4yo4QyHAbYCP7KKZvjPOmqVKzcjZRkJIu8GC0Pa8ULsP5KrIB6dyyk33Cf5emlkSpsD5rVv5ll06CYSqKYz83DizJ0V0U7aWuubiMfTGvPXovWYJnSUWyNHvivnA9VuvmOWeGQ8J9RFjv4JOBxgnctcHNLjdzDOkzvNWK1VFWtGjMMZj_TVUa5nQ2Qjbsj8tSWD_8dwX4ND9UOSqRYHKB1_gKBgQJmTtIM95pX9sY-SO4GfL73J-j8jI72HBcrm471i-6uwC-delF8Y8N9m8NSctLeoVPtffdNT0JQn5em8gYUK46lf2UABALzg3OhrZPtwVzpDcGwBXvf40h8zTh5yasR-L4bsCOD2wOQoug6dpNLjEUT557XGDPf9lcX3JrVWn2fYjfVNyExoMt84x2i6BxQRrqd6NRTannUDyOxdOuuDkvqjL6ljGx0='\n",
    "Markdown(decrypt(task10, \"\"))"
   ]
  },
  {
   "cell_type": "markdown",
   "metadata": {},
   "source": [
    "**(12) Python task:**"
   ]
  },
  {
   "cell_type": "code",
   "execution_count": null,
   "metadata": {},
   "outputs": [],
   "source": [
    "task12 = 'gAAAAABdbloWKvMVAzbzPV9Jzba6E6zlJs7gWaNKpguoz1Qrj-X_jR7-QlJyhvXmV4T7NgGBDUS9zWHYgZgv-Yza6AExWLv1OL2ZvDRm_NgUAK3kfzCU8YfDSfZ1z9amnxc02AZI_iK90PgTkP5nFxo729Omdk2iWwpb564klLyUF5RMS5Ge06H-I-SGQlecFqNatyzB3McJ7iQLvxB_Surmm9W-pYOfHKP6GLXCxdRsr5dXOz2Nn-JpL_I4CEayHsESjYLBytlmYqvQn_XR-_LqDM8Fv60Wx5Hmm9NbD_SY58tSceuKEp-p8YRpVL7dIKvuOHcsYGdOHKZ0lRT_ydt0smmlPoxpHA=='\n",
    "Markdown(decrypt(task12, \"\"))"
   ]
  },
  {
   "cell_type": "markdown",
   "metadata": {},
   "source": [
    "**(13) Python task:**"
   ]
  },
  {
   "cell_type": "code",
   "execution_count": null,
   "metadata": {},
   "outputs": [],
   "source": [
    "task13 = 'gAAAAABdblpBhrHddQNTCDvz53MUONGx37OHhpMoOEF-YGjuazKjRvJda2cikBVgdRhbxaM0tBGAIPTjkOPVEpR__LqrGnxT8x-Jcg7FMd6pL8ar9ly5Wh1Bc6nteqTGLk2ZxlQTTV_bl3TZC_wXwF1TeioTmTjKoOo2LN-qCiNCHImQRa9f4JY='\n",
    "Markdown(decrypt(task13, \"\"))"
   ]
  },
  {
   "cell_type": "markdown",
   "metadata": {},
   "source": [
    "**(14) Python task:**"
   ]
  },
  {
   "cell_type": "code",
   "execution_count": null,
   "metadata": {},
   "outputs": [],
   "source": [
    "task14 = 'gAAAAABdblrmnXJl5vig9-aWGizLA-frK5o73TOd-OgMbENFckFqq3RlrJiACYLSgwci6MQjQLPN_QXbUnD665_NzhcYvNW4oZFmF7fEBaqhECh3bik9YQlgSAF15ZuDyfkrIAkpzgwRhEjpkOee6ZRwZ4EJL5Uoml2vV3WCyOl0VABiNUiSrI5ZmZ1ZFhKu6vHta5V9z_UUE0n7Szcos1lfZ7QmUkSMayDerG91m7bojfn1hCA1X1rhDIzodyKEu-0M-7fA0Kocuc8y8O5Ij9EyjOX1jSAwUBCGhMQy-FDpFuQ_Ua-rfr2E1ekX5zLvYHWbX4AYwhWmzo4LOxfHdxJuACW_suKJ98z9D69BZje2n74k9_PQ7qyTcLszeNqiWqUZzPBMzJyz7pcQ1ZuUUDzLBJmaau4CnkMdFWdcZO8n_mzMx5fdMOiFDWoZOG2k6msWnAfHGne4D8WA_G1NTWbKUWFdmaUzW0An6-8rP7EmFDJPtuyXyRK56QyPv1nqsg8ZyfZQeups6fJEH1sc7g0dkdWyAVGY3FhOsjIn04Xr-kZZwuYAt3NLDMgVY99_ykWqg3ISXZNPlvqFGpIo_V1UBCrhb-TXlFCPPi8RvaWDICgd2CSw2Et-FwjYNKoB6zoYH-4i_PGjr2ewheoHHzSBeIJxiUG1KPQan8townBfSvBkkr2IEDW97lwBrMw-Os01-im51lBKRZrWr6-QNLmiN5O_z_fKBX6SBM2_teViFYQ0TQ7bymB4gh7ibFO2tTv7EWEmV4LwQrH1J5C63E33XO8WKBenQFwkfdWxHiaIFxk4yGDvwcPwogs8dTD34GP0j7tg9sF6'\n",
    "Markdown(decrypt(task14, \"\"))"
   ]
  },
  {
   "cell_type": "markdown",
   "metadata": {},
   "source": [
    "**(15) Python task:**"
   ]
  },
  {
   "cell_type": "code",
   "execution_count": null,
   "metadata": {},
   "outputs": [],
   "source": [
    "task15 = 'gAAAAABdblsL8UHxlKdoPBLBh0MCff-gTFnjw3S_9CkmBqm-W_An-gpZghl9lc7r1nhl4ISj_CprlTmH-EyhkN2sfT0jl-B84cA-i_101axEfPQ6mcqD7zYxbRajYc6Fe7lNMj_poV0JuRuY-G71oRdFnvWBeuUle7HuD70L8BW9iFb4RrE4lDaCmYCWtvsslwHFiM2lN-baQsIOWePw_swKH1Xg5BXQmBGLn_D_HoRjwkN_ip4iIn1q7BxchJd75YNW5Di879xfp6E8zxtS_pGzqVSI-ZDX8KgUSzMAbhDWNtj655bQ5aaiHkLyOKnFKnBQZPeYaZDW3RPwlmQJNPeWgshT1iVcUCqSY5rz206kHvNJQXzMhczpfOLW7utjlltRDcq4LYlTjW7vaOy0sfOD1Loxyh8Peg=='\n",
    "Markdown(decrypt(task15, \"\"))"
   ]
  },
  {
   "cell_type": "markdown",
   "metadata": {},
   "source": [
    "**(16) Python task:**"
   ]
  },
  {
   "cell_type": "code",
   "execution_count": null,
   "metadata": {},
   "outputs": [],
   "source": [
    "task16 = 'gAAAAABdbls3CvnQ1jdwtPBtNo-FKj70YWwUsaUphkDfG5d9xNktZPfdspw7b_wg6u_vy0VVbKT_3xVr4OM37a-wZgEGnpYTdYB-Yt7tzF9HrKrdYjcG2smSxc2LKfi8s57SiObn-w0jKdML_c9Vgpfms_pnROE_fqXL6l1D7xOq_hhM58MrnC9vRcAvI7AfDaBGdOVacFtLCaR6d1MPucZWH5ExCUPix4S8CvJ2121wQc2s9ovUXOcAO-QCssiG8-QilRwb7PJqFMn5Q8pchrVFEWCi4KTGRLw5vk18wY_1HaklWGKb1Zq1h8r8-sx1ET12hKfsoTuvLqNJS5K3-skBgINY9hT72fnlIos13Ybx_FrENZ4iW5Q7tvyP2mdMp7oDMzPvf2cHVaRHRpGrKPqOnDqwxdA4M331H87jBO2_lkb2vZCXdjoRpY6JBnxWapup46WocXHTdEU9tf-ccl0BMis0UeVPG2QqiVYJHOayLaXSj18rvUZI5ggp9oKIGvxLcqHjZbqR'\n",
    "Markdown(decrypt(task16, \"\"))"
   ]
  },
  {
   "cell_type": "markdown",
   "metadata": {},
   "source": [
    "**(18) Python task:**"
   ]
  },
  {
   "cell_type": "code",
   "execution_count": null,
   "metadata": {},
   "outputs": [],
   "source": [
    "task18 = 'gAAAAABdblt12lldUBGW1xANpZ1I9SNYpKwhyLrFvCZa6QdTuJmgkpRpreewnkYWZLpwscwtNigQc7ZkIzl7YHy81ePRAV48MJ3WHEmQ02je7K3e80thqL8U7DUTwHDe6-9h4JPUUV1VhAMPGtm78K4pzTrgm7m4RRnG_JbFVWyklTePEtGPcdKM-PPaX1NPZgCD0x6xVOAS'\n",
    "Markdown(decrypt(task18, \"\"))"
   ]
  },
  {
   "cell_type": "markdown",
   "metadata": {},
   "source": [
    "**(19) Python task:**"
   ]
  },
  {
   "cell_type": "code",
   "execution_count": null,
   "metadata": {},
   "outputs": [],
   "source": [
    "task19 = 'gAAAAABdblu_HjyQ7KQY8dasywNEv_jBv80TAKykOxHMioR04aAzmzYB3F9IOkNrn8IAlyufgUx4mRdDfRt6HRN5KhPDwYr_A8Baw4jVORbtlJp39JeeCICA030L4sydl-OPvi4Uy2H16KWRk_NXSbUdQSSghyVrzuYyewov_WCEf4EqChJ5Ixz4NxrdyG1YLbUV1oABeC7lbIJcgN1OSwmVwSzVgCbj0uzq5KVFKcYxs_Vnzm0vQkDOQJMdosEFlTu0ecbs1cglr9ds3XzqXbZ5uidnJbiMbzfTALKk-rw4c_Hjn_ZmWahAwXkJZJdjprvvJuFTP4AQe2N1e6MxuA5fPHzzjj5ravVQv3zV691H-f58Ncx5Yz_JQoKKmQD1uBdQ2KtmsxrcN2Q-JfE_4UdV_AzaBNGcjpqDN-BkKAsX7oP9gkCJmDofbIAF1pWuh0qXuB11FWhhvswL_3uYoemHOWRCgVYr9RoPTDBYt7Kxhd3LarnPUco='\n",
    "Markdown(decrypt(task19, \"\"))"
   ]
  },
  {
   "cell_type": "markdown",
   "metadata": {},
   "source": [
    "**(20) Python task:**"
   ]
  },
  {
   "cell_type": "code",
   "execution_count": null,
   "metadata": {},
   "outputs": [],
   "source": [
    "task20 = 'gAAAAABdblxWYVlIdL3EzDDNKH-BmZCZ0ogXQJOJzli9L4-54fagElwCtSIzGuqZyYDFYcxxm0OM7NzEXtkogAIiRErJ5cCkf8fl8pisgBk5XuL7qcU0WKtElX61W5UXu-SbLGXb26HziPLvmAbyOeu0Xc31nFOxOXtLvsjmodLYN8iebwmSpnaC94TdtR1dZWAyrkS1K8CZadM1AuSEw7_ywXGS9Q3AThnbtEsLU-rSlwka5RIftcqsYT2RI0xu_NZjh7fBw2p8S98uD9u8eWcS-JL4GKzppnWvJv3zXIZa5RaTdIYeCD7L2vb5Ocw6nmA-Qu4-Kvr5LgGlTQ_hdqRI73hSYePfie-hO6UM3D4f8oWBmFpXDoYXq39Ra1IRUxeyUGDLzxzzqnZNiRtcTNVjGkPJYWnW7RCMfcAuohNwdk9_N0CnnODPyJ3Aw5r7Pg80HVkvRDCnqnCPIYNWt188blCSdb24Iq7dUYqXAR3tZc8uwgDmH-X3NQ1CmRDCuwZZ1VnRjrVoth0NQDVkdTwdYIjKWwFSMGihf2PBftFMV3CqXDfKVREBfuCqvrdLC-t1Ybx-STKWAWY1AYV7ihE5mrf2kKfTm1U8pqJCk-g3V0x4tEtsf_-yLqPDEK3hBiTwgL5W1wf_N8PjoQnreBthAz7JvE_BKVMtbXaf2rVkfvSfqg-xtyxPXyjdL-i7MN0cy1IhaC7AIbnkA2YMQZqljkqzAtOMPRekF_y6EVp6xSZq6b53b3qpz1ZH3v1W5iJvgTB0-VGQ_rIDBqaYj2gyfUUaf8JVsHwUUwh5Vx0ozB-uz6BWuvDvRQs-WqKT5aU1-dRExVWQV6cFA9JaqLN-7hUIHmLRx0Evc9t57MQ8EM9iDjCM8q4eD-_StBBAGHciOpFXdQjMbwyO3hnvpO7U2JIYeb0e6P3drbyiDAUJESDZCMhuomKBwKekXFU4Xq5wYEC55rNVFBMyeH5ET7Xd4Ph1H5-Lsw=='\n",
    "Markdown(decrypt(task20, \"\"))"
   ]
  },
  {
   "cell_type": "markdown",
   "metadata": {},
   "source": [
    "**(22) Python task:**"
   ]
  },
  {
   "cell_type": "code",
   "execution_count": null,
   "metadata": {},
   "outputs": [],
   "source": [
    "task22 = 'gAAAAABdblzVj9-sGXFx4DmaKta1tWB3r7QVyOTCl7JDcsBCymhH5nJwY8Dz26Hdy0cYyDiQuK5BZiCehDEXSua-NO6t6XEGy2UFfugwHO5z7sDVZiQt4KqYDBHkPMlBClkmAcyM38ZB0XTK8yes5z6s8wNcUSJpq-zU5_u7HtIHkLxSCnSvJBy1DpcAphtngYRc9N9DdY4lQhnMD6F3LVCNW6bv_9bJ-eDVsg1XQlfPrEnTnziQc4z6m9UQwScJSW81_QrAL1MlkMqhxJ1Kbi6bnC_dbWkFQwBNzChkXzkuomPjO8lDLsb9A-oRDpZPXC7gEwbuWEvAwnSyy7Njw1kdf_Lg2w5XL88GeOcct1fR8JnBEcOB698Q0yvvPs1SX2SIQo1hT-YO'\n",
    "Markdown(decrypt(task22, \"\"))"
   ]
  },
  {
   "cell_type": "markdown",
   "metadata": {},
   "source": [
    "**(23) Python task:**"
   ]
  },
  {
   "cell_type": "code",
   "execution_count": null,
   "metadata": {},
   "outputs": [],
   "source": [
    "task23 = 'gAAAAABdblz4EEOADX7LecMmHmeOckahMD6yrl1AwucJKxMVs8gLeCs-J6g6Rda1RvREXdMcEQHZ-pSxawzzZTdtapJYEE5JiH6kw45hX3DJsNZ1hxYvI8Hokd7log_HTQ1RQq0Ii24BUPC3SPDk1i7r6-2uQLyytzpBNtEdZUDuRLY5Zh6uNoUghswdsbZOzqlRTomKdVDMoZ16PfUfkyqigkYoELySap9fPZfHPv-sPyDhrx-kqZwPGOjiwy-9qhNa6GpWB90TxfVONBV21PWnlkdAE0Pg8oWVzAjz9l9rdQx2nxPnSqnR-zM7saUvV0Q-qJee-xzXR_PqLHRUnHBJbXvzNJPxFV6Bqg2LYp_5FuEKoWS0pQC6SFKUemZnSju9pWdqjSRRp7IcGMkRQTbqurv3Sg1jYg=='\n",
    "Markdown(decrypt(task23, \"\"))"
   ]
  },
  {
   "cell_type": "markdown",
   "metadata": {},
   "source": [
    "**(24) Python task:**"
   ]
  },
  {
   "cell_type": "code",
   "execution_count": null,
   "metadata": {},
   "outputs": [],
   "source": [
    "task24 = 'gAAAAABdbl0pTnuz1ORqH9DcspKnZ-nHTKYVflAvEqOiQ84OdMmRPjiFESCmrtokYj4v8W5F4A1sKFLb1pyjjPJfhrWioxS7kSwVUkarl-qcwYKDeZS5XAfNqIE8i-zdhlqyDU4MNeiN4hl1VWQTkqbY9Pll9R6OUnPd503kvBNVk8nndDRcKQtVohEMvABICZ6Q0GhEzjB_jGdGoSd9amuAO76gBS1yNPxoj0TS1fxPktdCxy6-8AIPOHaLiXhx_D-HdrwP5J_k9lNxzicPAme8rh2rEXuEAOS-Mk-GgNZNQ8UAHEU6_js='\n",
    "Markdown(decrypt(task24, \"\"))"
   ]
  },
  {
   "cell_type": "markdown",
   "metadata": {},
   "source": [
    "**(BONUS 25) Python task:**"
   ]
  },
  {
   "cell_type": "code",
   "execution_count": null,
   "metadata": {},
   "outputs": [],
   "source": [
    "task25 = 'gAAAAABdbl12bBheuJZCPo53IAcmF1BMtrCdozbfvvxFeiFl-QvP-H6ONdZwG8RXQvuj7dO-EdWEOAyYywiFo3idq9yi_lW71Da9OaqmnWuOyECoV9WRtZ-HaUZxBGyJVLapRsdFnSUxWNJxrHbcGbbgniao48AA7g=='\n",
    "Markdown(decrypt(task25, \"\"))\n"
   ]
  },
  {
   "cell_type": "markdown",
   "metadata": {},
   "source": [
    "**(26) Python task:**"
   ]
  },
  {
   "cell_type": "code",
   "execution_count": null,
   "metadata": {},
   "outputs": [],
   "source": [
    "task26 = 'gAAAAABdbl2PIyiPoblsWHqdYiXPTtD5t66045kS18kqJQD-8_-ih0Ibl_TTVz0oJrrzO6H5XdndVPk5M_FPh_rBmFDwO42vM1gVUhL4Db5qrVCYH4L_0fYDxniKO08i6ltQ51czebWUWabWdXDhsLZaabBLMsTiwIKoRLhOykIrXHSDS5vgh1KzR2HnODsFphu-d9j5SCHIiXezwNlDgpjGRUofLn15E0A8rHPfclIL7-j6HrT7xHipaoblDQApQa1CRQQVpmy6D0Ny7O5KFuwscSY-S5RoWjYYHs05-gjbS6DywYdAW6pCEhUsNMIJAW3jVJ9HxRj51t8rtN85F0J7QYzT-vMW1Ham4lxfjj-7Csq6CAOE8JilrgKSAc4VatqZjJ3JQxg8mb1WdDti7f1Se3a4EvOBEGcvrWKVQ2iot250XS6G1qghHT6bmQmRQW9XwR_Oxtbd0fnCUJUTbfssNuUgFuF91m03WREocawTpvHgOGUtaXHtDe_MF9dZ4a1WB72fbzCgZTnQ65H7yuFNlAy2tlf0kR_UbHIZRl7fMLk7b8XLb5QNQgPSP3K-Sm3AmVikK9botG9vywUE01jW3VlmY8einrfLvaPnVTBa6O_0Os6CrbJqjJ40UWEPWVF2otQk17qAxLi0EwOtk3N2Mn6y6EmaaXTdOZZCbJCcBaN0F9STi501dvMIep3rW1LnwZR5VWP5ZcfvwWqX8HUC-52jATtz7wt0t1l5ZxwsyEW352ofgfoXttPs0Gmg8_6sVIoJ9Qug8yHU2Aa_oXKWog5kfg2ugA0U0-sgv17SpPc_xkmutFGV117cFlHVK7o5w4E0P0Rk'\n",
    "Markdown(decrypt(task26, \"\"))"
   ]
  },
  {
   "cell_type": "markdown",
   "metadata": {},
   "source": [
    "**(27) Python task:**"
   ]
  },
  {
   "cell_type": "code",
   "execution_count": null,
   "metadata": {},
   "outputs": [],
   "source": [
    "task27 = 'gAAAAABdbl3HSdkUHsRVb7p-a-F-vjzPoOw2ffZd3KUWgElAaiM3e6DSEluDLdtNumQS5BJUD7CXUPdIpVEarDoUktw30CZFiTjUMj7w6L5T05Vhxn4YlgMW7b0fDEJWbqfNqLaB6hP0c0qnyHQePuUi6zc_EPsnR_5S7Bghd7CU7wY4qG4_REuVDN4BHB8mnNrCTzE07G2FN5KnqmB_ZbVJEg8RYxYZ0JhBlny_9S302VzxEqWbeaEALo21Q1SOeyd7YzereIxS1F7PwdyelNREjvBPWDuOPTr5dZBDy9AK23kZ5KaQz_3Btyn1HlnIonH-MjWzMsD6aAXkdqlKP5V9GIA8sYQQZnDESb8cZdMJd704ryRt0pW0dwV6qjEoLjKP_shH1ddwx-4rFAmbEk7O0TGUrnDXyJikTz31O4y0A-6bn1Et6SfxlGgdL8Y_whd_kZM5_q6SdcyQp1eHgjufRKwPE8hMgc0fEViS6x88cqk1tOssQqaIb1wEXj5NNVFBnrdTVAGGhGrj7NE8S8l8lWBqWXGTwtIEPevjZU-3WPP1sO4az3BGEDeFgnIwqXlPbdu4bSF-x11BjccqwlTY6dcZVhlzDDrWc6Ry42jBgwA5frVK-QCQURCu6qy0HPVgvktsn9Z9z9sWyywH1tFHfBL8lZ9nUu7n6ugJpa3m2kFEoxLLQw-wB8g-lssGUH9-TJQiirGQM27HTNJ2BO7ERA0EC31Kf9pz-6KGXzNzV57RuoQsOaufMwPrWBCXY41HXjDT4KwGFBIv7YIcbEdeKgtAXGAO4kMeRyFYJyYLqhsQbEdvMVP1qVYPGChIeg77QdBL-2uoPqPMgSOQDolDiVWDtECwrx36hfEtz7kXOMzgI66jsWPedTCNEjk2k-FxwusRs7XShm3pRRHUy4CzA6S0o9R3S164PTmSD6klajvD3cElqfOjNdyprWeHwJazmqGTI1XM9cuWS82VP0zGRdGaAgf_MdOj5eucBw8pxGZusCuoP8nkmvcVJXPrI7eCzG5aQrDJVECcTQPIe1SWmgdiIf2Yd9DWI0u6xACXKsEIsyG2NN4='\n",
    "Markdown(decrypt(task27, \"\"))"
   ]
  },
  {
   "cell_type": "markdown",
   "metadata": {},
   "source": [
    "**(29 BONUS) Chemistry & Python Task:**"
   ]
  },
  {
   "cell_type": "code",
   "execution_count": null,
   "metadata": {},
   "outputs": [],
   "source": [
    "task29 = 'gAAAAABdbl4iJk_yaecRs8XQw7avh8Ahww_WhvHXlTVbY8rTNan3eCF3U3j5lcYJuJp4KIyAlOCNCIjfAf4eaBcC9HxUHG554g-WFi0rjsE-rKyuN5FQ7vKKUrg62DW_Fnza70WJj-Tkdbo7M8dxzOEdGCn98coSgF8qkeQNT9cf2AXH5NeT0X18pDpKc5okakMYLR2DHu-CF2Ic8citJhi-d8cfnEBJQKZB6GDvSj4kAKcBYOBfMSaFTI28TY_1k0E0Tj4_xMmFq1UNYrB8SwLYH-3lOeaRG5v9tq43xm6ArrRb4jN_wbz2FG4th-2cmhZm5nbu_A19EQr0TbT_9fT1i-ZeLTxKTLETrznTQYQgP89FBcolHC09poQ_--BQruUy48AQij4-QGCY_HUJh8Exaq8GnCxXR2uxbZVzXPrh2JqOomUy0stmq1jk2ylvUI60dsOd4VJXvObOhW-qwh9563RyY3FrEX8tA_lok5dZZxM9_pg20LjRIoGmXq47IqpShM4GDGUqP3mExmkYS90HaUs5ZgkYTKFt5K-5kuCpAaHzBPXM4vwoF6JvjCwB__5SDDLkRHmqwfOM_7ftOotrBsSouH9qtIfSZcDkoGqAKO5M50454tSnQ7pA2fwgDokyQK-QFAPWyHBvNtnpedJq0mNjhLq6iWD86PstBiZmeqh74cssJiBIjYTxiuMAi3BMLeT5lfaLyy7IzpNHMdMjSGJZ8hdRL_NTuR5_gAeos4AxG8WbTrGm8KQoqMpG0ynDQlb35Hma-CSKwUlv6VIYo8-y0lNXFueNU8VSo7UFn93D8rFBfeUuqeXLY7Tg6juWxj-7JLl_va3vWO98rOvcEuO2gVFjWaP84Zz3eN5-77HEr_YgKds9J_7C6JB7KvQX13r7-st1DGD7RAihsA8hgQZ6YTS-fHhYmSgQp9eWQmarl_anJmYlCjxKSwHQ3oYNv09tqm1hke41fuswTedNDy1Qt_VaTmCC5UREvch8uCZvahCB-1g='\n",
    "Markdown(decrypt(task29, \"\"))"
   ]
  },
  {
   "cell_type": "markdown",
   "metadata": {},
   "source": [
    "**(30) Python task:**"
   ]
  },
  {
   "cell_type": "code",
   "execution_count": null,
   "metadata": {},
   "outputs": [],
   "source": [
    "task30 = 'gAAAAABfUQfYzOE8Kgd5ZCWBi7uvO-1L6MFRR82i2LynmLFP8Yff-cDiTpf7o9xdtwRS8Msb2k-0LbfYUVWY7J5kq_b5iuVfaXx7ttNVistt-G5BtEGVRXsXO7eoByuw6oh6B0rEKKkO_6flpZm1Cqc0WgCTean9k7eX-GyVh8nE2-8aQg9fdHOEazwub3iO1BQCHwGzLppwzfU1XoMvhgDv2mENELS5LgylcQWFTPAsTC5EP7g38c3iGPA1gize3YCBz8BDPSVfXiP3ivvjVMZ9KhCim8nPOaAdleIIyKwSHW2c9pbgRazNa4DrYQ9_8ge7s9q3omxvUlUjdBusU6xrhMvW8PhV8NWebqJGo1kn-u37VfxDAq_wRR6pzYAVqXjWygx_b8Tn5yA3dwCrOxtXoDNtv-S4oVYcR4efK41Mj7EI7bK6agFdEhlHa2qdI9pqHDMkKCauv5xzlKfUY3_jetD60lArLiRqleGSGo9zb0xlbOnpXQvg001BJreQeDahzF3qz1rd' \n",
    "Markdown(decrypt(task30, \"\"))"
   ]
  },
  {
   "cell_type": "markdown",
   "metadata": {},
   "source": [
    "**(31) Python task:**"
   ]
  },
  {
   "cell_type": "code",
   "execution_count": null,
   "metadata": {},
   "outputs": [],
   "source": [
    "task31 = 'gAAAAABdbl5xaOGXe3tYJgfAEUIvrCI94x4_LGVt3ZBr7HpTRSvd_Sq3UpYxbhgt1vs46anf011IgmHYvLhw9Ts_8sJGxAthio9JBEqCQlFdU7d0RllyP44qCzNi9DxmkU1O7hLbpLxrbNweo4piPwKU30vIaex0jeFdIdpRzPGlBZHv4Kw1dQxkSMi3DOPVIDBIzEVEdzE3etbwEhUm_7tf4gNv8RFNUR1jCNfaiN3HHGpiiiG-Jy2YsL_-YY1ORNHnx-gm2FhHLpv8fD65U8mkk-RC4uFrnZlGuXUvQmLPe2LZmzm1MfA61sIyr5aYtvhKtlbHcih5q_LZxpQp0aZazJwZ3O9GVvqN7TAsfOMfhKO2ALRzhpNrq6N5ylrtultHipLbBM48H-aJYk73YnRE2FgsCE0DkaULu7HsqrE4t7X14FN-kQjdZRAc5_EP4wvj3KbrkS0krHKhrcr1jCLhNrk3ZtMFa0pClYGFu0_HosoIuXLdsRDoI_orG4jHyJdg81BjV2p7i6edt7zkYkp09jtDUQsBkWco-vkVVBkHOD9Ip6sOP00hsrWdc4K5Cq-nY0luUSy2cv7JsRTooOkiIcQlOQWMJbNURYemE9ErXOjttdsZUltKN5WRX4KkBzw7ORqzE14aMO1e-yQqMMNBLk9wBUNXxvrEEdtZ2yg5Nd7tFj-YVrJJjKITrHwxDT1bD20VEL5A6ffab025JEgDQRtuoRLoGtEhrGVO7l7Bs3i642UgGuNFn1IW7u00O8EJJ8Znl69h'\n",
    "Markdown(decrypt(task31, \"\"))"
   ]
  },
  {
   "cell_type": "markdown",
   "metadata": {},
   "source": [
    "**(32) Python task:**"
   ]
  },
  {
   "cell_type": "code",
   "execution_count": null,
   "metadata": {},
   "outputs": [],
   "source": [
    "task32 = 'gAAAAABdbl7w1Vk37Kg3OwnJQBySQHXRJ2g5myioKbHazK4F7GVnpSbsqme5pbcow26cyxe7xD5CWG16Sy5VAKNIw33qGPBfs7YoZemKOuS6DSi0ym7UvZNWA_WnyLmSF-7NqDJywaPT_fAaKA_Uqo9WPAp9yg7JqcxwuCWXDH_O5yvBIu5UI1vASF31zHwFAAbbsk12bB0BwXUuNWRl3aGHdDW2HP-bz4VGikZxidgYFTSHV3urA0nPX9X7gJ5sbIorZX_6DLuJEjThK3MAWxC1m9rXvDfwoBOmcqYRt0Ck6wOYBLmZgK66YWP80i5oPe4uRVDP-2ub4upuKWnTLChlhlIlgq-HLqg1pNCdAEJZa2zAh_PuszYF-ShFOhMubZ-xxVIZ0_v6mp9MPsI4SpzZMUA_brFYWwqmGxUyrdOOvwrGGvQKlgxaFA3wCMtkBCM3VSab8hSoGEeQlTdiBIUobHJxdN6h7mykDH5EvBFEvF2SICyBp1j6wyNQnh_WFgDwhUBDkYHI'\n",
    "Markdown(decrypt(task32, \"Istanbul\"))"
   ]
  },
  {
   "cell_type": "markdown",
   "metadata": {},
   "source": [
    "**(33) Python task:**"
   ]
  },
  {
   "cell_type": "code",
   "execution_count": null,
   "metadata": {},
   "outputs": [],
   "source": [
    "task33 = 'gAAAAABdbl86BjsXYY_xCpnF4YjLQwDSxN5IKZUK9yGYPAsTi_7v1X0Mde9iUWVUFYQbOhe_GyWzLZrhPH_LmnraooYCrwkBGhi9gOM-co92eerX3WHDLz2GobDVVvZTHI9iwmyFKPtOMLdLvmTfsRHLMcXOf1SlGtrCgEK0vBDZtgREZX1T_XOP7B7sno93JaCtelM-1veF5nc3050STXIqqag3jwwUUTX1fd85kgNZPj3nT6GxEl98Ov747M6rT_xOA9UmD5S-Hu1AgKI_BiMz2sNTlAYI5_Hz3egDGBeao6-mg30uaC78HcGHC0M3quogps9sOalOZliryyM7M_hTsiI_c_8U6LcUrvzRZiiNVMCmTV5MmgPZG4C1zjz59gS6RbMEzTxZA2qZ2DjMuGLxXdvQ9BzrV4QIBjWjqm0Ox_uRXWGfwWvni-X4bGFhK6yxwNtfxBkws-Tz-SLQX1LTwyEiDh-9BU3cHixd80Bb0okfIuraU6D3ZEyZPsQKCQ0UMQhiC7R-4RrcwTwZJKMs3yT8_l0KpQIKlc312RcS1rxfCejvlKx7QBSY_djNXq_EQKa2cVrQB203fVKDD3ZDtbeJ8baXQLJVK73A4T5eCrBIlxwtjp67RrDMydmYlKUDIAG6wyvCPlvjOG2ZBboxzxyllZsPZk7Ap7lOZkUr94cDxilitBK-D-TPpwkf5xO9AkIY809E'\n",
    "Markdown(decrypt(task33, \"\"))"
   ]
  },
  {
   "cell_type": "markdown",
   "metadata": {},
   "source": [
    "**(34) Python task:**"
   ]
  },
  {
   "cell_type": "code",
   "execution_count": null,
   "metadata": {},
   "outputs": [],
   "source": [
    "task34 = 'gAAAAABdbl9uaYZ475-yrujSkq7R5gLAVMRf9cbZ5smSS8QWqsd2MscefhYeO19CiHjeFeFK1XJYtmMbGdg0u9errf50wWmptvecZBozsEEOEl05pwx8RYez4Aa3rPOA6bI8bnRYgO-2shYATqKpPbIL4NZ-mjKZS_JyDWJb0DEMbuU6xvbBi6KRbHzFdfgBtiVApBFshXHAc2Q_oPy5qlJyguxvZwEPaNQT4eexgOgXbDeY3WQD0VRwWdxC6wzjkCGNuBP4HEag8GHRioilfXKoGh0MUnUw3_5BS4xqkCNigvc5gSPJ7rFjON2q-OuiTNmh6sK_95F8LEIMV9rScE67w5p-a6nk3Ok6w-djhYOjBjJDmYXVPXcR2YNp4HOVr66gDs4Avppn2egUF7obzJlCCBHPoKkTtA5iz4PISaXxH6c8fBkJQNhr_eU7xVqGkTLyO7i8tK7jlaq695XsKBnV0XHbUMuHqvzhr3RP9RuMX26WPIHEc4aOnsEv1nIOq_0lYIF0QO0NrwYtXVVzRxziY0dJPoceQw=='\n",
    "Markdown(decrypt(task34, \"\"))"
   ]
  },
  {
   "cell_type": "markdown",
   "metadata": {},
   "source": [
    "**(36) Python task:**"
   ]
  },
  {
   "cell_type": "code",
   "execution_count": null,
   "metadata": {},
   "outputs": [],
   "source": [
    "task36 = 'gAAAAABdbl_jq6OEfZQUM1Mw8Zkr8WpjRByS9Ei3jwTWJzzU1GMxvLYlAMw2fKqJdtzaEBKX1tJJvINy3nAuwTqNyz-_wKBs3bQWxy5YOBNhEDCE9-YqU6WFXtXj8Hl01o-iMqR-FW5KeKWerR2QoDoYOveImW8NiDHJQntOk19rfTc49EkdXuZRpMs-dp8zm1XUgIZ93oumeMuH0YdWjQvzl2Q_ImCvsHafEouyQBtperm2l-pZ7McQuHhmL2nS76D-Yv3RStbXYnOvI9FndoQ-gnBnnjJmhz7wArK4Sdi0LLrNjKDMiIPG9tnLUceoQ-pYfAEjXw0YnDrBbuldB4coCkg7H-8NPzTezGZQKBtW_PmA8y55b0en22SBra2zqPKH8uB3E5ny5m8ocbaSJYIvAreP0rakfY0dZK_z5vZHB8hv_O9u0oegWM_tSItheBHsmMD4Al77uHsPZueFYofgnaG62AcsbhbD3Udf-t_8_87u73fe2a3dRHCeIQus9NFvrZvFjVb4sg4fkbDDStT_al6Gc4H-xrZfMt-TCe1VHRHzurCnVU6C5kNrMy7T2JTgOEjS9bKv3gmCPiOwekM2_YwK0qvZJ5Z43ShbTJCRiioCu4neNs0eqhTw-3h5k7GTyMrl8OFvtDiRvg2CGkhhUl7lEgrQwT6odc63MhbSf3ty0OEtHSDuTj-1lK7jKijne17sUJUa_LqWg8faeGSeTj-UO9a-aqCtNomdYscoBYKMll2UmSq4L__K4HtbXHvTjz0omPwwOA9Uuq1TjuZV5TiMrOqri5nkOf9pp6SyngbmYWvQTWvcU8OxlqNdOUUrvO34RFdgk8nV8kQlV1a2vUGYbfYgWik2UbTdMNzjKl0V16by21AvObayoMJOCvPQOt1QKdMUIEt9nsULusDFhZmRJffRp1omDfNTJzAmHSC1sc5H2N5wWwDsP4aR8mZ12AkSbBIv'\n",
    "Markdown(decrypt(task36, \"\"))"
   ]
  },
  {
   "cell_type": "markdown",
   "metadata": {},
   "source": [
    "**(38) Python task:**"
   ]
  },
  {
   "cell_type": "code",
   "execution_count": null,
   "metadata": {},
   "outputs": [],
   "source": [
    "task38 = 'gAAAAABdbmCO66aD7-Gskskn-vGa7surNOMjfvo1-C98tTnJ6HQUrp62LaY4PgBot1nmSf_XfiP3rgFB1lvwQ0DJyUKVecyNAjXkXiypyiB7atulDRMNA2OGO1R_XjZ49xIfTkqBoq5TieC1hnrgLfmW08HZkYnPyXruNClqir3jiETqwNjvC9C6-T4K8N2dD-057ZG7Fc-QCqi5ORMM3gcZCKxfDkXZDkLjh5DbjTv1Tj2bLysjiLnlLSaLF7p9GOo_uQCbSwqchTjuiiD41WkC9dflgF9CSP-Zkc0n-dX7SEurVkVA1YIShn0ZZ8gk6uqMLlaz9J-4rpv9pTMHBfB-SoQFL5TQpbgUrMBa1sdxYybqQHPnAxf2io6U2UQMN6S2wCD1390t5SD9qbNwGa0B_Jle7MzC0z2x9F5UiiYxBOFWH9kzOYoc5AMxu3l0KQ4_sshEl8m8n4fTnh76bBSvvySOOKEgnKONEdFy7xPYd5SR3p7OKcXmZ7I9BVgOL92pwgapT1lnjvj9HflYV5Kf__3rqMC-fUYhlnqz2g1mYhH5XxMoUpnZKHbakNZwIdyOqS0AbwOGI1Ss5tyz7SZ96naFNtzFgA9WWhWKcHcudV1sreQMD2yhTaHQBm-sgQT3KlSFbL0A4fJmkSntBn6MYurlcSPfK8H9zvLQENtwzGodmf_B0GDGpahws_yJxioEzSDe60dy3OEORvJVmRwSKxklwLzhgtZmKaXIruJjPl-m1jBOSX6K0nBMb9NuPYNSA_9pFAhgoPAax0hTJYbIwRJ7fCjjjZ3ekMe1RB1MteTOJnfeWmJF7MevlfIDEou3g-Y6eqPcQ3LTC-031i5bnrKzsxKm-PeY4BWm68IoPjLvGrow0PU-5o47Be29fit_fimdqT-am7D5_hT_Ds-sTAwp8t54JnOe_AEhyvFd-N0FskHIWBSDWnaGOPdDpJv-hqPV3bM8'\n",
    "Markdown(decrypt(task38, \"\"))"
   ]
  },
  {
   "cell_type": "markdown",
   "metadata": {},
   "source": [
    "**(BONUS 39) Python task:**"
   ]
  },
  {
   "cell_type": "code",
   "execution_count": null,
   "metadata": {},
   "outputs": [],
   "source": [
    "task39 ='gAAAAABdbmC5rno2q0axEInf6yGmy2SbwVXLw_OB62h_WorbhoOWYePkLsOrssNHSB3iyOOXS6qPrSbLfGvKJDB_lfLRW4cORzNwCouWCgBHhSdHdjy2phzGSoUqrYDqgxbQgEZ3mdsG6RCEbGs4qqSf9Iruyt9NzGyipKpcK4e9PJzHBrRwz2KcJJ2znd9i_n49aP-e87qQfc9C5EieLQihpVN7ozDF5qL73SSpZLqBB1pEa_m5XiGvLUfNcS3CcOE2CiRy7IMyCq_NUnGdiyGwqOSgiNmyJTG6Mqzmum8dF3diTeDMzCiDmrTT-83shWvfJ9hoendUXEiAw5Asgp6CVIfespkyw_YJ1ONYyyFRONqIC0rA-2dmgJW_g8re3MxREiv0Uf59jwqYq1UvEFclPHmj08YDHygpmM-FFJFAIaB81-iVhDPQHw-3jE9fzoj_TBOPDe90SdlkXVJ3A4zYxxoNY-knZlqT507hd--VL0kmZWOuUa-rzuMZ5oeC66N1nGZ-F4p9y1L1l4JuWuk6fu8xU_l2FcsHUnc6eN8JlI0Q8VJNlB3pDY1rDhQQR5XMxC2sYUGj_UJgPyPS5X8gj1uf2xNzJpbiW1JvBIuo26V5tYvOPh9VvmNthNaCcqUpZBnoteC2gXX-N_5t_rlZK_KmnVYHE7EsYIfL5lr-yHypjGoXf_y9I5M3KT8RHBL8_Pi2aqkhrZ2L1Qr42uE3qAj7r1NBX9ioaNO5OSQXnxaakdhh0-46Gj11cc5suIq_RJHyA8_-r6vLm_7qbeyoO_7XLFQeT9vSqJ8JqNvn_erXafLFBS_48kri_MmT_2vv_hxuV1uhA0yn01b11gtUdFlBlSRpPTljti-ee2XsFJfoDARWGIMeX7y7ox_OoDNO32e8Dzdb4lMM6Sst5ST7VSS_Iu_7c6A0j4EKeVIEI9FGgn47wCugMkW6ze4iHoG4iSHAXosGwabA5FmfyUrtdpkBqeU_nHp68Rm7gP7-Z9OUldxwCRId__SUPXS5Jifk_0wv9FzytY0CmZGmJ8SBvqCY-pVuF4YMe_Xe6eRu5gMgajsVuPPB5Xnk91ElgXz7Z-1wgnjw9V44vnVeKrEkD1lCyOKaHnGNh5lVXEWgobvpNLRKguBtKQYpk-rLXvgp4-dypEYHRHLZSdwjlE43cvJOzUej1NZmv9t235skjyfDrw9VY_khh1sxAbH5PmmQJvAlGpO9r4eEdcukne5rZPltRPMzDWmg-7_OAKTDruKLIPywKLpQWA-8cOYgyPUelZJwYcX6BB8qp4enPVxNWSLchoPHdxxBy1FmU4nicCFRUBcozjaVBoK9sLLIj1xvQRZI9pptRZ_tQzhi3QkDTQiOdLFLiNifpwV3SaMuF8xhTqQRZgIU8klNUuf3CXtT_mE2tZum04mUjEAhnuXpsCpyAjKhEXQBH7ze0WTcRh4U9bxufzU='\n",
    "Markdown(decrypt(task39, \"\"))"
   ]
  },
  {
   "cell_type": "markdown",
   "metadata": {},
   "source": [
    "**(40) Python task:**"
   ]
  },
  {
   "cell_type": "code",
   "execution_count": null,
   "metadata": {},
   "outputs": [],
   "source": [
    "task40 = 'gAAAAABdbmDjhVivpGcO5e-hkMr0CsjwsRvWsii4IBf_Ub3dTMuIQK6QQtdLw_cJAMEc_4K4A3Kw1O2XKUG_v_xkQEav2rg9MJC_66lhL0njXQtUXdFcH0xIgkBwlvozbmvuD3I71pmK_6aJk6AfHCp7_puzbk3g3Z-UdRnkEzSPZdY_h0KkUUeL7UHNv3fOf5vFbC2gsdZZhszrlpwC40qqMPx7CtmT3G-fKEn-APwCd16DgmiaNpyURFHQu5eD5nl1qMJ2ScSKL-r0UK7ink0tAIfKvzG2plogFV4e0lwRTSwo8GEVvpvyY-yOE3LyjiRQW15J9h9mqzSxE9R4JuBvEbuOubjrZ-a6fR1lUk4v8xr9RM_JtENIPNwMf4Qe-SxdW7l7ezjgzr2pD-3mn-azIOY6XsxTB_U-YYg5D18HiVpgS_Vz0Nzuwb3CV_rT820zOUlA5mVrv2KBAYUiYFBNy4i62TqLapLyC9MoFa7ip6P9_1jk-uth0ECnx_6px2HksNz37MTpCLxEDOEnUar6TLl2CsMKOR5wO1Tdjz9rB3iU14x9IkHW6uBxRZCWUWcN0zt4cCy9Z3F_x-Ka86EzugUAlRy8SEAG32DbwQzfwxt1f7es9uJdVQJxnPqrZDV07a-tMXDFazLlIhdI270usVRa15RReYZ4h_qKPiWishHLMBdEel235hUUkzGRT0vVxmOhq4ozOX9gmjoFBpPUkYIpsRaOJxwyvg2hNw53y8OQby5I4NyEh73TjTF5RjfKgXhROkfh0NNZMw7hKV41SQpX2UNK0drbVM2OUqS-yLmF2W7cr-ZOc-vHLX_nirGSFfmKe1GLnpi1i7prH009DgxC0w2qytz7hU9D5TGsbEj3k7c3d07iRd5fsK0SP7VQALugq-TqF9qqDGB0upG6FXZe8wkEF5BUkaCtijydfne7Lb5v--28nVM36bHECLE1B46HituI_GkPX_o4_83tGUS73ex5gWqfNJuvkvOpMXz7Md4CbXTgwnrGb7Zd2MND6FJ8GJuN94KnIj258seSZfGINma9K8njRXaqSQHcq_VUQ69LNBhEbrti4AOX2J_kBi9C90ygRBsWK3p6CoJGhFkWug9auv8PJbkZbUQwKIFk7p7UkjO1r_O1_IlF11M7o_xX49gOyd69YpS4Bg0-OeempZFUwNWJDj0cogixQ7lGwsfZCLJj1mpkev6CulBdcGMgymEQEuav5nHUMZ93YuPVKqdQzJ9jeuY1WqUXMpi1SXlyReFmzhgu8oD6EoHZ6s9_AobU_6yXaF0pab3Gsjr0Yly-GbFk-_wExW9OJMJq9y14TMHjFNl9Bt2YzWNC4JcasaYfqZRhatNuEu9vZH9vbvOBcV89qBCGbgSvZuTL3KTda2GXuZYvXpeep3gNACnw-XnONrq4kDtuQjOPV1phODLrngrTXSLJLQMqydgexWr4QPMhUBerZ54sIsl5XIdVzYs64j7T8o6neItJJfg7JFbYyOmEN17N2v8_AGBiNfH9JbMdfGnUctCmver12pIECyl2lsyCBILotkfCvoj441qZwBdraNsL-NIwHb5GvsQQUgSchixMKcfWca6ScAb4t77jfqMSDZ0vGoOI6xkdiXmLLcSXMwPoy1VoVPA-i1yUP9ZE8BAllheMFRLk-IKyQmtjjXYz-HZLgDVe5bQRCLCt7NbhszLRmdwAvU0mvCOnqJuH2cPCFoV8hrr2ao9_DRX5OFvG-AKEn8yRHrnJ8wVv398ijRayJcQWQyKqtPDA2P2UaTHpQFZeN9h7mX5zYnJY_yB99_Qq-KrL3XUmszV5XmNkfJquUo1KSQIUt1ciHTctCglJtA8borYdzMV9ayWKGXPcilXc8RboGDC9COzlaPFJS5wtNxLShIwx81Pfp04aJL1eyZ90zUM66kuTuw52oOZVKUg1iSQ9-H83AzPOrgp0d4dpsoZKsNDgpCkElV_nIMr13-NVFbA95yvGXIJn'\n",
    "Markdown(decrypt(task40, \"\"))"
   ]
  },
  {
   "cell_type": "markdown",
   "metadata": {},
   "source": [
    "**(41) Python task:**"
   ]
  },
  {
   "cell_type": "code",
   "execution_count": null,
   "metadata": {},
   "outputs": [],
   "source": [
    "task41 = 'gAAAAABdbmEo2i_sh1Rme8UED4hPOtpgIJ1u-UEtELZbZwSkRfHIQimdXwOsCzmAnZyiZeXRCCd5SB8bIhH_mah4Ls-noNsa7pyDVqrdsZIqPorrn2vasJafS-s-AWg06gPf2XoRc3JyR4ZdJpgpdMOIT0grZhZBcfeLpboIqXuN1PHvrFzpzoc2bq3CP08Sdo2UtP5K3-Ylx8f05E2F1v15wqEBeTltEAY2jnpR8kiokBuxjqIyQmydmxRx8imLtKwE_LqipdzO2dxJcnxM3Py7VRY9loazKc4RLRFZtFNmRotYmWSKCmx2BuQHGQF4nQn2312MTVZo6_r6ffbA2yZIqzSsu8A1fu1xkPpPIr4lQ81DulFiqAwzsBZr1FEdBjmABnZkdzPH8CRZlZjNIbFWJ2BiNeSffBCyypLzHEd400K71Xux8vV96xHyLLJstEbALeEV5u_Agd_KCNOxQuxmPfSnEp_7CMEwzo1hnp5fQZYdBTXwO5OzKtnfT_6YfTpbRj9DUoMy9UwYRFWL2d6OohwjUWkosC6lUAR7KviVLr44RXiGW7uc1cqs09oBMe9hGUXFHc6dFHhQKug0OPOuYzmkaGgD6zh504JdVTUEXVaEg39r3cFL9EXDYbpgO7zq7u4ZnDP0Yrgc8shRJ9gWsdXXS3qF4gL00m6N7BBrv_MXGtc55w0UABizFaMLOY3S9WrnjwbR9xQwuRGkM74l9dfVwRJ8SPYdOFjjln8GDMLMRg3hsXQL0oDyljzkaR5DnibuOzy8SS66ZTf43MUvFtF5dro5po21LvzyPLNbPL4ZMCPySephCroMeNtCBULEbakzAmvQIkEQYfFw_3ELE5TVdOi51RY-82147RZ70X-829cEcs7__xbV076C2VwCeG7A_PyKXT2dVfqU3TgNP939ZREnYSBA6k2vAr7nj5MhAgFhvZCq3BOxIRpgwrTSfcffX0p0uKoCjE0bTw_YyU8-sO5f9Mkl4xDqy9x4G-a6PdbripYdMipetVeJ4IvSI4a58nlJifuf8O3HQEECZ_qfYFB-RoF2p0FbUE5fif3tkwa0t-oE4D6qu748hakyDsHjw49zPd_frW37yRwSGrWIOXQyTLzcL33zb8Gq4UvMzx_JKFhpWI03y2Ovhrq9Nwk0KyOpqOlci1AiuK9_65rrQGYuXCgRTlX--2PwT6R2ZAux-aAVA0f7xg9ntW6voKGzNMUW936iEL2yZUIY_QtDhRrJuXDNTV4mJCJ77nqPHY1Z3l1m9DkFiKhr6d9As0kNGt19kgHCSdDzD52-QR8P593ou0Eo1cGhjYW4Vk_t6SBr0LYGpzNZqFipurYkLSaa56V-75eH9HVjpwFeNvSt3BWG1emZXeYditNOcSWoqsZDg8HFYpYR_00TerNJ5lQ4g_gFDCP4TaxITWan9mmkU1Ii_FVWmYyYaa2KChPqLUhW1AJZMQcYbi1uIXkLgSLXtAS7LQYSFv2k_wUbG5lqlGcDQW8jhsmMHLWJfa_kN6YY2iYnERqYTO6D54YsMOPa8oBnX25nOXwcQBS1UgCG0w0cnQdWpy_mcXidOOUAuWlunLCRojMU_X1Sf2OWOpsgZkBqsm82wGjc_j0uyk8CYkuTmB2wpLI8QrsB7fhagK16uH1YUnTY5rcj5toF5LoBDcd7wGnotvdlS7OAVIqMXhRQuxOtf2RJISPRR4eNe4Fh0an83gSILGbY4wHA6qWVVCIAiD9r-nsnPY2Md3VKZ_uVrQOau_ccuhN0TMgLQ_egwSzA9PqIUDkeakAfMoDVDI8uuVH_Nryo-xqnNlGmx5c25YtjvTDP1YWgP2j5nf9cwhy0dDwS9c11A7sr3GaP_nU7RjwcwOas1tA3w0LSgWltWJHIHQ3cd0nLYzPp31XsVkRb2ltGsA9iO1lHkNxbAl9ONiXK9ELnVyUfpc94lpv4xi9t78ml_kbp6Tjb8VDQb5JBNDc-UhtINi0EevR9Sm0cdSW0mlh0asf5sRUpJ4agl5J171Y7931JqY5597KfJcNMhzbE0-To05FISBc3dYv8Fn1DXNMSZUdQCCKE6uIqo03Z7ODyBZEaFn8KB0XNxi2_6yziDQkkZTq0TKzmf59Mpo54uVurjc2Iag9NVDfzGTuHokwa10bRPjqA3tx4AOkd0qcu8C8m8aZOyQE79qTFJ_N0SyL0HXnYJ5oBy8kxr49Al9g3V0TbjsL4E6KnGo9RHi4-IFJpbombW55mrCxJhZoSOrPLsIjtvRWjvOZho8Gcq5KaIBU5IwPP2b1awXDQZDkK33RECktumhfTnSflfwuAUa4W3X8paYhcE2H3YmMIlcuxSx8BcIL3TqOepHEBSqV9-r-YobnEvkgs2AylKnwgVRBfcpT0U_nluEM7G_dQRAiRBU36IWMejb6S3OY-odYeYgRhbVC05Kh5M925WnA89xUg3e82fOZHbaNEiMtkX3vGpIUAfLcund4Y9Xbu4uDjsU2MoHUyJd3eSav9cJ5bnNfZ_NSiro4Rr_-HKi3p7iewSLCYwEs-7smpzdIqpsMKqAEHvPGbEJ1z5uAAQoXtm_abjfpszoYJyOz167DwcLsMS40PXsQpWl7AC3CeNZEamf_Ms0Z7ohujgSyc51jq3cPvP-FEATGsyQfhgjAS-6TpXS-hRzAx7b4OzPUtIiPGsU2HIthmLgD4PHwgbdLvG8x7Ib79G_en8-R6oYS5WIT_fokRA2_jgLb-O_1kxfv9fejrSevH-qzgFh1EjE4foNRzFZEhU8eu9Q-uzv04HFRnHh51PePYUbaBw9udqNPscK6Tl8PCJq9nM027HD5l-ffhpIX1qlkwN-0g3nea_VcEbhcJBUxAQuOfSE1aQ1wIkgjxhv9Epzsj9HoJ-9rKaD-uS00GFuzV0x2ISPnhxOJyuMVTaumWRQKshz8-gW69EZJlbbJkRQ9PqBLdDYsVdDFwVHC3XkBgD7NfGUds0qWSQL22H5SmMfCuGNfvT1nHe6kVmUGyNKSqoesiTyPvr2XaCBE7nx9cR3ff2gWJQ82iJNKFcwDf00QOpNpaQEkjuB_k_VBbZtftMyi5oLAXihG5ZBimS4u6GPxBE7YTWCbm9c2jKreG7iNQcPSro23k-EFu4NoZOwQN0kN3kskI8Xc1Fnsjt6RQ31fFAiArXsiU-bNR8-iSFL1CKb2MxmtUdH0HpNkDQ3n0e5loEiIcC-l9MP_LnFoFry_QKypeD477uCxQKJOv7zduemJ6qbjEOSZ6hXhmQhwWIbggzSrd7-O7Sl0KtT9oMDOxD43YTcmVfexU99rI7jjco1Dfw7XaadN8SNdFp7m8DKyACrc2LRp8sdUraPGYv__rdLey-22B7HRs_xsbEroycEEYiP5o0ihKcbNZYLcJEzUU'\n",
    "Markdown(decrypt(task41, \"\"))"
   ]
  }
 ],
 "metadata": {
  "kernelspec": {
   "display_name": "KEMM30",
   "language": "python",
   "name": "kemm30"
  },
  "language_info": {
   "codemirror_mode": {
    "name": "ipython",
    "version": 3
   },
   "file_extension": ".py",
   "mimetype": "text/x-python",
   "name": "python",
   "nbconvert_exporter": "python",
   "pygments_lexer": "ipython3",
   "version": "3.7.3"
  },
  "toc-autonumbering": false,
  "toc-showcode": false,
  "toc-showmarkdowntxt": false,
  "varInspector": {
   "cols": {
    "lenName": 16,
    "lenType": 16,
    "lenVar": 40
   },
   "kernels_config": {
    "python": {
     "delete_cmd_postfix": "",
     "delete_cmd_prefix": "del ",
     "library": "var_list.py",
     "varRefreshCmd": "print(var_dic_list())"
    },
    "r": {
     "delete_cmd_postfix": ") ",
     "delete_cmd_prefix": "rm(",
     "library": "var_list.r",
     "varRefreshCmd": "cat(var_dic_list()) "
    }
   },
   "types_to_exclude": [
    "module",
    "function",
    "builtin_function_or_method",
    "instance",
    "_Feature"
   ],
   "window_display": false
  }
 },
 "nbformat": 4,
 "nbformat_minor": 4
}
