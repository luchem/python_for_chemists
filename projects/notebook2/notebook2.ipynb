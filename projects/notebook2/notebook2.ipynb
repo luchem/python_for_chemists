{
 "cells": [
  {
   "cell_type": "markdown",
   "metadata": {},
   "source": [
    "# Kinetic and thermodynamic investigation of molecules using NMR\n",
    "_Mads Jeppesen & Stefan Hervø-Hansen, Lund University._\n",
    "\n",
    "### Intended Learning Outcomes:\n",
    "**1. To gain experience in using the following libaries:**\n",
    "- [matplotlib](https://matplotlib.org) for visualizing 2D and 3D data. \n",
    "- [NumPy](https://www.numpy.org) for manipulating and doing operations on arrays.\n",
    "- [pandas](https://pandas.pydata.org) for reading in data and represent data in tables.  \n",
    "- [SciPy](https://www.scipy.org) for fitting.\n",
    "- [rdkit](http://www.rdkit.org) for handling and visualzing chemical structures and reactions in 2D.\n",
    "- [nglview](http://nglviewer.org/nglview/latest/index.html) for visualzing chemical structures in 3D.\n",
    "- [nmrglue](https://www.nmrglue.com) for dealing with NMR data. \n",
    "   \n",
    "   \n",
    "**2. To gain experience in using Jupyter notebook relevant features such as:**\n",
    "- Marking up text and equations with Markdown and LaTeX.\n",
    "- Interactive data visualization.\n",
    "- Magic commands (%).\n",
    "- Inserting images.\n",
    "- Built in help functionality.\n",
    "\n",
    "**3. Understanding basic scientific techniques and models such as:**\n",
    "- NMR\n",
    "- Kinetics and rate equations\n",
    "- Thermodynamic modelling\n",
    "- Chemical notation: SMILES, SMARTS\n",
    "\n",
    "**4. Basic python scripting such as:**\n",
    "- Datatypes and objects.\n",
    "- Datastructures.\n",
    "- Loops.\n",
    "- Functions.\n",
    "\n",
    "**5. Searching documentation and help online** \n",
    "\n",
    "**6. Generation of publication ready figures.**"
   ]
  },
  {
   "cell_type": "markdown",
   "metadata": {},
   "source": [
    "## Imports"
   ]
  },
  {
   "cell_type": "code",
   "execution_count": null,
   "metadata": {},
   "outputs": [],
   "source": [
    "from IPython.display import Markdown, HTML\n",
    "import ipywidgets as widgets "
   ]
  },
  {
   "cell_type": "code",
   "execution_count": null,
   "metadata": {},
   "outputs": [],
   "source": [
    "import pandas as pd\n",
    "import numpy as np \n",
    "import matplotlib.pyplot as plt\n",
    "from mpl_toolkits.mplot3d import Axes3D\n",
    "import matplotlib.image as mpimg\n",
    "%matplotlib inline "
   ]
  },
  {
   "cell_type": "code",
   "execution_count": null,
   "metadata": {},
   "outputs": [],
   "source": [
    "import rdkit\n",
    "from rdkit import Chem\n",
    "from rdkit.Chem import AllChem\n",
    "from rdkit.Chem.Draw import IPythonConsole\n",
    "import nmrglue\n",
    "import nglview\n",
    "from scipy.optimize import curve_fit\n",
    "from uncertainties import unumpy"
   ]
  },
  {
   "cell_type": "markdown",
   "metadata": {},
   "source": [
    "## Introduction\n",
    "\n",
    "### The notebook\n",
    "\n",
    "The notebook is divided into 5 sections with two major parts. **Part 1** (section 1-3) is about the synthesis of paracetamol and  **Part 2** (section 4-5) is about Agostic/Non-agostic Interactions of a C(sp<sup>3</sup>)P pincer complex of iridium.\n",
    "\n",
    "**Part 1: The synthesis of paracetamol**\n",
    "1. [Visualization of chemical structures and reactions](#1)\n",
    "2. [Reading, visualizing and analysing simple 1H NMR data](#2)\n",
    "3. [Fitting rate equations to time resolved NMR data](#3)\n",
    "\n",
    "**Part 2: Agostic and Non-agostic Interactions in PC(sp<sup>3</sup>)P Pincer Complex of Iridium**\n",
    "4. [Thermodynamic Characterization of Agostic and Non-agostic Interactions](#4)\n",
    "5. [Graphical excellence](#5)\n",
    "\n",
    "\n",
    "In the first section you will learn how to show chemical structures and reactions using [SMILES](https://en.wikipedia.org/wiki/Simplified_molecular-input_line-entry_system) and [SMARTS](https://en.wikipedia.org/wiki/SMILES_arbitrary_target_specification). You will also learn how to show 2D and 3D representations of molecules. In the second section you will visualize the 1H-NMR spectra of phenol and assign the peaks to the protons. You will also visualize 2 other spectras. In the third section you will investigate the kinetics of the paracetamol synthesis and fit rate equations to time resolved NMR data. In the fourth section you will investigate the thermodynamic equilibrium between Agostic and Non-agostic interactions in a PC(sp<sup>3</sup>)P pincer complex of iridium. In the last section you should try to produce a publication ready figure.\n",
    "\n",
    "### Nuclear Magnetic Resonance (NMR) spectroscopy\n",
    "[NMR spetroscopy](https://en.wikipedia.org/wiki/Nuclear_magnetic_resonance_spectroscopy) is a spectroscopic technique that measures resonance frequency of the net magnetization relaxation of nuclei with [spin](https://en.wikipedia.org/wiki/Spin_(physics)) back to equilibrium. The resonance frequency is strongly dependent on the electronic structure of a molecules and its surrondings, as electrons sheilds nuclei from the extenral magnetic fields, weaking the field. As a consquence NMR spetroscopy is a powerful method to detect subtle as well as major changes in chemical structures. Typically the resonant frequency of the nucleus is not reported, but instead [chemical shift](https://en.wikipedia.org/wiki/Chemical_shift), which is the resonant frequency of a nucleus relative to the frequency a standard compound in a magnetic field.\n",
    "\n",
    "### LaTeX\n",
    "You will have to use LaTeX in this Notebook. If you want some help with writing equations you can use this website: http://latex.codecogs.com/eqneditor/editor.php. "
   ]
  },
  {
   "cell_type": "markdown",
   "metadata": {},
   "source": [
    "## Part 1: The synthesis of paracetamol"
   ]
  },
  {
   "cell_type": "markdown",
   "metadata": {},
   "source": [
    "### Paracetamol\n",
    "\n",
    "Paracetamol, also known as acetaminophen, is a medication used to treat pain and fever. \n",
    "\n",
    "### Paracetamol synthesis\n",
    "\n",
    "The synthesis that we will look at in this notebook is the one highligthed below in **Figure 1**. Phenol is first nitated to produce 2-nitrophenol (ortho) and 4-nitrophenol (para). 4-nitrophenol is then reduced to 4-aminophenol, and then finally acetylated to produce acetaminophen (paracetamol).\n",
    "\n",
    "<img src=\"images/Synthesis_of_paracetamol_from_phenol.png\" width=500>\n",
    "<p><center><b>Figure 1:</b> Synthesis of Paracetamol. </center></p>"
   ]
  },
  {
   "cell_type": "markdown",
   "metadata": {},
   "source": [
    "## Visualization of chemical structures and reactions\n",
    "<a id='1'></a>"
   ]
  },
  {
   "cell_type": "markdown",
   "metadata": {},
   "source": [
    "[SMILES](https://en.wikipedia.org/wiki/Simplified_molecular-input_line-entry_system) (Simplified molecular-input line-entry system) is a notation for describing chemical structures using [ASCII](https://en.wikipedia.org/wiki/ASCII) strings. It's extremely usefull and widely used. From it one can easily share/copy structural information and visualize it. In this notebook we will not learn how to write SMILES but we will learn how to use it. If you are intereseted in learning how to write SMILES [here](https://archive.epa.gov/med/med_archive_03/web/html/smiles.html) is a good tutorial.\n",
    "\n",
    "An example of a SMILES structure is [beta-Carotene](https://en.wikipedia.org/wiki/Beta-Carotene) (the orange stuff in carrots and the like):\n",
    "\n",
    "CC1CCC/C(C)=C1/C=C/C(C)=C/C=C/C(C)=C/C=C/C=C(C)/C=C/C=C(C)/C=C/C2=C(C)/CCCC2(C)C\n",
    "\n",
    "To visualize chemical structures with SMILES we can use a library called [rdkit](http://www.rdkit.org)"
   ]
  },
  {
   "cell_type": "markdown",
   "metadata": {},
   "source": [
    "### rdkit"
   ]
  },
  {
   "cell_type": "markdown",
   "metadata": {},
   "source": [
    "[rdkit](http://www.rdkit.org) is a library for cheminformatics and it can do a bunch of cool things. The documentation (although overwhelming) is found [here](https://www.rdkit.org/docs/index.html). If you want to know more about `rdkit` [here](https://www.rdkit.org/docs/GettingStartedInPython.html) is a good way to start. We will mainly focus on 2D visualization of chemical structures. To visualize a chemical structure from SMILES you have to write the following code:\n",
    "\n",
    "```python\n",
    "mol = rdkit.Chem.MolFromSmiles('SMILES structure') # replace with the real SMILES structure inside the ''\n",
    "mol\n",
    "```\n",
    "\n",
    " `MolFromSmiles()` returns a `Mol` object (a molecule object) from `rdkit`, that we in the code snippet above assign to the variable named \"mol\". You can always check the type of an object by using the build in function `type()`. For the mol variable you can do: \n",
    "\n",
    "```python\n",
    "type(mol)\n",
    "```\n",
    "\n",
    "In a notebook this can also be done by using `Shift + Tab` when the curser is located just after the object of interest. This will also give you the documentation for the object.\n",
    "\n",
    "Calling mol as above shows the chemical structure of the molecule in the Notebook.\n",
    "\n",
    "Remember that you can actually get acces to the function directly without writing all these \"`.`\". You just have to import the function like so\n",
    "\n",
    "```python\n",
    "from rdkit.Chem import MolFromSmiles\n",
    "```\n",
    "\n",
    "In the rest of the Notebook we will not do this for the sake of clarity."
   ]
  },
  {
   "cell_type": "markdown",
   "metadata": {},
   "source": [
    "**(1) Python Task:** <br>\n",
    "Visualize the chemical structure of phenol using `rdkit`. You will have to use the code snippet above to do so. The SMILES structure of phenol can be found on [Wikipedia](https://en.wikipedia.org/wiki/Phenol). Follow the link an search for the SMILES structure. It should be near the top in the description box to the right. "
   ]
  },
  {
   "cell_type": "code",
   "execution_count": null,
   "metadata": {},
   "outputs": [],
   "source": [
    "# -- YOUR CODE HERE --\n",
    "# ---------------------"
   ]
  },
  {
   "cell_type": "markdown",
   "metadata": {},
   "source": [
    "Wikipedia is not the only place to find SMILES structures..."
   ]
  },
  {
   "cell_type": "markdown",
   "metadata": {},
   "source": [
    "**(2) Python Task:** <br>\n",
    "Visualize the chemical structures for the rest of the molecules in the paracetamol synthesis (4-nitrophenol, 2-nitrophenol, 4-aminophenol AND paracetamol) shown in the introduction using `rdkit`. You would have to google the SMILES structure for each. Just google the name and maybe include \"SMILES\" as well. You will see it's everywhere. All structures you should be able to find either on [Wikipedia](https://en.wikipedia.org) or [PubChem](https://pubchem.ncbi.nlm.nih.gov)."
   ]
  },
  {
   "cell_type": "code",
   "execution_count": null,
   "metadata": {},
   "outputs": [],
   "source": [
    "# -- YOUR CODE HERE --\n",
    "# Show 2-nitrophenol\n",
    "# ---------------------"
   ]
  },
  {
   "cell_type": "code",
   "execution_count": null,
   "metadata": {},
   "outputs": [],
   "source": [
    "# -- YOUR CODE HERE --\n",
    "# Show 4-nitrophenol\n",
    "# ---------------------"
   ]
  },
  {
   "cell_type": "code",
   "execution_count": null,
   "metadata": {},
   "outputs": [],
   "source": [
    "# -- YOUR CODE HERE --\n",
    "# Show 4-aminophenol\n",
    "# ---------------------"
   ]
  },
  {
   "cell_type": "code",
   "execution_count": null,
   "metadata": {},
   "outputs": [],
   "source": [
    "# -- YOUR CODE HERE --\n",
    "# Show paracetamol\n",
    "# ---------------------"
   ]
  },
  {
   "cell_type": "markdown",
   "metadata": {},
   "source": [
    "Now that you have succesfully visualized the structures of the paracetamol syntethis we will now move on to writing reactions. [SMARTS](https://en.wikipedia.org/wiki/SMILES_arbitrary_target_specification) (SMILES arbitrary target specification) is a language for specifying substructural patterns in molecules and their properties. We will not delve into SMARTS here, but we will use it for writing equations. If you want to know more about SMARTS [here](https://www.daylight.com/dayhtml_tutorials/languages/smarts/index.html#INTRO) is a good tutorial. `rdkit` has a function that can show a chemical reaction:  `rdkit.Chem.AllChem.ReactionToSmarts()`. It takes in 1 `string` of two or more SMARTS structures and connects them with \">>\" to output a chemical reaction. In general it looks like this: **reaction**  :   \"reactants\" + \">>\" + \"products\"\n",
    "\n",
    "To convert a SMILES structure to a SMARTS structure rdkit has a convenient function: `rdkit.Chem.MolToSmarts()`."
   ]
  },
  {
   "cell_type": "markdown",
   "metadata": {},
   "source": [
    "**(3) Python Task:** <br>\n",
    "Look at the `rdkit.Chem.MolToSmarts()` function either through the documentation or with `Shift + tab` to see what it takes in as arguments and what it returns. Explain your findings below."
   ]
  },
  {
   "cell_type": "code",
   "execution_count": null,
   "metadata": {},
   "outputs": [],
   "source": [
    "# -- ANSWER HERE --"
   ]
  },
  {
   "cell_type": "markdown",
   "metadata": {},
   "source": [
    "**(4) Python Task:** <br>\n",
    "Now that you know what arguments `rdkit.Chem.MolToSmarts()` takes in and what it returns you should use that knowledge to make one string that designates the chemical reaction of 4-aminophenol to paracetamol (the last reaction in the paracetamol synthesis). You will have to use string concatenation to produce a string like this: \"reactant>>product\". Feed that into `rdkit.Chem.AllChem.ReactionFromSmarts()` as the first argument to visualize the reaction.\n"
   ]
  },
  {
   "cell_type": "code",
   "execution_count": null,
   "metadata": {},
   "outputs": [],
   "source": [
    "# -- YOUR CODE HERE --\n",
    "# ---------------------"
   ]
  },
  {
   "cell_type": "markdown",
   "metadata": {},
   "source": [
    "Now that we have visualized the structures of the paracetamol synthesis in 2D we want to show it in 3D as well. We are 3D creatures after all!! To do this we will use a molceular structure viewer called [nglview](http://nglviewer.org/nglview/latest/index.html)."
   ]
  },
  {
   "cell_type": "markdown",
   "metadata": {},
   "source": [
    "### nglview\n",
    "[nglview](http://nglviewer.org/nglview/latest/index.html#) is a molecular structure viewer that can be used in a Jupyter Notebook. The documentation (API) is [here](http://nglviewer.org/nglview/latest/api.html). It can show and manipulate the visual aspects of molecular structures (see [here](http://nglviewer.org/ngl/gallery/index.html) for examples). Before we can show a molecule in `nglview` we first have to assign conformations to the molecule. This can by using the function: `rdkit.Chem.AllChem.EmbedMultipleConfs()` and passing in a `Mol` object as the first agument. The function will assign conformations to the `Mol` object. \n",
    "\n",
    "When this is done we can show the 3D structure of our `Mol` object by typing: \n",
    "\n",
    "```python\n",
    "view = nglview.show_rdkit(<Mol Object>) # replace <Mol Object> with the actual Mol object\n",
    "view\n",
    "```\n",
    "\n",
    "Calling view as above embeds a viewer in the Notebook.  This will show the default version of the structure."
   ]
  },
  {
   "cell_type": "markdown",
   "metadata": {},
   "source": [
    "**(5) Python Task:** <br>\n",
    "Show the 3D structure of paracetamol using `nglview`. "
   ]
  },
  {
   "cell_type": "code",
   "execution_count": null,
   "metadata": {},
   "outputs": [],
   "source": [
    "# -- YOUR CODE HERE --\n",
    "# ---------------------"
   ]
  },
  {
   "cell_type": "markdown",
   "metadata": {},
   "source": [
    "Try to move the structre around with the mouse by holding the left click button down. Move the structure by holding down the right mouse button.  You can zoom in by using the mouse scrolling wheel."
   ]
  },
  {
   "cell_type": "markdown",
   "metadata": {},
   "source": [
    "**(6) Python Task:** <br>\n",
    "Find a function that can be accessed through `rdkit.Chem.` that can add hydrogens to the structure visualized above in **(5)**. Use the documentation or autocompletion (`tab` - remember to do that after writing `rdkit.Chem.` and your curser is right next to the \"`.`\") to find it. Use this function on the paracetamol `Mol` object and then visualize it with `nglview`. The function you find will return another `Mol` object and this is the one you should visualize."
   ]
  },
  {
   "cell_type": "code",
   "execution_count": null,
   "metadata": {},
   "outputs": [],
   "source": [
    "# -- YOUR CODE HERE --\n",
    "# ---------------------"
   ]
  },
  {
   "cell_type": "markdown",
   "metadata": {},
   "source": [
    "## Reading, visualizing and analysing simple 1-H NMR data.\n",
    "<a id='2'></a>"
   ]
  },
  {
   "cell_type": "markdown",
   "metadata": {},
   "source": [
    "1-H NMR data for each chemical in the first part of the paracetamol synthesis reactions has been recorded in an NMR experiment. The 2 spectra resides in data/NMR and the file names are `phenol.jdx`, `o_nitrophenol` and `p_nitrophenol.jdx`.\n",
    "\n",
    "**Open the raw data files in Jupyter**. This can be done by going back to directory that automatically opens up when starting up a Jupyter Notebook and selecting the file of interest. You can also open a file up directly into a Jupyter Notebook by using the [magic](https://ipython.readthedocs.io/en/stable/interactive/magics.html) command `%cat`. Try to get a feeling of how the files are structured before moving on. Don't worry to much about it not making sense. It will later. \n",
    "\n",
    "We will now introduce a new library called [nmrglue](https://www.nmrglue.com). It's very usefull library that can deal with NMR data and also do analysis on it. "
   ]
  },
  {
   "cell_type": "markdown",
   "metadata": {},
   "source": [
    "**(7) Chemistry task:** <br>\n",
    "In vauge terms: How is a molecular structure solved using  [NMR Spectroscopy](https://en.wikipedia.org/wiki/Nuclear_magnetic_resonance)?\n",
    "\n",
    "If you don't remember take a look at the wiki page by following the hyperlink or read the introduction on NMR in the beginning of the notebook. **Don't spend too long on this it is meant as an reminder for you.**"
   ]
  },
  {
   "cell_type": "code",
   "execution_count": null,
   "metadata": {},
   "outputs": [],
   "source": [
    "# -- YOUR ANSWER HERE --"
   ]
  },
  {
   "cell_type": "markdown",
   "metadata": {},
   "source": [
    "## nmrglue"
   ]
  },
  {
   "cell_type": "markdown",
   "metadata": {},
   "source": [
    "[nmrglue](https://www.nmrglue.com) (documentation is [here](https://nmrglue.readthedocs.io/en/latest/reference/index.html) can read (and write) NMR data from a bunch of different formats. The NMR data files are above in JCAMP-DX format, hence the \"jdx\" extension. Although `pandas` is a very usefull library for reading in data, it is sometimes more convenient to read in data using more tailored software. `nmrglue` has a function that can read in JCAMP-DX format files. It is called `nmrglue.jcampdx.read()`."
   ]
  },
  {
   "cell_type": "markdown",
   "metadata": {},
   "source": [
    "**(8) Python Task:** <br>\n",
    "What does `nmrglue.jcampdx.read()` take in as a parameter and what does it return? Use the documentation or `Shift + Tab` to figure it out. ALSO try to read in `phenol.jdx`, not assign the output to anything, and just see the output in and output cell. What are the datastructures (tuple, dict, list, sets etc.) it contains and what is does the dictionary and array contain you think? You do not need to know what each parameter means, like \"$NUC1\", but just get a sense of the general information. Describe your findings briefly. We will dig into the information a little later as well. "
   ]
  },
  {
   "cell_type": "code",
   "execution_count": null,
   "metadata": {},
   "outputs": [],
   "source": [
    "# -- YOUR ANSWER HERE -- "
   ]
  },
  {
   "cell_type": "markdown",
   "metadata": {},
   "source": [
    "Now you should have a generally good idea of the structure of the output format of the `nmrglue.jcampdx.read()` function. "
   ]
  },
  {
   "cell_type": "markdown",
   "metadata": {},
   "source": [
    "**(9) Python Task:** <br>\n",
    "Use `nmrglue.jcampdx.read()` to read in the all the NMR spectra and assign them to the variables below (Remeber the file names are `phenol.jdx`, `o_nitrophenol` and `p_nitrophenol.jdx`.)"
   ]
  },
  {
   "cell_type": "code",
   "execution_count": null,
   "metadata": {},
   "outputs": [],
   "source": [
    "phenol =  # fill out\n",
    "o_nitrophenol =  # fill out\n",
    "p_nitrophenol =  # fill out"
   ]
  },
  {
   "cell_type": "markdown",
   "metadata": {},
   "source": [
    "As you might have noticed from **Python Task 8** the data contains information about the measurement in the {}, including values to generate the x-axis data, and the values for the actual measurements in the numpy array. This means we can't go ahead and plot it naivly just yet, we actually have to create the x data for the NMR spectra and we have to set the appropiate axes units. In the output dictionary there's information about what the x and y axis units are ('XUNITS' and 'YUNITS') the number of points, ('NPOINTS') for the x data, and the first and last value of x ('FIRSTX' and 'LASTX'). Take a look back at **Python Task 8** to see what the values of these are. This is all the information we need to plot an appropiate NMR spectrum."
   ]
  },
  {
   "cell_type": "markdown",
   "metadata": {},
   "source": [
    "**(10) Python Task:** <br>\n",
    "Fill out the variables below using the \"phenol\" variable we assigned in **(9)** and use it to construct an NMR spectrum of phenol as the figure below WITH THE CORRECT AXES LABELS.\n",
    "\n",
    "HELP: You first have to extract the values from 'NPOINTS', 'FIRSTX' and 'LASTX' from the dictionary in the phenol variable above, into the npoints, firstx and lastx variables respectively. Remember to turn them into the `int` type using the python  `int()` function! Then use these 3 variables with `numpy.linspace()` to construct the appropiate x data for phenol andput it into phenolx. \n",
    "\n",
    "<img src=\"images/phenol_NMR_spectra.png\"> "
   ]
  },
  {
   "cell_type": "code",
   "execution_count": null,
   "metadata": {},
   "outputs": [],
   "source": [
    "# -- YOUR CODE HERE --\n",
    "# extract the data from phenol into the variables below\n",
    "xlabel = # fill out\n",
    "ylabel = # fill out\n",
    "npoints =  # fill out\n",
    "firstx =  # fill out\n",
    "lastx =  # fill out\n",
    "phenolx = # fill out\n",
    "phenoly =  # fill out \n",
    "# ---------------------\n",
    "\n",
    "# -- YOUR CODE HERE --\n",
    "# plot the NMR spectrum of phenol\n",
    "# ---------------------"
   ]
  },
  {
   "cell_type": "markdown",
   "metadata": {},
   "source": [
    "**(11) Python Task:** <br>\n",
    "Make the phenol NMR spectrum plot nicer (as the figure below) by:\n",
    "1. Only showing values with a chemical shift between 6.4 and 7.4\n",
    "2. Reversing the x axis so it goes from high to low chemical shift (which is the usual way of plotting an NMR spectra). The easiest way to do this is just to adjust the x axis.\n",
    "\n",
    "<img src=\"images/phenol_NMR_spectra_zoom.png\">"
   ]
  },
  {
   "cell_type": "code",
   "execution_count": null,
   "metadata": {
    "scrolled": true
   },
   "outputs": [],
   "source": [
    "# -- YOUR CODE HERE --\n",
    "# ---------------------"
   ]
  },
  {
   "cell_type": "markdown",
   "metadata": {},
   "source": [
    "Now that you see the peaks more clearly it would be nice to note which peaks belong to which proton and what the chemical shifts are. `nmrglue` has a function `nmrglue.analysis.peakpick.pick()` that can pick the peaks for a spectra. It takes an ndarray of the NMR data (such as phenoly as we have defined) and then a lower bound for determing if a point is a peak or not. It returns a `numpy.recarray` object that works kinda like a python `dict`. "
   ]
  },
  {
   "cell_type": "markdown",
   "metadata": {},
   "source": [
    "**(12) Python Task:** <br>\n",
    "Use `nmrglue.analysis.peakpick.pick()` to pick the chemical shift peaks of the NMR spectra and produde the figure below. We have already supplied the code for the peak picking. The peak values are returned as the indices of where the peaks are on the x axis. We have saved this `ndarray` of these values in the peaks variable. Your job is to find the x and y values at these indices (that is inside of phenolx and phenoly) and then construct two arrays with the corresponding values. Take a look at the code below. Loop through the peaks and add the x and y values (of phenolx and phenoly) to the x and y variable. \n",
    "    \n",
    "<img src=\"images/phenol_peak_picked.png.png\">"
   ]
  },
  {
   "cell_type": "code",
   "execution_count": null,
   "metadata": {},
   "outputs": [],
   "source": [
    "peaks = nmrglue.analysis.peakpick.pick(phenoly, 0.22*10**8)\n",
    "peaks = peaks['X_AXIS'].astype('int32')\n",
    "\n",
    "# -- YOUR CODE HERE --\n",
    "# plot the NMR spectra for phenol as previously. \n",
    "\n",
    "# --------------------\n",
    "\n",
    "x = []\n",
    "y = []\n",
    "for i in peaks:\n",
    "    # -- YOUR CODE HERE --\n",
    "    # append the values to x and y \n",
    "    # --------------------\n",
    "    \n",
    "# -- YOUR CODE HERE --\n",
    "# plot a scatterplot at the picked peak. \n",
    "# --------------------"
   ]
  },
  {
   "cell_type": "markdown",
   "metadata": {},
   "source": [
    "We can now assign the NMR spectrum chemical shift to the corresponding protons."
   ]
  },
  {
   "cell_type": "markdown",
   "metadata": {},
   "source": [
    "**(13) Python Task:** <br>\n",
    "Finish the Markdown table below. We want to assign the different equivalent proton groups to their corresponding chemical shifts. Starting from the left in the spectra. The triplet is the blue protons ($H_b$), then the dublet is the green protons ($H_a$) and the last triplet is the yellow proton ($H_c$). In this case we will take the chemical shift to be the center of the peaks, so for the triplets you can pick the middle peak, while for the dublet you can pick the mid point between them.\n",
    "\n",
    "<img src=\"images/H_of_phenol.png\" width=500>\n",
    "\n",
    "Whenever we deal with string formatting, such as in the creation of a Markdown table, it is convenient to use the [format()](https://docs.python.org/3.7/library/stdtypes.html#str.format) function. At the very basis level  `format()` will replace all the \"{}\" you have in your string, with what you feed into `format()` in the parameters. For instance:\n",
    "\n",
    "```python\n",
    "print(\"{0} {1} {2}\".format(\"I\", \"am\", 13 + 14))\n",
    "```\n",
    "\n",
    "will output \"I am 27\". \n",
    "\n",
    "Inside the string and inside the \"{}\" you can set the output format. For instace if we write \"{0:6.2f}\" it means that we want the first parameter given to `format()` (indicated by 0) fill max 6 places (indicated by the 6), have 2 decimals (indicated by the .2) and be a intepreted as a float (indicated by the f). Use this when creating the Markdown table."
   ]
  },
  {
   "cell_type": "code",
   "execution_count": null,
   "metadata": {},
   "outputs": [],
   "source": [
    "# -- YOUR CODE BELOW --\n",
    "Markdown(r'''\n",
    "| Equivalent protons   | $\\delta$ (ppm) | \n",
    "|:---------------------|---------------:|\n",
    "| $ H_a $              | {0:6.2f}       |\n",
    "| $ H_b $              | # FILL OUT     |\n",
    "| $ H_c $              | # FILL OUT     |\n",
    "'''.format(, ,)) # Fill out\n",
    "# -------------------- "
   ]
  },
  {
   "cell_type": "markdown",
   "metadata": {},
   "source": [
    "**(14) Python Task:** <br>\n",
    "Plot the spectra of 2-nitrophenol using the same criterias as in **(11)**. It should look like the figure below. Color it green instead of blue. We would like to distinquish the different sprectras in the notebook. Much of the code can be copied from the previous exercises. \n",
    "\n",
    "<img src=\"images/2-nitrophenol_NMR_spectra_zoom.png\">"
   ]
  },
  {
   "cell_type": "code",
   "execution_count": null,
   "metadata": {},
   "outputs": [],
   "source": [
    "# -- YOUR CODE HERE --\n",
    "# ---------------------"
   ]
  },
  {
   "cell_type": "markdown",
   "metadata": {},
   "source": [
    "Since the peaks of 2-nitrophenol is widely seperated we would like the figure to contain more information of the peaks as the one below in the **(15 BONUS)** exercise. When you finish all the non BONUS exercises you can come back to finish **(15 BONUS)** to learn how to make this plot. For now continue onwards! "
   ]
  },
  {
   "cell_type": "markdown",
   "metadata": {},
   "source": [
    "**(15 BONUS) Python Task**: <br>\n",
    "Make a plot like the one below for 2-nitrophenol.\n",
    "\n",
    "<img src=\"images/2-nitrophenol-advanced.png\" width=500>\n",
    "\n",
    "We can make plots inside plots in  `matplotlib ` by having multiple  `Axes ` objects inside a `Figure` object. To add an axis you can do use `fig.add_axes()` like so: \n",
    "\n",
    "```python\n",
    "left, bottom, width, height = [0.60, 0.23, 0.28, 0.28] \n",
    "ax2 = fig.add_axes([left, bottom, width, height])\n",
    "```\n",
    "\n",
    "_left_ and _bottom_ specifies the relative position of the `Axes` object in the figure. _width_ and _height_ specifies the size of the `Axes` object. All values should be between 0 and 1. Play around with numbers to get a feeling of it in the plot. \n",
    "\n",
    "To remove the frame from the axes you can do: \n",
    "\n",
    "```python\n",
    "ax2.axis('off')\n",
    "```\n",
    "\n",
    "To add hydrogens to 2-nitrophenol you have to write the following\n",
    "\n",
    "```python\n",
    "mol2 = rdkit.Chem.AddHs(mol2)\n",
    "```\n",
    "\n",
    "You would need to find a function that can save a picture. You have to go through the `rdkit.Chem.Draw` module."
   ]
  },
  {
   "cell_type": "code",
   "execution_count": null,
   "metadata": {},
   "outputs": [],
   "source": [
    "# -- YOUR CODE HERE --\n",
    "# ---------------------"
   ]
  },
  {
   "cell_type": "markdown",
   "metadata": {},
   "source": [
    "**(16) Python Task:** <br>\n",
    "Plot the spectra of 4-nitrophenol using the same criterias as in **(11)** and **(14**). It should look like the figure below. Color it red. \n",
    "\n",
    "<img src=\"images/4-nitrophenol-zoom.png\">"
   ]
  },
  {
   "cell_type": "code",
   "execution_count": null,
   "metadata": {},
   "outputs": [],
   "source": [
    "# -- YOUR CODE HERE --\n",
    "# ---------------------"
   ]
  },
  {
   "cell_type": "markdown",
   "metadata": {},
   "source": [
    "**(17 BONUS) Python Task:** <br>\n",
    "Plot all spectras side by side like figure below and make a tittle for each NMR spectra. Some of the code is already written for you below. Use the built-in funciton `zip()` to smartly loop through all combinations of the spectras and plot them.\n",
    "\n",
    "<img src=\"images/all-spectras-zoom.png\">"
   ]
  },
  {
   "cell_type": "code",
   "execution_count": null,
   "metadata": {},
   "outputs": [],
   "source": [
    "fig, axes = plt.subplots(1,3, figsize = (6.4 * 3, 4.8))\n",
    "\n",
    "for ax, spectrum, name, limit, color in zip(axes, \n",
    "                              (phenol, o_nitrophenol, p_nitrophenol), \n",
    "                              (\"Phenol\", \"2-Nitrophenol\", \"4-nitrophenol\"),\n",
    "                              ((7.4, 6.8),((8.5,6.5)),(8.5,6.5)),\n",
    "                              (\"b\", \"g\", \"r\")):\n",
    "\n",
    "# -- YOUR CODE HERE --\n",
    "# ---------------------\n",
    "\n",
    "plt.show()"
   ]
  },
  {
   "cell_type": "markdown",
   "metadata": {},
   "source": [
    "## Fitting rate equations to time resolved NMR data\n",
    "<a id='3'></a>"
   ]
  },
  {
   "cell_type": "markdown",
   "metadata": {},
   "source": [
    "Now we have explored the single NMR spectras of phenol, 2-nitrophenol and 4-nitrophenol of the paracetamol syntesis. Now we want to investigate the reaction kinetics of the nitration of phenol to procude 2-nitrophenol and 4-nitrophenol. One technique to accomplish this is time resolved NMR spectroscopy. The results of such an NMR experiment can be found in `data/NMR/mixture.csv`.\n",
    "\n",
    "**Open the raw data file in Jupyter**. This can be done by going back to directory that automatically opens up when starting up a Jupyter Notebook and selecting a file. You can also open a file up directly into a Jupyter Notebook by using the magic command `%cat`. \n",
    "\n",
    "It can be a bit hard to read. As before the x (datapoints), y (time) and z (intensities) is annotated as well as the first and last x is value. The first row (line 12 under the \"XYDATA\") is the time. The first column below the rime row is the x values for the data. It is not ppm, but has to be turned into ppm as we did previously. The rest the columns indicate the measurement as at a specific time, given by the time row (they should be in the same column).\n",
    "\n",
    "To load the data into, and to manipulate them in our Notebook, we will utilize the python library `pandas`."
   ]
  },
  {
   "cell_type": "markdown",
   "metadata": {},
   "source": [
    "**(18) Python Task:** <br>\n",
    "Use `pandas` to load in the `data/NMR/mixture.csv`. We have already supplied most of the code for you. You just have to read in the data into the time_r_spectra variable. Make sure you skip the headers and that the data read in are of the `float` type."
   ]
  },
  {
   "cell_type": "code",
   "execution_count": null,
   "metadata": {},
   "outputs": [],
   "source": [
    "# -- YOUR CODE HERE --\n",
    "time_r_spectra =  # fill out\n",
    "# ---------------------\n",
    "time_r_spectra.index = np.array([round(i,3) for i in np.linspace(0, 11, len(time_r_spectra.index))])\n",
    "time_r_spectra.index.name = r'$\\delta$ (ppm)'\n",
    "time_r_spectra.columns.name = 'Time (s)'\n",
    "time_r_spectra.index = time_r_spectra.index.astype(np.float64) \n",
    "time_r_spectra.columns = time_r_spectra.columns.astype(np.float64) \n",
    "time_r_spectra.head()"
   ]
  },
  {
   "cell_type": "markdown",
   "metadata": {},
   "source": [
    "**(19) Python Task:** <br>\n",
    "What does the `astype(np.float64)` function do and why do you think it is important?"
   ]
  },
  {
   "cell_type": "code",
   "execution_count": null,
   "metadata": {},
   "outputs": [],
   "source": [
    "# -- YOUR ANSWER HERE --"
   ]
  },
  {
   "cell_type": "markdown",
   "metadata": {},
   "source": [
    "**(20) Python Task:** <br>\n",
    "We will now now make 2 ndarrays, one consisting of the time and one consisting of the chemical shifts ($\\delta$). In the exercises to come, whenever we need to acces the time data or chemical shifts we can just call these."
   ]
  },
  {
   "cell_type": "code",
   "execution_count": null,
   "metadata": {},
   "outputs": [],
   "source": [
    "# -- YOUR CODE HERE --\n",
    "time =  # fill out\n",
    "ppm =  # fill out\n",
    "# ---------------------"
   ]
  },
  {
   "cell_type": "markdown",
   "metadata": {},
   "source": [
    "### Visualizing time resolved NMR data"
   ]
  },
  {
   "cell_type": "markdown",
   "metadata": {},
   "source": [
    "Before we go on we want to show you different ways to visualize time resolved NMR data. Open up the `time_resolved_NMR_data` notebook. the. Feel free to play around with the data and visualization to get a sense of what happens and what it looks like. "
   ]
  },
  {
   "cell_type": "markdown",
   "metadata": {},
   "source": [
    "**(21) Chemistry Task:** <br>\n",
    "From the above visualizations describe what happens to the NMR data as time progresses. Why do new peaks appear and where are they from?"
   ]
  },
  {
   "cell_type": "code",
   "execution_count": null,
   "metadata": {},
   "outputs": [],
   "source": [
    "# -- YOUR ANSWER HERE --"
   ]
  },
  {
   "cell_type": "markdown",
   "metadata": {},
   "source": [
    "Now to fit rate equations to the time resolved NMR data we have to pick 1 peak from phenol that does not overlap with the products (2- and 4-nitrophenol). This is where the pure spectras from the previous exercises come in handy. To find a peak from phenol that does not overlap with the others we have to plot our 3 basis spectras in the same plot. We can use the same colors as previous to distinquish them. To see that the peaks dont change their chemical shifts we can overlap our time resolved NMR spectra a time 0 s. Finally we can pick the unique peak from phenol using the peak picker from the `nmrglue.analysis.peakpick.pick()` function as we did in exercise **(12)**."
   ]
  },
  {
   "cell_type": "markdown",
   "metadata": {},
   "source": [
    "**(22) Python Task:** <br>\n",
    "Do the following:\n",
    "1. Plot the 3 pure spectras of phenol 2- and 4-nitrophenol in the same figure (with the same color as previously). Remember to set a legend so we can distinquish the peaks as well. Also plot time resolved NMR spectra 0 seconds in a black color. You can distinquish between the pure and time resolved NMR data by making the pure spectra lines a thicker `linewidth`. This we do to see that that the two spectras from phenol overlap. We have to justify this when picking a peak from the time resolved NMR data.  \n",
    "\n",
    "\n",
    "2. Indentify 1 peak (with `nmrglue.analysis.peakpick.pick()`) of phenol from the time resolved NMR spectra at time 0 s that are unique and mark the unique peak with a circle \"o\" in the plot.' \n",
    "\n",
    "We have already use the peak picker function for you. Your job is to make sense of the output from that, as well as doing the plotting. Your final plot should look something like the figure below. In this figure below we have selected the second peak from the left. \n",
    "\n",
    "<img src=\"images/selected-peak.png\">"
   ]
  },
  {
   "cell_type": "code",
   "execution_count": null,
   "metadata": {},
   "outputs": [],
   "source": [
    "peaks = nmrglue.analysis.peakpick.pick(time_r_spectra[0].values, 0.22*10**8)\n",
    "peaks = peaks['X_AXIS'].astype('int32')\n",
    "\n",
    "fig, ax = plt.subplots(figsize=(6.4*2, 4.6*2))\n",
    "\n",
    "# -- YOUR CODE HERE --\n",
    "# Plot the 3 pure spectras\n",
    "# ---------------------\n",
    "\n",
    "# -- YOUR CODE HERE --\n",
    "# Plot the time resolved NMR spectrum at time 0\n",
    "# ---------------------\n",
    "\n",
    "# -- YOUR CODE HERE --\n",
    "choice = peaks[#NUMBER] # number your choice of the peak you selected\n",
    "# ---------------------\n",
    "ax.scatter(ppm[choice], time_r_spectra.iloc[choice].loc[0], marker=\"o\", s=500, color=\"k\", facecolors='none') \n",
    "plt.legend(prop={'size': 15})\n",
    "plt.show()\n"
   ]
  },
  {
   "cell_type": "markdown",
   "metadata": {},
   "source": [
    "**(23) Python Task:** <br>\n",
    "At the chemical shift of the peak you chose, plot how the intensity changes as a function of time. It should look something like the figure below. Most of the code is already written for you. Fill out the peak_change variable. \n",
    "\n",
    "<img src=\"images/peak-change.png\">"
   ]
  },
  {
   "cell_type": "code",
   "execution_count": null,
   "metadata": {},
   "outputs": [],
   "source": [
    "# -- YOUR CODE HERE --\n",
    "peak_change =  # fill out\n",
    "# ---------------------\n",
    "\n",
    "fig, ax = plt.subplots()\n",
    "ax.plot(time, peak_change)\n",
    "ax.set_ylabel(\"Intensity\", fontsize=12)\n",
    "ax.set_xlabel(\"Time (s)\", fontsize=12)\n",
    "plt.show()"
   ]
  },
  {
   "cell_type": "markdown",
   "metadata": {},
   "source": [
    "From the above figure we can clearly see a change in the intensity as a function of time. Now we would like to fit a second order rate equation to the data of the form:\n",
    "\n",
    "$$ \\frac{d[A]}{dt} = - k[A]^2$$\n",
    "\n",
    "Where A is concentration of phenol as a function of time (t) and k is the rate constant of the reaction. "
   ]
  },
  {
   "cell_type": "markdown",
   "metadata": {},
   "source": [
    "**(24 BONUS) Chemistry Task:** <br>\n",
    "Solve the differential equation above. Write down the steps to solve it in Markdown."
   ]
  },
  {
   "cell_type": "code",
   "execution_count": null,
   "metadata": {},
   "outputs": [],
   "source": [
    "# -- YOUR ANSWER HERE --"
   ]
  },
  {
   "cell_type": "markdown",
   "metadata": {},
   "source": [
    "The solution for this differential equation is:\n",
    "\n",
    "$$ A = \\frac{A0}{A0*k*t+1} $$\n",
    "\n",
    "Where A0 is the starting concentration of phenol."
   ]
  },
  {
   "cell_type": "markdown",
   "metadata": {},
   "source": [
    "Before we move on to fitting this model to our data we first have to convert the y-axis into concentration. "
   ]
  },
  {
   "cell_type": "markdown",
   "metadata": {},
   "source": [
    "**(25) Python Task:** <br>\n",
    "We have a starting concentration of 10 mM of phenol. Modify the peak_change variable so that the max intensity is equal to 10 mM and everything after that is relavtive to that. If plottet it should look identical to the plot in **(23)** with concentration instead of Intensity on the y-axis. "
   ]
  },
  {
   "cell_type": "code",
   "execution_count": null,
   "metadata": {},
   "outputs": [],
   "source": [
    "peak_change = # fill out - yes you should modify this variable as described "
   ]
  },
  {
   "cell_type": "markdown",
   "metadata": {},
   "source": [
    "**(26) Python Task:** <br>\n",
    "Complete the fitting function (\"A\") below. It should return the equation from above. "
   ]
  },
  {
   "cell_type": "code",
   "execution_count": null,
   "metadata": {},
   "outputs": [],
   "source": [
    "def A(t, k):\n",
    "    # -- YOUR CODE HERE --\n",
    "    A0= # fill out\n",
    "    return # fill out\n",
    "    # ---------------------"
   ]
  },
  {
   "cell_type": "markdown",
   "metadata": {},
   "source": [
    "**(27) Python Task:** <br>\n",
    "Use `scipy.optimize.curve_fit())` to fit the fitting equation from **(26)** (\"A\") to the data. Using the built-in `print()` function, print k +/- the error in the output rounded to 3 decimals. "
   ]
  },
  {
   "cell_type": "code",
   "execution_count": null,
   "metadata": {},
   "outputs": [],
   "source": [
    "# -- YOUR CODE HERE --\n",
    "# ---------------------"
   ]
  },
  {
   "cell_type": "markdown",
   "metadata": {},
   "source": [
    "**(BONUS 28) Chemistry Task:** <br>\n",
    "What is the units of k and how does it compare to the literature?"
   ]
  },
  {
   "cell_type": "code",
   "execution_count": null,
   "metadata": {},
   "outputs": [],
   "source": [
    "# -- YOUR ANSWER HERE --"
   ]
  },
  {
   "cell_type": "markdown",
   "metadata": {},
   "source": [
    "**(29) Python Task:** <br>\n",
    "Make a plot of your fit vs the experimental data. It should look something like the figure below: \n",
    "\n",
    "<img src=\"images/rate-fit.png\">"
   ]
  },
  {
   "cell_type": "code",
   "execution_count": null,
   "metadata": {},
   "outputs": [],
   "source": [
    "# -- YOUR CODE HERE --\n",
    "# ---------------------"
   ]
  },
  {
   "cell_type": "markdown",
   "metadata": {},
   "source": [
    "**(30) Chemistry Task:** <br>\n",
    "Qualitatively speaking: How well does your fit compare to to the experimental data"
   ]
  },
  {
   "cell_type": "code",
   "execution_count": null,
   "metadata": {},
   "outputs": [],
   "source": [
    "# -- ANSWER HERE --"
   ]
  },
  {
   "cell_type": "markdown",
   "metadata": {},
   "source": [
    "## Part 2: Agostic and Non-agostic Interactions in PC(sp<sup>3</sup>)P Pincer Complex of Iridium"
   ]
  },
  {
   "cell_type": "markdown",
   "metadata": {},
   "source": [
    "### The system: PC(sp<sup>3</sup>)P Pincer Complex of Iridium\n",
    "It has been found by Jonasson, _et al_ (2015) that an agostic intermediate is formed in the reversible $\\alpha$-hydrogen and $\\alpha$-alkyl elimination of an Ir carbene complex. The intermediate was found to be in rapid equilibrium between the two distinct structures in solution as illustrated in **figure 2** below.\n",
    "\n",
    "<img src=\"images/reaction.png\" width=600 height=300>\n",
    "<p><center><b>Figure 2:</b> rapid equilibrium between the two distinct structures of the PC(sp3)P Pincer Complex</center></p>\n",
    "\n",
    "It can clearly be seen the chemical shift is changing as a function of temperature in the time resolved NMR spectra spectrum as seen below in **figure 3**. Contrary to the time resolved NMR data you saw before, this is fast-exchange NMR, meaning that instead of the peak intensities changes, the chemical shift changes! \n",
    "\n",
    "<img src=\"images/NMR_complex.png\" width=600 height=300>\n",
    "<p><center><b>Figure 3:</b> Chemical shift change as a function of time (from low to high spectra).</center></p>"
   ]
  },
  {
   "cell_type": "markdown",
   "metadata": {},
   "source": [
    "The chemical shift data was kindly supplied by the [Wendt group](http://www.kilu.lu.se/cas/research/the-wendt-group/) at Lund University, and are located in `data/NMR/H1_temperature.dat` for NMR data on hydrogen nuclei and `data/NMR/C13_temperature.dat` for data on carbon nuclei.\n",
    "\n",
    "**Open the raw data file in Jupyter** by using the Jupyter navigation browser and check for their content."
   ]
  },
  {
   "cell_type": "markdown",
   "metadata": {},
   "source": [
    "**(31) Chemistry Task:** <br>\n",
    "In vauge terms; why do the chemical shifts differ for the two hydrogens (proton in blue and protons from the methyl group in red) at 298 Kelvin?"
   ]
  },
  {
   "cell_type": "code",
   "execution_count": null,
   "metadata": {},
   "outputs": [],
   "source": [
    "# -- ANSWER HERE --"
   ]
  },
  {
   "cell_type": "markdown",
   "metadata": {},
   "source": [
    "**(32) Python Task:** Load the two files `H1_temperature.dat` and `C13_temperature.dat` into two pandas dataframes named `df_H1` and `df_C13` respectively using the `pandas` module. Make sure to include enough arguments such that obsticals found in the **Chemistry task 31** can be solved."
   ]
  },
  {
   "cell_type": "code",
   "execution_count": null,
   "metadata": {},
   "outputs": [],
   "source": [
    "# -- YOUR CODE BELOW --\n",
    "df_H1  =  # fill here\n",
    "df_C13 =  # fill here\n",
    "# ---------------------"
   ]
  },
  {
   "cell_type": "code",
   "execution_count": null,
   "metadata": {},
   "outputs": [],
   "source": [
    "# Look at the content of df_H1 here\n",
    "df_H1"
   ]
  },
  {
   "cell_type": "code",
   "execution_count": null,
   "metadata": {},
   "outputs": [],
   "source": [
    "# Look at the content of df_C13 here\n",
    "df_C13"
   ]
  },
  {
   "cell_type": "markdown",
   "metadata": {},
   "source": [
    "To get an easier understanding for the data we can plot the chemical shifts as a function of temperature."
   ]
  },
  {
   "cell_type": "markdown",
   "metadata": {},
   "source": [
    "**(33) Python Task:** <br>\n",
    "Plot the proton and carbon chemical shifts in three seperate plots side by side with the plots having correct labels. Attempt to loop over the Axis objects using a for loop, rather than setting the indivial titles! The plots should look the the figure below.\n",
    "\n",
    "<img src=\"images/part2_figure1.png\">"
   ]
  },
  {
   "cell_type": "code",
   "execution_count": null,
   "metadata": {},
   "outputs": [],
   "source": [
    "fig = plt.figure(figsize = (6.4 * 3, 4.8))\n",
    "# -- YOUR CODE BELOW --\n",
    "# ---------------------\n",
    "fig.tight_layout()\n",
    "plt.show()"
   ]
  },
  {
   "cell_type": "markdown",
   "metadata": {},
   "source": [
    "From the change in chemical shift as a function for the two hydrogen nuclei we can easily see a transition from one state to another, while it is less obvious for the carbon nuclei chemical shift. From those curves we will attempt to extract thermodynamic data under the assumption we are dealing with a reversible two-state model. Our two states will be the C-C agostic compound and non-agostic compound (see reaction above (**Figure 2**). Given the assumption of a reversible two-state model and a unique chemical shift can be associated with each state we can derive the observed change in chemical by the following equation (you will be able to derive this this later on in the course!):\n",
    "\n",
    "$$ \\delta_{\\text{obs}}(T) = \\frac{ \\delta_{\\text{agostic}} + \\delta_{\\text{non-agostic}} \\exp({-\\Delta G^{\\circ}/RT})}{1+\\exp({-\\Delta G^{\\circ}/RT})} \\tag{eq. 1}$$\n",
    "\n",
    "In eq. 1 $\\delta_{\\text{obs}}$ is the observed chemical shift at temperature $T$, $\\delta_{\\text{agostic}}$ and $\\delta_{\\text{non-agostic}}$ are the unique chemical shift associated with the agostic and non-agostic compound, $R$ is the gas constant and $-\\Delta G^{\\circ}$ is the Gibbs free energy.<br>"
   ]
  },
  {
   "cell_type": "markdown",
   "metadata": {},
   "source": [
    "**(34) Chemistry Task:** <br>\n",
    "Does eq. 1 remind you of any specific equation/distrubtion without the baseline signals?<br>"
   ]
  },
  {
   "cell_type": "code",
   "execution_count": null,
   "metadata": {},
   "outputs": [],
   "source": [
    "# -- YOUR ANSWER HERE --"
   ]
  },
  {
   "cell_type": "markdown",
   "metadata": {},
   "source": [
    "In this experiment, temperature perturbation has been utilized in order to drive the equlibrium from one state to another. Consequently the change in Gibbs free energy as a function of temperature can be described by the Gibbs-Helmholz equation (Derived from Dill p. 246, pp. 138-141.):\n",
    "\n",
    "$$ \\Delta G^{\\circ}(T) = \\Delta H^{\\circ}(T_{50}) \\left[1-\\frac{T}{T_{50}}\\right] + \\Delta C^{\\circ}_{p}(T_{50}) \\left[T-T_{50} \\log\\left(\\frac{T}{T_{50}}\\right)\\right] \\tag{eq. 2}$$\n",
    "\n",
    "Here $\\Delta H^{\\circ}(T_{50})$ is the change in enthalpy and $\\Delta C^{\\circ}_{p}(T_{50})$ the change in heat capacity both at the temperature $T_{50}$, which is the temperature at which the two states are equally populated. We will assume as standard $\\Delta C^{\\circ}_{p}(T_{50})=0$. Eq. 1 and 2 will together serve as our fitting function."
   ]
  },
  {
   "cell_type": "markdown",
   "metadata": {},
   "source": [
    "**(35) Python Task:** <br>\n",
    "Finish the function named ```twoStateModel``` in the following code cell below, using the variables taken by the function, which returns the result of eq. 1 when the change in Gibbs free energy is subtituted for eq. 2. Make sure to write a fully documented docstring for the function."
   ]
  },
  {
   "cell_type": "code",
   "execution_count": null,
   "metadata": {},
   "outputs": [],
   "source": [
    "def twoStateModel(T, offset_A, offset_B, T50, dH, dCp=0):\n",
    "    # -- YOUR CODE BELOW --\n",
    "    # write a docstring here\n",
    "    # ---------------------\n",
    "    \n",
    "    # -- YOUR CODE BELOW --\n",
    "    R = 0.00198720425864083 # Gas constant [kcal/(mol*K)]\n",
    "    # Modified Gibbs–Helmholtz equation (Derived from Dill p. 246, pp. 138-141.)\n",
    "    dG = # fill out\n",
    "    \n",
    "    # Two-state equilibrium with constant baseline for agostic and non-agostic signal\n",
    "    signal = # fill out\n",
    "    # ---------------------\n",
    "    return signal"
   ]
  },
  {
   "cell_type": "markdown",
   "metadata": {},
   "source": [
    "With the fitting function ready, we can use non-linear least squares fitting (`scipy.optimize.curve_fit()` ) to determine thermodynamic parameters from the non-linear fitting of the chemical shifts for the iridium bound hydrogen."
   ]
  },
  {
   "cell_type": "markdown",
   "metadata": {},
   "source": [
    "**(36) Python Task:** <br>\n",
    "Conduct a fitting of the thermodynamic parameters using the chemical shift from the iridium bond hydrogen. We have supplied some of the arguments for the `curve_fit()` function. Fill out the 3 arguments that are missing. Plot the results as the figure below. \n",
    "\n",
    "<img src=\"images/part2_figure2.png\" width=450 height=450>"
   ]
  },
  {
   "cell_type": "code",
   "execution_count": null,
   "metadata": {},
   "outputs": [],
   "source": [
    "# -- YOUR CODE BELOW --\n",
    "# ---------------------\n",
    "\n",
    "ax.plot(df_H1['T(K)'], twoStateModel(df_H1['T(K)'], *popt), 'g--')\n",
    "ax.plot(df_H1['T(K)'], df_H1['ẟ1H(IrH)'], 'ro')\n",
    "ax.set_xlabel('Temperature (K)', fontsize=14, labelpad=10)\n",
    "ax.set_ylabel('ẟ (ppm)', fontsize=14, labelpad=10)\n",
    "plt.show()"
   ]
  },
  {
   "cell_type": "markdown",
   "metadata": {},
   "source": [
    "From the curve fit function we have returned the fitted parameters in the variable `popt`, however we also desire to extract a full set of standard errors, as it is usually desired to report the nominal value +/- the standard error. Thankfully it is possible using the variable `pcov`."
   ]
  },
  {
   "cell_type": "markdown",
   "metadata": {},
   "source": [
    "**(37) Python Task:** <br>\n",
    "Using the docstring from the `curve_fit()` function, create a variable named `perr` that contains a numpy array of standard errors for the fitted parameters and print it's content using the built-in `print()` function."
   ]
  },
  {
   "cell_type": "code",
   "execution_count": null,
   "metadata": {},
   "outputs": [],
   "source": [
    "# -- YOUR CODE BELOW --\n",
    "# ---------------------"
   ]
  },
  {
   "cell_type": "markdown",
   "metadata": {},
   "source": [
    "We now got both fitted thermodynamic parameters ($\\Delta H$ and $\\Delta S$) at temperature $T_{50}$ and their associated standard errors, however one last thermodynamic parameter remains to be calculated from the obtained data: the entropy. A common difficulty in calculating properties from experimental measurements is the [_propagation of errors_](https://en.wikipedia.org/wiki/Propagation_of_uncertainty), which tends to yield highly complex mathmatical expressions ([examples here](https://en.wikipedia.org/wiki/Propagation_of_uncertainty#Example_formulae)). Thankfully a python package exists named [uncertainties](https://uncertainties-python-package.readthedocs.io/en/latest/#), which can make the propagation of errors a simple matter. The `unumpy` module was loaded from the uncertainties package in the start of the notebook using the code\n",
    "\n",
    "```python\n",
    "from uncertainties import unumpy\n",
    "```"
   ]
  },
  {
   "cell_type": "markdown",
   "metadata": {},
   "source": [
    "**(38) Python Task:** <br>\n",
    "Using the function `unumpy.uarray()`, create a variable named `fitted_params` containing a numpy array of numbers with norminal values and standard errors. Print the value of $T_{50}$ and the associated error."
   ]
  },
  {
   "cell_type": "code",
   "execution_count": null,
   "metadata": {},
   "outputs": [],
   "source": [
    "# -- YOUR CODE BELOW --\n",
    "# ---------------------"
   ]
  },
  {
   "cell_type": "markdown",
   "metadata": {},
   "source": [
    "**(39) Python Task:** <br>\n",
    "Create a markdown table using type `Markdown()` with the three columns \"Quantity\", \"Value\", and \"Unit\" using the `fitted_params` variable where:\n",
    "1. Quantity contains: ($ \\text{Ir-}\\textbf{H} \\ \\delta_{\\text{agostic}}$, $ \\text{Ir-}\\textbf{H} \\ \\delta_{\\text{non-agostic}}$), $T_{50}$,  $\\Delta H(T_{50})$, and $\\Delta S(T_{50})$\n",
    "2. Value contains the parameters norminal value +/- their standard error with 2 decimal precision.\n",
    "3. Unit contains the correct qunit for the quanity. Report $\\Delta S(T_{50})$ in cal/(mol*K)\n",
    "\n",
    "For help to create the markdown table consult [this table generator](https://www.tablesgenerator.com/markdown_tables)."
   ]
  },
  {
   "cell_type": "code",
   "execution_count": null,
   "metadata": {},
   "outputs": [],
   "source": [
    "# -- YOUR CODE BELOW --\n",
    "# ---------------------"
   ]
  },
  {
   "cell_type": "markdown",
   "metadata": {},
   "source": [
    "At this point we have now managed to conduct the same analysis the authors of the study conducted! However originally the authors of the study desired to simultaneously fit both the hydrogen and carbon nuclei chemical shifts. This fitting approach is called _global fitting_ and would yield a single set of thermodynamic parameters using the whole data set (called the *shared parameters*), while the base line parameters are calculated for each data set (called the *non-shared parameters*).\n",
    "<br>\n",
    "\n",
    "The functionality of conducting a global fit does not come prebuild with python, nor any installed modules in the kemm30 enviroment you are currently working on. Consquently we will attempt to program our own global fitting function which uses the function `curve_fit()` function from the `scipy.optimize` module. In the following, a series python tasks will all lead to the development of our global fitting scheme!"
   ]
  },
  {
   "cell_type": "markdown",
   "metadata": {},
   "source": [
    "**(40) Python Task:** <br>\n",
    "Conduct a fitting of _all_ the NMR data _simultaneously_ to obtain thermodynamic parameters by following the steps below"
   ]
  },
  {
   "cell_type": "markdown",
   "metadata": {},
   "source": [
    "**Global Fit (1):**<br>\n",
    "Create a numpy array containing the chemical shift data (for simplicity make it as a 1xN matrix)"
   ]
  },
  {
   "cell_type": "code",
   "execution_count": null,
   "metadata": {},
   "outputs": [],
   "source": [
    "# NMR data\n",
    "# -- YOUR CODE BELOW --\n",
    "# --------------------"
   ]
  },
  {
   "cell_type": "markdown",
   "metadata": {},
   "source": [
    "**Global Fit (2):**<br>\n",
    "Create a numpy array containing the temperature data (for simplicity make it as a 1xN matrix)"
   ]
  },
  {
   "cell_type": "code",
   "execution_count": null,
   "metadata": {},
   "outputs": [],
   "source": [
    "# Temperatures\n",
    "# -- YOUR CODE BELOW --\n",
    "# --------------------"
   ]
  },
  {
   "cell_type": "markdown",
   "metadata": {},
   "source": [
    "**Global Fit (3):**<br>\n",
    "Create a function named `globalFunc` which takes the temperature sampling points, the non-shared baseline fitting parameters, and shared thermodynamic fitting parameters and returns the result of the individual data in a numpy array. The step by step procedure is:\n",
    "1. Extract the temperatures from the numpy array `ComboData`\n",
    "2. Calculate the chemical shift using the `twoStateModel` function for the individual curves using the shared parameters for all curves, and non-shared parameters for the individual curves.\n",
    "3. Return a numpy array containing the calculated chemical shift.\n",
    "\n",
    "\n",
    "The purpose of the `globalFunc` function is to be passed as argument to the `curve_fit` and is responsible for the division of data to fit the individual curves, and return calculated signals from the current set of fitted parameters."
   ]
  },
  {
   "cell_type": "code",
   "execution_count": null,
   "metadata": {},
   "outputs": [],
   "source": [
    "def globalFunc(comboData, A, B, C, D, E, F, Tm, dH):\n",
    "    # -- YOUR CODE BELOW --\n",
    "    extract1 =  # first data\n",
    "    extract2 =  # second data\n",
    "    extract3 =  # third data\n",
    "    \n",
    "    result1 = \n",
    "    result2 = \n",
    "    result3 = \n",
    "\n",
    "    return np.concatenate((result1, result2, result3), axis=0)\n",
    "    # --------------------"
   ]
  },
  {
   "cell_type": "markdown",
   "metadata": {},
   "source": [
    "**Global Fit (4):**<br>\n",
    "Conduct the global fit using the `curve_fit()` function from the scipy module."
   ]
  },
  {
   "cell_type": "code",
   "execution_count": null,
   "metadata": {},
   "outputs": [],
   "source": [
    "# -- YOUR CODE BELOW --\n",
    "# --------------------"
   ]
  },
  {
   "cell_type": "markdown",
   "metadata": {},
   "source": [
    "**Global Fit (5):**<br>\n",
    "Plot the fit and evaluate the results!\n",
    "<img src=\"images/part2_figure3.png\" width=550>"
   ]
  },
  {
   "cell_type": "code",
   "execution_count": null,
   "metadata": {},
   "outputs": [],
   "source": [
    "fig = plt.figure(figsize=(8.4,6))\n",
    "ax = fig.add_subplot(111)\n",
    "\n",
    "# -- YOUR CODE BELOW --\n",
    "\n",
    "# values for display of fitted function\n",
    "A, B, C, D, E, F, Tm, dH = popt\n",
    "\n",
    "y_fit_1 =  # first data set, first equation\n",
    "y_fit_2 =  # second data set, second equation\n",
    "y_fit_3 =  # third data set, third equation\n",
    "\n",
    "# plot the raw data\n",
    "# plot the equation using the fitted parameters\n",
    "# plot the equation using the fitted parameters\n",
    "# plot the equation using the fitted parameters\n",
    "# ---------------------\n",
    "\n",
    "ax.set_xlabel('Temperature (K)', fontsize=14, labelpad=10)\n",
    "ax.set_ylabel('ẟ (ppm)', fontsize=14, labelpad=10)\n",
    "ax.legend(loc=0)\n",
    "\n",
    "plt.show()"
   ]
  },
  {
   "cell_type": "markdown",
   "metadata": {},
   "source": [
    "**Global Fit (6 BONUS):** *Do not work on this unless you have finished everything else in the notebook!*<br>\n",
    "The code for the global fitting scheme can be generalized to an arbitary number of parameters (shared and non-shared) and functions, and written into a module for two-state modeling that you can use in future work. As already stated this was desired by the authors of the study, but they did not have the Python course you do now!\n",
    "<br>"
   ]
  },
  {
   "cell_type": "markdown",
   "metadata": {},
   "source": [
    "# Graphical excellence\n",
    "**(41) Python Task:**<br>\n",
    "We desire to sum up all the results we have done in this whole analysis into one figure ready for publication. Reproduce the plot shown below in the frame or make it even nicer such that you would gladly hand it over to your supervisor! We have already produced some of the code below for you. \n",
    "Do you understand the plot? It should be apparent if you completed all the previous exercises. If you are not sure ask your instructor. All information on how to recreate the plot has more or less been covered in the previous tasks or been covered in the lecture. For intructions on how to create tables please consult [this link](https://matplotlib.org/3.1.1/api/_as_gen/matplotlib.pyplot.table.html). You can reause all the caluclated values / data from previous exercises.\n",
    "\n",
    "<img src=\"images/Graphical_abstract.png\">\n"
   ]
  },
  {
   "cell_type": "code",
   "execution_count": null,
   "metadata": {},
   "outputs": [],
   "source": [
    "# -- YOUR CODE BELOW --\n",
    "# Initialize the figure and the 3 axes\n",
    "fig = \n",
    "ax1 = \n",
    "ax2 = \n",
    "ax3 = \n",
    "# ---------------------\n",
    "\n",
    "# -- YOUR CODE BELOW --\n",
    "# plot the fit plot in ax1 as in python task 40\n",
    "# ---------------------\n",
    "\n",
    "# -- YOUR CODE BELOW --\n",
    "# plot the image in ax2. The image is images/reaction.png.\n",
    "# ---------------------\n",
    "\n",
    "# -- YOUR CODE BELOW --\n",
    "# plot the markdown table in ax3. Follow ling from as described under the python task 41 text.\n",
    "# ---------------------\n",
    "\n",
    "# Graphical settings for ax1\n",
    "ax1.legend(loc=0, fontsize=14)\n",
    "ax1.set_xlabel(r'Temperature (K)', weight='bold',  size=16)\n",
    "ax1.set_ylabel(r'Chemical shift ẟ (ppm)', weight='bold', size=16)\n",
    "ax1.minorticks_on()\n",
    "ax1.tick_params(which='both', width=2, direction='in')\n",
    "ax1.tick_params(which='major', length=7, direction='in')\n",
    "ax1.tick_params(which='minor', length=3, direction='in')\n",
    "for tick in ax1.xaxis.get_major_ticks():\n",
    "    tick.label.set_fontsize(14)\n",
    "\n",
    "for tick in ax1.yaxis.get_major_ticks():\n",
    "    tick.label.set_fontsize(14)\n",
    "\n",
    "# -- YOUR CODE BELOW --\n",
    "# Adjust the graphical settings  for ax2 and ax3\n",
    "# ---------------------\n",
    "\n",
    "# -- YOUR CODE BELOW --\n",
    "# Set title and call plt.plot() \n",
    "# ---------------------\n",
    "\n"
   ]
  },
  {
   "cell_type": "markdown",
   "metadata": {},
   "source": [
    "# ANSWERS"
   ]
  },
  {
   "cell_type": "code",
   "execution_count": null,
   "metadata": {},
   "outputs": [],
   "source": [
    "from cryptography.fernet import Fernet\n",
    "import base64\n",
    "from IPython.display import Markdown\n",
    "\n",
    "def encrypt(string, key):\n",
    "    keygen = lambda x : base64.urlsafe_b64encode(x.encode() + b' '*(32 - len(x)))\n",
    "    cipher = Fernet(keygen(key))\n",
    "    return cipher.encrypt(string.encode())\n",
    "def decrypt(string, key):\n",
    "    keygen = lambda x : base64.urlsafe_b64encode(x.encode() + b' '*(32 - len(x)))\n",
    "    cipher = Fernet(keygen(key))\n",
    "    return cipher.decrypt(string.encode()).decode()"
   ]
  },
  {
   "cell_type": "markdown",
   "metadata": {},
   "source": [
    "## How to get answers:\n",
    "```python\n",
    "Markdown(decrypt(task1, \"!!!TYPE PASSWORD HERE!!!\")) \n",
    "```"
   ]
  },
  {
   "cell_type": "markdown",
   "metadata": {},
   "source": [
    "**(1) Python task:**"
   ]
  },
  {
   "cell_type": "code",
   "execution_count": null,
   "metadata": {},
   "outputs": [],
   "source": [
    "task1 = 'gAAAAABdck5dGR7H0HOa-jJj6j4JqYLeVOL9dTwobH9AG7E77_58IRUmK8zhXSoggtEzZUxOP5tJqvtAQ84hfg-CITH8fLrFdQ8GBmnamCjrKNi5IOAunZmlkv1lIRxNbQZEjsmPzrCA4aCbzi5-UIwM6yDAK508EBpDGQBwn2MmtglNNcsfj9Y='\n",
    "Markdown(decrypt(task1, \"\"))"
   ]
  },
  {
   "cell_type": "markdown",
   "metadata": {},
   "source": [
    "**(2) Python task:**"
   ]
  },
  {
   "cell_type": "code",
   "execution_count": null,
   "metadata": {},
   "outputs": [],
   "source": [
    "task2 = 'gAAAAABdck56YCK67yO3jirRZLH7gNDNAj69T1qsEFEaEmtY6dszpkqKLIu4e-HeYqTUOrbDI6NtA3iNWwPvIjcglDnspcupJAugiyuH5LRmBjF_l1VbjmZntpRjxbIdaFxOKX3Yz6DlRcFNrFfNLm3b1yPqJA4p7b9dYXXEm50bI6LJ-LM3i4kQ-yq--4H1LltXTZffXCF9VM3HAR_7P4TRRjkDnCThoEnMRp3j2FeYopg9-6L-1ZSgmTzq87npLhAZWHw5U57-01XAKxK8ZS-3z-e70ExCVddFQzCktr-0d2OV_RBdEAHVBMt78kjqRhcny5G51tGOhYyyFn_7XXKdz_-BKLtiMkWcRXyxfg9oVCwoOAkuVGXghd8KCty4Iq54pIEUImDrUTvLS09OxCwfWXHMFz1Du2I0ccxs3QaP1qZDSHnnI_M='\n",
    "Markdown(decrypt(task2, \"\"))"
   ]
  },
  {
   "cell_type": "markdown",
   "metadata": {},
   "source": [
    "**(4) Python task:**"
   ]
  },
  {
   "cell_type": "code",
   "execution_count": null,
   "metadata": {},
   "outputs": [],
   "source": [
    "task4 = 'gAAAAABdck6aC7z3FBMBw-ziIK6BHkmAm0rjhPYeZ5WCqNfsOm590l_hJoXfylt2q-EGkK-G-5uUIXrJ0TPJiCeWnTqVqr0TsBQMyjXx-XMI3fhiYKz893WTJdcxMqL7l63NuIhh2dYXzK0o9wr8zmTfCby7QbhW0hCRloIRChlj1cithmIKNuPqMDmQHNzo4e3vU0Gvm33WJQP-QX7YfI6WlrnIBPeVoZwCFvzFM_gNUvouWOt1wFI62_CXTcU4G2xwKeCxzvEK'\n",
    "Markdown(decrypt(task4, \"\"))"
   ]
  },
  {
   "cell_type": "markdown",
   "metadata": {},
   "source": [
    "**(5) Python task:**"
   ]
  },
  {
   "cell_type": "code",
   "execution_count": null,
   "metadata": {},
   "outputs": [],
   "source": [
    "task5 = 'gAAAAABdck6wQ7vxmPpMR2kj4GilWXOqfksV39dtiGRuoE47Wc7xC6txTLcH6V6hOq298Rg5ljiaC2i1_m5rgWMZxK-TxOap49Yp4-BKwPFtAFSNtELEvKVRixDsNknlcNCK8CHBlSrY2_UKo1hoj5JkRv9A8nOpxmi3rH2alwUatnIl2QIC5L9j0lt3tAdnXHES8mYY5Btc'\n",
    "Markdown(decrypt(task5, \"\"))"
   ]
  },
  {
   "cell_type": "markdown",
   "metadata": {},
   "source": [
    "**(6) Python task:**"
   ]
  },
  {
   "cell_type": "code",
   "execution_count": null,
   "metadata": {},
   "outputs": [],
   "source": [
    "task6 = 'gAAAAABdck7SeY-S8UCzpiT-iFclB_0_vly1U9kUWJ2FgAIlLFG6oiROZSMzmNGja9qvtSJSB4Af7a__XSedPY34iPSeTVnTh1EUvowxPWwvdo1vmwISDav4ItEUeklGB66CKv0gNGQ-Of58lyA77vjoPqZ0OnHR3u8MuwmcEwVPfNTYc1fzDsG9Yhbzv8LcPe5h2BTNgu_U5p0q9Z0N0CDfE6vZS3jQIg=='\n",
    "Markdown(decrypt(task6, \"\"))"
   ]
  },
  {
   "cell_type": "markdown",
   "metadata": {},
   "source": [
    "**(9) Python task:**"
   ]
  },
  {
   "cell_type": "code",
   "execution_count": null,
   "metadata": {},
   "outputs": [],
   "source": [
    "task9 = 'gAAAAABdck7s-ewhx0LDDlJ09aLp3CYJ77YASnEcwM3WGePx3r8Hx1Wp-QmSOr8RHqsAMOIto2YPuqbdP6BwWp0Dzk8gSaOmkSdIDPYArg5S3kigTu99nLY8yF7ccXcMS8W0WtCih6nlwQWcPVezgQUtFou47CXKNIXNMj0raersaRPkZgwgAVtzwmL_-cHx5UrjaikIdMEPlTf9TtipSSuNjNdiStNbJu79wj3SydSj29Uz_KCIz7taOPKFW8-6w2cxKVCGH69n5DbWNurg6e9uINQcGwmsVfKGEanUOa4O5-WP0XSkZdkjUe1GNk9Zl-ARiESykX216H9_2FLavhsOO-BLzFJpNQ=='\n",
    "Markdown(decrypt(task9, \"\"))"
   ]
  },
  {
   "cell_type": "markdown",
   "metadata": {},
   "source": [
    "**(10) Python task:**"
   ]
  },
  {
   "cell_type": "code",
   "execution_count": null,
   "metadata": {},
   "outputs": [],
   "source": [
    "task10 = 'gAAAAABdck8CGZb7NTfj5AUppU9bsx1gIPfSKBNEze39E_vvZlmVy_fzLzEKDhL2qBj4Ba-adgowxqoWO4sbdmyXD39QGvj-dWg2LWR20-ARgOBRpXuJb-9UDrMooeSLjuyg1dp4nO0F1neI80dW68nPdZBFoc54wSyUuklyrkmvdldgBG57FdJCzTj7NbU-hBgpioYmfQ6QQNJcweUzh7IP7ejz_Kyr3oQ7Ei8Sc9xh-BJeLT81iuvcfrFpMjMZTmY9YI907kzI0-QOvchvNvT2Eyx0jb-cFAsiETB7TpJ_Ox1pyHGWcF-dRL2-Z8eFH-W0YJa3WmYLNQrXgBGV7ExDa5eyRhv16qJkfndVfR2GOOrAr-Cm0dS0LiRbXy8HdSC_yzHJnpr9HKassoR52rEJI_JLk5d0ySHh-bbu5VKHTZQrEL2bOIxbZoI-Ed94bvo1BGOGZkcLmbdrDVQQm_EJLUUGFLelIaG5o_I1y7YL1txNjYkVd9PD0oSVmdeqeHfYOqRqHxDNXyShTyWRcpBeaPkChmEsoeI790haokvK-H7qjH6t94wbJbZDiJ4VmpvJMQr1iz_HWUgVsfvXVccwlyJaNcxs68-rns0om___ImL8_LPFd8cH17_oNyDbcqfMkoUatHk7pK9crHxeDsEuxiU0Ok6-IeFA_luui_VWGkamaxw3AgpV4gVwiySDCQNmLpg95P7y'\n",
    "Markdown(decrypt(task10, \"\"))"
   ]
  },
  {
   "cell_type": "markdown",
   "metadata": {},
   "source": [
    "**(11) Python task:**"
   ]
  },
  {
   "cell_type": "code",
   "execution_count": null,
   "metadata": {},
   "outputs": [],
   "source": [
    "task11 = 'gAAAAABdck8aqZivk6S0qGrOvoh0ib1cC0A83BowbmWHcP95n4pWRQCIfjKSBell0u-hq8SvBWBrgGUB76iy2JDuwh0I4te90GMwC436V-VhEePcVw01P_ehL0-UJxHlZTenTaNSx3sedDa_QNAoSPdLn5rZIZzlNNRQbMSXyGMG1PnuPYSxgiz8hbFkfSWUVJmRDLDCaZcwp6FA7h6glQp_KnFBAkN9PKpmurKPGZwyGwNKJkcWEW5Lpw7cCYcW-NW5-8KK3sXFmkaaq5gyixB8OmBjgWjmYvUxAY7vjWBKI9uZVWiUJfTDrED2sEr7E8IQnZFBJNAvQk3tL3iO_P3i75FVH__rgi8KBsBfOcyBsOUljk-9OR4='\n",
    "Markdown(decrypt(task11, \"\"))"
   ]
  },
  {
   "cell_type": "markdown",
   "metadata": {},
   "source": [
    "**(12) Python task:**"
   ]
  },
  {
   "cell_type": "code",
   "execution_count": null,
   "metadata": {},
   "outputs": [],
   "source": [
    "task12 = 'gAAAAABdclG4-R7s5sqQWcNRQXUQWMFmMgYvEw7ZxglyN6YMvyGAYxx6GVwcWCGIvQIQyj8LMQW-n1S-gbU4SurAvi0yX0wjdhlLrCaoxTul5Xc3HBCA3FlDdeKX51QcvsTGubZTTv4m2gOWtjPrOCbpe0_haHmbulnVA7IKHJI3qU4MjZ99yJHX0hXA7uvh_nyOin8RU6RTLPPlD6wWL0XWQsDeL7jM0mg-nZ0M8PkewtPR55nBJWIhsIx6-UiZXffiw-KsvvwO_qlsxzdGJUGlwSeFxhGep_CwqjfZTITcZQWnrlo2rNShauFS1zrFIBt4GAWbyUT8UH7i0eVHNfe_7ZKTAOW0lEZCsUZkqZdt-Fa86blavPf_Ekb2XVWG8ROBYI5CH191uYZnyqQCngdhR2Tzf-2-AIoyeTIZ0KMxsINC1bTCZGBP4qjo0ZiU8CFVs699Cg_L9niyytAuuWEX8wjIKxRcT1dzrTc1nJnp5cEtvYPM7IVZLn9O8HKgmZVKQFv5g_1voI82kJoUb06iyedzNIHXeeED-HZF48wzAEwqUvZzYfrFG_tzKkarKEGO9VliZRHbQnzKnrAI-XqscAaB683XSzp--nLwAlLLLe_CBWbfZVdyX1CbLODp-fD8DYw0LBx_wy5HIQ9vWNlQxuOjjffZiw=='\n",
    "Markdown(decrypt(task12, \"\"))"
   ]
  },
  {
   "cell_type": "markdown",
   "metadata": {},
   "source": [
    "**(13) Python task:**"
   ]
  },
  {
   "cell_type": "code",
   "execution_count": null,
   "metadata": {},
   "outputs": [],
   "source": [
    "task13 = 'gAAAAABdclHbP2r7r8E3jdZwbiQjexZn7BfhfwaeBebfk4x4-PwYnA5z6NN7xCut5rIaaQSoNx1pKfEIqkoy9HttEacSm2e6RLmOTzT7-1nHv1qsj0QNqrm4MGJwKAIwRY8xnnfOmi9PXMQZExOxtivSpqcKmCS4nUBrh5z3Wnw4z-hoTTb9qzFRQvDhmUsr2LFDMqq42pkxq7f7q7u_N6ceYDnqlBO7M4VY41OurMefEb885-QwPSI5MvrVo2lWpjqD3xQ08yD6MT3-LMWxLnEsS_BuMoyIJL4d1JoF3K1H5FggFB006bbSOJY__xQ5IIMnYtgUipE2cd5pnypf-gBXh09G71-GHLgKMCs-sTKpuuX1h7vldGwLOeVDjLSj0TSpbXVutZMcrXJs2y0d2h2l1EOgKiq1WXU-EPneuQbWHNyBx0csnEGImofS7DYViUctypRMuZNm'\n",
    "Markdown(decrypt(task13, \"\"))"
   ]
  },
  {
   "cell_type": "markdown",
   "metadata": {},
   "source": [
    "**(14) Python task:**"
   ]
  },
  {
   "cell_type": "code",
   "execution_count": null,
   "metadata": {},
   "outputs": [],
   "source": [
    "task14 = 'gAAAAABdclIzVIck66E5kel7YETe3ijCSb0Cyy_9XRB8Mh7rZez8S3o68cACgDSiSXLSb0b3tbGpbvKje5zJXeru0Zm82h29MSEtUi5eUiz1Fm1WUZdNL5L-4-i2dIZQQ9q4-vIGG5dWF0BRbmagSKyoUmN7dqtuIJhcNiqlehAMAHnBw3c_nIF3iFRq1IcT59s0vVxOOZrO7Npi2ldyEIdpcZYbRXM6Zsp2iw-PMxV0BjjBkPty0fMaAFISrQ18qlEwGWaTWyWNQgdGmnlcg0cPs0Yb8bQMD89jwkvLIkkllcQWZ-NoDE-zLLM-j63dXcYBstc6QvxGN3qATXswAkSvLc4z-3qRYnNOuFt6KnWfRJL5KE9VP9tp-6o3fLQmP1IfF7oPQtaoFktXVfzhkdt3xiu5Cqg0mfnsoWBFuwndtBDjNCaMsKo1fIBHgvf5WnWwm8wsM1j-l6Snz8IL5HK8_xP5ACHsmefyrhCelLEgP9NUSQ0zusDXD_EIt1a1RmsjgHBF_8WVArs3wla7fudz2nsSWvQdLlDcyubSu2Diedj-xjSOSDucDVroY85zHGUSa4rZ5qOIBNiK6WsT5FYzFm_ImNeyUjrgdsaQr6lLzH248HX_Uj1-79XmrLptJb0o5nZlTzXlmWq7M51BXWg5R1S99efzvolr0gGt_gtVs3czNELtjY9VL3f32gQIAZN0sCtwnFVuxAyGcjq9KVLUrzKiuquAdw=='\n",
    "Markdown(decrypt(task14, \"\"))"
   ]
  },
  {
   "cell_type": "markdown",
   "metadata": {},
   "source": [
    "**(BONUS 15) Python task:**"
   ]
  },
  {
   "cell_type": "code",
   "execution_count": null,
   "metadata": {},
   "outputs": [],
   "source": [
    "task15 = 'gAAAAABdclJjZvt_zq5mlGOi3l7aFhShOZmpj9303Sfoy-qshcNm6XFiqkuw4zMmh6Uz3H6ZN_vT2iVetaaZXM3gGAgIhXCUTfcnEiVRohZfHlXBlfu7LmIvSOw0JkbaGBPtUErimeK4lvvWnoZ6M9qfZJwnC1jsudZWUAdDLQmyjVfmppTGb8s5hvaPQ7wy73AEuxzD6r_rVWuy0V_yyDHQhNMZ8wnv5PoJ1aSCSNZCrRcZs6dkj_tl5dHYQaosKeAMQ7_lx41XUOJGaBp-iTAfn0RmQFYV5KyNlwfxprRoBOKmywBQQ-nAh2jrLXslQvdHl5t8OeAiEJdYwQB01I5p223zt6qD7Zix81gmm5LhRuCYCRknflwHZ7Q19glolV8QWkyb8AR1uW2WIvSe62M9dYY1TWREmWp1mmvgLjAJVVtVO7OmP0aj9MZAj-EUU9lMoHSJdOGb1UVSk_ONYKkBPPo0p4_kKl7jAlTBkTY8vBfJwedre23S6druepiAGiAcyP2R4AwSeHb67khnH3eqqpEVePep4XK-FAastP3GaEtMTX_lfdnDI1JfeRnVbl49Iwtqd7XTmwhXeg2ebyqDZ6ikevwyNbR-4FVYkUYRDKj9k-18KaNwioOWTebpi1zeTpW0SbYGZYtGecMH1TrcD_2gmwzs5_DM4rrYcHyQ3XWmfgJRIdFLkaXANAQ9sZChlL3Q7F0iDNqH-J9aUAfkDIzR23OVjM8SqhUsLo4KQtrRdxIxQCaOpfGIMsHsiVu2orYiY5xM_c2KVCUfebWD2cQoYi_VEOWye0DqNLhkM66dhQcOMYooaD7FrmpJjnupxXuMbZNx0dqRPvn63XkanzhFBx5N8Xcwdjilt78G6zwrAfwiGHlJmpaM-9n87-bBHBJznpT-hhh0fuElEGgaEJiz6nl1l0GhY7oEAUWE69bHeg24C0MbyF4B7tNOcS8ecj0q-l2AoMaBvIg3nD1ackqS72ndNUw6Pfg8gxmDk-6lKe9DvjnDhi-acibNH1ipoXBFxO0Xc0oszQZh3CX65vgvSFB-J8cw_mX_WUO8-rdsWAArKpj33s-ovwOARu5__u5tzFnVGRE_SDJmeqMt49p0e80Eyo058MoROVGFGDAy7nB0vPgKPUDj71pl0X0Jg3QGAIWnHcdYV2URU_X_w5y2dcQDc_Bzja5VNZS9iuZeNH2gtgkoq-ATm1ndymw9Z8EiYxJEoYRTiXyhMsZEo_tbyagXpFMIWiqjn_qBZ5I_s54qtaorUZxXRXVofewSN-kjkcf8UrPqY-uAhRTw-0zWxx027PWUg3eBzUCfNqvckU_XAx4rxy6_TqIJyDWaVpEkxmSbqdMupmtANIjANr9lbH_OrLFIZjTrpON_vzRaVXrTWHPiD_14lnRT15HPgcPTG47kchJgs5XKfRypLRfVz07t5NcuOvkMWM4fLnfkR0izluQIAS2Ks3qxo14QI-VYsTMJ6BJiVJy8g84FoAT1YA3EV5SUSCe7iUl_TX_X4WkkQOnNiLqwIvxJo-wwJvcKp4xNoaigJ6-mWidhdrhys8NVZTc2eIqtYbUwCeC4CWd65yFAmxibsWjVk47IyDqcDPXTJMv_P4jpnI49gs-Z-2926Kilz8C0o2YCmFmzwxxlRZztseHRB0IzXhtjG5ELlcuzFQyZ8FH3FVU8Hssyyl18G-8Ssb2wP62bcSpAReOmZJGEXal2wG7tTvOKPXdpxoFKyuXL4jyilw-81BvdbQV4-JM1MQgH7rWC5ryRHT9uBktkOIDXXnRExUTiq2fADoI9tQHAeg3MbAcKza5jwqJLkublfC1wRYo1W505aNYwLTXQ0kZYdawSF1rS9RSzJANAGtyXZDGVIPvYMTEWwF6nY6TxHjTS7FtZXP-JksC_OfPc8459xDPT6B_AEL37oTxeVp6qQCvZUoRhm0bd3WLiB0IKuQEAjVDhxFROFcBm9VJyBOlrvYNodyqNbhwcZPnWdzALeNdwZIQeH-Gyj2yt5w=='\n",
    "Markdown(decrypt(task15, \"\"))"
   ]
  },
  {
   "cell_type": "markdown",
   "metadata": {},
   "source": [
    "**(16) Python task:**"
   ]
  },
  {
   "cell_type": "code",
   "execution_count": null,
   "metadata": {},
   "outputs": [],
   "source": [
    "task16 = 'gAAAAABdclKCmp7JuEFnJ6URxeDNWbOzEq4hIrMHQNTCbXrJ8upVxHPuzYloGLL9INaIL6-u4o0DmibGunDNwTI9zInw5PjxPNoCJlyTUl6ZV8LOUFY3T95uoubyqnmnKoij6_XjzvXM4q6i_ussa6ww5FH9Unpf1pwoTDzGLWenuuC3VuQR56740z3_w0XT9KiSTZNHiXVD7-Y2JH4AnbD8MiQWVa6y4TI3CvlTAPYdS4Jr8H5DNqd3ILzCJXWqT5PMStF2A4uG9L3j4N8vFtPdx6onyIrxxVHliQvGY0u7v1xezsCRCmQRrVt65Kg5KzZysnRbp_XHC6BIsZw5Ae_42uNlKyhzRW_2V7tlLt7yx6SofMKGMXujfX681iKgouOYFUkMjrKnL5pezfvJsCyraZt7S22rzgRoMFjXThWl5XqTvB3xZLH3duO7AM_Ox1OSe0_1F6AfwaLBaZdWP_0G-7_3Nr27CGKQZvWmTFBR0kTMkJxbvvq0ebwV0F7mao7uYEZjJ1P3oKg-Umb4lOLlhpJLb4EwVwZWQ-jo3UZN65eMAVgwOUoHPypXq2aFozTliuTRzqtSw1CAkvuhN5VKvCGf5XzFqM3MlEyFPiG2e7v34hCnyLmhCHk90us78n2UMesfasWRCaJZpgPKQWzU1707S_LK5ZRpj_2BDdn8IrYivQKsohff4gZqAK7Xl_AoDM6ZF16ECiCiOOT6lY2GglKER1PCGzjL9XMgiSZYf9SB0VvDe3ARpM_AQ2mMaMaPcggjI6BG1hyfCvcNfNWwUUr_LlFLy8yIlN5BmX05kgiDgs-enU4='\n",
    "Markdown(decrypt(task16, \"\"))"
   ]
  },
  {
   "cell_type": "markdown",
   "metadata": {},
   "source": [
    "**(17) Python task:**"
   ]
  },
  {
   "cell_type": "code",
   "execution_count": null,
   "metadata": {},
   "outputs": [],
   "source": [
    "task17 = 'gAAAAABdclKeCuQrwNct8m_PuXsaJnPWKuEazsMvbqmYzAWWRrvA2Vv1-HdZmaHs1IYVv-NEHQvdk2S1fzfKYf6L6YbRsKeTy50s3zLk6offZu9hKMaklNakCeB2V59m41pKSRx6Qc3cUa6AGeVMYWDYN9ITxEXjYmu2gNWMWlRm6-_-QeRcdpjWlfwjpvxHGWZUoTnMTsuhliUCH1Va0wvx2tD_6Xb42avoT_XxwTypPtPH50M7hsO9mXei-ETvfNwvFfShy0-IGzSUmR9mxqvJEQFYk5pBGIqAU1fkqNM6QKukQVjEOppjZhpxF_0tYBWhxR7ZATHH--pTywcs5DBIzHMkIep-WeyLtQgJJotrrBCxtrcniOZ-iItH6FvB_OQpVQ8YvkY5GWXYvgQxTmmlepetHdlIuZDJrQEJa8BqIQ4SC6rsMWmjfpGwSpbdsCQupGP7e7pnfy6ujmI2Ti3K6ZBl0mp897xQDK0SCNElAsfASK8jUSC2m9LYSbojLIx-EPBfzI0gxyXmx9cKYDZM_j1fMXj7ZdvSgZOV3PDban-iWfMHVI_-RV8h1Ahmw5NCtqcx9fqGMepWAL4LtvWno6_I8iBVsKU3wc1eAYcoajbWiC35pyidGTQhxzzfUBt7tDIxj-_GZdLUBjlFDaxj7nzYQlyhex0jnJqQM9jw55mQ9ywgQxBr-A4Wmm62UxlCdfCgvCcfmIMRqum36SaANBOaJE3LtIfa40DeDSx5tjWlsN2ztIswtizC0t4FLWkF29momxhJAFxXztup21fX_8ZTtImnpyAaIdQw4UJV23NNfJUv72PJy0hb8rO8JsDROshfS9MFb5F8J5WMn--rqCar98B4OSh6By5xK5NfuOIFOscLrsx_uuBOymKc-4Za89wVsa7VlyJf22YjoWsLDvgLRXMNlzCboByGE4gwvAeYRVcCiiDJquIzKWmLs9mosA7txwz_6S7KoM_L0Hsd2U7qDKfTnav7r7xy6sNm-fMr2lwyTfAbH2RaV9Cf6ydL67zMMWdFN78KWKp5wlwMK-BFS2DNmHTwStNo4ZtaUV2YOLi29XI6ZnLQaVwK1-T8ipM7nRAPwz2WgnB8IJpEun7ko7kUNRbADUyCbVko11WfPpwaKyYtd_PuXG0XV_5ztO40FiD8zaF8VNTeb93V5kLnTMRGm19qo61OMJhSz7h16fs_FJIDCmsXyNit5U3qyqBI7qV3Kxc-g8K0m0ysb7mM9sIbrPZWsDBNpppT-52g4IZp6HpnPACvXZs_ydC-tykkEzWZjIYghumj_bT5lq-Z9r0Z2TrNu38a1Ng3nCjU-6T_poDqUHZt5wfxlWrp4xbZLjYeFXDc29fpwVwc-kG5zKRNBw=='\n",
    "Markdown(decrypt(task17, \"\"))"
   ]
  },
  {
   "cell_type": "markdown",
   "metadata": {},
   "source": [
    "**(18) Python task:**"
   ]
  },
  {
   "cell_type": "code",
   "execution_count": null,
   "metadata": {},
   "outputs": [],
   "source": [
    "task18 = 'gAAAAABdclK9swdJ_Pha6xARc3etlcq7DmDuFbweGW1eiqHL5ig61Hh5--ncpKRw1NknX7GwGauFIuzaWIPX2SrbWtiwOfTKnzWXbsOIIq7g3EyKuE-2o9c0A2NsHvYOAdjF6nHd8KEOMF5fsafZGnUAflcCzX8zvAxvE_DHJgWzNlHtZVzfrpSaXxIMhY3LCmkkFC8KASJF1F4RJ0b5KEUkcghyJF7UHnmRe1dEgEe6pbsz4XlLgMbh833oR30GUWiju3FSL3pT-u9w7hs9YaTIQzayFR2CYi4OZYc5l89UGblLSuqk5pv2Ks8jKbyLKN-y_vF7QaSuiZaok_V-dqZwkLi5apWE9Gki-cdcjMc2kwDDdp36oQXmwZ62xOECpepNy1EfDxZy_86312GYDUijESeRyVP8jAATCeHmFg3Iw-pzXfE80PWlswyfecJ3NkAQXWvpZ66p5yPrmtJXQfagLarfsx7jZofgPqzHqQlUTV0YI08v_UOQgfWGLSSsnUTYdUTVq3Mm6I3egBrfWNkO-33mh_cXrdZuOMOifcaeRVpRu2kEKMRrsCnSLF566_1ZxKBMCthhUyzpRhxH66Z8HGhGWRVnDuM4YM2XfMOZuPxmE0iENZh9DXc4v0fPgosocplVdrLKxOlGsOSRhB6rMLdHfKHNUQ=='\n",
    "Markdown(decrypt(task18, \"\"))"
   ]
  },
  {
   "cell_type": "markdown",
   "metadata": {},
   "source": [
    "**(20) Python task:**"
   ]
  },
  {
   "cell_type": "code",
   "execution_count": null,
   "metadata": {},
   "outputs": [],
   "source": [
    "task20 = 'gAAAAABdclLZ61ZE66CRKbnKoTu55mNBWYgU9ulqM_436EfYpYej60bzJ6-AHldLAA2Rgb-_bIBv3L98uVBzUv4HPWNXCm3tCKBEHo6ptLqZhB9JLyPkII_1032NY0ciLsuAfwe8xv_CyGGIugF4Jnw5wn5I9JW4kkL8rIJgfGuza5F13KzpoO7qK-4pdbVvS6Bt9ejfLAIv'\n",
    "Markdown(decrypt(task20, \"\"))"
   ]
  },
  {
   "cell_type": "markdown",
   "metadata": {},
   "source": [
    "**(22) Python task:**"
   ]
  },
  {
   "cell_type": "code",
   "execution_count": null,
   "metadata": {},
   "outputs": [],
   "source": [
    "task22 = 'gAAAAABdclLzN_qJfvdmGWq9Kg_l4hvWH93_IcxpQRFUPf5BTmMHZqqLMmzolV0Hlm7hTscuZ8N5SrOCn_eY2VCsF3tz5MeXolbjrFGbYgZttgAr9KTNGKl75xEh2Ox9SzPWdZG-JXfhfMBaCzjRFgKm77CgihDdnwVutcuGMlcTgQ0TUrY5aw8COOaZ6Crr6JD4_e03QYwRcvi2sW6MXa1JH2YtatZvSmscdZTK02vDOXvJlX1BtnaQ5XZNpHi54vbwGCARVLjid1YFU6r5Pcr-Xb_BERjwkrJw2h84E-eXJd06ppXLBWiW2OOoDbmicHRYr7_C6nIU-a8CSO9hIFGx2_4oi6nlSknfSDsolnoUeE-s-0cEaOt8TiJjFrxuiSZfeNK2p4cZr4noT5QyJ1v_aIhdjKg8TNQmCsy8F3wuyedP49MI8Ui4LO7vQn-iWyM32h9bCxOYVVktZDrQu6O87-Sa14lBZChJGZsRG7P_1DH4rFQDz8LTGY8Ptv9HDhAiZofNM-o51ILqw-6pVdw7MTnOzVaD-iVV4a8Ixx3SCxv4vXvgucgHe3U_v8aVn6xXl0dValObrgFZ-2eDG3erydDGsQ86f9SZjsVfiR9xV2nsdol3iOgSUJsR1JLTphmwMAABunnTQm5uWCYPUqAKnuw2fNK1eLVlOxIiqOAH4fnyzMCxyKYSjzlX1vkBTt7wThNXR8jShmr0Wtdl2_I0oa4OWZeVcJwQART8y8Iq6G37zyFy6bPi1vOmLKaPugZHATiF2U0_Vw52DynzRH8CM8xK_xp-y9JDnht92jXN0SVdFTVGPQfWKcA-Z5i-TJ136ZNfwzFK6Nj6hCQUTkYeBmV09LWqsUhl_xK6MBlwoWzW5mlpaoLr2ZBtrawn9o5ELoFzqSkk31zAor4PjgijwsPath5zh76i0h5SNNDXUwLU4dPmRJ-1EWDm-SdbbBw1uwwDIU7wZwan0PG-pVjzgJ7IhOOd97uGzu2-5MKlHWeS4DsMUrl03Y-dB0Nl9hTPbjXwO3ciQlqBAciD09LgMss670tg0MDsw4505YJ9x9h5ImeASnZ42jDKW_5H3QxRYBXkeO7dWp3sfikZcDUUx3OAH0pgiEzwLEJaeWGuOcSPT9dedqNN8w5nMNw__6ePduZey-olMBIuydFKLwaOWeB9-y1QGQTwjw_kLeT6jixa13F37K6e27gHA7iu3r2ON15f0emRG1TfJzoscLSx4-86YXzZtTtInFm4bp-lofOTTkwwu2zdnBy_6iZhssXrhGGpsJ7MMzXBpPrBpwjwqGrsIbO7iOf5rp4wnIiDyhuF5IKZAUHGnmWzNas9Ze9NSFmcDmDwH3ecP_NkmrAZ_zY5nOMP2-nkuPpSYmrgEwjVP0GGBDCIwPeYNvBTDo4TeVQtfBiQNVsdjp3r1ovwCCmY3FXho-d-22F_Em5IOy8KNxAqPes4MSs0RmiwRkVicfWaEo_vbSbgckw4icxmsr5cnA5qe5qMNrE_fJLgU-uqzkZS3fyflseRyxie6DEUgz38mgYeuy5nKYm0dR4WHyobOknokP7PoFoLak_vtlUmwxWqwLs4ZHqZa_7f8AwvPIUJCeoxMq-IgLNIiwYqZ5LNWJjllcwGFmKTnuJbBRPOTrVwls1GYD3mhbY-34atblNLgXEx0GLXr90MP0h5sQO-1TaCB6PJLeFx4niS5X7SdqcQ75d4s1pS9ngKHf_1LEJpU1AssRyv3IsbmrkfDnwVOA_7Chqq1yc2xyyM7pob1YEMkrhwB0kN31h_vmZ1UPOpyHovUeIIQOsAYX1p0gIZXHDN5sbvMbcsuEcgShRX0MXN5wiUg4VbNWz_ouHPyN0tR99J0QPJeRqE7Co9JzSj77na-uKMF4XJU_CeNCYhihF2bHvln3wdZ6PBYEhXD39QVyb4bJCdezP7IxaOWM_dU9jCSQ=='\n",
    "Markdown(decrypt(task22, \"\"))"
   ]
  },
  {
   "cell_type": "markdown",
   "metadata": {},
   "source": [
    "**(23) Python task:**"
   ]
  },
  {
   "cell_type": "code",
   "execution_count": null,
   "metadata": {},
   "outputs": [],
   "source": [
    "task23 = 'gAAAAABdclMaB43rBVIs3Bsx7ARLW7GTjiIVP69xXXWwfLnoRFNVTubVQcyYUyXNkCUkSYJenjnNmKg26kHS3BpvPWWdp_PhmIDqkKijZHPwxAHvW_seKvc3d2_ZZ99KJKy3_ipBS_zbyBVm0fB5QiSJgKAgWfzYA15lqYHyGwtJf7d5b5PQ4DKC51weFKIeA1PwMpxxWZiP8rzNkw3Y-GJwf2JZy9luPD7MMKnB7XGq-e3k3PdMbUDfoZz324w1dj7Z4g3SbArC8H16oXaSGMu4sQ8-dR_lu3lmowH6BiRAI3Km9qZtnA96hi6cd66ZkK_6jVzX5WsPaJ2DmobJuxj-BcrmAjEcvQ=='\n",
    "Markdown(decrypt(task23, \"\"))"
   ]
  },
  {
   "cell_type": "markdown",
   "metadata": {},
   "source": [
    "**(25) Python task:**"
   ]
  },
  {
   "cell_type": "code",
   "execution_count": null,
   "metadata": {},
   "outputs": [],
   "source": [
    "task25 = 'gAAAAABdclM7xjc_FfZl7sTAnJOK3iDdxmdJC7mWybtudHUo0DK1OFpYfiVaIjNAUevGckY9UGPTfUcZyyjq80DWj3h-gQMhgwrJlgBzRiZs46MmKRvvclaI5VlqYuEVFEYzmsNbtXnV0Pg7zxq4Qg80haX-CyXTsJulFp3ALINBLE39PnCudzY='\n",
    "Markdown(decrypt(task25, \"\"))"
   ]
  },
  {
   "cell_type": "markdown",
   "metadata": {},
   "source": [
    "**(26) Python task:**"
   ]
  },
  {
   "cell_type": "code",
   "execution_count": null,
   "metadata": {},
   "outputs": [],
   "source": [
    "task26 = 'gAAAAABdclNWNkTaiW3uCq5xq3ITCBvb02wI19Ol8B-u2N0S50GQMEFwzMFJkywtgXslhydYI7a6QxEr6PmyiO7zpiP1pr_p2lFHwWKPMvuEGNt0sirBN5OO1yrN80W1Cb82jUOw00_SBEgt5y08stHp67z1qaOmAw=='\n",
    "Markdown(decrypt(task26, \"\"))"
   ]
  },
  {
   "cell_type": "markdown",
   "metadata": {},
   "source": [
    "**(27) Python task:**"
   ]
  },
  {
   "cell_type": "code",
   "execution_count": null,
   "metadata": {},
   "outputs": [],
   "source": [
    "task27 = 'gAAAAABdclNxpxZG6Q73qWacnuU1kUKGVsD9J3nitB3nRi9u7e8JERYMcO5DKtLAS_xd4mfWAHMbSysoztiHv5slR2tZNcq86Ww70VnYfqt1US8VUr_rhh3k1HeswtoWfAujHvROWvDbqDd27Sm2ZC-zk-2aEx3ohor3imi5aL_cj_3UQvTLnPv-fV4ZThehmS7B6-kQHLVo4-XWo-LcNDwCoT4QXd-Mck_nVBhJ6ZGaB7LkOZWTVtWoKdvm7n-r4eOTEYxfbSt5'\n",
    "Markdown(decrypt(task27, \"\"))"
   ]
  },
  {
   "cell_type": "markdown",
   "metadata": {},
   "source": [
    "**(29) Python task:**"
   ]
  },
  {
   "cell_type": "code",
   "execution_count": null,
   "metadata": {},
   "outputs": [],
   "source": [
    "task29 = 'gAAAAABdclOZfsUAIHbuqxMI1F77CBFMDTJy-SvikUxvLM6J-lMNiKqU3oxifFPm-XZDc238FxYjh71WgdEQHP2IR-dm0jhJw8rhA2Lepu0YavyH-QBms3q7LEAsDUIlnmf2inCKozDqRzjQaVC7d3AkIAXNUn75WkFM-26gWvl7Qu_oo93PSkSl_FbUpDBorYZVUmlassNKTCeapiY6SBAvlvq7RvGud2hkixLulV8eQj0qgTjP1PHKvJ4Ir7aSJACUg_w-9zX-TXWQdQGtuZHBSBCgfoM2tY3ii9xDuOkFlnvBd6nBo2DmBUPa-0yhsLjrg3M_tUz9ZwMKNYM5p_54S4c9IKxn-4VambZeiKDCdwdw_ubMRouVc9WWZo4zNIp4FmGyb2_R'\n",
    "Markdown(decrypt(task29, \"\"))"
   ]
  },
  {
   "cell_type": "markdown",
   "metadata": {},
   "source": [
    "**(32) Python task:**"
   ]
  },
  {
   "cell_type": "code",
   "execution_count": null,
   "metadata": {},
   "outputs": [],
   "source": [
    "task32 = 'gAAAAABdclO2yMD2OxpA2nVxBbyVhT6NRF-z3qEj2Px3j-KQvBknk6TlyJFtgS0YNWecX_0C7_W98d7reNldky2jT-PcdMxOAzpGcd4ed1KB3rNOpMCx1nk_ctqSFIUG9gEepR11ERGwX5c1vOA6VEM-k1r4xliR4DaOZxq7J6fbjtxtaX1m6Yb-gIFlz6L9tHIeqhDAGImPj3bUBNMLJbkArHHSk9cK_L7NkWDcEGvClvV1Ov3ysyeCOd59ksz6PNq6zKbbh9RDLadjiOJQTibjcTSjYqn3G1kgCkCKLb-glgELTMR6RlQ_q33jMzZ-bhMjQ61InCsyqqkGnJ4I58Lo8EKfHhyn8to-f7EyJQdoOtjQ2cjD-2s='\n",
    "Markdown(decrypt(task32, \"\"))"
   ]
  },
  {
   "cell_type": "markdown",
   "metadata": {},
   "source": [
    "**(33) Python task:**"
   ]
  },
  {
   "cell_type": "code",
   "execution_count": null,
   "metadata": {},
   "outputs": [],
   "source": [
    "task33 = 'gAAAAABdclPxCqaNSfF-EdmV2pEsa3oRNU8v4yIv_9Yvw6FIB3rBCWFf5O82wvhspfnxWwLrvJXoNoEwgla1KcNfr_dxHm7dhx6H8mpoU1m6n5Y2IaT45BD0h7-RATOwGalxs2haKlEGxRumuHES2iS5gdig3qeMLVJ-zk9kSbd_-po6rZf2grPUiTdH0yBzljDoHtUMjZQwaDaZv_pnsabOn67Tm8dzgAWp0GWC7Nov4T7Q2z1yYZGXaMtKhrmHgUrVco8CM5plZmXY4RIdpY6gVU3jgNThTXliYm9OXmWEBppI6ycrniAlsdspCeCOBVmsBVVFOyFtoZa_rjzlY7cJs6hTM4dLl25oHR4X5Xoo3G2JrGzyEzYLeIcPAjCmpC_iZ0HUHx0CJPCMtbGLIyzwNn-Y91f3OTLoDSRElG5_dCEHX9Ii7lhAdvmcOPwD4M53VYwo76iHLVn2jyV-YyUjpxSc2pBFAbcn760kb5s7hHJMQvoj2uXZ2CghqjJ8arCAoPUSgnzeE5qJGtf6ucuVoL40INvagW5FSMCfq-zm5zlV7G3g0qj2mfgIrQS5RJXXn72fIip2dtB52wIfl4f8gt9AfbsnDJoSjJ9ME0q_aWS6CAq153siYb0sSHte2AQRjmrvQQn6h7yre1g_KW4IMCHC6lo6ZZp45xNN97bvloJGK565RLX6SoFhTQNE48G-JzlsIel9lw3nSJARs5nKcnqnLhxbHakZTGmN8VZcR79uf1DH6fzS9x7h3LIQ4d6WhpFe7t8a'\n",
    "Markdown(decrypt(task33, \"\"))"
   ]
  },
  {
   "cell_type": "markdown",
   "metadata": {},
   "source": [
    "**(35) Python task:**"
   ]
  },
  {
   "cell_type": "code",
   "execution_count": null,
   "metadata": {},
   "outputs": [],
   "source": [
    "task35 = 'gAAAAABdclQNDscH8m7-PGH3Edig2PuXYeoD9a_O-6mBVXH8-DD2uoYJNwCrRcZ2kdKjSM8HeLQwGYeIShqMGigUJLswZRwv5V5BLqetOectKIC83S5NX0yj1Kx8mSZQVpJZBu2L0p4eqQre9x3JnO9ql5sMxDPvPdInpoQNYgmxz1jx46lDdzbsVliTkAii2vpHgeWdIRZJaB1VKobGknakqW2neTOjcW88AxCj8bwrvXoS0Vt7E0MPaTDnTAwK-bTqm6LZzbEGdKliE2ICse37IO515vLwuLfaHzIbI9VqwTJGlqqCgentC2ASMPEkwPJTm_Xpx3l-xCvLSE21WFVvoc_1N7_WDBYl9tcZaohGkH7hZJhapu4--VD1nXr8Z1HMKkU_P9tBn0oBXyRML90IayM9Zs5up654lU8bB_J8LZMOJrKwBmnga5gUP8CplkU-Ycvo_noGXNRjA8A5g2pD6FKuin7tOAMX-ExJKTKyGTn1Iv7P6heJOF0E74B7zQTk4cGaVWPm-THeC865Pm2GAm8jvKc1UO4zfTSSCa-Q0XRzqSeAC46bQhhLBn0e4R6ar99MCHXCgOa_XexxvECXU-omQ3Y9jEGUR6WyfpYBvG4wyHiq8qKpcbkFvdH7_mctdkYE2ABJ2cmliq_3jcOC2sGfKSxV4Jh_0ZOStMNolBhTpcbm2-uVhcQ1H2zH5J1ha1UeK0bYQYagBqAR3nxhixI-6vL5RSJG7gxfnxrhgWeiYfOxdHKssDVdRj71rm8qhFKhjS32sKz2oGhZ40HNHWQO8mRW4MNmtgshB3X6lL638uuYLUAF4bZPa2jxhu1DJxhq-zOy0oIHXFR-gkz1_Kp_sbaIgJiAF9wHrxKOYeEk17IPpuwG9G_Pz0_uQKFMosgQtuUO_eFRttthrI8jmkYRJq83hhttKbCdU_nbhVzPrPDOuPZWJ38HxcUGoFtblrtPK8y6XfCswKtTKJ4FKWjkp82oESuN8oAOIxnjHgs413Y9y76S_bWytrUGfsbZo_026iImd3sf9YbBSj1YDezx9xXLL9DHpvFxa5DmwF7SmWneAbIUHNGcHbI5xFg79mO37hijYJhjzuerHAXQiNT8DW5HdyEbVjFtGvlACtYSWg2jvV8RzVW7Yuv2VCl4DM2D7WpULqBQ7b1kBTmswOfKpESU3LypCs1UCBEI63Mc6AO9u-oTKdgnB5f4QaG9-BgSe1d6KYPlFrMdbouqeXb1Ht5AlbSdR4F1k8_H5GpDwmxbK7XHqTMcdqx3ZPEDt9yhW4Nn24GKg7pNRwHwbRyHhPiDBQOQNLcErD3Uzle5FjJCsTsueqFFSTs5nmU53hxXHC-7W73jiYwNsV_RlyNt08hvi8K46uj48o7ml3DY2_aA4zisopr0ydWamcNdaDGCet1sqpLGygIgiVCOtrKVgE17RFAQIdQaJW7srIeO8g1di7qtpYDLnSBfqkduyQI7Mn6vs0yaR81DXhLZbHZABThWkTqzP9lGwvLU6kOhOSVFqMO8Vo6-S5bO7HvrxmeRCrrr'\n",
    "Markdown(decrypt(task35, \"\"))"
   ]
  },
  {
   "cell_type": "markdown",
   "metadata": {},
   "source": [
    "**(36) Python task:**"
   ]
  },
  {
   "cell_type": "code",
   "execution_count": null,
   "metadata": {},
   "outputs": [],
   "source": [
    "task36 = 'gAAAAABfSmBjIWBg-gKBekbvAPGGB8B6mTblOPYVbWBZ-Q82r4SQrIrpEnJaYs-zDD8oe3EN-lSX7Uz8ukuRNEE4Oceih65j6nswVseGxYSjAR0uWlzDQJrNsOIMZb09WLqW2s-t6dXpP1-hqUjsimV7DZOdVNgEVhsDSI4s3j3fjyqp67ZB3USu2K0-lPFPbcbMOe7J_OK5RNoz2Khq_KIygCCre82zbWwuBhkh2EVHQOU-UbEl3aM_2JEXgo6ebIQaWEgVWZxa5IJ3P0s4npU_03nOAYZPZrNLIj22A5bLqN9zm35YVXcr2epZqKGIfm1QyWwjk7aewFGRPISyot7PwBbJozl6t6o96_wS10VwAkfcP-TcPyZ5vlFRZYnzgSRwmFlksKrmnkehovmdf5NgtEBWbMrW39pi3MQEoQsNk1wLnnQ081UPm7mPVcL-9eUQWpTLr8PxW5HWa6AGcp0ImfTvbFCgeOUUMXQox4Ji0zQyshaX8J0PmKid2d0clBST_ykVlKZgvw8apk-efKFwuRtlVnht4ac9veco6VHkGM5nFk853Bj5jjKuoKdPl0aSakBcbUB-eJf7VjkiyJZ0JFJCtuL12eFQbkh3HW_RwckmqU45_RZG4Hkajxl7Y-28w8wwdjkdqBiG5LaOSTdSREttEuK19WoOCQ23S1FgCXzsBlYG4lsS4p4xua7kZdjy3NtNemKT8SBnDEUlg-MrftSVRBYuJw=='\n",
    "Markdown(decrypt(task36, \"\"))"
   ]
  },
  {
   "cell_type": "markdown",
   "metadata": {},
   "source": [
    "**(37) Python task:**"
   ]
  },
  {
   "cell_type": "code",
   "execution_count": null,
   "metadata": {},
   "outputs": [],
   "source": [
    "task37 = 'gAAAAABdclRILRHeONuIbAilzkWbbm5Bjzh_CaBz77uGSMt9FK2bIZ46Q2apT7L_XkJ2vTB_EWPUVXMdv6Xd6SXbcif-cyb_yYakvC6KDksLjYyKt7FQ9QVqtgMfR4h6Xf4pIErTOTAQi74MAhYfVKleKMzWUwcZPg=='\n",
    "Markdown(decrypt(task37, \"\"))"
   ]
  },
  {
   "cell_type": "markdown",
   "metadata": {},
   "source": [
    "**(38) Python task:**"
   ]
  },
  {
   "cell_type": "code",
   "execution_count": null,
   "metadata": {},
   "outputs": [],
   "source": [
    "task38 = 'gAAAAABdclRkBA1pQtmpp7GtTNRHV62ga5lE4qMtQG3cwuTf-2-YwZebWGZreGefQWssUfqL06A-Zka62bxuhQNahnprsq5H-r2cQANMxTZ50avjG3hCvh1SRfjcOrcBumtPt56iI1EGbbIyhuJwvLPePGuI6MFlRw=='\n",
    "Markdown(decrypt(task38, \"\"))"
   ]
  },
  {
   "cell_type": "markdown",
   "metadata": {},
   "source": [
    "**(39) Python task:**"
   ]
  },
  {
   "cell_type": "code",
   "execution_count": null,
   "metadata": {},
   "outputs": [],
   "source": [
    "task39 = 'gAAAAABdclR_jHGRfLxKKrEDt9oeAyQUlzWwQavXwT-EazjJvIlw1U7gmcJdlOOqxnlWBzzPwUa0832MfmBvBPdGKmgcX7CyBQcaLafDFcj_oZ3362rVlMYERir8qz9wtRuTcFot9fJ_llWyEUuoeG13o_qKk2czx_QFIuuJbAYLsypvhwk23lwfudv7AG97h48Smp288dp58s_PoNssVhAPoJ_onbtRojKNBTc-3cZfXqqEhdWGgo0VWIjPVTW-FOo_Lqbu1xhWkJsCgD5O7mKI9TvK0DKUBssvbo2B4fvvg6QRA39Xu5_y4OgmODVkTkj_fJZlEktw9nKMapBwsjan5ZYV1EU6KoY59ZIg3e5zAizBDNG2Q_8HRdpdUae2FuOZ80M75olTxTPz5-YLxs69opTq7pqh6hNngX4MLabXcla6oCRDbbZZH2Mmt0L_LPtz_LLAOdjRM21vjpcpZKu9FVRzm3mdX5zImX5zYob2ciQpzv5cebrH-c2OeOzsuq5c0rkTGBUmSGH9vzcNRVzImpCGgvQK23g2Eg6PFTZFE9MIzRsViYlm7H-c7pMAlDdrfAADMo74E6ix1Fa1zYYOIB5fNuznTDYbRDIpuBVv1MJGNFbMih3j06UkO27x3MZk050tBzqyirzHdHzesf1kPyHppKBLwuSqbxmar21sCtUkpOeJywK7gpsYt7xkIAmYT_2jdU94bW4B_bKgfStjKH4q-ZI0WkfHeR8lDbIBzrFYk3lG1Naa4dVpvovMxr7nVKc70BSSik48UTpLD5MFVGBIfYKdGKEmvFuMnFyw5sWiIfu8gfe3Sb8Iqntsaua_-2kzl_PHEtEPYBq_buXid5L5qyRk2tjLgFLaXmuRb0OPIl_tnVxct8aQDO26AVnEhPqxRDaVgE2_SC0UDC44rsAYGE9s7x1rqf8AfHB8ucmk2NOiMP5sdfqo14_CFWlUdN2RCqX5Ya_dECafE6YF2bnOI0XlYwvzkp1ktPvzsA6M4S5XvfA9p9idJqktGO-0QP9AO8jsQOp675_BJFGUIomw0ze3n2iCzPrKLCYgiFN-3eE_URzdCFXszKc9csxAgAJLA0XEN6v_WKf4cCI4Kc7sloPJuOucYDe8lEFVu7JEycTVBZqDcRJqc7y-G0ARmWwXVpUNgKuKpw9wFM9Ev48BHo51wMERxHFbVQ95No11ris9k5JKhokhtTU2_hY-nL-mf7BvTkw-3R8dCeyOeIemjRBdDwH7OalQxN9kN00vsViWr7w='\n",
    "Markdown(decrypt(task39, \"\"))"
   ]
  },
  {
   "cell_type": "markdown",
   "metadata": {},
   "source": [
    "**(40) Python task:**"
   ]
  },
  {
   "cell_type": "code",
   "execution_count": null,
   "metadata": {},
   "outputs": [],
   "source": [
    "task40 = 'gAAAAABfSmDCYX2LMSzymhohEY6Tkt6Cc2EsM-CRDDRUxyyGjamk4LfbVskiaTNl4WN1c5RXI_5iShKxlCwiOJDHZBnSx11RvuzD6aWVDgbH99Xy-zXU9Macwc4DLGainnSK96_nI789vES-rj16vGLpKncmsw6eOa8sqAMtMnhcT9O91Tyu6s9S-rYX8b2AFYpRinoTRzGaaZC1qe7d-0CfZvvjWMjvb3fUrDUmwatJlvdX89iHXmCCPmCNJh7U_qptUL_CJTiiMZaDgxLate14Ma0Vfa7dTPXaWUi-bLKiYNslqhuQSLkGVeShsWkKWomIiLobmHiUq331hf6g7ZBy2SQmBMFm9bLJOEsbw5cMPriGcsYVfjRXR0Ib3iWaQ6d4rFdAJoHC0YUsdXGraKN-ctX9r7_i15cmlv-zHdxK11UZ72hcbx0n14PhyA08tIQw28IjQLfz_dXT8128xzs09N80Wc-9VbivM3c4yaL2j7i-kCwjhoBRMoiCYW6c4VSltnXnMn95k6rR_EqdnOFFR5R9zVbfClWSIFtiFCfAl_0rQKWK12oRNdBOeQkFGQS_Qy3IcLbdLaAtSLXUnt-FIjGi0GRmMBCqyTm4builAUGALkZDkfB6pQE0-0HHbUSmgqldkkW1N0UgdJvpdEJgKTdqpgTdI0R9kG9FL6KpVA7XzsJyce9OhjnT1OVJLdNzcMYUvREEkGFYITZwpiD0qXgjnlrdv4nxYpOwKmXaFT1HBOQyv2IPdk5XNaiuLqhvTVAOch8qj_-ifKYXQtGrXbOdVMM6PZxe-RmZxhKHqouoiDy2FSOe1VipHY9hq1eHxYsB-mJQjrhHMdZemFC3ab9Vw-4EG9bqe74NGq4WTP1UBKx9JvCERedSNQYEV7e0Q__fpc5d_Pv6RMpd0Io4xAKnx4MmZseGrcQUb-FX8QtYnAwgEG6MGDUT61yzCZNUOw0LlokD-ercZ8DIFQst9HRX3tCBJcZMRJmmorBjLFx1o6y30iDjTLHv-s-2KjnTKs_CL3-X0lJyx2YJshkNfURX23vyFxzQtfqABOTWPV8JjNcGxngEmKTZpBmkiR-f_vsqlYLJTNOi4486tjzfaxJs6cHTNH9bYghyJL8btQYTPIzbqBK-wvkwWlewwx523wU7JUL-IUGPGURVH-JHF1k8u4rDwfIPl5X7LTi9wMjQIIVqB6PdpPYptzQuHI4B07pwcFVepB28RSNQTPgeeV7hNy-1bvFnq6AnNyMwQ8AZN_7XyNTNoddYQRxUQzW-83V7msRIsRyhIuntoSytsgcsJQ-t6_qOzC0zBMy30L7GxVWOyNp6ZG94FOtK0oZaZFLMCcsi6Jjj8Iu0fui73NSI0tcLuT6XvI6tpbJDGzcnZgZG9tTkzZyhuxzV_n-VWFQqRPBKqzF9yYhOwRWDmEtdGGt1CM1VRT_SWIF6jN0VIvqeBRCPEykaQApJUyOXAddPDb8hZQoftctzlHP09HnChjQ7vjxph-zy7t_8IrtPOL4SkeFpMDL7t6-Xzf7fnjZWzqZzHqHRS06KDmDMaxxrd07YN6LbuoqLp4SEq1ih1Q3yNBY5F_JS3fkfPUkcXQl77PsjN8PNx7-I8nCi409b0hgfW3sfzOnnL4QdYPZHCe_fk73SXleyJ_BSZd2wDDGlXaktAZFpKLWA2pQHccoaRnsXM2aknuU9FYR_K1jxu4ZHnGG8IUBpwq8zFaseqR3JgTmyVshb4F3vrVTv3Wq8L8daMRFpxKuiLA1qqy_ytNY6bei3wB7MwZ0FH2rpT2Ey6GSFlLD6N37sqNvnZQtIBZfN-jYs6QNVv1Cm7QWVuYzujrAqGgCLRGUqE8AyqhVa4g_XVcHWYQgfGLpMJwU6bbrKDplNHcdvsdqRuyq4xfrRI4JJYXiBf4hJd3oHbGPMCnipBQ0vCfcD_HWB9Mlfu0ERwcBfehlGBmfm9MzmswORnhUbHBPRjhcE1awb0OryQjB_xCGd4hQAz6_ZC6KS0rjWbXUUxX1PPGOBVVjMCIz06wGTBPg-fmDTI72W9-HXRkQwr1nUXWEssfOf4yV_ByD1DGmdmAGqDowbO-IvxskOTXHqng_mtHPh-QAQob7CxVgsAECr8VjUEN1mLijmzL5Udbu60kKmI3bBanj12O-gQtiL5JI1U1XVRk-1QnTCQfCPmbvNgRsyvyMB85B4YLJNhilmHDZKtBN58Tw74ASJg78lxlJgT_lBQRGXA-ZODkz6Jc98e2h5kGLAfxX2yPSOAVCXHpP6bwKSi6Fx2wvfNoApi6GekHBa1psa0d6YKhs964j5JO8bwooERTfSWTW5QuFERjvn3lSr74Z6qWXYMXmT-Tb0UOgbO1kOlQ4pN60uUlRXlEgnngqVY9WQL0se-DuVx8RZZHZpVsem6sBi_LQa8xpCKdzYqxcToVT6SAgsxfvhrWGkWTyjNGlUCLbcufv8DharG8nMfdBF03RhpHzDDtQRuLlUfowODL18oZzzmp43e5EcgL-o9Gth2PNytfTRGXkwcVsEiBUa6nnxvAvs3FU2KUTcCvsqo34SV8TuB-RDaSv5qeelDGlwdSQSunwUVW0GtNB4rGo_WlimjuwSPQUSy7AcDoLUhHNoHnSvm-GY7c4D2EZllv8hMrG1L6q4rBskiWOUc5uiixBaykwGukuv7PZXQ2zNDBZ5s1Hb'\n",
    "Markdown(decrypt(task40, \"\"))"
   ]
  },
  {
   "cell_type": "markdown",
   "metadata": {},
   "source": [
    "**(41) Python task:**"
   ]
  },
  {
   "cell_type": "code",
   "execution_count": null,
   "metadata": {},
   "outputs": [],
   "source": [
    "task41 = 'gAAAAABfSmFwiRyvAgnGRYMIkiOl2CN8BuqOxzwoc6gMgzXzUc2XoBJH0ycD8Tik20snyKv4WHCljl4lAh9ZNOKoCHZk3Cw9heVY71psS3hZb-q4QqobyTmAXxHrVQ8OeaMVNmJnYgfGIC3HLO0tT87epk90UFOBmWpCgqtPs66wEYZOLtYOMMV8ay4dqbUPxwmxEhuhMvibXJ_orhCgYEFG7vTM3oEPZGewct2NcBeBTo7MNoqwOj_txFy2J--X7CZQnnJqZ4n3sGur06Z_GnUSzEC43etvzvd4YRnY5SvsBPwOdTNZJl9ZUYLMAIm26WjWGvrPXBmI0hqrvHFAx1xSzrz22RbUMc-mRQThc5RtWVP1sGJHpnlYgFJ-0ZJBf6r-MPLlue3CE8TXLBicWw3t3PeXPp_RuSGFiIV8oBV5mx2QTxpRDBWYuGtkwWA57VazJq99pDkYEWgAiYO8cmLvujlc5WW0ZHgm3mznGbN1a7BBYkYG8_G7mfjx5eRTcOFg2l3dyv9Ark4BXttRRWAqxbgd_F_fA0_CzNyxpp9nSeE_B_D8IPtq5e3AUDbce7Hrba8lyU4_qTP-M-IzxvCfykU_j6HsI_VH6mXuGkn86IfsGO6Cm_DUMlaf4gffhXZijOW1H2pp3g_-QvHRKdZW73INRc1akI6MWnuYUJy9-GqmbcjXhK7q51kjZJg80yzVCmyvIPAdLq5z1LRQYXDa-CRqJWiPC_RJkrN_8YyaNwhF2c53_qrANEKxWkIfWdDSJ6v-1N8lEq_Ku7cos-cjOnSIa8D_RvVNmYiAG23v3pV1FJKvCJcYL4lQDGgeeLhPQpHct0RNHFmDXV_tD-qz0nYFYEqg4v-Wh9AT9p_T6i_YVbhtDrXzKJj0Wm0uJTpYgupk7sdu3s5wJONWVYisxq-trQD1UnFQht-2w6xxLAlJDBCjTvG7wblvoK25sahs-i0ez_4xlXPuy5IDEN47OFEbGZFExBOufmYqOpXeyfBdHcOxc_II1PYKuiYWCIQoijMsSZ9zTSPFBIM9x3GYumtCf7_apBw0051LFwE2rnMRlxTjXoMBk7aJZJkWEwozCefNhVjuYvKodgXxJDsMJCWE7QGWvIX2WPCsxeaFgnP_LaTdn8bsOB7eLXOHGDFkHaWEtAbVGWe7LfUyrfgL-PKvvXkNXs56D45xaCkEgPZrZGpm5rXAxVlrFKCPSY5qYCXe86JuffLYej92R6ZoHCV5-3KKI8tFdrW6mffiVQsOG6JD4psW7VarxHDOFsiVVbtaHAaTsrrbezg9-VPM5WHBIc9J-RNv2pFb3ODgXTMhOTru-OmvDjFXkStnE8LcwJqHb593XjpQGO1UTweHdQ3mvcSGw-DiNIGpO_3UPqKFY9uP1d0tn4CqHQqHjtm_D7xc4RV_BfL12y7G4wuRqPN5GJisdTwLG8xTwiCWyMdZbCQnxIVDuBidb6ESV8UwidtbQckYy449etRPdW0vBACmqy62htunJ_BKfuqe_OV1TedTU_jB35vNs596MMldzV3dVnR1J2EoPDy6JztoIPFFNYz6M29l7F_lg9XxmhAuWs4NAH_DcV8_Cp6yjLVrrcwBFeLi5m_36Xsc8dNuSe6R4SYxi182B7eMDqDxb6tdUWg9FcDXs1j5jlGh8Uf4Jx5F3GglITXTeK7LQLyNK3KB0dFdrlrpmEtFt3RaLw5WjLMnxbtsI0yZRk1VsINMADY7m1Eajo7AMnopcROz1xi1F6wgq4dsHjYBlULzYZ0tGDhFZEdr-s_thkDn4YECn0-8NitnyfGFeHPcX3ZPuzOHvZf2E1Rhg4vqoXwU97_BDs4vb3ykyeFNputDFhgpXFAC_BxVsc-y-LAB-6q2zJtK9QxKsZrP5dAxJy2LwGhzF5w318BgYF9fWLEg-UXe25E_WlQWk0Psz23PEcLEFtq41kqMV3L1K2ANRlq7ZmetMAEEHDY1DDVL2DYDGgZH5mkE8FDehx0fMd8lpdOPFpnakI5rSveO_14snqnMGDqXoq2Numkk5H_p_EZO-EMYgMQB9KNh_D6O5JcJgMW3413xWOynv5dFI5cVfPGlqfC2w6_m2SP9knwdaJuXeeiWJ_0ZKPMK1Q3PTQLHB-V3CXfUrJWS9KXXFbbSgSath-u188UVeuGRRWmuLLw5uKX2dW1dskw1SsaJdHuKn_lLSqA-BIZ4xzD20CvDtkWkIf2HmSvCkhdi0Y7cMsJ8d-1GwjqjRe-Zu8guyTyB-nlNLBJYfr2Y2yEWTTWmp1ilElepsxJDjVB6LBaBqezeDp_-HlMDQ60yqvMl6O2551f2Dpe6VziXDk8GPaYIDhdtYUOQKmNCv24aU_XEfpXWTkSXUzrl0H8FqTCmBSTDs4WeGn2irFkwX_BwqOeoOv9dnaUWJzMET1Bmd7xQ0GO2ctOnUXG2MIXjj2E2Jx36C65cn9MV4naASjqzCmEIJHVXDdEsN_xBBYuLf3Iwoj9iihq4-cEgoUG-8DW6uvg25_FJ3q28WIJpODQQs-ioxlVYFu641lVFzZY1txDyL25jScXYjas99A07Z5wj06Oz0doIWZsZpXUA9cKZ2SdsmCC7eGpfYytXNQZbz4QBz2NCT0AXXWlIuMSUuPedSiKSZeg4RQuzgyIZADybQgnIJUkc_til-Tju2sQxavInQrmcczOTAFzLof25WQIIfVx8cP41ekvCe6LE4o8ncswIhKGH9SB9ESqUgSI0lhsKHbefrZ0MCWYMR8BxkfmYj0SqhcXY3lnEikQtO78YtA-ujnQ9xtNL7PzYKh69uwJK4MO7rMd5fOfMrfXsZ8AvL7gQB2IwbkfarqzLr2MvNBPxKY6mciSswBGGBYACieyDbDKDyFp5XgWw6TD6ELeT7DrldyhPZqp08GTcN9CBmdw7CQ1LR8HSMKrWMBeZjNpT42ESfH8_KBil9AzqzH62stOo2_43DRuzD3IEoiiDUn_YO9nn1VFouraH6K1WhWHnugjj8G1H0N4Sl_pBi4kBKsN3IjgObcmTuWFra5XBZ8uIYGZV60LuWdMYUL1PFz67j-tXRZQbUhcJg9EtyFOR87y8HHm5xw5I7H1Qzw5B6kaFX65hO0kOD1CsBtQd-5F7dqhRf9nzVO5lfUQ7wlqfGLDYLDk8demPww8iS8h5_ITFpiIstazYRwkpOBQs1vm6KvyGRuZI2onCdu0-cqqePjS9Y1NmOUQWmXYxXwcff8_PYED3zj7OvznQA0n-jMY5RTS1xAFrWVro_vn1T8kxi6GUUr-nRcChv81q4_j31IxsD2pFuM_qO8lH9b_5Xdox7hbWp99eylIJuss_m_kHKyJAumi0OQpEHqLHm7I3lI1uvzvXUSZ_Af5_Rk7au7ZlpGqRbb7fJc4yGrtn4rW_jUe9Ijaf5tDVH-7JaNEcG4ShZMRi1TNMzCnphaJai20kTTav0dxpwIEpzsHvQwAdQL_WO3MyXUbNTwF91252Q0dm2sRDhhCDwNiEFrnEm4O5rgyWHHyGDOb9pNeumP6oS_LXcyfEgjtsL-Asq6UJXYa52-Zf9PjzIMMcIyBS2_4kYzFmNrXa0DtXuRgIoCnFI_1-y6-XGEuOHm7S2WBb2dkS9m4WRDUUGYXIwHjF9YLsN8u896KBEyLjSFA833dHZSiR2KK4FrVwtmT9IwcyPHH8EUmS8W0TA4-Ker35sGujVBB49GviwSSxYqV_OPN8U4kusKkTtkbUkvmiYdVfBZob7JGsxaz3QLSHy_l_hz-94O7pKJl418Va-dYkAL6eM64cGqQw4MeQwy1F95S1qVqMpIKTq3vmcpKjez7_c-0_c32HAKPxjOsZGKUlkGpEzsv7b0Qfq8ZrOEVG6JfylobK0t2ktwlIlwt0b5pEucuHgRjGddEqYpdYFEGJjMajH9iP2Kf9okSmuKlKxhO6i6EcDwqIyhAKdZ_2JiGw-dLTmdx3YdrSRftGF_gJsMQVYGOp9g4F6IteB85DhQkunvKlrN563Bobjx4ombEHT1Elv7SX-F9iP80eTqPqe1iyEraxbHWyDgc7I3s7rM1oajhMgw_GcQa5DDc1MQbO4G75eIsIh8xHqb_gfLkTsGVwy5beJa5Xr3_XE1eu26o7volXyRkCqproTywSV2P9G3Pp2QTByGDXzwt79p17y-gLUqUB9uZNwnrGLW9It_nXs9JvEV3vSuQj0jo5kPzUhGI-MBIfXxFWBJQ0nMIxHKn7l83RMHSTRTadnN1bp8JIBqcp2Ilr1PJLL6ieT8uRX_7HM3WNlZPvwYXVdyaN0eUBvdmonVdDaO_rawO8F4f-_CCH-s4YLP579muBV15Agm8BNTA0lEptGeRm7OPjxhHxLmHaClojBGVDmG4PabH-VWIYFuWtlmUGRTCEUYLijtuQFdOvS6f19G0Llt3zejQ3xYBxKMmUM_j99fZLnbhPdD98LZxdSlcyFtA7sv6UfW5iidrL0EG8fJi_PXKNi-oDyXHcd1G1MnE0MrcOi4tZqltXVgmnLa-KW6iQz4Zv12krei_EqUH6Oy3752Kr1Fqp1GKMKBE0J-LAN-oPCL8uGyOHgONWnDPihR6mUxUU0EcWVru1_Va2euTH7mC2QQVC0iCL0v3oZ6v0diuL8frYE79eo5m5z2H_7beQfXepn8p9rJFl-WMbha5H6E9P-7cyc4EIvYEaaqAh1OXHuOxd4DAYxs1IzQpQ7yQZrrM2opg7g6xdTSNPuUZgeJm2YCU-H5b4R57_T6i5Y_rtSKIm6v59IHie4cemMD3J70LYlEwXTrP7Oz1GANZCL7Rq5bvfbP7svhuR8LzlWudsxQ=='\n",
    "Markdown(decrypt(task41, \"\"))"
   ]
  },
  {
   "cell_type": "code",
   "execution_count": null,
   "metadata": {},
   "outputs": [],
   "source": []
  }
 ],
 "metadata": {
  "kernelspec": {
   "display_name": "KEMM30",
   "language": "python",
   "name": "kemm30"
  },
  "language_info": {
   "codemirror_mode": {
    "name": "ipython",
    "version": 3
   },
   "file_extension": ".py",
   "mimetype": "text/x-python",
   "name": "python",
   "nbconvert_exporter": "python",
   "pygments_lexer": "ipython3",
   "version": "3.7.3"
  }
 },
 "nbformat": 4,
 "nbformat_minor": 4
}
